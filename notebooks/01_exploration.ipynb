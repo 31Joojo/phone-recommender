{
 "cells": [
  {
   "metadata": {},
   "cell_type": "markdown",
   "source": "# Auteurs : BAUDET Quentin & LARMAILLARD-NOIREN Joris",
   "id": "dc052952e2ef7b07"
  },
  {
   "metadata": {},
   "cell_type": "markdown",
   "source": [
    "Avant de construire notre modèle de recommandation de smartphones, il est crucial de bien comprendre les caractéristiques et la structure du dataset fourni. Dans ce notebook, nous réalisons une Analyse Exploratoire des Données (EDA) afin de mieux cerner la distribution des différentes variables, détecter les éventuelles anomalies, valeurs manquantes ou incohérences, et identifier les relations potentielles entre les attributs.\n",
    "\n",
    "Cette étape nous permettra d’extraire des insights précieux pour orienter le pré-traitement des données et la sélection des fonctionnalités les plus pertinentes, en vue d’optimiser les performances du modèle de recommandation."
   ],
   "id": "7c09ad3b16111f8"
  },
  {
   "metadata": {},
   "cell_type": "markdown",
   "source": "### Chargement des données",
   "id": "51ccf3de34e9a00a"
  },
  {
   "metadata": {
    "ExecuteTime": {
     "end_time": "2025-07-18T11:00:52.833964Z",
     "start_time": "2025-07-18T11:00:52.832381Z"
    }
   },
   "cell_type": "code",
   "source": [
    "### Importation des modules\n",
    "import pandas as pd\n",
    "import matplotlib.pyplot as plt\n",
    "import seaborn as sns"
   ],
   "id": "451e0250092897c2",
   "outputs": [],
   "execution_count": 1
  },
  {
   "metadata": {
    "ExecuteTime": {
     "end_time": "2025-07-18T11:00:52.847313Z",
     "start_time": "2025-07-18T11:00:52.834499Z"
    }
   },
   "cell_type": "code",
   "source": [
    "### Chargement des données\n",
    "data = pd.read_csv('../data/raw/Smartphones_cleaned_dataset.csv')\n",
    "\n",
    "data.head()"
   ],
   "id": "90c6ea7881d2ff41",
   "outputs": [
    {
     "data": {
      "text/plain": [
       "  brand_name                      model  price  rating  has_5g  has_nfc  \\\n",
       "0    oneplus              OnePlus 11 5G  54999    89.0    True     True   \n",
       "1    oneplus  OnePlus Nord CE 2 Lite 5G  19989    81.0    True    False   \n",
       "2    samsung      Samsung Galaxy A14 5G  16499    75.0    True    False   \n",
       "3   motorola       Motorola Moto G62 5G  14999    81.0    True    False   \n",
       "4     realme         Realme 10 Pro Plus  24999    82.0    True    False   \n",
       "\n",
       "   has_ir_blaster processor_brand  num_cores  processor_speed  ...  \\\n",
       "0           False      snapdragon        8.0              3.2  ...   \n",
       "1           False      snapdragon        8.0              2.2  ...   \n",
       "2           False          exynos        8.0              2.4  ...   \n",
       "3           False      snapdragon        8.0              2.2  ...   \n",
       "4           False       dimensity        8.0              2.6  ...   \n",
       "\n",
       "   refresh_rate  num_rear_cameras  num_front_cameras       os  \\\n",
       "0           120                 3                1.0  android   \n",
       "1           120                 3                1.0  android   \n",
       "2            90                 3                1.0  android   \n",
       "3           120                 3                1.0  android   \n",
       "4           120                 3                1.0  android   \n",
       "\n",
       "   primary_camera_rear  primary_camera_front  extended_memory_available  \\\n",
       "0                 50.0                  16.0                          0   \n",
       "1                 64.0                  16.0                          1   \n",
       "2                 50.0                  13.0                          1   \n",
       "3                 50.0                  16.0                          1   \n",
       "4                108.0                  16.0                          0   \n",
       "\n",
       "   extended_upto  resolution_width resolution_height  \n",
       "0            NaN              1440              3216  \n",
       "1         1024.0              1080              2412  \n",
       "2         1024.0              1080              2408  \n",
       "3         1024.0              1080              2400  \n",
       "4            NaN              1080              2412  \n",
       "\n",
       "[5 rows x 26 columns]"
      ],
      "text/html": [
       "<div>\n",
       "<style scoped>\n",
       "    .dataframe tbody tr th:only-of-type {\n",
       "        vertical-align: middle;\n",
       "    }\n",
       "\n",
       "    .dataframe tbody tr th {\n",
       "        vertical-align: top;\n",
       "    }\n",
       "\n",
       "    .dataframe thead th {\n",
       "        text-align: right;\n",
       "    }\n",
       "</style>\n",
       "<table border=\"1\" class=\"dataframe\">\n",
       "  <thead>\n",
       "    <tr style=\"text-align: right;\">\n",
       "      <th></th>\n",
       "      <th>brand_name</th>\n",
       "      <th>model</th>\n",
       "      <th>price</th>\n",
       "      <th>rating</th>\n",
       "      <th>has_5g</th>\n",
       "      <th>has_nfc</th>\n",
       "      <th>has_ir_blaster</th>\n",
       "      <th>processor_brand</th>\n",
       "      <th>num_cores</th>\n",
       "      <th>processor_speed</th>\n",
       "      <th>...</th>\n",
       "      <th>refresh_rate</th>\n",
       "      <th>num_rear_cameras</th>\n",
       "      <th>num_front_cameras</th>\n",
       "      <th>os</th>\n",
       "      <th>primary_camera_rear</th>\n",
       "      <th>primary_camera_front</th>\n",
       "      <th>extended_memory_available</th>\n",
       "      <th>extended_upto</th>\n",
       "      <th>resolution_width</th>\n",
       "      <th>resolution_height</th>\n",
       "    </tr>\n",
       "  </thead>\n",
       "  <tbody>\n",
       "    <tr>\n",
       "      <th>0</th>\n",
       "      <td>oneplus</td>\n",
       "      <td>OnePlus 11 5G</td>\n",
       "      <td>54999</td>\n",
       "      <td>89.0</td>\n",
       "      <td>True</td>\n",
       "      <td>True</td>\n",
       "      <td>False</td>\n",
       "      <td>snapdragon</td>\n",
       "      <td>8.0</td>\n",
       "      <td>3.2</td>\n",
       "      <td>...</td>\n",
       "      <td>120</td>\n",
       "      <td>3</td>\n",
       "      <td>1.0</td>\n",
       "      <td>android</td>\n",
       "      <td>50.0</td>\n",
       "      <td>16.0</td>\n",
       "      <td>0</td>\n",
       "      <td>NaN</td>\n",
       "      <td>1440</td>\n",
       "      <td>3216</td>\n",
       "    </tr>\n",
       "    <tr>\n",
       "      <th>1</th>\n",
       "      <td>oneplus</td>\n",
       "      <td>OnePlus Nord CE 2 Lite 5G</td>\n",
       "      <td>19989</td>\n",
       "      <td>81.0</td>\n",
       "      <td>True</td>\n",
       "      <td>False</td>\n",
       "      <td>False</td>\n",
       "      <td>snapdragon</td>\n",
       "      <td>8.0</td>\n",
       "      <td>2.2</td>\n",
       "      <td>...</td>\n",
       "      <td>120</td>\n",
       "      <td>3</td>\n",
       "      <td>1.0</td>\n",
       "      <td>android</td>\n",
       "      <td>64.0</td>\n",
       "      <td>16.0</td>\n",
       "      <td>1</td>\n",
       "      <td>1024.0</td>\n",
       "      <td>1080</td>\n",
       "      <td>2412</td>\n",
       "    </tr>\n",
       "    <tr>\n",
       "      <th>2</th>\n",
       "      <td>samsung</td>\n",
       "      <td>Samsung Galaxy A14 5G</td>\n",
       "      <td>16499</td>\n",
       "      <td>75.0</td>\n",
       "      <td>True</td>\n",
       "      <td>False</td>\n",
       "      <td>False</td>\n",
       "      <td>exynos</td>\n",
       "      <td>8.0</td>\n",
       "      <td>2.4</td>\n",
       "      <td>...</td>\n",
       "      <td>90</td>\n",
       "      <td>3</td>\n",
       "      <td>1.0</td>\n",
       "      <td>android</td>\n",
       "      <td>50.0</td>\n",
       "      <td>13.0</td>\n",
       "      <td>1</td>\n",
       "      <td>1024.0</td>\n",
       "      <td>1080</td>\n",
       "      <td>2408</td>\n",
       "    </tr>\n",
       "    <tr>\n",
       "      <th>3</th>\n",
       "      <td>motorola</td>\n",
       "      <td>Motorola Moto G62 5G</td>\n",
       "      <td>14999</td>\n",
       "      <td>81.0</td>\n",
       "      <td>True</td>\n",
       "      <td>False</td>\n",
       "      <td>False</td>\n",
       "      <td>snapdragon</td>\n",
       "      <td>8.0</td>\n",
       "      <td>2.2</td>\n",
       "      <td>...</td>\n",
       "      <td>120</td>\n",
       "      <td>3</td>\n",
       "      <td>1.0</td>\n",
       "      <td>android</td>\n",
       "      <td>50.0</td>\n",
       "      <td>16.0</td>\n",
       "      <td>1</td>\n",
       "      <td>1024.0</td>\n",
       "      <td>1080</td>\n",
       "      <td>2400</td>\n",
       "    </tr>\n",
       "    <tr>\n",
       "      <th>4</th>\n",
       "      <td>realme</td>\n",
       "      <td>Realme 10 Pro Plus</td>\n",
       "      <td>24999</td>\n",
       "      <td>82.0</td>\n",
       "      <td>True</td>\n",
       "      <td>False</td>\n",
       "      <td>False</td>\n",
       "      <td>dimensity</td>\n",
       "      <td>8.0</td>\n",
       "      <td>2.6</td>\n",
       "      <td>...</td>\n",
       "      <td>120</td>\n",
       "      <td>3</td>\n",
       "      <td>1.0</td>\n",
       "      <td>android</td>\n",
       "      <td>108.0</td>\n",
       "      <td>16.0</td>\n",
       "      <td>0</td>\n",
       "      <td>NaN</td>\n",
       "      <td>1080</td>\n",
       "      <td>2412</td>\n",
       "    </tr>\n",
       "  </tbody>\n",
       "</table>\n",
       "<p>5 rows × 26 columns</p>\n",
       "</div>"
      ]
     },
     "execution_count": 2,
     "metadata": {},
     "output_type": "execute_result"
    }
   ],
   "execution_count": 2
  },
  {
   "metadata": {},
   "cell_type": "markdown",
   "source": "Dans un premier temps nous allons reformater les prix en euros : les données qui sont présentées ci-dessus viennent du marché des smartphones en Inde. Nous allons donc faire une conversion des prix, ici en roupie, en euros.",
   "id": "46f02b9e51f2bbb6"
  },
  {
   "metadata": {
    "ExecuteTime": {
     "end_time": "2025-07-18T11:00:52.855157Z",
     "start_time": "2025-07-18T11:00:52.847927Z"
    }
   },
   "cell_type": "code",
   "source": [
    "### Conversion des prix roupie -> euro\n",
    "data['price'] = data['price'] * 0.009966\n",
    "\n",
    "### Arrondi des prix\n",
    "data['price'] = data['price'].round(2)\n",
    "\n",
    "data = data.rename(columns={'price': 'price (€)'})\n",
    "\n",
    "data.head()"
   ],
   "id": "2dd852e6841fc7a6",
   "outputs": [
    {
     "data": {
      "text/plain": [
       "  brand_name                      model  price (€)  rating  has_5g  has_nfc  \\\n",
       "0    oneplus              OnePlus 11 5G     548.12    89.0    True     True   \n",
       "1    oneplus  OnePlus Nord CE 2 Lite 5G     199.21    81.0    True    False   \n",
       "2    samsung      Samsung Galaxy A14 5G     164.43    75.0    True    False   \n",
       "3   motorola       Motorola Moto G62 5G     149.48    81.0    True    False   \n",
       "4     realme         Realme 10 Pro Plus     249.14    82.0    True    False   \n",
       "\n",
       "   has_ir_blaster processor_brand  num_cores  processor_speed  ...  \\\n",
       "0           False      snapdragon        8.0              3.2  ...   \n",
       "1           False      snapdragon        8.0              2.2  ...   \n",
       "2           False          exynos        8.0              2.4  ...   \n",
       "3           False      snapdragon        8.0              2.2  ...   \n",
       "4           False       dimensity        8.0              2.6  ...   \n",
       "\n",
       "   refresh_rate  num_rear_cameras  num_front_cameras       os  \\\n",
       "0           120                 3                1.0  android   \n",
       "1           120                 3                1.0  android   \n",
       "2            90                 3                1.0  android   \n",
       "3           120                 3                1.0  android   \n",
       "4           120                 3                1.0  android   \n",
       "\n",
       "   primary_camera_rear  primary_camera_front  extended_memory_available  \\\n",
       "0                 50.0                  16.0                          0   \n",
       "1                 64.0                  16.0                          1   \n",
       "2                 50.0                  13.0                          1   \n",
       "3                 50.0                  16.0                          1   \n",
       "4                108.0                  16.0                          0   \n",
       "\n",
       "   extended_upto  resolution_width resolution_height  \n",
       "0            NaN              1440              3216  \n",
       "1         1024.0              1080              2412  \n",
       "2         1024.0              1080              2408  \n",
       "3         1024.0              1080              2400  \n",
       "4            NaN              1080              2412  \n",
       "\n",
       "[5 rows x 26 columns]"
      ],
      "text/html": [
       "<div>\n",
       "<style scoped>\n",
       "    .dataframe tbody tr th:only-of-type {\n",
       "        vertical-align: middle;\n",
       "    }\n",
       "\n",
       "    .dataframe tbody tr th {\n",
       "        vertical-align: top;\n",
       "    }\n",
       "\n",
       "    .dataframe thead th {\n",
       "        text-align: right;\n",
       "    }\n",
       "</style>\n",
       "<table border=\"1\" class=\"dataframe\">\n",
       "  <thead>\n",
       "    <tr style=\"text-align: right;\">\n",
       "      <th></th>\n",
       "      <th>brand_name</th>\n",
       "      <th>model</th>\n",
       "      <th>price (€)</th>\n",
       "      <th>rating</th>\n",
       "      <th>has_5g</th>\n",
       "      <th>has_nfc</th>\n",
       "      <th>has_ir_blaster</th>\n",
       "      <th>processor_brand</th>\n",
       "      <th>num_cores</th>\n",
       "      <th>processor_speed</th>\n",
       "      <th>...</th>\n",
       "      <th>refresh_rate</th>\n",
       "      <th>num_rear_cameras</th>\n",
       "      <th>num_front_cameras</th>\n",
       "      <th>os</th>\n",
       "      <th>primary_camera_rear</th>\n",
       "      <th>primary_camera_front</th>\n",
       "      <th>extended_memory_available</th>\n",
       "      <th>extended_upto</th>\n",
       "      <th>resolution_width</th>\n",
       "      <th>resolution_height</th>\n",
       "    </tr>\n",
       "  </thead>\n",
       "  <tbody>\n",
       "    <tr>\n",
       "      <th>0</th>\n",
       "      <td>oneplus</td>\n",
       "      <td>OnePlus 11 5G</td>\n",
       "      <td>548.12</td>\n",
       "      <td>89.0</td>\n",
       "      <td>True</td>\n",
       "      <td>True</td>\n",
       "      <td>False</td>\n",
       "      <td>snapdragon</td>\n",
       "      <td>8.0</td>\n",
       "      <td>3.2</td>\n",
       "      <td>...</td>\n",
       "      <td>120</td>\n",
       "      <td>3</td>\n",
       "      <td>1.0</td>\n",
       "      <td>android</td>\n",
       "      <td>50.0</td>\n",
       "      <td>16.0</td>\n",
       "      <td>0</td>\n",
       "      <td>NaN</td>\n",
       "      <td>1440</td>\n",
       "      <td>3216</td>\n",
       "    </tr>\n",
       "    <tr>\n",
       "      <th>1</th>\n",
       "      <td>oneplus</td>\n",
       "      <td>OnePlus Nord CE 2 Lite 5G</td>\n",
       "      <td>199.21</td>\n",
       "      <td>81.0</td>\n",
       "      <td>True</td>\n",
       "      <td>False</td>\n",
       "      <td>False</td>\n",
       "      <td>snapdragon</td>\n",
       "      <td>8.0</td>\n",
       "      <td>2.2</td>\n",
       "      <td>...</td>\n",
       "      <td>120</td>\n",
       "      <td>3</td>\n",
       "      <td>1.0</td>\n",
       "      <td>android</td>\n",
       "      <td>64.0</td>\n",
       "      <td>16.0</td>\n",
       "      <td>1</td>\n",
       "      <td>1024.0</td>\n",
       "      <td>1080</td>\n",
       "      <td>2412</td>\n",
       "    </tr>\n",
       "    <tr>\n",
       "      <th>2</th>\n",
       "      <td>samsung</td>\n",
       "      <td>Samsung Galaxy A14 5G</td>\n",
       "      <td>164.43</td>\n",
       "      <td>75.0</td>\n",
       "      <td>True</td>\n",
       "      <td>False</td>\n",
       "      <td>False</td>\n",
       "      <td>exynos</td>\n",
       "      <td>8.0</td>\n",
       "      <td>2.4</td>\n",
       "      <td>...</td>\n",
       "      <td>90</td>\n",
       "      <td>3</td>\n",
       "      <td>1.0</td>\n",
       "      <td>android</td>\n",
       "      <td>50.0</td>\n",
       "      <td>13.0</td>\n",
       "      <td>1</td>\n",
       "      <td>1024.0</td>\n",
       "      <td>1080</td>\n",
       "      <td>2408</td>\n",
       "    </tr>\n",
       "    <tr>\n",
       "      <th>3</th>\n",
       "      <td>motorola</td>\n",
       "      <td>Motorola Moto G62 5G</td>\n",
       "      <td>149.48</td>\n",
       "      <td>81.0</td>\n",
       "      <td>True</td>\n",
       "      <td>False</td>\n",
       "      <td>False</td>\n",
       "      <td>snapdragon</td>\n",
       "      <td>8.0</td>\n",
       "      <td>2.2</td>\n",
       "      <td>...</td>\n",
       "      <td>120</td>\n",
       "      <td>3</td>\n",
       "      <td>1.0</td>\n",
       "      <td>android</td>\n",
       "      <td>50.0</td>\n",
       "      <td>16.0</td>\n",
       "      <td>1</td>\n",
       "      <td>1024.0</td>\n",
       "      <td>1080</td>\n",
       "      <td>2400</td>\n",
       "    </tr>\n",
       "    <tr>\n",
       "      <th>4</th>\n",
       "      <td>realme</td>\n",
       "      <td>Realme 10 Pro Plus</td>\n",
       "      <td>249.14</td>\n",
       "      <td>82.0</td>\n",
       "      <td>True</td>\n",
       "      <td>False</td>\n",
       "      <td>False</td>\n",
       "      <td>dimensity</td>\n",
       "      <td>8.0</td>\n",
       "      <td>2.6</td>\n",
       "      <td>...</td>\n",
       "      <td>120</td>\n",
       "      <td>3</td>\n",
       "      <td>1.0</td>\n",
       "      <td>android</td>\n",
       "      <td>108.0</td>\n",
       "      <td>16.0</td>\n",
       "      <td>0</td>\n",
       "      <td>NaN</td>\n",
       "      <td>1080</td>\n",
       "      <td>2412</td>\n",
       "    </tr>\n",
       "  </tbody>\n",
       "</table>\n",
       "<p>5 rows × 26 columns</p>\n",
       "</div>"
      ]
     },
     "execution_count": 3,
     "metadata": {},
     "output_type": "execute_result"
    }
   ],
   "execution_count": 3
  },
  {
   "metadata": {},
   "cell_type": "markdown",
   "source": "**Dimension du dataset**",
   "id": "34a301128d8d6d65"
  },
  {
   "metadata": {
    "ExecuteTime": {
     "end_time": "2025-07-18T11:00:52.858051Z",
     "start_time": "2025-07-18T11:00:52.855827Z"
    }
   },
   "cell_type": "code",
   "source": "data.shape",
   "id": "1653764633fbcb9e",
   "outputs": [
    {
     "data": {
      "text/plain": [
       "(980, 26)"
      ]
     },
     "execution_count": 4,
     "metadata": {},
     "output_type": "execute_result"
    }
   ],
   "execution_count": 4
  },
  {
   "metadata": {},
   "cell_type": "markdown",
   "source": "**Colonnes du dataset**",
   "id": "2d2e7c0a17d1118d"
  },
  {
   "metadata": {
    "ExecuteTime": {
     "end_time": "2025-07-18T13:00:16.716103Z",
     "start_time": "2025-07-18T13:00:16.710050Z"
    }
   },
   "cell_type": "code",
   "source": "data.columns",
   "id": "4f8534bc214c5340",
   "outputs": [
    {
     "data": {
      "text/plain": [
       "Index(['brand_name', 'model', 'price (€)', 'rating', 'has_5g', 'has_nfc',\n",
       "       'has_ir_blaster', 'processor_brand', 'num_cores', 'processor_speed',\n",
       "       'battery_capacity', 'fast_charging_available', 'fast_charging',\n",
       "       'ram_capacity', 'internal_memory', 'screen_size', 'refresh_rate',\n",
       "       'num_rear_cameras', 'num_front_cameras', 'os', 'primary_camera_rear',\n",
       "       'primary_camera_front', 'extended_memory_available', 'extended_upto',\n",
       "       'resolution_width', 'resolution_height'],\n",
       "      dtype='object')"
      ]
     },
     "execution_count": 10,
     "metadata": {},
     "output_type": "execute_result"
    }
   ],
   "execution_count": 10
  },
  {
   "metadata": {},
   "cell_type": "markdown",
   "source": "Maintenant, nous allons passer par l'étape d'exploration des données.",
   "id": "7671dd04440f1abc"
  },
  {
   "metadata": {},
   "cell_type": "markdown",
   "source": "### EDA",
   "id": "241bd7bfaa6a0d8b"
  },
  {
   "metadata": {
    "ExecuteTime": {
     "end_time": "2025-07-18T11:00:52.887259Z",
     "start_time": "2025-07-18T11:00:52.858554Z"
    }
   },
   "cell_type": "code",
   "source": [
    "### Importation des modules\n",
    "import plotly.express as px\n",
    "import plotly.graph_objects as go"
   ],
   "id": "bb42970af3960bfb",
   "outputs": [],
   "execution_count": 5
  },
  {
   "metadata": {},
   "cell_type": "markdown",
   "source": "**Colonne des marques**",
   "id": "d62fd428a29264ee"
  },
  {
   "metadata": {
    "ExecuteTime": {
     "end_time": "2025-07-18T11:00:52.982067Z",
     "start_time": "2025-07-18T11:00:52.887920Z"
    }
   },
   "cell_type": "code",
   "source": [
    "### Distribution des marques\n",
    "fig_brand = px.histogram(data, x='brand_name', nbins=20, title=\"Distribution des marques de téléphones vendus\")\n",
    "\n",
    "fig_brand.update_layout(\n",
    "    xaxis_title='Marque',\n",
    "    yaxis_title='Nombre de smartphones',\n",
    "    bargap=0.1\n",
    ")\n",
    "\n",
    "fig_brand.show()"
   ],
   "id": "584b3d54736a7f08",
   "outputs": [
    {
     "data": {
      "application/vnd.plotly.v1+json": {
       "data": [
        {
         "bingroup": "x",
         "hovertemplate": "brand_name=%{x}<br>count=%{y}<extra></extra>",
         "legendgroup": "",
         "marker": {
          "color": "#636efa",
          "pattern": {
           "shape": ""
          }
         },
         "name": "",
         "nbinsx": 20,
         "orientation": "v",
         "showlegend": false,
         "x": [
          "oneplus",
          "oneplus",
          "samsung",
          "motorola",
          "realme",
          "samsung",
          "apple",
          "xiaomi",
          "nothing",
          "oneplus",
          "realme",
          "oppo",
          "xiaomi",
          "vivo",
          "samsung",
          "apple",
          "vivo",
          "oppo",
          "oneplus",
          "vivo",
          "oneplus",
          "vivo",
          "poco",
          "xiaomi",
          "vivo",
          "samsung",
          "oneplus",
          "apple",
          "vivo",
          "oneplus",
          "realme",
          "poco",
          "vivo",
          "apple",
          "samsung",
          "samsung",
          "oppo",
          "samsung",
          "xiaomi",
          "oppo",
          "oneplus",
          "xiaomi",
          "motorola",
          "realme",
          "vivo",
          "samsung",
          "xiaomi",
          "realme",
          "vivo",
          "samsung",
          "samsung",
          "iqoo",
          "jio",
          "motorola",
          "realme",
          "realme",
          "apple",
          "xiaomi",
          "samsung",
          "motorola",
          "xiaomi",
          "vivo",
          "samsung",
          "vivo",
          "poco",
          "vivo",
          "oneplus",
          "xiaomi",
          "samsung",
          "oppo",
          "oppo",
          "vivo",
          "iqoo",
          "oneplus",
          "xiaomi",
          "gionee",
          "apple",
          "oppo",
          "samsung",
          "xiaomi",
          "motorola",
          "samsung",
          "realme",
          "vivo",
          "samsung",
          "motorola",
          "samsung",
          "oppo",
          "xiaomi",
          "samsung",
          "vivo",
          "oneplus",
          "motorola",
          "vivo",
          "realme",
          "realme",
          "oppo",
          "iqoo",
          "vivo",
          "vivo",
          "apple",
          "xiaomi",
          "motorola",
          "realme",
          "oppo",
          "xiaomi",
          "vivo",
          "samsung",
          "vivo",
          "oneplus",
          "tecno",
          "apple",
          "xiaomi",
          "samsung",
          "xiaomi",
          "oppo",
          "samsung",
          "iqoo",
          "tesla",
          "samsung",
          "motorola",
          "oneplus",
          "google",
          "infinix",
          "samsung",
          "vivo",
          "motorola",
          "oneplus",
          "samsung",
          "google",
          "xiaomi",
          "xiaomi",
          "motorola",
          "nothing",
          "poco",
          "xiaomi",
          "apple",
          "realme",
          "oppo",
          "iqoo",
          "iqoo",
          "oppo",
          "poco",
          "jio",
          "oneplus",
          "samsung",
          "iqoo",
          "samsung",
          "xiaomi",
          "apple",
          "xiaomi",
          "motorola",
          "apple",
          "oppo",
          "infinix",
          "realme",
          "oppo",
          "realme",
          "oppo",
          "realme",
          "cola",
          "apple",
          "oppo",
          "vivo",
          "samsung",
          "xiaomi",
          "realme",
          "iqoo",
          "infinix",
          "letv",
          "xiaomi",
          "realme",
          "oppo",
          "apple",
          "iqoo",
          "xiaomi",
          "realme",
          "vivo",
          "vivo",
          "poco",
          "infinix",
          "tecno",
          "motorola",
          "samsung",
          "realme",
          "oneplus",
          "motorola",
          "ikall",
          "leeco",
          "realme",
          "duoqin",
          "samsung",
          "nokia",
          "motorola",
          "realme",
          "oppo",
          "oneplus",
          "poco",
          "samsung",
          "oppo",
          "samsung",
          "motorola",
          "xiaomi",
          "motorola",
          "poco",
          "nothing",
          "samsung",
          "tecno",
          "xiaomi",
          "apple",
          "vivo",
          "realme",
          "realme",
          "lava",
          "honor",
          "google",
          "tecno",
          "vivo",
          "samsung",
          "xiaomi",
          "realme",
          "realme",
          "motorola",
          "xiaomi",
          "vivo",
          "poco",
          "realme",
          "realme",
          "oppo",
          "oneplus",
          "iqoo",
          "vivo",
          "xiaomi",
          "oppo",
          "vivo",
          "xiaomi",
          "vivo",
          "oppo",
          "vivo",
          "xiaomi",
          "oppo",
          "samsung",
          "vivo",
          "google",
          "xiaomi",
          "oppo",
          "apple",
          "motorola",
          "nubia",
          "motorola",
          "tecno",
          "infinix",
          "iqoo",
          "xiaomi",
          "oppo",
          "samsung",
          "samsung",
          "vivo",
          "motorola",
          "poco",
          "tecno",
          "poco",
          "apple",
          "samsung",
          "infinix",
          "oppo",
          "oneplus",
          "redmi",
          "nothing",
          "samsung",
          "google",
          "infinix",
          "xiaomi",
          "xiaomi",
          "xiaomi",
          "apple",
          "tecno",
          "realme",
          "asus",
          "vivo",
          "apple",
          "xiaomi",
          "iqoo",
          "samsung",
          "xiaomi",
          "xiaomi",
          "infinix",
          "infinix",
          "apple",
          "samsung",
          "poco",
          "xiaomi",
          "realme",
          "samsung",
          "motorola",
          "oppo",
          "xiaomi",
          "xiaomi",
          "vivo",
          "xiaomi",
          "realme",
          "motorola",
          "xiaomi",
          "xiaomi",
          "samsung",
          "apple",
          "oneplus",
          "samsung",
          "oppo",
          "oneplus",
          "samsung",
          "samsung",
          "motorola",
          "itel",
          "vivo",
          "samsung",
          "poco",
          "honor",
          "iqoo",
          "samsung",
          "royole",
          "apple",
          "samsung",
          "tecno",
          "google",
          "xiaomi",
          "samsung",
          "infinix",
          "vivo",
          "oppo",
          "iqoo",
          "samsung",
          "realme",
          "poco",
          "infinix",
          "samsung",
          "motorola",
          "oneplus",
          "xiaomi",
          "xiaomi",
          "tecno",
          "samsung",
          "poco",
          "oneplus",
          "apple",
          "oppo",
          "vivo",
          "motorola",
          "motorola",
          "xiaomi",
          "jio",
          "vivo",
          "xiaomi",
          "realme",
          "vivo",
          "oppo",
          "xiaomi",
          "poco",
          "realme",
          "xiaomi",
          "iqoo",
          "apple",
          "samsung",
          "oppo",
          "oneplus",
          "tecno",
          "samsung",
          "xiaomi",
          "sony",
          "vivo",
          "poco",
          "samsung",
          "google",
          "samsung",
          "realme",
          "oppo",
          "realme",
          "samsung",
          "samsung",
          "vivo",
          "letv",
          "tecno",
          "iqoo",
          "vivo",
          "realme",
          "samsung",
          "realme",
          "realme",
          "oppo",
          "oppo",
          "samsung",
          "oukitel",
          "realme",
          "xiaomi",
          "samsung",
          "xiaomi",
          "itel",
          "realme",
          "apple",
          "poco",
          "samsung",
          "realme",
          "xiaomi",
          "vivo",
          "oppo",
          "xiaomi",
          "asus",
          "oppo",
          "realme",
          "samsung",
          "oneplus",
          "xiaomi",
          "oppo",
          "realme",
          "xiaomi",
          "redmi",
          "apple",
          "motorola",
          "motorola",
          "xiaomi",
          "honor",
          "oneplus",
          "vivo",
          "oppo",
          "xiaomi",
          "nokia",
          "xiaomi",
          "vertu",
          "samsung",
          "tecno",
          "poco",
          "blu",
          "oppo",
          "motorola",
          "xiaomi",
          "apple",
          "samsung",
          "poco",
          "xiaomi",
          "samsung",
          "motorola",
          "asus",
          "xiaomi",
          "infinix",
          "apple",
          "realme",
          "infinix",
          "vivo",
          "vivo",
          "tecno",
          "samsung",
          "redmi",
          "asus",
          "sony",
          "iqoo",
          "tecno",
          "xiaomi",
          "samsung",
          "xiaomi",
          "oppo",
          "nubia",
          "samsung",
          "nokia",
          "infinix",
          "vivo",
          "oppo",
          "xiaomi",
          "realme",
          "infinix",
          "samsung",
          "samsung",
          "xiaomi",
          "vivo",
          "lyf",
          "motorola",
          "tecno",
          "itel",
          "vivo",
          "huawei",
          "samsung",
          "iqoo",
          "sony",
          "vivo",
          "sony",
          "tecno",
          "huawei",
          "vivo",
          "nubia",
          "motorola",
          "iqoo",
          "samsung",
          "poco",
          "realme",
          "vivo",
          "honor",
          "xiaomi",
          "realme",
          "motorola",
          "samsung",
          "oneplus",
          "google",
          "xiaomi",
          "honor",
          "realme",
          "vivo",
          "samsung",
          "samsung",
          "realme",
          "poco",
          "google",
          "oneplus",
          "xiaomi",
          "samsung",
          "oppo",
          "vivo",
          "iqoo",
          "oppo",
          "realme",
          "vivo",
          "motorola",
          "realme",
          "apple",
          "vivo",
          "samsung",
          "vivo",
          "xiaomi",
          "oneplus",
          "google",
          "nokia",
          "infinix",
          "poco",
          "xiaomi",
          "zte",
          "xiaomi",
          "oppo",
          "huawei",
          "samsung",
          "lenovo",
          "vivo",
          "nokia",
          "realme",
          "realme",
          "nokia",
          "poco",
          "xiaomi",
          "iqoo",
          "realme",
          "samsung",
          "xiaomi",
          "motorola",
          "oneplus",
          "oppo",
          "poco",
          "oppo",
          "poco",
          "realme",
          "asus",
          "realme",
          "samsung",
          "nubia",
          "samsung",
          "lg",
          "xiaomi",
          "samsung",
          "vivo",
          "samsung",
          "oppo",
          "oppo",
          "oppo",
          "nokia",
          "oppo",
          "motorola",
          "oppo",
          "iqoo",
          "nokia",
          "samsung",
          "oppo",
          "xiaomi",
          "tecno",
          "realme",
          "xiaomi",
          "iqoo",
          "iqoo",
          "realme",
          "xiaomi",
          "jio",
          "xiaomi",
          "xiaomi",
          "vivo",
          "samsung",
          "vivo",
          "realme",
          "oneplus",
          "samsung",
          "apple",
          "apple",
          "sony",
          "samsung",
          "xiaomi",
          "oukitel",
          "vivo",
          "poco",
          "xiaomi",
          "realme",
          "vivo",
          "xiaomi",
          "lava",
          "realme",
          "oppo",
          "poco",
          "realme",
          "oppo",
          "vivo",
          "apple",
          "sony",
          "motorola",
          "samsung",
          "samsung",
          "xiaomi",
          "realme",
          "realme",
          "apple",
          "iqoo",
          "tecno",
          "oneplus",
          "samsung",
          "poco",
          "xiaomi",
          "vivo",
          "samsung",
          "vivo",
          "huawei",
          "micromax",
          "asus",
          "realme",
          "realme",
          "oppo",
          "xiaomi",
          "apple",
          "letv",
          "oneplus",
          "vivo",
          "oppo",
          "vivo",
          "infinix",
          "realme",
          "itel",
          "oppo",
          "xiaomi",
          "honor",
          "tecno",
          "infinix",
          "realme",
          "samsung",
          "tecno",
          "xiaomi",
          "xiaomi",
          "xiaomi",
          "xiaomi",
          "xiaomi",
          "lg",
          "motorola",
          "lg",
          "samsung",
          "samsung",
          "iqoo",
          "samsung",
          "vivo",
          "vivo",
          "itel",
          "xiaomi",
          "poco",
          "oppo",
          "samsung",
          "infinix",
          "honor",
          "infinix",
          "sony",
          "nubia",
          "nokia",
          "xiaomi",
          "oppo",
          "apple",
          "vivo",
          "oppo",
          "samsung",
          "oppo",
          "oppo",
          "oneplus",
          "gionee",
          "poco",
          "oppo",
          "motorola",
          "samsung",
          "samsung",
          "vivo",
          "vivo",
          "vivo",
          "vivo",
          "asus",
          "motorola",
          "xiaomi",
          "huawei",
          "realme",
          "huawei",
          "iqoo",
          "apple",
          "infinix",
          "tecno",
          "oppo",
          "vivo",
          "xiaomi",
          "huawei",
          "tecno",
          "huawei",
          "xiaomi",
          "nokia",
          "realme",
          "oppo",
          "motorola",
          "oppo",
          "poco",
          "itel",
          "vivo",
          "xiaomi",
          "vivo",
          "samsung",
          "vivo",
          "oppo",
          "realme",
          "vivo",
          "xiaomi",
          "poco",
          "ikall",
          "xiaomi",
          "vivo",
          "honor",
          "apple",
          "tecno",
          "apple",
          "google",
          "vivo",
          "motorola",
          "motorola",
          "vivo",
          "realme",
          "vivo",
          "honor",
          "samsung",
          "samsung",
          "vivo",
          "xiaomi",
          "oppo",
          "tecno",
          "vivo",
          "xiaomi",
          "apple",
          "vivo",
          "vivo",
          "samsung",
          "xiaomi",
          "micromax",
          "samsung",
          "oppo",
          "xiaomi",
          "xiaomi",
          "realme",
          "oppo",
          "oppo",
          "itel",
          "xiaomi",
          "samsung",
          "poco",
          "samsung",
          "realme",
          "huawei",
          "vivo",
          "vivo",
          "vivo",
          "vivo",
          "samsung",
          "realme",
          "vivo",
          "samsung",
          "leitz",
          "xiaomi",
          "infinix",
          "realme",
          "apple",
          "apple",
          "xiaomi",
          "xiaomi",
          "nokia",
          "oneplus",
          "tecno",
          "realme",
          "xiaomi",
          "oppo",
          "infinix",
          "samsung",
          "samsung",
          "vivo",
          "poco",
          "infinix",
          "samsung",
          "vivo",
          "xiaomi",
          "xiaomi",
          "realme",
          "vivo",
          "vivo",
          "gionee",
          "xiaomi",
          "apple",
          "infinix",
          "realme",
          "xiaomi",
          "cat",
          "xiaomi",
          "realme",
          "xiaomi",
          "lenovo",
          "samsung",
          "realme",
          "apple",
          "xiaomi",
          "realme",
          "samsung",
          "oppo",
          "oppo",
          "sony",
          "vivo",
          "huawei",
          "vivo",
          "vivo",
          "xiaomi",
          "xiaomi",
          "motorola",
          "google",
          "samsung",
          "samsung",
          "huawei",
          "xiaomi",
          "doogee",
          "huawei",
          "iqoo",
          "vivo",
          "poco",
          "nokia",
          "tecno",
          "vivo",
          "huawei",
          "huawei",
          "samsung",
          "infinix",
          "oneplus",
          "realme",
          "oneplus",
          "iqoo",
          "xiaomi",
          "oppo",
          "royole",
          "tecno",
          "tecno",
          "tecno",
          "realme",
          "sony",
          "realme",
          "tecno",
          "poco",
          "motorola",
          "oneplus",
          "realme",
          "realme",
          "itel",
          "samsung",
          "oppo",
          "oneplus",
          "samsung",
          "oneplus",
          "apple",
          "apple",
          "oppo",
          "xiaomi",
          "oppo",
          "realme",
          "samsung",
          "xiaomi",
          "xiaomi",
          "realme",
          "oppo",
          "lyf",
          "apple",
          "vivo",
          "lava",
          "tecno",
          "oppo",
          "motorola",
          "xiaomi",
          "infinix",
          "tecno",
          "zte",
          "honor",
          "xiaomi",
          "tcl",
          "samsung",
          "nothing",
          "motorola",
          "oneplus",
          "realme",
          "samsung",
          "samsung",
          "infinix",
          "poco",
          "iqoo",
          "vivo",
          "vivo",
          "oppo",
          "tecno",
          "iqoo",
          "infinix",
          "xiaomi",
          "samsung",
          "apple",
          "nubia",
          "micromax",
          "nokia",
          "vivo",
          "oppo",
          "poco",
          "honor",
          "oppo",
          "realme",
          "iqoo",
          "realme",
          "samsung",
          "realme",
          "google",
          "samsung",
          "samsung",
          "samsung",
          "xiaomi",
          "vivo",
          "oppo",
          "realme",
          "itel",
          "realme",
          "xiaomi",
          "vivo",
          "oneplus",
          "sharp",
          "huawei",
          "samsung",
          "realme",
          "huawei",
          "samsung",
          "samsung",
          "vivo",
          "poco",
          "blackview",
          "honor",
          "oppo",
          "doogee",
          "lava",
          "motorola",
          "ikall",
          "oukitel",
          "xiaomi",
          "motorola",
          "xiaomi",
          "realme",
          "oppo",
          "itel",
          "google",
          "vivo",
          "motorola",
          "honor",
          "poco",
          "motorola",
          "samsung"
         ],
         "xaxis": "x",
         "yaxis": "y",
         "type": "histogram"
        }
       ],
       "layout": {
        "template": {
         "data": {
          "histogram2dcontour": [
           {
            "type": "histogram2dcontour",
            "colorbar": {
             "outlinewidth": 0,
             "ticks": ""
            },
            "colorscale": [
             [
              0.0,
              "#0d0887"
             ],
             [
              0.1111111111111111,
              "#46039f"
             ],
             [
              0.2222222222222222,
              "#7201a8"
             ],
             [
              0.3333333333333333,
              "#9c179e"
             ],
             [
              0.4444444444444444,
              "#bd3786"
             ],
             [
              0.5555555555555556,
              "#d8576b"
             ],
             [
              0.6666666666666666,
              "#ed7953"
             ],
             [
              0.7777777777777778,
              "#fb9f3a"
             ],
             [
              0.8888888888888888,
              "#fdca26"
             ],
             [
              1.0,
              "#f0f921"
             ]
            ]
           }
          ],
          "choropleth": [
           {
            "type": "choropleth",
            "colorbar": {
             "outlinewidth": 0,
             "ticks": ""
            }
           }
          ],
          "histogram2d": [
           {
            "type": "histogram2d",
            "colorbar": {
             "outlinewidth": 0,
             "ticks": ""
            },
            "colorscale": [
             [
              0.0,
              "#0d0887"
             ],
             [
              0.1111111111111111,
              "#46039f"
             ],
             [
              0.2222222222222222,
              "#7201a8"
             ],
             [
              0.3333333333333333,
              "#9c179e"
             ],
             [
              0.4444444444444444,
              "#bd3786"
             ],
             [
              0.5555555555555556,
              "#d8576b"
             ],
             [
              0.6666666666666666,
              "#ed7953"
             ],
             [
              0.7777777777777778,
              "#fb9f3a"
             ],
             [
              0.8888888888888888,
              "#fdca26"
             ],
             [
              1.0,
              "#f0f921"
             ]
            ]
           }
          ],
          "heatmap": [
           {
            "type": "heatmap",
            "colorbar": {
             "outlinewidth": 0,
             "ticks": ""
            },
            "colorscale": [
             [
              0.0,
              "#0d0887"
             ],
             [
              0.1111111111111111,
              "#46039f"
             ],
             [
              0.2222222222222222,
              "#7201a8"
             ],
             [
              0.3333333333333333,
              "#9c179e"
             ],
             [
              0.4444444444444444,
              "#bd3786"
             ],
             [
              0.5555555555555556,
              "#d8576b"
             ],
             [
              0.6666666666666666,
              "#ed7953"
             ],
             [
              0.7777777777777778,
              "#fb9f3a"
             ],
             [
              0.8888888888888888,
              "#fdca26"
             ],
             [
              1.0,
              "#f0f921"
             ]
            ]
           }
          ],
          "contourcarpet": [
           {
            "type": "contourcarpet",
            "colorbar": {
             "outlinewidth": 0,
             "ticks": ""
            }
           }
          ],
          "contour": [
           {
            "type": "contour",
            "colorbar": {
             "outlinewidth": 0,
             "ticks": ""
            },
            "colorscale": [
             [
              0.0,
              "#0d0887"
             ],
             [
              0.1111111111111111,
              "#46039f"
             ],
             [
              0.2222222222222222,
              "#7201a8"
             ],
             [
              0.3333333333333333,
              "#9c179e"
             ],
             [
              0.4444444444444444,
              "#bd3786"
             ],
             [
              0.5555555555555556,
              "#d8576b"
             ],
             [
              0.6666666666666666,
              "#ed7953"
             ],
             [
              0.7777777777777778,
              "#fb9f3a"
             ],
             [
              0.8888888888888888,
              "#fdca26"
             ],
             [
              1.0,
              "#f0f921"
             ]
            ]
           }
          ],
          "surface": [
           {
            "type": "surface",
            "colorbar": {
             "outlinewidth": 0,
             "ticks": ""
            },
            "colorscale": [
             [
              0.0,
              "#0d0887"
             ],
             [
              0.1111111111111111,
              "#46039f"
             ],
             [
              0.2222222222222222,
              "#7201a8"
             ],
             [
              0.3333333333333333,
              "#9c179e"
             ],
             [
              0.4444444444444444,
              "#bd3786"
             ],
             [
              0.5555555555555556,
              "#d8576b"
             ],
             [
              0.6666666666666666,
              "#ed7953"
             ],
             [
              0.7777777777777778,
              "#fb9f3a"
             ],
             [
              0.8888888888888888,
              "#fdca26"
             ],
             [
              1.0,
              "#f0f921"
             ]
            ]
           }
          ],
          "mesh3d": [
           {
            "type": "mesh3d",
            "colorbar": {
             "outlinewidth": 0,
             "ticks": ""
            }
           }
          ],
          "scatter": [
           {
            "marker": {
             "line": {
              "color": "#283442"
             }
            },
            "type": "scatter"
           }
          ],
          "parcoords": [
           {
            "type": "parcoords",
            "line": {
             "colorbar": {
              "outlinewidth": 0,
              "ticks": ""
             }
            }
           }
          ],
          "scatterpolargl": [
           {
            "type": "scatterpolargl",
            "marker": {
             "colorbar": {
              "outlinewidth": 0,
              "ticks": ""
             }
            }
           }
          ],
          "bar": [
           {
            "error_x": {
             "color": "#f2f5fa"
            },
            "error_y": {
             "color": "#f2f5fa"
            },
            "marker": {
             "line": {
              "color": "rgb(17,17,17)",
              "width": 0.5
             },
             "pattern": {
              "fillmode": "overlay",
              "size": 10,
              "solidity": 0.2
             }
            },
            "type": "bar"
           }
          ],
          "scattergeo": [
           {
            "type": "scattergeo",
            "marker": {
             "colorbar": {
              "outlinewidth": 0,
              "ticks": ""
             }
            }
           }
          ],
          "scatterpolar": [
           {
            "type": "scatterpolar",
            "marker": {
             "colorbar": {
              "outlinewidth": 0,
              "ticks": ""
             }
            }
           }
          ],
          "histogram": [
           {
            "marker": {
             "pattern": {
              "fillmode": "overlay",
              "size": 10,
              "solidity": 0.2
             }
            },
            "type": "histogram"
           }
          ],
          "scattergl": [
           {
            "marker": {
             "line": {
              "color": "#283442"
             }
            },
            "type": "scattergl"
           }
          ],
          "scatter3d": [
           {
            "type": "scatter3d",
            "line": {
             "colorbar": {
              "outlinewidth": 0,
              "ticks": ""
             }
            },
            "marker": {
             "colorbar": {
              "outlinewidth": 0,
              "ticks": ""
             }
            }
           }
          ],
          "scattermap": [
           {
            "type": "scattermap",
            "marker": {
             "colorbar": {
              "outlinewidth": 0,
              "ticks": ""
             }
            }
           }
          ],
          "scattermapbox": [
           {
            "type": "scattermapbox",
            "marker": {
             "colorbar": {
              "outlinewidth": 0,
              "ticks": ""
             }
            }
           }
          ],
          "scatterternary": [
           {
            "type": "scatterternary",
            "marker": {
             "colorbar": {
              "outlinewidth": 0,
              "ticks": ""
             }
            }
           }
          ],
          "scattercarpet": [
           {
            "type": "scattercarpet",
            "marker": {
             "colorbar": {
              "outlinewidth": 0,
              "ticks": ""
             }
            }
           }
          ],
          "carpet": [
           {
            "aaxis": {
             "endlinecolor": "#A2B1C6",
             "gridcolor": "#506784",
             "linecolor": "#506784",
             "minorgridcolor": "#506784",
             "startlinecolor": "#A2B1C6"
            },
            "baxis": {
             "endlinecolor": "#A2B1C6",
             "gridcolor": "#506784",
             "linecolor": "#506784",
             "minorgridcolor": "#506784",
             "startlinecolor": "#A2B1C6"
            },
            "type": "carpet"
           }
          ],
          "table": [
           {
            "cells": {
             "fill": {
              "color": "#506784"
             },
             "line": {
              "color": "rgb(17,17,17)"
             }
            },
            "header": {
             "fill": {
              "color": "#2a3f5f"
             },
             "line": {
              "color": "rgb(17,17,17)"
             }
            },
            "type": "table"
           }
          ],
          "barpolar": [
           {
            "marker": {
             "line": {
              "color": "rgb(17,17,17)",
              "width": 0.5
             },
             "pattern": {
              "fillmode": "overlay",
              "size": 10,
              "solidity": 0.2
             }
            },
            "type": "barpolar"
           }
          ],
          "pie": [
           {
            "automargin": true,
            "type": "pie"
           }
          ]
         },
         "layout": {
          "autotypenumbers": "strict",
          "colorway": [
           "#636efa",
           "#EF553B",
           "#00cc96",
           "#ab63fa",
           "#FFA15A",
           "#19d3f3",
           "#FF6692",
           "#B6E880",
           "#FF97FF",
           "#FECB52"
          ],
          "font": {
           "color": "#f2f5fa"
          },
          "hovermode": "closest",
          "hoverlabel": {
           "align": "left"
          },
          "paper_bgcolor": "rgb(17,17,17)",
          "plot_bgcolor": "rgb(17,17,17)",
          "polar": {
           "bgcolor": "rgb(17,17,17)",
           "angularaxis": {
            "gridcolor": "#506784",
            "linecolor": "#506784",
            "ticks": ""
           },
           "radialaxis": {
            "gridcolor": "#506784",
            "linecolor": "#506784",
            "ticks": ""
           }
          },
          "ternary": {
           "bgcolor": "rgb(17,17,17)",
           "aaxis": {
            "gridcolor": "#506784",
            "linecolor": "#506784",
            "ticks": ""
           },
           "baxis": {
            "gridcolor": "#506784",
            "linecolor": "#506784",
            "ticks": ""
           },
           "caxis": {
            "gridcolor": "#506784",
            "linecolor": "#506784",
            "ticks": ""
           }
          },
          "coloraxis": {
           "colorbar": {
            "outlinewidth": 0,
            "ticks": ""
           }
          },
          "colorscale": {
           "sequential": [
            [
             0.0,
             "#0d0887"
            ],
            [
             0.1111111111111111,
             "#46039f"
            ],
            [
             0.2222222222222222,
             "#7201a8"
            ],
            [
             0.3333333333333333,
             "#9c179e"
            ],
            [
             0.4444444444444444,
             "#bd3786"
            ],
            [
             0.5555555555555556,
             "#d8576b"
            ],
            [
             0.6666666666666666,
             "#ed7953"
            ],
            [
             0.7777777777777778,
             "#fb9f3a"
            ],
            [
             0.8888888888888888,
             "#fdca26"
            ],
            [
             1.0,
             "#f0f921"
            ]
           ],
           "sequentialminus": [
            [
             0.0,
             "#0d0887"
            ],
            [
             0.1111111111111111,
             "#46039f"
            ],
            [
             0.2222222222222222,
             "#7201a8"
            ],
            [
             0.3333333333333333,
             "#9c179e"
            ],
            [
             0.4444444444444444,
             "#bd3786"
            ],
            [
             0.5555555555555556,
             "#d8576b"
            ],
            [
             0.6666666666666666,
             "#ed7953"
            ],
            [
             0.7777777777777778,
             "#fb9f3a"
            ],
            [
             0.8888888888888888,
             "#fdca26"
            ],
            [
             1.0,
             "#f0f921"
            ]
           ],
           "diverging": [
            [
             0,
             "#8e0152"
            ],
            [
             0.1,
             "#c51b7d"
            ],
            [
             0.2,
             "#de77ae"
            ],
            [
             0.3,
             "#f1b6da"
            ],
            [
             0.4,
             "#fde0ef"
            ],
            [
             0.5,
             "#f7f7f7"
            ],
            [
             0.6,
             "#e6f5d0"
            ],
            [
             0.7,
             "#b8e186"
            ],
            [
             0.8,
             "#7fbc41"
            ],
            [
             0.9,
             "#4d9221"
            ],
            [
             1,
             "#276419"
            ]
           ]
          },
          "xaxis": {
           "gridcolor": "#283442",
           "linecolor": "#506784",
           "ticks": "",
           "title": {
            "standoff": 15
           },
           "zerolinecolor": "#283442",
           "automargin": true,
           "zerolinewidth": 2
          },
          "yaxis": {
           "gridcolor": "#283442",
           "linecolor": "#506784",
           "ticks": "",
           "title": {
            "standoff": 15
           },
           "zerolinecolor": "#283442",
           "automargin": true,
           "zerolinewidth": 2
          },
          "scene": {
           "xaxis": {
            "backgroundcolor": "rgb(17,17,17)",
            "gridcolor": "#506784",
            "linecolor": "#506784",
            "showbackground": true,
            "ticks": "",
            "zerolinecolor": "#C8D4E3",
            "gridwidth": 2
           },
           "yaxis": {
            "backgroundcolor": "rgb(17,17,17)",
            "gridcolor": "#506784",
            "linecolor": "#506784",
            "showbackground": true,
            "ticks": "",
            "zerolinecolor": "#C8D4E3",
            "gridwidth": 2
           },
           "zaxis": {
            "backgroundcolor": "rgb(17,17,17)",
            "gridcolor": "#506784",
            "linecolor": "#506784",
            "showbackground": true,
            "ticks": "",
            "zerolinecolor": "#C8D4E3",
            "gridwidth": 2
           }
          },
          "shapedefaults": {
           "line": {
            "color": "#f2f5fa"
           }
          },
          "annotationdefaults": {
           "arrowcolor": "#f2f5fa",
           "arrowhead": 0,
           "arrowwidth": 1
          },
          "geo": {
           "bgcolor": "rgb(17,17,17)",
           "landcolor": "rgb(17,17,17)",
           "subunitcolor": "#506784",
           "showland": true,
           "showlakes": true,
           "lakecolor": "rgb(17,17,17)"
          },
          "title": {
           "x": 0.05
          },
          "updatemenudefaults": {
           "bgcolor": "#506784",
           "borderwidth": 0
          },
          "sliderdefaults": {
           "bgcolor": "#C8D4E3",
           "borderwidth": 1,
           "bordercolor": "rgb(17,17,17)",
           "tickwidth": 0
          },
          "mapbox": {
           "style": "dark"
          }
         }
        },
        "xaxis": {
         "anchor": "y",
         "domain": [
          0.0,
          1.0
         ],
         "title": {
          "text": "Marque"
         }
        },
        "yaxis": {
         "anchor": "x",
         "domain": [
          0.0,
          1.0
         ],
         "title": {
          "text": "Nombre de smartphones"
         }
        },
        "legend": {
         "tracegroupgap": 0
        },
        "title": {
         "text": "Distribution des marques de téléphones vendus"
        },
        "barmode": "relative",
        "bargap": 0.1
       },
       "config": {
        "plotlyServerURL": "https://plot.ly"
       }
      }
     },
     "metadata": {},
     "output_type": "display_data"
    }
   ],
   "execution_count": 6
  },
  {
   "metadata": {},
   "cell_type": "markdown",
   "source": [
    "* Marques les plus fréquentes :\n",
    "    - Xiaomi, OnePlus, et Samsung sont les plus représentées, avec environ 130 modèles ou variantes chacun.\n",
    "    - Apple, Realme, Motorola, Infinix, Vivo, Oppo et Nokia suivent avec une forte présence.\n",
    "* Longue traîne de petites marques :\n",
    "    - De nombreuses marques (plus de 20) sont représentées de façon marginale (moins de 10 modèles), voire parfois très peu présentes.\n"
   ],
   "id": "e17fa75dbd9dc830"
  },
  {
   "metadata": {},
   "cell_type": "markdown",
   "source": [
    "**Colonnes des prix**\n",
    "\n",
    "Ici, nous affichons la distribution des prix des smartphones."
   ],
   "id": "a77786c84b481339"
  },
  {
   "metadata": {
    "ExecuteTime": {
     "end_time": "2025-07-18T11:00:52.999807Z",
     "start_time": "2025-07-18T11:00:52.982650Z"
    }
   },
   "cell_type": "code",
   "source": [
    "### Distribution des prix\n",
    "fig_price = px.histogram(data, x='price (€)', nbins=20, title='Distribution des prix des smartphones')\n",
    "\n",
    "fig_price.update_layout(\n",
    "    xaxis_title='Prix (€)',\n",
    "    yaxis_title='Nombre de smartphones',\n",
    "    bargap=0.1\n",
    ")\n",
    "\n",
    "fig_price.show()"
   ],
   "id": "9d950dded901908f",
   "outputs": [
    {
     "data": {
      "application/vnd.plotly.v1+json": {
       "data": [
        {
         "bingroup": "x",
         "hovertemplate": "price (€)=%{x}<br>count=%{y}<extra></extra>",
         "legendgroup": "",
         "marker": {
          "color": "#636efa",
          "pattern": {
           "shape": ""
          }
         },
         "name": "",
         "nbinsx": 20,
         "orientation": "v",
         "showlegend": false,
         "x": {
          "dtype": "f8",
          "bdata": "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"
         },
         "xaxis": "x",
         "yaxis": "y",
         "type": "histogram"
        }
       ],
       "layout": {
        "template": {
         "data": {
          "histogram2dcontour": [
           {
            "type": "histogram2dcontour",
            "colorbar": {
             "outlinewidth": 0,
             "ticks": ""
            },
            "colorscale": [
             [
              0.0,
              "#0d0887"
             ],
             [
              0.1111111111111111,
              "#46039f"
             ],
             [
              0.2222222222222222,
              "#7201a8"
             ],
             [
              0.3333333333333333,
              "#9c179e"
             ],
             [
              0.4444444444444444,
              "#bd3786"
             ],
             [
              0.5555555555555556,
              "#d8576b"
             ],
             [
              0.6666666666666666,
              "#ed7953"
             ],
             [
              0.7777777777777778,
              "#fb9f3a"
             ],
             [
              0.8888888888888888,
              "#fdca26"
             ],
             [
              1.0,
              "#f0f921"
             ]
            ]
           }
          ],
          "choropleth": [
           {
            "type": "choropleth",
            "colorbar": {
             "outlinewidth": 0,
             "ticks": ""
            }
           }
          ],
          "histogram2d": [
           {
            "type": "histogram2d",
            "colorbar": {
             "outlinewidth": 0,
             "ticks": ""
            },
            "colorscale": [
             [
              0.0,
              "#0d0887"
             ],
             [
              0.1111111111111111,
              "#46039f"
             ],
             [
              0.2222222222222222,
              "#7201a8"
             ],
             [
              0.3333333333333333,
              "#9c179e"
             ],
             [
              0.4444444444444444,
              "#bd3786"
             ],
             [
              0.5555555555555556,
              "#d8576b"
             ],
             [
              0.6666666666666666,
              "#ed7953"
             ],
             [
              0.7777777777777778,
              "#fb9f3a"
             ],
             [
              0.8888888888888888,
              "#fdca26"
             ],
             [
              1.0,
              "#f0f921"
             ]
            ]
           }
          ],
          "heatmap": [
           {
            "type": "heatmap",
            "colorbar": {
             "outlinewidth": 0,
             "ticks": ""
            },
            "colorscale": [
             [
              0.0,
              "#0d0887"
             ],
             [
              0.1111111111111111,
              "#46039f"
             ],
             [
              0.2222222222222222,
              "#7201a8"
             ],
             [
              0.3333333333333333,
              "#9c179e"
             ],
             [
              0.4444444444444444,
              "#bd3786"
             ],
             [
              0.5555555555555556,
              "#d8576b"
             ],
             [
              0.6666666666666666,
              "#ed7953"
             ],
             [
              0.7777777777777778,
              "#fb9f3a"
             ],
             [
              0.8888888888888888,
              "#fdca26"
             ],
             [
              1.0,
              "#f0f921"
             ]
            ]
           }
          ],
          "contourcarpet": [
           {
            "type": "contourcarpet",
            "colorbar": {
             "outlinewidth": 0,
             "ticks": ""
            }
           }
          ],
          "contour": [
           {
            "type": "contour",
            "colorbar": {
             "outlinewidth": 0,
             "ticks": ""
            },
            "colorscale": [
             [
              0.0,
              "#0d0887"
             ],
             [
              0.1111111111111111,
              "#46039f"
             ],
             [
              0.2222222222222222,
              "#7201a8"
             ],
             [
              0.3333333333333333,
              "#9c179e"
             ],
             [
              0.4444444444444444,
              "#bd3786"
             ],
             [
              0.5555555555555556,
              "#d8576b"
             ],
             [
              0.6666666666666666,
              "#ed7953"
             ],
             [
              0.7777777777777778,
              "#fb9f3a"
             ],
             [
              0.8888888888888888,
              "#fdca26"
             ],
             [
              1.0,
              "#f0f921"
             ]
            ]
           }
          ],
          "surface": [
           {
            "type": "surface",
            "colorbar": {
             "outlinewidth": 0,
             "ticks": ""
            },
            "colorscale": [
             [
              0.0,
              "#0d0887"
             ],
             [
              0.1111111111111111,
              "#46039f"
             ],
             [
              0.2222222222222222,
              "#7201a8"
             ],
             [
              0.3333333333333333,
              "#9c179e"
             ],
             [
              0.4444444444444444,
              "#bd3786"
             ],
             [
              0.5555555555555556,
              "#d8576b"
             ],
             [
              0.6666666666666666,
              "#ed7953"
             ],
             [
              0.7777777777777778,
              "#fb9f3a"
             ],
             [
              0.8888888888888888,
              "#fdca26"
             ],
             [
              1.0,
              "#f0f921"
             ]
            ]
           }
          ],
          "mesh3d": [
           {
            "type": "mesh3d",
            "colorbar": {
             "outlinewidth": 0,
             "ticks": ""
            }
           }
          ],
          "scatter": [
           {
            "marker": {
             "line": {
              "color": "#283442"
             }
            },
            "type": "scatter"
           }
          ],
          "parcoords": [
           {
            "type": "parcoords",
            "line": {
             "colorbar": {
              "outlinewidth": 0,
              "ticks": ""
             }
            }
           }
          ],
          "scatterpolargl": [
           {
            "type": "scatterpolargl",
            "marker": {
             "colorbar": {
              "outlinewidth": 0,
              "ticks": ""
             }
            }
           }
          ],
          "bar": [
           {
            "error_x": {
             "color": "#f2f5fa"
            },
            "error_y": {
             "color": "#f2f5fa"
            },
            "marker": {
             "line": {
              "color": "rgb(17,17,17)",
              "width": 0.5
             },
             "pattern": {
              "fillmode": "overlay",
              "size": 10,
              "solidity": 0.2
             }
            },
            "type": "bar"
           }
          ],
          "scattergeo": [
           {
            "type": "scattergeo",
            "marker": {
             "colorbar": {
              "outlinewidth": 0,
              "ticks": ""
             }
            }
           }
          ],
          "scatterpolar": [
           {
            "type": "scatterpolar",
            "marker": {
             "colorbar": {
              "outlinewidth": 0,
              "ticks": ""
             }
            }
           }
          ],
          "histogram": [
           {
            "marker": {
             "pattern": {
              "fillmode": "overlay",
              "size": 10,
              "solidity": 0.2
             }
            },
            "type": "histogram"
           }
          ],
          "scattergl": [
           {
            "marker": {
             "line": {
              "color": "#283442"
             }
            },
            "type": "scattergl"
           }
          ],
          "scatter3d": [
           {
            "type": "scatter3d",
            "line": {
             "colorbar": {
              "outlinewidth": 0,
              "ticks": ""
             }
            },
            "marker": {
             "colorbar": {
              "outlinewidth": 0,
              "ticks": ""
             }
            }
           }
          ],
          "scattermap": [
           {
            "type": "scattermap",
            "marker": {
             "colorbar": {
              "outlinewidth": 0,
              "ticks": ""
             }
            }
           }
          ],
          "scattermapbox": [
           {
            "type": "scattermapbox",
            "marker": {
             "colorbar": {
              "outlinewidth": 0,
              "ticks": ""
             }
            }
           }
          ],
          "scatterternary": [
           {
            "type": "scatterternary",
            "marker": {
             "colorbar": {
              "outlinewidth": 0,
              "ticks": ""
             }
            }
           }
          ],
          "scattercarpet": [
           {
            "type": "scattercarpet",
            "marker": {
             "colorbar": {
              "outlinewidth": 0,
              "ticks": ""
             }
            }
           }
          ],
          "carpet": [
           {
            "aaxis": {
             "endlinecolor": "#A2B1C6",
             "gridcolor": "#506784",
             "linecolor": "#506784",
             "minorgridcolor": "#506784",
             "startlinecolor": "#A2B1C6"
            },
            "baxis": {
             "endlinecolor": "#A2B1C6",
             "gridcolor": "#506784",
             "linecolor": "#506784",
             "minorgridcolor": "#506784",
             "startlinecolor": "#A2B1C6"
            },
            "type": "carpet"
           }
          ],
          "table": [
           {
            "cells": {
             "fill": {
              "color": "#506784"
             },
             "line": {
              "color": "rgb(17,17,17)"
             }
            },
            "header": {
             "fill": {
              "color": "#2a3f5f"
             },
             "line": {
              "color": "rgb(17,17,17)"
             }
            },
            "type": "table"
           }
          ],
          "barpolar": [
           {
            "marker": {
             "line": {
              "color": "rgb(17,17,17)",
              "width": 0.5
             },
             "pattern": {
              "fillmode": "overlay",
              "size": 10,
              "solidity": 0.2
             }
            },
            "type": "barpolar"
           }
          ],
          "pie": [
           {
            "automargin": true,
            "type": "pie"
           }
          ]
         },
         "layout": {
          "autotypenumbers": "strict",
          "colorway": [
           "#636efa",
           "#EF553B",
           "#00cc96",
           "#ab63fa",
           "#FFA15A",
           "#19d3f3",
           "#FF6692",
           "#B6E880",
           "#FF97FF",
           "#FECB52"
          ],
          "font": {
           "color": "#f2f5fa"
          },
          "hovermode": "closest",
          "hoverlabel": {
           "align": "left"
          },
          "paper_bgcolor": "rgb(17,17,17)",
          "plot_bgcolor": "rgb(17,17,17)",
          "polar": {
           "bgcolor": "rgb(17,17,17)",
           "angularaxis": {
            "gridcolor": "#506784",
            "linecolor": "#506784",
            "ticks": ""
           },
           "radialaxis": {
            "gridcolor": "#506784",
            "linecolor": "#506784",
            "ticks": ""
           }
          },
          "ternary": {
           "bgcolor": "rgb(17,17,17)",
           "aaxis": {
            "gridcolor": "#506784",
            "linecolor": "#506784",
            "ticks": ""
           },
           "baxis": {
            "gridcolor": "#506784",
            "linecolor": "#506784",
            "ticks": ""
           },
           "caxis": {
            "gridcolor": "#506784",
            "linecolor": "#506784",
            "ticks": ""
           }
          },
          "coloraxis": {
           "colorbar": {
            "outlinewidth": 0,
            "ticks": ""
           }
          },
          "colorscale": {
           "sequential": [
            [
             0.0,
             "#0d0887"
            ],
            [
             0.1111111111111111,
             "#46039f"
            ],
            [
             0.2222222222222222,
             "#7201a8"
            ],
            [
             0.3333333333333333,
             "#9c179e"
            ],
            [
             0.4444444444444444,
             "#bd3786"
            ],
            [
             0.5555555555555556,
             "#d8576b"
            ],
            [
             0.6666666666666666,
             "#ed7953"
            ],
            [
             0.7777777777777778,
             "#fb9f3a"
            ],
            [
             0.8888888888888888,
             "#fdca26"
            ],
            [
             1.0,
             "#f0f921"
            ]
           ],
           "sequentialminus": [
            [
             0.0,
             "#0d0887"
            ],
            [
             0.1111111111111111,
             "#46039f"
            ],
            [
             0.2222222222222222,
             "#7201a8"
            ],
            [
             0.3333333333333333,
             "#9c179e"
            ],
            [
             0.4444444444444444,
             "#bd3786"
            ],
            [
             0.5555555555555556,
             "#d8576b"
            ],
            [
             0.6666666666666666,
             "#ed7953"
            ],
            [
             0.7777777777777778,
             "#fb9f3a"
            ],
            [
             0.8888888888888888,
             "#fdca26"
            ],
            [
             1.0,
             "#f0f921"
            ]
           ],
           "diverging": [
            [
             0,
             "#8e0152"
            ],
            [
             0.1,
             "#c51b7d"
            ],
            [
             0.2,
             "#de77ae"
            ],
            [
             0.3,
             "#f1b6da"
            ],
            [
             0.4,
             "#fde0ef"
            ],
            [
             0.5,
             "#f7f7f7"
            ],
            [
             0.6,
             "#e6f5d0"
            ],
            [
             0.7,
             "#b8e186"
            ],
            [
             0.8,
             "#7fbc41"
            ],
            [
             0.9,
             "#4d9221"
            ],
            [
             1,
             "#276419"
            ]
           ]
          },
          "xaxis": {
           "gridcolor": "#283442",
           "linecolor": "#506784",
           "ticks": "",
           "title": {
            "standoff": 15
           },
           "zerolinecolor": "#283442",
           "automargin": true,
           "zerolinewidth": 2
          },
          "yaxis": {
           "gridcolor": "#283442",
           "linecolor": "#506784",
           "ticks": "",
           "title": {
            "standoff": 15
           },
           "zerolinecolor": "#283442",
           "automargin": true,
           "zerolinewidth": 2
          },
          "scene": {
           "xaxis": {
            "backgroundcolor": "rgb(17,17,17)",
            "gridcolor": "#506784",
            "linecolor": "#506784",
            "showbackground": true,
            "ticks": "",
            "zerolinecolor": "#C8D4E3",
            "gridwidth": 2
           },
           "yaxis": {
            "backgroundcolor": "rgb(17,17,17)",
            "gridcolor": "#506784",
            "linecolor": "#506784",
            "showbackground": true,
            "ticks": "",
            "zerolinecolor": "#C8D4E3",
            "gridwidth": 2
           },
           "zaxis": {
            "backgroundcolor": "rgb(17,17,17)",
            "gridcolor": "#506784",
            "linecolor": "#506784",
            "showbackground": true,
            "ticks": "",
            "zerolinecolor": "#C8D4E3",
            "gridwidth": 2
           }
          },
          "shapedefaults": {
           "line": {
            "color": "#f2f5fa"
           }
          },
          "annotationdefaults": {
           "arrowcolor": "#f2f5fa",
           "arrowhead": 0,
           "arrowwidth": 1
          },
          "geo": {
           "bgcolor": "rgb(17,17,17)",
           "landcolor": "rgb(17,17,17)",
           "subunitcolor": "#506784",
           "showland": true,
           "showlakes": true,
           "lakecolor": "rgb(17,17,17)"
          },
          "title": {
           "x": 0.05
          },
          "updatemenudefaults": {
           "bgcolor": "#506784",
           "borderwidth": 0
          },
          "sliderdefaults": {
           "bgcolor": "#C8D4E3",
           "borderwidth": 1,
           "bordercolor": "rgb(17,17,17)",
           "tickwidth": 0
          },
          "mapbox": {
           "style": "dark"
          }
         }
        },
        "xaxis": {
         "anchor": "y",
         "domain": [
          0.0,
          1.0
         ],
         "title": {
          "text": "Prix (€)"
         }
        },
        "yaxis": {
         "anchor": "x",
         "domain": [
          0.0,
          1.0
         ],
         "title": {
          "text": "Nombre de smartphones"
         }
        },
        "legend": {
         "tracegroupgap": 0
        },
        "title": {
         "text": "Distribution des prix des smartphones"
        },
        "barmode": "relative",
        "bargap": 0.1
       },
       "config": {
        "plotlyServerURL": "https://plot.ly"
       }
      }
     },
     "metadata": {},
     "output_type": "display_data"
    }
   ],
   "execution_count": 7
  },
  {
   "metadata": {},
   "cell_type": "markdown",
   "source": [
    "* Distribution très asymétrique : la majorité écrasante des smartphones sont concentrés dans la tranche basse des prix, en dessous de 1 000 €.\n",
    "* Longue queue vers la droite : quelques smartphones très haut de gamme (jusqu’à 6000 €) tirent la distribution vers la droite, mais ils sont extrêmement rares.\n",
    "* Pointe forte autour de l'entrée de gamme : le pic de fréquence se situe dans les premiers intervalles de prix (probablement entre 100 € et 500 €)."
   ],
   "id": "fc9634bd90602f92"
  },
  {
   "metadata": {},
   "cell_type": "markdown",
   "source": "**Prix vs. Capacité de la batterie**",
   "id": "d8f7014d035c5bfe"
  },
  {
   "metadata": {
    "ExecuteTime": {
     "end_time": "2025-07-18T11:00:53.123357Z",
     "start_time": "2025-07-18T11:00:53.000352Z"
    }
   },
   "cell_type": "code",
   "source": [
    "fig_battery_price = px.scatter(\n",
    "    data,\n",
    "    x='battery_capacity',\n",
    "    y='price (€)',\n",
    "    color='brand_name',\n",
    "    title='Prix vs Capacité de batterie des smartphones',\n",
    "    labels={'battery': 'Batterie (mAh)', 'price': 'Prix (€)'},\n",
    "    opacity=0.6\n",
    ")\n",
    "\n",
    "fig_battery_price.update_layout(\n",
    "    xaxis_title='Capacité batterie',\n",
    "    yaxis_title='Prix (€)',\n",
    "    bargap=0.1\n",
    ")\n",
    "\n",
    "fig_battery_price.show()"
   ],
   "id": "2aa0b444822cc917",
   "outputs": [
    {
     "data": {
      "application/vnd.plotly.v1+json": {
       "data": [
        {
         "hovertemplate": "brand_name=oneplus<br>battery_capacity=%{x}<br>price (€)=%{y}<extra></extra>",
         "legendgroup": "oneplus",
         "marker": {
          "color": "#636efa",
          "opacity": 0.6,
          "symbol": "circle"
         },
         "mode": "markers",
         "name": "oneplus",
         "orientation": "v",
         "showlegend": true,
         "x": {
          "dtype": "f8",
          "bdata": "AAAAAACIs0AAAAAAAIizQAAAAAAAlLFAAAAAAACIs0AAAAAAAIizQAAAAAAAiLNAAAAAAACUsUAAAAAAAIizQAAAAAAAiLNAAAAAAADAskAAAAAAAIizQAAAAAAAiLNAAAAAAACUsUAAAAAAAIizQAAAAAAAcLdAAAAAAABosEAAAAAAAIizQAAAAAAAiLNAAAAAAACIs0AAAAAAAMCyQAAAAAAAlLFAAAAAAACUsUAAAAAAAJSxQAAAAAAAwLJAAAAAAACIs0AAAAAAAIizQAAAAAAAyKlAAAAAAADAskAAAAAAAIizQAAAAAAAlLFAAAAAAADMsEAAAAAAAIizQAAAAAAAiLNAAAAAAADMsEAAAAAAAIizQAAAAAAAlLFAAAAAAACUsUAAAAAAAJSxQAAAAAAAlLFAAAAAAACIs0AAAAAAAMCyQAAAAAAAzLBA"
         },
         "xaxis": "x",
         "y": {
          "dtype": "f8",
          "bdata": "KVyPwvUggUAfhetRuOZoQAAAAAAAEHJAUrgeheuNdECuR+F6FOp4QGZmZmZmZmtAexSuR+HMhUBI4XoUrmdrQI/C9Shc/4JAj8L1KFwHfECkcD0K16NsQEjhehSuC3dAmpmZmZkddUAUrkfheiRvQI/C9Shcr2JAcT0K16NwcUB7FK5H4apnQK5H4XoUZoRAzczMzMzMdUAfhetRuHCBQBSuR+F6yHpAZmZmZmYuhECuR+F6FCZqQFyPwvUoxH9ACtejcD0qZUDsUbgehVuHQHE9CtejcHFAexSuR+HMhUDXo3A9Cgt2QK5H4XoUrnJAUrgehevpaEAfhetRuKZsQM3MzMzMzHVAw/UoXI/ib0AAAAAAAKhnQOxRuB6Fr3JAw/UoXI8OckCPwvUoXAd8QFK4HoXr6WhACtejcD0qZUC4HoXrUeR9QBSuR+F6JG9A"
         },
         "yaxis": "y",
         "type": "scatter"
        },
        {
         "hovertemplate": "brand_name=samsung<br>battery_capacity=%{x}<br>price (€)=%{y}<extra></extra>",
         "legendgroup": "samsung",
         "marker": {
          "color": "#EF553B",
          "opacity": 0.6,
          "symbol": "circle"
         },
         "mode": "markers",
         "name": "samsung",
         "orientation": "v",
         "showlegend": true,
         "x": {
          "dtype": "f8",
          "bdata": "AAAAAACIs0AAAAAAAIizQAAAAAAAiLNAAAAAAACUsUAAAAAAAIizQAAAAAAAlLFAAAAAAACIs0AAAAAAAHC3QAAAAAAAiLNAAAAAAACIs0AAAAAAAFyyQAAAAAAAiLNAAAAAAACIs0AAAAAAAIizQAAAAAAAiLNAAAAAAACIs0AAAAAAAIizQAAAAAAAiLNAAAAAAADorEAAAAAAAIizQAAAAAAAiLNAAAAAAAB4rkAAAAAAAHC3QAAAAAAAiLNAAAAAAACIs0AAAAAAAHC3QAAAAAAAcLdAAAAAAACIs0AAAAAAAHC3QAAAAAAAiLNAAAAAAACIs0AAAAAAAIizQAAAAAAAiLNAAAAAAACIs0AAAAAAAGiwQAAAAAAAlLFAAAAAAACIs0AAAAAAAIizQAAAAAAAiLNAAAAAAABwt0AAAAAAAIizQAAAAAAAyKlAAAAAAACIs0AAAAAAAIizQAAAAAAAiLNAAAAAAACIs0AAAAAAADCxQAAAAAAAiLNAAAAAAACIs0AAAAAAAIizQAAAAAAAiLNAAAAAAACIs0AAAAAAAOyzQAAAAAAAlLFAAAAAAACUsUAAAAAAAASwQAAAAAAAQK9AAAAAAACUsUAAAAAAAIizQAAAAAAAcLdAAAAAAACIs0AAAAAAAJSxQAAAAAAAiLNAAAAAAABwt0AAAAAAAJSxQAAAAAAAiLNAAAAAAACIs0AAAAAAAHC3QAAAAAAAcLdAAAAAAABwt0AAAAAAAJSxQAAAAAAAWLtAAAAAAACIs0AAAAAAAOisQAAAAAAAcLdAAAAAAACIs0AAAAAAAHC3QAAAAAAAiLNAAAAAAADorEAAAAAAAECvQAAAAAAAiLNAAAAAAAAwsUAAAAAAAJSxQAAAAAAAiLNAAAAAAACIs0AAAAAAAIizQAAAAAAAiLNAAAAAAACIs0AAAAAAAMywQAAAAAAAiLNAAAAAAACIs0AAAAAAAJSxQAAAAAAAiLNAAAAAAACUsUAAAAAAAMywQAAAAAAAiLNAAAAAAABAr0AAAAAAAHC3QAAAAAAAQK9AAAAAAADMsEAAAAAAAECvQAAAAAAAiLNAAAAAAACUsUAAAAAAAHC3QAAAAAAAiLNAAAAAAADAskAAAAAAAJSxQAAAAAAAWKtAAAAAAACIs0AAAAAAAJSxQAAAAAAAcLdAAAAAAABwt0AAAAAAAFi7QAAAAAAAcKdAAAAAAAA4qEAAAAAAAJSxQAAAAAAAiLNAAAAAAACIs0AAAAAAAHC3QAAAAAAAlLFAAAAAAAAwsUAAAAAAAHC3QAAAAAAAiLNAAAAAAACIs0AAAAAAAIizQAAAAAAAcLdAAAAAAABwt0AAAAAAAIizQAAAAAAAQK9AAAAAAACQqkAAAAAAAMipQAAAAAAAiLNA"
         },
         "xaxis": "x",
         "y": {
          "dtype": "f8",
          "bdata": "9ihcj8KNZECF61G4Hi1lQClcj8L155FA4XoUrkd1c0B7FK5H4aJtQK5H4XoU6nhAexSuR+GmjECuR+F6FMZlQBSuR+F6yHpAexSuR+GqZ0CuR+F6FHiKQOxRuB6FC2dAZmZmZmbuY0AUrkfheiRvQClcj8L1KGpAuB6F61FwYUAfhetRuKZsQClcj8L1KHpAcT0K16Mkf0BmZmZmZu5zQClcj8L1gG9AUrgehesbhkDD9Shcj0poQPYoXI/CMXBAzczMzMwsVUCF61G4Hi1lQEjhehSuZ1tAj8L1KFyvYkDNzMzMzMx1QM3MzMzMLFVAuB6F61EAYkDNzMzMzMx1QHsUrkfhKldAj8L1KFwHfED2KFyPwjGAQGZmZmZmEoRAAAAAAAC8dkD2KFyPwo1kQNejcD0K52hAmpmZmZkxYEAUrkfheiRvQHsUrkfhzIVAj8L1KFyvYkCamZmZmd10QPYoXI/Ch5JAAAAAAAAgYECkcD0K1yKYQClcj8L1IHFAw/UoXI+BkEDsUbgehSd6QOF6FK5HMVBAhetRuB7lXUDhehSuR6+SQKRwPQrXZ3tAexSuR+EadkAUrkfhesh6QD0K16NwdX5A9ihcj8IFbEAfhetRuC5gQMP1KFyPMl5A4XoUrkdpZkBI4XoUrlmQQI/C9ShcD1JAw/UoXI+CYkD2KFyPwgVsQPYoXI/CjWRAexSuR+GqV0BmZmZmZqZcQIXrUbge5V1ArkfhehTOXkBxPQrXo+h4QEjhehSuZ2tA7FG4HoXrY0A9CtejcAeMQIXrUbgeDWJApHA9CtdLY0Bcj8L1KHxaQBSuR+F6rGJAXI/C9SgQgkApXI/C9Sh6QIXrUbgehW5AexSuR+FIkUCamZmZmSFvQArXo3A9ylhA9ihcj8KNZEDhehSuR2lmQB+F61G4JI9AZmZmZmamXEBxPQrXo8iKQIXrUbge5V1AAAAAAAAkj0BxPQrXo+h4QLgehetRcGFArkfhehTqeEBxPQrXo/aMQAAAAAAAEGJAXI/C9ShsZkBmZmZmZjZdQOxRuB6F62NApHA9CtdfgkDsUbgehVuHQGZmZmZmplxASOF6FK63i0ApXI/C9dBgQM3MzMzMLFVApHA9CteDgkA9CtejcNmJQM3MzMzMzHVAmpmZmZkxYEApXI/C9SCBQJqZmZmZIW9Aj8L1KFyvYkA9CtejcOVtQClcj8L16EhA4XoUrkdpZkBI4XoUrpmIQLgehetR5H1AXI/C9SjEj0BI4XoUrmdbQKRwPQrXx4pAexSuR+GImUAfhetRuKZsQB+F61G4LmBAH4XrUbimbEDsUbgehQtnQLgehetRKFpAUrgehevpaEDNzMzMzMxlQKRwPQrX41hAcT0K16PoeEA9CtejcMVqQJqZmZmZIW9A"
         },
         "yaxis": "y",
         "type": "scatter"
        },
        {
         "hovertemplate": "brand_name=motorola<br>battery_capacity=%{x}<br>price (€)=%{y}<extra></extra>",
         "legendgroup": "motorola",
         "marker": {
          "color": "#00cc96",
          "opacity": 0.6,
          "symbol": "circle"
         },
         "mode": "markers",
         "name": "motorola",
         "orientation": "v",
         "showlegend": true,
         "x": {
          "dtype": "f8",
          "bdata": "AAAAAACIs0AAAAAAAIizQAAAAAAAiLNAAAAAAACIs0AAAAAAAIizQAAAAAAAaK9AAAAAAACIs0AAAAAAADCxQAAAAAAAwLJAAAAAAACIs0AAAAAAAIizQAAAAAAAiLNAAAAAAAD4sUAAAAAAAIizQAAAAAAAMLFAAAAAAAACskAAAAAAAIizQAAAAAAAaK9AAAAAAACIs0AAAAAAAIizQAAAAAAAiLNAAAAAAAACskAAAAAAAIizQAAAAAAAiLNAAAAAAABwt0AAAAAAAIizQAAAAAAAiLNAAAAAAACIs0AAAAAAAGKxQAAAAAAAiLNAAAAAAACIs0AAAAAAAIizQAAAAAAAiLNAAAAAAACIs0AAAAAAAIizQAAAAAAAiLNAAAAAAADAskAAAAAAAIizQAAAAAAAiLNAAAAAAACIs0AAAAAAAGivQAAAAAAAiLNAAAAAAACIs0AAAAAAAGiwQAAAAAAAQK9AAAAAAABwt0AAAAAAAIizQAAAAAAAYrFAAAAAAACUsUAAAAAAAIizQAAAAAAAiLNAAAAAAACIs0A="
         },
         "xaxis": "x",
         "y": {
          "dtype": "f8",
          "bdata": "j8L1KFyvYkB7FK5H4apnQHsUrkfhqmdAuB6F61EoWkBmZmZmZu5jQB+F61G4pmxA9ihcj8KNZEDD9Shcj+JtQM3MzMzMzHVASOF6FK5nW0CuR+F6FO5TQIXrUbge5V1ArkfhehTqeEDhehSuR4lpQK5H4XoU6nhAKVyPwvUggUCamZmZmTFgQBSuR+F6JG9A9ihcj8IxcECamZmZmelYQFK4HoXr6WhAmpmZmZmvgkCamZmZmTFgQIXrUbgeLWVAZmZmZmbuY0BI4XoUrmdrQHsUrkfhqldA16NwPQrnaEDsUbgehSd6QOxRuB6Fa1ZAZmZmZmbuY0C4HoXrUShaQMP1KFyPElZAhetRuB7lXUDD9Shcj+JtQLgehetR6FNAexSuR+GugkBcj8L1KBCCQMP1KFyPSmhA16NwPQrnaEApXI/C9exzQBSuR+F6BGxAhetRuB4tZUDNzMzMzMx1QHE9CtejoFxAAAAAAAAQYkAK16NwPXpWQHsUrkfhroJA16NwPQrHekAzMzMzMyN/QI/C9Shcy3VA16NwPQrnaEA="
         },
         "yaxis": "y",
         "type": "scatter"
        },
        {
         "hovertemplate": "brand_name=realme<br>battery_capacity=%{x}<br>price (€)=%{y}<extra></extra>",
         "legendgroup": "realme",
         "marker": {
          "color": "#ab63fa",
          "opacity": 0.6,
          "symbol": "circle"
         },
         "mode": "markers",
         "name": "realme",
         "orientation": "v",
         "showlegend": true,
         "x": {
          "dtype": "f8",
          "bdata": "AAAAAACIs0AAAAAAAIizQAAAAAAAiLNAAAAAAACIs0AAAAAAAIizQAAAAAAAiLNAAAAAAACIs0AAAAAAAIizQAAAAAAAiLNAAAAAAACIs0AAAAAAAIizQAAAAAAAiLNAAAAAAACIs0AAAAAAAIizQAAAAAAAiLNAAAAAAACIs0AAAAAAAIizQAAAAAAAiLNAAAAAAACIs0AAAAAAAECvQAAAAAAAiLNAAAAAAACIs0AAAAAAAIizQAAAAAAAlLFAAAAAAACIs0AAAAAAAIizQAAAAAAAiLNAAAAAAACIs0AAAAAAAIizQAAAAAAAiLNAAAAAAACIs0AAAAAAAIizQAAAAAAAiLNAAAAAAABosEAAAAAAAIizQAAAAAAAlLFAAAAAAACIs0AAAAAAAIizQAAAAAAAiLNAAAAAAAD4sUAAAAAAAIizQAAAAAAAiLNAAAAAAABosEAAAAAAAIizQAAAAAAAiLNAAAAAAACIs0AAAAAAAIizQAAAAAAAiLNAAAAAAACIs0AAAAAAAJSxQAAAAAAAiLNAAAAAAACIs0AAAAAAAIizQAAAAAAAiLNAAAAAAABwt0AAAAAAAMywQAAAAAAAiLNAAAAAAACIs0AAAAAAAJSxQAAAAAAAiLNAAAAAAACIs0AAAAAAAIizQAAAAAAAiLNAAAAAAACIs0AAAAAAAJSxQAAAAAAAiLNAAAAAAACIs0AAAAAAAIizQAAAAAAAiLNAAAAAAACIs0AAAAAAAECvQAAAAAAAiLNAAAAAAACIs0AAAAAAAMywQAAAAAAAiLNAAAAAAACIs0AAAAAAAIizQAAAAAAAiLNAAAAAAACUsUAAAAAAAIizQAAAAAAAiLNAAAAAAADMsEAAAAAAAIizQAAAAAAAiLNAAAAAAABwt0AAAAAAAIizQAAAAAAAiLNAAAAAAABosEAAAAAAAECvQAAAAAAAiLNAAAAAAACIs0AAAAAAAIizQAAAAAAAlLFAAAAAAABwt0AAAAAAAIizQAAAAAAAQK9AAAAAAACIs0A="
         },
         "xaxis": "x",
         "y": {
          "dtype": "f8",
          "bdata": "FK5H4Xokb0B7FK5H4apnQFK4HoXr6WhAcT0K16NwcUDNzMzMzExWQLgehetRcGFAFK5H4XqkYkC4HoXrUXBhQJqZmZmZ6VhAFK5H4XokX0CamZmZmTFgQLgehetRcGFASOF6FK5nSkAAAAAAABByQI/C9Shcr2JAhetRuB4tZUBmZmZmZoZpQEjhehSuZ1tAAAAAAAAQYkCPwvUoXG9BQLgehetReF1AH4XrUbhOY0B7FK5H4apnQFK4HoXrIXBAhetRuB4tZUBcj8L1KGxmQBSuR+F6JG9A7FG4HoVrVkAfhetRuE5TQKRwPQrXY09AZmZmZmambEA9CtejcM1RQGZmZmZm7mNAFK5H4Xokb0AzMzMzMw9yQIXrUbgepWxAj8L1KFyvYkDsUbgehQtnQClcj8L1KGpAzczMzMzMdUC4HoXrUXBhQHsUrkfhqmdAcT0K16NwcUBcj8L1KNxfQOxRuB6FK1BAj8L1KFyvYkA9CtejcK1UQB+F61G4TmNAFK5H4XqsYkDsUbgehYNuQArXo3A9Hn9AzczMzMzMZUBcj8L1KGxmQGZmZmZm7mNAZmZmZmamXEBxPQrXo3BxQJqZmZmZ7XNA7FG4HoVrVkBI4XoUrmdrQB+F61G4pmxAuB6F61FwYUAAAAAAAHBRQD0K16NwgXBA9ihcj8JlVkCF61G4HtFwQPYoXI/CjWRAKVyPwvXQYEDsUbgehWtWQHsUrkfhqldAj8L1KFyvYkB7FK5H4YpgQArXo3A9Rn1AhetRuB4tZUCF61G4Hg1iQOxRuB6Fr3JAuB6F61HAcUCuR+F6FO5TQGZmZmZmZlxAFK5H4XqMdEBSuB6F62FbQJqZmZmZ6VhAZmZmZmYuYEApXI/C9ZhdQGZmZmZm7nNArkfhehTuU0Bcj8L1KGxmQFK4HoXr6WhAFK5H4Xokb0DsUbgehWtWQFyPwvUoiHlAFK5H4XokX0DhehSuRzFQQArXo3A9TnNAuB6F61EoWkDsUbgehStQQAAAAAAAcFFAmpmZmZm5VUA="
         },
         "yaxis": "y",
         "type": "scatter"
        },
        {
         "hovertemplate": "brand_name=apple<br>battery_capacity=%{x}<br>price (€)=%{y}<extra></extra>",
         "legendgroup": "apple",
         "marker": {
          "color": "#FFA15A",
          "opacity": 0.6,
          "symbol": "circle"
         },
         "mode": "markers",
         "name": "apple",
         "orientation": "v",
         "showlegend": true,
         "x": {
          "dtype": "f8",
          "bdata": "AAAAAACeqUAAAAAAAFCpQAAAAAAA47BAAAAAAABMqEAAAAAAAOWwQAAAAAAALqhAAAAAAAAAqUAAAAAAAAD4fwAAAAAATKhAAAAAAAAA+H8AAAAAAACxQAAAAAAAALFAAAAAAAAEoEAAAAAAAOOwQAAAAAAAnqlAAAAAAADop0AAAAAAAAyjQAAAAAAAWKtAAAAAAADjsEAAAAAAAAD4fwAAAAAA5bBAAAAAAABQqUAAAAAAAAD4fwAAAAAAXLJAAAAAAAAAqUAAAAAAAAD4fwAAAAAAAPh/AAAAAAAuqEAAAAAAAFirQAAAAAAAbKFAAAAAAAAA+H8AAAAAAJ6pQAAAAAAAdJxAAAAAAAAAsUAAAAAAAKqpQAAAAAAAAPh/AAAAAADjsEAAAAAAAACxQAAAAAAA5bBAAAAAAAAAqUAAAAAAAFCpQAAAAAAAAPh/AAAAAAAA+H8AAAAAAAD4fwAAAAAAtLFAAAAAAAAuqEA="
         },
         "xaxis": "x",
         "y": {
          "dtype": "f8",
          "bdata": "AAAAAACOhEDNzMzMzJ6DQFK4HoXrPZRAw/UoXI9KeEDsUbgehVuHQEjhehSuq5JA4XoUrkevkkD2KFyPwjGAQArXo3A9Rn1AmpmZmZmJeUBcj8L1KESWQLgehetROpRArkfhehSuckDD9Shcj8yVQOF6FK5Hq4dAuB6F61FshkC4HoXrUTaEQFyPwvUozIVArkfhehR/nEAfhetRuHCBQM3MzMzMeIpArkfhehS8hkB7FK5H4aZ8QJqZmZmZV5dAUrgehes9lEBcj8L1KFh7QM3MzMzMZZRAuB6F61E6lEDXo3A9Ch2RQM3MzMzMgIBAKVyPwvXIlUCkcD0K1+WNQArXo3A92nhAKVyPwvXIlUBxPQrXo9iJQDMzMzMzI39AexSuR+F0mkDsUbgehQOcQEjhehSuWZBAPQrXo3DwmkB7FK5H4aaMQEjhehSuq5JAH4XrUbhwgUA9CtejcC2FQK5H4XoUeIpAexSuR+EHl0A="
         },
         "yaxis": "y",
         "type": "scatter"
        },
        {
         "hovertemplate": "brand_name=xiaomi<br>battery_capacity=%{x}<br>price (€)=%{y}<extra></extra>",
         "legendgroup": "xiaomi",
         "marker": {
          "color": "#19d3f3",
          "opacity": 0.6,
          "symbol": "circle"
         },
         "mode": "markers",
         "name": "xiaomi",
         "orientation": "v",
         "showlegend": true,
         "x": {
          "dtype": "f8",
          "bdata": "AAAAAAB0s0AAAAAAAIizQAAAAAAAiLNAAAAAAABQtEAAAAAAAIizQAAAAAAAiLNAAAAAAACIs0AAAAAAAIizQAAAAAAAdLNAAAAAAACIs0AAAAAAAIizQAAAAAAAiLNAAAAAAABQtEAAAAAAANSyQAAAAAAA2LNAAAAAAACIs0AAAAAAAIizQAAAAAAAnLNAAAAAAACIs0AAAAAAAHC3QAAAAAAAiLNAAAAAAACIs0AAAAAAAFC0QAAAAAAAiLNAAAAAAACIs0AAAAAAAIizQAAAAAAAfLVAAAAAAACIs0AAAAAAAHC3QAAAAAAAlLFAAAAAAADMsEAAAAAAAIizQAAAAAAAiLNAAAAAAACIs0AAAAAAAIizQAAAAAAA+LFAAAAAAACIs0AAAAAAAIizQAAAAAAAiLNAAAAAAACIs0AAAAAAAJSxQAAAAAAAiLNAAAAAAADYs0AAAAAAAHC3QAAAAAAAmrBAAAAAAACcs0AAAAAAAIizQAAAAAAAiLNAAAAAAACIs0AAAAAAAIizQAAAAAAAiLNAAAAAAACIs0AAAAAAAIizQAAAAAAAnLNAAAAAAACIs0AAAAAAAIizQAAAAAAAKLRAAAAAAACosUAAAAAAAIizQAAAAAAA/LJAAAAAAACIs0AAAAAAAIizQAAAAAAAiLNAAAAAAACIs0AAAAAAAHSzQAAAAAAAcLdAAAAAAACkr0AAAAAAAJqwQAAAAAAAQK9AAAAAAACIs0AAAAAAAIizQAAAAAAAzLBAAAAAAACcs0AAAAAAAHC3QAAAAAAA+LFAAAAAAACcs0AAAAAAAHy1QAAAAAAAnLNAAAAAAABwt0AAAAAAAJSxQAAAAAAAiLNAAAAAAABAr0AAAAAAAIizQAAAAAAAiLNAAAAAAADYs0AAAAAAAIizQAAAAAAAiLNAAAAAAACIs0AAAAAAAIizQAAAAAAAiLNAAAAAAACIs0AAAAAAAKixQAAAAAAAiLNAAAAAAACcs0AAAAAAAIizQAAAAAAAiLNAAAAAAADMsEAAAAAAAIizQAAAAAAAcLdAAAAAAAB8tUAAAAAAAIizQAAAAAAAQK9AAAAAAACIs0AAAAAAACi0QAAAAAAAiLNAAAAAAADAskAAAAAAAIizQAAAAAAAnLNAAAAAAABwt0AAAAAAANizQAAAAAAA7LNAAAAAAACIs0AAAAAAAIizQAAAAAAAiLNAAAAAAACIs0AAAAAAAJyzQAAAAAAAlLFAAAAAAACasEAAAAAAAKixQAAAAAAAiLNAAAAAAACcs0AAAAAAAIizQAAAAAAABLBAAAAAAACIs0AAAAAAAJyzQAAAAAAAQK9AAAAAAACUsUAAAAAAAIizQAAAAAAAlLFAAAAAAACUsUAAAAAAAIizQAAAAAAArLJAAAAAAACIs0AAAAAAAIizQA=="
         },
         "xaxis": "x",
         "y": {
          "dtype": "f8",
          "bdata": "7FG4HoWvckApXI/C9dhuQI/C9ShcP2ZAUrgeheuNdEBSuB6F6+loQM3MzMzMvF1ASOF6FK5nW0DhehSuR2lmQFK4HoXrjXRAuB6F61FwYUD2KFyPwuVUQIXrUbgezWFAUrgehevpaECF61G4Hl+CQB+F61G4pmxAAAAAAADATkBmZmZmZsZgQJqZmZmZ6VhAH4XrUbimbECkcD0K1+NXQGZmZmZm5mhAhetRuB7lXUDhehSuR4lpQIXrUbge5V1AuB6F61FshkCkcD0K129xQK5H4XoUrnJArkfhehReXkCF61G4HuVdQNejcD0KqZBAFK5H4Xokb0CF61G4Hi1lQOF6FK5HaWZA7FG4HoXrY0CPwvUoXEdsQB+F61G4wn9AmpmZmZkxYECF61G4HtFwQFK4HoXr6WhAuB6F61FwYUDNzMzMzER9QI/C9Shcr1JA9ihcj8IxcECF61G4HuVdQIXrUbgeRWtAXI/C9ShsZkDNzMzMzCxiQI/C9Shcr1JAj8L1KFyvUkDD9Shcj0p4QJqZmZmZ6VhAexSuR+GugkDsUbgehQtnQIXrUbge5V1AFK5H4XqsYkCF61G4Hi1lQK5H4XoURm1AexSuR+HCbUC4HoXrUQhbQFyPwvUozIVAj8L1KFzLdUA9CtejcG1hQGZmZmZmtmNAAAAAAABwUUCF61G4HtFwQB+F61G43l5AZmZmZmYkn0AfhetRuKZsQIXrUbge5V1A16NwPQrnXEApXI/C9ShSQEjhehSuz3BAuB6F61FwYUAUrkfheqxiQLgehetRKIBApHA9CtfjaED2KFyPwjFwQHsUrkfhimRAPQrXo3BtYUDsUbgehetuQLgehetRKFpApHA9CtfjWEAfhetRuB5fQLgehetRcGFA16NwPQrnaEAfhetRuE5jQI/C9Shcr2JAw/UoXI9KeEDsUbgehWtWQD0K16NwbWFAhetRuB4tZUC4HoXrUTBwQPYoXI/CjWRAUrgehevpaEBmZmZmZkZtQB+F61G4LmBArkfhehSuckBI4XoUroN+QJqZmZmZMWBAMzMzMzNvcUDsUbgeha9yQJqZmZmZMWBACtejcD0ggUCamZmZmSFvQOF6FK5HMVBA4XoUrkerh0BSuB6F62FbQHE9CtejIJFAZmZmZmamXEAAAAAAABByQOF6FK5HaWZAcT0K16MoYUCuR+F6FOp4QD0K16NwbWFAXI/C9ShsZkAUrkfheiRfQNejcD0Kx3pAMzMzMzNLZ0CamZmZmU1zQHsUrkfhKldAH4XrUbjeXUBxPQrXo6BcQJqZmZmZqVlAZmZmZmbuY0DNzMzMzPxhQEjhehSur7JAhetRuB4tZUDNzMzMzOxUQOxRuB6Fr3JAhetRuB7RcEBSuB6F62FbQClcj8L1IIFAKVyPwvUggUAUrkfheox0QA=="
         },
         "yaxis": "y",
         "type": "scatter"
        },
        {
         "hovertemplate": "brand_name=nothing<br>battery_capacity=%{x}<br>price (€)=%{y}<extra></extra>",
         "legendgroup": "nothing",
         "marker": {
          "color": "#FF6692",
          "opacity": 0.6,
          "symbol": "circle"
         },
         "mode": "markers",
         "name": "nothing",
         "orientation": "v",
         "showlegend": true,
         "x": {
          "dtype": "f8",
          "bdata": "AAAAAACUsUAAAAAAAJSxQAAAAAAAlLFAAAAAAABcskAAAAAAAIizQA=="
         },
         "xaxis": "x",
         "y": {
          "dtype": "f8",
          "bdata": "4XoUrkepcEAUrkfhephxQLgehetRbHZAcT0K16PoeECamZmZmSFvQA=="
         },
         "yaxis": "y",
         "type": "scatter"
        },
        {
         "hovertemplate": "brand_name=oppo<br>battery_capacity=%{x}<br>price (€)=%{y}<extra></extra>",
         "legendgroup": "oppo",
         "marker": {
          "color": "#B6E880",
          "opacity": 0.6,
          "symbol": "circle"
         },
         "mode": "markers",
         "name": "oppo",
         "orientation": "v",
         "showlegend": true,
         "x": {
          "dtype": "f8",
          "bdata": "AAAAAACIs0AAAAAAAFyyQAAAAAAAiLNAAAAAAACUsUAAAAAAAIizQAAAAAAAiLNAAAAAAADAskAAAAAAAIizQAAAAAAAiLNAAAAAAADWsEAAAAAAAJSxQAAAAAAAiLNAAAAAAACUsUAAAAAAAIizQAAAAAAAlLFAAAAAAACosUAAAAAAAFyyQAAAAAAAiLNAAAAAAACUsUAAAAAAAIizQAAAAAAAlLFAAAAAAACIs0AAAAAAAJSxQAAAAAAAiLNAAAAAAACUsUAAAAAAAMCyQAAAAAAAlLFAAAAAAACUsUAAAAAAAJSxQAAAAAAAlLFAAAAAAABcskAAAAAAAIizQAAAAAAAzLBAAAAAAACUsUAAAAAAAIizQAAAAAAAzLBAAAAAAACUsUAAAAAAAIizQAAAAAAAzLBAAAAAAACIs0AAAAAAAIawQAAAAAAAiLNAAAAAAACUsUAAAAAAAJSxQAAAAAAAiLNAAAAAAACIs0AAAAAAAJSxQAAAAAAAhrBAAAAAAACIs0AAAAAAAIizQAAAAAAAiLNAAAAAAACIs0AAAAAAAIizQAAAAAAAhrBAAAAAAACIs0AAAAAAAIizQAAAAAAAiLNAAAAAAADAskAAAAAAAIizQAAAAAAAiLNAAAAAAACUsUAAAAAAAIizQAAAAAAA1rBAAAAAAABAr0AAAAAAAF6vQAAAAAAAiLNAAAAAAACUsUAAAAAAAJSxQAAAAAAAQK9AAAAAAACIs0AAAAAAAIizQAAAAAAAiLNAAAAAAACGsEAAAAAAAIizQAAAAAAAzLBAAAAAAACGsEAAAAAAAJSxQAAAAAAA/rBAAAAAAACGsEAAAAAAAIawQAAAAAAAAKlAAAAAAACUsUAAAAAAAIizQAAAAAAAQK9AAAAAAACIs0AAAAAAAIizQAAAAAAAiLNAAAAAAABcskA="
         },
         "xaxis": "x",
         "y": {
          "dtype": "f8",
          "bdata": "exSuR+GqZ0B7FK5H4aZ8QK5H4XoUrnJAuB6F61HAcUAAAAAAACSPQHsUrkfhqldAw/UoXI86cUCF61G4Hi1lQBSuR+F6JF9A16NwPQrnaEBmZmZmZkZyQK5H4XoUzmBArkfhehTqeECamZmZmU1zQClcj8L1LHBAj8L1KFyVjUCF61G4Hl+CQKRwPQrXS2NAexSuR+GmfEBcj8L1KGxmQHsUrkfhpnxAAAAAAACoZ0BI4XoUrs9wQNejcD0KZ2FAAAAAAABIa0CuR+F6FCZqQJqZmZmZ7XNAhetRuB4hcEApXI/C9TBwQNejcD0K52hAAAAAAABKiEAfhetRuE5jQB+F61G4BoxAKVyPwvUoakAUrkfheqxiQFK4HoXrG4ZAmpmZmZnldkDNzMzMzGRrQGZmZmZmbnBAAAAAAABQYkDsUbgehWtWQNejcD0Kx3pAXI/C9ShsZkDXo3A9Csd6QHsUrkfhimRACtejcD0qZUAzMzMzM29xQOxRuB6Fa1ZAmpmZmZkxYEBSuB6F6+loQFK4HoXrjXRArkfhehTuY0AK16NwPSplQEjhehSuZ1tAKVyPwvXQYECF61G4HuVdQOF6FK5HaWZApHA9CtejbEBcj8L1KGxmQMP1KFyP4m1AzczMzMy6jEB7FK5H4epjQMP1KFyPamZAmpmZmZkFlUAAAAAAAKhnQOF6FK5HaWZAUrgehesFfEAfhetRuMJ/QNejcD0K52hAPQrXo3DpiECPwvUoXN9dQIXrUbgeZV5AcT0K16OgXECPwvUoXN9dQK5H4XoUrnJAH4XrUbgeX0CkcD0K16NsQHsUrkfhGnhAmpmZmZnpWECkcD0K1+NYQOxRuB6F62NAFK5H4XqMdECuR+F6FK5yQKRwPQrXo2xAj8L1KFyvYkA9CtejcG1hQD0K16NwbWFAXI/C9SjMhUA="
         },
         "yaxis": "y",
         "type": "scatter"
        },
        {
         "hovertemplate": "brand_name=vivo<br>battery_capacity=%{x}<br>price (€)=%{y}<extra></extra>",
         "legendgroup": "vivo",
         "marker": {
          "color": "#FF97FF",
          "opacity": 0.6,
          "symbol": "circle"
         },
         "mode": "markers",
         "name": "vivo",
         "orientation": "v",
         "showlegend": true,
         "x": {
          "dtype": "f8",
          "bdata": "AAAAAACIs0AAAAAAAIizQAAAAAAAiLNAAAAAAADeskAAAAAAAMCyQAAAAAAAlLFAAAAAAABcskAAAAAAAIizQAAAAAAAiLNAAAAAAAD4sUAAAAAAAIizQAAAAAAA+LFAAAAAAABosEAAAAAAAIizQAAAAAAAiLNAAAAAAABcskAAAAAAAPixQAAAAAAAiLNAAAAAAACIs0AAAAAAAIizQAAAAAAAaLBAAAAAAADKskAAAAAAAIizQAAAAAAAlLFAAAAAAADeskAAAAAAAMywQAAAAAAAiLNAAAAAAACIs0AAAAAAAIizQAAAAAAAiLNAAAAAAACkr0AAAAAAAFyyQAAAAAAAiLNAAAAAAACkr0AAAAAAAIizQAAAAAAAiLNAAAAAAACIs0AAAAAAAAazQAAAAAAAfK9AAAAAAACIs0AAAAAAAMywQAAAAAAAiLNAAAAAAABcskAAAAAAAFyyQAAAAAAAzLBAAAAAAACUsUAAAAAAAIizQAAAAAAAXLJAAAAAAACwnUAAAAAAAHqyQAAAAAAAiLNAAAAAAACIs0AAAAAAAJSxQAAAAAAAiLNAAAAAAACUsUAAAAAAAIizQAAAAAAAQK9AAAAAAABAr0AAAAAAAIizQAAAAAAAQKpAAAAAAACIs0AAAAAAAECvQAAAAAAAiLNAAAAAAACIs0AAAAAAAECvQAAAAAAAiLNAAAAAAACIs0AAAAAAAHC3QAAAAAAAlLFAAAAAAACIs0AAAAAAAIizQAAAAAAAiLNAAAAAAACIs0AAAAAAAJSxQAAAAAAAXLJAAAAAAABAr0AAAAAAAJSxQAAAAAAAQK9AAAAAAACUsUAAAAAAAIizQAAAAAAAiLNAAAAAAACIs0AAAAAAAHC3QAAAAAAAiLNAAAAAAACIs0AAAAAAAIizQAAAAAAAiLNAAAAAAACIs0AAAAAAAKSvQAAAAAAAiLNAAAAAAADorEAAAAAAAHyvQAAAAAAA5qlAAAAAAABwt0AAAAAAAJSxQAAAAAAAlLFAAAAAAABwt0AAAAAAAIizQAAAAAAAfK9AAAAAAACIs0AAAAAAAIizQAAAAAAAiLNAAAAAAACIs0AAAAAAAIizQAAAAAAAiLNAAAAAAAD4sUAAAAAAAIizQAAAAAAABLBAAAAAAACIs0AAAAAAAFSlQAAAAAAAwLJA"
         },
         "xaxis": "x",
         "y": {
          "dtype": "f8",
          "bdata": "CtejcD0qZUCamZmZmelYQAAAAAAAEGJAuB6F61FsdkDXo3A9Csd6QHE9CtejcHFAMzMzMzNvcUDsUbgehQtnQK5H4XoUHl9ArkfhehSuckD2KFyPwo1kQBSuR+F6HHZApHA9CtdvcUDXo3A9CudoQPYoXI/CzWBA9ihcj8ILh0DXo3A9CqmQQOxRuB6F62NApHA9Ctdne0BmZmZmZu5jQHsUrkfhIm9A7FG4HoUnekDNzMzMzGRrQGZmZmZm7nNArkfhehTqeECamZmZme1zQOxRuB6Fa1ZAhetRuB7lXUAAAAAAABBiQLgehetRKFpA16NwPQrnaEAUrkfheiRvQPYoXI/CZVZArkfhehRma0ApXI/C9WhTQK5H4XoUrnJAj8L1KFyvYkBmZmZmZsCBQBSuR+F6bGZAFK5H4XqsYkBSuB6F6410QPYoXI/CZVZAPQrXo3DlbUBcj8L1KOqIQHsUrkfhCndAKVyPwvUggUCkcD0K10tjQJqZmZmZIW9Aj8L1KFyvUkCuR+F6FMCRQB+F61G4LmBAmpmZmZkxYEDhehSuR2lmQM3MzMzMLFVAmpmZmZkhb0CuR+F6FO5TQNejcD0K52hAzczMzMz8bECuR+F6FCZqQM3MzMzMJG9APQrXo3BtYUAUrkfheiRvQMP1KFyPDnJAXI/C9ShsZkCkcD0K1+NtQB+F61G4Hl9AKVyPwvXIZEAK16NwPSplQNejcD0K52hAuB6F61FwYUCuR+F6FO5TQBSuR+F6rGJAFK5H4XokX0DsUbgeha9yQClcj8L17HNA7FG4HoWvckBxPQrXo9iJQOF6FK5H0XBAMzMzMzNvcUCkcD0K1+NYQLgehetRaFtAMzMzMzMjf0AAAAAAAKhnQHE9Ctej2IlAzczMzMwsVUDsUbgehetjQBSuR+F6JF9Aj8L1KFzfXUBI4XoUrs9wQIXrUbgepVdAzczMzMwkb0BI4XoUrq9iQK5H4XoUJmpAhetRuB7lXUCamZmZma+CQK5H4XoUrnJA16NwPQrnaEAfhetRuE5jQD0K16NwbVRACtejcD3qaECPwvUoXN9dQBSuR+F6jHRAw/UoXI8iWkBI4XoUrmdrQKRwPQrXo2xAZmZmZmaHkkCamZmZmelYQDMzMzMzq2dApHA9CtfjWECuR+F6FM5gQOF6FK5Hr5JA"
         },
         "yaxis": "y",
         "type": "scatter"
        },
        {
         "hovertemplate": "brand_name=poco<br>battery_capacity=%{x}<br>price (€)=%{y}<extra></extra>",
         "legendgroup": "poco",
         "marker": {
          "color": "#FECB52",
          "opacity": 0.6,
          "symbol": "circle"
         },
         "mode": "markers",
         "name": "poco",
         "orientation": "v",
         "showlegend": true,
         "x": {
          "dtype": "f8",
          "bdata": "AAAAAACIs0AAAAAAAIizQAAAAAAAiLNAAAAAAACIs0AAAAAAAIizQAAAAAAAiLNAAAAAAACIs0AAAAAAAIizQAAAAAAAiLNAAAAAAACIs0AAAAAAAIizQAAAAAAAiLNAAAAAAACIs0AAAAAAAJSxQAAAAAAAiLNAAAAAAACUsUAAAAAAAHC3QAAAAAAAiLNAAAAAAABcskAAAAAAACi0QAAAAAAA2LNAAAAAAACIs0AAAAAAAIizQAAAAAAAiLNAAAAAAAB8tUAAAAAAAIizQAAAAAAAlLFAAAAAAACIs0AAAAAAAFyyQAAAAAAA7LNAAAAAAACIs0AAAAAAAHC3QAAAAAAAiLNAAAAAAACIs0AAAAAAAIizQAAAAAAAiLNAAAAAAACIs0AAAAAAAJSxQAAAAAAAybNAAAAAAACIs0AAAAAAANizQA=="
         },
         "xaxis": "x",
         "y": {
          "dtype": "f8",
          "bdata": "j8L1KFyvYkApXI/C9ShqQI/C9Shcr2JA9ihcj8KNZECamZmZmTFgQIXrUbge5V1AXI/C9ShsZkBmZmZmZqZcQI/C9Shcr1JAKVyPwvXQYEDhehSuRzFQQGZmZmZm7mNArkfhehSuckD2KFyPwjFwQJqZmZmZMWBA7FG4HoWvckApXI/C9dBgQOF6FK5HMVBAj8L1KFzLdUDD9Shcj3poQJqZmZmZIW9AZmZmZmbuY0BI4XoUrudaQI/C9Shcr2JA7FG4HoWvckC4HoXrUXBhQHE9CtejcHFASOF6FK5vYkCuR+F6FOp4QNejcD0K52hAUrgeheshW0BmZmZmZqZcQI/C9ShcL1JAMzMzMzPjX0BSuB6F6+loQAAAAAAAEGJAFK5H4XqsYkAUrkfhesh6QFK4HoXrjXRArkfhehTuU0DD9Shcjw5yQA=="
         },
         "yaxis": "y",
         "type": "scatter"
        },
        {
         "hovertemplate": "brand_name=iqoo<br>battery_capacity=%{x}<br>price (€)=%{y}<extra></extra>",
         "legendgroup": "iqoo",
         "marker": {
          "color": "#636efa",
          "opacity": 0.6,
          "symbol": "circle"
         },
         "mode": "markers",
         "name": "iqoo",
         "orientation": "v",
         "showlegend": true,
         "x": {
          "dtype": "f8",
          "bdata": "AAAAAACIs0AAAAAAAIizQAAAAAAAiLNAAAAAAABcskAAAAAAAFyyQAAAAAAAiLNAAAAAAAAwsUAAAAAAAJSxQAAAAAAAiLNAAAAAAABcskAAAAAAAIizQAAAAAAAiLNAAAAAAACIs0AAAAAAAFyyQAAAAAAA/rBAAAAAAACIs0AAAAAAAJSxQAAAAAAAiLNAAAAAAABcskAAAAAAAIizQAAAAAAAMLFAAAAAAABcskAAAAAAAFyyQAAAAAAAXLJAAAAAAABcskAAAAAAAIizQAAAAAAAiLNAAAAAAACIs0AAAAAAAP6wQAAAAAAAiLNAAAAAAABosEAAAAAAAECvQA=="
         },
         "xaxis": "x",
         "y": {
          "dtype": "f8",
          "bdata": "7FG4HoWvckCF61G4Hm1hQJqZmZmZr4JAFK5H4Xoka0AAAAAAABByQB+F61G4TmNAmpmZmZkhb0CamZmZmU1zQB+F61G4TmNAhetRuB5fgkAK16NwPRplQJqZmZmZIW9ACtejcD0+hECuR+F6FCZtQI/C9Shcy3VAMzMzMzMLZ0DNzMzMzMR1QGZmZmZm7mNAPQrXo3AFdUDNzMzMzAxiQHsUrkfhanZAcT0K16NwcUCkcD0K16NsQHsUrkfhroJAuB6F61HkfUAUrkfheox0QBSuR+F6JG9A16NwPQrnaEBxPQrXo+h4QI/C9Shcr2JAXI/C9ShsZkBxPQrXo+h4QA=="
         },
         "yaxis": "y",
         "type": "scatter"
        },
        {
         "hovertemplate": "brand_name=jio<br>battery_capacity=%{x}<br>price (€)=%{y}<extra></extra>",
         "legendgroup": "jio",
         "marker": {
          "color": "#EF553B",
          "opacity": 0.6,
          "symbol": "circle"
         },
         "mode": "markers",
         "name": "jio",
         "orientation": "v",
         "showlegend": true,
         "x": {
          "dtype": "f8",
          "bdata": "AAAAAACIs0AAAAAAAOClQAAAAAAAWKtAAAAAAABwp0A="
         },
         "xaxis": "x",
         "y": {
          "dtype": "f8",
          "bdata": "j8L1KFzfXUDsUbgehWtGQArXo3A9KkdAj8L1KFyvUkA="
         },
         "yaxis": "y",
         "type": "scatter"
        },
        {
         "hovertemplate": "brand_name=gionee<br>battery_capacity=%{x}<br>price (€)=%{y}<extra></extra>",
         "legendgroup": "gionee",
         "marker": {
          "color": "#00cc96",
          "opacity": 0.6,
          "symbol": "circle"
         },
         "mode": "markers",
         "name": "gionee",
         "orientation": "v",
         "showlegend": true,
         "x": {
          "dtype": "f8",
          "bdata": "AAAAAABYq0AAAAAAAECvQAAAAAAAwLJA"
         },
         "xaxis": "x",
         "y": {
          "dtype": "f8",
          "bdata": "uB6F61HYTkCPwvUoXK9SQAAAAAAAcFFA"
         },
         "yaxis": "y",
         "type": "scatter"
        },
        {
         "hovertemplate": "brand_name=tecno<br>battery_capacity=%{x}<br>price (€)=%{y}<extra></extra>",
         "legendgroup": "tecno",
         "marker": {
          "color": "#ab63fa",
          "opacity": 0.6,
          "symbol": "circle"
         },
         "mode": "markers",
         "name": "tecno",
         "orientation": "v",
         "showlegend": true,
         "x": {
          "dtype": "f8",
          "bdata": "AAAAAAAotEAAAAAAAIizQAAAAAAAcLdAAAAAAABYu0AAAAAAACi0QAAAAAAAcLdAAAAAAABYu0AAAAAAAIizQAAAAAAAiLNAAAAAAACIs0AAAAAAAIizQAAAAAAAiLNAAAAAAABcskAAAAAAAIizQAAAAAAAiLNAAAAAAABwt0AAAAAAAIizQAAAAAAAiLNAAAAAAACIs0AAAAAAAIizQAAAAAAAiLNAAAAAAABAr0AAAAAAAHC3QAAAAAAAiLNAAAAAAACIs0AAAAAAAFi7QAAAAAAAiLNAAAAAAACIs0AAAAAAAIizQAAAAAAAWLtAAAAAAACIs0AAAAAAAIizQAAAAAAAiLNA"
         },
         "xaxis": "x",
         "y": {
          "dtype": "f8",
          "bdata": "rkfhehTqeEAAAAAAAHBRQIXrUbge5V1AmpmZmZnpWEBxPQrXoyR/QB+F61G4TmNAcT0K16MwYUDsUbgehWtWQEjhehSuZ2tArkfhehTuU0BmZmZmZiZWQFyPwvUobGZA9ihcj8IxcEBcj8L1KOxVQKRwPQrXY09AZmZmZmbuY0CamZmZmelYQOF6FK5HaWZAuB6F61FYVkAfhetRuF5iQOxRuB6Fa1ZAAAAAAABwUUAfhetRuE5jQKRwPQrXI09Aj8L1KFyvYkA9CtejcG1hQGZmZmZmplxAH4XrUbimbECuR+F6FO5TQEjhehSuZ1tAKVyPwvUoakDXo3A9CudUQI/C9Shcb1JA"
         },
         "yaxis": "y",
         "type": "scatter"
        },
        {
         "hovertemplate": "brand_name=tesla<br>battery_capacity=%{x}<br>price (€)=%{y}<extra></extra>",
         "legendgroup": "tesla",
         "marker": {
          "color": "#FFA15A",
          "opacity": 0.6,
          "symbol": "circle"
         },
         "mode": "markers",
         "name": "tesla",
         "orientation": "v",
         "showlegend": true,
         "x": {
          "dtype": "f8",
          "bdata": "AAAAAACIs0A="
         },
         "xaxis": "x",
         "y": {
          "dtype": "f8",
          "bdata": "exSuR+HMhUA="
         },
         "yaxis": "y",
         "type": "scatter"
        },
        {
         "hovertemplate": "brand_name=google<br>battery_capacity=%{x}<br>price (€)=%{y}<extra></extra>",
         "legendgroup": "google",
         "marker": {
          "color": "#19d3f3",
          "opacity": 0.6,
          "symbol": "circle"
         },
         "mode": "markers",
         "name": "google",
         "orientation": "v",
         "showlegend": true,
         "x": {
          "dtype": "f8",
          "bdata": "AAAAAAA6sUAAAAAAADqxQAAAAAAAiLNAAAAAAAADsUAAAAAAAIuzQAAAAAAABrJAAAAAAADgpUAAAAAAAICrQAAAAAAA4K9AAAAAAACLs0AAAAAAAN6yQAAAAAAA6KxAAAAAAAAMskAAAAAAAIizQA=="
         },
         "xaxis": "x",
         "y": {
          "dtype": "f8",
          "bdata": "7FG4HoWvckCPwvUoXMt1QJqZmZmZiYlA7FG4HoWJgEAzMzMzM+mAQB+F61G4NnlAcT0K16MQaUDsUbgehetjQBSuR+F6bHZAuB6F61HSiEAUrkfhetCAQGZmZmZm7mNAUrgeheuNdEBSuB6F6xuGQA=="
         },
         "yaxis": "y",
         "type": "scatter"
        },
        {
         "hovertemplate": "brand_name=infinix<br>battery_capacity=%{x}<br>price (€)=%{y}<extra></extra>",
         "legendgroup": "infinix",
         "marker": {
          "color": "#FF6692",
          "opacity": 0.6,
          "symbol": "circle"
         },
         "mode": "markers",
         "name": "infinix",
         "orientation": "v",
         "showlegend": true,
         "x": {
          "dtype": "f8",
          "bdata": "AAAAAACIs0AAAAAAAIizQAAAAAAAiLNAAAAAAACUsUAAAAAAAJSxQAAAAAAAiLNAAAAAAACIs0AAAAAAAIizQAAAAAAAiLNAAAAAAABwt0AAAAAAAIizQAAAAAAAiLNAAAAAAABwt0AAAAAAAHC3QAAAAAAAlLFAAAAAAACIs0AAAAAAAIizQAAAAAAAiLNAAAAAAACIs0AAAAAAAIizQAAAAAAAiLNAAAAAAACIs0AAAAAAAIizQAAAAAAAiLNAAAAAAACIs0AAAAAAAJSxQAAAAAAAiLNAAAAAAACIs0AAAAAAAIizQA=="
         },
         "xaxis": "x",
         "y": {
          "dtype": "f8",
          "bdata": "exSuR+GqZ0DD9Shcj0poQFyPwvUobGZASOF6FK4Ld0Bcj8L1KGxmQGZmZmZm7mNAmpmZmZnpWED2KFyPwg1lQFK4HoXr6WhA7FG4HoVrVkBmZmZmZiZdQAAAAAAAcFFAmpmZmZnpWEAzMzMzMzNWQM3MzMzMZGtAH4XrUbi+XkC4HoXrUQhbQM3MzMzMPFJAhetRuB4tZUA9CtejcK1UQGZmZmZm7mNAmpmZmZkxYECamZmZmTFgQIXrUbgeLWVAFK5H4XokWEBSuB6F6+loQJqZmZmZ6VhAj8L1KFyvYkAzMzMzM+NfQA=="
         },
         "yaxis": "y",
         "type": "scatter"
        },
        {
         "hovertemplate": "brand_name=cola<br>battery_capacity=%{x}<br>price (€)=%{y}<extra></extra>",
         "legendgroup": "cola",
         "marker": {
          "color": "#B6E880",
          "opacity": 0.6,
          "symbol": "circle"
         },
         "mode": "markers",
         "name": "cola",
         "orientation": "v",
         "showlegend": true,
         "x": {
          "dtype": "f8",
          "bdata": "AAAAAACIs0A="
         },
         "xaxis": "x",
         "y": {
          "dtype": "f8",
          "bdata": "j8L1KFyvYkA="
         },
         "yaxis": "y",
         "type": "scatter"
        },
        {
         "hovertemplate": "brand_name=letv<br>battery_capacity=%{x}<br>price (€)=%{y}<extra></extra>",
         "legendgroup": "letv",
         "marker": {
          "color": "#FF97FF",
          "opacity": 0.6,
          "symbol": "circle"
         },
         "mode": "markers",
         "name": "letv",
         "orientation": "v",
         "showlegend": true,
         "x": {
          "dtype": "f8",
          "bdata": "AAAAAABAr0AAAAAAAECvQAAAAAAAQK9A"
         },
         "xaxis": "x",
         "y": {
          "dtype": "f8",
          "bdata": "ZmZmZmZmS0AAAAAAAHBRQIXrUbge5U1A"
         },
         "yaxis": "y",
         "type": "scatter"
        },
        {
         "hovertemplate": "brand_name=ikall<br>battery_capacity=%{x}<br>price (€)=%{y}<extra></extra>",
         "legendgroup": "ikall",
         "marker": {
          "color": "#FECB52",
          "opacity": 0.6,
          "symbol": "circle"
         },
         "mode": "markers",
         "name": "ikall",
         "orientation": "v",
         "showlegend": true,
         "x": {
          "dtype": "f8",
          "bdata": "AAAAAACIs0AAAAAAAIizQAAAAAAAiLNA"
         },
         "xaxis": "x",
         "y": {
          "dtype": "f8",
          "bdata": "PQrXo3AtVECuR+F6FO5TQHE9Ctej8FBA"
         },
         "yaxis": "y",
         "type": "scatter"
        },
        {
         "hovertemplate": "brand_name=leeco<br>battery_capacity=%{x}<br>price (€)=%{y}<extra></extra>",
         "legendgroup": "leeco",
         "marker": {
          "color": "#636efa",
          "opacity": 0.6,
          "symbol": "circle"
         },
         "mode": "markers",
         "name": "leeco",
         "orientation": "v",
         "showlegend": true,
         "x": {
          "dtype": "f8",
          "bdata": "AAAAAACIs0A="
         },
         "xaxis": "x",
         "y": {
          "dtype": "f8",
          "bdata": "SOF6FK5nW0A="
         },
         "yaxis": "y",
         "type": "scatter"
        },
        {
         "hovertemplate": "brand_name=duoqin<br>battery_capacity=%{x}<br>price (€)=%{y}<extra></extra>",
         "legendgroup": "duoqin",
         "marker": {
          "color": "#EF553B",
          "opacity": 0.6,
          "symbol": "circle"
         },
         "mode": "markers",
         "name": "duoqin",
         "orientation": "v",
         "showlegend": true,
         "x": {
          "dtype": "f8",
          "bdata": "AAAAAADMoEA="
         },
         "xaxis": "x",
         "y": {
          "dtype": "f8",
          "bdata": "pHA9CtfjWEA="
         },
         "yaxis": "y",
         "type": "scatter"
        },
        {
         "hovertemplate": "brand_name=nokia<br>battery_capacity=%{x}<br>price (€)=%{y}<extra></extra>",
         "legendgroup": "nokia",
         "marker": {
          "color": "#00cc96",
          "opacity": 0.6,
          "symbol": "circle"
         },
         "mode": "markers",
         "name": "nokia",
         "orientation": "v",
         "showlegend": true,
         "x": {
          "dtype": "f8",
          "bdata": "AAAAAABwt0AAAAAAAHC3QAAAAAAAiLNAAAAAAAC6s0AAAAAAAHaxQAAAAAAAcLdAAAAAAACUsUAAAAAAALqzQAAAAAAAurNAAAAAAABwp0AAAAAAALqzQAAAAAAAaLBAAAAAAABwt0A="
         },
         "xaxis": "x",
         "y": {
          "dtype": "f8",
          "bdata": "CtejcD1GfUDNzMzMzMx1QLgehetRKFpAexSuR+GqV0DhehSuR2lmQDMzMzMzI39AXI/C9SjAcUApXI/C9dBgQIXrUbge5V1ASOF6FK4nSkDsUbgehWtWQOxRuB6FJ3pAcT0K16PoeEA="
         },
         "yaxis": "y",
         "type": "scatter"
        },
        {
         "hovertemplate": "brand_name=lava<br>battery_capacity=%{x}<br>price (€)=%{y}<extra></extra>",
         "legendgroup": "lava",
         "marker": {
          "color": "#ab63fa",
          "opacity": 0.6,
          "symbol": "circle"
         },
         "mode": "markers",
         "name": "lava",
         "orientation": "v",
         "showlegend": true,
         "x": {
          "dtype": "f8",
          "bdata": "AAAAAACIs0AAAAAAAIizQAAAAAAAiLNAAAAAAABAr0A="
         },
         "xaxis": "x",
         "y": {
          "dtype": "f8",
          "bdata": "SOF6FK5nW0DhehSuR2lmQOxRuB6Fa1ZAAAAAAABwUUA="
         },
         "yaxis": "y",
         "type": "scatter"
        },
        {
         "hovertemplate": "brand_name=honor<br>battery_capacity=%{x}<br>price (€)=%{y}<extra></extra>",
         "legendgroup": "honor",
         "marker": {
          "color": "#FFA15A",
          "opacity": 0.6,
          "symbol": "circle"
         },
         "mode": "markers",
         "name": "honor",
         "orientation": "v",
         "showlegend": true,
         "x": {
          "dtype": "f8",
          "bdata": "AAAAAADss0AAAAAAAMCyQAAAAAAAwLJAAAAAAADMsEAAAAAAAMCyQAAAAAAA+LFAAAAAAACIs0AAAAAAAJSxQAAAAAAAQK9AAAAAAACIs0AAAAAAAMywQAAAAAAAiLNAAAAAAACIs0A="
         },
         "xaxis": "x",
         "y": {
          "dtype": "f8",
          "bdata": "cT0K16NwcUCF61G4Hi1lQHE9Ctej6HhAmpmZmZkhb0CamZmZmU1zQI/C9ShclY1AmpmZmZnpWEAK16NwPSCBQIXrUbgeLWVAuB6F61FwYUAUrkfheox0QLgehetRcGFAFK5H4XqsYkA="
         },
         "yaxis": "y",
         "type": "scatter"
        },
        {
         "hovertemplate": "brand_name=nubia<br>battery_capacity=%{x}<br>price (€)=%{y}<extra></extra>",
         "legendgroup": "nubia",
         "marker": {
          "color": "#19d3f3",
          "opacity": 0.6,
          "symbol": "circle"
         },
         "mode": "markers",
         "name": "nubia",
         "orientation": "v",
         "showlegend": true,
         "x": {
          "dtype": "f8",
          "bdata": "AAAAAABwt0AAAAAAAIizQAAAAAAAiLNAAAAAAACIs0AAAAAAAIizQAAAAAAAurNA"
         },
         "xaxis": "x",
         "y": {
          "dtype": "f8",
          "bdata": "zczMzMxEfUDNzMzMzMx1QHE9Ctej/oJAj8L1KFz/gkAzMzMzMyN/QI/C9ShcB3xA"
         },
         "yaxis": "y",
         "type": "scatter"
        },
        {
         "hovertemplate": "brand_name=redmi<br>battery_capacity=%{x}<br>price (€)=%{y}<extra></extra>",
         "legendgroup": "redmi",
         "marker": {
          "color": "#FF6692",
          "opacity": 0.6,
          "symbol": "circle"
         },
         "mode": "markers",
         "name": "redmi",
         "orientation": "v",
         "showlegend": true,
         "x": {
          "dtype": "f8",
          "bdata": "AAAAAACIs0AAAAAAAIizQAAAAAAAiLNA"
         },
         "xaxis": "x",
         "y": {
          "dtype": "f8",
          "bdata": "exSuR+GqZ0BSuB6F6+loQK5H4XoU7lNA"
         },
         "yaxis": "y",
         "type": "scatter"
        },
        {
         "hovertemplate": "brand_name=asus<br>battery_capacity=%{x}<br>price (€)=%{y}<extra></extra>",
         "legendgroup": "asus",
         "marker": {
          "color": "#B6E880",
          "opacity": 0.6,
          "symbol": "circle"
         },
         "mode": "markers",
         "name": "asus",
         "orientation": "v",
         "showlegend": true,
         "x": {
          "dtype": "f8",
          "bdata": "AAAAAABwt0AAAAAAAHC3QAAAAAAAcLdAAAAAAADMsEAAAAAAAHC3QAAAAAAAcLdAAAAAAABwt0A="
         },
         "xaxis": "x",
         "y": {
          "dtype": "f8",
          "bdata": "PQrXo3AHjEDD9Shcj6qHQK5H4XoUvIZA9ihcj8Ltg0CuR+F6FOp4QLgehetRbIZAUrgehevQkEA="
         },
         "yaxis": "y",
         "type": "scatter"
        },
        {
         "hovertemplate": "brand_name=itel<br>battery_capacity=%{x}<br>price (€)=%{y}<extra></extra>",
         "legendgroup": "itel",
         "marker": {
          "color": "#FF97FF",
          "opacity": 0.6,
          "symbol": "circle"
         },
         "mode": "markers",
         "name": "itel",
         "orientation": "v",
         "showlegend": true,
         "x": {
          "dtype": "f8",
          "bdata": "AAAAAABAr0AAAAAAAIizQAAAAAAAmKdAAAAAAACIs0AAAAAAAIizQAAAAAAAQK9AAAAAAABAr0AAAAAAAMCiQAAAAAAAQK9AAAAAAACYp0A="
         },
         "xaxis": "x",
         "y": {
          "dtype": "f8",
          "bdata": "CtejcD1qUUDsUbgehStQQJqZmZmZ2U1AcT0K16OwUEAzMzMzM9NMQJqZmZmZ2U1AexSuR+FaS0DNzMzMzOxDQJqZmZmZWU1AexSuR+HaR0A="
         },
         "yaxis": "y",
         "type": "scatter"
        },
        {
         "hovertemplate": "brand_name=royole<br>battery_capacity=%{x}<br>price (€)=%{y}<extra></extra>",
         "legendgroup": "royole",
         "marker": {
          "color": "#FECB52",
          "opacity": 0.6,
          "symbol": "circle"
         },
         "mode": "markers",
         "name": "royole",
         "orientation": "v",
         "showlegend": true,
         "x": {
          "dtype": "f8",
          "bdata": "AAAAAABisUAAAAAAAECqQA=="
         },
         "xaxis": "x",
         "y": {
          "dtype": "f8",
          "bdata": "AAAAAAAhkUDD9Shcj1uXQA=="
         },
         "yaxis": "y",
         "type": "scatter"
        },
        {
         "hovertemplate": "brand_name=sony<br>battery_capacity=%{x}<br>price (€)=%{y}<extra></extra>",
         "legendgroup": "sony",
         "marker": {
          "color": "#636efa",
          "opacity": 0.6,
          "symbol": "circle"
         },
         "mode": "markers",
         "name": "sony",
         "orientation": "v",
         "showlegend": true,
         "x": {
          "dtype": "f8",
          "bdata": "AAAAAACUsUAAAAAAAECvQAAAAAAAQK9AAAAAAACIs0AAAAAAAIizQAAAAAAAQK9AAAAAAACIs0AAAAAAACCsQAAAAAAAlLFA"
         },
         "xaxis": "x",
         "y": {
          "dtype": "f8",
          "bdata": "mpmZmZkFlUDsUbgehetjQFyPwvUozIVAhetRuB71jEDXo3A9CudoQHsUrkfhzIVAmpmZmZmZiUBxPQrXo3BxQJqZmZmZTXNA"
         },
         "yaxis": "y",
         "type": "scatter"
        },
        {
         "hovertemplate": "brand_name=oukitel<br>battery_capacity=%{x}<br>price (€)=%{y}<extra></extra>",
         "legendgroup": "oukitel",
         "marker": {
          "color": "#EF553B",
          "opacity": 0.6,
          "symbol": "circle"
         },
         "mode": "markers",
         "name": "oukitel",
         "orientation": "v",
         "showlegend": true,
         "x": {
          "dtype": "f8",
          "bdata": "AAAAAACC1EAAAAAAACTDQAAAAAAAQL9A"
         },
         "xaxis": "x",
         "y": {
          "dtype": "f8",
          "bdata": "rkfhehSuckCkcD0K16NsQPYoXI/CIXBA"
         },
         "yaxis": "y",
         "type": "scatter"
        },
        {
         "hovertemplate": "brand_name=vertu<br>battery_capacity=%{x}<br>price (€)=%{y}<extra></extra>",
         "legendgroup": "vertu",
         "marker": {
          "color": "#00cc96",
          "opacity": 0.6,
          "symbol": "circle"
         },
         "mode": "markers",
         "name": "vertu",
         "orientation": "v",
         "showlegend": true,
         "x": {
          "dtype": "f8",
          "bdata": "AAAAAADGoUA="
         },
         "xaxis": "x",
         "y": {
          "dtype": "f8",
          "bdata": "ZmZmZuZNuUA="
         },
         "yaxis": "y",
         "type": "scatter"
        },
        {
         "hovertemplate": "brand_name=blu<br>battery_capacity=%{x}<br>price (€)=%{y}<extra></extra>",
         "legendgroup": "blu",
         "marker": {
          "color": "#ab63fa",
          "opacity": 0.6,
          "symbol": "circle"
         },
         "mode": "markers",
         "name": "blu",
         "orientation": "v",
         "showlegend": true,
         "x": {
          "dtype": "f8",
          "bdata": "AAAAAACIs0A="
         },
         "xaxis": "x",
         "y": {
          "dtype": "f8",
          "bdata": "FK5H4XqsYkA="
         },
         "yaxis": "y",
         "type": "scatter"
        },
        {
         "hovertemplate": "brand_name=lyf<br>battery_capacity=%{x}<br>price (€)=%{y}<extra></extra>",
         "legendgroup": "lyf",
         "marker": {
          "color": "#FFA15A",
          "opacity": 0.6,
          "symbol": "circle"
         },
         "mode": "markers",
         "name": "lyf",
         "orientation": "v",
         "showlegend": true,
         "x": {
          "dtype": "f8",
          "bdata": "AAAAAABYq0AAAAAAAIijQA=="
         },
         "xaxis": "x",
         "y": {
          "dtype": "f8",
          "bdata": "4XoUrkfhQ0DD9Shcj2JDQA=="
         },
         "yaxis": "y",
         "type": "scatter"
        },
        {
         "hovertemplate": "brand_name=huawei<br>battery_capacity=%{x}<br>price (€)=%{y}<extra></extra>",
         "legendgroup": "huawei",
         "marker": {
          "color": "#19d3f3",
          "opacity": 0.6,
          "symbol": "circle"
         },
         "mode": "markers",
         "name": "huawei",
         "orientation": "v",
         "showlegend": true,
         "x": {
          "dtype": "f8",
          "bdata": "AAAAAABcskAAAAAAAJSxQAAAAAAAQK9AAAAAAAAwsUAAAAAAAJSxQAAAAAAA+LFAAAAAAADMsEAAAAAAAAixQAAAAAAAaLBAAAAAAABosEAAAAAAAHCnQAAAAAAAiLNAAAAAAABAr0AAAAAAAIizQAAAAAAAlLFAAAAAAACUsUA="
         },
         "xaxis": "x",
         "y": {
          "dtype": "f8",
          "bdata": "XI/C9aivokA9CtejcOVtQNejcD0K52hAXI/C9SjMhUAAAAAAACSPQD0K16NwYZlArkfhehSuckCPwvUoXP+CQHE9Ctej2IlAzczMzMxka0BI4XoUrkdbQM3MzMzMZGtArkfhehSuckCkcD0K16NsQEjhehQuvaBAAAAAAABRmkA="
         },
         "yaxis": "y",
         "type": "scatter"
        },
        {
         "hovertemplate": "brand_name=zte<br>battery_capacity=%{x}<br>price (€)=%{y}<extra></extra>",
         "legendgroup": "zte",
         "marker": {
          "color": "#FF6692",
          "opacity": 0.6,
          "symbol": "circle"
         },
         "mode": "markers",
         "name": "zte",
         "orientation": "v",
         "showlegend": true,
         "x": {
          "dtype": "f8",
          "bdata": "AAAAAACIs0AAAAAAAGiwQA=="
         },
         "xaxis": "x",
         "y": {
          "dtype": "f8",
          "bdata": "uB6F61FOg0BSuB6F6+loQA=="
         },
         "yaxis": "y",
         "type": "scatter"
        },
        {
         "hovertemplate": "brand_name=lenovo<br>battery_capacity=%{x}<br>price (€)=%{y}<extra></extra>",
         "legendgroup": "lenovo",
         "marker": {
          "color": "#B6E880",
          "opacity": 0.6,
          "symbol": "circle"
         },
         "mode": "markers",
         "name": "lenovo",
         "orientation": "v",
         "showlegend": true,
         "x": {
          "dtype": "f8",
          "bdata": "AAAAAADgtUAAAAAAAIizQA=="
         },
         "xaxis": "x",
         "y": {
          "dtype": "f8",
          "bdata": "zczMzMxEfUCamZmZma+CQA=="
         },
         "yaxis": "y",
         "type": "scatter"
        },
        {
         "hovertemplate": "brand_name=lg<br>battery_capacity=%{x}<br>price (€)=%{y}<extra></extra>",
         "legendgroup": "lg",
         "marker": {
          "color": "#FF97FF",
          "opacity": 0.6,
          "symbol": "circle"
         },
         "mode": "markers",
         "name": "lg",
         "orientation": "v",
         "showlegend": true,
         "x": {
          "dtype": "f8",
          "bdata": "AAAAAABAr0AAAAAAAMywQAAAAAAAiLNA"
         },
         "xaxis": "x",
         "y": {
          "dtype": "f8",
          "bdata": "KVyPwvUggUApXI/C9SCBQD0K16Nw6YhA"
         },
         "yaxis": "y",
         "type": "scatter"
        },
        {
         "hovertemplate": "brand_name=micromax<br>battery_capacity=%{x}<br>price (€)=%{y}<extra></extra>",
         "legendgroup": "micromax",
         "marker": {
          "color": "#FECB52",
          "opacity": 0.6,
          "symbol": "circle"
         },
         "mode": "markers",
         "name": "micromax",
         "orientation": "v",
         "showlegend": true,
         "x": {
          "dtype": "f8",
          "bdata": "AAAAAACIs0AAAAAAAIizQAAAAAAAiLNA"
         },
         "xaxis": "x",
         "y": {
          "dtype": "f8",
          "bdata": "AAAAAABwUUCF61G4HuVNQClcj8L1aFNA"
         },
         "yaxis": "y",
         "type": "scatter"
        },
        {
         "hovertemplate": "brand_name=leitz<br>battery_capacity=%{x}<br>price (€)=%{y}<extra></extra>",
         "legendgroup": "leitz",
         "marker": {
          "color": "#636efa",
          "opacity": 0.6,
          "symbol": "circle"
         },
         "mode": "markers",
         "name": "leitz",
         "orientation": "v",
         "showlegend": true,
         "x": {
          "dtype": "f8",
          "bdata": "AAAAAACIs0A="
         },
         "xaxis": "x",
         "y": {
          "dtype": "f8",
          "bdata": "mpmZmZl2k0A="
         },
         "yaxis": "y",
         "type": "scatter"
        },
        {
         "hovertemplate": "brand_name=cat<br>battery_capacity=%{x}<br>price (€)=%{y}<extra></extra>",
         "legendgroup": "cat",
         "marker": {
          "color": "#EF553B",
          "opacity": 0.6,
          "symbol": "circle"
         },
         "mode": "markers",
         "name": "cat",
         "orientation": "v",
         "showlegend": true,
         "x": {
          "dtype": "f8",
          "bdata": "AAAAAABAn0A="
         },
         "xaxis": "x",
         "y": {
          "dtype": "f8",
          "bdata": "j8L1KFyvYkA="
         },
         "yaxis": "y",
         "type": "scatter"
        },
        {
         "hovertemplate": "brand_name=doogee<br>battery_capacity=%{x}<br>price (€)=%{y}<extra></extra>",
         "legendgroup": "doogee",
         "marker": {
          "color": "#00cc96",
          "opacity": 0.6,
          "symbol": "circle"
         },
         "mode": "markers",
         "name": "doogee",
         "orientation": "v",
         "showlegend": true,
         "x": {
          "dtype": "f8",
          "bdata": "AAAAAAB81UAAAAAAAHC3QA=="
         },
         "xaxis": "x",
         "y": {
          "dtype": "f8",
          "bdata": "exSuR+GmfECPwvUoXK9iQA=="
         },
         "yaxis": "y",
         "type": "scatter"
        },
        {
         "hovertemplate": "brand_name=tcl<br>battery_capacity=%{x}<br>price (€)=%{y}<extra></extra>",
         "legendgroup": "tcl",
         "marker": {
          "color": "#ab63fa",
          "opacity": 0.6,
          "symbol": "circle"
         },
         "mode": "markers",
         "name": "tcl",
         "orientation": "v",
         "showlegend": true,
         "x": {
          "dtype": "f8",
          "bdata": "AAAAAABwp0A="
         },
         "xaxis": "x",
         "y": {
          "dtype": "f8",
          "bdata": "9ihcj8JlVkA="
         },
         "yaxis": "y",
         "type": "scatter"
        },
        {
         "hovertemplate": "brand_name=sharp<br>battery_capacity=%{x}<br>price (€)=%{y}<extra></extra>",
         "legendgroup": "sharp",
         "marker": {
          "color": "#FFA15A",
          "opacity": 0.6,
          "symbol": "circle"
         },
         "mode": "markers",
         "name": "sharp",
         "orientation": "v",
         "showlegend": true,
         "x": {
          "dtype": "f8",
          "bdata": "AAAAAAAkrUA="
         },
         "xaxis": "x",
         "y": {
          "dtype": "f8",
          "bdata": "exSuR+GugkA="
         },
         "yaxis": "y",
         "type": "scatter"
        },
        {
         "hovertemplate": "brand_name=blackview<br>battery_capacity=%{x}<br>price (€)=%{y}<extra></extra>",
         "legendgroup": "blackview",
         "marker": {
          "color": "#19d3f3",
          "opacity": 0.6,
          "symbol": "circle"
         },
         "mode": "markers",
         "name": "blackview",
         "orientation": "v",
         "showlegend": true,
         "x": {
          "dtype": "f8",
          "bdata": "AAAAAAA8tEA="
         },
         "xaxis": "x",
         "y": {
          "dtype": "f8",
          "bdata": "9ihcj8JlVkA="
         },
         "yaxis": "y",
         "type": "scatter"
        }
       ],
       "layout": {
        "template": {
         "data": {
          "histogram2dcontour": [
           {
            "type": "histogram2dcontour",
            "colorbar": {
             "outlinewidth": 0,
             "ticks": ""
            },
            "colorscale": [
             [
              0.0,
              "#0d0887"
             ],
             [
              0.1111111111111111,
              "#46039f"
             ],
             [
              0.2222222222222222,
              "#7201a8"
             ],
             [
              0.3333333333333333,
              "#9c179e"
             ],
             [
              0.4444444444444444,
              "#bd3786"
             ],
             [
              0.5555555555555556,
              "#d8576b"
             ],
             [
              0.6666666666666666,
              "#ed7953"
             ],
             [
              0.7777777777777778,
              "#fb9f3a"
             ],
             [
              0.8888888888888888,
              "#fdca26"
             ],
             [
              1.0,
              "#f0f921"
             ]
            ]
           }
          ],
          "choropleth": [
           {
            "type": "choropleth",
            "colorbar": {
             "outlinewidth": 0,
             "ticks": ""
            }
           }
          ],
          "histogram2d": [
           {
            "type": "histogram2d",
            "colorbar": {
             "outlinewidth": 0,
             "ticks": ""
            },
            "colorscale": [
             [
              0.0,
              "#0d0887"
             ],
             [
              0.1111111111111111,
              "#46039f"
             ],
             [
              0.2222222222222222,
              "#7201a8"
             ],
             [
              0.3333333333333333,
              "#9c179e"
             ],
             [
              0.4444444444444444,
              "#bd3786"
             ],
             [
              0.5555555555555556,
              "#d8576b"
             ],
             [
              0.6666666666666666,
              "#ed7953"
             ],
             [
              0.7777777777777778,
              "#fb9f3a"
             ],
             [
              0.8888888888888888,
              "#fdca26"
             ],
             [
              1.0,
              "#f0f921"
             ]
            ]
           }
          ],
          "heatmap": [
           {
            "type": "heatmap",
            "colorbar": {
             "outlinewidth": 0,
             "ticks": ""
            },
            "colorscale": [
             [
              0.0,
              "#0d0887"
             ],
             [
              0.1111111111111111,
              "#46039f"
             ],
             [
              0.2222222222222222,
              "#7201a8"
             ],
             [
              0.3333333333333333,
              "#9c179e"
             ],
             [
              0.4444444444444444,
              "#bd3786"
             ],
             [
              0.5555555555555556,
              "#d8576b"
             ],
             [
              0.6666666666666666,
              "#ed7953"
             ],
             [
              0.7777777777777778,
              "#fb9f3a"
             ],
             [
              0.8888888888888888,
              "#fdca26"
             ],
             [
              1.0,
              "#f0f921"
             ]
            ]
           }
          ],
          "contourcarpet": [
           {
            "type": "contourcarpet",
            "colorbar": {
             "outlinewidth": 0,
             "ticks": ""
            }
           }
          ],
          "contour": [
           {
            "type": "contour",
            "colorbar": {
             "outlinewidth": 0,
             "ticks": ""
            },
            "colorscale": [
             [
              0.0,
              "#0d0887"
             ],
             [
              0.1111111111111111,
              "#46039f"
             ],
             [
              0.2222222222222222,
              "#7201a8"
             ],
             [
              0.3333333333333333,
              "#9c179e"
             ],
             [
              0.4444444444444444,
              "#bd3786"
             ],
             [
              0.5555555555555556,
              "#d8576b"
             ],
             [
              0.6666666666666666,
              "#ed7953"
             ],
             [
              0.7777777777777778,
              "#fb9f3a"
             ],
             [
              0.8888888888888888,
              "#fdca26"
             ],
             [
              1.0,
              "#f0f921"
             ]
            ]
           }
          ],
          "surface": [
           {
            "type": "surface",
            "colorbar": {
             "outlinewidth": 0,
             "ticks": ""
            },
            "colorscale": [
             [
              0.0,
              "#0d0887"
             ],
             [
              0.1111111111111111,
              "#46039f"
             ],
             [
              0.2222222222222222,
              "#7201a8"
             ],
             [
              0.3333333333333333,
              "#9c179e"
             ],
             [
              0.4444444444444444,
              "#bd3786"
             ],
             [
              0.5555555555555556,
              "#d8576b"
             ],
             [
              0.6666666666666666,
              "#ed7953"
             ],
             [
              0.7777777777777778,
              "#fb9f3a"
             ],
             [
              0.8888888888888888,
              "#fdca26"
             ],
             [
              1.0,
              "#f0f921"
             ]
            ]
           }
          ],
          "mesh3d": [
           {
            "type": "mesh3d",
            "colorbar": {
             "outlinewidth": 0,
             "ticks": ""
            }
           }
          ],
          "scatter": [
           {
            "marker": {
             "line": {
              "color": "#283442"
             }
            },
            "type": "scatter"
           }
          ],
          "parcoords": [
           {
            "type": "parcoords",
            "line": {
             "colorbar": {
              "outlinewidth": 0,
              "ticks": ""
             }
            }
           }
          ],
          "scatterpolargl": [
           {
            "type": "scatterpolargl",
            "marker": {
             "colorbar": {
              "outlinewidth": 0,
              "ticks": ""
             }
            }
           }
          ],
          "bar": [
           {
            "error_x": {
             "color": "#f2f5fa"
            },
            "error_y": {
             "color": "#f2f5fa"
            },
            "marker": {
             "line": {
              "color": "rgb(17,17,17)",
              "width": 0.5
             },
             "pattern": {
              "fillmode": "overlay",
              "size": 10,
              "solidity": 0.2
             }
            },
            "type": "bar"
           }
          ],
          "scattergeo": [
           {
            "type": "scattergeo",
            "marker": {
             "colorbar": {
              "outlinewidth": 0,
              "ticks": ""
             }
            }
           }
          ],
          "scatterpolar": [
           {
            "type": "scatterpolar",
            "marker": {
             "colorbar": {
              "outlinewidth": 0,
              "ticks": ""
             }
            }
           }
          ],
          "histogram": [
           {
            "marker": {
             "pattern": {
              "fillmode": "overlay",
              "size": 10,
              "solidity": 0.2
             }
            },
            "type": "histogram"
           }
          ],
          "scattergl": [
           {
            "marker": {
             "line": {
              "color": "#283442"
             }
            },
            "type": "scattergl"
           }
          ],
          "scatter3d": [
           {
            "type": "scatter3d",
            "line": {
             "colorbar": {
              "outlinewidth": 0,
              "ticks": ""
             }
            },
            "marker": {
             "colorbar": {
              "outlinewidth": 0,
              "ticks": ""
             }
            }
           }
          ],
          "scattermap": [
           {
            "type": "scattermap",
            "marker": {
             "colorbar": {
              "outlinewidth": 0,
              "ticks": ""
             }
            }
           }
          ],
          "scattermapbox": [
           {
            "type": "scattermapbox",
            "marker": {
             "colorbar": {
              "outlinewidth": 0,
              "ticks": ""
             }
            }
           }
          ],
          "scatterternary": [
           {
            "type": "scatterternary",
            "marker": {
             "colorbar": {
              "outlinewidth": 0,
              "ticks": ""
             }
            }
           }
          ],
          "scattercarpet": [
           {
            "type": "scattercarpet",
            "marker": {
             "colorbar": {
              "outlinewidth": 0,
              "ticks": ""
             }
            }
           }
          ],
          "carpet": [
           {
            "aaxis": {
             "endlinecolor": "#A2B1C6",
             "gridcolor": "#506784",
             "linecolor": "#506784",
             "minorgridcolor": "#506784",
             "startlinecolor": "#A2B1C6"
            },
            "baxis": {
             "endlinecolor": "#A2B1C6",
             "gridcolor": "#506784",
             "linecolor": "#506784",
             "minorgridcolor": "#506784",
             "startlinecolor": "#A2B1C6"
            },
            "type": "carpet"
           }
          ],
          "table": [
           {
            "cells": {
             "fill": {
              "color": "#506784"
             },
             "line": {
              "color": "rgb(17,17,17)"
             }
            },
            "header": {
             "fill": {
              "color": "#2a3f5f"
             },
             "line": {
              "color": "rgb(17,17,17)"
             }
            },
            "type": "table"
           }
          ],
          "barpolar": [
           {
            "marker": {
             "line": {
              "color": "rgb(17,17,17)",
              "width": 0.5
             },
             "pattern": {
              "fillmode": "overlay",
              "size": 10,
              "solidity": 0.2
             }
            },
            "type": "barpolar"
           }
          ],
          "pie": [
           {
            "automargin": true,
            "type": "pie"
           }
          ]
         },
         "layout": {
          "autotypenumbers": "strict",
          "colorway": [
           "#636efa",
           "#EF553B",
           "#00cc96",
           "#ab63fa",
           "#FFA15A",
           "#19d3f3",
           "#FF6692",
           "#B6E880",
           "#FF97FF",
           "#FECB52"
          ],
          "font": {
           "color": "#f2f5fa"
          },
          "hovermode": "closest",
          "hoverlabel": {
           "align": "left"
          },
          "paper_bgcolor": "rgb(17,17,17)",
          "plot_bgcolor": "rgb(17,17,17)",
          "polar": {
           "bgcolor": "rgb(17,17,17)",
           "angularaxis": {
            "gridcolor": "#506784",
            "linecolor": "#506784",
            "ticks": ""
           },
           "radialaxis": {
            "gridcolor": "#506784",
            "linecolor": "#506784",
            "ticks": ""
           }
          },
          "ternary": {
           "bgcolor": "rgb(17,17,17)",
           "aaxis": {
            "gridcolor": "#506784",
            "linecolor": "#506784",
            "ticks": ""
           },
           "baxis": {
            "gridcolor": "#506784",
            "linecolor": "#506784",
            "ticks": ""
           },
           "caxis": {
            "gridcolor": "#506784",
            "linecolor": "#506784",
            "ticks": ""
           }
          },
          "coloraxis": {
           "colorbar": {
            "outlinewidth": 0,
            "ticks": ""
           }
          },
          "colorscale": {
           "sequential": [
            [
             0.0,
             "#0d0887"
            ],
            [
             0.1111111111111111,
             "#46039f"
            ],
            [
             0.2222222222222222,
             "#7201a8"
            ],
            [
             0.3333333333333333,
             "#9c179e"
            ],
            [
             0.4444444444444444,
             "#bd3786"
            ],
            [
             0.5555555555555556,
             "#d8576b"
            ],
            [
             0.6666666666666666,
             "#ed7953"
            ],
            [
             0.7777777777777778,
             "#fb9f3a"
            ],
            [
             0.8888888888888888,
             "#fdca26"
            ],
            [
             1.0,
             "#f0f921"
            ]
           ],
           "sequentialminus": [
            [
             0.0,
             "#0d0887"
            ],
            [
             0.1111111111111111,
             "#46039f"
            ],
            [
             0.2222222222222222,
             "#7201a8"
            ],
            [
             0.3333333333333333,
             "#9c179e"
            ],
            [
             0.4444444444444444,
             "#bd3786"
            ],
            [
             0.5555555555555556,
             "#d8576b"
            ],
            [
             0.6666666666666666,
             "#ed7953"
            ],
            [
             0.7777777777777778,
             "#fb9f3a"
            ],
            [
             0.8888888888888888,
             "#fdca26"
            ],
            [
             1.0,
             "#f0f921"
            ]
           ],
           "diverging": [
            [
             0,
             "#8e0152"
            ],
            [
             0.1,
             "#c51b7d"
            ],
            [
             0.2,
             "#de77ae"
            ],
            [
             0.3,
             "#f1b6da"
            ],
            [
             0.4,
             "#fde0ef"
            ],
            [
             0.5,
             "#f7f7f7"
            ],
            [
             0.6,
             "#e6f5d0"
            ],
            [
             0.7,
             "#b8e186"
            ],
            [
             0.8,
             "#7fbc41"
            ],
            [
             0.9,
             "#4d9221"
            ],
            [
             1,
             "#276419"
            ]
           ]
          },
          "xaxis": {
           "gridcolor": "#283442",
           "linecolor": "#506784",
           "ticks": "",
           "title": {
            "standoff": 15
           },
           "zerolinecolor": "#283442",
           "automargin": true,
           "zerolinewidth": 2
          },
          "yaxis": {
           "gridcolor": "#283442",
           "linecolor": "#506784",
           "ticks": "",
           "title": {
            "standoff": 15
           },
           "zerolinecolor": "#283442",
           "automargin": true,
           "zerolinewidth": 2
          },
          "scene": {
           "xaxis": {
            "backgroundcolor": "rgb(17,17,17)",
            "gridcolor": "#506784",
            "linecolor": "#506784",
            "showbackground": true,
            "ticks": "",
            "zerolinecolor": "#C8D4E3",
            "gridwidth": 2
           },
           "yaxis": {
            "backgroundcolor": "rgb(17,17,17)",
            "gridcolor": "#506784",
            "linecolor": "#506784",
            "showbackground": true,
            "ticks": "",
            "zerolinecolor": "#C8D4E3",
            "gridwidth": 2
           },
           "zaxis": {
            "backgroundcolor": "rgb(17,17,17)",
            "gridcolor": "#506784",
            "linecolor": "#506784",
            "showbackground": true,
            "ticks": "",
            "zerolinecolor": "#C8D4E3",
            "gridwidth": 2
           }
          },
          "shapedefaults": {
           "line": {
            "color": "#f2f5fa"
           }
          },
          "annotationdefaults": {
           "arrowcolor": "#f2f5fa",
           "arrowhead": 0,
           "arrowwidth": 1
          },
          "geo": {
           "bgcolor": "rgb(17,17,17)",
           "landcolor": "rgb(17,17,17)",
           "subunitcolor": "#506784",
           "showland": true,
           "showlakes": true,
           "lakecolor": "rgb(17,17,17)"
          },
          "title": {
           "x": 0.05
          },
          "updatemenudefaults": {
           "bgcolor": "#506784",
           "borderwidth": 0
          },
          "sliderdefaults": {
           "bgcolor": "#C8D4E3",
           "borderwidth": 1,
           "bordercolor": "rgb(17,17,17)",
           "tickwidth": 0
          },
          "mapbox": {
           "style": "dark"
          }
         }
        },
        "xaxis": {
         "anchor": "y",
         "domain": [
          0.0,
          1.0
         ],
         "title": {
          "text": "Capacité batterie"
         }
        },
        "yaxis": {
         "anchor": "x",
         "domain": [
          0.0,
          1.0
         ],
         "title": {
          "text": "Prix (€)"
         }
        },
        "legend": {
         "title": {
          "text": "brand_name"
         },
         "tracegroupgap": 0
        },
        "title": {
         "text": "Prix vs Capacité de batterie des smartphones"
        },
        "bargap": 0.1
       },
       "config": {
        "plotlyServerURL": "https://plot.ly"
       }
      }
     },
     "metadata": {},
     "output_type": "display_data"
    }
   ],
   "execution_count": 8
  },
  {
   "metadata": {},
   "cell_type": "markdown",
   "source": [
    "* Tendance générale :\n",
    "    - Il n’y a pas de corrélation claire entre le prix et la capacité de batterie.\n",
    "    - Des téléphones à prix très bas peuvent avoir une batterie très élevée (outliers visibles à droite).\n",
    "    - Inversement, certains téléphones chers n'ont qu'une capacité moyenne.\n",
    "* Présence d’outliers :\n",
    "    - Des smartphones affichent une capacité batterie supérieure à 10 000 mAh, ce qui est anormalement élevé pour des téléphones classiques → probablement des erreurs ou des modèles atypiques (tablettes, rugged phones).\n",
    "* Dispersion importante :\n",
    "    - Il y a une forte variabilité des prix pour une même capacité batterie, ce qui montre que la batterie n’est pas un facteur déterminant du prix."
   ],
   "id": "b24d95b9ff50f4f2"
  },
  {
   "metadata": {},
   "cell_type": "markdown",
   "source": "**Comparaison entre le prix et les différentes colonnes**",
   "id": "7a60f1f3b5be8ef4"
  },
  {
   "metadata": {
    "ExecuteTime": {
     "end_time": "2025-07-18T11:00:53.139591Z",
     "start_time": "2025-07-18T11:00:53.124895Z"
    }
   },
   "cell_type": "code",
   "source": [
    "### Liste des colonnes à comparer au prix\n",
    "colonnes = ['rating', 'num_cores', 'processor_speed', 'ram_capacity', 'internal_memory', 'screen_size', 'refresh_rate', ]\n",
    "\n",
    "### Création des traces pour chaque colonne\n",
    "fig_compare_to_price = go.Figure()\n",
    "\n",
    "for i, col in enumerate(colonnes):\n",
    "    fig_compare_to_price.add_trace(\n",
    "        go.Scatter(\n",
    "            x=data[col],\n",
    "            y=data['price (€)'],\n",
    "            mode='markers',\n",
    "            name=col,\n",
    "            visible=(i == 0)\n",
    "        )\n",
    "    )\n",
    "\n",
    "### Création du menu déroulant\n",
    "menu = [dict(\n",
    "    buttons=[dict(\n",
    "        label=col,\n",
    "        method='update',\n",
    "        args=[{'visible': [i == j for j in range(len(colonnes))]},\n",
    "              {'xaxis': {'title': col}}]\n",
    "    ) for i, col in enumerate(colonnes)],\n",
    "    direction='down',\n",
    "    showactive=True,\n",
    "    x=0.1,\n",
    "    y=1.15\n",
    ")]\n",
    "\n",
    "fig_compare_to_price.update_layout(\n",
    "    updatemenus=menu,\n",
    "    title='Prix vs variable sélectionnée',\n",
    "    xaxis_title=colonnes[0],\n",
    "    yaxis_title='Prix (€)',\n",
    "    height=600\n",
    ")\n",
    "\n",
    "fig_compare_to_price.show()"
   ],
   "id": "e4cf039aebe7117c",
   "outputs": [
    {
     "data": {
      "application/vnd.plotly.v1+json": {
       "data": [
        {
         "mode": "markers",
         "name": "rating",
         "visible": true,
         "x": {
          "dtype": "f8",
          "bdata": "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"
         },
         "y": {
          "dtype": "f8",
          "bdata": "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"
         },
         "type": "scatter"
        },
        {
         "mode": "markers",
         "name": "num_cores",
         "visible": false,
         "x": {
          "dtype": "f8",
          "bdata": "AAAAAAAAIEAAAAAAAAAgQAAAAAAAACBAAAAAAAAAIEAAAAAAAAAgQAAAAAAAACBAAAAAAAAAGEAAAAAAAAAgQAAAAAAAACBAAAAAAAAAIEAAAAAAAAAgQAAAAAAAACBAAAAAAAAAIEAAAAAAAAAgQAAAAAAAACBAAAAAAAAAGEAAAAAAAAAgQAAAAAAAACBAAAAAAAAAIEAAAAAAAAAgQAAAAAAAACBAAAAAAAAAIEAAAAAAAAAgQAAAAAAAACBAAAAAAAAAIEAAAAAAAAAgQAAAAAAAACBAAAAAAAAAGEAAAAAAAAAgQAAAAAAAACBAAAAAAAAAIEAAAAAAAAAgQAAAAAAAACBAAAAAAAAAGEAAAAAAAAAgQAAAAAAAACBAAAAAAAAAIEAAAAAAAAAgQAAAAAAAACBAAAAAAAAAIEAAAAAAAAAgQAAAAAAAACBAAAAAAAAAIEAAAAAAAAAgQAAAAAAAACBAAAAAAAAAIEAAAAAAAAAgQAAAAAAAACBAAAAAAAAAIEAAAAAAAAAgQAAAAAAAACBAAAAAAAAAIEAAAAAAAAAgQAAAAAAAACBAAAAAAAAAIEAAAAAAAAAgQAAAAAAAABhAAAAAAAAAIEAAAAAAAAAgQAAAAAAAACBAAAAAAAAAIEAAAAAAAAAgQAAAAAAAACBAAAAAAAAAIEAAAAAAAAAgQAAAAAAAACBAAAAAAAAAIEAAAAAAAAAgQAAAAAAAACBAAAAAAAAAIEAAAAAAAAAgQAAAAAAAACBAAAAAAAAAIEAAAAAAAAAgQAAAAAAAACBAAAAAAAAAEEAAAAAAAAAYQAAAAAAAACBAAAAAAAAAIEAAAAAAAAAgQAAAAAAAACBAAAAAAAAAIEAAAAAAAAAgQAAAAAAAACBAAAAAAAAAIEAAAAAAAAAgQAAAAAAAACBAAAAAAAAAIEAAAAAAAAAgQAAAAAAAACBAAAAAAAAAIEAAAAAAAAAgQAAAAAAAACBAAAAAAAAAIEAAAAAAAAAgQAAAAAAAACBAAAAAAAAAIEAAAAAAAAAgQAAAAAAAACBAAAAAAAAAIEAAAAAAAAAYQAAAAAAAACBAAAAAAAAAIEAAAAAAAAAgQAAAAAAAACBAAAAAAAAAIEAAAAAAAAAgQAAAAAAAACBAAAAAAAAAIEAAAAAAAAAgQAAAAAAAACBAAAAAAAAAGEAAAAAAAAAgQAAAAAAAACBAAAAAAAAAEEAAAAAAAAAgQAAAAAAAACBAAAAAAAAAIEAAAAAAAAAgQAAAAAAAACBAAAAAAAAAIEAAAAAAAAAgQAAAAAAAACBAAAAAAAAAIEAAAAAAAAAgQAAAAAAAACBAAAAAAAAAIEAAAAAAAAAgQAAAAAAAACBAAAAAAAAAIEAAAAAAAAAgQAAAAAAAACBAAAAAAAAAIEAAAAAAAAAgQAAAAAAAACBAAAAAAAAAIEAAAAAAAAAYQAAAAAAAACBAAAAAAAAAIEAAAAAAAAAgQAAAAAAAACBAAAAAAAAAIEAAAAAAAAAgQAAAAAAAABBAAAAAAAAAIEAAAAAAAAAgQAAAAAAAACBAAAAAAAAAIEAAAAAAAAAgQAAAAAAAABhAAAAAAAAAIEAAAAAAAAAgQAAAAAAAAPh/AAAAAAAAIEAAAAAAAAAgQAAAAAAAACBAAAAAAAAAIEAAAAAAAAAgQAAAAAAAACBAAAAAAAAAIEAAAAAAAAAgQAAAAAAAABhAAAAAAAAAIEAAAAAAAAAgQAAAAAAAACBAAAAAAAAAIEAAAAAAAAAgQAAAAAAAACBAAAAAAAAAIEAAAAAAAAAQQAAAAAAAACBAAAAAAAAAIEAAAAAAAAAgQAAAAAAAABhAAAAAAAAAIEAAAAAAAAAgQAAAAAAAACBAAAAAAAAAIEAAAAAAAAAgQAAAAAAAACBAAAAAAAAAIEAAAAAAAAAQQAAAAAAAACBAAAAAAAAAIEAAAAAAAAAgQAAAAAAAACBAAAAAAAAAIEAAAAAAAAAQQAAAAAAAABBAAAAAAAAAIEAAAAAAAAAgQAAAAAAAACBAAAAAAAAAIEAAAAAAAAAgQAAAAAAAACBAAAAAAAAAIEAAAAAAAAAgQAAAAAAAACBAAAAAAAAAIEAAAAAAAAAgQAAAAAAAACBAAAAAAAAAIEAAAAAAAAAgQAAAAAAAACBAAAAAAAAAIEAAAAAAAAAgQAAAAAAAACBAAAAAAAAAIEAAAAAAAAAgQAAAAAAAABhAAAAAAAAAIEAAAAAAAAAgQAAAAAAAACBAAAAAAAAAIEAAAAAAAAAgQAAAAAAAACBAAAAAAAAAIEAAAAAAAAAgQAAAAAAAACBAAAAAAAAAIEAAAAAAAAAgQAAAAAAAACBAAAAAAAAAIEAAAAAAAAAgQAAAAAAAACBAAAAAAAAAIEAAAAAAAAAgQAAAAAAAACBAAAAAAAAAIEAAAAAAAAAgQAAAAAAAACBAAAAAAAAAIEAAAAAAAAAgQAAAAAAAACBAAAAAAAAAIEAAAAAAAAAgQAAAAAAAACBAAAAAAAAAIEAAAAAAAAAgQAAAAAAAACBAAAAAAAAAIEAAAAAAAAAgQAAAAAAAACBAAAAAAAAAIEAAAAAAAAAgQAAAAAAAACBAAAAAAAAAGEAAAAAAAAAgQAAAAAAAACBAAAAAAAAAIEAAAAAAAAAgQAAAAAAAACBAAAAAAAAAIEAAAAAAAAAgQAAAAAAAACBAAAAAAAAAIEAAAAAAAAAgQAAAAAAAACBAAAAAAAAAIEAAAAAAAAAgQAAAAAAAACBAAAAAAAAAIEAAAAAAAAD4fwAAAAAAACBAAAAAAAAAIEAAAAAAAAAgQAAAAAAAACBAAAAAAAAAIEAAAAAAAAAgQAAAAAAAACBAAAAAAAAAIEAAAAAAAAAgQAAAAAAAACBAAAAAAAAAIEAAAAAAAAAgQAAAAAAAABhAAAAAAAAAIEAAAAAAAAAgQAAAAAAAACBAAAAAAAAAIEAAAAAAAAD4fwAAAAAAACBAAAAAAAAAIEAAAAAAAAAgQAAAAAAAACBAAAAAAAAAIEAAAAAAAAAgQAAAAAAAACBAAAAAAAAAGEAAAAAAAAAgQAAAAAAAACBAAAAAAAAAIEAAAAAAAAAgQAAAAAAAACBAAAAAAAAAIEAAAAAAAAAgQAAAAAAAACBAAAAAAAAAIEAAAAAAAAAgQAAAAAAAACBAAAAAAAAAIEAAAAAAAAAgQAAAAAAAACBAAAAAAAAAIEAAAAAAAAAgQAAAAAAAABhAAAAAAAAAIEAAAAAAAAAgQAAAAAAAACBAAAAAAAAAIEAAAAAAAAAgQAAAAAAAACBAAAAAAAAAIEAAAAAAAAAQQAAAAAAAACBAAAAAAAAAIEAAAAAAAAAgQAAAAAAAACBAAAAAAAAAIEAAAAAAAAAgQAAAAAAAACBAAAAAAAAAGEAAAAAAAAAgQAAAAAAAACBAAAAAAAAAIEAAAAAAAAAgQAAAAAAAACBAAAAAAAAAIEAAAAAAAAAgQAAAAAAAACBAAAAAAAAAIEAAAAAAAAAgQAAAAAAAACBAAAAAAAAAIEAAAAAAAAAgQAAAAAAAABBAAAAAAAAAIEAAAAAAAAAgQAAAAAAAACBAAAAAAAAAIEAAAAAAAAAgQAAAAAAAACBAAAAAAAAAIEAAAAAAAAAgQAAAAAAAABhAAAAAAAAAIEAAAAAAAAAgQAAAAAAAACBAAAAAAAAAIEAAAAAAAAAgQAAAAAAAABBAAAAAAAAAIEAAAAAAAAAgQAAAAAAAACBAAAAAAAAAIEAAAAAAAAAgQAAAAAAAACBAAAAAAAAAIEAAAAAAAAAgQAAAAAAAACBAAAAAAAAAIEAAAAAAAAAYQAAAAAAAACBAAAAAAAAAIEAAAAAAAAAgQAAAAAAAACBAAAAAAAAAIEAAAAAAAAAgQAAAAAAAACBAAAAAAAAAIEAAAAAAAAAgQAAAAAAAACBAAAAAAAAAIEAAAAAAAAAgQAAAAAAAACBAAAAAAAAAIEAAAAAAAAAgQAAAAAAAACBAAAAAAAAAIEAAAAAAAAAgQAAAAAAAACBAAAAAAAAAIEAAAAAAAAAgQAAAAAAAACBAAAAAAAAAIEAAAAAAAAAgQAAAAAAAACBAAAAAAAAAIEAAAAAAAAAgQAAAAAAAACBAAAAAAAAAIEAAAAAAAAAgQAAAAAAAACBAAAAAAAAAIEAAAAAAAAAgQAAAAAAAACBAAAAAAAAAEEAAAAAAAAAgQAAAAAAAACBAAAAAAAAAEEAAAAAAAAAgQAAAAAAAACBAAAAAAAAAIEAAAAAAAAAgQAAAAAAAACBAAAAAAAAAIEAAAAAAAAAgQAAAAAAAACBAAAAAAAAAIEAAAAAAAAAgQAAAAAAAACBAAAAAAAAAIEAAAAAAAAAgQAAAAAAAACBAAAAAAAAAIEAAAAAAAAAgQAAAAAAAABhAAAAAAAAAIEAAAAAAAAAgQAAAAAAAACBAAAAAAAAAIEAAAAAAAAAgQAAAAAAAACBAAAAAAAAAIEAAAAAAAAAgQAAAAAAAAPh/AAAAAAAAIEAAAAAAAAAgQAAAAAAAACBAAAAAAAAAIEAAAAAAAAAgQAAAAAAAACBAAAAAAAAAIEAAAAAAAAAgQAAAAAAAACBAAAAAAAAAGEAAAAAAAAAgQAAAAAAAACBAAAAAAAAAIEAAAAAAAAAgQAAAAAAAACBAAAAAAAAAIEAAAAAAAAAgQAAAAAAAABBAAAAAAAAA+H8AAAAAAAAgQAAAAAAAACBAAAAAAAAAIEAAAAAAAAAgQAAAAAAAACBAAAAAAAAAIEAAAAAAAAAgQAAAAAAAACBAAAAAAAAAIEAAAAAAAAAgQAAAAAAAACBAAAAAAAAAIEAAAAAAAAAgQAAAAAAAACBAAAAAAAAAIEAAAAAAAAAgQAAAAAAAACBAAAAAAAAAIEAAAAAAAAAgQAAAAAAAACBAAAAAAAAAIEAAAAAAAAAgQAAAAAAAACBAAAAAAAAAIEAAAAAAAAAgQAAAAAAAACBAAAAAAAAAIEAAAAAAAAAQQAAAAAAAACBAAAAAAAAAIEAAAAAAAAAQQAAAAAAAABBAAAAAAAAAIEAAAAAAAAAgQAAAAAAAACBAAAAAAAAAIEAAAAAAAAAgQAAAAAAAACBAAAAAAAAAIEAAAAAAAAAgQAAAAAAAACBAAAAAAAAAIEAAAAAAAAAgQAAAAAAAACBAAAAAAAAAIEAAAAAAAAAgQAAAAAAAACBAAAAAAAAAIEAAAAAAAAAgQAAAAAAAACBAAAAAAAAAIEAAAAAAAAAgQAAAAAAAACBAAAAAAAAAIEAAAAAAAAAgQAAAAAAAACBAAAAAAAAAEEAAAAAAAAAgQAAAAAAAACBAAAAAAAAAIEAAAAAAAAAgQAAAAAAAACBAAAAAAAAAIEAAAAAAAAAgQAAAAAAAACBAAAAAAAAAIEAAAAAAAAAgQAAAAAAAACBAAAAAAAAAIEAAAAAAAAAgQAAAAAAAACBAAAAAAAAAIEAAAAAAAAAgQAAAAAAAACBAAAAAAAAAIEAAAAAAAAAgQAAAAAAAABhAAAAAAAAAIEAAAAAAAAAgQAAAAAAAACBAAAAAAAAAIEAAAAAAAAAgQAAAAAAAACBAAAAAAAAAIEAAAAAAAAAgQAAAAAAAACBAAAAAAAAAIEAAAAAAAAAgQAAAAAAAACBAAAAAAAAAIEAAAAAAAAAgQAAAAAAAACBAAAAAAAAAIEAAAAAAAAAgQAAAAAAAACBAAAAAAAAAIEAAAAAAAAAgQAAAAAAAACBAAAAAAAAAIEAAAAAAAAAgQAAAAAAAACBAAAAAAAAAIEAAAAAAAAAgQAAAAAAAACBAAAAAAAAAIEAAAAAAAAAgQAAAAAAAACBAAAAAAAAAIEAAAAAAAAAgQAAAAAAAACBAAAAAAAAAIEAAAAAAAAAgQAAAAAAAACBAAAAAAAAAIEAAAAAAAAAgQAAAAAAAACBAAAAAAAAAIEAAAAAAAAAgQAAAAAAAACBAAAAAAAAAEEAAAAAAAAAgQAAAAAAAACBAAAAAAAAAIEAAAAAAAAAgQAAAAAAAACBAAAAAAAAAIEAAAAAAAAAgQAAAAAAAACBAAAAAAAAAIEAAAAAAAAAgQAAAAAAAACBAAAAAAAAAIEAAAAAAAAAgQAAAAAAAACBAAAAAAAAAIEAAAAAAAAAgQAAAAAAAACBAAAAAAAAAIEAAAAAAAAAgQAAAAAAAACBAAAAAAAAAEEAAAAAAAAAgQAAAAAAAACBAAAAAAAAAIEAAAAAAAAAgQAAAAAAAACBAAAAAAAAAIEAAAAAAAAAgQAAAAAAAACBAAAAAAAAAGEAAAAAAAAAQQAAAAAAAACBAAAAAAAAAIEAAAAAAAAAgQAAAAAAAACBAAAAAAAAAIEAAAAAAAAAgQAAAAAAAACBAAAAAAAAAIEAAAAAAAAAgQAAAAAAAACBAAAAAAAAAIEAAAAAAAAAgQAAAAAAAACBAAAAAAAAAIEAAAAAAAAAgQAAAAAAAACBAAAAAAAAAIEAAAAAAAAAYQAAAAAAAACBAAAAAAAAAIEAAAAAAAAAgQAAAAAAAACBAAAAAAAAAIEAAAAAAAAAgQAAAAAAAACBAAAAAAAAAGEAAAAAAAAAgQAAAAAAAACBAAAAAAAAAIEAAAAAAAAAgQAAAAAAAACBAAAAAAAAAIEAAAAAAAAAgQAAAAAAAACBAAAAAAAAAIEAAAAAAAAAgQAAAAAAAACBAAAAAAAAAIEAAAAAAAAAgQAAAAAAAACBAAAAAAAAAIEAAAAAAAAAgQAAAAAAAABhAAAAAAAAAEEAAAAAAAAAgQAAAAAAAACBAAAAAAAAAIEAAAAAAAAAgQAAAAAAAACBAAAAAAAAAIEAAAAAAAAAgQAAAAAAAACBAAAAAAAAAIEAAAAAAAAAgQAAAAAAAACBAAAAAAAAAEEAAAAAAAAAgQAAAAAAAACBAAAAAAAAAIEAAAAAAAAAgQAAAAAAAACBAAAAAAAAAIEAAAAAAAAAgQAAAAAAAACBAAAAAAAAAIEAAAAAAAAAgQAAAAAAAACBAAAAAAAAAIEAAAAAAAAAgQAAAAAAAACBAAAAAAAAAIEAAAAAAAAAgQAAAAAAAACBAAAAAAAAAIEAAAAAAAAAgQAAAAAAAACBAAAAAAAAAIEAAAAAAAAAgQAAAAAAAACBAAAAAAAAAIEAAAAAAAAAgQAAAAAAAACBAAAAAAAAAIEAAAAAAAAAgQAAAAAAAACBAAAAAAAAAIEAAAAAAAAAYQAAAAAAAACBAAAAAAAAAIEAAAAAAAAAgQAAAAAAAACBAAAAAAAAAIEAAAAAAAAAgQAAAAAAAACBAAAAAAAAAIEAAAAAAAAAgQAAAAAAAACBAAAAAAAAAIEAAAAAAAAAgQAAAAAAAACBAAAAAAAAAIEAAAAAAAAAgQAAAAAAAACBAAAAAAAAAIEAAAAAAAAAgQAAAAAAAACBAAAAAAAAAIEAAAAAAAAAgQAAAAAAAACBAAAAAAAAAIEAAAAAAAAD4fwAAAAAAACBAAAAAAAAAIEAAAAAAAAAgQAAAAAAAACBAAAAAAAAAIEAAAAAAAAAgQAAAAAAAABBAAAAAAAAAIEAAAAAAAAAgQAAAAAAAACBAAAAAAAAAIEAAAAAAAAAgQAAAAAAAACBAAAAAAAAAIEAAAAAAAAAgQAAAAAAAABBAAAAAAAAAIEAAAAAAAAAgQAAAAAAAACBAAAAAAAAAIEAAAAAAAAAgQAAAAAAAACBAAAAAAAAAIEAAAAAAAAAgQAAAAAAAACBAAAAAAAAAEEAAAAAAAAAQQAAAAAAAACBAAAAAAAAAIEAAAAAAAAAgQAAAAAAAABhAAAAAAAAAIEAAAAAAAAAYQAAAAAAAACBAAAAAAAAAIEAAAAAAAAAgQAAAAAAAACBAAAAAAAAAIEAAAAAAAAAgQAAAAAAAACBAAAAAAAAAIEAAAAAAAAAgQAAAAAAAACBAAAAAAAAAIEAAAAAAAAAgQAAAAAAAACBAAAAAAAAAIEAAAAAAAAAgQAAAAAAAACBAAAAAAAAAGEAAAAAAAAAgQAAAAAAAACBAAAAAAAAAIEAAAAAAAAAgQAAAAAAAACBAAAAAAAAAIEAAAAAAAAAgQAAAAAAAACBAAAAAAAAAIEAAAAAAAAAgQAAAAAAAACBAAAAAAAAAIEAAAAAAAAAQQAAAAAAAACBAAAAAAAAAIEAAAAAAAAAgQAAAAAAAACBAAAAAAAAAIEAAAAAAAAAgQAAAAAAAACBAAAAAAAAAIEAAAAAAAAAgQAAAAAAAACBAAAAAAAAAIEAAAAAAAAAgQAAAAAAAACBAAAAAAAAAIEAAAAAAAAAgQAAAAAAAACBAAAAAAAAAIEAAAAAAAAAgQAAAAAAAABhAAAAAAAAAGEAAAAAAAAAgQAAAAAAAACBAAAAAAAAAIEAAAAAAAAAgQAAAAAAAACBAAAAAAAAAIEAAAAAAAAAgQAAAAAAAACBAAAAAAAAAIEAAAAAAAAAgQAAAAAAAACBAAAAAAAAAIEAAAAAAAAAgQAAAAAAAACBAAAAAAAAAIEAAAAAAAAAgQAAAAAAAACBAAAAAAAAAIEAAAAAAAAAgQAAAAAAAACBAAAAAAAAAIEAAAAAAAAAQQAAAAAAAACBAAAAAAAAAGEAAAAAAAAAgQAAAAAAAACBAAAAAAAAAIEAAAAAAAAAQQAAAAAAAACBAAAAAAAAAIEAAAAAAAAAgQAAAAAAAACBAAAAAAAAAIEAAAAAAAAAgQAAAAAAAABhAAAAAAAAAIEAAAAAAAAAgQAAAAAAAABBAAAAAAAAAIEAAAAAAAAAgQAAAAAAAACBAAAAAAAAAIEAAAAAAAAAgQAAAAAAAACBAAAAAAAAAIEAAAAAAAAAgQAAAAAAAACBAAAAAAAAAIEAAAAAAAAAgQAAAAAAAACBAAAAAAAAAIEAAAAAAAAAgQAAAAAAAACBAAAAAAAAAIEAAAAAAAAAgQAAAAAAAACBAAAAAAAAAIEAAAAAAAAAgQAAAAAAAACBAAAAAAAAAIEAAAAAAAAAgQAAAAAAAACBAAAAAAAAAIEAAAAAAAAAgQAAAAAAAACBAAAAAAAAAIEAAAAAAAAAgQAAAAAAAACBAAAAAAAAAIEAAAAAAAAAgQAAAAAAAACBAAAAAAAAAIEAAAAAAAAAgQAAAAAAAACBAAAAAAAAAIEAAAAAAAAAgQAAAAAAAACBAAAAAAAAAIEAAAAAAAAAgQAAAAAAAACBAAAAAAAAAIEAAAAAAAAAgQAAAAAAAACBAAAAAAAAAIEAAAAAAAAAQQAAAAAAAACBAAAAAAAAAIEAAAAAAAAAgQAAAAAAAACBAAAAAAAAAIEAAAAAAAAAYQAAAAAAAABhAAAAAAAAAIEAAAAAAAAAgQAAAAAAAACBAAAAAAAAAIEAAAAAAAAAgQAAAAAAAACBAAAAAAAAAIEAAAAAAAAAgQAAAAAAAACBAAAAAAAAAIEAAAAAAAAAYQAAAAAAAACBAAAAAAAAAIEAAAAAAAAAgQAAAAAAAACBAAAAAAAAAIEAAAAAAAAAQQAAAAAAAACBAAAAAAAAAIEAAAAAAAAAgQAAAAAAAACBAAAAAAAAAIEAAAAAAAAAgQAAAAAAAACBAAAAAAAAAIEAAAAAAAAAgQAAAAAAAACBAAAAAAAAAIEAAAAAAAAAgQAAAAAAAACBAAAAAAAAAIEAAAAAAAAAgQAAAAAAAACBAAAAAAAAAIEAAAAAAAAAgQAAAAAAAACBAAAAAAAAAIEAAAAAAAAAgQAAAAAAAACBAAAAAAAAAIEAAAAAAAAAgQAAAAAAAABhAAAAAAAAAIEAAAAAAAAAgQAAAAAAAACBAAAAAAAAAIEAAAAAAAAAgQAAAAAAAACBAAAAAAAAAIEAAAAAAAAAgQAAAAAAAACBAAAAAAAAAIEAAAAAAAAAgQAAAAAAAACBAAAAAAAAAIEAAAAAAAAAgQAAAAAAAACBAAAAAAAAAIEAAAAAAAAAgQAAAAAAAACBAAAAAAAAAIEAAAAAAAAAgQAAAAAAAACBAAAAAAAAAIEAAAAAAAAAgQAAAAAAAACBAAAAAAAAAIEAAAAAAAAAgQAAAAAAAACBAAAAAAAAAIEAAAAAAAAAgQAAAAAAAACBAAAAAAAAAIEAAAAAAAAAgQAAAAAAAACBAAAAAAAAAEEAAAAAAAAAgQAAAAAAAACBAAAAAAAAAIEAAAAAAAAAgQAAAAAAAACBAAAAAAAAAEEAAAAAAAAAgQAAAAAAAABBAAAAAAAAAIEAAAAAAAAAgQAAAAAAAACBAAAAAAAAAIEAAAAAAAAAgQAAAAAAAACBAAAAAAAAAEEAAAAAAAAAgQAAAAAAAACBAAAAAAAAAIEAAAAAAAAAgQAAAAAAAACBAAAAAAAAAIEAAAAAAAAAgQA=="
         },
         "y": {
          "dtype": "f8",
          "bdata": "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"
         },
         "type": "scatter"
        },
        {
         "mode": "markers",
         "name": "processor_speed",
         "visible": false,
         "x": {
          "dtype": "f8",
          "bdata": "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"
         },
         "y": {
          "dtype": "f8",
          "bdata": "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"
         },
         "type": "scatter"
        },
        {
         "mode": "markers",
         "name": "ram_capacity",
         "visible": false,
         "x": {
          "dtype": "i1",
          "bdata": "DAYEBgYGBggICAYIBgYIBAMQCAQICAYEDAgIBggICAYIBAYICAwGCAYGBggIBgQDBAgGCAQGBAQGBggEBggGBgYICAwECAMMBAgGBAYIBgQGCAQIBgYGCAYIBAgIDAQEBAgMBAYGCAgICAwIBgwIBAYGAggIBhAICAwGCAgIBAgGBgQEBAgGCAQGBggEEAQCBAQIBgQEBgQICAgCCAYMBgQGDAgEBggIBAQGBgYDBgYECAwGCAMIBAgICAQIAwQGDAgEDAYIBAgECAwGBAwGCAgGDAYGBAgMBAgDCAYGCAYDBAYGDAwIBAgGBAwDCAgIBAgICAYIBggIBAwIBgYICAgGBAYIAwQIBgwIBggIDAQGCAgEBgQSCAYECAgICAgGBgYICAQIDAgIAwIIAwQGBggEEAQICAgMBgIIBAgIEAwIBggGCAYMBAYICAgIBgQCBggGBAgEBgYEDAgEBAQCBAgCCAQGDAgICAQMCAwECAgMCAYIBggGCAgICAMEBAgGCAQGCAYIBAgIBgQEAQgIAgwEBgwMBhIGBgMEBggMBgYGBggIDAwMBggGBAIGCAgIAwQIBAgGAgYEEAYCCAQECAgIBAQIBAwEBAQMEAgEBAQICAgCCAQGBgEDAgICDAwGBggEDAgIBAwEDAYIBAYIBAMGCAgEAggGAwYGBgQIDAgECAgEBggCBggGCAQIBAgMAwgEBAgMCAgIDAQGCAYIBAYMBAgIAwgICAQIBAgIBgwMCAYGAwMICAgGBAgGDAYGBAQECAYICAQGAwQEBAYICAgMBAMIBAQMCAgGCAgGCAYEBgMECAYIDAgEBggEBggICAgIDAQGCAgEDAgEBgQDBggICAgGBAMIBAwEAgQGBgYIBgYGBgYIBgwIBAQCAgQIDAYGBAMICAQGCAYEBgQICAYGBggGBAwECAgIEAgICAQIBgYIBAYMBggBCAgCBggGDAYBCAgICAQIBAMGAwQIDAwEBAYICAQIDAwDBgQICAgIAgMCBgMIBgwDAwQEDAYEBAEECAQIBggDCAQEBggEBAwICAgGBgYGBAQGAwgDBggGDAYIBAgEBgQIBAMEBAQICAIIBAgQBgQGBAYBCAYEAggEBgQEBAQECAQEDAQICAYGBgMICAgICAQIDAYICAQIBAgGAwQGBAgICAEMCAQEBAQEAwQDCAgIBgIDAwgEBAYIBAMDAwYECAMMBggMCAgECAgECAwIAwgGCAgGCAYGAwYGBgYECAIGCAYEBgYGCAYEAwIIBAgMDAICCAYEAwQEBgYIAwgEBgwICAQIAgwMCAYIBgg="
         },
         "y": {
          "dtype": "f8",
          "bdata": "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"
         },
         "type": "scatter"
        },
        {
         "mode": "markers",
         "name": "internal_memory",
         "visible": false,
         "x": {
          "dtype": "i2",
          "bdata": "AAGAAEAAgACAAIAAgAAAAYAAgACAAIAAgACAAAABgAAgAAABgABAAIAAgABAAIAAAAGAAIAAgACAAIAAgACAAAABQACAAIAAAAEAAYAAAAGAAIAAgAAAAYAAgABAACAAQACAAIAAgAAgAIAAQABAAIAAQAAAAUAAgACAAIAAgACAAAABgAAAAYAAAAFAAAABQACAAIAAIACAAIAAgABAAIAAgABAAIAAgACAAIAAgACAAIAAQACAAIAAAAFAAEAAQAAAAQABgACAAIAAgACAAIAAgAAAAYAAgAAAAQABQACAAIAAIACAAIAAgAAAAoAAgAAAAYAAgACAAIAAQAAAAYAAgABAAEAAQAAAAYAAAAGAAIAAgACAAIAAAAFAAEAAQABAAIAAgABAAEAAgABAAAABgAAAASAAgACAAAABgABAAIAAAAGAAEAAgACAAIAAQAAgAIAAgACAAEAAgABAAEAAgAAAAUAAAAEgAIAAgACAAIAAgABAAIAAIABAAIAAAAGAAEAAAAGAAIAAQACAAEAAgAAAAYAAQAAAAYAAgAAAAQABAAGAAIAAgAAAAYAAQACAACAAgACAAIAAgABAACAAQACAAIAAAAEAAQABQACAAIAAgAAAAUAAAAGAAAABQACAAIAAgACAAIAAAAEAAYAAQAAAAYAAgABAAIAAgACAAEAAgACAAIAAIABAAAABQAAAAYAAgACAAIAAgABAAIAAgAAAAYAAgABAAAACgACAAEAAgACAAIAAgAAAAYAAAASAAIAAgABAAIAAAAGAAIAAIAAgAAABIABAAIAAgACAAIAAAAGAAAABgACAAAACgAAgAIAAQACAAIAAAAEAAYAAAAGAAIAAgACAAAABQACAAIAAgAAAAYAAgABAACAAgACAAEAAQACAAEAAgACAAAABAAEAAYAAQABAACAAIACAACAAgABAAIAAAAGAAIAAgACAAAABgAAAAUAAAAGAAAACgABAAIAAQACAAIAAgACAAIAAgAAgACAAQACAAIAAgABAAIAAgACAAAABQAAAAYAAgABAAIAAEACAAIAAIAAAAYAAQAAAAQABgAAAAYAAgAAgAEAAgACAAAABgACAAAABgACAAAABAAIAAgABgACAAEAAQABAAIAAgACAAIAAIABAAIAAQACAAIAAIACAAIAAAAGAACAAgACAAEAAgACAAAABgABAAIAAQAAAAUAAQABAAAACAAGAAIAAQABAAIAAgACAACAAgABAAIAAQAAQACAAQAAgACAAAAEAAoAAgACAAIAAAAIAAQABgAAAAUAAAAFAAIAAgACAAIAAQAAgAIAAgACAAIAAIAAAAYAAIACAAIAAgABAAIAAAAEAAUAAAAGAAIAAgAAAASAAgACAAAABgABAAIAAQACAAAABIACAAEAAgACAAAABgACAAAABAAGAAIAAgACAAIAAgACAAAABgACAAIAAIACAAIAAgABAAIAAQACAAIAAgAAAAQABgABAAIAAEABAAIAAAAEAAYAAgACAAIAAAAGAAIAAQABAAEAAgACAAIAAAAFAAIAAIABAAIAAQACAAIAAgACAAIAAQAAgAIAAgABAAAABAAGAAIAAgACAAIAAgACAAEAAgAAgAEAAgAAAAgABAAEAAUAAgACAAEAAAAKAAIAAgACAAIAAAAGAAIAAgACAAEAAAAGAAIAAgABAAEAAQACAAIAAgAAAAUAAQABAAIAAgAAAAkAAQABAAIAAgACAAIAAgABAAIAAgACAAIAAgAAAAQABgACAACAAIACAAIAAAAFAAIAAgABAAAABgABAAIAAAAEAAYAAgABAAIAAAAGAAIAAQACAAIAAgAAAAUAAgAAAAYAAAAKAAIAAAAFAAAACgACAAIAAQACAAAABgACAABAAAAGAABAAgACAAIAAAAFAABAAgACAAAABgABAAIAAQABAAIAAIAAgAIAAAAEAAUAAgAAAAoAAgABAAIAAAAIAASAAgABAAAABgACAAAABIABAACAAAARAAIAAgAAAASAAIACAAIAAAAGAAEAAgAAQAEAAgABAAIAAQAAAASAAgABAAIAAgACAAIAAgAAAAYAAgAAAAQACAASAAIAAQABAAIAAIACAAEAAgACAAIAAAAGAAIAAQACAAIAAgABAAIAAgAAgAIAAAAJAAIAAgAAQAIAAgACAAAACgACAAAABgABAABAAgACAAIAAIACAAIAAQABAAEAAQABAAEAAAAFAAEAAAAFAAIAAAAGAAIAAgABAAIAAgACAAIAAgACAAIAAAAFAAAABgACAAAABQACAAEAAIABAAIAAQACAAIAAgAAIAIAAgABAAEAAQAAAAQABIACAACAAgACAAAABQAAQACAAIACAAIAAQACAAIAAQAAgAEAAQACAAEAAgAAgAAAEgACAAAABgACAAEAAgACAAIAAgAAAAoAAQACAAIAAgACAAAAEgABAAIAAIACAAIAAgACAAEAAgAAgAIAAgACAAEAAgACAAIAAgACAAEAAIAAgAAABQACAAAABAAIgABAAAAKAAEAAEABAAEAAgACAAIAAIACAAEAAgAAAAYAAAAFAAAABIAAAAQABgACAAAABgACAAA=="
         },
         "y": {
          "dtype": "f8",
          "bdata": "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"
         },
         "type": "scatter"
        },
        {
         "mode": "markers",
         "name": "screen_size",
         "visible": false,
         "x": {
          "dtype": "f8",
          "bdata": "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"
         },
         "y": {
          "dtype": "f8",
          "bdata": "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"
         },
         "type": "scatter"
        },
        {
         "mode": "markers",
         "name": "refresh_rate",
         "visible": false,
         "x": {
          "dtype": "i2",
          "bdata": "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"
         },
         "y": {
          "dtype": "f8",
          "bdata": "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"
         },
         "type": "scatter"
        }
       ],
       "layout": {
        "template": {
         "data": {
          "histogram2dcontour": [
           {
            "type": "histogram2dcontour",
            "colorbar": {
             "outlinewidth": 0,
             "ticks": ""
            },
            "colorscale": [
             [
              0.0,
              "#0d0887"
             ],
             [
              0.1111111111111111,
              "#46039f"
             ],
             [
              0.2222222222222222,
              "#7201a8"
             ],
             [
              0.3333333333333333,
              "#9c179e"
             ],
             [
              0.4444444444444444,
              "#bd3786"
             ],
             [
              0.5555555555555556,
              "#d8576b"
             ],
             [
              0.6666666666666666,
              "#ed7953"
             ],
             [
              0.7777777777777778,
              "#fb9f3a"
             ],
             [
              0.8888888888888888,
              "#fdca26"
             ],
             [
              1.0,
              "#f0f921"
             ]
            ]
           }
          ],
          "choropleth": [
           {
            "type": "choropleth",
            "colorbar": {
             "outlinewidth": 0,
             "ticks": ""
            }
           }
          ],
          "histogram2d": [
           {
            "type": "histogram2d",
            "colorbar": {
             "outlinewidth": 0,
             "ticks": ""
            },
            "colorscale": [
             [
              0.0,
              "#0d0887"
             ],
             [
              0.1111111111111111,
              "#46039f"
             ],
             [
              0.2222222222222222,
              "#7201a8"
             ],
             [
              0.3333333333333333,
              "#9c179e"
             ],
             [
              0.4444444444444444,
              "#bd3786"
             ],
             [
              0.5555555555555556,
              "#d8576b"
             ],
             [
              0.6666666666666666,
              "#ed7953"
             ],
             [
              0.7777777777777778,
              "#fb9f3a"
             ],
             [
              0.8888888888888888,
              "#fdca26"
             ],
             [
              1.0,
              "#f0f921"
             ]
            ]
           }
          ],
          "heatmap": [
           {
            "type": "heatmap",
            "colorbar": {
             "outlinewidth": 0,
             "ticks": ""
            },
            "colorscale": [
             [
              0.0,
              "#0d0887"
             ],
             [
              0.1111111111111111,
              "#46039f"
             ],
             [
              0.2222222222222222,
              "#7201a8"
             ],
             [
              0.3333333333333333,
              "#9c179e"
             ],
             [
              0.4444444444444444,
              "#bd3786"
             ],
             [
              0.5555555555555556,
              "#d8576b"
             ],
             [
              0.6666666666666666,
              "#ed7953"
             ],
             [
              0.7777777777777778,
              "#fb9f3a"
             ],
             [
              0.8888888888888888,
              "#fdca26"
             ],
             [
              1.0,
              "#f0f921"
             ]
            ]
           }
          ],
          "contourcarpet": [
           {
            "type": "contourcarpet",
            "colorbar": {
             "outlinewidth": 0,
             "ticks": ""
            }
           }
          ],
          "contour": [
           {
            "type": "contour",
            "colorbar": {
             "outlinewidth": 0,
             "ticks": ""
            },
            "colorscale": [
             [
              0.0,
              "#0d0887"
             ],
             [
              0.1111111111111111,
              "#46039f"
             ],
             [
              0.2222222222222222,
              "#7201a8"
             ],
             [
              0.3333333333333333,
              "#9c179e"
             ],
             [
              0.4444444444444444,
              "#bd3786"
             ],
             [
              0.5555555555555556,
              "#d8576b"
             ],
             [
              0.6666666666666666,
              "#ed7953"
             ],
             [
              0.7777777777777778,
              "#fb9f3a"
             ],
             [
              0.8888888888888888,
              "#fdca26"
             ],
             [
              1.0,
              "#f0f921"
             ]
            ]
           }
          ],
          "surface": [
           {
            "type": "surface",
            "colorbar": {
             "outlinewidth": 0,
             "ticks": ""
            },
            "colorscale": [
             [
              0.0,
              "#0d0887"
             ],
             [
              0.1111111111111111,
              "#46039f"
             ],
             [
              0.2222222222222222,
              "#7201a8"
             ],
             [
              0.3333333333333333,
              "#9c179e"
             ],
             [
              0.4444444444444444,
              "#bd3786"
             ],
             [
              0.5555555555555556,
              "#d8576b"
             ],
             [
              0.6666666666666666,
              "#ed7953"
             ],
             [
              0.7777777777777778,
              "#fb9f3a"
             ],
             [
              0.8888888888888888,
              "#fdca26"
             ],
             [
              1.0,
              "#f0f921"
             ]
            ]
           }
          ],
          "mesh3d": [
           {
            "type": "mesh3d",
            "colorbar": {
             "outlinewidth": 0,
             "ticks": ""
            }
           }
          ],
          "scatter": [
           {
            "marker": {
             "line": {
              "color": "#283442"
             }
            },
            "type": "scatter"
           }
          ],
          "parcoords": [
           {
            "type": "parcoords",
            "line": {
             "colorbar": {
              "outlinewidth": 0,
              "ticks": ""
             }
            }
           }
          ],
          "scatterpolargl": [
           {
            "type": "scatterpolargl",
            "marker": {
             "colorbar": {
              "outlinewidth": 0,
              "ticks": ""
             }
            }
           }
          ],
          "bar": [
           {
            "error_x": {
             "color": "#f2f5fa"
            },
            "error_y": {
             "color": "#f2f5fa"
            },
            "marker": {
             "line": {
              "color": "rgb(17,17,17)",
              "width": 0.5
             },
             "pattern": {
              "fillmode": "overlay",
              "size": 10,
              "solidity": 0.2
             }
            },
            "type": "bar"
           }
          ],
          "scattergeo": [
           {
            "type": "scattergeo",
            "marker": {
             "colorbar": {
              "outlinewidth": 0,
              "ticks": ""
             }
            }
           }
          ],
          "scatterpolar": [
           {
            "type": "scatterpolar",
            "marker": {
             "colorbar": {
              "outlinewidth": 0,
              "ticks": ""
             }
            }
           }
          ],
          "histogram": [
           {
            "marker": {
             "pattern": {
              "fillmode": "overlay",
              "size": 10,
              "solidity": 0.2
             }
            },
            "type": "histogram"
           }
          ],
          "scattergl": [
           {
            "marker": {
             "line": {
              "color": "#283442"
             }
            },
            "type": "scattergl"
           }
          ],
          "scatter3d": [
           {
            "type": "scatter3d",
            "line": {
             "colorbar": {
              "outlinewidth": 0,
              "ticks": ""
             }
            },
            "marker": {
             "colorbar": {
              "outlinewidth": 0,
              "ticks": ""
             }
            }
           }
          ],
          "scattermap": [
           {
            "type": "scattermap",
            "marker": {
             "colorbar": {
              "outlinewidth": 0,
              "ticks": ""
             }
            }
           }
          ],
          "scattermapbox": [
           {
            "type": "scattermapbox",
            "marker": {
             "colorbar": {
              "outlinewidth": 0,
              "ticks": ""
             }
            }
           }
          ],
          "scatterternary": [
           {
            "type": "scatterternary",
            "marker": {
             "colorbar": {
              "outlinewidth": 0,
              "ticks": ""
             }
            }
           }
          ],
          "scattercarpet": [
           {
            "type": "scattercarpet",
            "marker": {
             "colorbar": {
              "outlinewidth": 0,
              "ticks": ""
             }
            }
           }
          ],
          "carpet": [
           {
            "aaxis": {
             "endlinecolor": "#A2B1C6",
             "gridcolor": "#506784",
             "linecolor": "#506784",
             "minorgridcolor": "#506784",
             "startlinecolor": "#A2B1C6"
            },
            "baxis": {
             "endlinecolor": "#A2B1C6",
             "gridcolor": "#506784",
             "linecolor": "#506784",
             "minorgridcolor": "#506784",
             "startlinecolor": "#A2B1C6"
            },
            "type": "carpet"
           }
          ],
          "table": [
           {
            "cells": {
             "fill": {
              "color": "#506784"
             },
             "line": {
              "color": "rgb(17,17,17)"
             }
            },
            "header": {
             "fill": {
              "color": "#2a3f5f"
             },
             "line": {
              "color": "rgb(17,17,17)"
             }
            },
            "type": "table"
           }
          ],
          "barpolar": [
           {
            "marker": {
             "line": {
              "color": "rgb(17,17,17)",
              "width": 0.5
             },
             "pattern": {
              "fillmode": "overlay",
              "size": 10,
              "solidity": 0.2
             }
            },
            "type": "barpolar"
           }
          ],
          "pie": [
           {
            "automargin": true,
            "type": "pie"
           }
          ]
         },
         "layout": {
          "autotypenumbers": "strict",
          "colorway": [
           "#636efa",
           "#EF553B",
           "#00cc96",
           "#ab63fa",
           "#FFA15A",
           "#19d3f3",
           "#FF6692",
           "#B6E880",
           "#FF97FF",
           "#FECB52"
          ],
          "font": {
           "color": "#f2f5fa"
          },
          "hovermode": "closest",
          "hoverlabel": {
           "align": "left"
          },
          "paper_bgcolor": "rgb(17,17,17)",
          "plot_bgcolor": "rgb(17,17,17)",
          "polar": {
           "bgcolor": "rgb(17,17,17)",
           "angularaxis": {
            "gridcolor": "#506784",
            "linecolor": "#506784",
            "ticks": ""
           },
           "radialaxis": {
            "gridcolor": "#506784",
            "linecolor": "#506784",
            "ticks": ""
           }
          },
          "ternary": {
           "bgcolor": "rgb(17,17,17)",
           "aaxis": {
            "gridcolor": "#506784",
            "linecolor": "#506784",
            "ticks": ""
           },
           "baxis": {
            "gridcolor": "#506784",
            "linecolor": "#506784",
            "ticks": ""
           },
           "caxis": {
            "gridcolor": "#506784",
            "linecolor": "#506784",
            "ticks": ""
           }
          },
          "coloraxis": {
           "colorbar": {
            "outlinewidth": 0,
            "ticks": ""
           }
          },
          "colorscale": {
           "sequential": [
            [
             0.0,
             "#0d0887"
            ],
            [
             0.1111111111111111,
             "#46039f"
            ],
            [
             0.2222222222222222,
             "#7201a8"
            ],
            [
             0.3333333333333333,
             "#9c179e"
            ],
            [
             0.4444444444444444,
             "#bd3786"
            ],
            [
             0.5555555555555556,
             "#d8576b"
            ],
            [
             0.6666666666666666,
             "#ed7953"
            ],
            [
             0.7777777777777778,
             "#fb9f3a"
            ],
            [
             0.8888888888888888,
             "#fdca26"
            ],
            [
             1.0,
             "#f0f921"
            ]
           ],
           "sequentialminus": [
            [
             0.0,
             "#0d0887"
            ],
            [
             0.1111111111111111,
             "#46039f"
            ],
            [
             0.2222222222222222,
             "#7201a8"
            ],
            [
             0.3333333333333333,
             "#9c179e"
            ],
            [
             0.4444444444444444,
             "#bd3786"
            ],
            [
             0.5555555555555556,
             "#d8576b"
            ],
            [
             0.6666666666666666,
             "#ed7953"
            ],
            [
             0.7777777777777778,
             "#fb9f3a"
            ],
            [
             0.8888888888888888,
             "#fdca26"
            ],
            [
             1.0,
             "#f0f921"
            ]
           ],
           "diverging": [
            [
             0,
             "#8e0152"
            ],
            [
             0.1,
             "#c51b7d"
            ],
            [
             0.2,
             "#de77ae"
            ],
            [
             0.3,
             "#f1b6da"
            ],
            [
             0.4,
             "#fde0ef"
            ],
            [
             0.5,
             "#f7f7f7"
            ],
            [
             0.6,
             "#e6f5d0"
            ],
            [
             0.7,
             "#b8e186"
            ],
            [
             0.8,
             "#7fbc41"
            ],
            [
             0.9,
             "#4d9221"
            ],
            [
             1,
             "#276419"
            ]
           ]
          },
          "xaxis": {
           "gridcolor": "#283442",
           "linecolor": "#506784",
           "ticks": "",
           "title": {
            "standoff": 15
           },
           "zerolinecolor": "#283442",
           "automargin": true,
           "zerolinewidth": 2
          },
          "yaxis": {
           "gridcolor": "#283442",
           "linecolor": "#506784",
           "ticks": "",
           "title": {
            "standoff": 15
           },
           "zerolinecolor": "#283442",
           "automargin": true,
           "zerolinewidth": 2
          },
          "scene": {
           "xaxis": {
            "backgroundcolor": "rgb(17,17,17)",
            "gridcolor": "#506784",
            "linecolor": "#506784",
            "showbackground": true,
            "ticks": "",
            "zerolinecolor": "#C8D4E3",
            "gridwidth": 2
           },
           "yaxis": {
            "backgroundcolor": "rgb(17,17,17)",
            "gridcolor": "#506784",
            "linecolor": "#506784",
            "showbackground": true,
            "ticks": "",
            "zerolinecolor": "#C8D4E3",
            "gridwidth": 2
           },
           "zaxis": {
            "backgroundcolor": "rgb(17,17,17)",
            "gridcolor": "#506784",
            "linecolor": "#506784",
            "showbackground": true,
            "ticks": "",
            "zerolinecolor": "#C8D4E3",
            "gridwidth": 2
           }
          },
          "shapedefaults": {
           "line": {
            "color": "#f2f5fa"
           }
          },
          "annotationdefaults": {
           "arrowcolor": "#f2f5fa",
           "arrowhead": 0,
           "arrowwidth": 1
          },
          "geo": {
           "bgcolor": "rgb(17,17,17)",
           "landcolor": "rgb(17,17,17)",
           "subunitcolor": "#506784",
           "showland": true,
           "showlakes": true,
           "lakecolor": "rgb(17,17,17)"
          },
          "title": {
           "x": 0.05
          },
          "updatemenudefaults": {
           "bgcolor": "#506784",
           "borderwidth": 0
          },
          "sliderdefaults": {
           "bgcolor": "#C8D4E3",
           "borderwidth": 1,
           "bordercolor": "rgb(17,17,17)",
           "tickwidth": 0
          },
          "mapbox": {
           "style": "dark"
          }
         }
        },
        "updatemenus": [
         {
          "buttons": [
           {
            "args": [
             {
              "visible": [
               true,
               false,
               false,
               false,
               false,
               false,
               false
              ]
             },
             {
              "xaxis": {
               "title": "rating"
              }
             }
            ],
            "label": "rating",
            "method": "update"
           },
           {
            "args": [
             {
              "visible": [
               false,
               true,
               false,
               false,
               false,
               false,
               false
              ]
             },
             {
              "xaxis": {
               "title": "num_cores"
              }
             }
            ],
            "label": "num_cores",
            "method": "update"
           },
           {
            "args": [
             {
              "visible": [
               false,
               false,
               true,
               false,
               false,
               false,
               false
              ]
             },
             {
              "xaxis": {
               "title": "processor_speed"
              }
             }
            ],
            "label": "processor_speed",
            "method": "update"
           },
           {
            "args": [
             {
              "visible": [
               false,
               false,
               false,
               true,
               false,
               false,
               false
              ]
             },
             {
              "xaxis": {
               "title": "ram_capacity"
              }
             }
            ],
            "label": "ram_capacity",
            "method": "update"
           },
           {
            "args": [
             {
              "visible": [
               false,
               false,
               false,
               false,
               true,
               false,
               false
              ]
             },
             {
              "xaxis": {
               "title": "internal_memory"
              }
             }
            ],
            "label": "internal_memory",
            "method": "update"
           },
           {
            "args": [
             {
              "visible": [
               false,
               false,
               false,
               false,
               false,
               true,
               false
              ]
             },
             {
              "xaxis": {
               "title": "screen_size"
              }
             }
            ],
            "label": "screen_size",
            "method": "update"
           },
           {
            "args": [
             {
              "visible": [
               false,
               false,
               false,
               false,
               false,
               false,
               true
              ]
             },
             {
              "xaxis": {
               "title": "refresh_rate"
              }
             }
            ],
            "label": "refresh_rate",
            "method": "update"
           }
          ],
          "direction": "down",
          "showactive": true,
          "x": 0.1,
          "y": 1.15
         }
        ],
        "title": {
         "text": "Prix vs variable sélectionnée"
        },
        "xaxis": {
         "title": {
          "text": "rating"
         }
        },
        "yaxis": {
         "title": {
          "text": "Prix (€)"
         }
        },
        "height": 600
       },
       "config": {
        "plotlyServerURL": "https://plot.ly"
       }
      }
     },
     "metadata": {},
     "output_type": "display_data"
    }
   ],
   "execution_count": 9
  },
  {
   "metadata": {},
   "cell_type": "markdown",
   "source": [
    "**Rating vs prix**\n",
    "\n",
    "* On observe une légère tendance croissante : les téléphones avec un meilleur rating tendent à être plus chers, surtout à partir de 75+.\n",
    "* Cela peut s’expliquer par le fait que les modèles mieux notés sont généralement plus performants ou mieux finis.\n",
    "* La majorité des téléphones ont une note comprise entre 75 et 90.\n",
    "* Très peu de modèles en dessous de 70, ce qui peut indiquer un biais dans les avis (seuls les bons modèles sont évalués ou conservés dans le dataset)."
   ],
   "id": "50d976ed76d621fd"
  },
  {
   "metadata": {},
   "cell_type": "markdown",
   "source": [
    "**Processor_speed vs prix**\n",
    "\n",
    "* On observe une corrélation positive modérée : en général, plus la vitesse du processeur augmente, plus les smartphones ont tendance à être chers.\n",
    "* Beaucoup de modèles se situent entre 2.0 et 3.2 GHz, avec des prix allant de 100 € à 1000 €.\n",
    "* Cela semble représenter le segment \"standard à performant\" du marché.\n",
    "* Plus on monte en vitesse, plus les prix deviennent variables, indiquant que la vitesse du processeur n’est pas le seul facteur déterminant du prix."
   ],
   "id": "4c0445d6234f1ccd"
  },
  {
   "metadata": {},
   "cell_type": "markdown",
   "source": [
    "**Internal_memory vs prix**\n",
    "\n",
    "* Il existe une relation positive globale entre la capacité de stockage (en Go) et le prix du smartphone.\n",
    "* On voit des groupes bien distincts :\n",
    "    - 32–64 Go : téléphones d’entrée de gamme à prix très accessibles.\n",
    "    - 128–256 Go : majorité des modèles milieu/haut de gamme.\n",
    "    - 512–1024 Go (1 To) : modèles premium uniquement.\n",
    "* À 256 Go, par exemple, les prix vont de ~400 € à plus de 2000 € → cela indique que le stockage ne suffit pas à expliquer le prix à lui seul.\n",
    "* D’autres caractéristiques comme la RAM, le processeur, la marque ou la caméra jouent un rôle majeur.\n",
    "* "
   ],
   "id": "d62b34d30f89e9b"
  },
  {
   "metadata": {},
   "cell_type": "markdown",
   "source": [
    "**Screen_size vs prix**\n",
    "\n",
    "* Il existe une légère corrélation positive entre la taille de l’écran et le prix : les téléphones avec un écran plus grand sont en moyenne un peu plus chers.\n",
    "* Très forte densité autour de 6.3 à 6.7 pouces, avec des prix allant de 100 € à 1500 €.\n",
    "* Cela suggère que la plupart des smartphones sont conçus pour offrir un compromis entre confort d’écran et ergonomie.\n",
    "* À taille d’écran égale, le prix peut énormément varier → ce qui confirme que l’écran est un critère secondaire dans la tarification par rapport à :\n",
    "    - la marque,\n",
    "    - le processeur,\n",
    "    - les fonctionnalités avancées (caméras, design, etc.)."
   ],
   "id": "c0bde19dd2434093"
  },
  {
   "metadata": {},
   "cell_type": "markdown",
   "source": [
    "**Refresh_rate vs prix**\n",
    "\n",
    "* On observe une élévation du prix moyen à mesure que le taux de rafraîchissement augmente.\n",
    "    - 60 Hz → présent sur des modèles de toutes gammes (entrée à premium).\n",
    "    - 120 Hz et + → associés à des smartphones plus récents ou gaming, donc souvent plus chers.\n",
    "* À 60 Hz, très grande dispersion de prix (de < 100 € à > 6000 €), ce qui confirme que ce n’est pas un critère déterminant seul.\n",
    "* À 120–144 Hz, les prix restent modérément élevés avec moins de dispersion : cette technologie est réservée aux gammes moyennes à hautes.\n",
    "* À 240 Hz, très peu de modèles → probablement des modèles gaming haut de gamme."
   ],
   "id": "76843f404e98216"
  }
 ],
 "metadata": {
  "kernelspec": {
   "display_name": "Python 3",
   "language": "python",
   "name": "python3"
  },
  "language_info": {
   "codemirror_mode": {
    "name": "ipython",
    "version": 2
   },
   "file_extension": ".py",
   "mimetype": "text/x-python",
   "name": "python",
   "nbconvert_exporter": "python",
   "pygments_lexer": "ipython2",
   "version": "2.7.6"
  }
 },
 "nbformat": 4,
 "nbformat_minor": 5
}
