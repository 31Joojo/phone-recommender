{
 "cells": [
  {
   "cell_type": "markdown",
   "id": "bdcd3fb2",
   "metadata": {},
   "source": [
    "# PhoneRecommender\n",
    "\n",
    "### *Autheurs : Baudet Quentin et Larmaillard-Noiren Joris*"
   ]
  },
  {
   "cell_type": "markdown",
   "id": "83ece08e",
   "metadata": {},
   "source": [
    "\n",
    "PhoneRecommender est un chatbot de recommandation de smartphones basé sur un pipeline **Retrieval-Augmented Generation (RAG)** et un modèle de langage pré-entraîné.\n",
    "\n",
    "---\n",
    "\n",
    "## Contexte et objectifs\n",
    "\n",
    "Ce projet a pour but de construire un assistant intelligent capable d’aider un utilisateur à choisir un téléphone portable en fonction de critères (prix, performance, autonomie, photo, etc.).\n",
    "Pour cela, nous exploitons :\n",
    "- Un **dataset Kaggle** contenant les fiches techniques et les spécifications de centaines de modèles de smartphones.\n",
    "- Un pipeline **RAG** : on indexe les descriptions produits dans un moteur de similarité (FAISS) puis on combine la récupération de documents pertinents à la génération de texte par un **LLM** (Mistral 7B, GPT-2, LLaMA …, au choix).\n",
    "\n",
    "---\n",
    "\n",
    "## Fonctionnalités\n",
    "\n",
    "1. **Exploration et nettoyage du dataset**\n",
    "   - Analyse exploratoire (EDAx).\n",
    "   - Standardisation des noms de champs (RAM, stockage, autonomie…).\n",
    "2. **Indexation documentaire**\n",
    "   - Conversion du CSV en fragments textuels.\n",
    "   - Construction d’un index FAISS pour recherches rapides.\n",
    "3. **Pipeline RAG**\n",
    "   - À chaque question utilisateur, récupération des **k fiches les plus pertinentes**.\n",
    "   - Enrichissement du prompt avec ces extraits.\n",
    "   - Génération de la réponse via un LLM.\n",
    "4. **Questions réponses dans le terminal**\n",
    "   - L'utilisateur obtient sa recommandation de téléphone dans le terminal\n",
    "\n",
    " \n",
    "---\n",
    "\n",
    "## Répartition du travail\n",
    "\n",
    "Joris Larmaillard-Noiren s'est penché sur l'exploration du dataset et la mise en place de l'architecture du modèle RAG et ses vérifications.\n",
    "Quentin Baudet s'est occupé du preprocessing des données et de la mise en place du modèle et l'interprétation des résultats du modèle.\n",
    "\n",
    "Les étapes ayant pris le plus de temps ont été l'EDA/traitement (essentiel pour donner sens et enrichir les données) et la mise en place de la pipeline (nombreux conflits de versions de packages)."
   ]
  },
  {
   "cell_type": "markdown",
   "id": "9889d0e1",
   "metadata": {},
   "source": [
    "## Exploration du dataset"
   ]
  },
  {
   "cell_type": "markdown",
   "id": "773e33f3",
   "metadata": {},
   "source": [
    "Avant de construire notre modèle de recommandation de smartphones, il est crucial de bien comprendre les caractéristiques et la structure du dataset fourni. Dans ce notebook, nous réalisons une Analyse Exploratoire des Données (EDA) afin de mieux cerner la distribution des différentes variables, détecter les éventuelles anomalies, valeurs manquantes ou incohérences, et identifier les relations potentielles entre les attributs.\n",
    "\n",
    "Cette étape nous permettra d’extraire des insights précieux pour orienter le pré-traitement des données et la sélection des fonctionnalités les plus pertinentes, en vue d’optimiser les performances du modèle de recommandation."
   ]
  },
  {
   "cell_type": "markdown",
   "id": "9f9f5121",
   "metadata": {},
   "source": [
    "### Chargement des données"
   ]
  },
  {
   "cell_type": "code",
   "id": "e8dd3841",
   "metadata": {
    "ExecuteTime": {
     "end_time": "2025-07-27T22:12:49.586255Z",
     "start_time": "2025-07-27T22:12:49.479033Z"
    }
   },
   "source": [
    "### Importation des modules\n",
    "import pandas as pd\n",
    "import matplotlib.pyplot as plt\n",
    "import seaborn as sns\n",
    "import plotly.express as px\n",
    "import plotly.graph_objects as go\n",
    "from plotly.offline import init_notebook_mode\n",
    "init_notebook_mode(connected=True)"
   ],
   "outputs": [
    {
     "data": {
      "text/html": [
       "        <script type=\"text/javascript\">\n",
       "        window.PlotlyConfig = {MathJaxConfig: 'local'};\n",
       "        if (window.MathJax && window.MathJax.Hub && window.MathJax.Hub.Config) {window.MathJax.Hub.Config({SVG: {font: \"STIX-Web\"}});}\n",
       "        </script>\n",
       "        <script type=\"module\">import \"https://cdn.plot.ly/plotly-3.0.1.min\"</script>\n",
       "        "
      ]
     },
     "metadata": {},
     "output_type": "display_data"
    }
   ],
   "execution_count": 1
  },
  {
   "cell_type": "code",
   "id": "f9847161",
   "metadata": {
    "ExecuteTime": {
     "end_time": "2025-07-27T22:12:49.602883Z",
     "start_time": "2025-07-27T22:12:49.586839Z"
    }
   },
   "source": [
    "### Chargement des données\n",
    "data = pd.read_csv('../data/raw/Smartphones_cleaned_dataset_completed.csv', sep=\";\")\n",
    "\n",
    "data.head()"
   ],
   "outputs": [
    {
     "data": {
      "text/plain": [
       "  brand_name                    model   price  rating  has_5g  has_nfc  \\\n",
       "0      apple          Apple iPhone 11   38999    73.0   False     True   \n",
       "1      apple  Apple iPhone 11 (128GB)   46999    75.0   False     True   \n",
       "2      apple  Apple iPhone 11 Pro Max  109900    77.0   False     True   \n",
       "3      apple          Apple iPhone 12   51999    74.0    True     True   \n",
       "4      apple  Apple iPhone 12 (128GB)   55999    75.0    True     True   \n",
       "\n",
       "   has_ir_blaster processor_brand  num_cores  processor_speed  ...  \\\n",
       "0           False          bionic          6             2.65  ...   \n",
       "1           False          bionic          6             2.65  ...   \n",
       "2           False          bionic          6             2.65  ...   \n",
       "3           False          bionic          6             3.10  ...   \n",
       "4           False          bionic          6             3.10  ...   \n",
       "\n",
       "   refresh_rate  num_rear_cameras  num_front_cameras   os  \\\n",
       "0            60                 2                1.0  ios   \n",
       "1            60                 2                1.0  ios   \n",
       "2            60                 3                1.0  ios   \n",
       "3            60                 2                1.0  ios   \n",
       "4            60                 2                1.0  ios   \n",
       "\n",
       "   primary_camera_rear  primary_camera_front  extended_memory_available  \\\n",
       "0                 12.0                  12.0                          0   \n",
       "1                 12.0                  12.0                          0   \n",
       "2                 12.0                  12.0                          0   \n",
       "3                 12.0                  12.0                          0   \n",
       "4                 12.0                  12.0                          0   \n",
       "\n",
       "   extended_upto  resolution_width resolution_height  \n",
       "0            NaN               828              1792  \n",
       "1            NaN               828              1792  \n",
       "2            NaN              1242              2688  \n",
       "3            NaN              1170              2532  \n",
       "4            NaN              1170              2532  \n",
       "\n",
       "[5 rows x 26 columns]"
      ],
      "text/html": [
       "<div>\n",
       "<style scoped>\n",
       "    .dataframe tbody tr th:only-of-type {\n",
       "        vertical-align: middle;\n",
       "    }\n",
       "\n",
       "    .dataframe tbody tr th {\n",
       "        vertical-align: top;\n",
       "    }\n",
       "\n",
       "    .dataframe thead th {\n",
       "        text-align: right;\n",
       "    }\n",
       "</style>\n",
       "<table border=\"1\" class=\"dataframe\">\n",
       "  <thead>\n",
       "    <tr style=\"text-align: right;\">\n",
       "      <th></th>\n",
       "      <th>brand_name</th>\n",
       "      <th>model</th>\n",
       "      <th>price</th>\n",
       "      <th>rating</th>\n",
       "      <th>has_5g</th>\n",
       "      <th>has_nfc</th>\n",
       "      <th>has_ir_blaster</th>\n",
       "      <th>processor_brand</th>\n",
       "      <th>num_cores</th>\n",
       "      <th>processor_speed</th>\n",
       "      <th>...</th>\n",
       "      <th>refresh_rate</th>\n",
       "      <th>num_rear_cameras</th>\n",
       "      <th>num_front_cameras</th>\n",
       "      <th>os</th>\n",
       "      <th>primary_camera_rear</th>\n",
       "      <th>primary_camera_front</th>\n",
       "      <th>extended_memory_available</th>\n",
       "      <th>extended_upto</th>\n",
       "      <th>resolution_width</th>\n",
       "      <th>resolution_height</th>\n",
       "    </tr>\n",
       "  </thead>\n",
       "  <tbody>\n",
       "    <tr>\n",
       "      <th>0</th>\n",
       "      <td>apple</td>\n",
       "      <td>Apple iPhone 11</td>\n",
       "      <td>38999</td>\n",
       "      <td>73.0</td>\n",
       "      <td>False</td>\n",
       "      <td>True</td>\n",
       "      <td>False</td>\n",
       "      <td>bionic</td>\n",
       "      <td>6</td>\n",
       "      <td>2.65</td>\n",
       "      <td>...</td>\n",
       "      <td>60</td>\n",
       "      <td>2</td>\n",
       "      <td>1.0</td>\n",
       "      <td>ios</td>\n",
       "      <td>12.0</td>\n",
       "      <td>12.0</td>\n",
       "      <td>0</td>\n",
       "      <td>NaN</td>\n",
       "      <td>828</td>\n",
       "      <td>1792</td>\n",
       "    </tr>\n",
       "    <tr>\n",
       "      <th>1</th>\n",
       "      <td>apple</td>\n",
       "      <td>Apple iPhone 11 (128GB)</td>\n",
       "      <td>46999</td>\n",
       "      <td>75.0</td>\n",
       "      <td>False</td>\n",
       "      <td>True</td>\n",
       "      <td>False</td>\n",
       "      <td>bionic</td>\n",
       "      <td>6</td>\n",
       "      <td>2.65</td>\n",
       "      <td>...</td>\n",
       "      <td>60</td>\n",
       "      <td>2</td>\n",
       "      <td>1.0</td>\n",
       "      <td>ios</td>\n",
       "      <td>12.0</td>\n",
       "      <td>12.0</td>\n",
       "      <td>0</td>\n",
       "      <td>NaN</td>\n",
       "      <td>828</td>\n",
       "      <td>1792</td>\n",
       "    </tr>\n",
       "    <tr>\n",
       "      <th>2</th>\n",
       "      <td>apple</td>\n",
       "      <td>Apple iPhone 11 Pro Max</td>\n",
       "      <td>109900</td>\n",
       "      <td>77.0</td>\n",
       "      <td>False</td>\n",
       "      <td>True</td>\n",
       "      <td>False</td>\n",
       "      <td>bionic</td>\n",
       "      <td>6</td>\n",
       "      <td>2.65</td>\n",
       "      <td>...</td>\n",
       "      <td>60</td>\n",
       "      <td>3</td>\n",
       "      <td>1.0</td>\n",
       "      <td>ios</td>\n",
       "      <td>12.0</td>\n",
       "      <td>12.0</td>\n",
       "      <td>0</td>\n",
       "      <td>NaN</td>\n",
       "      <td>1242</td>\n",
       "      <td>2688</td>\n",
       "    </tr>\n",
       "    <tr>\n",
       "      <th>3</th>\n",
       "      <td>apple</td>\n",
       "      <td>Apple iPhone 12</td>\n",
       "      <td>51999</td>\n",
       "      <td>74.0</td>\n",
       "      <td>True</td>\n",
       "      <td>True</td>\n",
       "      <td>False</td>\n",
       "      <td>bionic</td>\n",
       "      <td>6</td>\n",
       "      <td>3.10</td>\n",
       "      <td>...</td>\n",
       "      <td>60</td>\n",
       "      <td>2</td>\n",
       "      <td>1.0</td>\n",
       "      <td>ios</td>\n",
       "      <td>12.0</td>\n",
       "      <td>12.0</td>\n",
       "      <td>0</td>\n",
       "      <td>NaN</td>\n",
       "      <td>1170</td>\n",
       "      <td>2532</td>\n",
       "    </tr>\n",
       "    <tr>\n",
       "      <th>4</th>\n",
       "      <td>apple</td>\n",
       "      <td>Apple iPhone 12 (128GB)</td>\n",
       "      <td>55999</td>\n",
       "      <td>75.0</td>\n",
       "      <td>True</td>\n",
       "      <td>True</td>\n",
       "      <td>False</td>\n",
       "      <td>bionic</td>\n",
       "      <td>6</td>\n",
       "      <td>3.10</td>\n",
       "      <td>...</td>\n",
       "      <td>60</td>\n",
       "      <td>2</td>\n",
       "      <td>1.0</td>\n",
       "      <td>ios</td>\n",
       "      <td>12.0</td>\n",
       "      <td>12.0</td>\n",
       "      <td>0</td>\n",
       "      <td>NaN</td>\n",
       "      <td>1170</td>\n",
       "      <td>2532</td>\n",
       "    </tr>\n",
       "  </tbody>\n",
       "</table>\n",
       "<p>5 rows × 26 columns</p>\n",
       "</div>"
      ]
     },
     "execution_count": 2,
     "metadata": {},
     "output_type": "execute_result"
    }
   ],
   "execution_count": 2
  },
  {
   "cell_type": "markdown",
   "id": "94e446b4",
   "metadata": {},
   "source": [
    "Dans un premier temps nous allons reformater les prix en euros : les données qui sont présentées ci-dessus viennent du marché des smartphones en Inde. Nous allons donc faire une conversion des prix, ici en roupie, en euros."
   ]
  },
  {
   "cell_type": "code",
   "id": "01f1ccc5",
   "metadata": {
    "ExecuteTime": {
     "end_time": "2025-07-27T22:12:49.611881Z",
     "start_time": "2025-07-27T22:12:49.603412Z"
    }
   },
   "source": [
    "### Conversion des prix roupie -> euro\n",
    "data['price'] = data['price'] * 0.009966\n",
    "\n",
    "### Arrondi des prix\n",
    "data['price'] = data['price'].round(2)\n",
    "\n",
    "data = data.rename(columns={'price': 'price (€)'})\n",
    "\n",
    "data.head()"
   ],
   "outputs": [
    {
     "data": {
      "text/plain": [
       "  brand_name                    model  price (€)  rating  has_5g  has_nfc  \\\n",
       "0      apple          Apple iPhone 11     388.66    73.0   False     True   \n",
       "1      apple  Apple iPhone 11 (128GB)     468.39    75.0   False     True   \n",
       "2      apple  Apple iPhone 11 Pro Max    1095.26    77.0   False     True   \n",
       "3      apple          Apple iPhone 12     518.22    74.0    True     True   \n",
       "4      apple  Apple iPhone 12 (128GB)     558.09    75.0    True     True   \n",
       "\n",
       "   has_ir_blaster processor_brand  num_cores  processor_speed  ...  \\\n",
       "0           False          bionic          6             2.65  ...   \n",
       "1           False          bionic          6             2.65  ...   \n",
       "2           False          bionic          6             2.65  ...   \n",
       "3           False          bionic          6             3.10  ...   \n",
       "4           False          bionic          6             3.10  ...   \n",
       "\n",
       "   refresh_rate  num_rear_cameras  num_front_cameras   os  \\\n",
       "0            60                 2                1.0  ios   \n",
       "1            60                 2                1.0  ios   \n",
       "2            60                 3                1.0  ios   \n",
       "3            60                 2                1.0  ios   \n",
       "4            60                 2                1.0  ios   \n",
       "\n",
       "   primary_camera_rear  primary_camera_front  extended_memory_available  \\\n",
       "0                 12.0                  12.0                          0   \n",
       "1                 12.0                  12.0                          0   \n",
       "2                 12.0                  12.0                          0   \n",
       "3                 12.0                  12.0                          0   \n",
       "4                 12.0                  12.0                          0   \n",
       "\n",
       "   extended_upto  resolution_width resolution_height  \n",
       "0            NaN               828              1792  \n",
       "1            NaN               828              1792  \n",
       "2            NaN              1242              2688  \n",
       "3            NaN              1170              2532  \n",
       "4            NaN              1170              2532  \n",
       "\n",
       "[5 rows x 26 columns]"
      ],
      "text/html": [
       "<div>\n",
       "<style scoped>\n",
       "    .dataframe tbody tr th:only-of-type {\n",
       "        vertical-align: middle;\n",
       "    }\n",
       "\n",
       "    .dataframe tbody tr th {\n",
       "        vertical-align: top;\n",
       "    }\n",
       "\n",
       "    .dataframe thead th {\n",
       "        text-align: right;\n",
       "    }\n",
       "</style>\n",
       "<table border=\"1\" class=\"dataframe\">\n",
       "  <thead>\n",
       "    <tr style=\"text-align: right;\">\n",
       "      <th></th>\n",
       "      <th>brand_name</th>\n",
       "      <th>model</th>\n",
       "      <th>price (€)</th>\n",
       "      <th>rating</th>\n",
       "      <th>has_5g</th>\n",
       "      <th>has_nfc</th>\n",
       "      <th>has_ir_blaster</th>\n",
       "      <th>processor_brand</th>\n",
       "      <th>num_cores</th>\n",
       "      <th>processor_speed</th>\n",
       "      <th>...</th>\n",
       "      <th>refresh_rate</th>\n",
       "      <th>num_rear_cameras</th>\n",
       "      <th>num_front_cameras</th>\n",
       "      <th>os</th>\n",
       "      <th>primary_camera_rear</th>\n",
       "      <th>primary_camera_front</th>\n",
       "      <th>extended_memory_available</th>\n",
       "      <th>extended_upto</th>\n",
       "      <th>resolution_width</th>\n",
       "      <th>resolution_height</th>\n",
       "    </tr>\n",
       "  </thead>\n",
       "  <tbody>\n",
       "    <tr>\n",
       "      <th>0</th>\n",
       "      <td>apple</td>\n",
       "      <td>Apple iPhone 11</td>\n",
       "      <td>388.66</td>\n",
       "      <td>73.0</td>\n",
       "      <td>False</td>\n",
       "      <td>True</td>\n",
       "      <td>False</td>\n",
       "      <td>bionic</td>\n",
       "      <td>6</td>\n",
       "      <td>2.65</td>\n",
       "      <td>...</td>\n",
       "      <td>60</td>\n",
       "      <td>2</td>\n",
       "      <td>1.0</td>\n",
       "      <td>ios</td>\n",
       "      <td>12.0</td>\n",
       "      <td>12.0</td>\n",
       "      <td>0</td>\n",
       "      <td>NaN</td>\n",
       "      <td>828</td>\n",
       "      <td>1792</td>\n",
       "    </tr>\n",
       "    <tr>\n",
       "      <th>1</th>\n",
       "      <td>apple</td>\n",
       "      <td>Apple iPhone 11 (128GB)</td>\n",
       "      <td>468.39</td>\n",
       "      <td>75.0</td>\n",
       "      <td>False</td>\n",
       "      <td>True</td>\n",
       "      <td>False</td>\n",
       "      <td>bionic</td>\n",
       "      <td>6</td>\n",
       "      <td>2.65</td>\n",
       "      <td>...</td>\n",
       "      <td>60</td>\n",
       "      <td>2</td>\n",
       "      <td>1.0</td>\n",
       "      <td>ios</td>\n",
       "      <td>12.0</td>\n",
       "      <td>12.0</td>\n",
       "      <td>0</td>\n",
       "      <td>NaN</td>\n",
       "      <td>828</td>\n",
       "      <td>1792</td>\n",
       "    </tr>\n",
       "    <tr>\n",
       "      <th>2</th>\n",
       "      <td>apple</td>\n",
       "      <td>Apple iPhone 11 Pro Max</td>\n",
       "      <td>1095.26</td>\n",
       "      <td>77.0</td>\n",
       "      <td>False</td>\n",
       "      <td>True</td>\n",
       "      <td>False</td>\n",
       "      <td>bionic</td>\n",
       "      <td>6</td>\n",
       "      <td>2.65</td>\n",
       "      <td>...</td>\n",
       "      <td>60</td>\n",
       "      <td>3</td>\n",
       "      <td>1.0</td>\n",
       "      <td>ios</td>\n",
       "      <td>12.0</td>\n",
       "      <td>12.0</td>\n",
       "      <td>0</td>\n",
       "      <td>NaN</td>\n",
       "      <td>1242</td>\n",
       "      <td>2688</td>\n",
       "    </tr>\n",
       "    <tr>\n",
       "      <th>3</th>\n",
       "      <td>apple</td>\n",
       "      <td>Apple iPhone 12</td>\n",
       "      <td>518.22</td>\n",
       "      <td>74.0</td>\n",
       "      <td>True</td>\n",
       "      <td>True</td>\n",
       "      <td>False</td>\n",
       "      <td>bionic</td>\n",
       "      <td>6</td>\n",
       "      <td>3.10</td>\n",
       "      <td>...</td>\n",
       "      <td>60</td>\n",
       "      <td>2</td>\n",
       "      <td>1.0</td>\n",
       "      <td>ios</td>\n",
       "      <td>12.0</td>\n",
       "      <td>12.0</td>\n",
       "      <td>0</td>\n",
       "      <td>NaN</td>\n",
       "      <td>1170</td>\n",
       "      <td>2532</td>\n",
       "    </tr>\n",
       "    <tr>\n",
       "      <th>4</th>\n",
       "      <td>apple</td>\n",
       "      <td>Apple iPhone 12 (128GB)</td>\n",
       "      <td>558.09</td>\n",
       "      <td>75.0</td>\n",
       "      <td>True</td>\n",
       "      <td>True</td>\n",
       "      <td>False</td>\n",
       "      <td>bionic</td>\n",
       "      <td>6</td>\n",
       "      <td>3.10</td>\n",
       "      <td>...</td>\n",
       "      <td>60</td>\n",
       "      <td>2</td>\n",
       "      <td>1.0</td>\n",
       "      <td>ios</td>\n",
       "      <td>12.0</td>\n",
       "      <td>12.0</td>\n",
       "      <td>0</td>\n",
       "      <td>NaN</td>\n",
       "      <td>1170</td>\n",
       "      <td>2532</td>\n",
       "    </tr>\n",
       "  </tbody>\n",
       "</table>\n",
       "<p>5 rows × 26 columns</p>\n",
       "</div>"
      ]
     },
     "execution_count": 3,
     "metadata": {},
     "output_type": "execute_result"
    }
   ],
   "execution_count": 3
  },
  {
   "cell_type": "markdown",
   "id": "27fef1ec",
   "metadata": {},
   "source": [
    "**Dimension du dataset**"
   ]
  },
  {
   "cell_type": "code",
   "id": "bc49f1a7",
   "metadata": {
    "ExecuteTime": {
     "end_time": "2025-07-27T22:12:49.615099Z",
     "start_time": "2025-07-27T22:12:49.612422Z"
    }
   },
   "source": [
    "data.shape"
   ],
   "outputs": [
    {
     "data": {
      "text/plain": [
       "(979, 26)"
      ]
     },
     "execution_count": 4,
     "metadata": {},
     "output_type": "execute_result"
    }
   ],
   "execution_count": 4
  },
  {
   "cell_type": "markdown",
   "id": "923819ed",
   "metadata": {},
   "source": [
    "**Colonnes du dataset**"
   ]
  },
  {
   "cell_type": "code",
   "id": "52782548",
   "metadata": {
    "ExecuteTime": {
     "end_time": "2025-07-27T22:12:49.617915Z",
     "start_time": "2025-07-27T22:12:49.615582Z"
    }
   },
   "source": [
    "data.columns"
   ],
   "outputs": [
    {
     "data": {
      "text/plain": [
       "Index(['brand_name', 'model', 'price (€)', 'rating', 'has_5g', 'has_nfc',\n",
       "       'has_ir_blaster', 'processor_brand', 'num_cores', 'processor_speed',\n",
       "       'battery_capacity', 'fast_charging_available', 'fast_charging',\n",
       "       'ram_capacity', 'internal_memory', 'screen_size', 'refresh_rate',\n",
       "       'num_rear_cameras', 'num_front_cameras', 'os', 'primary_camera_rear',\n",
       "       'primary_camera_front', 'extended_memory_available', 'extended_upto',\n",
       "       'resolution_width', 'resolution_height'],\n",
       "      dtype='object')"
      ]
     },
     "execution_count": 5,
     "metadata": {},
     "output_type": "execute_result"
    }
   ],
   "execution_count": 5
  },
  {
   "cell_type": "markdown",
   "id": "415a2702",
   "metadata": {},
   "source": [
    "Maintenant, nous allons passer par l'étape d'exploration des données."
   ]
  },
  {
   "cell_type": "markdown",
   "id": "ca566629",
   "metadata": {},
   "source": [
    "### EDA"
   ]
  },
  {
   "cell_type": "markdown",
   "id": "089f7131",
   "metadata": {},
   "source": [
    "### Importation des modules\n",
    "import plotly.express as px\n",
    "import plotly.graph_objects as go"
   ]
  },
  {
   "cell_type": "markdown",
   "id": "1c3b829f",
   "metadata": {},
   "source": [
    "**Colonne des marques**"
   ]
  },
  {
   "cell_type": "markdown",
   "id": "1230962d",
   "metadata": {},
   "source": [
    "### Distribution des marques\n",
    "fig_brand = px.histogram(data, x='brand_name', nbins=20, title=\"Distribution des marques de téléphones vendus\")\n",
    "\n",
    "fig_brand.update_layout(\n",
    "    xaxis_title='Marque',\n",
    "    yaxis_title='Nombre de smartphones',\n",
    "    bargap=0.1\n",
    ")\n",
    "\n",
    "fig_brand.show()"
   ]
  },
  {
   "cell_type": "markdown",
   "id": "54ed4f61",
   "metadata": {},
   "source": [
    "* Marques les plus fréquentes :\n",
    "    - Xiaomi, OnePlus, et Samsung sont les plus représentées, avec environ 130 modèles ou variantes chacun.\n",
    "    - Apple, Realme, Motorola, Infinix, Vivo, Oppo et Nokia suivent avec une forte présence.\n",
    "* Longue traîne de petites marques :\n",
    "    - De nombreuses marques (plus de 20) sont représentées de façon marginale (moins de 10 modèles), voire parfois très peu présentes.\n"
   ]
  },
  {
   "cell_type": "markdown",
   "id": "81c9fcf9",
   "metadata": {},
   "source": [
    "**Colonnes des prix**\n",
    "\n",
    "Ici, nous affichons la distribution des prix des smartphones."
   ]
  },
  {
   "cell_type": "code",
   "id": "dae7bf8e",
   "metadata": {
    "ExecuteTime": {
     "end_time": "2025-07-27T22:12:49.684259Z",
     "start_time": "2025-07-27T22:12:49.618776Z"
    }
   },
   "source": [
    "### Distribution des prix\n",
    "fig_price = px.histogram(data, x='price (€)', nbins=20, title='Distribution des prix des smartphones')\n",
    "\n",
    "fig_price.update_layout(\n",
    "    xaxis_title='Prix (€)',\n",
    "    yaxis_title='Nombre de smartphones',\n",
    "    bargap=0.1\n",
    ")\n",
    "\n",
    "fig_price.show()"
   ],
   "outputs": [
    {
     "data": {
      "application/vnd.plotly.v1+json": {
       "data": [
        {
         "bingroup": "x",
         "hovertemplate": "price (€)=%{x}<br>count=%{y}<extra></extra>",
         "legendgroup": "",
         "marker": {
          "color": "#636efa",
          "pattern": {
           "shape": ""
          }
         },
         "name": "",
         "nbinsx": 20,
         "orientation": "v",
         "showlegend": false,
         "x": {
          "dtype": "f8",
          "bdata": "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"
         },
         "xaxis": "x",
         "yaxis": "y",
         "type": "histogram"
        }
       ],
       "layout": {
        "template": {
         "data": {
          "histogram2dcontour": [
           {
            "type": "histogram2dcontour",
            "colorbar": {
             "outlinewidth": 0,
             "ticks": ""
            },
            "colorscale": [
             [
              0.0,
              "#0d0887"
             ],
             [
              0.1111111111111111,
              "#46039f"
             ],
             [
              0.2222222222222222,
              "#7201a8"
             ],
             [
              0.3333333333333333,
              "#9c179e"
             ],
             [
              0.4444444444444444,
              "#bd3786"
             ],
             [
              0.5555555555555556,
              "#d8576b"
             ],
             [
              0.6666666666666666,
              "#ed7953"
             ],
             [
              0.7777777777777778,
              "#fb9f3a"
             ],
             [
              0.8888888888888888,
              "#fdca26"
             ],
             [
              1.0,
              "#f0f921"
             ]
            ]
           }
          ],
          "choropleth": [
           {
            "type": "choropleth",
            "colorbar": {
             "outlinewidth": 0,
             "ticks": ""
            }
           }
          ],
          "histogram2d": [
           {
            "type": "histogram2d",
            "colorbar": {
             "outlinewidth": 0,
             "ticks": ""
            },
            "colorscale": [
             [
              0.0,
              "#0d0887"
             ],
             [
              0.1111111111111111,
              "#46039f"
             ],
             [
              0.2222222222222222,
              "#7201a8"
             ],
             [
              0.3333333333333333,
              "#9c179e"
             ],
             [
              0.4444444444444444,
              "#bd3786"
             ],
             [
              0.5555555555555556,
              "#d8576b"
             ],
             [
              0.6666666666666666,
              "#ed7953"
             ],
             [
              0.7777777777777778,
              "#fb9f3a"
             ],
             [
              0.8888888888888888,
              "#fdca26"
             ],
             [
              1.0,
              "#f0f921"
             ]
            ]
           }
          ],
          "heatmap": [
           {
            "type": "heatmap",
            "colorbar": {
             "outlinewidth": 0,
             "ticks": ""
            },
            "colorscale": [
             [
              0.0,
              "#0d0887"
             ],
             [
              0.1111111111111111,
              "#46039f"
             ],
             [
              0.2222222222222222,
              "#7201a8"
             ],
             [
              0.3333333333333333,
              "#9c179e"
             ],
             [
              0.4444444444444444,
              "#bd3786"
             ],
             [
              0.5555555555555556,
              "#d8576b"
             ],
             [
              0.6666666666666666,
              "#ed7953"
             ],
             [
              0.7777777777777778,
              "#fb9f3a"
             ],
             [
              0.8888888888888888,
              "#fdca26"
             ],
             [
              1.0,
              "#f0f921"
             ]
            ]
           }
          ],
          "contourcarpet": [
           {
            "type": "contourcarpet",
            "colorbar": {
             "outlinewidth": 0,
             "ticks": ""
            }
           }
          ],
          "contour": [
           {
            "type": "contour",
            "colorbar": {
             "outlinewidth": 0,
             "ticks": ""
            },
            "colorscale": [
             [
              0.0,
              "#0d0887"
             ],
             [
              0.1111111111111111,
              "#46039f"
             ],
             [
              0.2222222222222222,
              "#7201a8"
             ],
             [
              0.3333333333333333,
              "#9c179e"
             ],
             [
              0.4444444444444444,
              "#bd3786"
             ],
             [
              0.5555555555555556,
              "#d8576b"
             ],
             [
              0.6666666666666666,
              "#ed7953"
             ],
             [
              0.7777777777777778,
              "#fb9f3a"
             ],
             [
              0.8888888888888888,
              "#fdca26"
             ],
             [
              1.0,
              "#f0f921"
             ]
            ]
           }
          ],
          "surface": [
           {
            "type": "surface",
            "colorbar": {
             "outlinewidth": 0,
             "ticks": ""
            },
            "colorscale": [
             [
              0.0,
              "#0d0887"
             ],
             [
              0.1111111111111111,
              "#46039f"
             ],
             [
              0.2222222222222222,
              "#7201a8"
             ],
             [
              0.3333333333333333,
              "#9c179e"
             ],
             [
              0.4444444444444444,
              "#bd3786"
             ],
             [
              0.5555555555555556,
              "#d8576b"
             ],
             [
              0.6666666666666666,
              "#ed7953"
             ],
             [
              0.7777777777777778,
              "#fb9f3a"
             ],
             [
              0.8888888888888888,
              "#fdca26"
             ],
             [
              1.0,
              "#f0f921"
             ]
            ]
           }
          ],
          "mesh3d": [
           {
            "type": "mesh3d",
            "colorbar": {
             "outlinewidth": 0,
             "ticks": ""
            }
           }
          ],
          "scatter": [
           {
            "marker": {
             "line": {
              "color": "#283442"
             }
            },
            "type": "scatter"
           }
          ],
          "parcoords": [
           {
            "type": "parcoords",
            "line": {
             "colorbar": {
              "outlinewidth": 0,
              "ticks": ""
             }
            }
           }
          ],
          "scatterpolargl": [
           {
            "type": "scatterpolargl",
            "marker": {
             "colorbar": {
              "outlinewidth": 0,
              "ticks": ""
             }
            }
           }
          ],
          "bar": [
           {
            "error_x": {
             "color": "#f2f5fa"
            },
            "error_y": {
             "color": "#f2f5fa"
            },
            "marker": {
             "line": {
              "color": "rgb(17,17,17)",
              "width": 0.5
             },
             "pattern": {
              "fillmode": "overlay",
              "size": 10,
              "solidity": 0.2
             }
            },
            "type": "bar"
           }
          ],
          "scattergeo": [
           {
            "type": "scattergeo",
            "marker": {
             "colorbar": {
              "outlinewidth": 0,
              "ticks": ""
             }
            }
           }
          ],
          "scatterpolar": [
           {
            "type": "scatterpolar",
            "marker": {
             "colorbar": {
              "outlinewidth": 0,
              "ticks": ""
             }
            }
           }
          ],
          "histogram": [
           {
            "marker": {
             "pattern": {
              "fillmode": "overlay",
              "size": 10,
              "solidity": 0.2
             }
            },
            "type": "histogram"
           }
          ],
          "scattergl": [
           {
            "marker": {
             "line": {
              "color": "#283442"
             }
            },
            "type": "scattergl"
           }
          ],
          "scatter3d": [
           {
            "type": "scatter3d",
            "line": {
             "colorbar": {
              "outlinewidth": 0,
              "ticks": ""
             }
            },
            "marker": {
             "colorbar": {
              "outlinewidth": 0,
              "ticks": ""
             }
            }
           }
          ],
          "scattermap": [
           {
            "type": "scattermap",
            "marker": {
             "colorbar": {
              "outlinewidth": 0,
              "ticks": ""
             }
            }
           }
          ],
          "scattermapbox": [
           {
            "type": "scattermapbox",
            "marker": {
             "colorbar": {
              "outlinewidth": 0,
              "ticks": ""
             }
            }
           }
          ],
          "scatterternary": [
           {
            "type": "scatterternary",
            "marker": {
             "colorbar": {
              "outlinewidth": 0,
              "ticks": ""
             }
            }
           }
          ],
          "scattercarpet": [
           {
            "type": "scattercarpet",
            "marker": {
             "colorbar": {
              "outlinewidth": 0,
              "ticks": ""
             }
            }
           }
          ],
          "carpet": [
           {
            "aaxis": {
             "endlinecolor": "#A2B1C6",
             "gridcolor": "#506784",
             "linecolor": "#506784",
             "minorgridcolor": "#506784",
             "startlinecolor": "#A2B1C6"
            },
            "baxis": {
             "endlinecolor": "#A2B1C6",
             "gridcolor": "#506784",
             "linecolor": "#506784",
             "minorgridcolor": "#506784",
             "startlinecolor": "#A2B1C6"
            },
            "type": "carpet"
           }
          ],
          "table": [
           {
            "cells": {
             "fill": {
              "color": "#506784"
             },
             "line": {
              "color": "rgb(17,17,17)"
             }
            },
            "header": {
             "fill": {
              "color": "#2a3f5f"
             },
             "line": {
              "color": "rgb(17,17,17)"
             }
            },
            "type": "table"
           }
          ],
          "barpolar": [
           {
            "marker": {
             "line": {
              "color": "rgb(17,17,17)",
              "width": 0.5
             },
             "pattern": {
              "fillmode": "overlay",
              "size": 10,
              "solidity": 0.2
             }
            },
            "type": "barpolar"
           }
          ],
          "pie": [
           {
            "automargin": true,
            "type": "pie"
           }
          ]
         },
         "layout": {
          "autotypenumbers": "strict",
          "colorway": [
           "#636efa",
           "#EF553B",
           "#00cc96",
           "#ab63fa",
           "#FFA15A",
           "#19d3f3",
           "#FF6692",
           "#B6E880",
           "#FF97FF",
           "#FECB52"
          ],
          "font": {
           "color": "#f2f5fa"
          },
          "hovermode": "closest",
          "hoverlabel": {
           "align": "left"
          },
          "paper_bgcolor": "rgb(17,17,17)",
          "plot_bgcolor": "rgb(17,17,17)",
          "polar": {
           "bgcolor": "rgb(17,17,17)",
           "angularaxis": {
            "gridcolor": "#506784",
            "linecolor": "#506784",
            "ticks": ""
           },
           "radialaxis": {
            "gridcolor": "#506784",
            "linecolor": "#506784",
            "ticks": ""
           }
          },
          "ternary": {
           "bgcolor": "rgb(17,17,17)",
           "aaxis": {
            "gridcolor": "#506784",
            "linecolor": "#506784",
            "ticks": ""
           },
           "baxis": {
            "gridcolor": "#506784",
            "linecolor": "#506784",
            "ticks": ""
           },
           "caxis": {
            "gridcolor": "#506784",
            "linecolor": "#506784",
            "ticks": ""
           }
          },
          "coloraxis": {
           "colorbar": {
            "outlinewidth": 0,
            "ticks": ""
           }
          },
          "colorscale": {
           "sequential": [
            [
             0.0,
             "#0d0887"
            ],
            [
             0.1111111111111111,
             "#46039f"
            ],
            [
             0.2222222222222222,
             "#7201a8"
            ],
            [
             0.3333333333333333,
             "#9c179e"
            ],
            [
             0.4444444444444444,
             "#bd3786"
            ],
            [
             0.5555555555555556,
             "#d8576b"
            ],
            [
             0.6666666666666666,
             "#ed7953"
            ],
            [
             0.7777777777777778,
             "#fb9f3a"
            ],
            [
             0.8888888888888888,
             "#fdca26"
            ],
            [
             1.0,
             "#f0f921"
            ]
           ],
           "sequentialminus": [
            [
             0.0,
             "#0d0887"
            ],
            [
             0.1111111111111111,
             "#46039f"
            ],
            [
             0.2222222222222222,
             "#7201a8"
            ],
            [
             0.3333333333333333,
             "#9c179e"
            ],
            [
             0.4444444444444444,
             "#bd3786"
            ],
            [
             0.5555555555555556,
             "#d8576b"
            ],
            [
             0.6666666666666666,
             "#ed7953"
            ],
            [
             0.7777777777777778,
             "#fb9f3a"
            ],
            [
             0.8888888888888888,
             "#fdca26"
            ],
            [
             1.0,
             "#f0f921"
            ]
           ],
           "diverging": [
            [
             0,
             "#8e0152"
            ],
            [
             0.1,
             "#c51b7d"
            ],
            [
             0.2,
             "#de77ae"
            ],
            [
             0.3,
             "#f1b6da"
            ],
            [
             0.4,
             "#fde0ef"
            ],
            [
             0.5,
             "#f7f7f7"
            ],
            [
             0.6,
             "#e6f5d0"
            ],
            [
             0.7,
             "#b8e186"
            ],
            [
             0.8,
             "#7fbc41"
            ],
            [
             0.9,
             "#4d9221"
            ],
            [
             1,
             "#276419"
            ]
           ]
          },
          "xaxis": {
           "gridcolor": "#283442",
           "linecolor": "#506784",
           "ticks": "",
           "title": {
            "standoff": 15
           },
           "zerolinecolor": "#283442",
           "automargin": true,
           "zerolinewidth": 2
          },
          "yaxis": {
           "gridcolor": "#283442",
           "linecolor": "#506784",
           "ticks": "",
           "title": {
            "standoff": 15
           },
           "zerolinecolor": "#283442",
           "automargin": true,
           "zerolinewidth": 2
          },
          "scene": {
           "xaxis": {
            "backgroundcolor": "rgb(17,17,17)",
            "gridcolor": "#506784",
            "linecolor": "#506784",
            "showbackground": true,
            "ticks": "",
            "zerolinecolor": "#C8D4E3",
            "gridwidth": 2
           },
           "yaxis": {
            "backgroundcolor": "rgb(17,17,17)",
            "gridcolor": "#506784",
            "linecolor": "#506784",
            "showbackground": true,
            "ticks": "",
            "zerolinecolor": "#C8D4E3",
            "gridwidth": 2
           },
           "zaxis": {
            "backgroundcolor": "rgb(17,17,17)",
            "gridcolor": "#506784",
            "linecolor": "#506784",
            "showbackground": true,
            "ticks": "",
            "zerolinecolor": "#C8D4E3",
            "gridwidth": 2
           }
          },
          "shapedefaults": {
           "line": {
            "color": "#f2f5fa"
           }
          },
          "annotationdefaults": {
           "arrowcolor": "#f2f5fa",
           "arrowhead": 0,
           "arrowwidth": 1
          },
          "geo": {
           "bgcolor": "rgb(17,17,17)",
           "landcolor": "rgb(17,17,17)",
           "subunitcolor": "#506784",
           "showland": true,
           "showlakes": true,
           "lakecolor": "rgb(17,17,17)"
          },
          "title": {
           "x": 0.05
          },
          "updatemenudefaults": {
           "bgcolor": "#506784",
           "borderwidth": 0
          },
          "sliderdefaults": {
           "bgcolor": "#C8D4E3",
           "borderwidth": 1,
           "bordercolor": "rgb(17,17,17)",
           "tickwidth": 0
          },
          "mapbox": {
           "style": "dark"
          }
         }
        },
        "xaxis": {
         "anchor": "y",
         "domain": [
          0.0,
          1.0
         ],
         "title": {
          "text": "Prix (€)"
         }
        },
        "yaxis": {
         "anchor": "x",
         "domain": [
          0.0,
          1.0
         ],
         "title": {
          "text": "Nombre de smartphones"
         }
        },
        "legend": {
         "tracegroupgap": 0
        },
        "title": {
         "text": "Distribution des prix des smartphones"
        },
        "barmode": "relative",
        "bargap": 0.1
       },
       "config": {
        "plotlyServerURL": "https://plot.ly"
       }
      },
      "text/html": [
       "<div>            <script src=\"https://cdnjs.cloudflare.com/ajax/libs/mathjax/2.7.5/MathJax.js?config=TeX-AMS-MML_SVG\"></script><script type=\"text/javascript\">if (window.MathJax && window.MathJax.Hub && window.MathJax.Hub.Config) {window.MathJax.Hub.Config({SVG: {font: \"STIX-Web\"}});}</script>                <script type=\"text/javascript\">window.PlotlyConfig = {MathJaxConfig: 'local'};</script>\n",
       "        <script charset=\"utf-8\" src=\"https://cdn.plot.ly/plotly-3.0.1.min.js\" integrity=\"sha256-oy6Be7Eh6eiQFs5M7oXuPxxm9qbJXEtTpfSI93dW16Q=\" crossorigin=\"anonymous\"></script>                <div id=\"9628c333-e7d1-4d67-b350-f8551c706094\" class=\"plotly-graph-div\" style=\"height:525px; width:100%;\"></div>            <script type=\"text/javascript\">                window.PLOTLYENV=window.PLOTLYENV || {};                                if (document.getElementById(\"9628c333-e7d1-4d67-b350-f8551c706094\")) {                    Plotly.newPlot(                        \"9628c333-e7d1-4d67-b350-f8551c706094\",                        [{\"bingroup\":\"x\",\"hovertemplate\":\"price (\\u20ac)=%{x}\\u003cbr\\u003ecount=%{y}\\u003cextra\\u003e\\u003c\\u002fextra\\u003e\",\"legendgroup\":\"\",\"marker\":{\"color\":\"#636efa\",\"pattern\":{\"shape\":\"\"}},\"name\":\"\",\"nbinsx\":20,\"orientation\":\"v\",\"showlegend\":false,\"x\":{\"dtype\":\"f8\",\"bdata\":\"w\\u002fUoXI9KeEAK16NwPUZ9QNejcD0KHZFA9ihcj8IxgEAfhetRuHCBQD0K16NwLYVAmpmZmZmJeUB7FK5H4aZ8QB+F61G4cIFASOF6FK6rkkApXI\\u002fC9ciVQM3MzMzMnoNArkfhehS8hkB7FK5H4aaMQLgehetRNoRASOF6FK6rkkB7FK5H4QeXQLgehetROpRAuB6F61E6lEDsUbgehQOcQClcj8L1yJVAAAAAAACOhEDhehSuR6uHQKRwPQrX5Y1AXI\\u002fC9SjMhUDsUbgehVuHQM3MzMzMeIpASOF6FK5ZkEDhehSuR6+SQD0K16Nw8JpAUrgehes9lEBSuB6F6z2UQK5H4XoUf5xAw\\u002fUoXI\\u002fMlUB7FK5H4XSaQHE9Ctej2IlArkfhehR4ikDNzMzMzGWUQFyPwvUoRJZAmpmZmZlXl0DNzMzMzICAQK5H4XoUrnJACtejcD3aeEBcj8L1KFh7QDMzMzMzI39AuB6F61FshkCuR+F6FOp4QLgehetRbIZArkfhehS8hkA9CtejcAeMQFK4HoXr0JBAw\\u002fUoXI+qh0D2KFyPwu2DQPYoXI\\u002fCZVZAFK5H4XqsYkCPwvUoXK9iQI\\u002fC9Shcr2JAj8L1KFyvYkB7FK5H4aZ8QKRwPQrX41hAuB6F61HYTkAAAAAAAHBRQI\\u002fC9Shcr1JA7FG4HoXrY0BmZmZmZu5jQHE9CtejEGlAFK5H4XpsdkBSuB6F6410QB+F61G4NnlAMzMzMzPpgEC4HoXrUdKIQOxRuB6Fr3JA7FG4HoWJgECamZmZmYmJQI\\u002fC9Shcy3VAFK5H4XrQgEBSuB6F6xuGQBSuR+F6jHRAmpmZmZkhb0BxPQrXo+h4QJqZmZmZTXNACtejcD0ggUCPwvUoXJWNQJqZmZmZ6VhAuB6F61FwYUC4HoXrUXBhQIXrUbgeLWVAFK5H4XqsYkCF61G4Hi1lQHE9CtejcHFASOF6FK5HW0BI4XoULr2gQFyPwvUozIVAAAAAAAAkj0Bcj8L1qK+iQAAAAAAAUZpAPQrXo3BhmUCuR+F6FK5yQD0K16Nw5W1AzczMzMxka0CuR+F6FK5yQNejcD0K52hAzczMzMxka0CkcD0K16NsQHE9Ctej2IlAj8L1KFz\\u002fgkBxPQrXo\\u002fBQQK5H4XoU7lNAPQrXo3AtVEAUrkfheiRYQJqZmZmZ6VhAMzMzMzMzVkC4HoXrUQhbQB+F61G4vl5AXI\\u002fC9ShsZkBSuB6F6+loQOxRuB6Fa1ZAmpmZmZnpWECamZmZmTFgQDMzMzMz419AZmZmZmbuY0BmZmZmZiZdQJqZmZmZMWBAhetRuB4tZUBmZmZmZu5jQPYoXI\\u002fCDWVAexSuR+GqZ0CPwvUoXK9iQFK4HoXr6WhAmpmZmZnpWECF61G4Hi1lQM3MzMzMPFJAAAAAAABwUUA9CtejcK1UQFyPwvUobGZAw\\u002fUoXI9KaEBI4XoUrgt3QM3MzMzMZGtACtejcD0+hECamZmZma+CQIXrUbgeX4JAmpmZmZkhb0B7FK5H4Wp2QHE9Ctej6HhAj8L1KFzLdUBxPQrXo+h4QHsUrkfhroJAmpmZmZlNc0DNzMzMzMR1QLgehetR5H1AAAAAAAAQckA9CtejcAV1QKRwPQrXo2xA7FG4HoWvckAUrkfheox0QJqZmZmZIW9AzczMzMwMYkBmZmZmZu5jQB+F61G4TmNACtejcD0aZUAzMzMzMwtnQB+F61G4TmNAhetRuB5tYUAUrkfheiRrQHE9CtejcHFArkfhehQmbUBcj8L1KGxmQBSuR+F6JG9Aj8L1KFyvYkDXo3A9CudoQM3MzMzM7ENAexSuR+HaR0CamZmZmdlNQHsUrkfhWktA7FG4HoUrUECamZmZmdlNQArXo3A9alFAmpmZmZlZTUBxPQrXo7BQQDMzMzMz00xAj8L1KFzfXUAK16NwPSpHQI\\u002fC9Shcr1JA7FG4HoVrRkDhehSuR2lmQEjhehSuZ1tA7FG4HoVrVkAAAAAAAHBRQEjhehSuZ1tAmpmZmZl2k0CamZmZma+CQM3MzMzMRH1AZmZmZmZmS0CF61G4HuVNQAAAAAAAcFFAPQrXo3DpiEApXI\\u002fC9SCBQClcj8L1IIFA4XoUrkfhQ0DD9Shcj2JDQAAAAAAAcFFAKVyPwvVoU0CF61G4HuVNQHsUrkfhqmdAH4XrUbimbEAUrkfheiRvQK5H4XoU6nhAzczMzMzMdUApXI\\u002fC9SCBQJqZmZmZr4JAzczMzMzMdUDXo3A9Csd6QHsUrkfhroJAXI\\u002fC9SgQgkAUrkfhegRsQLgehetRKFpACtejcD16VkDsUbgehWtWQLgehetR6FNAw\\u002fUoXI8SVkCuR+F6FO5TQClcj8L17HNAw\\u002fUoXI\\u002fibUCPwvUoXMt1QHsUrkfhroJA16NwPQrnaEBmZmZmZu5jQHsUrkfhqldAUrgehevpaECamZmZmelYQIXrUbge5V1AuB6F61EoWkAAAAAAABBiQEjhehSuZ1tAmpmZmZkxYECF61G4HuVdQJqZmZmZMWBAhetRuB4tZUBI4XoUrmdrQGZmZmZm7mNA9ihcj8KNZECPwvUoXK9iQIXrUbgeLWVA16NwPQrnaEBmZmZmZu5jQPYoXI\\u002fCMXBA4XoUrkeJaUB7FK5H4apnQNejcD0K52hAw\\u002fUoXI\\u002fibUDsUbgehSd6QK5H4XoU6nhAw\\u002fUoXI9KaEBxPQrXo6BcQDMzMzMzI39ASOF6FK4nSkDsUbgehWtWQHsUrkfhqldAuB6F61EoWkCF61G4HuVdQClcj8L10GBAXI\\u002fC9SjAcUAK16NwPUZ9QOF6FK5HaWZA7FG4HoUnekDNzMzMzMx1QHE9Ctej6HhAMzMzMzMjf0DhehSuR6lwQLgehetRbHZAFK5H4XqYcUCamZmZmSFvQHE9Ctej6HhAj8L1KFwHfEBxPQrXo\\u002f6CQM3MzMzMRH1Aj8L1KFz\\u002fgkAzMzMzMyN\\u002fQM3MzMzMzHVAj8L1KFz\\u002fgkCuR+F6FGaEQOxRuB6FW4dAUrgeheuNdEBI4XoUrgt3QNejcD0KC3ZAj8L1KFwHfEBcj8L1KMR\\u002fQB+F61G4cIFAKVyPwvUggUB7FK5H4cyFQK5H4XoU6nhAexSuR+HMhUBxPQrXo3BxQGZmZmZmLoRAFK5H4XrIekCPwvUoXAd8QM3MzMzMzHVAw\\u002fUoXI8OckC4HoXrUeR9QKRwPQrXo2xAj8L1KFyvYkAfhetRuKZsQJqZmZmZHXVAAAAAAAAQckBxPQrXo3BxQK5H4XoUrnJA7FG4HoWvckDNzMzMzMx1QB+F61G45mhAZmZmZmZma0AUrkfheiRvQEjhehSuZ2tAexSuR+GqZ0BSuB6F6+loQMP1KFyP4m9ACtejcD0qZUCuR+F6FCZqQArXo3A9KmVAAAAAAACoZ0BSuB6F6+loQBSuR+F6JG9ArkfhehQmakCkcD0K1+NYQJqZmZmZ6VhAcT0K16OgXECF61G4HuVdQOxRuB6Fa1ZA7FG4HoVrVkBI4XoUrmdbQBSuR+F6JF9AexSuR+GqV0AfhetRuB5fQD0K16NwbWFAhetRuB5lXkCPwvUoXN9dQI\\u002fC9Shcr2JAKVyPwvXQYEAAAAAAAFBiQOF6FK5HaWZA4XoUrkdpZkCamZmZmTFgQI\\u002fC9Shc311A16NwPQpnYUAAAAAAAKhnQD0K16NwbWFA7FG4HoXrY0CkcD0K10tjQHsUrkfhimRAH4XrUbhOY0CuR+F6FO5jQM3MzMzMZGtAXI\\u002fC9ShsZkB7FK5H4apnQFyPwvUobGZApHA9CtejbEDD9Shcj+JtQJqZmZmZTXNAAAAAAACoZ0AUrkfheqxiQMP1KFyPamZA16NwPQrnaEB7FK5H4epjQClcj8L1KGpAKVyPwvUscECF61G4HiFwQAAAAAAASGtAw\\u002fUoXI86cUDXo3A9CudoQDMzMzMzb3FAzczMzMy6jEAfhetRuAaMQAAAAAAAJI9Aj8L1KFyVjUBSuB6F6xuGQB+F61G4wn9APQrXo3DpiEBcj8L1KMyFQAAAAAAASohArkfhehTOYEAK16NwPSplQIXrUbgeLWVArkfhehSuckAK16NwPSplQNejcD0K52hAUrgeheuNdEDXo3A9Csd6QIXrUbgeX4JArkfhehSuckB7FK5H4Rp4QKRwPQrXo2xAZmZmZmZucECamZmZmeV2QFK4HoXrBXxAFK5H4XqMdEDXo3A9Csd6QHsUrkfhpnxAexSuR+GmfEBI4XoUrs9wQK5H4XoUrnJAUrgehevpaEC4HoXrUcBxQK5H4XoU6nhAexSuR+GmfECkcD0K16NsQClcj8L1MHBAmpmZmZntc0Bcj8L1KGxmQGZmZmZmRnJAmpmZmZkFlUCuR+F6FK5yQKRwPQrXo2xA9ihcj8IhcEDhehSuRzFQQI\\u002fC9Shcr1JA4XoUrkcxUECPwvUoXC9SQK5H4XoU7lNAUrgeheuNdEDsUbgeha9yQPYoXI\\u002fCMXBAcT0K16NwcUCuR+F6FOp4QI\\u002fC9Shcy3VAFK5H4XrIekDsUbgeha9yQFK4HoXrIVtAMzMzMzPjX0BmZmZmZqZcQGZmZmZm7mNASOF6FK5vYkBmZmZmZqZcQClcj8L10GBAhetRuB7lXUCamZmZmTFgQLgehetRcGFAmpmZmZkxYECPwvUoXK9iQGZmZmZm7mNASOF6FK7nWkAAAAAAABBiQNejcD0K52hAKVyPwvXQYEDD9Shcj3poQBSuR+F6rGJAmpmZmZkhb0DD9Shcjw5yQI\\u002fC9Shcr2JA9ihcj8KNZEBcj8L1KGxmQI\\u002fC9Shcr2JArkfhehSuckApXI\\u002fC9ShqQFK4HoXr6WhAuB6F61FwYUCF61G4Hi1lQAAAAAAAEGJAexSuR+GqZ0BSuB6F6+loQBSuR+F6JG9AcT0K16NwcUCamZmZmTFgQAAAAAAAEHJAFK5H4Xokb0BmZmZmZi5gQIXrUbgeDWJASOF6FK5na0BmZmZmZu5jQFyPwvUobGZA9ihcj8KNZEDsUbgehQtnQBSuR+F6JF9AuB6F61FwYUBcj8L1KGxmQM3MzMzMzGVAj8L1KFyvYkBmZmZmZu5jQLgehetRcGFAH4XrUbhOY0B7FK5H4apnQGZmZmZmpmxAexSuR+GqZ0ApXI\\u002fC9ShqQFK4HoXrIXBAhetRuB6lbEDsUbgehYNuQBSuR+F6JF9AuB6F61FwYUCPwvUoXK9iQBSuR+F6pGJAhetRuB4tZUDsUbgehWtWQOxRuB6FK1BA4XoUrkcxUEAfhetRuE5TQAAAAAAAcFFAAAAAAABwUUDsUbgehWtWQI\\u002fC9Shcb0FASOF6FK5nSkCkcD0K12NPQD0K16NwzVFA9ihcj8JlVkA9CtejcK1UQOxRuB6Fa1ZAexSuR+GqV0DNzMzMzExWQJqZmZmZ6VhAuB6F61F4XUBcj8L1KNxfQLgehetRcGFArkfhehTuU0AzMzMzMw9yQFyPwvUoiHlACtejcD0ef0AK16NwPUZ9QArXo3A9TnNAFK5H4XqMdEBxPQrXo3BxQJqZmZmZ7XNAFK5H4Xokb0A9CtejcIFwQLgehetRwHFA7FG4HoWvckDNzMzMzMx1QGZmZmZm7nNAuB6F61EoWkCF61G4Hi1lQFK4HoXr6WhASOF6FK5nW0AfhetRuE5jQFyPwvUobGZAj8L1KFyvYkApXI\\u002fC9dBgQGZmZmZmhmlAH4XrUbimbEBmZmZmZqZcQGZmZmZmZlxAKVyPwvWYXUDsUbgehStQQOxRuB6Fa1ZArkfhehTuU0CamZmZmblVQJqZmZmZ6VhAj8L1KFyvYkBSuB6F62FbQBSuR+F6rGJAcT0K16NwcUAUrkfheiRvQIXrUbge0XBAexSuR+GKYECuR+F6FO5TQHsUrkfhqmdAUrgehevpaEAAAAAAACGRQMP1KFyPW5dAKVyPwvXoSECPwvUoXA9SQGZmZmZmplxA4XoUrkcxUEDNzMzMzCxVQIXrUbge5V1AmpmZmZkxYEB7FK5H4SpXQArXo3A9ylhAZmZmZmamXEAfhetRuC5gQAAAAAAAEGJAH4XrUbguYECkcD0K1+NYQIXrUbge5V1AuB6F61FwYUC4HoXrUQBiQI\\u002fC9Shcr2JA9ihcj8KNZEDhehSuR2lmQPYoXI\\u002fCjWRAexSuR+GqZ0ApXI\\u002fC9ShqQOxRuB6F62NAzczMzMzMZUDsUbgehQtnQOF6FK5HaWZA7FG4HoULZ0DXo3A9CudoQB+F61G4pmxAFK5H4Xokb0Bcj8L1KGxmQPYoXI\\u002fCjWRA9ihcj8KNZECF61G4HoVuQPYoXI\\u002fCMXBAKVyPwvUgcUAUrkfheiRvQOF6FK5HaWZA7FG4HoXrY0CamZmZmSFvQPYoXI\\u002fCBWxAAAAAAAC8dkBmZmZmZu5zQJqZmZmZ3XRAzczMzMzMdUA9CtejcMVqQPYoXI\\u002fCBWxAKVyPwvUoekDsUbgehSd6QBSuR+F6yHpAj8L1KFwHfEBxPQrXo+h4QHE9Ctej6HhAcT0K16PoeEC4HoXrUeR9QM3MzMzMLFVAuB6F61EoWkBI4XoUrmdbQIXrUbge5V1AFK5H4XqsYkBmZmZmZqZcQClcj8L10GBAZmZmZmbuY0CF61G4Hi1lQI\\u002fC9Shcr2JAUrgehevpaECkcD0K10tjQB+F61G4pmxASOF6FK5na0DNzMzMzCxVQHsUrkfhqldASOF6FK5nW0CamZmZmTFgQFyPwvUofFpAuB6F61FwYUAAAAAAACBgQI\\u002fC9Shcr2JAZmZmZmY2XUCuR+F6FM5eQIXrUbgeDWJAw\\u002fUoXI8yXkDD9Shcj4JiQK5H4XoUxmVAw\\u002fUoXI9KaECF61G4Hi1lQB+F61G4pmxAmpmZmZkhb0CamZmZmSFvQHsUrkfhom1AKVyPwvWAb0DNzMzMzMx1QD0K16Nw5W1ArkfhehTqeECkcD0K11+CQHE9Ctej9oxAcT0K16PIikBI4XoUrlmQQEjhehSumYhAFK5H4XrIekApXI\\u002fC9Sh6QOxRuB6FW4dAexSuR+EadkDhehSuR3VzQD0K16Nw2YlApHA9CtfHikAfhetRuCSPQD0K16NwdX5ArkfhehTqeECkcD0K12d7QKRwPQrXg4JAw\\u002fUoXI+BkEBcj8L1KMSPQHE9CtejJH9AXI\\u002fC9SgQgkD2KFyPwjGAQGZmZmZmEoRASOF6FK63i0B7FK5H4aaMQPYoXI\\u002fCh5JAAAAAAAAkj0BSuB6F6xuGQClcj8L1IIFArkfhehR4ikApXI\\u002fC9eeRQOF6FK5Hr5JAzczMzMzMdUB7FK5H4cyFQD0K16NwB4xAexSuR+FIkUCkcD0K1yKYQHsUrkfhiJlAexSuR+GugkB7FK5H4cyFQIXrUbge9YxAcT0K16NwcUCamZmZmU1zQFyPwvUozIVAmpmZmZmZiUDXo3A9CudoQOxRuB6F62NAmpmZmZkFlUD2KFyPwmVWQGZmZmZmplxAH4XrUbheYkCPwvUoXK9iQOF6FK5HaWZASOF6FK5na0Bcj8L1KGxmQClcj8L1KGpA9ihcj8IxcEAfhetRuKZsQK5H4XoU6nhAcT0K16Mkf0AAAAAAAHBRQKRwPQrXY09ASOF6FK5nW0CamZmZmelYQHE9CtejMGFAhetRuB7lXUBmZmZmZu5jQB+F61G4TmNAPQrXo3BtYUAfhetRuE5jQOxRuB6Fa1ZAXI\\u002fC9SjsVUCPwvUoXG9SQGZmZmZmJlZArkfhehTuU0DsUbgehWtWQNejcD0K51RArkfhehTuU0CamZmZmelYQLgehetRWFZApHA9CtcjT0AAAAAAAHBRQGZmZmbmTblA7FG4HoWvckCuR+F6FK5yQBSuR+F6HHZAMzMzMzMjf0AAAAAAABBiQGZmZmZm7mNAXI\\u002fC9ShsZkDsUbgehetjQArXo3A9KmVA16NwPQrnaEA9CtejcOVtQBSuR+F6JG9AmpmZmZkxYECPwvUoXK9iQIXrUbge5V1AmpmZmZkhb0CuR+F6FK5yQAAAAAAAqGdAKVyPwvXsc0CkcD0K1+NYQI\\u002fC9Shc311A9ihcj8JlVkCuR+F6FCZqQM3MzMzMJG9AMzMzMzNvcUDNzMzMzPxsQOF6FK5H0XBAMzMzMzOrZ0AUrkfheiRvQKRwPQrX421AUrgeheuNdEDsUbgeha9yQHsUrkfhIm9ApHA9CtdvcUCamZmZme1zQHsUrkfhCndASOF6FK7PcECuR+F6FGZrQGZmZmZm7nNAcT0K16NwcUCuR+F6FOp4QLgehetRbHZA16NwPQrnaEDXo3A9Csd6QDMzMzMzb3FApHA9Ctdne0DD9Shcjw5yQBSuR+F6jHRA4XoUrkevkkDXo3A9CqmQQGZmZmZmh5JArkfhehTAkUBxPQrXo9iJQClcj8L1IIFAmpmZmZmvgkBcj8L1KOqIQHE9Ctej2IlA7FG4HoUnekBmZmZmZsCBQPYoXI\\u002fCC4dArkfhehTuU0ApXI\\u002fC9WhTQOxRuB6Fa1ZArkfhehTuU0D2KFyPwmVWQB+F61G4Hl9ArkfhehSuckCF61G4HqVXQLgehetRaFtAmpmZmZnpWECPwvUoXN9dQBSuR+F6JF9AzczMzMwsVUDD9ShcjyJaQM3MzMzMLFVAmpmZmZnpWEC4HoXrUShaQK5H4XoUHl9ACtejcD3qaEA9CtejcG1hQKRwPQrX41hA9ihcj8LNYEAUrkfheiRfQBSuR+F6rGJAH4XrUbhOY0AAAAAAABBiQPYoXI\\u002fCjWRAFK5H4XqsYkCPwvUoXK9SQB+F61G4LmBAKVyPwvXIZEDsUbgehetjQOxRuB6FC2dAuB6F61FwYUCkcD0K10tjQIXrUbge5V1ApHA9CtejbECuR+F6FCZqQK5H4XoUzmBASOF6FK5na0DXo3A9CudoQM3MzMzMJG9A16NwPQrnaEAK16NwPSplQNejcD0K52hAzczMzMxka0DhehSuR2lmQJqZmZmZIW9APQrXo3BtVEAUrkfhemxmQEjhehSur2JAmpmZmZkhb0DsUbgehetuQIXrUbge0XBAw\\u002fUoXI9KeECuR+F6FK5yQB+F61G4wn9AuB6F61EogEDhehSuR6uHQFyPwvUozIVASOF6FK6DfkB7FK5H4a6CQM3MzMzMRH1AhetRuB5fgkC4HoXrUWyGQClcj8L1IIFA7FG4HoWvckAUrkfheox0QClcj8L1IIFAZmZmZmZGbUDsUbgeha9yQDMzMzMzS2dAhetRuB5Fa0AfhetRuKZsQK5H4XoURm1Aj8L1KFzLdUB7FK5H4cJtQLgehetRMHBAmpmZmZlNc0DXo3A9Csd6QGZmZmZmJJ9AcT0K16MgkUDXo3A9CqmQQIXrUbge5V1AmpmZmZkxYECkcD0K1+NXQIXrUbge5V1AhetRuB7lXUAfhetRuN5eQJqZmZmZMWBAPQrXo3BtYUCPwvUoXK9SQPYoXI\\u002fC5VRAuB6F61EIW0CamZmZmelYQD0K16NwbWFAFK5H4XqsYkDXo3A9CudcQHE9CtejKGFAZmZmZmbGYEDsUbgehetjQOF6FK5HaWZAUrgehethW0BxPQrXo6BcQOxRuB6Fa1ZAj8L1KFyvUkC4HoXrUShaQGZmZmZmplxAAAAAAABwUUBSuB6F62FbQOF6FK5HMVBAexSuR+EqV0CPwvUoXK9SQAAAAAAAwE5AKVyPwvUoUkDNzMzMzOxUQEjhehSur7JAMzMzMzNvcUCuR+F6FOp4QPYoXI\\u002fCMXBAH4XrUbimbECuR+F6FK5yQArXo3A9IIFAw\\u002fUoXI9KeED2KFyPwjFwQAAAAAAAEHJAPQrXo3BtYUD2KFyPwo1kQB+F61G4Hl9AmpmZmZnpWEAUrkfheiRfQIXrUbge5V1AXI\\u002fC9ShsZkCF61G4Hi1lQFK4HoXr6WhApHA9CtfjaEBI4XoUrmdbQIXrUbge5V1AuB6F61FwYUCamZmZmTFgQLgehetRcGFAzczMzMy8XUCF61G4Hs1hQK5H4XoUXl5AFK5H4XqsYkBcj8L1KGxmQOF6FK5HaWZAUrgehevpaEBSuB6F6+loQI\\u002fC9ShcR2xAH4XrUbimbEA9CtejcG1hQB+F61G4LmBAzczMzMwsYkAfhetRuE5jQGZmZmZmtmNAhetRuB7lXUCF61G4Hi1lQIXrUbgeLWVA7FG4HoULZ0DXo3A9CudoQI\\u002fC9ShcP2ZAZmZmZmbmaEC4HoXrUXBhQEjhehSuz3BAFK5H4Xokb0CF61G4HtFwQKRwPQrXb3FAj8L1KFyvYkApXI\\u002fC9dhuQFK4HoXrjXRA7FG4HoWvckBSuB6F6410QIXrUbge0XBAUrgehevpaEBmZmZmZu5jQOF6FK5HaWZA4XoUrkeJaUCamZmZmalZQKRwPQrX41hAhetRuB4tZUAfhetRuN5dQLgehetRcGFAzczMzMz8YUB7FK5H4YpkQFK4HoXr6WhAuB6F61FOg0A=\"},\"xaxis\":\"x\",\"yaxis\":\"y\",\"type\":\"histogram\"}],                        {\"template\":{\"data\":{\"histogram2dcontour\":[{\"type\":\"histogram2dcontour\",\"colorbar\":{\"outlinewidth\":0,\"ticks\":\"\"},\"colorscale\":[[0.0,\"#0d0887\"],[0.1111111111111111,\"#46039f\"],[0.2222222222222222,\"#7201a8\"],[0.3333333333333333,\"#9c179e\"],[0.4444444444444444,\"#bd3786\"],[0.5555555555555556,\"#d8576b\"],[0.6666666666666666,\"#ed7953\"],[0.7777777777777778,\"#fb9f3a\"],[0.8888888888888888,\"#fdca26\"],[1.0,\"#f0f921\"]]}],\"choropleth\":[{\"type\":\"choropleth\",\"colorbar\":{\"outlinewidth\":0,\"ticks\":\"\"}}],\"histogram2d\":[{\"type\":\"histogram2d\",\"colorbar\":{\"outlinewidth\":0,\"ticks\":\"\"},\"colorscale\":[[0.0,\"#0d0887\"],[0.1111111111111111,\"#46039f\"],[0.2222222222222222,\"#7201a8\"],[0.3333333333333333,\"#9c179e\"],[0.4444444444444444,\"#bd3786\"],[0.5555555555555556,\"#d8576b\"],[0.6666666666666666,\"#ed7953\"],[0.7777777777777778,\"#fb9f3a\"],[0.8888888888888888,\"#fdca26\"],[1.0,\"#f0f921\"]]}],\"heatmap\":[{\"type\":\"heatmap\",\"colorbar\":{\"outlinewidth\":0,\"ticks\":\"\"},\"colorscale\":[[0.0,\"#0d0887\"],[0.1111111111111111,\"#46039f\"],[0.2222222222222222,\"#7201a8\"],[0.3333333333333333,\"#9c179e\"],[0.4444444444444444,\"#bd3786\"],[0.5555555555555556,\"#d8576b\"],[0.6666666666666666,\"#ed7953\"],[0.7777777777777778,\"#fb9f3a\"],[0.8888888888888888,\"#fdca26\"],[1.0,\"#f0f921\"]]}],\"contourcarpet\":[{\"type\":\"contourcarpet\",\"colorbar\":{\"outlinewidth\":0,\"ticks\":\"\"}}],\"contour\":[{\"type\":\"contour\",\"colorbar\":{\"outlinewidth\":0,\"ticks\":\"\"},\"colorscale\":[[0.0,\"#0d0887\"],[0.1111111111111111,\"#46039f\"],[0.2222222222222222,\"#7201a8\"],[0.3333333333333333,\"#9c179e\"],[0.4444444444444444,\"#bd3786\"],[0.5555555555555556,\"#d8576b\"],[0.6666666666666666,\"#ed7953\"],[0.7777777777777778,\"#fb9f3a\"],[0.8888888888888888,\"#fdca26\"],[1.0,\"#f0f921\"]]}],\"surface\":[{\"type\":\"surface\",\"colorbar\":{\"outlinewidth\":0,\"ticks\":\"\"},\"colorscale\":[[0.0,\"#0d0887\"],[0.1111111111111111,\"#46039f\"],[0.2222222222222222,\"#7201a8\"],[0.3333333333333333,\"#9c179e\"],[0.4444444444444444,\"#bd3786\"],[0.5555555555555556,\"#d8576b\"],[0.6666666666666666,\"#ed7953\"],[0.7777777777777778,\"#fb9f3a\"],[0.8888888888888888,\"#fdca26\"],[1.0,\"#f0f921\"]]}],\"mesh3d\":[{\"type\":\"mesh3d\",\"colorbar\":{\"outlinewidth\":0,\"ticks\":\"\"}}],\"scatter\":[{\"marker\":{\"line\":{\"color\":\"#283442\"}},\"type\":\"scatter\"}],\"parcoords\":[{\"type\":\"parcoords\",\"line\":{\"colorbar\":{\"outlinewidth\":0,\"ticks\":\"\"}}}],\"scatterpolargl\":[{\"type\":\"scatterpolargl\",\"marker\":{\"colorbar\":{\"outlinewidth\":0,\"ticks\":\"\"}}}],\"bar\":[{\"error_x\":{\"color\":\"#f2f5fa\"},\"error_y\":{\"color\":\"#f2f5fa\"},\"marker\":{\"line\":{\"color\":\"rgb(17,17,17)\",\"width\":0.5},\"pattern\":{\"fillmode\":\"overlay\",\"size\":10,\"solidity\":0.2}},\"type\":\"bar\"}],\"scattergeo\":[{\"type\":\"scattergeo\",\"marker\":{\"colorbar\":{\"outlinewidth\":0,\"ticks\":\"\"}}}],\"scatterpolar\":[{\"type\":\"scatterpolar\",\"marker\":{\"colorbar\":{\"outlinewidth\":0,\"ticks\":\"\"}}}],\"histogram\":[{\"marker\":{\"pattern\":{\"fillmode\":\"overlay\",\"size\":10,\"solidity\":0.2}},\"type\":\"histogram\"}],\"scattergl\":[{\"marker\":{\"line\":{\"color\":\"#283442\"}},\"type\":\"scattergl\"}],\"scatter3d\":[{\"type\":\"scatter3d\",\"line\":{\"colorbar\":{\"outlinewidth\":0,\"ticks\":\"\"}},\"marker\":{\"colorbar\":{\"outlinewidth\":0,\"ticks\":\"\"}}}],\"scattermap\":[{\"type\":\"scattermap\",\"marker\":{\"colorbar\":{\"outlinewidth\":0,\"ticks\":\"\"}}}],\"scattermapbox\":[{\"type\":\"scattermapbox\",\"marker\":{\"colorbar\":{\"outlinewidth\":0,\"ticks\":\"\"}}}],\"scatterternary\":[{\"type\":\"scatterternary\",\"marker\":{\"colorbar\":{\"outlinewidth\":0,\"ticks\":\"\"}}}],\"scattercarpet\":[{\"type\":\"scattercarpet\",\"marker\":{\"colorbar\":{\"outlinewidth\":0,\"ticks\":\"\"}}}],\"carpet\":[{\"aaxis\":{\"endlinecolor\":\"#A2B1C6\",\"gridcolor\":\"#506784\",\"linecolor\":\"#506784\",\"minorgridcolor\":\"#506784\",\"startlinecolor\":\"#A2B1C6\"},\"baxis\":{\"endlinecolor\":\"#A2B1C6\",\"gridcolor\":\"#506784\",\"linecolor\":\"#506784\",\"minorgridcolor\":\"#506784\",\"startlinecolor\":\"#A2B1C6\"},\"type\":\"carpet\"}],\"table\":[{\"cells\":{\"fill\":{\"color\":\"#506784\"},\"line\":{\"color\":\"rgb(17,17,17)\"}},\"header\":{\"fill\":{\"color\":\"#2a3f5f\"},\"line\":{\"color\":\"rgb(17,17,17)\"}},\"type\":\"table\"}],\"barpolar\":[{\"marker\":{\"line\":{\"color\":\"rgb(17,17,17)\",\"width\":0.5},\"pattern\":{\"fillmode\":\"overlay\",\"size\":10,\"solidity\":0.2}},\"type\":\"barpolar\"}],\"pie\":[{\"automargin\":true,\"type\":\"pie\"}]},\"layout\":{\"autotypenumbers\":\"strict\",\"colorway\":[\"#636efa\",\"#EF553B\",\"#00cc96\",\"#ab63fa\",\"#FFA15A\",\"#19d3f3\",\"#FF6692\",\"#B6E880\",\"#FF97FF\",\"#FECB52\"],\"font\":{\"color\":\"#f2f5fa\"},\"hovermode\":\"closest\",\"hoverlabel\":{\"align\":\"left\"},\"paper_bgcolor\":\"rgb(17,17,17)\",\"plot_bgcolor\":\"rgb(17,17,17)\",\"polar\":{\"bgcolor\":\"rgb(17,17,17)\",\"angularaxis\":{\"gridcolor\":\"#506784\",\"linecolor\":\"#506784\",\"ticks\":\"\"},\"radialaxis\":{\"gridcolor\":\"#506784\",\"linecolor\":\"#506784\",\"ticks\":\"\"}},\"ternary\":{\"bgcolor\":\"rgb(17,17,17)\",\"aaxis\":{\"gridcolor\":\"#506784\",\"linecolor\":\"#506784\",\"ticks\":\"\"},\"baxis\":{\"gridcolor\":\"#506784\",\"linecolor\":\"#506784\",\"ticks\":\"\"},\"caxis\":{\"gridcolor\":\"#506784\",\"linecolor\":\"#506784\",\"ticks\":\"\"}},\"coloraxis\":{\"colorbar\":{\"outlinewidth\":0,\"ticks\":\"\"}},\"colorscale\":{\"sequential\":[[0.0,\"#0d0887\"],[0.1111111111111111,\"#46039f\"],[0.2222222222222222,\"#7201a8\"],[0.3333333333333333,\"#9c179e\"],[0.4444444444444444,\"#bd3786\"],[0.5555555555555556,\"#d8576b\"],[0.6666666666666666,\"#ed7953\"],[0.7777777777777778,\"#fb9f3a\"],[0.8888888888888888,\"#fdca26\"],[1.0,\"#f0f921\"]],\"sequentialminus\":[[0.0,\"#0d0887\"],[0.1111111111111111,\"#46039f\"],[0.2222222222222222,\"#7201a8\"],[0.3333333333333333,\"#9c179e\"],[0.4444444444444444,\"#bd3786\"],[0.5555555555555556,\"#d8576b\"],[0.6666666666666666,\"#ed7953\"],[0.7777777777777778,\"#fb9f3a\"],[0.8888888888888888,\"#fdca26\"],[1.0,\"#f0f921\"]],\"diverging\":[[0,\"#8e0152\"],[0.1,\"#c51b7d\"],[0.2,\"#de77ae\"],[0.3,\"#f1b6da\"],[0.4,\"#fde0ef\"],[0.5,\"#f7f7f7\"],[0.6,\"#e6f5d0\"],[0.7,\"#b8e186\"],[0.8,\"#7fbc41\"],[0.9,\"#4d9221\"],[1,\"#276419\"]]},\"xaxis\":{\"gridcolor\":\"#283442\",\"linecolor\":\"#506784\",\"ticks\":\"\",\"title\":{\"standoff\":15},\"zerolinecolor\":\"#283442\",\"automargin\":true,\"zerolinewidth\":2},\"yaxis\":{\"gridcolor\":\"#283442\",\"linecolor\":\"#506784\",\"ticks\":\"\",\"title\":{\"standoff\":15},\"zerolinecolor\":\"#283442\",\"automargin\":true,\"zerolinewidth\":2},\"scene\":{\"xaxis\":{\"backgroundcolor\":\"rgb(17,17,17)\",\"gridcolor\":\"#506784\",\"linecolor\":\"#506784\",\"showbackground\":true,\"ticks\":\"\",\"zerolinecolor\":\"#C8D4E3\",\"gridwidth\":2},\"yaxis\":{\"backgroundcolor\":\"rgb(17,17,17)\",\"gridcolor\":\"#506784\",\"linecolor\":\"#506784\",\"showbackground\":true,\"ticks\":\"\",\"zerolinecolor\":\"#C8D4E3\",\"gridwidth\":2},\"zaxis\":{\"backgroundcolor\":\"rgb(17,17,17)\",\"gridcolor\":\"#506784\",\"linecolor\":\"#506784\",\"showbackground\":true,\"ticks\":\"\",\"zerolinecolor\":\"#C8D4E3\",\"gridwidth\":2}},\"shapedefaults\":{\"line\":{\"color\":\"#f2f5fa\"}},\"annotationdefaults\":{\"arrowcolor\":\"#f2f5fa\",\"arrowhead\":0,\"arrowwidth\":1},\"geo\":{\"bgcolor\":\"rgb(17,17,17)\",\"landcolor\":\"rgb(17,17,17)\",\"subunitcolor\":\"#506784\",\"showland\":true,\"showlakes\":true,\"lakecolor\":\"rgb(17,17,17)\"},\"title\":{\"x\":0.05},\"updatemenudefaults\":{\"bgcolor\":\"#506784\",\"borderwidth\":0},\"sliderdefaults\":{\"bgcolor\":\"#C8D4E3\",\"borderwidth\":1,\"bordercolor\":\"rgb(17,17,17)\",\"tickwidth\":0},\"mapbox\":{\"style\":\"dark\"}}},\"xaxis\":{\"anchor\":\"y\",\"domain\":[0.0,1.0],\"title\":{\"text\":\"Prix (\\u20ac)\"}},\"yaxis\":{\"anchor\":\"x\",\"domain\":[0.0,1.0],\"title\":{\"text\":\"Nombre de smartphones\"}},\"legend\":{\"tracegroupgap\":0},\"title\":{\"text\":\"Distribution des prix des smartphones\"},\"barmode\":\"relative\",\"bargap\":0.1},                        {\"responsive\": true}                    ).then(function(){\n",
       "                            \n",
       "var gd = document.getElementById('9628c333-e7d1-4d67-b350-f8551c706094');\n",
       "var x = new MutationObserver(function (mutations, observer) {{\n",
       "        var display = window.getComputedStyle(gd).display;\n",
       "        if (!display || display === 'none') {{\n",
       "            console.log([gd, 'removed!']);\n",
       "            Plotly.purge(gd);\n",
       "            observer.disconnect();\n",
       "        }}\n",
       "}});\n",
       "\n",
       "// Listen for the removal of the full notebook cells\n",
       "var notebookContainer = gd.closest('#notebook-container');\n",
       "if (notebookContainer) {{\n",
       "    x.observe(notebookContainer, {childList: true});\n",
       "}}\n",
       "\n",
       "// Listen for the clearing of the current output cell\n",
       "var outputEl = gd.closest('.output');\n",
       "if (outputEl) {{\n",
       "    x.observe(outputEl, {childList: true});\n",
       "}}\n",
       "\n",
       "                        })                };            </script>        </div>"
      ]
     },
     "metadata": {},
     "output_type": "display_data"
    }
   ],
   "execution_count": 6
  },
  {
   "cell_type": "markdown",
   "id": "b8315db4",
   "metadata": {},
   "source": [
    "* Distribution très asymétrique : la majorité écrasante des smartphones sont concentrés dans la tranche basse des prix, en dessous de 1 000 €.\n",
    "* Longue queue vers la droite : quelques smartphones très haut de gamme (jusqu’à 6000 €) tirent la distribution vers la droite, mais ils sont extrêmement rares.\n",
    "* Pointe forte autour de l'entrée de gamme : le pic de fréquence se situe dans les premiers intervalles de prix (probablement entre 100 € et 500 €)."
   ]
  },
  {
   "cell_type": "markdown",
   "id": "6bdf48f4",
   "metadata": {},
   "source": [
    "**Prix vs. Capacité de la batterie**"
   ]
  },
  {
   "cell_type": "code",
   "id": "8df59081",
   "metadata": {
    "ExecuteTime": {
     "end_time": "2025-07-27T22:12:49.820042Z",
     "start_time": "2025-07-27T22:12:49.685584Z"
    }
   },
   "source": [
    "fig_battery_price = px.scatter(\n",
    "    data,\n",
    "    x='battery_capacity',\n",
    "    y='price (€)',\n",
    "    color='brand_name',\n",
    "    title='Prix vs Capacité de batterie des smartphones',\n",
    "    labels={'battery': 'Batterie (mAh)', 'price': 'Prix (€)'},\n",
    "    opacity=0.6\n",
    ")\n",
    "\n",
    "fig_battery_price.update_layout(\n",
    "    xaxis_title='Capacité batterie',\n",
    "    yaxis_title='Prix (€)',\n",
    "    bargap=0.1\n",
    ")\n",
    "\n",
    "fig_battery_price.show()"
   ],
   "outputs": [
    {
     "data": {
      "application/vnd.plotly.v1+json": {
       "data": [
        {
         "hovertemplate": "brand_name=apple<br>battery_capacity=%{x}<br>price (€)=%{y}<extra></extra>",
         "legendgroup": "apple",
         "marker": {
          "color": "#636efa",
          "opacity": 0.6,
          "symbol": "circle"
         },
         "mode": "markers",
         "name": "apple",
         "orientation": "v",
         "showlegend": true,
         "x": {
          "dtype": "i2",
          "bdata": "JgwmDKwN/wr/Cv8KswizCLMI/wr/CqgMqAyoDIYJFwwXDBcMABEAEQARzwzPDM8MrA3lEOUQ5RCADIAMgAzjEOMQ4xDjENUMtBFZEQARXBK2CAIIHQfiB88M9As="
         },
         "xaxis": "x",
         "y": {
          "dtype": "f8",
          "bdata": "w/UoXI9KeEAK16NwPUZ9QNejcD0KHZFA9ihcj8IxgEAfhetRuHCBQD0K16NwLYVAmpmZmZmJeUB7FK5H4aZ8QB+F61G4cIFASOF6FK6rkkApXI/C9ciVQM3MzMzMnoNArkfhehS8hkB7FK5H4aaMQLgehetRNoRASOF6FK6rkkB7FK5H4QeXQLgehetROpRAuB6F61E6lEDsUbgehQOcQClcj8L1yJVAAAAAAACOhEDhehSuR6uHQKRwPQrX5Y1AXI/C9SjMhUDsUbgehVuHQM3MzMzMeIpASOF6FK5ZkEDhehSuR6+SQD0K16Nw8JpAUrgehes9lEBSuB6F6z2UQK5H4XoUf5xAw/UoXI/MlUB7FK5H4XSaQHE9Ctej2IlArkfhehR4ikDNzMzMzGWUQFyPwvUoRJZAmpmZmZlXl0DNzMzMzICAQK5H4XoUrnJACtejcD3aeEBcj8L1KFh7QDMzMzMzI39AuB6F61FshkA="
         },
         "yaxis": "y",
         "type": "scatter"
        },
        {
         "hovertemplate": "brand_name=asus<br>battery_capacity=%{x}<br>price (€)=%{y}<extra></extra>",
         "legendgroup": "asus",
         "marker": {
          "color": "#EF553B",
          "opacity": 0.6,
          "symbol": "circle"
         },
         "mode": "markers",
         "name": "asus",
         "orientation": "v",
         "showlegend": true,
         "x": {
          "dtype": "i2",
          "bdata": "cBdwF3AXcBdwF3AXzBA="
         },
         "xaxis": "x",
         "y": {
          "dtype": "f8",
          "bdata": "rkfhehTqeEC4HoXrUWyGQK5H4XoUvIZAPQrXo3AHjEBSuB6F69CQQMP1KFyPqodA9ihcj8Ltg0A="
         },
         "yaxis": "y",
         "type": "scatter"
        },
        {
         "hovertemplate": "brand_name=blackview<br>battery_capacity=%{x}<br>price (€)=%{y}<extra></extra>",
         "legendgroup": "blackview",
         "marker": {
          "color": "#00cc96",
          "opacity": 0.6,
          "symbol": "circle"
         },
         "mode": "markers",
         "name": "blackview",
         "orientation": "v",
         "showlegend": true,
         "x": {
          "dtype": "i2",
          "bdata": "PBQ="
         },
         "xaxis": "x",
         "y": {
          "dtype": "f8",
          "bdata": "9ihcj8JlVkA="
         },
         "yaxis": "y",
         "type": "scatter"
        },
        {
         "hovertemplate": "brand_name=blu<br>battery_capacity=%{x}<br>price (€)=%{y}<extra></extra>",
         "legendgroup": "blu",
         "marker": {
          "color": "#ab63fa",
          "opacity": 0.6,
          "symbol": "circle"
         },
         "mode": "markers",
         "name": "blu",
         "orientation": "v",
         "showlegend": true,
         "x": {
          "dtype": "i2",
          "bdata": "iBM="
         },
         "xaxis": "x",
         "y": {
          "dtype": "f8",
          "bdata": "FK5H4XqsYkA="
         },
         "yaxis": "y",
         "type": "scatter"
        },
        {
         "hovertemplate": "brand_name=cat<br>battery_capacity=%{x}<br>price (€)=%{y}<extra></extra>",
         "legendgroup": "cat",
         "marker": {
          "color": "#FFA15A",
          "opacity": 0.6,
          "symbol": "circle"
         },
         "mode": "markers",
         "name": "cat",
         "orientation": "v",
         "showlegend": true,
         "x": {
          "dtype": "i2",
          "bdata": "0Ac="
         },
         "xaxis": "x",
         "y": {
          "dtype": "f8",
          "bdata": "j8L1KFyvYkA="
         },
         "yaxis": "y",
         "type": "scatter"
        },
        {
         "hovertemplate": "brand_name=cola<br>battery_capacity=%{x}<br>price (€)=%{y}<extra></extra>",
         "legendgroup": "cola",
         "marker": {
          "color": "#19d3f3",
          "opacity": 0.6,
          "symbol": "circle"
         },
         "mode": "markers",
         "name": "cola",
         "orientation": "v",
         "showlegend": true,
         "x": {
          "dtype": "i2",
          "bdata": "iBM="
         },
         "xaxis": "x",
         "y": {
          "dtype": "f8",
          "bdata": "j8L1KFyvYkA="
         },
         "yaxis": "y",
         "type": "scatter"
        },
        {
         "hovertemplate": "brand_name=doogee<br>battery_capacity=%{x}<br>price (€)=%{y}<extra></extra>",
         "legendgroup": "doogee",
         "marker": {
          "color": "#FF6692",
          "opacity": 0.6,
          "symbol": "circle"
         },
         "mode": "markers",
         "name": "doogee",
         "orientation": "v",
         "showlegend": true,
         "x": {
          "dtype": "i2",
          "bdata": "cBfwVQ=="
         },
         "xaxis": "x",
         "y": {
          "dtype": "f8",
          "bdata": "j8L1KFyvYkB7FK5H4aZ8QA=="
         },
         "yaxis": "y",
         "type": "scatter"
        },
        {
         "hovertemplate": "brand_name=duoqin<br>battery_capacity=%{x}<br>price (€)=%{y}<extra></extra>",
         "legendgroup": "duoqin",
         "marker": {
          "color": "#B6E880",
          "opacity": 0.6,
          "symbol": "circle"
         },
         "mode": "markers",
         "name": "duoqin",
         "orientation": "v",
         "showlegend": true,
         "x": {
          "dtype": "i2",
          "bdata": "Zgg="
         },
         "xaxis": "x",
         "y": {
          "dtype": "f8",
          "bdata": "pHA9CtfjWEA="
         },
         "yaxis": "y",
         "type": "scatter"
        },
        {
         "hovertemplate": "brand_name=gionee<br>battery_capacity=%{x}<br>price (€)=%{y}<extra></extra>",
         "legendgroup": "gionee",
         "marker": {
          "color": "#FF97FF",
          "opacity": 0.6,
          "symbol": "circle"
         },
         "mode": "markers",
         "name": "gionee",
         "orientation": "v",
         "showlegend": true,
         "x": {
          "dtype": "i2",
          "bdata": "rA3AEqAP"
         },
         "xaxis": "x",
         "y": {
          "dtype": "f8",
          "bdata": "uB6F61HYTkAAAAAAAHBRQI/C9Shcr1JA"
         },
         "yaxis": "y",
         "type": "scatter"
        },
        {
         "hovertemplate": "brand_name=google<br>battery_capacity=%{x}<br>price (€)=%{y}<extra></extra>",
         "legendgroup": "google",
         "marker": {
          "color": "#FECB52",
          "opacity": 0.6,
          "symbol": "circle"
         },
         "mode": "markers",
         "name": "google",
         "orientation": "v",
         "showlegend": true,
         "x": {
          "dtype": "i2",
          "bdata": "wA10DvAK8A8MEgYSixOLEzoRAxGIEzoR3hKIEw=="
         },
         "xaxis": "x",
         "y": {
          "dtype": "f8",
          "bdata": "7FG4HoXrY0BmZmZmZu5jQHE9CtejEGlAFK5H4XpsdkBSuB6F6410QB+F61G4NnlAMzMzMzPpgEC4HoXrUdKIQOxRuB6Fr3JA7FG4HoWJgECamZmZmYmJQI/C9Shcy3VAFK5H4XrQgEBSuB6F6xuGQA=="
         },
         "yaxis": "y",
         "type": "scatter"
        },
        {
         "hovertemplate": "brand_name=honor<br>battery_capacity=%{x}<br>price (€)=%{y}<extra></extra>",
         "legendgroup": "honor",
         "marker": {
          "color": "#636efa",
          "opacity": 0.6,
          "symbol": "circle"
         },
         "mode": "markers",
         "name": "honor",
         "orientation": "v",
         "showlegend": true,
         "x": {
          "dtype": "i2",
          "bdata": "zBDMEMASwBKUEfgRiBOIE4gToA+IE8AS7BM="
         },
         "xaxis": "x",
         "y": {
          "dtype": "f8",
          "bdata": "FK5H4XqMdECamZmZmSFvQHE9Ctej6HhAmpmZmZlNc0AK16NwPSCBQI/C9ShclY1AmpmZmZnpWEC4HoXrUXBhQLgehetRcGFAhetRuB4tZUAUrkfheqxiQIXrUbgeLWVAcT0K16NwcUA="
         },
         "yaxis": "y",
         "type": "scatter"
        },
        {
         "hovertemplate": "brand_name=huawei<br>battery_capacity=%{x}<br>price (€)=%{y}<extra></extra>",
         "legendgroup": "huawei",
         "marker": {
          "color": "#EF553B",
          "opacity": 0.6,
          "symbol": "circle"
         },
         "mode": "markers",
         "name": "huawei",
         "orientation": "v",
         "showlegend": true,
         "x": {
          "dtype": "i2",
          "bdata": "uAuUETARlBFcEpQR+BGgD5QRaBDMEKAPiBOIE2gQCBE="
         },
         "xaxis": "x",
         "y": {
          "dtype": "f8",
          "bdata": "SOF6FK5HW0BI4XoULr2gQFyPwvUozIVAAAAAAAAkj0Bcj8L1qK+iQAAAAAAAUZpAPQrXo3BhmUCuR+F6FK5yQD0K16Nw5W1AzczMzMxka0CuR+F6FK5yQNejcD0K52hAzczMzMxka0CkcD0K16NsQHE9Ctej2IlAj8L1KFz/gkA="
         },
         "yaxis": "y",
         "type": "scatter"
        },
        {
         "hovertemplate": "brand_name=ikall<br>battery_capacity=%{x}<br>price (€)=%{y}<extra></extra>",
         "legendgroup": "ikall",
         "marker": {
          "color": "#00cc96",
          "opacity": 0.6,
          "symbol": "circle"
         },
         "mode": "markers",
         "name": "ikall",
         "orientation": "v",
         "showlegend": true,
         "x": {
          "dtype": "i2",
          "bdata": "iBOIE4gT"
         },
         "xaxis": "x",
         "y": {
          "dtype": "f8",
          "bdata": "cT0K16PwUECuR+F6FO5TQD0K16NwLVRA"
         },
         "yaxis": "y",
         "type": "scatter"
        },
        {
         "hovertemplate": "brand_name=infinix<br>battery_capacity=%{x}<br>price (€)=%{y}<extra></extra>",
         "legendgroup": "infinix",
         "marker": {
          "color": "#ab63fa",
          "opacity": 0.6,
          "symbol": "circle"
         },
         "mode": "markers",
         "name": "infinix",
         "orientation": "v",
         "showlegend": true,
         "x": {
          "dtype": "i2",
          "bdata": "iBNwF3AXiBOIE4gTiBNwF4gTiBOIE4gTiBOIE4gTiBOIE4gTiBOUEYgTiBOIE4gTiBOUEYgTlBGUEQ=="
         },
         "xaxis": "x",
         "y": {
          "dtype": "f8",
          "bdata": "FK5H4XokWECamZmZmelYQDMzMzMzM1ZAuB6F61EIW0AfhetRuL5eQFyPwvUobGZAUrgehevpaEDsUbgehWtWQJqZmZmZ6VhAmpmZmZkxYEAzMzMzM+NfQGZmZmZm7mNAZmZmZmYmXUCamZmZmTFgQIXrUbgeLWVAZmZmZmbuY0D2KFyPwg1lQHsUrkfhqmdAj8L1KFyvYkBSuB6F6+loQJqZmZmZ6VhAhetRuB4tZUDNzMzMzDxSQAAAAAAAcFFAPQrXo3CtVEBcj8L1KGxmQMP1KFyPSmhASOF6FK4Ld0DNzMzMzGRrQA=="
         },
         "yaxis": "y",
         "type": "scatter"
        },
        {
         "hovertemplate": "brand_name=iqoo<br>battery_capacity=%{x}<br>price (€)=%{y}<extra></extra>",
         "legendgroup": "iqoo",
         "marker": {
          "color": "#FFA15A",
          "opacity": 0.6,
          "symbol": "circle"
         },
         "mode": "markers",
         "name": "iqoo",
         "orientation": "v",
         "showlegend": true,
         "x": {
          "dtype": "i2",
          "bdata": "iBOIE1wSMBEwEaAP/hD+EFwSlBGUEVwSXBJcElwSiBOIE4gTiBOIE4gTiBOIE4gTiBNcElwSXBJoEIgTiBOIEw=="
         },
         "xaxis": "x",
         "y": {
          "dtype": "f8",
          "bdata": "CtejcD0+hECamZmZma+CQIXrUbgeX4JAmpmZmZkhb0B7FK5H4Wp2QHE9Ctej6HhAj8L1KFzLdUBxPQrXo+h4QHsUrkfhroJAmpmZmZlNc0DNzMzMzMR1QLgehetR5H1AAAAAAAAQckA9CtejcAV1QKRwPQrXo2xA7FG4HoWvckAUrkfheox0QJqZmZmZIW9AzczMzMwMYkBmZmZmZu5jQB+F61G4TmNACtejcD0aZUAzMzMzMwtnQB+F61G4TmNAhetRuB5tYUAUrkfheiRrQHE9CtejcHFArkfhehQmbUBcj8L1KGxmQBSuR+F6JG9Aj8L1KFyvYkDXo3A9CudoQA=="
         },
         "yaxis": "y",
         "type": "scatter"
        },
        {
         "hovertemplate": "brand_name=itel<br>battery_capacity=%{x}<br>price (€)=%{y}<extra></extra>",
         "legendgroup": "itel",
         "marker": {
          "color": "#19d3f3",
          "opacity": 0.6,
          "symbol": "circle"
         },
         "mode": "markers",
         "name": "itel",
         "orientation": "v",
         "showlegend": true,
         "x": {
          "dtype": "i2",
          "bdata": "YAnMC8wLoA+IE6APoA+gD4gTiBM="
         },
         "xaxis": "x",
         "y": {
          "dtype": "f8",
          "bdata": "zczMzMzsQ0B7FK5H4dpHQJqZmZmZ2U1AexSuR+FaS0DsUbgehStQQJqZmZmZ2U1ACtejcD1qUUCamZmZmVlNQHE9CtejsFBAMzMzMzPTTEA="
         },
         "yaxis": "y",
         "type": "scatter"
        },
        {
         "hovertemplate": "brand_name=jio<br>battery_capacity=%{x}<br>price (€)=%{y}<extra></extra>",
         "legendgroup": "jio",
         "marker": {
          "color": "#FF6692",
          "opacity": 0.6,
          "symbol": "circle"
         },
         "mode": "markers",
         "name": "jio",
         "orientation": "v",
         "showlegend": true,
         "x": {
          "dtype": "i2",
          "bdata": "iBOsDbgL8Ao="
         },
         "xaxis": "x",
         "y": {
          "dtype": "f8",
          "bdata": "j8L1KFzfXUAK16NwPSpHQI/C9Shcr1JA7FG4HoVrRkA="
         },
         "yaxis": "y",
         "type": "scatter"
        },
        {
         "hovertemplate": "brand_name=lava<br>battery_capacity=%{x}<br>price (€)=%{y}<extra></extra>",
         "legendgroup": "lava",
         "marker": {
          "color": "#B6E880",
          "opacity": 0.6,
          "symbol": "circle"
         },
         "mode": "markers",
         "name": "lava",
         "orientation": "v",
         "showlegend": true,
         "x": {
          "dtype": "i2",
          "bdata": "iBOIE4gToA8="
         },
         "xaxis": "x",
         "y": {
          "dtype": "f8",
          "bdata": "4XoUrkdpZkBI4XoUrmdbQOxRuB6Fa1ZAAAAAAABwUUA="
         },
         "yaxis": "y",
         "type": "scatter"
        },
        {
         "hovertemplate": "brand_name=leeco<br>battery_capacity=%{x}<br>price (€)=%{y}<extra></extra>",
         "legendgroup": "leeco",
         "marker": {
          "color": "#FF97FF",
          "opacity": 0.6,
          "symbol": "circle"
         },
         "mode": "markers",
         "name": "leeco",
         "orientation": "v",
         "showlegend": true,
         "x": {
          "dtype": "i2",
          "bdata": "iBM="
         },
         "xaxis": "x",
         "y": {
          "dtype": "f8",
          "bdata": "SOF6FK5nW0A="
         },
         "yaxis": "y",
         "type": "scatter"
        },
        {
         "hovertemplate": "brand_name=leitz<br>battery_capacity=%{x}<br>price (€)=%{y}<extra></extra>",
         "legendgroup": "leitz",
         "marker": {
          "color": "#FECB52",
          "opacity": 0.6,
          "symbol": "circle"
         },
         "mode": "markers",
         "name": "leitz",
         "orientation": "v",
         "showlegend": true,
         "x": {
          "dtype": "i2",
          "bdata": "iBM="
         },
         "xaxis": "x",
         "y": {
          "dtype": "f8",
          "bdata": "mpmZmZl2k0A="
         },
         "yaxis": "y",
         "type": "scatter"
        },
        {
         "hovertemplate": "brand_name=lenovo<br>battery_capacity=%{x}<br>price (€)=%{y}<extra></extra>",
         "legendgroup": "lenovo",
         "marker": {
          "color": "#636efa",
          "opacity": 0.6,
          "symbol": "circle"
         },
         "mode": "markers",
         "name": "lenovo",
         "orientation": "v",
         "showlegend": true,
         "x": {
          "dtype": "i2",
          "bdata": "iBPgFQ=="
         },
         "xaxis": "x",
         "y": {
          "dtype": "f8",
          "bdata": "mpmZmZmvgkDNzMzMzER9QA=="
         },
         "yaxis": "y",
         "type": "scatter"
        },
        {
         "hovertemplate": "brand_name=letv<br>battery_capacity=%{x}<br>price (€)=%{y}<extra></extra>",
         "legendgroup": "letv",
         "marker": {
          "color": "#EF553B",
          "opacity": 0.6,
          "symbol": "circle"
         },
         "mode": "markers",
         "name": "letv",
         "orientation": "v",
         "showlegend": true,
         "x": {
          "dtype": "i2",
          "bdata": "oA+gD6AP"
         },
         "xaxis": "x",
         "y": {
          "dtype": "f8",
          "bdata": "ZmZmZmZmS0CF61G4HuVNQAAAAAAAcFFA"
         },
         "yaxis": "y",
         "type": "scatter"
        },
        {
         "hovertemplate": "brand_name=lg<br>battery_capacity=%{x}<br>price (€)=%{y}<extra></extra>",
         "legendgroup": "lg",
         "marker": {
          "color": "#00cc96",
          "opacity": 0.6,
          "symbol": "circle"
         },
         "mode": "markers",
         "name": "lg",
         "orientation": "v",
         "showlegend": true,
         "x": {
          "dtype": "i2",
          "bdata": "iBPMEKAP"
         },
         "xaxis": "x",
         "y": {
          "dtype": "f8",
          "bdata": "PQrXo3DpiEApXI/C9SCBQClcj8L1IIFA"
         },
         "yaxis": "y",
         "type": "scatter"
        },
        {
         "hovertemplate": "brand_name=lyf<br>battery_capacity=%{x}<br>price (€)=%{y}<extra></extra>",
         "legendgroup": "lyf",
         "marker": {
          "color": "#ab63fa",
          "opacity": 0.6,
          "symbol": "circle"
         },
         "mode": "markers",
         "name": "lyf",
         "orientation": "v",
         "showlegend": true,
         "x": {
          "dtype": "i2",
          "bdata": "rA3ECQ=="
         },
         "xaxis": "x",
         "y": {
          "dtype": "f8",
          "bdata": "4XoUrkfhQ0DD9Shcj2JDQA=="
         },
         "yaxis": "y",
         "type": "scatter"
        },
        {
         "hovertemplate": "brand_name=micromax<br>battery_capacity=%{x}<br>price (€)=%{y}<extra></extra>",
         "legendgroup": "micromax",
         "marker": {
          "color": "#FFA15A",
          "opacity": 0.6,
          "symbol": "circle"
         },
         "mode": "markers",
         "name": "micromax",
         "orientation": "v",
         "showlegend": true,
         "x": {
          "dtype": "i2",
          "bdata": "iBOIE4gT"
         },
         "xaxis": "x",
         "y": {
          "dtype": "f8",
          "bdata": "AAAAAABwUUApXI/C9WhTQIXrUbge5U1A"
         },
         "yaxis": "y",
         "type": "scatter"
        },
        {
         "hovertemplate": "brand_name=motorola<br>battery_capacity=%{x}<br>price (€)=%{y}<extra></extra>",
         "legendgroup": "motorola",
         "marker": {
          "color": "#19d3f3",
          "opacity": 0.6,
          "symbol": "circle"
         },
         "mode": "markers",
         "name": "motorola",
         "orientation": "v",
         "showlegend": true,
         "x": {
          "dtype": "i2",
          "bdata": "iBO0D7QPMBHAEgISAhJoEJQRwBKIE4gTiBOIE4gTiBOIE4gTtA+IE4gTYhGIE4gTiBOIE4gTiBOIE3AXiBOIE4gTiBOIE4gTcBeIE4gTiBOIE4gTiBOIE4gTiBMwEWIR+BGIE6APiBM="
         },
         "xaxis": "x",
         "y": {
          "dtype": "f8",
          "bdata": "exSuR+GqZ0AfhetRuKZsQBSuR+F6JG9ArkfhehTqeEDNzMzMzMx1QClcj8L1IIFAmpmZmZmvgkDNzMzMzMx1QNejcD0Kx3pAexSuR+GugkBcj8L1KBCCQBSuR+F6BGxAuB6F61EoWkAK16NwPXpWQOxRuB6Fa1ZAuB6F61HoU0DD9ShcjxJWQK5H4XoU7lNAKVyPwvXsc0DD9Shcj+JtQI/C9Shcy3VAexSuR+GugkDXo3A9CudoQGZmZmZm7mNAexSuR+GqV0BSuB6F6+loQJqZmZmZ6VhAhetRuB7lXUC4HoXrUShaQAAAAAAAEGJASOF6FK5nW0CamZmZmTFgQIXrUbge5V1AmpmZmZkxYECF61G4Hi1lQEjhehSuZ2tAZmZmZmbuY0D2KFyPwo1kQI/C9Shcr2JAhetRuB4tZUDXo3A9CudoQGZmZmZm7mNA9ihcj8IxcEDhehSuR4lpQHsUrkfhqmdA16NwPQrnaEDD9Shcj+JtQOxRuB6FJ3pArkfhehTqeEDD9Shcj0poQHE9CtejoFxAMzMzMzMjf0A="
         },
         "yaxis": "y",
         "type": "scatter"
        },
        {
         "hovertemplate": "brand_name=nokia<br>battery_capacity=%{x}<br>price (€)=%{y}<extra></extra>",
         "legendgroup": "nokia",
         "marker": {
          "color": "#FF6692",
          "opacity": 0.6,
          "symbol": "circle"
         },
         "mode": "markers",
         "name": "nokia",
         "orientation": "v",
         "showlegend": true,
         "x": {
          "dtype": "i2",
          "bdata": "uAu6E7oTiBO6E7oTlBFwF3YRaBBwF3AXcBc="
         },
         "xaxis": "x",
         "y": {
          "dtype": "f8",
          "bdata": "SOF6FK4nSkDsUbgehWtWQHsUrkfhqldAuB6F61EoWkCF61G4HuVdQClcj8L10GBAXI/C9SjAcUAK16NwPUZ9QOF6FK5HaWZA7FG4HoUnekDNzMzMzMx1QHE9Ctej6HhAMzMzMzMjf0A="
         },
         "yaxis": "y",
         "type": "scatter"
        },
        {
         "hovertemplate": "brand_name=nothing<br>battery_capacity=%{x}<br>price (€)=%{y}<extra></extra>",
         "legendgroup": "nothing",
         "marker": {
          "color": "#B6E880",
          "opacity": 0.6,
          "symbol": "circle"
         },
         "mode": "markers",
         "name": "nothing",
         "orientation": "v",
         "showlegend": true,
         "x": {
          "dtype": "i2",
          "bdata": "lBGUEZQRiBNcEg=="
         },
         "xaxis": "x",
         "y": {
          "dtype": "f8",
          "bdata": "4XoUrkepcEC4HoXrUWx2QBSuR+F6mHFAmpmZmZkhb0BxPQrXo+h4QA=="
         },
         "yaxis": "y",
         "type": "scatter"
        },
        {
         "hovertemplate": "brand_name=nubia<br>battery_capacity=%{x}<br>price (€)=%{y}<extra></extra>",
         "legendgroup": "nubia",
         "marker": {
          "color": "#FF97FF",
          "opacity": 0.6,
          "symbol": "circle"
         },
         "mode": "markers",
         "name": "nubia",
         "orientation": "v",
         "showlegend": true,
         "x": {
          "dtype": "i2",
          "bdata": "uhOIE3AXiBOIE4gT"
         },
         "xaxis": "x",
         "y": {
          "dtype": "f8",
          "bdata": "j8L1KFwHfEBxPQrXo/6CQM3MzMzMRH1Aj8L1KFz/gkAzMzMzMyN/QM3MzMzMzHVA"
         },
         "yaxis": "y",
         "type": "scatter"
        },
        {
         "hovertemplate": "brand_name=oneplus<br>battery_capacity=%{x}<br>price (€)=%{y}<extra></extra>",
         "legendgroup": "oneplus",
         "marker": {
          "color": "#FECB52",
          "opacity": 0.6,
          "symbol": "circle"
         },
         "mode": "markers",
         "name": "oneplus",
         "orientation": "v",
         "showlegend": true,
         "x": {
          "dtype": "i2",
          "bdata": "iBOIE4gTiBOIE4gTwBLAEsASiBOUEYgTwBLkDJQRlBGUEYgTlBHAEogTcBeIE5QRlBFoEJQRlBGIE4gTiBOIE4gTiBPMEMwQiBOUEYgTiBOUEcwQ"
         },
         "xaxis": "x",
         "y": {
          "dtype": "f8",
          "bdata": "j8L1KFz/gkCuR+F6FGaEQOxRuB6FW4dAUrgeheuNdEBI4XoUrgt3QNejcD0KC3ZAj8L1KFwHfEBcj8L1KMR/QB+F61G4cIFAKVyPwvUggUB7FK5H4cyFQK5H4XoU6nhAexSuR+HMhUBxPQrXo3BxQGZmZmZmLoRAFK5H4XrIekCPwvUoXAd8QM3MzMzMzHVAw/UoXI8OckC4HoXrUeR9QKRwPQrXo2xAj8L1KFyvYkAfhetRuKZsQJqZmZmZHXVAAAAAAAAQckBxPQrXo3BxQK5H4XoUrnJA7FG4HoWvckDNzMzMzMx1QB+F61G45mhAZmZmZmZma0AUrkfheiRvQEjhehSuZ2tAexSuR+GqZ0BSuB6F6+loQMP1KFyP4m9ACtejcD0qZUCuR+F6FCZqQArXo3A9KmVAAAAAAACoZ0BSuB6F6+loQBSuR+F6JG9A"
         },
         "yaxis": "y",
         "type": "scatter"
        },
        {
         "hovertemplate": "brand_name=oppo<br>battery_capacity=%{x}<br>price (€)=%{y}<extra></extra>",
         "legendgroup": "oppo",
         "marker": {
          "color": "#636efa",
          "opacity": 0.6,
          "symbol": "circle"
         },
         "mode": "markers",
         "name": "oppo",
         "orientation": "v",
         "showlegend": true,
         "x": {
          "dtype": "i2",
          "bdata": "wBKGEIYQhhCIE4YQhhCGEIgTiBOGEIgTiBOIE4gTiBOIE4gTiBOIE4gTiBOIE4gTgAyIE4gTiBOIE4gTiBOIE4gTlBGIE4gTrw+IE9YQ1hCIE5QRlBGUEZQRwBKUEZQRlBHMEIgTqBHMEJQRiBNcElwSiBOIE4gTiBOIE6APiBOIE1wSzBD+EKAPzBCUEZQRlBGUEZQRlBGUEYgTiBOUEZQRXBLAEpQRlBGUEZQRoA8="
         },
         "xaxis": "x",
         "y": {
          "dtype": "f8",
          "bdata": "rkfhehQmakCkcD0K1+NYQJqZmZmZ6VhAcT0K16OgXECF61G4HuVdQOxRuB6Fa1ZA7FG4HoVrVkBI4XoUrmdbQBSuR+F6JF9AexSuR+GqV0AfhetRuB5fQD0K16NwbWFAhetRuB5lXkCPwvUoXN9dQI/C9Shcr2JAKVyPwvXQYEAAAAAAAFBiQOF6FK5HaWZA4XoUrkdpZkCamZmZmTFgQI/C9Shc311A16NwPQpnYUAAAAAAAKhnQD0K16NwbWFA7FG4HoXrY0CkcD0K10tjQHsUrkfhimRAH4XrUbhOY0CuR+F6FO5jQM3MzMzMZGtAXI/C9ShsZkB7FK5H4apnQFyPwvUobGZApHA9CtejbEDD9Shcj+JtQJqZmZmZTXNAAAAAAACoZ0AUrkfheqxiQMP1KFyPamZA16NwPQrnaEB7FK5H4epjQClcj8L1KGpAKVyPwvUscECF61G4HiFwQAAAAAAASGtAw/UoXI86cUDXo3A9CudoQDMzMzMzb3FAzczMzMy6jEAfhetRuAaMQAAAAAAAJI9Aj8L1KFyVjUBSuB6F6xuGQB+F61G4wn9APQrXo3DpiEBcj8L1KMyFQAAAAAAASohArkfhehTOYEAK16NwPSplQIXrUbgeLWVArkfhehSuckAK16NwPSplQNejcD0K52hAUrgeheuNdEDXo3A9Csd6QIXrUbgeX4JArkfhehSuckB7FK5H4Rp4QKRwPQrXo2xAZmZmZmZucECamZmZmeV2QFK4HoXrBXxAFK5H4XqMdEDXo3A9Csd6QHsUrkfhpnxAexSuR+GmfEBI4XoUrs9wQK5H4XoUrnJAUrgehevpaEC4HoXrUcBxQK5H4XoU6nhAexSuR+GmfECkcD0K16NsQClcj8L1MHBAmpmZmZntc0Bcj8L1KGxmQGZmZmZmRnJAmpmZmZkFlUA="
         },
         "yaxis": "y",
         "type": "scatter"
        },
        {
         "hovertemplate": "brand_name=oukitel<br>battery_capacity=%{x}<br>price (€)=%{y}<extra></extra>",
         "legendgroup": "oukitel",
         "marker": {
          "color": "#EF553B",
          "opacity": 0.6,
          "symbol": "circle"
         },
         "mode": "markers",
         "name": "oukitel",
         "orientation": "v",
         "showlegend": true,
         "x": {
          "dtype": "i2",
          "bdata": "CFJIJkAf"
         },
         "xaxis": "x",
         "y": {
          "dtype": "f8",
          "bdata": "rkfhehSuckCkcD0K16NsQPYoXI/CIXBA"
         },
         "yaxis": "y",
         "type": "scatter"
        },
        {
         "hovertemplate": "brand_name=poco<br>battery_capacity=%{x}<br>price (€)=%{y}<extra></extra>",
         "legendgroup": "poco",
         "marker": {
          "color": "#00cc96",
          "opacity": 0.6,
          "symbol": "circle"
         },
         "mode": "markers",
         "name": "poco",
         "orientation": "v",
         "showlegend": true,
         "x": {
          "dtype": "i2",
          "bdata": "iBOIE4gTiBOIE8kTlBGUEZQRXBJcEpQRfBWIE4gTcBeIE4gTiBOIE4gTiBOIE4gTiBOIE4gTiBPsE3AXKBSIE9gT2BOIE4gTiBOIE4gTiBOIEw=="
         },
         "xaxis": "x",
         "y": {
          "dtype": "f8",
          "bdata": "4XoUrkcxUECPwvUoXK9SQOF6FK5HMVBAj8L1KFwvUkCuR+F6FO5TQFK4HoXrjXRA7FG4HoWvckD2KFyPwjFwQHE9CtejcHFArkfhehTqeECPwvUoXMt1QBSuR+F6yHpA7FG4HoWvckBSuB6F6yFbQDMzMzMz419AZmZmZmamXEBmZmZmZu5jQEjhehSub2JAZmZmZmamXEApXI/C9dBgQIXrUbge5V1AmpmZmZkxYEC4HoXrUXBhQJqZmZmZMWBAj8L1KFyvYkBmZmZmZu5jQEjhehSu51pAAAAAAAAQYkDXo3A9CudoQClcj8L10GBAw/UoXI96aEAUrkfheqxiQJqZmZmZIW9Aw/UoXI8OckCPwvUoXK9iQPYoXI/CjWRAXI/C9ShsZkCPwvUoXK9iQK5H4XoUrnJAKVyPwvUoakBSuB6F6+loQA=="
         },
         "yaxis": "y",
         "type": "scatter"
        },
        {
         "hovertemplate": "brand_name=realme<br>battery_capacity=%{x}<br>price (€)=%{y}<extra></extra>",
         "legendgroup": "realme",
         "marker": {
          "color": "#ab63fa",
          "opacity": 0.6,
          "symbol": "circle"
         },
         "mode": "markers",
         "name": "realme",
         "orientation": "v",
         "showlegend": true,
         "x": {
          "dtype": "i2",
          "bdata": "iBOIE4gTiBOIE4gTiBOIE4gTaBDMEMwQlBGIE4gTiBOIE4gTiBOIE4gTiBOIE4gTiBOIE4gTiBOIE5QRlBGUEYgTiBOIE4gTiBOgD4gTiBOIE6APiBOIE6APiBOIE4gTiBOIE4gTiBOIE4gTiBOIE4gTcBeIE4gTiBOIE5QRlBHMEIgTiBOIE4gTiBP4EYgTcBeIE4gTiBOIE4gTiBOIE4gTiBNwF4gTiBOIE4gTiBOIE4gTiBOIE4gTaBBoEJQRoA8="
         },
         "xaxis": "x",
         "y": {
          "dtype": "f8",
          "bdata": "uB6F61FwYUCF61G4Hi1lQAAAAAAAEGJAexSuR+GqZ0BSuB6F6+loQBSuR+F6JG9AcT0K16NwcUCamZmZmTFgQAAAAAAAEHJAFK5H4Xokb0BmZmZmZi5gQIXrUbgeDWJASOF6FK5na0BmZmZmZu5jQFyPwvUobGZA9ihcj8KNZEDsUbgehQtnQBSuR+F6JF9AuB6F61FwYUBcj8L1KGxmQM3MzMzMzGVAj8L1KFyvYkBmZmZmZu5jQLgehetRcGFAH4XrUbhOY0B7FK5H4apnQGZmZmZmpmxAexSuR+GqZ0ApXI/C9ShqQFK4HoXrIXBAhetRuB6lbEDsUbgehYNuQBSuR+F6JF9AuB6F61FwYUCPwvUoXK9iQBSuR+F6pGJAhetRuB4tZUDsUbgehWtWQOxRuB6FK1BA4XoUrkcxUEAfhetRuE5TQAAAAAAAcFFAAAAAAABwUUDsUbgehWtWQI/C9Shcb0FASOF6FK5nSkCkcD0K12NPQD0K16NwzVFA9ihcj8JlVkA9CtejcK1UQOxRuB6Fa1ZAexSuR+GqV0DNzMzMzExWQJqZmZmZ6VhAuB6F61F4XUBcj8L1KNxfQLgehetRcGFArkfhehTuU0AzMzMzMw9yQFyPwvUoiHlACtejcD0ef0AK16NwPUZ9QArXo3A9TnNAFK5H4XqMdEBxPQrXo3BxQJqZmZmZ7XNAFK5H4Xokb0A9CtejcIFwQLgehetRwHFA7FG4HoWvckDNzMzMzMx1QGZmZmZm7nNAuB6F61EoWkCF61G4Hi1lQFK4HoXr6WhASOF6FK5nW0AfhetRuE5jQFyPwvUobGZAj8L1KFyvYkApXI/C9dBgQGZmZmZmhmlAH4XrUbimbEBmZmZmZqZcQGZmZmZmZlxAKVyPwvWYXUDsUbgehStQQOxRuB6Fa1ZArkfhehTuU0CamZmZmblVQJqZmZmZ6VhAj8L1KFyvYkBSuB6F62FbQBSuR+F6rGJAcT0K16NwcUAUrkfheiRvQIXrUbge0XBAexSuR+GKYEA="
         },
         "yaxis": "y",
         "type": "scatter"
        },
        {
         "hovertemplate": "brand_name=redmi<br>battery_capacity=%{x}<br>price (€)=%{y}<extra></extra>",
         "legendgroup": "redmi",
         "marker": {
          "color": "#FFA15A",
          "opacity": 0.6,
          "symbol": "circle"
         },
         "mode": "markers",
         "name": "redmi",
         "orientation": "v",
         "showlegend": true,
         "x": {
          "dtype": "i2",
          "bdata": "iBOIE4gT"
         },
         "xaxis": "x",
         "y": {
          "dtype": "f8",
          "bdata": "rkfhehTuU0B7FK5H4apnQFK4HoXr6WhA"
         },
         "yaxis": "y",
         "type": "scatter"
        },
        {
         "hovertemplate": "brand_name=royole<br>battery_capacity=%{x}<br>price (€)=%{y}<extra></extra>",
         "legendgroup": "royole",
         "marker": {
          "color": "#19d3f3",
          "opacity": 0.6,
          "symbol": "circle"
         },
         "mode": "markers",
         "name": "royole",
         "orientation": "v",
         "showlegend": true,
         "x": {
          "dtype": "i2",
          "bdata": "YhEgDQ=="
         },
         "xaxis": "x",
         "y": {
          "dtype": "f8",
          "bdata": "AAAAAAAhkUDD9Shcj1uXQA=="
         },
         "yaxis": "y",
         "type": "scatter"
        },
        {
         "hovertemplate": "brand_name=samsung<br>battery_capacity=%{x}<br>price (€)=%{y}<extra></extra>",
         "legendgroup": "samsung",
         "marker": {
          "color": "#FF6692",
          "opacity": 0.6,
          "symbol": "circle"
         },
         "mode": "markers",
         "name": "samsung",
         "orientation": "v",
         "showlegend": true,
         "x": {
          "dtype": "i2",
          "bdata": "uAuIE4gTiBOIE4gTiBOIE4gTiBOIE4gTiBOgD4gTiBOIE4gTiBOIE4gTiBOIE4gTiBOIE4gTiBOIE4gTiBOgD4gTiBOIE4gTiBOIExwMoA+UEZQRiBOIE4gTiBPkDJQRiBOIE4gTiBOUEZQRSA2IE4gTcBdwF3AXiBNwF3AXiBOIE4gTcBeIE4gTWBuIE4gTcBdwF3AXiBOIE3AXcBdwF3AXcBdwF3AXcBdwF3AXcBeIE4gTiBNwF1gblBHMEMwQzBCUEZQRBBCgD6APlBGUEZQRlBGIE6APlBGUEcASiBOIE3QOdA5oEJQRlBGIE4gTiBM8D5QRXBKIE+wTrA3kDHQOMBEwETAR"
         },
         "xaxis": "x",
         "y": {
          "dtype": "f8",
          "bdata": "KVyPwvXoSECPwvUoXA9SQGZmZmZmplxA4XoUrkcxUEDNzMzMzCxVQIXrUbge5V1AmpmZmZkxYEB7FK5H4SpXQArXo3A9ylhAZmZmZmamXEAfhetRuC5gQAAAAAAAEGJAH4XrUbguYECkcD0K1+NYQIXrUbge5V1AuB6F61FwYUC4HoXrUQBiQI/C9Shcr2JA9ihcj8KNZEDhehSuR2lmQPYoXI/CjWRAexSuR+GqZ0ApXI/C9ShqQOxRuB6F62NAzczMzMzMZUDsUbgehQtnQOF6FK5HaWZA7FG4HoULZ0DXo3A9CudoQB+F61G4pmxAFK5H4Xokb0Bcj8L1KGxmQPYoXI/CjWRA9ihcj8KNZECF61G4HoVuQPYoXI/CMXBAKVyPwvUgcUAUrkfheiRvQOF6FK5HaWZA7FG4HoXrY0CamZmZmSFvQPYoXI/CBWxAAAAAAAC8dkBmZmZmZu5zQJqZmZmZ3XRAzczMzMzMdUA9CtejcMVqQPYoXI/CBWxAKVyPwvUoekDsUbgehSd6QBSuR+F6yHpAj8L1KFwHfEBxPQrXo+h4QHE9Ctej6HhAcT0K16PoeEC4HoXrUeR9QM3MzMzMLFVAuB6F61EoWkBI4XoUrmdbQIXrUbge5V1AFK5H4XqsYkBmZmZmZqZcQClcj8L10GBAZmZmZmbuY0CF61G4Hi1lQI/C9Shcr2JAUrgehevpaECkcD0K10tjQB+F61G4pmxASOF6FK5na0DNzMzMzCxVQHsUrkfhqldASOF6FK5nW0CamZmZmTFgQFyPwvUofFpAuB6F61FwYUAAAAAAACBgQI/C9Shcr2JAZmZmZmY2XUCuR+F6FM5eQIXrUbgeDWJAw/UoXI8yXkDD9Shcj4JiQK5H4XoUxmVAw/UoXI9KaECF61G4Hi1lQB+F61G4pmxAmpmZmZkhb0CamZmZmSFvQHsUrkfhom1AKVyPwvWAb0DNzMzMzMx1QD0K16Nw5W1ArkfhehTqeECkcD0K11+CQHE9Ctej9oxAcT0K16PIikBI4XoUrlmQQEjhehSumYhAFK5H4XrIekApXI/C9Sh6QOxRuB6FW4dAexSuR+EadkDhehSuR3VzQD0K16Nw2YlApHA9CtfHikAfhetRuCSPQD0K16NwdX5ArkfhehTqeECkcD0K12d7QKRwPQrXg4JAw/UoXI+BkEBcj8L1KMSPQHE9CtejJH9AXI/C9SgQgkD2KFyPwjGAQGZmZmZmEoRASOF6FK63i0B7FK5H4aaMQPYoXI/Ch5JAAAAAAAAkj0BSuB6F6xuGQClcj8L1IIFArkfhehR4ikApXI/C9eeRQOF6FK5Hr5JAzczMzMzMdUB7FK5H4cyFQD0K16NwB4xAexSuR+FIkUCkcD0K1yKYQHsUrkfhiJlA"
         },
         "yaxis": "y",
         "type": "scatter"
        },
        {
         "hovertemplate": "brand_name=sharp<br>battery_capacity=%{x}<br>price (€)=%{y}<extra></extra>",
         "legendgroup": "sharp",
         "marker": {
          "color": "#B6E880",
          "opacity": 0.6,
          "symbol": "circle"
         },
         "mode": "markers",
         "name": "sharp",
         "orientation": "v",
         "showlegend": true,
         "x": {
          "dtype": "i2",
          "bdata": "kg4="
         },
         "xaxis": "x",
         "y": {
          "dtype": "f8",
          "bdata": "exSuR+GugkA="
         },
         "yaxis": "y",
         "type": "scatter"
        },
        {
         "hovertemplate": "brand_name=sony<br>battery_capacity=%{x}<br>price (€)=%{y}<extra></extra>",
         "legendgroup": "sony",
         "marker": {
          "color": "#FF97FF",
          "opacity": 0.6,
          "symbol": "circle"
         },
         "mode": "markers",
         "name": "sony",
         "orientation": "v",
         "showlegend": true,
         "x": {
          "dtype": "i2",
          "bdata": "oA+IExAOlBGgD4gTiBOgD5QR"
         },
         "xaxis": "x",
         "y": {
          "dtype": "f8",
          "bdata": "exSuR+HMhUCF61G4HvWMQHE9CtejcHFAmpmZmZlNc0Bcj8L1KMyFQJqZmZmZmYlA16NwPQrnaEDsUbgehetjQJqZmZmZBZVA"
         },
         "yaxis": "y",
         "type": "scatter"
        },
        {
         "hovertemplate": "brand_name=tcl<br>battery_capacity=%{x}<br>price (€)=%{y}<extra></extra>",
         "legendgroup": "tcl",
         "marker": {
          "color": "#FECB52",
          "opacity": 0.6,
          "symbol": "circle"
         },
         "mode": "markers",
         "name": "tcl",
         "orientation": "v",
         "showlegend": true,
         "x": {
          "dtype": "i2",
          "bdata": "uAs="
         },
         "xaxis": "x",
         "y": {
          "dtype": "f8",
          "bdata": "9ihcj8JlVkA="
         },
         "yaxis": "y",
         "type": "scatter"
        },
        {
         "hovertemplate": "brand_name=tecno<br>battery_capacity=%{x}<br>price (€)=%{y}<extra></extra>",
         "legendgroup": "tecno",
         "marker": {
          "color": "#636efa",
          "opacity": 0.6,
          "symbol": "circle"
         },
         "mode": "markers",
         "name": "tecno",
         "orientation": "v",
         "showlegend": true,
         "x": {
          "dtype": "i2",
          "bdata": "iBOIE4gTiBOIE4gTiBNcEogTKBQoFKAPiBNYG1gbWBtwF3AXcBdYG3AXiBOIE4gTiBOIE4gTiBOIE4gTiBOIE4gT"
         },
         "xaxis": "x",
         "y": {
          "dtype": "f8",
          "bdata": "ZmZmZmamXEAfhetRuF5iQI/C9Shcr2JA4XoUrkdpZkBI4XoUrmdrQFyPwvUobGZAKVyPwvUoakD2KFyPwjFwQB+F61G4pmxArkfhehTqeEBxPQrXoyR/QAAAAAAAcFFApHA9CtdjT0BI4XoUrmdbQJqZmZmZ6VhAcT0K16MwYUCF61G4HuVdQGZmZmZm7mNAH4XrUbhOY0A9CtejcG1hQB+F61G4TmNA7FG4HoVrVkBcj8L1KOxVQI/C9Shcb1JAZmZmZmYmVkCuR+F6FO5TQOxRuB6Fa1ZA16NwPQrnVECuR+F6FO5TQJqZmZmZ6VhAuB6F61FYVkCkcD0K1yNPQAAAAAAAcFFA"
         },
         "yaxis": "y",
         "type": "scatter"
        },
        {
         "hovertemplate": "brand_name=vertu<br>battery_capacity=%{x}<br>price (€)=%{y}<extra></extra>",
         "legendgroup": "vertu",
         "marker": {
          "color": "#EF553B",
          "opacity": 0.6,
          "symbol": "circle"
         },
         "mode": "markers",
         "name": "vertu",
         "orientation": "v",
         "showlegend": true,
         "x": {
          "dtype": "i2",
          "bdata": "4wg="
         },
         "xaxis": "x",
         "y": {
          "dtype": "f8",
          "bdata": "ZmZmZuZNuUA="
         },
         "yaxis": "y",
         "type": "scatter"
        },
        {
         "hovertemplate": "brand_name=vivo<br>battery_capacity=%{x}<br>price (€)=%{y}<extra></extra>",
         "legendgroup": "vivo",
         "marker": {
          "color": "#00cc96",
          "opacity": 0.6,
          "symbol": "circle"
         },
         "mode": "markers",
         "name": "vivo",
         "orientation": "v",
         "showlegend": true,
         "x": {
          "dtype": "i2",
          "bdata": "lBH4EfgRiBOIE4gTiBOIE4gTiBNcElwSiBOIE4gTXBKUEXAXXBKIE4gTiBPzDHQOlBGgD6APBBCgD6APzBCgD2gQaBDMEMwQ0g/SD5QRlBHeEt4SlBHAElwSiBOIE4gTwBL4EfgRehKIE5QRlBFcEpQRyhIGE1wSiBOIE4gTiBOIE4gTiBOIE4gTiBOIE4gTiBOIE4gTiBOIE4gTiBOIE4gTiBOIE4gTiBOIE4gTiBNsB4gTiBOIE4gTiBOIE3AXiBOIE6oKiBNwFyANoA9wF9IPiBOUEZQRvg++D74P"
         },
         "xaxis": "x",
         "y": {
          "dtype": "f8",
          "bdata": "7FG4HoWvckCuR+F6FK5yQBSuR+F6HHZAMzMzMzMjf0AAAAAAABBiQGZmZmZm7mNAXI/C9ShsZkDsUbgehetjQArXo3A9KmVA16NwPQrnaEA9CtejcOVtQBSuR+F6JG9AmpmZmZkxYECPwvUoXK9iQIXrUbge5V1AmpmZmZkhb0CuR+F6FK5yQAAAAAAAqGdAKVyPwvXsc0CkcD0K1+NYQI/C9Shc311A9ihcj8JlVkCuR+F6FCZqQM3MzMzMJG9AMzMzMzNvcUDNzMzMzPxsQOF6FK5H0XBAMzMzMzOrZ0AUrkfheiRvQKRwPQrX421AUrgeheuNdEDsUbgeha9yQHsUrkfhIm9ApHA9CtdvcUCamZmZme1zQHsUrkfhCndASOF6FK7PcECuR+F6FGZrQGZmZmZm7nNAcT0K16NwcUCuR+F6FOp4QLgehetRbHZA16NwPQrnaEDXo3A9Csd6QDMzMzMzb3FApHA9Ctdne0DD9Shcjw5yQBSuR+F6jHRA4XoUrkevkkDXo3A9CqmQQGZmZmZmh5JArkfhehTAkUBxPQrXo9iJQClcj8L1IIFAmpmZmZmvgkBcj8L1KOqIQHE9Ctej2IlA7FG4HoUnekBmZmZmZsCBQPYoXI/CC4dArkfhehTuU0ApXI/C9WhTQOxRuB6Fa1ZArkfhehTuU0D2KFyPwmVWQB+F61G4Hl9ArkfhehSuckCF61G4HqVXQLgehetRaFtAmpmZmZnpWECPwvUoXN9dQBSuR+F6JF9AzczMzMwsVUDD9ShcjyJaQM3MzMzMLFVAmpmZmZnpWEC4HoXrUShaQK5H4XoUHl9ACtejcD3qaEA9CtejcG1hQKRwPQrX41hA9ihcj8LNYEAUrkfheiRfQBSuR+F6rGJAH4XrUbhOY0AAAAAAABBiQPYoXI/CjWRAFK5H4XqsYkCPwvUoXK9SQB+F61G4LmBAKVyPwvXIZEDsUbgehetjQOxRuB6FC2dAuB6F61FwYUCkcD0K10tjQIXrUbge5V1ApHA9CtejbECuR+F6FCZqQK5H4XoUzmBASOF6FK5na0DXo3A9CudoQM3MzMzMJG9A16NwPQrnaEAK16NwPSplQNejcD0K52hAzczMzMxka0DhehSuR2lmQJqZmZmZIW9APQrXo3BtVEAUrkfhemxmQEjhehSur2JA"
         },
         "yaxis": "y",
         "type": "scatter"
        },
        {
         "hovertemplate": "brand_name=xiaomi<br>battery_capacity=%{x}<br>price (€)=%{y}<extra></extra>",
         "legendgroup": "xiaomi",
         "marker": {
          "color": "#ab63fa",
          "opacity": 0.6,
          "symbol": "circle"
         },
         "mode": "markers",
         "name": "xiaomi",
         "orientation": "v",
         "showlegend": true,
         "x": {
          "dtype": "i2",
          "bdata": "KBSUEZQRiBPMEPgR+BHAEvwSiBOIE5QR1BKIE4gTlBGIE6wSiBOIE5oQmhCaECgUiBOoEagRqBGUEdIPnBOUEaAPoA9wF3AXcBdwF3AXiBOIE4gTiBOIE3AXcBeIE4gTiBOIE+wTiBOIE4gTiBOIE3AXiBOIE4gTiBOIE4gTiBOIE6APfBWIE9gT2BN8FYgTiBN8FdgTiBOIE4gTnBOcE5wTnBOIE5wTnBOIE4gTiBOIE4gTiBOIE4gTiBOIE4gTUBSIE4gTiBOIE4gTiBOIE4gTiBOIE4gTiBPYE4gTiBOIE8wQzBCIE4gTiBOIE1AUdBN0E3QTiBOIE4gTUBQEEKAPlBGcE5wTnBOcEw=="
         },
         "xaxis": "x",
         "y": {
          "dtype": "f8",
          "bdata": "mpmZmZkhb0DsUbgehetuQIXrUbge0XBAw/UoXI9KeECuR+F6FK5yQB+F61G4wn9AuB6F61EogEDhehSuR6uHQFyPwvUozIVASOF6FK6DfkB7FK5H4a6CQM3MzMzMRH1AhetRuB5fgkC4HoXrUWyGQClcj8L1IIFA7FG4HoWvckAUrkfheox0QClcj8L1IIFAZmZmZmZGbUDsUbgeha9yQDMzMzMzS2dAhetRuB5Fa0AfhetRuKZsQK5H4XoURm1Aj8L1KFzLdUB7FK5H4cJtQLgehetRMHBAmpmZmZlNc0DXo3A9Csd6QGZmZmZmJJ9AcT0K16MgkUDXo3A9CqmQQIXrUbge5V1AmpmZmZkxYECkcD0K1+NXQIXrUbge5V1AhetRuB7lXUAfhetRuN5eQJqZmZmZMWBAPQrXo3BtYUCPwvUoXK9SQPYoXI/C5VRAuB6F61EIW0CamZmZmelYQD0K16NwbWFAFK5H4XqsYkDXo3A9CudcQHE9CtejKGFAZmZmZmbGYEDsUbgehetjQOF6FK5HaWZAUrgehethW0BxPQrXo6BcQOxRuB6Fa1ZAj8L1KFyvUkC4HoXrUShaQGZmZmZmplxAAAAAAABwUUBSuB6F62FbQOF6FK5HMVBAexSuR+EqV0CPwvUoXK9SQAAAAAAAwE5AKVyPwvUoUkDNzMzMzOxUQEjhehSur7JAMzMzMzNvcUCuR+F6FOp4QPYoXI/CMXBAH4XrUbimbECuR+F6FK5yQArXo3A9IIFAw/UoXI9KeED2KFyPwjFwQAAAAAAAEHJAPQrXo3BtYUD2KFyPwo1kQB+F61G4Hl9AmpmZmZnpWEAUrkfheiRfQIXrUbge5V1AXI/C9ShsZkCF61G4Hi1lQFK4HoXr6WhApHA9CtfjaEBI4XoUrmdbQIXrUbge5V1AuB6F61FwYUCamZmZmTFgQLgehetRcGFAzczMzMy8XUCF61G4Hs1hQK5H4XoUXl5AFK5H4XqsYkBcj8L1KGxmQOF6FK5HaWZAUrgehevpaEBSuB6F6+loQI/C9ShcR2xAH4XrUbimbEA9CtejcG1hQB+F61G4LmBAzczMzMwsYkAfhetRuE5jQGZmZmZmtmNAhetRuB7lXUCF61G4Hi1lQIXrUbgeLWVA7FG4HoULZ0DXo3A9CudoQI/C9ShcP2ZAZmZmZmbmaEC4HoXrUXBhQEjhehSuz3BAFK5H4Xokb0CF61G4HtFwQKRwPQrXb3FAj8L1KFyvYkApXI/C9dhuQFK4HoXrjXRA7FG4HoWvckBSuB6F6410QIXrUbge0XBAUrgehevpaEBmZmZmZu5jQOF6FK5HaWZA4XoUrkeJaUCamZmZmalZQKRwPQrX41hAhetRuB4tZUAfhetRuN5dQLgehetRcGFAzczMzMz8YUB7FK5H4YpkQA=="
         },
         "yaxis": "y",
         "type": "scatter"
        },
        {
         "hovertemplate": "brand_name=zte<br>battery_capacity=%{x}<br>price (€)=%{y}<extra></extra>",
         "legendgroup": "zte",
         "marker": {
          "color": "#FFA15A",
          "opacity": 0.6,
          "symbol": "circle"
         },
         "mode": "markers",
         "name": "zte",
         "orientation": "v",
         "showlegend": true,
         "x": {
          "dtype": "i2",
          "bdata": "aBCIEw=="
         },
         "xaxis": "x",
         "y": {
          "dtype": "f8",
          "bdata": "UrgehevpaEC4HoXrUU6DQA=="
         },
         "yaxis": "y",
         "type": "scatter"
        }
       ],
       "layout": {
        "template": {
         "data": {
          "histogram2dcontour": [
           {
            "type": "histogram2dcontour",
            "colorbar": {
             "outlinewidth": 0,
             "ticks": ""
            },
            "colorscale": [
             [
              0.0,
              "#0d0887"
             ],
             [
              0.1111111111111111,
              "#46039f"
             ],
             [
              0.2222222222222222,
              "#7201a8"
             ],
             [
              0.3333333333333333,
              "#9c179e"
             ],
             [
              0.4444444444444444,
              "#bd3786"
             ],
             [
              0.5555555555555556,
              "#d8576b"
             ],
             [
              0.6666666666666666,
              "#ed7953"
             ],
             [
              0.7777777777777778,
              "#fb9f3a"
             ],
             [
              0.8888888888888888,
              "#fdca26"
             ],
             [
              1.0,
              "#f0f921"
             ]
            ]
           }
          ],
          "choropleth": [
           {
            "type": "choropleth",
            "colorbar": {
             "outlinewidth": 0,
             "ticks": ""
            }
           }
          ],
          "histogram2d": [
           {
            "type": "histogram2d",
            "colorbar": {
             "outlinewidth": 0,
             "ticks": ""
            },
            "colorscale": [
             [
              0.0,
              "#0d0887"
             ],
             [
              0.1111111111111111,
              "#46039f"
             ],
             [
              0.2222222222222222,
              "#7201a8"
             ],
             [
              0.3333333333333333,
              "#9c179e"
             ],
             [
              0.4444444444444444,
              "#bd3786"
             ],
             [
              0.5555555555555556,
              "#d8576b"
             ],
             [
              0.6666666666666666,
              "#ed7953"
             ],
             [
              0.7777777777777778,
              "#fb9f3a"
             ],
             [
              0.8888888888888888,
              "#fdca26"
             ],
             [
              1.0,
              "#f0f921"
             ]
            ]
           }
          ],
          "heatmap": [
           {
            "type": "heatmap",
            "colorbar": {
             "outlinewidth": 0,
             "ticks": ""
            },
            "colorscale": [
             [
              0.0,
              "#0d0887"
             ],
             [
              0.1111111111111111,
              "#46039f"
             ],
             [
              0.2222222222222222,
              "#7201a8"
             ],
             [
              0.3333333333333333,
              "#9c179e"
             ],
             [
              0.4444444444444444,
              "#bd3786"
             ],
             [
              0.5555555555555556,
              "#d8576b"
             ],
             [
              0.6666666666666666,
              "#ed7953"
             ],
             [
              0.7777777777777778,
              "#fb9f3a"
             ],
             [
              0.8888888888888888,
              "#fdca26"
             ],
             [
              1.0,
              "#f0f921"
             ]
            ]
           }
          ],
          "contourcarpet": [
           {
            "type": "contourcarpet",
            "colorbar": {
             "outlinewidth": 0,
             "ticks": ""
            }
           }
          ],
          "contour": [
           {
            "type": "contour",
            "colorbar": {
             "outlinewidth": 0,
             "ticks": ""
            },
            "colorscale": [
             [
              0.0,
              "#0d0887"
             ],
             [
              0.1111111111111111,
              "#46039f"
             ],
             [
              0.2222222222222222,
              "#7201a8"
             ],
             [
              0.3333333333333333,
              "#9c179e"
             ],
             [
              0.4444444444444444,
              "#bd3786"
             ],
             [
              0.5555555555555556,
              "#d8576b"
             ],
             [
              0.6666666666666666,
              "#ed7953"
             ],
             [
              0.7777777777777778,
              "#fb9f3a"
             ],
             [
              0.8888888888888888,
              "#fdca26"
             ],
             [
              1.0,
              "#f0f921"
             ]
            ]
           }
          ],
          "surface": [
           {
            "type": "surface",
            "colorbar": {
             "outlinewidth": 0,
             "ticks": ""
            },
            "colorscale": [
             [
              0.0,
              "#0d0887"
             ],
             [
              0.1111111111111111,
              "#46039f"
             ],
             [
              0.2222222222222222,
              "#7201a8"
             ],
             [
              0.3333333333333333,
              "#9c179e"
             ],
             [
              0.4444444444444444,
              "#bd3786"
             ],
             [
              0.5555555555555556,
              "#d8576b"
             ],
             [
              0.6666666666666666,
              "#ed7953"
             ],
             [
              0.7777777777777778,
              "#fb9f3a"
             ],
             [
              0.8888888888888888,
              "#fdca26"
             ],
             [
              1.0,
              "#f0f921"
             ]
            ]
           }
          ],
          "mesh3d": [
           {
            "type": "mesh3d",
            "colorbar": {
             "outlinewidth": 0,
             "ticks": ""
            }
           }
          ],
          "scatter": [
           {
            "marker": {
             "line": {
              "color": "#283442"
             }
            },
            "type": "scatter"
           }
          ],
          "parcoords": [
           {
            "type": "parcoords",
            "line": {
             "colorbar": {
              "outlinewidth": 0,
              "ticks": ""
             }
            }
           }
          ],
          "scatterpolargl": [
           {
            "type": "scatterpolargl",
            "marker": {
             "colorbar": {
              "outlinewidth": 0,
              "ticks": ""
             }
            }
           }
          ],
          "bar": [
           {
            "error_x": {
             "color": "#f2f5fa"
            },
            "error_y": {
             "color": "#f2f5fa"
            },
            "marker": {
             "line": {
              "color": "rgb(17,17,17)",
              "width": 0.5
             },
             "pattern": {
              "fillmode": "overlay",
              "size": 10,
              "solidity": 0.2
             }
            },
            "type": "bar"
           }
          ],
          "scattergeo": [
           {
            "type": "scattergeo",
            "marker": {
             "colorbar": {
              "outlinewidth": 0,
              "ticks": ""
             }
            }
           }
          ],
          "scatterpolar": [
           {
            "type": "scatterpolar",
            "marker": {
             "colorbar": {
              "outlinewidth": 0,
              "ticks": ""
             }
            }
           }
          ],
          "histogram": [
           {
            "marker": {
             "pattern": {
              "fillmode": "overlay",
              "size": 10,
              "solidity": 0.2
             }
            },
            "type": "histogram"
           }
          ],
          "scattergl": [
           {
            "marker": {
             "line": {
              "color": "#283442"
             }
            },
            "type": "scattergl"
           }
          ],
          "scatter3d": [
           {
            "type": "scatter3d",
            "line": {
             "colorbar": {
              "outlinewidth": 0,
              "ticks": ""
             }
            },
            "marker": {
             "colorbar": {
              "outlinewidth": 0,
              "ticks": ""
             }
            }
           }
          ],
          "scattermap": [
           {
            "type": "scattermap",
            "marker": {
             "colorbar": {
              "outlinewidth": 0,
              "ticks": ""
             }
            }
           }
          ],
          "scattermapbox": [
           {
            "type": "scattermapbox",
            "marker": {
             "colorbar": {
              "outlinewidth": 0,
              "ticks": ""
             }
            }
           }
          ],
          "scatterternary": [
           {
            "type": "scatterternary",
            "marker": {
             "colorbar": {
              "outlinewidth": 0,
              "ticks": ""
             }
            }
           }
          ],
          "scattercarpet": [
           {
            "type": "scattercarpet",
            "marker": {
             "colorbar": {
              "outlinewidth": 0,
              "ticks": ""
             }
            }
           }
          ],
          "carpet": [
           {
            "aaxis": {
             "endlinecolor": "#A2B1C6",
             "gridcolor": "#506784",
             "linecolor": "#506784",
             "minorgridcolor": "#506784",
             "startlinecolor": "#A2B1C6"
            },
            "baxis": {
             "endlinecolor": "#A2B1C6",
             "gridcolor": "#506784",
             "linecolor": "#506784",
             "minorgridcolor": "#506784",
             "startlinecolor": "#A2B1C6"
            },
            "type": "carpet"
           }
          ],
          "table": [
           {
            "cells": {
             "fill": {
              "color": "#506784"
             },
             "line": {
              "color": "rgb(17,17,17)"
             }
            },
            "header": {
             "fill": {
              "color": "#2a3f5f"
             },
             "line": {
              "color": "rgb(17,17,17)"
             }
            },
            "type": "table"
           }
          ],
          "barpolar": [
           {
            "marker": {
             "line": {
              "color": "rgb(17,17,17)",
              "width": 0.5
             },
             "pattern": {
              "fillmode": "overlay",
              "size": 10,
              "solidity": 0.2
             }
            },
            "type": "barpolar"
           }
          ],
          "pie": [
           {
            "automargin": true,
            "type": "pie"
           }
          ]
         },
         "layout": {
          "autotypenumbers": "strict",
          "colorway": [
           "#636efa",
           "#EF553B",
           "#00cc96",
           "#ab63fa",
           "#FFA15A",
           "#19d3f3",
           "#FF6692",
           "#B6E880",
           "#FF97FF",
           "#FECB52"
          ],
          "font": {
           "color": "#f2f5fa"
          },
          "hovermode": "closest",
          "hoverlabel": {
           "align": "left"
          },
          "paper_bgcolor": "rgb(17,17,17)",
          "plot_bgcolor": "rgb(17,17,17)",
          "polar": {
           "bgcolor": "rgb(17,17,17)",
           "angularaxis": {
            "gridcolor": "#506784",
            "linecolor": "#506784",
            "ticks": ""
           },
           "radialaxis": {
            "gridcolor": "#506784",
            "linecolor": "#506784",
            "ticks": ""
           }
          },
          "ternary": {
           "bgcolor": "rgb(17,17,17)",
           "aaxis": {
            "gridcolor": "#506784",
            "linecolor": "#506784",
            "ticks": ""
           },
           "baxis": {
            "gridcolor": "#506784",
            "linecolor": "#506784",
            "ticks": ""
           },
           "caxis": {
            "gridcolor": "#506784",
            "linecolor": "#506784",
            "ticks": ""
           }
          },
          "coloraxis": {
           "colorbar": {
            "outlinewidth": 0,
            "ticks": ""
           }
          },
          "colorscale": {
           "sequential": [
            [
             0.0,
             "#0d0887"
            ],
            [
             0.1111111111111111,
             "#46039f"
            ],
            [
             0.2222222222222222,
             "#7201a8"
            ],
            [
             0.3333333333333333,
             "#9c179e"
            ],
            [
             0.4444444444444444,
             "#bd3786"
            ],
            [
             0.5555555555555556,
             "#d8576b"
            ],
            [
             0.6666666666666666,
             "#ed7953"
            ],
            [
             0.7777777777777778,
             "#fb9f3a"
            ],
            [
             0.8888888888888888,
             "#fdca26"
            ],
            [
             1.0,
             "#f0f921"
            ]
           ],
           "sequentialminus": [
            [
             0.0,
             "#0d0887"
            ],
            [
             0.1111111111111111,
             "#46039f"
            ],
            [
             0.2222222222222222,
             "#7201a8"
            ],
            [
             0.3333333333333333,
             "#9c179e"
            ],
            [
             0.4444444444444444,
             "#bd3786"
            ],
            [
             0.5555555555555556,
             "#d8576b"
            ],
            [
             0.6666666666666666,
             "#ed7953"
            ],
            [
             0.7777777777777778,
             "#fb9f3a"
            ],
            [
             0.8888888888888888,
             "#fdca26"
            ],
            [
             1.0,
             "#f0f921"
            ]
           ],
           "diverging": [
            [
             0,
             "#8e0152"
            ],
            [
             0.1,
             "#c51b7d"
            ],
            [
             0.2,
             "#de77ae"
            ],
            [
             0.3,
             "#f1b6da"
            ],
            [
             0.4,
             "#fde0ef"
            ],
            [
             0.5,
             "#f7f7f7"
            ],
            [
             0.6,
             "#e6f5d0"
            ],
            [
             0.7,
             "#b8e186"
            ],
            [
             0.8,
             "#7fbc41"
            ],
            [
             0.9,
             "#4d9221"
            ],
            [
             1,
             "#276419"
            ]
           ]
          },
          "xaxis": {
           "gridcolor": "#283442",
           "linecolor": "#506784",
           "ticks": "",
           "title": {
            "standoff": 15
           },
           "zerolinecolor": "#283442",
           "automargin": true,
           "zerolinewidth": 2
          },
          "yaxis": {
           "gridcolor": "#283442",
           "linecolor": "#506784",
           "ticks": "",
           "title": {
            "standoff": 15
           },
           "zerolinecolor": "#283442",
           "automargin": true,
           "zerolinewidth": 2
          },
          "scene": {
           "xaxis": {
            "backgroundcolor": "rgb(17,17,17)",
            "gridcolor": "#506784",
            "linecolor": "#506784",
            "showbackground": true,
            "ticks": "",
            "zerolinecolor": "#C8D4E3",
            "gridwidth": 2
           },
           "yaxis": {
            "backgroundcolor": "rgb(17,17,17)",
            "gridcolor": "#506784",
            "linecolor": "#506784",
            "showbackground": true,
            "ticks": "",
            "zerolinecolor": "#C8D4E3",
            "gridwidth": 2
           },
           "zaxis": {
            "backgroundcolor": "rgb(17,17,17)",
            "gridcolor": "#506784",
            "linecolor": "#506784",
            "showbackground": true,
            "ticks": "",
            "zerolinecolor": "#C8D4E3",
            "gridwidth": 2
           }
          },
          "shapedefaults": {
           "line": {
            "color": "#f2f5fa"
           }
          },
          "annotationdefaults": {
           "arrowcolor": "#f2f5fa",
           "arrowhead": 0,
           "arrowwidth": 1
          },
          "geo": {
           "bgcolor": "rgb(17,17,17)",
           "landcolor": "rgb(17,17,17)",
           "subunitcolor": "#506784",
           "showland": true,
           "showlakes": true,
           "lakecolor": "rgb(17,17,17)"
          },
          "title": {
           "x": 0.05
          },
          "updatemenudefaults": {
           "bgcolor": "#506784",
           "borderwidth": 0
          },
          "sliderdefaults": {
           "bgcolor": "#C8D4E3",
           "borderwidth": 1,
           "bordercolor": "rgb(17,17,17)",
           "tickwidth": 0
          },
          "mapbox": {
           "style": "dark"
          }
         }
        },
        "xaxis": {
         "anchor": "y",
         "domain": [
          0.0,
          1.0
         ],
         "title": {
          "text": "Capacité batterie"
         }
        },
        "yaxis": {
         "anchor": "x",
         "domain": [
          0.0,
          1.0
         ],
         "title": {
          "text": "Prix (€)"
         }
        },
        "legend": {
         "title": {
          "text": "brand_name"
         },
         "tracegroupgap": 0
        },
        "title": {
         "text": "Prix vs Capacité de batterie des smartphones"
        },
        "bargap": 0.1
       },
       "config": {
        "plotlyServerURL": "https://plot.ly"
       }
      },
      "text/html": [
       "<div>            <script src=\"https://cdnjs.cloudflare.com/ajax/libs/mathjax/2.7.5/MathJax.js?config=TeX-AMS-MML_SVG\"></script><script type=\"text/javascript\">if (window.MathJax && window.MathJax.Hub && window.MathJax.Hub.Config) {window.MathJax.Hub.Config({SVG: {font: \"STIX-Web\"}});}</script>                <script type=\"text/javascript\">window.PlotlyConfig = {MathJaxConfig: 'local'};</script>\n",
       "        <script charset=\"utf-8\" src=\"https://cdn.plot.ly/plotly-3.0.1.min.js\" integrity=\"sha256-oy6Be7Eh6eiQFs5M7oXuPxxm9qbJXEtTpfSI93dW16Q=\" crossorigin=\"anonymous\"></script>                <div id=\"b5ace54f-e076-4669-9bac-6a2aae3b19f0\" class=\"plotly-graph-div\" style=\"height:525px; width:100%;\"></div>            <script type=\"text/javascript\">                window.PLOTLYENV=window.PLOTLYENV || {};                                if (document.getElementById(\"b5ace54f-e076-4669-9bac-6a2aae3b19f0\")) {                    Plotly.newPlot(                        \"b5ace54f-e076-4669-9bac-6a2aae3b19f0\",                        [{\"hovertemplate\":\"brand_name=apple\\u003cbr\\u003ebattery_capacity=%{x}\\u003cbr\\u003eprice (\\u20ac)=%{y}\\u003cextra\\u003e\\u003c\\u002fextra\\u003e\",\"legendgroup\":\"apple\",\"marker\":{\"color\":\"#636efa\",\"opacity\":0.6,\"symbol\":\"circle\"},\"mode\":\"markers\",\"name\":\"apple\",\"orientation\":\"v\",\"showlegend\":true,\"x\":{\"dtype\":\"i2\",\"bdata\":\"JgwmDKwN\\u002fwr\\u002fCv8KswizCLMI\\u002fwr\\u002fCqgMqAyoDIYJFwwXDBcMABEAEQARzwzPDM8MrA3lEOUQ5RCADIAMgAzjEOMQ4xDjENUMtBFZEQARXBK2CAIIHQfiB88M9As=\"},\"xaxis\":\"x\",\"y\":{\"dtype\":\"f8\",\"bdata\":\"w\\u002fUoXI9KeEAK16NwPUZ9QNejcD0KHZFA9ihcj8IxgEAfhetRuHCBQD0K16NwLYVAmpmZmZmJeUB7FK5H4aZ8QB+F61G4cIFASOF6FK6rkkApXI\\u002fC9ciVQM3MzMzMnoNArkfhehS8hkB7FK5H4aaMQLgehetRNoRASOF6FK6rkkB7FK5H4QeXQLgehetROpRAuB6F61E6lEDsUbgehQOcQClcj8L1yJVAAAAAAACOhEDhehSuR6uHQKRwPQrX5Y1AXI\\u002fC9SjMhUDsUbgehVuHQM3MzMzMeIpASOF6FK5ZkEDhehSuR6+SQD0K16Nw8JpAUrgehes9lEBSuB6F6z2UQK5H4XoUf5xAw\\u002fUoXI\\u002fMlUB7FK5H4XSaQHE9Ctej2IlArkfhehR4ikDNzMzMzGWUQFyPwvUoRJZAmpmZmZlXl0DNzMzMzICAQK5H4XoUrnJACtejcD3aeEBcj8L1KFh7QDMzMzMzI39AuB6F61FshkA=\"},\"yaxis\":\"y\",\"type\":\"scatter\"},{\"hovertemplate\":\"brand_name=asus\\u003cbr\\u003ebattery_capacity=%{x}\\u003cbr\\u003eprice (\\u20ac)=%{y}\\u003cextra\\u003e\\u003c\\u002fextra\\u003e\",\"legendgroup\":\"asus\",\"marker\":{\"color\":\"#EF553B\",\"opacity\":0.6,\"symbol\":\"circle\"},\"mode\":\"markers\",\"name\":\"asus\",\"orientation\":\"v\",\"showlegend\":true,\"x\":{\"dtype\":\"i2\",\"bdata\":\"cBdwF3AXcBdwF3AXzBA=\"},\"xaxis\":\"x\",\"y\":{\"dtype\":\"f8\",\"bdata\":\"rkfhehTqeEC4HoXrUWyGQK5H4XoUvIZAPQrXo3AHjEBSuB6F69CQQMP1KFyPqodA9ihcj8Ltg0A=\"},\"yaxis\":\"y\",\"type\":\"scatter\"},{\"hovertemplate\":\"brand_name=blackview\\u003cbr\\u003ebattery_capacity=%{x}\\u003cbr\\u003eprice (\\u20ac)=%{y}\\u003cextra\\u003e\\u003c\\u002fextra\\u003e\",\"legendgroup\":\"blackview\",\"marker\":{\"color\":\"#00cc96\",\"opacity\":0.6,\"symbol\":\"circle\"},\"mode\":\"markers\",\"name\":\"blackview\",\"orientation\":\"v\",\"showlegend\":true,\"x\":{\"dtype\":\"i2\",\"bdata\":\"PBQ=\"},\"xaxis\":\"x\",\"y\":{\"dtype\":\"f8\",\"bdata\":\"9ihcj8JlVkA=\"},\"yaxis\":\"y\",\"type\":\"scatter\"},{\"hovertemplate\":\"brand_name=blu\\u003cbr\\u003ebattery_capacity=%{x}\\u003cbr\\u003eprice (\\u20ac)=%{y}\\u003cextra\\u003e\\u003c\\u002fextra\\u003e\",\"legendgroup\":\"blu\",\"marker\":{\"color\":\"#ab63fa\",\"opacity\":0.6,\"symbol\":\"circle\"},\"mode\":\"markers\",\"name\":\"blu\",\"orientation\":\"v\",\"showlegend\":true,\"x\":{\"dtype\":\"i2\",\"bdata\":\"iBM=\"},\"xaxis\":\"x\",\"y\":{\"dtype\":\"f8\",\"bdata\":\"FK5H4XqsYkA=\"},\"yaxis\":\"y\",\"type\":\"scatter\"},{\"hovertemplate\":\"brand_name=cat\\u003cbr\\u003ebattery_capacity=%{x}\\u003cbr\\u003eprice (\\u20ac)=%{y}\\u003cextra\\u003e\\u003c\\u002fextra\\u003e\",\"legendgroup\":\"cat\",\"marker\":{\"color\":\"#FFA15A\",\"opacity\":0.6,\"symbol\":\"circle\"},\"mode\":\"markers\",\"name\":\"cat\",\"orientation\":\"v\",\"showlegend\":true,\"x\":{\"dtype\":\"i2\",\"bdata\":\"0Ac=\"},\"xaxis\":\"x\",\"y\":{\"dtype\":\"f8\",\"bdata\":\"j8L1KFyvYkA=\"},\"yaxis\":\"y\",\"type\":\"scatter\"},{\"hovertemplate\":\"brand_name=cola\\u003cbr\\u003ebattery_capacity=%{x}\\u003cbr\\u003eprice (\\u20ac)=%{y}\\u003cextra\\u003e\\u003c\\u002fextra\\u003e\",\"legendgroup\":\"cola\",\"marker\":{\"color\":\"#19d3f3\",\"opacity\":0.6,\"symbol\":\"circle\"},\"mode\":\"markers\",\"name\":\"cola\",\"orientation\":\"v\",\"showlegend\":true,\"x\":{\"dtype\":\"i2\",\"bdata\":\"iBM=\"},\"xaxis\":\"x\",\"y\":{\"dtype\":\"f8\",\"bdata\":\"j8L1KFyvYkA=\"},\"yaxis\":\"y\",\"type\":\"scatter\"},{\"hovertemplate\":\"brand_name=doogee\\u003cbr\\u003ebattery_capacity=%{x}\\u003cbr\\u003eprice (\\u20ac)=%{y}\\u003cextra\\u003e\\u003c\\u002fextra\\u003e\",\"legendgroup\":\"doogee\",\"marker\":{\"color\":\"#FF6692\",\"opacity\":0.6,\"symbol\":\"circle\"},\"mode\":\"markers\",\"name\":\"doogee\",\"orientation\":\"v\",\"showlegend\":true,\"x\":{\"dtype\":\"i2\",\"bdata\":\"cBfwVQ==\"},\"xaxis\":\"x\",\"y\":{\"dtype\":\"f8\",\"bdata\":\"j8L1KFyvYkB7FK5H4aZ8QA==\"},\"yaxis\":\"y\",\"type\":\"scatter\"},{\"hovertemplate\":\"brand_name=duoqin\\u003cbr\\u003ebattery_capacity=%{x}\\u003cbr\\u003eprice (\\u20ac)=%{y}\\u003cextra\\u003e\\u003c\\u002fextra\\u003e\",\"legendgroup\":\"duoqin\",\"marker\":{\"color\":\"#B6E880\",\"opacity\":0.6,\"symbol\":\"circle\"},\"mode\":\"markers\",\"name\":\"duoqin\",\"orientation\":\"v\",\"showlegend\":true,\"x\":{\"dtype\":\"i2\",\"bdata\":\"Zgg=\"},\"xaxis\":\"x\",\"y\":{\"dtype\":\"f8\",\"bdata\":\"pHA9CtfjWEA=\"},\"yaxis\":\"y\",\"type\":\"scatter\"},{\"hovertemplate\":\"brand_name=gionee\\u003cbr\\u003ebattery_capacity=%{x}\\u003cbr\\u003eprice (\\u20ac)=%{y}\\u003cextra\\u003e\\u003c\\u002fextra\\u003e\",\"legendgroup\":\"gionee\",\"marker\":{\"color\":\"#FF97FF\",\"opacity\":0.6,\"symbol\":\"circle\"},\"mode\":\"markers\",\"name\":\"gionee\",\"orientation\":\"v\",\"showlegend\":true,\"x\":{\"dtype\":\"i2\",\"bdata\":\"rA3AEqAP\"},\"xaxis\":\"x\",\"y\":{\"dtype\":\"f8\",\"bdata\":\"uB6F61HYTkAAAAAAAHBRQI\\u002fC9Shcr1JA\"},\"yaxis\":\"y\",\"type\":\"scatter\"},{\"hovertemplate\":\"brand_name=google\\u003cbr\\u003ebattery_capacity=%{x}\\u003cbr\\u003eprice (\\u20ac)=%{y}\\u003cextra\\u003e\\u003c\\u002fextra\\u003e\",\"legendgroup\":\"google\",\"marker\":{\"color\":\"#FECB52\",\"opacity\":0.6,\"symbol\":\"circle\"},\"mode\":\"markers\",\"name\":\"google\",\"orientation\":\"v\",\"showlegend\":true,\"x\":{\"dtype\":\"i2\",\"bdata\":\"wA10DvAK8A8MEgYSixOLEzoRAxGIEzoR3hKIEw==\"},\"xaxis\":\"x\",\"y\":{\"dtype\":\"f8\",\"bdata\":\"7FG4HoXrY0BmZmZmZu5jQHE9CtejEGlAFK5H4XpsdkBSuB6F6410QB+F61G4NnlAMzMzMzPpgEC4HoXrUdKIQOxRuB6Fr3JA7FG4HoWJgECamZmZmYmJQI\\u002fC9Shcy3VAFK5H4XrQgEBSuB6F6xuGQA==\"},\"yaxis\":\"y\",\"type\":\"scatter\"},{\"hovertemplate\":\"brand_name=honor\\u003cbr\\u003ebattery_capacity=%{x}\\u003cbr\\u003eprice (\\u20ac)=%{y}\\u003cextra\\u003e\\u003c\\u002fextra\\u003e\",\"legendgroup\":\"honor\",\"marker\":{\"color\":\"#636efa\",\"opacity\":0.6,\"symbol\":\"circle\"},\"mode\":\"markers\",\"name\":\"honor\",\"orientation\":\"v\",\"showlegend\":true,\"x\":{\"dtype\":\"i2\",\"bdata\":\"zBDMEMASwBKUEfgRiBOIE4gToA+IE8AS7BM=\"},\"xaxis\":\"x\",\"y\":{\"dtype\":\"f8\",\"bdata\":\"FK5H4XqMdECamZmZmSFvQHE9Ctej6HhAmpmZmZlNc0AK16NwPSCBQI\\u002fC9ShclY1AmpmZmZnpWEC4HoXrUXBhQLgehetRcGFAhetRuB4tZUAUrkfheqxiQIXrUbgeLWVAcT0K16NwcUA=\"},\"yaxis\":\"y\",\"type\":\"scatter\"},{\"hovertemplate\":\"brand_name=huawei\\u003cbr\\u003ebattery_capacity=%{x}\\u003cbr\\u003eprice (\\u20ac)=%{y}\\u003cextra\\u003e\\u003c\\u002fextra\\u003e\",\"legendgroup\":\"huawei\",\"marker\":{\"color\":\"#EF553B\",\"opacity\":0.6,\"symbol\":\"circle\"},\"mode\":\"markers\",\"name\":\"huawei\",\"orientation\":\"v\",\"showlegend\":true,\"x\":{\"dtype\":\"i2\",\"bdata\":\"uAuUETARlBFcEpQR+BGgD5QRaBDMEKAPiBOIE2gQCBE=\"},\"xaxis\":\"x\",\"y\":{\"dtype\":\"f8\",\"bdata\":\"SOF6FK5HW0BI4XoULr2gQFyPwvUozIVAAAAAAAAkj0Bcj8L1qK+iQAAAAAAAUZpAPQrXo3BhmUCuR+F6FK5yQD0K16Nw5W1AzczMzMxka0CuR+F6FK5yQNejcD0K52hAzczMzMxka0CkcD0K16NsQHE9Ctej2IlAj8L1KFz\\u002fgkA=\"},\"yaxis\":\"y\",\"type\":\"scatter\"},{\"hovertemplate\":\"brand_name=ikall\\u003cbr\\u003ebattery_capacity=%{x}\\u003cbr\\u003eprice (\\u20ac)=%{y}\\u003cextra\\u003e\\u003c\\u002fextra\\u003e\",\"legendgroup\":\"ikall\",\"marker\":{\"color\":\"#00cc96\",\"opacity\":0.6,\"symbol\":\"circle\"},\"mode\":\"markers\",\"name\":\"ikall\",\"orientation\":\"v\",\"showlegend\":true,\"x\":{\"dtype\":\"i2\",\"bdata\":\"iBOIE4gT\"},\"xaxis\":\"x\",\"y\":{\"dtype\":\"f8\",\"bdata\":\"cT0K16PwUECuR+F6FO5TQD0K16NwLVRA\"},\"yaxis\":\"y\",\"type\":\"scatter\"},{\"hovertemplate\":\"brand_name=infinix\\u003cbr\\u003ebattery_capacity=%{x}\\u003cbr\\u003eprice (\\u20ac)=%{y}\\u003cextra\\u003e\\u003c\\u002fextra\\u003e\",\"legendgroup\":\"infinix\",\"marker\":{\"color\":\"#ab63fa\",\"opacity\":0.6,\"symbol\":\"circle\"},\"mode\":\"markers\",\"name\":\"infinix\",\"orientation\":\"v\",\"showlegend\":true,\"x\":{\"dtype\":\"i2\",\"bdata\":\"iBNwF3AXiBOIE4gTiBNwF4gTiBOIE4gTiBOIE4gTiBOIE4gTiBOUEYgTiBOIE4gTiBOUEYgTlBGUEQ==\"},\"xaxis\":\"x\",\"y\":{\"dtype\":\"f8\",\"bdata\":\"FK5H4XokWECamZmZmelYQDMzMzMzM1ZAuB6F61EIW0AfhetRuL5eQFyPwvUobGZAUrgehevpaEDsUbgehWtWQJqZmZmZ6VhAmpmZmZkxYEAzMzMzM+NfQGZmZmZm7mNAZmZmZmYmXUCamZmZmTFgQIXrUbgeLWVAZmZmZmbuY0D2KFyPwg1lQHsUrkfhqmdAj8L1KFyvYkBSuB6F6+loQJqZmZmZ6VhAhetRuB4tZUDNzMzMzDxSQAAAAAAAcFFAPQrXo3CtVEBcj8L1KGxmQMP1KFyPSmhASOF6FK4Ld0DNzMzMzGRrQA==\"},\"yaxis\":\"y\",\"type\":\"scatter\"},{\"hovertemplate\":\"brand_name=iqoo\\u003cbr\\u003ebattery_capacity=%{x}\\u003cbr\\u003eprice (\\u20ac)=%{y}\\u003cextra\\u003e\\u003c\\u002fextra\\u003e\",\"legendgroup\":\"iqoo\",\"marker\":{\"color\":\"#FFA15A\",\"opacity\":0.6,\"symbol\":\"circle\"},\"mode\":\"markers\",\"name\":\"iqoo\",\"orientation\":\"v\",\"showlegend\":true,\"x\":{\"dtype\":\"i2\",\"bdata\":\"iBOIE1wSMBEwEaAP\\u002fhD+EFwSlBGUEVwSXBJcElwSiBOIE4gTiBOIE4gTiBOIE4gTiBNcElwSXBJoEIgTiBOIEw==\"},\"xaxis\":\"x\",\"y\":{\"dtype\":\"f8\",\"bdata\":\"CtejcD0+hECamZmZma+CQIXrUbgeX4JAmpmZmZkhb0B7FK5H4Wp2QHE9Ctej6HhAj8L1KFzLdUBxPQrXo+h4QHsUrkfhroJAmpmZmZlNc0DNzMzMzMR1QLgehetR5H1AAAAAAAAQckA9CtejcAV1QKRwPQrXo2xA7FG4HoWvckAUrkfheox0QJqZmZmZIW9AzczMzMwMYkBmZmZmZu5jQB+F61G4TmNACtejcD0aZUAzMzMzMwtnQB+F61G4TmNAhetRuB5tYUAUrkfheiRrQHE9CtejcHFArkfhehQmbUBcj8L1KGxmQBSuR+F6JG9Aj8L1KFyvYkDXo3A9CudoQA==\"},\"yaxis\":\"y\",\"type\":\"scatter\"},{\"hovertemplate\":\"brand_name=itel\\u003cbr\\u003ebattery_capacity=%{x}\\u003cbr\\u003eprice (\\u20ac)=%{y}\\u003cextra\\u003e\\u003c\\u002fextra\\u003e\",\"legendgroup\":\"itel\",\"marker\":{\"color\":\"#19d3f3\",\"opacity\":0.6,\"symbol\":\"circle\"},\"mode\":\"markers\",\"name\":\"itel\",\"orientation\":\"v\",\"showlegend\":true,\"x\":{\"dtype\":\"i2\",\"bdata\":\"YAnMC8wLoA+IE6APoA+gD4gTiBM=\"},\"xaxis\":\"x\",\"y\":{\"dtype\":\"f8\",\"bdata\":\"zczMzMzsQ0B7FK5H4dpHQJqZmZmZ2U1AexSuR+FaS0DsUbgehStQQJqZmZmZ2U1ACtejcD1qUUCamZmZmVlNQHE9CtejsFBAMzMzMzPTTEA=\"},\"yaxis\":\"y\",\"type\":\"scatter\"},{\"hovertemplate\":\"brand_name=jio\\u003cbr\\u003ebattery_capacity=%{x}\\u003cbr\\u003eprice (\\u20ac)=%{y}\\u003cextra\\u003e\\u003c\\u002fextra\\u003e\",\"legendgroup\":\"jio\",\"marker\":{\"color\":\"#FF6692\",\"opacity\":0.6,\"symbol\":\"circle\"},\"mode\":\"markers\",\"name\":\"jio\",\"orientation\":\"v\",\"showlegend\":true,\"x\":{\"dtype\":\"i2\",\"bdata\":\"iBOsDbgL8Ao=\"},\"xaxis\":\"x\",\"y\":{\"dtype\":\"f8\",\"bdata\":\"j8L1KFzfXUAK16NwPSpHQI\\u002fC9Shcr1JA7FG4HoVrRkA=\"},\"yaxis\":\"y\",\"type\":\"scatter\"},{\"hovertemplate\":\"brand_name=lava\\u003cbr\\u003ebattery_capacity=%{x}\\u003cbr\\u003eprice (\\u20ac)=%{y}\\u003cextra\\u003e\\u003c\\u002fextra\\u003e\",\"legendgroup\":\"lava\",\"marker\":{\"color\":\"#B6E880\",\"opacity\":0.6,\"symbol\":\"circle\"},\"mode\":\"markers\",\"name\":\"lava\",\"orientation\":\"v\",\"showlegend\":true,\"x\":{\"dtype\":\"i2\",\"bdata\":\"iBOIE4gToA8=\"},\"xaxis\":\"x\",\"y\":{\"dtype\":\"f8\",\"bdata\":\"4XoUrkdpZkBI4XoUrmdbQOxRuB6Fa1ZAAAAAAABwUUA=\"},\"yaxis\":\"y\",\"type\":\"scatter\"},{\"hovertemplate\":\"brand_name=leeco\\u003cbr\\u003ebattery_capacity=%{x}\\u003cbr\\u003eprice (\\u20ac)=%{y}\\u003cextra\\u003e\\u003c\\u002fextra\\u003e\",\"legendgroup\":\"leeco\",\"marker\":{\"color\":\"#FF97FF\",\"opacity\":0.6,\"symbol\":\"circle\"},\"mode\":\"markers\",\"name\":\"leeco\",\"orientation\":\"v\",\"showlegend\":true,\"x\":{\"dtype\":\"i2\",\"bdata\":\"iBM=\"},\"xaxis\":\"x\",\"y\":{\"dtype\":\"f8\",\"bdata\":\"SOF6FK5nW0A=\"},\"yaxis\":\"y\",\"type\":\"scatter\"},{\"hovertemplate\":\"brand_name=leitz\\u003cbr\\u003ebattery_capacity=%{x}\\u003cbr\\u003eprice (\\u20ac)=%{y}\\u003cextra\\u003e\\u003c\\u002fextra\\u003e\",\"legendgroup\":\"leitz\",\"marker\":{\"color\":\"#FECB52\",\"opacity\":0.6,\"symbol\":\"circle\"},\"mode\":\"markers\",\"name\":\"leitz\",\"orientation\":\"v\",\"showlegend\":true,\"x\":{\"dtype\":\"i2\",\"bdata\":\"iBM=\"},\"xaxis\":\"x\",\"y\":{\"dtype\":\"f8\",\"bdata\":\"mpmZmZl2k0A=\"},\"yaxis\":\"y\",\"type\":\"scatter\"},{\"hovertemplate\":\"brand_name=lenovo\\u003cbr\\u003ebattery_capacity=%{x}\\u003cbr\\u003eprice (\\u20ac)=%{y}\\u003cextra\\u003e\\u003c\\u002fextra\\u003e\",\"legendgroup\":\"lenovo\",\"marker\":{\"color\":\"#636efa\",\"opacity\":0.6,\"symbol\":\"circle\"},\"mode\":\"markers\",\"name\":\"lenovo\",\"orientation\":\"v\",\"showlegend\":true,\"x\":{\"dtype\":\"i2\",\"bdata\":\"iBPgFQ==\"},\"xaxis\":\"x\",\"y\":{\"dtype\":\"f8\",\"bdata\":\"mpmZmZmvgkDNzMzMzER9QA==\"},\"yaxis\":\"y\",\"type\":\"scatter\"},{\"hovertemplate\":\"brand_name=letv\\u003cbr\\u003ebattery_capacity=%{x}\\u003cbr\\u003eprice (\\u20ac)=%{y}\\u003cextra\\u003e\\u003c\\u002fextra\\u003e\",\"legendgroup\":\"letv\",\"marker\":{\"color\":\"#EF553B\",\"opacity\":0.6,\"symbol\":\"circle\"},\"mode\":\"markers\",\"name\":\"letv\",\"orientation\":\"v\",\"showlegend\":true,\"x\":{\"dtype\":\"i2\",\"bdata\":\"oA+gD6AP\"},\"xaxis\":\"x\",\"y\":{\"dtype\":\"f8\",\"bdata\":\"ZmZmZmZmS0CF61G4HuVNQAAAAAAAcFFA\"},\"yaxis\":\"y\",\"type\":\"scatter\"},{\"hovertemplate\":\"brand_name=lg\\u003cbr\\u003ebattery_capacity=%{x}\\u003cbr\\u003eprice (\\u20ac)=%{y}\\u003cextra\\u003e\\u003c\\u002fextra\\u003e\",\"legendgroup\":\"lg\",\"marker\":{\"color\":\"#00cc96\",\"opacity\":0.6,\"symbol\":\"circle\"},\"mode\":\"markers\",\"name\":\"lg\",\"orientation\":\"v\",\"showlegend\":true,\"x\":{\"dtype\":\"i2\",\"bdata\":\"iBPMEKAP\"},\"xaxis\":\"x\",\"y\":{\"dtype\":\"f8\",\"bdata\":\"PQrXo3DpiEApXI\\u002fC9SCBQClcj8L1IIFA\"},\"yaxis\":\"y\",\"type\":\"scatter\"},{\"hovertemplate\":\"brand_name=lyf\\u003cbr\\u003ebattery_capacity=%{x}\\u003cbr\\u003eprice (\\u20ac)=%{y}\\u003cextra\\u003e\\u003c\\u002fextra\\u003e\",\"legendgroup\":\"lyf\",\"marker\":{\"color\":\"#ab63fa\",\"opacity\":0.6,\"symbol\":\"circle\"},\"mode\":\"markers\",\"name\":\"lyf\",\"orientation\":\"v\",\"showlegend\":true,\"x\":{\"dtype\":\"i2\",\"bdata\":\"rA3ECQ==\"},\"xaxis\":\"x\",\"y\":{\"dtype\":\"f8\",\"bdata\":\"4XoUrkfhQ0DD9Shcj2JDQA==\"},\"yaxis\":\"y\",\"type\":\"scatter\"},{\"hovertemplate\":\"brand_name=micromax\\u003cbr\\u003ebattery_capacity=%{x}\\u003cbr\\u003eprice (\\u20ac)=%{y}\\u003cextra\\u003e\\u003c\\u002fextra\\u003e\",\"legendgroup\":\"micromax\",\"marker\":{\"color\":\"#FFA15A\",\"opacity\":0.6,\"symbol\":\"circle\"},\"mode\":\"markers\",\"name\":\"micromax\",\"orientation\":\"v\",\"showlegend\":true,\"x\":{\"dtype\":\"i2\",\"bdata\":\"iBOIE4gT\"},\"xaxis\":\"x\",\"y\":{\"dtype\":\"f8\",\"bdata\":\"AAAAAABwUUApXI\\u002fC9WhTQIXrUbge5U1A\"},\"yaxis\":\"y\",\"type\":\"scatter\"},{\"hovertemplate\":\"brand_name=motorola\\u003cbr\\u003ebattery_capacity=%{x}\\u003cbr\\u003eprice (\\u20ac)=%{y}\\u003cextra\\u003e\\u003c\\u002fextra\\u003e\",\"legendgroup\":\"motorola\",\"marker\":{\"color\":\"#19d3f3\",\"opacity\":0.6,\"symbol\":\"circle\"},\"mode\":\"markers\",\"name\":\"motorola\",\"orientation\":\"v\",\"showlegend\":true,\"x\":{\"dtype\":\"i2\",\"bdata\":\"iBO0D7QPMBHAEgISAhJoEJQRwBKIE4gTiBOIE4gTiBOIE4gTtA+IE4gTYhGIE4gTiBOIE4gTiBOIE3AXiBOIE4gTiBOIE4gTcBeIE4gTiBOIE4gTiBOIE4gTiBMwEWIR+BGIE6APiBM=\"},\"xaxis\":\"x\",\"y\":{\"dtype\":\"f8\",\"bdata\":\"exSuR+GqZ0AfhetRuKZsQBSuR+F6JG9ArkfhehTqeEDNzMzMzMx1QClcj8L1IIFAmpmZmZmvgkDNzMzMzMx1QNejcD0Kx3pAexSuR+GugkBcj8L1KBCCQBSuR+F6BGxAuB6F61EoWkAK16NwPXpWQOxRuB6Fa1ZAuB6F61HoU0DD9ShcjxJWQK5H4XoU7lNAKVyPwvXsc0DD9Shcj+JtQI\\u002fC9Shcy3VAexSuR+GugkDXo3A9CudoQGZmZmZm7mNAexSuR+GqV0BSuB6F6+loQJqZmZmZ6VhAhetRuB7lXUC4HoXrUShaQAAAAAAAEGJASOF6FK5nW0CamZmZmTFgQIXrUbge5V1AmpmZmZkxYECF61G4Hi1lQEjhehSuZ2tAZmZmZmbuY0D2KFyPwo1kQI\\u002fC9Shcr2JAhetRuB4tZUDXo3A9CudoQGZmZmZm7mNA9ihcj8IxcEDhehSuR4lpQHsUrkfhqmdA16NwPQrnaEDD9Shcj+JtQOxRuB6FJ3pArkfhehTqeEDD9Shcj0poQHE9CtejoFxAMzMzMzMjf0A=\"},\"yaxis\":\"y\",\"type\":\"scatter\"},{\"hovertemplate\":\"brand_name=nokia\\u003cbr\\u003ebattery_capacity=%{x}\\u003cbr\\u003eprice (\\u20ac)=%{y}\\u003cextra\\u003e\\u003c\\u002fextra\\u003e\",\"legendgroup\":\"nokia\",\"marker\":{\"color\":\"#FF6692\",\"opacity\":0.6,\"symbol\":\"circle\"},\"mode\":\"markers\",\"name\":\"nokia\",\"orientation\":\"v\",\"showlegend\":true,\"x\":{\"dtype\":\"i2\",\"bdata\":\"uAu6E7oTiBO6E7oTlBFwF3YRaBBwF3AXcBc=\"},\"xaxis\":\"x\",\"y\":{\"dtype\":\"f8\",\"bdata\":\"SOF6FK4nSkDsUbgehWtWQHsUrkfhqldAuB6F61EoWkCF61G4HuVdQClcj8L10GBAXI\\u002fC9SjAcUAK16NwPUZ9QOF6FK5HaWZA7FG4HoUnekDNzMzMzMx1QHE9Ctej6HhAMzMzMzMjf0A=\"},\"yaxis\":\"y\",\"type\":\"scatter\"},{\"hovertemplate\":\"brand_name=nothing\\u003cbr\\u003ebattery_capacity=%{x}\\u003cbr\\u003eprice (\\u20ac)=%{y}\\u003cextra\\u003e\\u003c\\u002fextra\\u003e\",\"legendgroup\":\"nothing\",\"marker\":{\"color\":\"#B6E880\",\"opacity\":0.6,\"symbol\":\"circle\"},\"mode\":\"markers\",\"name\":\"nothing\",\"orientation\":\"v\",\"showlegend\":true,\"x\":{\"dtype\":\"i2\",\"bdata\":\"lBGUEZQRiBNcEg==\"},\"xaxis\":\"x\",\"y\":{\"dtype\":\"f8\",\"bdata\":\"4XoUrkepcEC4HoXrUWx2QBSuR+F6mHFAmpmZmZkhb0BxPQrXo+h4QA==\"},\"yaxis\":\"y\",\"type\":\"scatter\"},{\"hovertemplate\":\"brand_name=nubia\\u003cbr\\u003ebattery_capacity=%{x}\\u003cbr\\u003eprice (\\u20ac)=%{y}\\u003cextra\\u003e\\u003c\\u002fextra\\u003e\",\"legendgroup\":\"nubia\",\"marker\":{\"color\":\"#FF97FF\",\"opacity\":0.6,\"symbol\":\"circle\"},\"mode\":\"markers\",\"name\":\"nubia\",\"orientation\":\"v\",\"showlegend\":true,\"x\":{\"dtype\":\"i2\",\"bdata\":\"uhOIE3AXiBOIE4gT\"},\"xaxis\":\"x\",\"y\":{\"dtype\":\"f8\",\"bdata\":\"j8L1KFwHfEBxPQrXo\\u002f6CQM3MzMzMRH1Aj8L1KFz\\u002fgkAzMzMzMyN\\u002fQM3MzMzMzHVA\"},\"yaxis\":\"y\",\"type\":\"scatter\"},{\"hovertemplate\":\"brand_name=oneplus\\u003cbr\\u003ebattery_capacity=%{x}\\u003cbr\\u003eprice (\\u20ac)=%{y}\\u003cextra\\u003e\\u003c\\u002fextra\\u003e\",\"legendgroup\":\"oneplus\",\"marker\":{\"color\":\"#FECB52\",\"opacity\":0.6,\"symbol\":\"circle\"},\"mode\":\"markers\",\"name\":\"oneplus\",\"orientation\":\"v\",\"showlegend\":true,\"x\":{\"dtype\":\"i2\",\"bdata\":\"iBOIE4gTiBOIE4gTwBLAEsASiBOUEYgTwBLkDJQRlBGUEYgTlBHAEogTcBeIE5QRlBFoEJQRlBGIE4gTiBOIE4gTiBPMEMwQiBOUEYgTiBOUEcwQ\"},\"xaxis\":\"x\",\"y\":{\"dtype\":\"f8\",\"bdata\":\"j8L1KFz\\u002fgkCuR+F6FGaEQOxRuB6FW4dAUrgeheuNdEBI4XoUrgt3QNejcD0KC3ZAj8L1KFwHfEBcj8L1KMR\\u002fQB+F61G4cIFAKVyPwvUggUB7FK5H4cyFQK5H4XoU6nhAexSuR+HMhUBxPQrXo3BxQGZmZmZmLoRAFK5H4XrIekCPwvUoXAd8QM3MzMzMzHVAw\\u002fUoXI8OckC4HoXrUeR9QKRwPQrXo2xAj8L1KFyvYkAfhetRuKZsQJqZmZmZHXVAAAAAAAAQckBxPQrXo3BxQK5H4XoUrnJA7FG4HoWvckDNzMzMzMx1QB+F61G45mhAZmZmZmZma0AUrkfheiRvQEjhehSuZ2tAexSuR+GqZ0BSuB6F6+loQMP1KFyP4m9ACtejcD0qZUCuR+F6FCZqQArXo3A9KmVAAAAAAACoZ0BSuB6F6+loQBSuR+F6JG9A\"},\"yaxis\":\"y\",\"type\":\"scatter\"},{\"hovertemplate\":\"brand_name=oppo\\u003cbr\\u003ebattery_capacity=%{x}\\u003cbr\\u003eprice (\\u20ac)=%{y}\\u003cextra\\u003e\\u003c\\u002fextra\\u003e\",\"legendgroup\":\"oppo\",\"marker\":{\"color\":\"#636efa\",\"opacity\":0.6,\"symbol\":\"circle\"},\"mode\":\"markers\",\"name\":\"oppo\",\"orientation\":\"v\",\"showlegend\":true,\"x\":{\"dtype\":\"i2\",\"bdata\":\"wBKGEIYQhhCIE4YQhhCGEIgTiBOGEIgTiBOIE4gTiBOIE4gTiBOIE4gTiBOIE4gTgAyIE4gTiBOIE4gTiBOIE4gTlBGIE4gTrw+IE9YQ1hCIE5QRlBGUEZQRwBKUEZQRlBHMEIgTqBHMEJQRiBNcElwSiBOIE4gTiBOIE6APiBOIE1wSzBD+EKAPzBCUEZQRlBGUEZQRlBGUEYgTiBOUEZQRXBLAEpQRlBGUEZQRoA8=\"},\"xaxis\":\"x\",\"y\":{\"dtype\":\"f8\",\"bdata\":\"rkfhehQmakCkcD0K1+NYQJqZmZmZ6VhAcT0K16OgXECF61G4HuVdQOxRuB6Fa1ZA7FG4HoVrVkBI4XoUrmdbQBSuR+F6JF9AexSuR+GqV0AfhetRuB5fQD0K16NwbWFAhetRuB5lXkCPwvUoXN9dQI\\u002fC9Shcr2JAKVyPwvXQYEAAAAAAAFBiQOF6FK5HaWZA4XoUrkdpZkCamZmZmTFgQI\\u002fC9Shc311A16NwPQpnYUAAAAAAAKhnQD0K16NwbWFA7FG4HoXrY0CkcD0K10tjQHsUrkfhimRAH4XrUbhOY0CuR+F6FO5jQM3MzMzMZGtAXI\\u002fC9ShsZkB7FK5H4apnQFyPwvUobGZApHA9CtejbEDD9Shcj+JtQJqZmZmZTXNAAAAAAACoZ0AUrkfheqxiQMP1KFyPamZA16NwPQrnaEB7FK5H4epjQClcj8L1KGpAKVyPwvUscECF61G4HiFwQAAAAAAASGtAw\\u002fUoXI86cUDXo3A9CudoQDMzMzMzb3FAzczMzMy6jEAfhetRuAaMQAAAAAAAJI9Aj8L1KFyVjUBSuB6F6xuGQB+F61G4wn9APQrXo3DpiEBcj8L1KMyFQAAAAAAASohArkfhehTOYEAK16NwPSplQIXrUbgeLWVArkfhehSuckAK16NwPSplQNejcD0K52hAUrgeheuNdEDXo3A9Csd6QIXrUbgeX4JArkfhehSuckB7FK5H4Rp4QKRwPQrXo2xAZmZmZmZucECamZmZmeV2QFK4HoXrBXxAFK5H4XqMdEDXo3A9Csd6QHsUrkfhpnxAexSuR+GmfEBI4XoUrs9wQK5H4XoUrnJAUrgehevpaEC4HoXrUcBxQK5H4XoU6nhAexSuR+GmfECkcD0K16NsQClcj8L1MHBAmpmZmZntc0Bcj8L1KGxmQGZmZmZmRnJAmpmZmZkFlUA=\"},\"yaxis\":\"y\",\"type\":\"scatter\"},{\"hovertemplate\":\"brand_name=oukitel\\u003cbr\\u003ebattery_capacity=%{x}\\u003cbr\\u003eprice (\\u20ac)=%{y}\\u003cextra\\u003e\\u003c\\u002fextra\\u003e\",\"legendgroup\":\"oukitel\",\"marker\":{\"color\":\"#EF553B\",\"opacity\":0.6,\"symbol\":\"circle\"},\"mode\":\"markers\",\"name\":\"oukitel\",\"orientation\":\"v\",\"showlegend\":true,\"x\":{\"dtype\":\"i2\",\"bdata\":\"CFJIJkAf\"},\"xaxis\":\"x\",\"y\":{\"dtype\":\"f8\",\"bdata\":\"rkfhehSuckCkcD0K16NsQPYoXI\\u002fCIXBA\"},\"yaxis\":\"y\",\"type\":\"scatter\"},{\"hovertemplate\":\"brand_name=poco\\u003cbr\\u003ebattery_capacity=%{x}\\u003cbr\\u003eprice (\\u20ac)=%{y}\\u003cextra\\u003e\\u003c\\u002fextra\\u003e\",\"legendgroup\":\"poco\",\"marker\":{\"color\":\"#00cc96\",\"opacity\":0.6,\"symbol\":\"circle\"},\"mode\":\"markers\",\"name\":\"poco\",\"orientation\":\"v\",\"showlegend\":true,\"x\":{\"dtype\":\"i2\",\"bdata\":\"iBOIE4gTiBOIE8kTlBGUEZQRXBJcEpQRfBWIE4gTcBeIE4gTiBOIE4gTiBOIE4gTiBOIE4gTiBPsE3AXKBSIE9gT2BOIE4gTiBOIE4gTiBOIEw==\"},\"xaxis\":\"x\",\"y\":{\"dtype\":\"f8\",\"bdata\":\"4XoUrkcxUECPwvUoXK9SQOF6FK5HMVBAj8L1KFwvUkCuR+F6FO5TQFK4HoXrjXRA7FG4HoWvckD2KFyPwjFwQHE9CtejcHFArkfhehTqeECPwvUoXMt1QBSuR+F6yHpA7FG4HoWvckBSuB6F6yFbQDMzMzMz419AZmZmZmamXEBmZmZmZu5jQEjhehSub2JAZmZmZmamXEApXI\\u002fC9dBgQIXrUbge5V1AmpmZmZkxYEC4HoXrUXBhQJqZmZmZMWBAj8L1KFyvYkBmZmZmZu5jQEjhehSu51pAAAAAAAAQYkDXo3A9CudoQClcj8L10GBAw\\u002fUoXI96aEAUrkfheqxiQJqZmZmZIW9Aw\\u002fUoXI8OckCPwvUoXK9iQPYoXI\\u002fCjWRAXI\\u002fC9ShsZkCPwvUoXK9iQK5H4XoUrnJAKVyPwvUoakBSuB6F6+loQA==\"},\"yaxis\":\"y\",\"type\":\"scatter\"},{\"hovertemplate\":\"brand_name=realme\\u003cbr\\u003ebattery_capacity=%{x}\\u003cbr\\u003eprice (\\u20ac)=%{y}\\u003cextra\\u003e\\u003c\\u002fextra\\u003e\",\"legendgroup\":\"realme\",\"marker\":{\"color\":\"#ab63fa\",\"opacity\":0.6,\"symbol\":\"circle\"},\"mode\":\"markers\",\"name\":\"realme\",\"orientation\":\"v\",\"showlegend\":true,\"x\":{\"dtype\":\"i2\",\"bdata\":\"iBOIE4gTiBOIE4gTiBOIE4gTaBDMEMwQlBGIE4gTiBOIE4gTiBOIE4gTiBOIE4gTiBOIE4gTiBOIE5QRlBGUEYgTiBOIE4gTiBOgD4gTiBOIE6APiBOIE6APiBOIE4gTiBOIE4gTiBOIE4gTiBOIE4gTcBeIE4gTiBOIE5QRlBHMEIgTiBOIE4gTiBP4EYgTcBeIE4gTiBOIE4gTiBOIE4gTiBNwF4gTiBOIE4gTiBOIE4gTiBOIE4gTaBBoEJQRoA8=\"},\"xaxis\":\"x\",\"y\":{\"dtype\":\"f8\",\"bdata\":\"uB6F61FwYUCF61G4Hi1lQAAAAAAAEGJAexSuR+GqZ0BSuB6F6+loQBSuR+F6JG9AcT0K16NwcUCamZmZmTFgQAAAAAAAEHJAFK5H4Xokb0BmZmZmZi5gQIXrUbgeDWJASOF6FK5na0BmZmZmZu5jQFyPwvUobGZA9ihcj8KNZEDsUbgehQtnQBSuR+F6JF9AuB6F61FwYUBcj8L1KGxmQM3MzMzMzGVAj8L1KFyvYkBmZmZmZu5jQLgehetRcGFAH4XrUbhOY0B7FK5H4apnQGZmZmZmpmxAexSuR+GqZ0ApXI\\u002fC9ShqQFK4HoXrIXBAhetRuB6lbEDsUbgehYNuQBSuR+F6JF9AuB6F61FwYUCPwvUoXK9iQBSuR+F6pGJAhetRuB4tZUDsUbgehWtWQOxRuB6FK1BA4XoUrkcxUEAfhetRuE5TQAAAAAAAcFFAAAAAAABwUUDsUbgehWtWQI\\u002fC9Shcb0FASOF6FK5nSkCkcD0K12NPQD0K16NwzVFA9ihcj8JlVkA9CtejcK1UQOxRuB6Fa1ZAexSuR+GqV0DNzMzMzExWQJqZmZmZ6VhAuB6F61F4XUBcj8L1KNxfQLgehetRcGFArkfhehTuU0AzMzMzMw9yQFyPwvUoiHlACtejcD0ef0AK16NwPUZ9QArXo3A9TnNAFK5H4XqMdEBxPQrXo3BxQJqZmZmZ7XNAFK5H4Xokb0A9CtejcIFwQLgehetRwHFA7FG4HoWvckDNzMzMzMx1QGZmZmZm7nNAuB6F61EoWkCF61G4Hi1lQFK4HoXr6WhASOF6FK5nW0AfhetRuE5jQFyPwvUobGZAj8L1KFyvYkApXI\\u002fC9dBgQGZmZmZmhmlAH4XrUbimbEBmZmZmZqZcQGZmZmZmZlxAKVyPwvWYXUDsUbgehStQQOxRuB6Fa1ZArkfhehTuU0CamZmZmblVQJqZmZmZ6VhAj8L1KFyvYkBSuB6F62FbQBSuR+F6rGJAcT0K16NwcUAUrkfheiRvQIXrUbge0XBAexSuR+GKYEA=\"},\"yaxis\":\"y\",\"type\":\"scatter\"},{\"hovertemplate\":\"brand_name=redmi\\u003cbr\\u003ebattery_capacity=%{x}\\u003cbr\\u003eprice (\\u20ac)=%{y}\\u003cextra\\u003e\\u003c\\u002fextra\\u003e\",\"legendgroup\":\"redmi\",\"marker\":{\"color\":\"#FFA15A\",\"opacity\":0.6,\"symbol\":\"circle\"},\"mode\":\"markers\",\"name\":\"redmi\",\"orientation\":\"v\",\"showlegend\":true,\"x\":{\"dtype\":\"i2\",\"bdata\":\"iBOIE4gT\"},\"xaxis\":\"x\",\"y\":{\"dtype\":\"f8\",\"bdata\":\"rkfhehTuU0B7FK5H4apnQFK4HoXr6WhA\"},\"yaxis\":\"y\",\"type\":\"scatter\"},{\"hovertemplate\":\"brand_name=royole\\u003cbr\\u003ebattery_capacity=%{x}\\u003cbr\\u003eprice (\\u20ac)=%{y}\\u003cextra\\u003e\\u003c\\u002fextra\\u003e\",\"legendgroup\":\"royole\",\"marker\":{\"color\":\"#19d3f3\",\"opacity\":0.6,\"symbol\":\"circle\"},\"mode\":\"markers\",\"name\":\"royole\",\"orientation\":\"v\",\"showlegend\":true,\"x\":{\"dtype\":\"i2\",\"bdata\":\"YhEgDQ==\"},\"xaxis\":\"x\",\"y\":{\"dtype\":\"f8\",\"bdata\":\"AAAAAAAhkUDD9Shcj1uXQA==\"},\"yaxis\":\"y\",\"type\":\"scatter\"},{\"hovertemplate\":\"brand_name=samsung\\u003cbr\\u003ebattery_capacity=%{x}\\u003cbr\\u003eprice (\\u20ac)=%{y}\\u003cextra\\u003e\\u003c\\u002fextra\\u003e\",\"legendgroup\":\"samsung\",\"marker\":{\"color\":\"#FF6692\",\"opacity\":0.6,\"symbol\":\"circle\"},\"mode\":\"markers\",\"name\":\"samsung\",\"orientation\":\"v\",\"showlegend\":true,\"x\":{\"dtype\":\"i2\",\"bdata\":\"uAuIE4gTiBOIE4gTiBOIE4gTiBOIE4gTiBOgD4gTiBOIE4gTiBOIE4gTiBOIE4gTiBOIE4gTiBOIE4gTiBOgD4gTiBOIE4gTiBOIExwMoA+UEZQRiBOIE4gTiBPkDJQRiBOIE4gTiBOUEZQRSA2IE4gTcBdwF3AXiBNwF3AXiBOIE4gTcBeIE4gTWBuIE4gTcBdwF3AXiBOIE3AXcBdwF3AXcBdwF3AXcBdwF3AXcBeIE4gTiBNwF1gblBHMEMwQzBCUEZQRBBCgD6APlBGUEZQRlBGIE6APlBGUEcASiBOIE3QOdA5oEJQRlBGIE4gTiBM8D5QRXBKIE+wTrA3kDHQOMBEwETAR\"},\"xaxis\":\"x\",\"y\":{\"dtype\":\"f8\",\"bdata\":\"KVyPwvXoSECPwvUoXA9SQGZmZmZmplxA4XoUrkcxUEDNzMzMzCxVQIXrUbge5V1AmpmZmZkxYEB7FK5H4SpXQArXo3A9ylhAZmZmZmamXEAfhetRuC5gQAAAAAAAEGJAH4XrUbguYECkcD0K1+NYQIXrUbge5V1AuB6F61FwYUC4HoXrUQBiQI\\u002fC9Shcr2JA9ihcj8KNZEDhehSuR2lmQPYoXI\\u002fCjWRAexSuR+GqZ0ApXI\\u002fC9ShqQOxRuB6F62NAzczMzMzMZUDsUbgehQtnQOF6FK5HaWZA7FG4HoULZ0DXo3A9CudoQB+F61G4pmxAFK5H4Xokb0Bcj8L1KGxmQPYoXI\\u002fCjWRA9ihcj8KNZECF61G4HoVuQPYoXI\\u002fCMXBAKVyPwvUgcUAUrkfheiRvQOF6FK5HaWZA7FG4HoXrY0CamZmZmSFvQPYoXI\\u002fCBWxAAAAAAAC8dkBmZmZmZu5zQJqZmZmZ3XRAzczMzMzMdUA9CtejcMVqQPYoXI\\u002fCBWxAKVyPwvUoekDsUbgehSd6QBSuR+F6yHpAj8L1KFwHfEBxPQrXo+h4QHE9Ctej6HhAcT0K16PoeEC4HoXrUeR9QM3MzMzMLFVAuB6F61EoWkBI4XoUrmdbQIXrUbge5V1AFK5H4XqsYkBmZmZmZqZcQClcj8L10GBAZmZmZmbuY0CF61G4Hi1lQI\\u002fC9Shcr2JAUrgehevpaECkcD0K10tjQB+F61G4pmxASOF6FK5na0DNzMzMzCxVQHsUrkfhqldASOF6FK5nW0CamZmZmTFgQFyPwvUofFpAuB6F61FwYUAAAAAAACBgQI\\u002fC9Shcr2JAZmZmZmY2XUCuR+F6FM5eQIXrUbgeDWJAw\\u002fUoXI8yXkDD9Shcj4JiQK5H4XoUxmVAw\\u002fUoXI9KaECF61G4Hi1lQB+F61G4pmxAmpmZmZkhb0CamZmZmSFvQHsUrkfhom1AKVyPwvWAb0DNzMzMzMx1QD0K16Nw5W1ArkfhehTqeECkcD0K11+CQHE9Ctej9oxAcT0K16PIikBI4XoUrlmQQEjhehSumYhAFK5H4XrIekApXI\\u002fC9Sh6QOxRuB6FW4dAexSuR+EadkDhehSuR3VzQD0K16Nw2YlApHA9CtfHikAfhetRuCSPQD0K16NwdX5ArkfhehTqeECkcD0K12d7QKRwPQrXg4JAw\\u002fUoXI+BkEBcj8L1KMSPQHE9CtejJH9AXI\\u002fC9SgQgkD2KFyPwjGAQGZmZmZmEoRASOF6FK63i0B7FK5H4aaMQPYoXI\\u002fCh5JAAAAAAAAkj0BSuB6F6xuGQClcj8L1IIFArkfhehR4ikApXI\\u002fC9eeRQOF6FK5Hr5JAzczMzMzMdUB7FK5H4cyFQD0K16NwB4xAexSuR+FIkUCkcD0K1yKYQHsUrkfhiJlA\"},\"yaxis\":\"y\",\"type\":\"scatter\"},{\"hovertemplate\":\"brand_name=sharp\\u003cbr\\u003ebattery_capacity=%{x}\\u003cbr\\u003eprice (\\u20ac)=%{y}\\u003cextra\\u003e\\u003c\\u002fextra\\u003e\",\"legendgroup\":\"sharp\",\"marker\":{\"color\":\"#B6E880\",\"opacity\":0.6,\"symbol\":\"circle\"},\"mode\":\"markers\",\"name\":\"sharp\",\"orientation\":\"v\",\"showlegend\":true,\"x\":{\"dtype\":\"i2\",\"bdata\":\"kg4=\"},\"xaxis\":\"x\",\"y\":{\"dtype\":\"f8\",\"bdata\":\"exSuR+GugkA=\"},\"yaxis\":\"y\",\"type\":\"scatter\"},{\"hovertemplate\":\"brand_name=sony\\u003cbr\\u003ebattery_capacity=%{x}\\u003cbr\\u003eprice (\\u20ac)=%{y}\\u003cextra\\u003e\\u003c\\u002fextra\\u003e\",\"legendgroup\":\"sony\",\"marker\":{\"color\":\"#FF97FF\",\"opacity\":0.6,\"symbol\":\"circle\"},\"mode\":\"markers\",\"name\":\"sony\",\"orientation\":\"v\",\"showlegend\":true,\"x\":{\"dtype\":\"i2\",\"bdata\":\"oA+IExAOlBGgD4gTiBOgD5QR\"},\"xaxis\":\"x\",\"y\":{\"dtype\":\"f8\",\"bdata\":\"exSuR+HMhUCF61G4HvWMQHE9CtejcHFAmpmZmZlNc0Bcj8L1KMyFQJqZmZmZmYlA16NwPQrnaEDsUbgehetjQJqZmZmZBZVA\"},\"yaxis\":\"y\",\"type\":\"scatter\"},{\"hovertemplate\":\"brand_name=tcl\\u003cbr\\u003ebattery_capacity=%{x}\\u003cbr\\u003eprice (\\u20ac)=%{y}\\u003cextra\\u003e\\u003c\\u002fextra\\u003e\",\"legendgroup\":\"tcl\",\"marker\":{\"color\":\"#FECB52\",\"opacity\":0.6,\"symbol\":\"circle\"},\"mode\":\"markers\",\"name\":\"tcl\",\"orientation\":\"v\",\"showlegend\":true,\"x\":{\"dtype\":\"i2\",\"bdata\":\"uAs=\"},\"xaxis\":\"x\",\"y\":{\"dtype\":\"f8\",\"bdata\":\"9ihcj8JlVkA=\"},\"yaxis\":\"y\",\"type\":\"scatter\"},{\"hovertemplate\":\"brand_name=tecno\\u003cbr\\u003ebattery_capacity=%{x}\\u003cbr\\u003eprice (\\u20ac)=%{y}\\u003cextra\\u003e\\u003c\\u002fextra\\u003e\",\"legendgroup\":\"tecno\",\"marker\":{\"color\":\"#636efa\",\"opacity\":0.6,\"symbol\":\"circle\"},\"mode\":\"markers\",\"name\":\"tecno\",\"orientation\":\"v\",\"showlegend\":true,\"x\":{\"dtype\":\"i2\",\"bdata\":\"iBOIE4gTiBOIE4gTiBNcEogTKBQoFKAPiBNYG1gbWBtwF3AXcBdYG3AXiBOIE4gTiBOIE4gTiBOIE4gTiBOIE4gT\"},\"xaxis\":\"x\",\"y\":{\"dtype\":\"f8\",\"bdata\":\"ZmZmZmamXEAfhetRuF5iQI\\u002fC9Shcr2JA4XoUrkdpZkBI4XoUrmdrQFyPwvUobGZAKVyPwvUoakD2KFyPwjFwQB+F61G4pmxArkfhehTqeEBxPQrXoyR\\u002fQAAAAAAAcFFApHA9CtdjT0BI4XoUrmdbQJqZmZmZ6VhAcT0K16MwYUCF61G4HuVdQGZmZmZm7mNAH4XrUbhOY0A9CtejcG1hQB+F61G4TmNA7FG4HoVrVkBcj8L1KOxVQI\\u002fC9Shcb1JAZmZmZmYmVkCuR+F6FO5TQOxRuB6Fa1ZA16NwPQrnVECuR+F6FO5TQJqZmZmZ6VhAuB6F61FYVkCkcD0K1yNPQAAAAAAAcFFA\"},\"yaxis\":\"y\",\"type\":\"scatter\"},{\"hovertemplate\":\"brand_name=vertu\\u003cbr\\u003ebattery_capacity=%{x}\\u003cbr\\u003eprice (\\u20ac)=%{y}\\u003cextra\\u003e\\u003c\\u002fextra\\u003e\",\"legendgroup\":\"vertu\",\"marker\":{\"color\":\"#EF553B\",\"opacity\":0.6,\"symbol\":\"circle\"},\"mode\":\"markers\",\"name\":\"vertu\",\"orientation\":\"v\",\"showlegend\":true,\"x\":{\"dtype\":\"i2\",\"bdata\":\"4wg=\"},\"xaxis\":\"x\",\"y\":{\"dtype\":\"f8\",\"bdata\":\"ZmZmZuZNuUA=\"},\"yaxis\":\"y\",\"type\":\"scatter\"},{\"hovertemplate\":\"brand_name=vivo\\u003cbr\\u003ebattery_capacity=%{x}\\u003cbr\\u003eprice (\\u20ac)=%{y}\\u003cextra\\u003e\\u003c\\u002fextra\\u003e\",\"legendgroup\":\"vivo\",\"marker\":{\"color\":\"#00cc96\",\"opacity\":0.6,\"symbol\":\"circle\"},\"mode\":\"markers\",\"name\":\"vivo\",\"orientation\":\"v\",\"showlegend\":true,\"x\":{\"dtype\":\"i2\",\"bdata\":\"lBH4EfgRiBOIE4gTiBOIE4gTiBNcElwSiBOIE4gTXBKUEXAXXBKIE4gTiBPzDHQOlBGgD6APBBCgD6APzBCgD2gQaBDMEMwQ0g\\u002fSD5QRlBHeEt4SlBHAElwSiBOIE4gTwBL4EfgRehKIE5QRlBFcEpQRyhIGE1wSiBOIE4gTiBOIE4gTiBOIE4gTiBOIE4gTiBOIE4gTiBOIE4gTiBOIE4gTiBOIE4gTiBOIE4gTiBNsB4gTiBOIE4gTiBOIE3AXiBOIE6oKiBNwFyANoA9wF9IPiBOUEZQRvg++D74P\"},\"xaxis\":\"x\",\"y\":{\"dtype\":\"f8\",\"bdata\":\"7FG4HoWvckCuR+F6FK5yQBSuR+F6HHZAMzMzMzMjf0AAAAAAABBiQGZmZmZm7mNAXI\\u002fC9ShsZkDsUbgehetjQArXo3A9KmVA16NwPQrnaEA9CtejcOVtQBSuR+F6JG9AmpmZmZkxYECPwvUoXK9iQIXrUbge5V1AmpmZmZkhb0CuR+F6FK5yQAAAAAAAqGdAKVyPwvXsc0CkcD0K1+NYQI\\u002fC9Shc311A9ihcj8JlVkCuR+F6FCZqQM3MzMzMJG9AMzMzMzNvcUDNzMzMzPxsQOF6FK5H0XBAMzMzMzOrZ0AUrkfheiRvQKRwPQrX421AUrgeheuNdEDsUbgeha9yQHsUrkfhIm9ApHA9CtdvcUCamZmZme1zQHsUrkfhCndASOF6FK7PcECuR+F6FGZrQGZmZmZm7nNAcT0K16NwcUCuR+F6FOp4QLgehetRbHZA16NwPQrnaEDXo3A9Csd6QDMzMzMzb3FApHA9Ctdne0DD9Shcjw5yQBSuR+F6jHRA4XoUrkevkkDXo3A9CqmQQGZmZmZmh5JArkfhehTAkUBxPQrXo9iJQClcj8L1IIFAmpmZmZmvgkBcj8L1KOqIQHE9Ctej2IlA7FG4HoUnekBmZmZmZsCBQPYoXI\\u002fCC4dArkfhehTuU0ApXI\\u002fC9WhTQOxRuB6Fa1ZArkfhehTuU0D2KFyPwmVWQB+F61G4Hl9ArkfhehSuckCF61G4HqVXQLgehetRaFtAmpmZmZnpWECPwvUoXN9dQBSuR+F6JF9AzczMzMwsVUDD9ShcjyJaQM3MzMzMLFVAmpmZmZnpWEC4HoXrUShaQK5H4XoUHl9ACtejcD3qaEA9CtejcG1hQKRwPQrX41hA9ihcj8LNYEAUrkfheiRfQBSuR+F6rGJAH4XrUbhOY0AAAAAAABBiQPYoXI\\u002fCjWRAFK5H4XqsYkCPwvUoXK9SQB+F61G4LmBAKVyPwvXIZEDsUbgehetjQOxRuB6FC2dAuB6F61FwYUCkcD0K10tjQIXrUbge5V1ApHA9CtejbECuR+F6FCZqQK5H4XoUzmBASOF6FK5na0DXo3A9CudoQM3MzMzMJG9A16NwPQrnaEAK16NwPSplQNejcD0K52hAzczMzMxka0DhehSuR2lmQJqZmZmZIW9APQrXo3BtVEAUrkfhemxmQEjhehSur2JA\"},\"yaxis\":\"y\",\"type\":\"scatter\"},{\"hovertemplate\":\"brand_name=xiaomi\\u003cbr\\u003ebattery_capacity=%{x}\\u003cbr\\u003eprice (\\u20ac)=%{y}\\u003cextra\\u003e\\u003c\\u002fextra\\u003e\",\"legendgroup\":\"xiaomi\",\"marker\":{\"color\":\"#ab63fa\",\"opacity\":0.6,\"symbol\":\"circle\"},\"mode\":\"markers\",\"name\":\"xiaomi\",\"orientation\":\"v\",\"showlegend\":true,\"x\":{\"dtype\":\"i2\",\"bdata\":\"KBSUEZQRiBPMEPgR+BHAEvwSiBOIE5QR1BKIE4gTlBGIE6wSiBOIE5oQmhCaECgUiBOoEagRqBGUEdIPnBOUEaAPoA9wF3AXcBdwF3AXiBOIE4gTiBOIE3AXcBeIE4gTiBOIE+wTiBOIE4gTiBOIE3AXiBOIE4gTiBOIE4gTiBOIE6APfBWIE9gT2BN8FYgTiBN8FdgTiBOIE4gTnBOcE5wTnBOIE5wTnBOIE4gTiBOIE4gTiBOIE4gTiBOIE4gTUBSIE4gTiBOIE4gTiBOIE4gTiBOIE4gTiBPYE4gTiBOIE8wQzBCIE4gTiBOIE1AUdBN0E3QTiBOIE4gTUBQEEKAPlBGcE5wTnBOcEw==\"},\"xaxis\":\"x\",\"y\":{\"dtype\":\"f8\",\"bdata\":\"mpmZmZkhb0DsUbgehetuQIXrUbge0XBAw\\u002fUoXI9KeECuR+F6FK5yQB+F61G4wn9AuB6F61EogEDhehSuR6uHQFyPwvUozIVASOF6FK6DfkB7FK5H4a6CQM3MzMzMRH1AhetRuB5fgkC4HoXrUWyGQClcj8L1IIFA7FG4HoWvckAUrkfheox0QClcj8L1IIFAZmZmZmZGbUDsUbgeha9yQDMzMzMzS2dAhetRuB5Fa0AfhetRuKZsQK5H4XoURm1Aj8L1KFzLdUB7FK5H4cJtQLgehetRMHBAmpmZmZlNc0DXo3A9Csd6QGZmZmZmJJ9AcT0K16MgkUDXo3A9CqmQQIXrUbge5V1AmpmZmZkxYECkcD0K1+NXQIXrUbge5V1AhetRuB7lXUAfhetRuN5eQJqZmZmZMWBAPQrXo3BtYUCPwvUoXK9SQPYoXI\\u002fC5VRAuB6F61EIW0CamZmZmelYQD0K16NwbWFAFK5H4XqsYkDXo3A9CudcQHE9CtejKGFAZmZmZmbGYEDsUbgehetjQOF6FK5HaWZAUrgehethW0BxPQrXo6BcQOxRuB6Fa1ZAj8L1KFyvUkC4HoXrUShaQGZmZmZmplxAAAAAAABwUUBSuB6F62FbQOF6FK5HMVBAexSuR+EqV0CPwvUoXK9SQAAAAAAAwE5AKVyPwvUoUkDNzMzMzOxUQEjhehSur7JAMzMzMzNvcUCuR+F6FOp4QPYoXI\\u002fCMXBAH4XrUbimbECuR+F6FK5yQArXo3A9IIFAw\\u002fUoXI9KeED2KFyPwjFwQAAAAAAAEHJAPQrXo3BtYUD2KFyPwo1kQB+F61G4Hl9AmpmZmZnpWEAUrkfheiRfQIXrUbge5V1AXI\\u002fC9ShsZkCF61G4Hi1lQFK4HoXr6WhApHA9CtfjaEBI4XoUrmdbQIXrUbge5V1AuB6F61FwYUCamZmZmTFgQLgehetRcGFAzczMzMy8XUCF61G4Hs1hQK5H4XoUXl5AFK5H4XqsYkBcj8L1KGxmQOF6FK5HaWZAUrgehevpaEBSuB6F6+loQI\\u002fC9ShcR2xAH4XrUbimbEA9CtejcG1hQB+F61G4LmBAzczMzMwsYkAfhetRuE5jQGZmZmZmtmNAhetRuB7lXUCF61G4Hi1lQIXrUbgeLWVA7FG4HoULZ0DXo3A9CudoQI\\u002fC9ShcP2ZAZmZmZmbmaEC4HoXrUXBhQEjhehSuz3BAFK5H4Xokb0CF61G4HtFwQKRwPQrXb3FAj8L1KFyvYkApXI\\u002fC9dhuQFK4HoXrjXRA7FG4HoWvckBSuB6F6410QIXrUbge0XBAUrgehevpaEBmZmZmZu5jQOF6FK5HaWZA4XoUrkeJaUCamZmZmalZQKRwPQrX41hAhetRuB4tZUAfhetRuN5dQLgehetRcGFAzczMzMz8YUB7FK5H4YpkQA==\"},\"yaxis\":\"y\",\"type\":\"scatter\"},{\"hovertemplate\":\"brand_name=zte\\u003cbr\\u003ebattery_capacity=%{x}\\u003cbr\\u003eprice (\\u20ac)=%{y}\\u003cextra\\u003e\\u003c\\u002fextra\\u003e\",\"legendgroup\":\"zte\",\"marker\":{\"color\":\"#FFA15A\",\"opacity\":0.6,\"symbol\":\"circle\"},\"mode\":\"markers\",\"name\":\"zte\",\"orientation\":\"v\",\"showlegend\":true,\"x\":{\"dtype\":\"i2\",\"bdata\":\"aBCIEw==\"},\"xaxis\":\"x\",\"y\":{\"dtype\":\"f8\",\"bdata\":\"UrgehevpaEC4HoXrUU6DQA==\"},\"yaxis\":\"y\",\"type\":\"scatter\"}],                        {\"template\":{\"data\":{\"histogram2dcontour\":[{\"type\":\"histogram2dcontour\",\"colorbar\":{\"outlinewidth\":0,\"ticks\":\"\"},\"colorscale\":[[0.0,\"#0d0887\"],[0.1111111111111111,\"#46039f\"],[0.2222222222222222,\"#7201a8\"],[0.3333333333333333,\"#9c179e\"],[0.4444444444444444,\"#bd3786\"],[0.5555555555555556,\"#d8576b\"],[0.6666666666666666,\"#ed7953\"],[0.7777777777777778,\"#fb9f3a\"],[0.8888888888888888,\"#fdca26\"],[1.0,\"#f0f921\"]]}],\"choropleth\":[{\"type\":\"choropleth\",\"colorbar\":{\"outlinewidth\":0,\"ticks\":\"\"}}],\"histogram2d\":[{\"type\":\"histogram2d\",\"colorbar\":{\"outlinewidth\":0,\"ticks\":\"\"},\"colorscale\":[[0.0,\"#0d0887\"],[0.1111111111111111,\"#46039f\"],[0.2222222222222222,\"#7201a8\"],[0.3333333333333333,\"#9c179e\"],[0.4444444444444444,\"#bd3786\"],[0.5555555555555556,\"#d8576b\"],[0.6666666666666666,\"#ed7953\"],[0.7777777777777778,\"#fb9f3a\"],[0.8888888888888888,\"#fdca26\"],[1.0,\"#f0f921\"]]}],\"heatmap\":[{\"type\":\"heatmap\",\"colorbar\":{\"outlinewidth\":0,\"ticks\":\"\"},\"colorscale\":[[0.0,\"#0d0887\"],[0.1111111111111111,\"#46039f\"],[0.2222222222222222,\"#7201a8\"],[0.3333333333333333,\"#9c179e\"],[0.4444444444444444,\"#bd3786\"],[0.5555555555555556,\"#d8576b\"],[0.6666666666666666,\"#ed7953\"],[0.7777777777777778,\"#fb9f3a\"],[0.8888888888888888,\"#fdca26\"],[1.0,\"#f0f921\"]]}],\"contourcarpet\":[{\"type\":\"contourcarpet\",\"colorbar\":{\"outlinewidth\":0,\"ticks\":\"\"}}],\"contour\":[{\"type\":\"contour\",\"colorbar\":{\"outlinewidth\":0,\"ticks\":\"\"},\"colorscale\":[[0.0,\"#0d0887\"],[0.1111111111111111,\"#46039f\"],[0.2222222222222222,\"#7201a8\"],[0.3333333333333333,\"#9c179e\"],[0.4444444444444444,\"#bd3786\"],[0.5555555555555556,\"#d8576b\"],[0.6666666666666666,\"#ed7953\"],[0.7777777777777778,\"#fb9f3a\"],[0.8888888888888888,\"#fdca26\"],[1.0,\"#f0f921\"]]}],\"surface\":[{\"type\":\"surface\",\"colorbar\":{\"outlinewidth\":0,\"ticks\":\"\"},\"colorscale\":[[0.0,\"#0d0887\"],[0.1111111111111111,\"#46039f\"],[0.2222222222222222,\"#7201a8\"],[0.3333333333333333,\"#9c179e\"],[0.4444444444444444,\"#bd3786\"],[0.5555555555555556,\"#d8576b\"],[0.6666666666666666,\"#ed7953\"],[0.7777777777777778,\"#fb9f3a\"],[0.8888888888888888,\"#fdca26\"],[1.0,\"#f0f921\"]]}],\"mesh3d\":[{\"type\":\"mesh3d\",\"colorbar\":{\"outlinewidth\":0,\"ticks\":\"\"}}],\"scatter\":[{\"marker\":{\"line\":{\"color\":\"#283442\"}},\"type\":\"scatter\"}],\"parcoords\":[{\"type\":\"parcoords\",\"line\":{\"colorbar\":{\"outlinewidth\":0,\"ticks\":\"\"}}}],\"scatterpolargl\":[{\"type\":\"scatterpolargl\",\"marker\":{\"colorbar\":{\"outlinewidth\":0,\"ticks\":\"\"}}}],\"bar\":[{\"error_x\":{\"color\":\"#f2f5fa\"},\"error_y\":{\"color\":\"#f2f5fa\"},\"marker\":{\"line\":{\"color\":\"rgb(17,17,17)\",\"width\":0.5},\"pattern\":{\"fillmode\":\"overlay\",\"size\":10,\"solidity\":0.2}},\"type\":\"bar\"}],\"scattergeo\":[{\"type\":\"scattergeo\",\"marker\":{\"colorbar\":{\"outlinewidth\":0,\"ticks\":\"\"}}}],\"scatterpolar\":[{\"type\":\"scatterpolar\",\"marker\":{\"colorbar\":{\"outlinewidth\":0,\"ticks\":\"\"}}}],\"histogram\":[{\"marker\":{\"pattern\":{\"fillmode\":\"overlay\",\"size\":10,\"solidity\":0.2}},\"type\":\"histogram\"}],\"scattergl\":[{\"marker\":{\"line\":{\"color\":\"#283442\"}},\"type\":\"scattergl\"}],\"scatter3d\":[{\"type\":\"scatter3d\",\"line\":{\"colorbar\":{\"outlinewidth\":0,\"ticks\":\"\"}},\"marker\":{\"colorbar\":{\"outlinewidth\":0,\"ticks\":\"\"}}}],\"scattermap\":[{\"type\":\"scattermap\",\"marker\":{\"colorbar\":{\"outlinewidth\":0,\"ticks\":\"\"}}}],\"scattermapbox\":[{\"type\":\"scattermapbox\",\"marker\":{\"colorbar\":{\"outlinewidth\":0,\"ticks\":\"\"}}}],\"scatterternary\":[{\"type\":\"scatterternary\",\"marker\":{\"colorbar\":{\"outlinewidth\":0,\"ticks\":\"\"}}}],\"scattercarpet\":[{\"type\":\"scattercarpet\",\"marker\":{\"colorbar\":{\"outlinewidth\":0,\"ticks\":\"\"}}}],\"carpet\":[{\"aaxis\":{\"endlinecolor\":\"#A2B1C6\",\"gridcolor\":\"#506784\",\"linecolor\":\"#506784\",\"minorgridcolor\":\"#506784\",\"startlinecolor\":\"#A2B1C6\"},\"baxis\":{\"endlinecolor\":\"#A2B1C6\",\"gridcolor\":\"#506784\",\"linecolor\":\"#506784\",\"minorgridcolor\":\"#506784\",\"startlinecolor\":\"#A2B1C6\"},\"type\":\"carpet\"}],\"table\":[{\"cells\":{\"fill\":{\"color\":\"#506784\"},\"line\":{\"color\":\"rgb(17,17,17)\"}},\"header\":{\"fill\":{\"color\":\"#2a3f5f\"},\"line\":{\"color\":\"rgb(17,17,17)\"}},\"type\":\"table\"}],\"barpolar\":[{\"marker\":{\"line\":{\"color\":\"rgb(17,17,17)\",\"width\":0.5},\"pattern\":{\"fillmode\":\"overlay\",\"size\":10,\"solidity\":0.2}},\"type\":\"barpolar\"}],\"pie\":[{\"automargin\":true,\"type\":\"pie\"}]},\"layout\":{\"autotypenumbers\":\"strict\",\"colorway\":[\"#636efa\",\"#EF553B\",\"#00cc96\",\"#ab63fa\",\"#FFA15A\",\"#19d3f3\",\"#FF6692\",\"#B6E880\",\"#FF97FF\",\"#FECB52\"],\"font\":{\"color\":\"#f2f5fa\"},\"hovermode\":\"closest\",\"hoverlabel\":{\"align\":\"left\"},\"paper_bgcolor\":\"rgb(17,17,17)\",\"plot_bgcolor\":\"rgb(17,17,17)\",\"polar\":{\"bgcolor\":\"rgb(17,17,17)\",\"angularaxis\":{\"gridcolor\":\"#506784\",\"linecolor\":\"#506784\",\"ticks\":\"\"},\"radialaxis\":{\"gridcolor\":\"#506784\",\"linecolor\":\"#506784\",\"ticks\":\"\"}},\"ternary\":{\"bgcolor\":\"rgb(17,17,17)\",\"aaxis\":{\"gridcolor\":\"#506784\",\"linecolor\":\"#506784\",\"ticks\":\"\"},\"baxis\":{\"gridcolor\":\"#506784\",\"linecolor\":\"#506784\",\"ticks\":\"\"},\"caxis\":{\"gridcolor\":\"#506784\",\"linecolor\":\"#506784\",\"ticks\":\"\"}},\"coloraxis\":{\"colorbar\":{\"outlinewidth\":0,\"ticks\":\"\"}},\"colorscale\":{\"sequential\":[[0.0,\"#0d0887\"],[0.1111111111111111,\"#46039f\"],[0.2222222222222222,\"#7201a8\"],[0.3333333333333333,\"#9c179e\"],[0.4444444444444444,\"#bd3786\"],[0.5555555555555556,\"#d8576b\"],[0.6666666666666666,\"#ed7953\"],[0.7777777777777778,\"#fb9f3a\"],[0.8888888888888888,\"#fdca26\"],[1.0,\"#f0f921\"]],\"sequentialminus\":[[0.0,\"#0d0887\"],[0.1111111111111111,\"#46039f\"],[0.2222222222222222,\"#7201a8\"],[0.3333333333333333,\"#9c179e\"],[0.4444444444444444,\"#bd3786\"],[0.5555555555555556,\"#d8576b\"],[0.6666666666666666,\"#ed7953\"],[0.7777777777777778,\"#fb9f3a\"],[0.8888888888888888,\"#fdca26\"],[1.0,\"#f0f921\"]],\"diverging\":[[0,\"#8e0152\"],[0.1,\"#c51b7d\"],[0.2,\"#de77ae\"],[0.3,\"#f1b6da\"],[0.4,\"#fde0ef\"],[0.5,\"#f7f7f7\"],[0.6,\"#e6f5d0\"],[0.7,\"#b8e186\"],[0.8,\"#7fbc41\"],[0.9,\"#4d9221\"],[1,\"#276419\"]]},\"xaxis\":{\"gridcolor\":\"#283442\",\"linecolor\":\"#506784\",\"ticks\":\"\",\"title\":{\"standoff\":15},\"zerolinecolor\":\"#283442\",\"automargin\":true,\"zerolinewidth\":2},\"yaxis\":{\"gridcolor\":\"#283442\",\"linecolor\":\"#506784\",\"ticks\":\"\",\"title\":{\"standoff\":15},\"zerolinecolor\":\"#283442\",\"automargin\":true,\"zerolinewidth\":2},\"scene\":{\"xaxis\":{\"backgroundcolor\":\"rgb(17,17,17)\",\"gridcolor\":\"#506784\",\"linecolor\":\"#506784\",\"showbackground\":true,\"ticks\":\"\",\"zerolinecolor\":\"#C8D4E3\",\"gridwidth\":2},\"yaxis\":{\"backgroundcolor\":\"rgb(17,17,17)\",\"gridcolor\":\"#506784\",\"linecolor\":\"#506784\",\"showbackground\":true,\"ticks\":\"\",\"zerolinecolor\":\"#C8D4E3\",\"gridwidth\":2},\"zaxis\":{\"backgroundcolor\":\"rgb(17,17,17)\",\"gridcolor\":\"#506784\",\"linecolor\":\"#506784\",\"showbackground\":true,\"ticks\":\"\",\"zerolinecolor\":\"#C8D4E3\",\"gridwidth\":2}},\"shapedefaults\":{\"line\":{\"color\":\"#f2f5fa\"}},\"annotationdefaults\":{\"arrowcolor\":\"#f2f5fa\",\"arrowhead\":0,\"arrowwidth\":1},\"geo\":{\"bgcolor\":\"rgb(17,17,17)\",\"landcolor\":\"rgb(17,17,17)\",\"subunitcolor\":\"#506784\",\"showland\":true,\"showlakes\":true,\"lakecolor\":\"rgb(17,17,17)\"},\"title\":{\"x\":0.05},\"updatemenudefaults\":{\"bgcolor\":\"#506784\",\"borderwidth\":0},\"sliderdefaults\":{\"bgcolor\":\"#C8D4E3\",\"borderwidth\":1,\"bordercolor\":\"rgb(17,17,17)\",\"tickwidth\":0},\"mapbox\":{\"style\":\"dark\"}}},\"xaxis\":{\"anchor\":\"y\",\"domain\":[0.0,1.0],\"title\":{\"text\":\"Capacit\\u00e9 batterie\"}},\"yaxis\":{\"anchor\":\"x\",\"domain\":[0.0,1.0],\"title\":{\"text\":\"Prix (\\u20ac)\"}},\"legend\":{\"title\":{\"text\":\"brand_name\"},\"tracegroupgap\":0},\"title\":{\"text\":\"Prix vs Capacit\\u00e9 de batterie des smartphones\"},\"bargap\":0.1},                        {\"responsive\": true}                    ).then(function(){\n",
       "                            \n",
       "var gd = document.getElementById('b5ace54f-e076-4669-9bac-6a2aae3b19f0');\n",
       "var x = new MutationObserver(function (mutations, observer) {{\n",
       "        var display = window.getComputedStyle(gd).display;\n",
       "        if (!display || display === 'none') {{\n",
       "            console.log([gd, 'removed!']);\n",
       "            Plotly.purge(gd);\n",
       "            observer.disconnect();\n",
       "        }}\n",
       "}});\n",
       "\n",
       "// Listen for the removal of the full notebook cells\n",
       "var notebookContainer = gd.closest('#notebook-container');\n",
       "if (notebookContainer) {{\n",
       "    x.observe(notebookContainer, {childList: true});\n",
       "}}\n",
       "\n",
       "// Listen for the clearing of the current output cell\n",
       "var outputEl = gd.closest('.output');\n",
       "if (outputEl) {{\n",
       "    x.observe(outputEl, {childList: true});\n",
       "}}\n",
       "\n",
       "                        })                };            </script>        </div>"
      ]
     },
     "metadata": {},
     "output_type": "display_data"
    }
   ],
   "execution_count": 7
  },
  {
   "cell_type": "markdown",
   "id": "dfd023c9",
   "metadata": {},
   "source": [
    "* Tendance générale :\n",
    "    - Il n’y a pas de corrélation claire entre le prix et la capacité de batterie.\n",
    "    - Des téléphones à prix très bas peuvent avoir une batterie très élevée (outliers visibles à droite).\n",
    "    - Inversement, certains téléphones chers n'ont qu'une capacité moyenne.\n",
    "* Présence d’outliers :\n",
    "    - Des smartphones affichent une capacité batterie supérieure à 10 000 mAh, ce qui est anormalement élevé pour des téléphones classiques → probablement des erreurs ou des modèles atypiques (tablettes, rugged phones).\n",
    "* Dispersion importante :\n",
    "    - Il y a une forte variabilité des prix pour une même capacité batterie, ce qui montre que la batterie n’est pas un facteur déterminant du prix."
   ]
  },
  {
   "cell_type": "markdown",
   "id": "cb316227",
   "metadata": {},
   "source": [
    "**Comparaison entre le prix et les différentes colonnes**"
   ]
  },
  {
   "cell_type": "code",
   "id": "21569679",
   "metadata": {
    "ExecuteTime": {
     "end_time": "2025-07-27T22:12:49.844141Z",
     "start_time": "2025-07-27T22:12:49.821599Z"
    }
   },
   "source": [
    "### Liste des colonnes à comparer au prix\n",
    "colonnes = ['rating', 'num_cores', 'processor_speed', 'ram_capacity', 'internal_memory', 'screen_size', 'refresh_rate', ]\n",
    "\n",
    "### Création des traces pour chaque colonne\n",
    "fig_compare_to_price = go.Figure()\n",
    "\n",
    "for i, col in enumerate(colonnes):\n",
    "    fig_compare_to_price.add_trace(\n",
    "        go.Scatter(\n",
    "            x=data[col],\n",
    "            y=data['price (€)'],\n",
    "            mode='markers',\n",
    "            name=col,\n",
    "            visible=(i == 0)\n",
    "        )\n",
    "    )\n",
    "\n",
    "### Création du menu déroulant\n",
    "menu = [dict(\n",
    "    buttons=[dict(\n",
    "        label=col,\n",
    "        method='update',\n",
    "        args=[{'visible': [i == j for j in range(len(colonnes))]},\n",
    "              {'xaxis': {'title': col}}]\n",
    "    ) for i, col in enumerate(colonnes)],\n",
    "    direction='down',\n",
    "    showactive=True,\n",
    "    x=0.1,\n",
    "    y=1.15\n",
    ")]\n",
    "\n",
    "fig_compare_to_price.update_layout(\n",
    "    updatemenus=menu,\n",
    "    title='Prix vs variable sélectionnée',\n",
    "    xaxis_title=colonnes[0],\n",
    "    yaxis_title='Prix (€)',\n",
    "    height=600\n",
    ")\n",
    "\n",
    "fig_compare_to_price.show()"
   ],
   "outputs": [
    {
     "data": {
      "application/vnd.plotly.v1+json": {
       "data": [
        {
         "mode": "markers",
         "name": "rating",
         "visible": true,
         "x": {
          "dtype": "f8",
          "bdata": "AAAAAABAUkAAAAAAAMBSQAAAAAAAQFNAAAAAAACAUkAAAAAAAMBSQAAAAAAAAFNAAAAAAACAUkAAAAAAAMBSQAAAAAAAwFJAAAAAAAAAVEAAAAAAAABUQAAAAAAAwFNAAAAAAADAU0AAAAAAAABUQAAAAAAAwFNAAAAAAADAVEAAAAAAAABVQAAAAAAAwFRAAAAAAAAAVUAAAAAAAIBVQAAAAAAAAFVAAAAAAABAVEAAAAAAAIBUQAAAAAAAgFRAAAAAAACAUUAAAAAAAIBUQAAAAAAAwFRAAAAAAADAVEAAAAAAAMBSQAAAAAAAQFNAAAAAAAAAU0AAAAAAAABTQAAAAAAAgFNAAAAAAABAU0AAAAAAAIBTQAAAAAAAAFJAAAAAAADAUkAAAAAAAMBSQAAAAAAAwFNAAAAAAADAU0AAAAAAAAD4fwAAAAAAgE5AAAAAAACAT0AAAAAAAAD4fwAAAAAAAE5AAAAAAAAATkAAAAAAAMBVQAAAAAAAgFVAAAAAAAAAVkAAAAAAAABWQAAAAAAAAPh/AAAAAADAVUAAAAAAAIBVQAAAAAAAwFBAAAAAAABAVUAAAAAAAAD4fwAAAAAAgFJAAAAAAAAAVUAAAAAAAABWQAAAAAAAAPh/AAAAAAAA+H8AAAAAAAD4fwAAAAAAwFBAAAAAAABAUUAAAAAAAMBQQAAAAAAAgFNAAAAAAACAVEAAAAAAAIBTQAAAAAAAAFVAAAAAAABAVkAAAAAAAAD4fwAAAAAAwFFAAAAAAACAVUAAAAAAAAD4fwAAAAAAQFFAAAAAAADAUkAAAAAAAABUQAAAAAAAQFVAAAAAAADAUkAAAAAAAABWQAAAAAAAgFVAAAAAAAAA+H8AAAAAAAD4fwAAAAAAAFFAAAAAAADAUUAAAAAAAMBSQAAAAAAAAFNAAAAAAADAUkAAAAAAAABUQAAAAAAAQFRAAAAAAACAUEAAAAAAAAD4fwAAAAAAAPh/AAAAAABAVUAAAAAAAEBUQAAAAAAAAPh/AAAAAABAVkAAAAAAAIBUQAAAAAAAAFVAAAAAAABAVEAAAAAAAMBUQAAAAAAAAFVAAAAAAACAT0AAAAAAAIBUQAAAAAAAAPh/AAAAAAAA+H8AAAAAAIBOQAAAAAAAgE5AAAAAAAAATkAAAAAAAMBRQAAAAAAAAFJAAAAAAACAUEAAAAAAAIBSQAAAAAAAAFNAAAAAAADAUkAAAAAAAIBTQAAAAAAAwFBAAAAAAAAAUEAAAAAAAEBTQAAAAAAAQFNAAAAAAADAU0AAAAAAAIBSQAAAAAAAQFNAAAAAAADAU0AAAAAAAIBTQAAAAAAAwFRAAAAAAAAAVUAAAAAAAMBTQAAAAAAAAFVAAAAAAABAUkAAAAAAAABUQAAAAAAAAE5AAAAAAAAA+H8AAAAAAIBPQAAAAAAAwFVAAAAAAABAVUAAAAAAAEBWQAAAAAAAQFVAAAAAAABAVkAAAAAAAABWQAAAAAAAQFZAAAAAAADAVEAAAAAAAEBVQAAAAAAAAFVAAAAAAAAAVUAAAAAAAEBVQAAAAAAAAFZAAAAAAADAVEAAAAAAAEBVQAAAAAAAQFVAAAAAAACAVEAAAAAAAABVQAAAAAAAwFRAAAAAAACAVEAAAAAAAABVQAAAAAAAwFRAAAAAAABAU0AAAAAAAABUQAAAAAAAgFNAAAAAAAAAVEAAAAAAAIBUQAAAAAAAwFNAAAAAAADAUkAAAAAAAIBTQAAAAAAAgFRAAAAAAAAAVEAAAAAAAABUQAAAAAAAAFRAAAAAAACAU0AAAAAAAABTQAAAAAAAAPh/AAAAAAAA+H8AAAAAAAD4fwAAAAAAAPh/AAAAAAAA+H8AAAAAAAD4fwAAAAAAAPh/AAAAAAAA+H8AAAAAAIBOQAAAAAAAAPh/AAAAAAAAUEAAAAAAAAD4fwAAAAAAAPh/AAAAAAAA+H8AAAAAAABVQAAAAAAAQFJAAAAAAACAUEAAAAAAAAD4fwAAAAAAQFBAAAAAAABAVkAAAAAAAEBWQAAAAAAAwFVAAAAAAAAA+H8AAAAAAABOQAAAAAAAAPh/AAAAAAAA+H8AAAAAAEBVQAAAAAAAQFZAAAAAAAAATkAAAAAAAAD4fwAAAAAAgFBAAAAAAAAAUUAAAAAAAABOQAAAAAAAwFVAAAAAAADAVEAAAAAAAEBVQAAAAAAAAFZAAAAAAABAVkAAAAAAAAD4fwAAAAAAAPh/AAAAAACAVUAAAAAAAMBVQAAAAAAAQFZAAAAAAABAVkAAAAAAAMBVQAAAAAAAQFBAAAAAAACAUUAAAAAAAMBRQAAAAAAAQFBAAAAAAADAUEAAAAAAAMBRQAAAAAAAAFVAAAAAAABAVUAAAAAAAMBUQAAAAAAAAPh/AAAAAACAVEAAAAAAAMBSQAAAAAAAwFJAAAAAAABAU0AAAAAAAMBSQAAAAAAAgFNAAAAAAADAUkAAAAAAAEBTQAAAAAAAgFNAAAAAAABAU0AAAAAAAMBSQAAAAAAAwFNAAAAAAAAAU0AAAAAAAMBTQAAAAAAAAFVAAAAAAAAAVUAAAAAAAEBUQAAAAAAAAFRAAAAAAABAVEAAAAAAAMBUQAAAAAAAQFVAAAAAAACAVUAAAAAAAMBUQAAAAAAAAFRAAAAAAADAVEAAAAAAAAD4fwAAAAAAQFZAAAAAAAAAVEAAAAAAAABRQAAAAAAAQFZAAAAAAAAA+H8AAAAAAABQQAAAAAAAAE9AAAAAAACAUUAAAAAAAMBRQAAAAAAAwFJAAAAAAABAVEAAAAAAAAD4fwAAAAAAgFRAAAAAAABAVUAAAAAAAABTQAAAAAAAwFVAAAAAAAAA+H8AAAAAAEBVQAAAAAAAwFVAAAAAAACAVUAAAAAAAABUQAAAAAAAAFZAAAAAAAAAVUAAAAAAAIBVQAAAAAAAAFVAAAAAAACAVUAAAAAAAABVQAAAAAAAgFRAAAAAAABAVkAAAAAAAAD4fwAAAAAAAPh/AAAAAACAVUAAAAAAAMBVQAAAAAAAQFVAAAAAAABAVUAAAAAAAMBVQAAAAAAAwFVAAAAAAABAVkAAAAAAAAD4fwAAAAAAQFVAAAAAAAAA+H8AAAAAAEBTQAAAAAAAQFZAAAAAAABAVUAAAAAAAIBVQAAAAAAAAFVAAAAAAAAAVUAAAAAAAIBVQAAAAAAAwFRAAAAAAABAUUAAAAAAAMBUQAAAAAAAQFVAAAAAAAAAVUAAAAAAAABVQAAAAAAAAFVAAAAAAADAVEAAAAAAAABTQAAAAAAAQFRAAAAAAAAAVUAAAAAAAEBVQAAAAAAAwFRAAAAAAABAVEAAAAAAAEBTQAAAAAAAQFRAAAAAAAAAUUAAAAAAAEBUQAAAAAAAwFJAAAAAAADAUkAAAAAAAEBSQAAAAAAAwFNAAAAAAAAAVUAAAAAAAABQQAAAAAAAgFBAAAAAAAAAUkAAAAAAAEBRQAAAAAAAQFBAAAAAAAAAUUAAAAAAAIBQQAAAAAAAAFJAAAAAAAAAT0AAAAAAAABSQAAAAAAAgFFAAAAAAACAUUAAAAAAAMBRQAAAAAAAgFJAAAAAAABAUkAAAAAAAABTQAAAAAAAgFJAAAAAAABAUkAAAAAAAMBSQAAAAAAAwFBAAAAAAABAUUAAAAAAAABTQAAAAAAAAFJAAAAAAAAAT0AAAAAAAEBTQAAAAAAAQFJAAAAAAACAUUAAAAAAAMBRQAAAAAAAAFNAAAAAAAAAU0AAAAAAAMBTQAAAAAAAAFRAAAAAAACAVEAAAAAAAMBTQAAAAAAAwFVAAAAAAADAVEAAAAAAAIBTQAAAAAAAAFRAAAAAAACAVEAAAAAAAMBTQAAAAAAAgFRAAAAAAACAVEAAAAAAAIBUQAAAAAAAgFRAAAAAAADAVEAAAAAAAIBUQAAAAAAAwFRAAAAAAAAA+H8AAAAAAABWQAAAAAAAAPh/AAAAAAAA+H8AAAAAAABWQAAAAAAAAPh/AAAAAAAA+H8AAAAAAEBWQAAAAAAAAPh/AAAAAACAU0AAAAAAAABUQAAAAAAAwFNAAAAAAABAVEAAAAAAAIBTQAAAAAAAgFRAAAAAAAAAVUAAAAAAAIBVQAAAAAAAAFZAAAAAAADAVEAAAAAAAABVQAAAAAAAAFRAAAAAAADAVEAAAAAAAMBVQAAAAAAAwFVAAAAAAAAAVUAAAAAAAEBVQAAAAAAAgFVAAAAAAACAVUAAAAAAAIBVQAAAAAAAwFVAAAAAAADAVEAAAAAAAMBUQAAAAAAAgFVAAAAAAACAVUAAAAAAAABVQAAAAAAAQFVAAAAAAADAVUAAAAAAAABVQAAAAAAAwFRAAAAAAACAVUAAAAAAAABVQAAAAAAAgFRAAAAAAAAAUkAAAAAAAEBQQAAAAAAAAFFAAAAAAAAA+H8AAAAAAIBOQAAAAAAAgFFAAAAAAADAU0AAAAAAAIBVQAAAAAAAgFRAAAAAAABAVUAAAAAAAIBVQAAAAAAAQFVAAAAAAACAVUAAAAAAAABVQAAAAAAAgFJAAAAAAAAAU0AAAAAAAMBSQAAAAAAAwFJAAAAAAADAU0AAAAAAAMBSQAAAAAAAwFNAAAAAAABAU0AAAAAAAMBTQAAAAAAAQFRAAAAAAAAAU0AAAAAAAEBUQAAAAAAAgFRAAAAAAACAUkAAAAAAAEBTQAAAAAAAAFVAAAAAAAAAVEAAAAAAAIBUQAAAAAAAwFNAAAAAAAAAVUAAAAAAAEBVQAAAAAAAAFRAAAAAAACAVEAAAAAAAABVQAAAAAAAgFJAAAAAAAAAVUAAAAAAAEBUQAAAAAAAAFJAAAAAAACAUkAAAAAAAMBTQAAAAAAAwFNAAAAAAACAVEAAAAAAAABVQAAAAAAAgFRAAAAAAABAVUAAAAAAAABUQAAAAAAAgFRAAAAAAACAU0AAAAAAAEBTQAAAAAAAAFRAAAAAAABAVUAAAAAAAIBTQAAAAAAAwFRAAAAAAADAUkAAAAAAAABUQAAAAAAAgFJAAAAAAABAU0AAAAAAAABUQAAAAAAAgFRAAAAAAABAVEAAAAAAAABVQAAAAAAAwFJAAAAAAADAU0AAAAAAAABUQAAAAAAAgFRAAAAAAAAAVEAAAAAAAIBUQAAAAAAAgFNAAAAAAABAVEAAAAAAAIBUQAAAAAAAwFJAAAAAAADAUkAAAAAAAIBTQAAAAAAAwFJAAAAAAACAU0AAAAAAAAD4fwAAAAAAgE5AAAAAAACATkAAAAAAAIBOQAAAAAAAAPh/AAAAAAAAT0AAAAAAAEBRQAAAAAAAgE9AAAAAAAAA+H8AAAAAAABOQAAAAAAAAPh/AAAAAAAAT0AAAAAAAABPQAAAAAAAQFBAAAAAAABAUEAAAAAAAABQQAAAAAAAwFBAAAAAAACAUUAAAAAAAMBRQAAAAAAAgFJAAAAAAAAAUEAAAAAAAABVQAAAAAAAgFVAAAAAAABAVkAAAAAAAEBWQAAAAAAAQFVAAAAAAABAVUAAAAAAAABVQAAAAAAAwFRAAAAAAADAU0AAAAAAAEBUQAAAAAAAgFRAAAAAAAAAVEAAAAAAAMBUQAAAAAAAgFRAAAAAAAAAUkAAAAAAAABUQAAAAAAAwFRAAAAAAACAUkAAAAAAAEBTQAAAAAAAwFNAAAAAAAAAU0AAAAAAAMBSQAAAAAAAQFRAAAAAAADAVEAAAAAAAMBRQAAAAAAAQFJAAAAAAACAUkAAAAAAAAD4fwAAAAAAAE9AAAAAAACATkAAAAAAAABQQAAAAAAAQFFAAAAAAAAAVEAAAAAAAABTQAAAAAAAgFNAAAAAAADAVUAAAAAAAEBVQAAAAAAAAFVAAAAAAADAUkAAAAAAAIBRQAAAAAAAQFRAAAAAAABAVEAAAAAAAMBVQAAAAAAAwFVAAAAAAAAA+H8AAAAAAIBQQAAAAAAAQFFAAAAAAAAA+H8AAAAAAMBQQAAAAAAAwFFAAAAAAAAAUkAAAAAAAEBQQAAAAAAAgFBAAAAAAABAUUAAAAAAAMBRQAAAAAAAAFJAAAAAAACAT0AAAAAAAIBPQAAAAAAAwFFAAAAAAADAUkAAAAAAAMBSQAAAAAAAwFJAAAAAAACAU0AAAAAAAEBSQAAAAAAAwFJAAAAAAADAU0AAAAAAAIBUQAAAAAAAgE9AAAAAAADAUkAAAAAAAABTQAAAAAAAwFNAAAAAAADAU0AAAAAAAIBUQAAAAAAAwFNAAAAAAABAVEAAAAAAAEBTQAAAAAAAAFRAAAAAAACAVEAAAAAAAMBTQAAAAAAAgFRAAAAAAABAVUAAAAAAAMBSQAAAAAAAQFFAAAAAAAAAVEAAAAAAAMBUQAAAAAAAgFVAAAAAAABAVkAAAAAAAMBVQAAAAAAAQFZAAAAAAAAAU0AAAAAAAIBRQAAAAAAAgFVAAAAAAAAA+H8AAAAAAAD4fwAAAAAAAPh/AAAAAADAVEAAAAAAAIBVQAAAAAAAgFVAAAAAAACAU0AAAAAAAABUQAAAAAAAAFFAAAAAAABAUkAAAAAAAIBSQAAAAAAAwFJAAAAAAADAUEAAAAAAAEBSQAAAAAAAAFNAAAAAAACAU0AAAAAAAABUQAAAAAAAgFNAAAAAAACAVEAAAAAAAABUQAAAAAAAgFRAAAAAAAAAVUAAAAAAAIBQQAAAAAAAAFFAAAAAAAAAUkAAAAAAAMBSQAAAAAAAwFFAAAAAAADAUkAAAAAAAMBRQAAAAAAAAE5AAAAAAAAAU0AAAAAAAABTQAAAAAAAAFRAAAAAAADAUkAAAAAAAMBTQAAAAAAAQFRAAAAAAAAAVUAAAAAAAABVQAAAAAAAgFJAAAAAAAAAUkAAAAAAAIBSQAAAAAAAQFVAAAAAAADAVUAAAAAAAEBVQAAAAAAAwFRAAAAAAADAVEAAAAAAAEBWQAAAAAAAQFZAAAAAAADAVUAAAAAAAAD4fwAAAAAAgFVAAAAAAABAVEAAAAAAAABWQAAAAAAAQFZAAAAAAACAVUAAAAAAAABWQAAAAAAAAFZAAAAAAAAA+H8AAAAAAAD4fwAAAAAAAFZAAAAAAADAVUAAAAAAAABWQAAAAAAAAFZAAAAAAAAA+H8AAAAAAAD4fwAAAAAAgFVAAAAAAADAVUAAAAAAAMBTQAAAAAAAwFVAAAAAAAAAVkAAAAAAAAD4fwAAAAAAAPh/AAAAAAAA+H8AAAAAAABWQAAAAAAAQFNAAAAAAABAVkAAAAAAAAD4fwAAAAAAQFVAAAAAAACAU0AAAAAAAABVQAAAAAAAAFZAAAAAAABAVkAAAAAAAAD4fwAAAAAAAPh/AAAAAAAAVkAAAAAAAEBWQAAAAAAAAPh/AAAAAADAUkAAAAAAAIBTQAAAAAAAgFVAAAAAAABAVkAAAAAAAABUQAAAAAAAQFJAAAAAAAAA+H8AAAAAAABOQAAAAAAAwFJAAAAAAADAU0AAAAAAAEBTQAAAAAAAQFRAAAAAAACAVEAAAAAAAABVQAAAAAAAwFNAAAAAAAAAVUAAAAAAAABVQAAAAAAAQFVAAAAAAABAVkAAAAAAAAD4fwAAAAAAAPh/AAAAAACAUkAAAAAAAIBSQAAAAAAAQFNAAAAAAABAUkAAAAAAAIBSQAAAAAAAgFNAAAAAAADAUEAAAAAAAMBRQAAAAAAAAFBAAAAAAAAAUkAAAAAAAABPQAAAAAAAgE9AAAAAAACAUUAAAAAAAEBRQAAAAAAAgE9AAAAAAABAUEAAAAAAAIBSQAAAAAAAAFJAAAAAAACATkAAAAAAAABPQAAAAAAAAE9AAAAAAACAVEAAAAAAAEBVQAAAAAAAgFVAAAAAAABAU0AAAAAAAEBTQAAAAAAAwFNAAAAAAACAVEAAAAAAAIBTQAAAAAAAAFRAAAAAAADAVEAAAAAAAEBUQAAAAAAAAFVAAAAAAADAUkAAAAAAAEBTQAAAAAAAgFJAAAAAAABAVUAAAAAAAABTQAAAAAAAAFRAAAAAAACAVUAAAAAAAABSQAAAAAAAgFJAAAAAAADAUUAAAAAAAIBRQAAAAAAAgFNAAAAAAAAAVUAAAAAAAEBVQAAAAAAAAFVAAAAAAACAVEAAAAAAAMBUQAAAAAAAQFVAAAAAAABAVUAAAAAAAIBVQAAAAAAAwFRAAAAAAACAVUAAAAAAAEBVQAAAAAAAwFVAAAAAAACAVEAAAAAAAABVQAAAAAAAQFVAAAAAAADAVEAAAAAAAIBVQAAAAAAAQFVAAAAAAAAAVUAAAAAAAMBVQAAAAAAAwFRAAAAAAADAVUAAAAAAAABVQAAAAAAAAFVAAAAAAAAA+H8AAAAAAAD4fwAAAAAAAPh/AAAAAAAA+H8AAAAAAAD4fwAAAAAAgFVAAAAAAAAAVkAAAAAAAAD4fwAAAAAAAPh/AAAAAAAAVkAAAAAAAAD4fwAAAAAAAPh/AAAAAACATkAAAAAAAABOQAAAAAAAAPh/AAAAAAAA+H8AAAAAAIBOQAAAAAAAgE9AAAAAAACAVEAAAAAAAABQQAAAAAAAAFFAAAAAAABAUEAAAAAAAABRQAAAAAAAwFFAAAAAAACAUEAAAAAAAMBQQAAAAAAAgFBAAAAAAABAUEAAAAAAAIBQQAAAAAAAAFFAAAAAAABAUkAAAAAAAEBRQAAAAAAAQFBAAAAAAABAUUAAAAAAAEBRQAAAAAAAgFJAAAAAAACAUkAAAAAAAABSQAAAAAAAwFJAAAAAAABAU0AAAAAAAAD4fwAAAAAAwFFAAAAAAAAAVEAAAAAAAEBUQAAAAAAAAFRAAAAAAACAUUAAAAAAAMBTQAAAAAAAwFBAAAAAAADAVEAAAAAAAEBTQAAAAAAAAPh/AAAAAACAU0AAAAAAAMBTQAAAAAAAAPh/AAAAAAAAVEAAAAAAAEBTQAAAAAAAgFRAAAAAAACAVEAAAAAAAABTQAAAAAAAQFNAAAAAAAAA+H8AAAAAAABPQAAAAAAAQFBAAAAAAADAVEAAAAAAAMBUQAAAAAAAgFVAAAAAAAAAVkAAAAAAAIBUQAAAAAAAQFZAAAAAAAAA+H8AAAAAAAD4fwAAAAAAAPh/AAAAAADAVUAAAAAAAEBWQAAAAAAAQFZAAAAAAAAA+H8AAAAAAAD4fwAAAAAAQFZAAAAAAABAVUAAAAAAAIBVQAAAAAAAAFZAAAAAAAAAVEAAAAAAAIBVQAAAAAAAgFRAAAAAAADAVEAAAAAAAIBVQAAAAAAAQFRAAAAAAACAVUAAAAAAAABUQAAAAAAAwFRAAAAAAABAVUAAAAAAAMBVQAAAAAAAAPh/AAAAAAAA+H8AAAAAAAD4fwAAAAAAQFNAAAAAAACAU0AAAAAAAMBRQAAAAAAAwFJAAAAAAABAU0AAAAAAAIBSQAAAAAAAQFNAAAAAAABAUUAAAAAAAABQQAAAAAAAgFBAAAAAAACAUUAAAAAAAEBRQAAAAAAAwFFAAAAAAABAUkAAAAAAAIBSQAAAAAAAAFNAAAAAAACAUkAAAAAAAEBTQAAAAAAAwFNAAAAAAABAU0AAAAAAAIBQQAAAAAAAAFFAAAAAAAAAUUAAAAAAAABSQAAAAAAAgFJAAAAAAACATkAAAAAAAEBRQAAAAAAAgE5AAAAAAADAUEAAAAAAAIBQQAAAAAAAAPh/AAAAAAAATkAAAAAAAIBOQAAAAAAAAFZAAAAAAADAVEAAAAAAAEBVQAAAAAAAQFVAAAAAAACAVEAAAAAAAABVQAAAAAAAgFVAAAAAAABAVUAAAAAAAMBUQAAAAAAAQFVAAAAAAADAUkAAAAAAAIBTQAAAAAAAAFNAAAAAAAAAU0AAAAAAAEBTQAAAAAAAAFRAAAAAAABAVEAAAAAAAMBUQAAAAAAAQFRAAAAAAACAVEAAAAAAAIBTQAAAAAAAwFNAAAAAAACAVEAAAAAAAMBSQAAAAAAAwFNAAAAAAAAAU0AAAAAAAABUQAAAAAAAwFNAAAAAAABAU0AAAAAAAEBUQAAAAAAAQFRAAAAAAADAVEAAAAAAAMBUQAAAAAAAgFVAAAAAAADAVUAAAAAAAEBRQAAAAAAAQFJAAAAAAAAAVEAAAAAAAEBUQAAAAAAAAFVAAAAAAAAAVEAAAAAAAMBTQAAAAAAAQFRAAAAAAADAVEAAAAAAAIBUQAAAAAAAAFNAAAAAAADAU0AAAAAAAMBSQAAAAAAAgFVAAAAAAABAVkAAAAAAAIBUQAAAAAAAgFRAAAAAAABAU0AAAAAAAMBTQAAAAAAAwFRAAAAAAACAVUAAAAAAAMBVQAAAAAAAAFVAAAAAAABAVEAAAAAAAIBTQAAAAAAAgFNAAAAAAADAVEAAAAAAAEBQQAAAAAAAwFJAAAAAAACAU0AAAAAAAMBSQAAAAAAAwFJAAAAAAABAU0AAAAAAAABUQAAAAAAAgFRAAAAAAABAVkA="
         },
         "y": {
          "dtype": "f8",
          "bdata": "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"
         },
         "type": "scatter"
        },
        {
         "mode": "markers",
         "name": "num_cores",
         "visible": false,
         "x": {
          "dtype": "i1",
          "bdata": "BgYGBgYGBgYGBgYGBgYGBgYGBgYGBgYGBgYGBgYGBgYGBgYGBgYGCAQGBgYGBggICAgICAgICAQICAgIBAQICAgICAgICAgICAgICAgICAgICAgICAgICAgICAgICAgICAgICAgICAgICAQEBAgICAgICAgICAgICAgICAgICAgICAgEBAgICAgICAgICAgICAgICAgICAgICAgICAgICAgICAgICAgICAgEBAQEBAQECAgICAQEBAgICAQECAgIBAQICAgICAgICAgICAgICAgICAgICAgICAgICAgICAgICAgICAgICAgICAgICAgICAgICAgICAgICAgICAgICAgICAgICAgICAgICAgICAgICAgICAgICAgICAgICAgICAgICAgICAgICAgICAgICAgICAgICAgICAgICAgICAgICAgICAgICAgICAgICAgICAgICAgICAgICAgICAgICAgICAgICAgICAgICAgICAgICAgICAgICAgICAgICAgICAgICAgICAgICAgICAgICAgICAgICAgICAgICAgIBAQICAgICAgICAgICAgICAgICAgICAgICAgICAgICAgICAgICAgICAgICAgICAgICAgICAgICAgICAgICAgICAgICAgICAgICAgICAgICAgICAgICAgICAgICAgICAgICAgICAgICAgICAgICAgICAgICAgICAgICAgICAgICAgICAgICAgICAgICAgIBAgIBAgICAgICAgICAgICAgICAgICAgICAgICAgICAgICAgICAgICAgICAgICAgICAgICAgICAgICAgICAgICAgICAgICAgICAgICAgICAgICAgICAgICAgICAgICAgICAgICAgICAgICAgICAgICAgICAgICAgICAgICAgICAgICAgICAgICAgICAgICAgICAgICAgICAgICAQECAgICAgICAgICAgICAgICAgICAQICAgICAgICAgICAgICAgICAgICAgICAgICAgICAgICAgICAgICAgICAgICAgICAgICAgICAgICAgICAgICAgICAgICAgICAgICAgICAgICAgICAgICAgICAQICAgICAgICAgECAgECAgICAgICAgICAgICAgICAgICAgICAgICAgICAgICAgICAgICAgICAgICAgICAgICAgICAgICAgICAgICAgICAgICAgICAgEBAQICAgICAgICAgICAgICAgICAgICAgICAgICAgICAgICAgICAgICAgICAgICAgICAgICAgICAgICAgICAgICAgICAgICAgICA=="
         },
         "y": {
          "dtype": "f8",
          "bdata": "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"
         },
         "type": "scatter"
        },
        {
         "mode": "markers",
         "name": "processor_speed",
         "visible": false,
         "x": {
          "dtype": "f8",
          "bdata": "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"
         },
         "y": {
          "dtype": "f8",
          "bdata": "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"
         },
         "type": "scatter"
        },
        {
         "mode": "markers",
         "name": "ram_capacity",
         "visible": false,
         "x": {
          "dtype": "i1",
          "bdata": "BAQEBAQEBAQEBgYEBAQEBgYGBgYGBgYGBgYGBgYGBgYGBgYGCAgICAMDAwQEBAgMEBIQEggECAIECAwEBAMGBAQGCAYIDAwGCAwGCAwGCAwIDAwEBAYGBggIBAwICAwICAgICAgIBAgICAQEBAQEBAYIBAYEAwgGCAQGCAYICAgIBAYCAgMICAgIEAgICAwICAwICAwICAwICAgIBAYEBggGBAYMCAgGBAgBAgIBAQECAwMCBAIDAggEBAMIDBAMBAYECAYIAwMEBgMGBggICAgMCAgIDAYCBAQDBAQIBggIBgQEBAQGBAQEBAQGBAQGCAYGBgYICAYGCAgIBgQIAgQDBAQGBgwGBgYGCAgMCAYICAwIDAgICAwMCAwICAwQDAgIDAgICAgICAwIBAgMCAgICAgGCAgGBggGBAYEBAQICAMDBAQDBAQEAwYGBAQGBAYGBggDBAYGAwYGBAQGCAgICAwICAYICAYICAgICAgICAgIDAgMCAgMBggICAYICBAMCAgGCAwICAgMDAgICAgQEAgIDAgICAgMBgMEAgMEBgwGCAgICAgGBAYEBgQGBgYIBAYIBAYIBgYGCAgGBggECAYGBAgIBggGCAgGBgYGCAQIBAgEBgYIBggEBgYIBggGCAgEBAYEBgICAgQCAwQDAgMCBAMEBAMEBAQGAwgICAwICAgIBggICAgIBAYIBAYGBAQGCAQEBAIEAwQEBgQGDAgIBAQGBggIAQMEAgMEBAMDBAQEBAIEBgQEBgQEBggGBgYGBggGCAYGCAYGCAYEBAYICAYIBgQICAgICAYGBggEBAQEBAQGBAYEBgYIBgQEBAYEBgQEBAQGBAYGCAYIBggGCAYGBgwMCAwICAgICAgICAwICAgIDAwICAgICAwMCAgICAgMBggIDAwMDAgMBAYICAgEDAMEBgYICAgGCAgIDAECBAQGCAgIBgQEBAMEBAYDBAQEAgMCCAgIDAQGCAQGCAYIBAYECAgICAQGBgQICAgICAgICAgIDAgMCAgMCAwICAwIDAgIDAwMDAwIDAwMCAgMAgIDAgMECAMDAwMEAwMDAwMEBAQEBAMEBAQGCAEECAgIBAgECAQDBAgDCAgICAYIAgQECAYIDAYIDAwICAgICAwMCAgIBggIBggGCAYICAgMDAwGBgQGCAQGBAMEBgYEBAQGBAYGBAQEBAYEAgYCBAQCAgMICAgIBggICAgIBAYEBAQGBgYGBgYGCAQGBAYGBAYGBgYICAQEBgYIBgYGCAYEBgQICAgIBgYGCAwGCAYGBgQEBgQEBAYGCA=="
         },
         "y": {
          "dtype": "f8",
          "bdata": "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"
         },
         "type": "scatter"
        },
        {
         "mode": "markers",
         "name": "internal_memory",
         "visible": false,
         "x": {
          "dtype": "i2",
          "bdata": "QACAAEAAQACAAAABQACAAAABAAEAAoAAAAEAAoAAgAAABAABgAAABAABgAAAAQACgACAAAABAAKAAAAEAAGAAAAEAAEAAoAAgACAAAABgAAgAEAAQABAAEAAQACAAAABAAEAAgACAAGAAEAAgAAQAEAAgAAAAUAAIAAgAIAAgABAAEAAgACAAIAAgAAAAYAAgACAAIAAgAAAAYAAgAAAAgABAAEAAoAAQACAAIAAgACAAAABQAAAAoAAAAEAAgACAAKAAAABgACAAIAAQACAAAABAAFAACAAQABAAEAAQABAAIAAQACAAEAAQACAAIAAgABAAIAAgABAAAABgACAAIAAQACAAEAAIABAAIAAAAEAAYAAAAEAAQABgAAAAYAAgAAAAQABgAAAAYAAgAAAAYAAgAAAAYAAgACAAIAAgACAAIAAQACAAAABgACAAIAAgACAAAgAIAAgABAAEAAQACAAIABAACAAIAAgACAAQACAAIAAQAAgAIAAAAEAAgABIABAACAAgACAAIAAIAAgAEAAQAAgAIAAgACAAIAAgACAAAABgACAAIAAAAGAAEAAQABAACAAQABAAIAAgACAAIAAgACAAEAAgABAAIAAQABAAEAAQABAAIAAQACAAIAAgACAAIAAgACAAAABgACAAIAAgACAAIAAgABAAIAAEABAACAAQABAAIAAgAAAAYAAgABAAIAAgACAAAABAAGAAIAAgAAAAYAAAAGAAIAAgAAAAQACgAAAAYAAgAAAAQABAAGAAIAAAAGAAIAAgACAAIAAgAAAAYAAQACAAAABgACAAIAAgACAAIAAgAAAAYAAgACAAIAAQACAAEAAQABAAIAAgAAgACAAgABAACAAQABAAEAAQACAAIAAQACAAIAAQACAAIAAgACAAEAAQACAAIAAIACAAIAAQACAAIAAgACAAIAAAAEAAYAAgACAAIAAgACAAIAAgACAAIAAgACAAIAAAAGAAAABAAEAAQABAAEAAQABgACAAIAAgACAAIAAAAEAAQABgACAAIAAgAAAAYAAgAAAAQABAAEAAQABAAEAAQABAAGAAAABAAGAAIAAAAEAAQABgAAgAEAAIAAgAEAAgAAAAYAAgACAAIAAgACAAEAAQABAAEAAgABAAIAAQACAAIAAQACAAIAAQACAAIAAQACAAIAAgAAAAUAAgACAAIAAgACAAIAAQACAAIAAgACAAIAAAAGAAIAAgABAAEAAgACAAIAAgACAAEAAgACAAIAAgACAAEAAgACAAIAAgACAAIAAgAAAAUAAgACAAEAAgAAQACAAIABAABAAIABAACAAIAAgACAAQAAgAEAAQAAgAEAAQACAAIAAIACAAIAAgAAAAYAAgACAAIAAgACAAAABgACAAIAAQACAAIAAQACAAIAAgABAAIAAgABAAEAAgAAgAEAAIABAAIAAgACAAIAAAAGAAIAAQABAAIAAgACAAIAAEAAgAEAAIAAgAEAAgAAgAEAAgABAAIAAQAAgAEAAgABAAIAAgABAAEAAgACAAEAAgACAAIAAgACAAIAAgABAAIAAgACAAIAAgACAAEAAgACAAIAAAAGAAIAAgABAAIAAgAAAAYAAgACAAIAAgACAAEAAQABAAIAAQABAAIAAgACAAIAAgACAAIAAgABAAIAAQACAAEAAgABAAEAAQABAAIAAQACAAIAAgACAAIAAgACAAIAAgACAAIAAgAAAAQABAAEAAQABgACAAIAAgACAAIAAgACAAIAAgAAAAYAAAAGAAIAAAAGAAIAAAAEAAQACgACAAIAAAAEAAQABgACAAIAAAAEAAQAEAAEAAQACgABAAIAAAAGAAEAAAAIgAIAAgACAAIAAgACAAIAAAAEAAQABAAEQACAAQABAAIAAgAAAAYAAgACAAEAAQABAAEAAQACAAEAAQABAAEAAIAAgAEAAgACAAAABAAGAAIAAgACAAIAAgACAAIAAgACAAEAAgACAAIAAAAFAAEAAQACAAIAAAAGAAIAAgACAAIAAgACAAIAAAAGAAAABgACAAAABgAAAAYAAAAEAAQABAAEAAQABAAEAAQACAAEAAoAAAAEAAQABgAAAAQABIAAgACAAIAAgAIAAgAAgAEAAIABAAEAAIABAACAAIABAAEAAgABAAEAAQABAAIAAgABAAIAAgAAQAIAAgACAAIAAgACAAIAAgACAABAAgACAABAAgACAAIAAgACAAIAAIAAgAEAAgACAAIAAAAGAAAABAAEAAQABgACAAIAAgAAAAQABgAAAAQABgACAAIAAgACAAIAAgACAAIAAgACAAAACAAEAAUAAgABAAIAAgABAAIAAgAAgAEAAgACAAEAAgABAAIAAQACAAIAAgABAAEAAQACAAEAAIACAACAAgABAACAAIAAgAAABgACAAAABgACAAIAAgACAAIAAQACAAIAAQACAAIAAgACAAEAAgABAAIAAgABAAIAAQACAAEAAgACAAEAAgACAAIAAAAGAAIAAQACAAIAAQABAAIAAgACAAIAAgABAAAABAAGAAAABgACAAIAAAAEAAYAAgABAAIAAgABAAEAAQABAAEAAgABAAIAAgAA="
         },
         "y": {
          "dtype": "f8",
          "bdata": "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"
         },
         "type": "scatter"
        },
        {
         "mode": "markers",
         "name": "screen_size",
         "visible": false,
         "x": {
          "dtype": "f8",
          "bdata": "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"
         },
         "y": {
          "dtype": "f8",
          "bdata": "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"
         },
         "type": "scatter"
        },
        {
         "mode": "markers",
         "name": "refresh_rate",
         "visible": false,
         "x": {
          "dtype": "i2",
          "bdata": "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"
         },
         "y": {
          "dtype": "f8",
          "bdata": "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"
         },
         "type": "scatter"
        }
       ],
       "layout": {
        "template": {
         "data": {
          "histogram2dcontour": [
           {
            "type": "histogram2dcontour",
            "colorbar": {
             "outlinewidth": 0,
             "ticks": ""
            },
            "colorscale": [
             [
              0.0,
              "#0d0887"
             ],
             [
              0.1111111111111111,
              "#46039f"
             ],
             [
              0.2222222222222222,
              "#7201a8"
             ],
             [
              0.3333333333333333,
              "#9c179e"
             ],
             [
              0.4444444444444444,
              "#bd3786"
             ],
             [
              0.5555555555555556,
              "#d8576b"
             ],
             [
              0.6666666666666666,
              "#ed7953"
             ],
             [
              0.7777777777777778,
              "#fb9f3a"
             ],
             [
              0.8888888888888888,
              "#fdca26"
             ],
             [
              1.0,
              "#f0f921"
             ]
            ]
           }
          ],
          "choropleth": [
           {
            "type": "choropleth",
            "colorbar": {
             "outlinewidth": 0,
             "ticks": ""
            }
           }
          ],
          "histogram2d": [
           {
            "type": "histogram2d",
            "colorbar": {
             "outlinewidth": 0,
             "ticks": ""
            },
            "colorscale": [
             [
              0.0,
              "#0d0887"
             ],
             [
              0.1111111111111111,
              "#46039f"
             ],
             [
              0.2222222222222222,
              "#7201a8"
             ],
             [
              0.3333333333333333,
              "#9c179e"
             ],
             [
              0.4444444444444444,
              "#bd3786"
             ],
             [
              0.5555555555555556,
              "#d8576b"
             ],
             [
              0.6666666666666666,
              "#ed7953"
             ],
             [
              0.7777777777777778,
              "#fb9f3a"
             ],
             [
              0.8888888888888888,
              "#fdca26"
             ],
             [
              1.0,
              "#f0f921"
             ]
            ]
           }
          ],
          "heatmap": [
           {
            "type": "heatmap",
            "colorbar": {
             "outlinewidth": 0,
             "ticks": ""
            },
            "colorscale": [
             [
              0.0,
              "#0d0887"
             ],
             [
              0.1111111111111111,
              "#46039f"
             ],
             [
              0.2222222222222222,
              "#7201a8"
             ],
             [
              0.3333333333333333,
              "#9c179e"
             ],
             [
              0.4444444444444444,
              "#bd3786"
             ],
             [
              0.5555555555555556,
              "#d8576b"
             ],
             [
              0.6666666666666666,
              "#ed7953"
             ],
             [
              0.7777777777777778,
              "#fb9f3a"
             ],
             [
              0.8888888888888888,
              "#fdca26"
             ],
             [
              1.0,
              "#f0f921"
             ]
            ]
           }
          ],
          "contourcarpet": [
           {
            "type": "contourcarpet",
            "colorbar": {
             "outlinewidth": 0,
             "ticks": ""
            }
           }
          ],
          "contour": [
           {
            "type": "contour",
            "colorbar": {
             "outlinewidth": 0,
             "ticks": ""
            },
            "colorscale": [
             [
              0.0,
              "#0d0887"
             ],
             [
              0.1111111111111111,
              "#46039f"
             ],
             [
              0.2222222222222222,
              "#7201a8"
             ],
             [
              0.3333333333333333,
              "#9c179e"
             ],
             [
              0.4444444444444444,
              "#bd3786"
             ],
             [
              0.5555555555555556,
              "#d8576b"
             ],
             [
              0.6666666666666666,
              "#ed7953"
             ],
             [
              0.7777777777777778,
              "#fb9f3a"
             ],
             [
              0.8888888888888888,
              "#fdca26"
             ],
             [
              1.0,
              "#f0f921"
             ]
            ]
           }
          ],
          "surface": [
           {
            "type": "surface",
            "colorbar": {
             "outlinewidth": 0,
             "ticks": ""
            },
            "colorscale": [
             [
              0.0,
              "#0d0887"
             ],
             [
              0.1111111111111111,
              "#46039f"
             ],
             [
              0.2222222222222222,
              "#7201a8"
             ],
             [
              0.3333333333333333,
              "#9c179e"
             ],
             [
              0.4444444444444444,
              "#bd3786"
             ],
             [
              0.5555555555555556,
              "#d8576b"
             ],
             [
              0.6666666666666666,
              "#ed7953"
             ],
             [
              0.7777777777777778,
              "#fb9f3a"
             ],
             [
              0.8888888888888888,
              "#fdca26"
             ],
             [
              1.0,
              "#f0f921"
             ]
            ]
           }
          ],
          "mesh3d": [
           {
            "type": "mesh3d",
            "colorbar": {
             "outlinewidth": 0,
             "ticks": ""
            }
           }
          ],
          "scatter": [
           {
            "marker": {
             "line": {
              "color": "#283442"
             }
            },
            "type": "scatter"
           }
          ],
          "parcoords": [
           {
            "type": "parcoords",
            "line": {
             "colorbar": {
              "outlinewidth": 0,
              "ticks": ""
             }
            }
           }
          ],
          "scatterpolargl": [
           {
            "type": "scatterpolargl",
            "marker": {
             "colorbar": {
              "outlinewidth": 0,
              "ticks": ""
             }
            }
           }
          ],
          "bar": [
           {
            "error_x": {
             "color": "#f2f5fa"
            },
            "error_y": {
             "color": "#f2f5fa"
            },
            "marker": {
             "line": {
              "color": "rgb(17,17,17)",
              "width": 0.5
             },
             "pattern": {
              "fillmode": "overlay",
              "size": 10,
              "solidity": 0.2
             }
            },
            "type": "bar"
           }
          ],
          "scattergeo": [
           {
            "type": "scattergeo",
            "marker": {
             "colorbar": {
              "outlinewidth": 0,
              "ticks": ""
             }
            }
           }
          ],
          "scatterpolar": [
           {
            "type": "scatterpolar",
            "marker": {
             "colorbar": {
              "outlinewidth": 0,
              "ticks": ""
             }
            }
           }
          ],
          "histogram": [
           {
            "marker": {
             "pattern": {
              "fillmode": "overlay",
              "size": 10,
              "solidity": 0.2
             }
            },
            "type": "histogram"
           }
          ],
          "scattergl": [
           {
            "marker": {
             "line": {
              "color": "#283442"
             }
            },
            "type": "scattergl"
           }
          ],
          "scatter3d": [
           {
            "type": "scatter3d",
            "line": {
             "colorbar": {
              "outlinewidth": 0,
              "ticks": ""
             }
            },
            "marker": {
             "colorbar": {
              "outlinewidth": 0,
              "ticks": ""
             }
            }
           }
          ],
          "scattermap": [
           {
            "type": "scattermap",
            "marker": {
             "colorbar": {
              "outlinewidth": 0,
              "ticks": ""
             }
            }
           }
          ],
          "scattermapbox": [
           {
            "type": "scattermapbox",
            "marker": {
             "colorbar": {
              "outlinewidth": 0,
              "ticks": ""
             }
            }
           }
          ],
          "scatterternary": [
           {
            "type": "scatterternary",
            "marker": {
             "colorbar": {
              "outlinewidth": 0,
              "ticks": ""
             }
            }
           }
          ],
          "scattercarpet": [
           {
            "type": "scattercarpet",
            "marker": {
             "colorbar": {
              "outlinewidth": 0,
              "ticks": ""
             }
            }
           }
          ],
          "carpet": [
           {
            "aaxis": {
             "endlinecolor": "#A2B1C6",
             "gridcolor": "#506784",
             "linecolor": "#506784",
             "minorgridcolor": "#506784",
             "startlinecolor": "#A2B1C6"
            },
            "baxis": {
             "endlinecolor": "#A2B1C6",
             "gridcolor": "#506784",
             "linecolor": "#506784",
             "minorgridcolor": "#506784",
             "startlinecolor": "#A2B1C6"
            },
            "type": "carpet"
           }
          ],
          "table": [
           {
            "cells": {
             "fill": {
              "color": "#506784"
             },
             "line": {
              "color": "rgb(17,17,17)"
             }
            },
            "header": {
             "fill": {
              "color": "#2a3f5f"
             },
             "line": {
              "color": "rgb(17,17,17)"
             }
            },
            "type": "table"
           }
          ],
          "barpolar": [
           {
            "marker": {
             "line": {
              "color": "rgb(17,17,17)",
              "width": 0.5
             },
             "pattern": {
              "fillmode": "overlay",
              "size": 10,
              "solidity": 0.2
             }
            },
            "type": "barpolar"
           }
          ],
          "pie": [
           {
            "automargin": true,
            "type": "pie"
           }
          ]
         },
         "layout": {
          "autotypenumbers": "strict",
          "colorway": [
           "#636efa",
           "#EF553B",
           "#00cc96",
           "#ab63fa",
           "#FFA15A",
           "#19d3f3",
           "#FF6692",
           "#B6E880",
           "#FF97FF",
           "#FECB52"
          ],
          "font": {
           "color": "#f2f5fa"
          },
          "hovermode": "closest",
          "hoverlabel": {
           "align": "left"
          },
          "paper_bgcolor": "rgb(17,17,17)",
          "plot_bgcolor": "rgb(17,17,17)",
          "polar": {
           "bgcolor": "rgb(17,17,17)",
           "angularaxis": {
            "gridcolor": "#506784",
            "linecolor": "#506784",
            "ticks": ""
           },
           "radialaxis": {
            "gridcolor": "#506784",
            "linecolor": "#506784",
            "ticks": ""
           }
          },
          "ternary": {
           "bgcolor": "rgb(17,17,17)",
           "aaxis": {
            "gridcolor": "#506784",
            "linecolor": "#506784",
            "ticks": ""
           },
           "baxis": {
            "gridcolor": "#506784",
            "linecolor": "#506784",
            "ticks": ""
           },
           "caxis": {
            "gridcolor": "#506784",
            "linecolor": "#506784",
            "ticks": ""
           }
          },
          "coloraxis": {
           "colorbar": {
            "outlinewidth": 0,
            "ticks": ""
           }
          },
          "colorscale": {
           "sequential": [
            [
             0.0,
             "#0d0887"
            ],
            [
             0.1111111111111111,
             "#46039f"
            ],
            [
             0.2222222222222222,
             "#7201a8"
            ],
            [
             0.3333333333333333,
             "#9c179e"
            ],
            [
             0.4444444444444444,
             "#bd3786"
            ],
            [
             0.5555555555555556,
             "#d8576b"
            ],
            [
             0.6666666666666666,
             "#ed7953"
            ],
            [
             0.7777777777777778,
             "#fb9f3a"
            ],
            [
             0.8888888888888888,
             "#fdca26"
            ],
            [
             1.0,
             "#f0f921"
            ]
           ],
           "sequentialminus": [
            [
             0.0,
             "#0d0887"
            ],
            [
             0.1111111111111111,
             "#46039f"
            ],
            [
             0.2222222222222222,
             "#7201a8"
            ],
            [
             0.3333333333333333,
             "#9c179e"
            ],
            [
             0.4444444444444444,
             "#bd3786"
            ],
            [
             0.5555555555555556,
             "#d8576b"
            ],
            [
             0.6666666666666666,
             "#ed7953"
            ],
            [
             0.7777777777777778,
             "#fb9f3a"
            ],
            [
             0.8888888888888888,
             "#fdca26"
            ],
            [
             1.0,
             "#f0f921"
            ]
           ],
           "diverging": [
            [
             0,
             "#8e0152"
            ],
            [
             0.1,
             "#c51b7d"
            ],
            [
             0.2,
             "#de77ae"
            ],
            [
             0.3,
             "#f1b6da"
            ],
            [
             0.4,
             "#fde0ef"
            ],
            [
             0.5,
             "#f7f7f7"
            ],
            [
             0.6,
             "#e6f5d0"
            ],
            [
             0.7,
             "#b8e186"
            ],
            [
             0.8,
             "#7fbc41"
            ],
            [
             0.9,
             "#4d9221"
            ],
            [
             1,
             "#276419"
            ]
           ]
          },
          "xaxis": {
           "gridcolor": "#283442",
           "linecolor": "#506784",
           "ticks": "",
           "title": {
            "standoff": 15
           },
           "zerolinecolor": "#283442",
           "automargin": true,
           "zerolinewidth": 2
          },
          "yaxis": {
           "gridcolor": "#283442",
           "linecolor": "#506784",
           "ticks": "",
           "title": {
            "standoff": 15
           },
           "zerolinecolor": "#283442",
           "automargin": true,
           "zerolinewidth": 2
          },
          "scene": {
           "xaxis": {
            "backgroundcolor": "rgb(17,17,17)",
            "gridcolor": "#506784",
            "linecolor": "#506784",
            "showbackground": true,
            "ticks": "",
            "zerolinecolor": "#C8D4E3",
            "gridwidth": 2
           },
           "yaxis": {
            "backgroundcolor": "rgb(17,17,17)",
            "gridcolor": "#506784",
            "linecolor": "#506784",
            "showbackground": true,
            "ticks": "",
            "zerolinecolor": "#C8D4E3",
            "gridwidth": 2
           },
           "zaxis": {
            "backgroundcolor": "rgb(17,17,17)",
            "gridcolor": "#506784",
            "linecolor": "#506784",
            "showbackground": true,
            "ticks": "",
            "zerolinecolor": "#C8D4E3",
            "gridwidth": 2
           }
          },
          "shapedefaults": {
           "line": {
            "color": "#f2f5fa"
           }
          },
          "annotationdefaults": {
           "arrowcolor": "#f2f5fa",
           "arrowhead": 0,
           "arrowwidth": 1
          },
          "geo": {
           "bgcolor": "rgb(17,17,17)",
           "landcolor": "rgb(17,17,17)",
           "subunitcolor": "#506784",
           "showland": true,
           "showlakes": true,
           "lakecolor": "rgb(17,17,17)"
          },
          "title": {
           "x": 0.05
          },
          "updatemenudefaults": {
           "bgcolor": "#506784",
           "borderwidth": 0
          },
          "sliderdefaults": {
           "bgcolor": "#C8D4E3",
           "borderwidth": 1,
           "bordercolor": "rgb(17,17,17)",
           "tickwidth": 0
          },
          "mapbox": {
           "style": "dark"
          }
         }
        },
        "updatemenus": [
         {
          "buttons": [
           {
            "args": [
             {
              "visible": [
               true,
               false,
               false,
               false,
               false,
               false,
               false
              ]
             },
             {
              "xaxis": {
               "title": "rating"
              }
             }
            ],
            "label": "rating",
            "method": "update"
           },
           {
            "args": [
             {
              "visible": [
               false,
               true,
               false,
               false,
               false,
               false,
               false
              ]
             },
             {
              "xaxis": {
               "title": "num_cores"
              }
             }
            ],
            "label": "num_cores",
            "method": "update"
           },
           {
            "args": [
             {
              "visible": [
               false,
               false,
               true,
               false,
               false,
               false,
               false
              ]
             },
             {
              "xaxis": {
               "title": "processor_speed"
              }
             }
            ],
            "label": "processor_speed",
            "method": "update"
           },
           {
            "args": [
             {
              "visible": [
               false,
               false,
               false,
               true,
               false,
               false,
               false
              ]
             },
             {
              "xaxis": {
               "title": "ram_capacity"
              }
             }
            ],
            "label": "ram_capacity",
            "method": "update"
           },
           {
            "args": [
             {
              "visible": [
               false,
               false,
               false,
               false,
               true,
               false,
               false
              ]
             },
             {
              "xaxis": {
               "title": "internal_memory"
              }
             }
            ],
            "label": "internal_memory",
            "method": "update"
           },
           {
            "args": [
             {
              "visible": [
               false,
               false,
               false,
               false,
               false,
               true,
               false
              ]
             },
             {
              "xaxis": {
               "title": "screen_size"
              }
             }
            ],
            "label": "screen_size",
            "method": "update"
           },
           {
            "args": [
             {
              "visible": [
               false,
               false,
               false,
               false,
               false,
               false,
               true
              ]
             },
             {
              "xaxis": {
               "title": "refresh_rate"
              }
             }
            ],
            "label": "refresh_rate",
            "method": "update"
           }
          ],
          "direction": "down",
          "showactive": true,
          "x": 0.1,
          "y": 1.15
         }
        ],
        "title": {
         "text": "Prix vs variable sélectionnée"
        },
        "xaxis": {
         "title": {
          "text": "rating"
         }
        },
        "yaxis": {
         "title": {
          "text": "Prix (€)"
         }
        },
        "height": 600
       },
       "config": {
        "plotlyServerURL": "https://plot.ly"
       }
      },
      "text/html": [
       "<div>            <script src=\"https://cdnjs.cloudflare.com/ajax/libs/mathjax/2.7.5/MathJax.js?config=TeX-AMS-MML_SVG\"></script><script type=\"text/javascript\">if (window.MathJax && window.MathJax.Hub && window.MathJax.Hub.Config) {window.MathJax.Hub.Config({SVG: {font: \"STIX-Web\"}});}</script>                <script type=\"text/javascript\">window.PlotlyConfig = {MathJaxConfig: 'local'};</script>\n",
       "        <script charset=\"utf-8\" src=\"https://cdn.plot.ly/plotly-3.0.1.min.js\" integrity=\"sha256-oy6Be7Eh6eiQFs5M7oXuPxxm9qbJXEtTpfSI93dW16Q=\" crossorigin=\"anonymous\"></script>                <div id=\"5d594aed-2d12-45e3-98fa-cec3f8df5dae\" class=\"plotly-graph-div\" style=\"height:600px; width:100%;\"></div>            <script type=\"text/javascript\">                window.PLOTLYENV=window.PLOTLYENV || {};                                if (document.getElementById(\"5d594aed-2d12-45e3-98fa-cec3f8df5dae\")) {                    Plotly.newPlot(                        \"5d594aed-2d12-45e3-98fa-cec3f8df5dae\",                        [{\"mode\":\"markers\",\"name\":\"rating\",\"visible\":true,\"x\":{\"dtype\":\"f8\",\"bdata\":\"AAAAAABAUkAAAAAAAMBSQAAAAAAAQFNAAAAAAACAUkAAAAAAAMBSQAAAAAAAAFNAAAAAAACAUkAAAAAAAMBSQAAAAAAAwFJAAAAAAAAAVEAAAAAAAABUQAAAAAAAwFNAAAAAAADAU0AAAAAAAABUQAAAAAAAwFNAAAAAAADAVEAAAAAAAABVQAAAAAAAwFRAAAAAAAAAVUAAAAAAAIBVQAAAAAAAAFVAAAAAAABAVEAAAAAAAIBUQAAAAAAAgFRAAAAAAACAUUAAAAAAAIBUQAAAAAAAwFRAAAAAAADAVEAAAAAAAMBSQAAAAAAAQFNAAAAAAAAAU0AAAAAAAABTQAAAAAAAgFNAAAAAAABAU0AAAAAAAIBTQAAAAAAAAFJAAAAAAADAUkAAAAAAAMBSQAAAAAAAwFNAAAAAAADAU0AAAAAAAAD4fwAAAAAAgE5AAAAAAACAT0AAAAAAAAD4fwAAAAAAAE5AAAAAAAAATkAAAAAAAMBVQAAAAAAAgFVAAAAAAAAAVkAAAAAAAABWQAAAAAAAAPh\\u002fAAAAAADAVUAAAAAAAIBVQAAAAAAAwFBAAAAAAABAVUAAAAAAAAD4fwAAAAAAgFJAAAAAAAAAVUAAAAAAAABWQAAAAAAAAPh\\u002fAAAAAAAA+H8AAAAAAAD4fwAAAAAAwFBAAAAAAABAUUAAAAAAAMBQQAAAAAAAgFNAAAAAAACAVEAAAAAAAIBTQAAAAAAAAFVAAAAAAABAVkAAAAAAAAD4fwAAAAAAwFFAAAAAAACAVUAAAAAAAAD4fwAAAAAAQFFAAAAAAADAUkAAAAAAAABUQAAAAAAAQFVAAAAAAADAUkAAAAAAAABWQAAAAAAAgFVAAAAAAAAA+H8AAAAAAAD4fwAAAAAAAFFAAAAAAADAUUAAAAAAAMBSQAAAAAAAAFNAAAAAAADAUkAAAAAAAABUQAAAAAAAQFRAAAAAAACAUEAAAAAAAAD4fwAAAAAAAPh\\u002fAAAAAABAVUAAAAAAAEBUQAAAAAAAAPh\\u002fAAAAAABAVkAAAAAAAIBUQAAAAAAAAFVAAAAAAABAVEAAAAAAAMBUQAAAAAAAAFVAAAAAAACAT0AAAAAAAIBUQAAAAAAAAPh\\u002fAAAAAAAA+H8AAAAAAIBOQAAAAAAAgE5AAAAAAAAATkAAAAAAAMBRQAAAAAAAAFJAAAAAAACAUEAAAAAAAIBSQAAAAAAAAFNAAAAAAADAUkAAAAAAAIBTQAAAAAAAwFBAAAAAAAAAUEAAAAAAAEBTQAAAAAAAQFNAAAAAAADAU0AAAAAAAIBSQAAAAAAAQFNAAAAAAADAU0AAAAAAAIBTQAAAAAAAwFRAAAAAAAAAVUAAAAAAAMBTQAAAAAAAAFVAAAAAAABAUkAAAAAAAABUQAAAAAAAAE5AAAAAAAAA+H8AAAAAAIBPQAAAAAAAwFVAAAAAAABAVUAAAAAAAEBWQAAAAAAAQFVAAAAAAABAVkAAAAAAAABWQAAAAAAAQFZAAAAAAADAVEAAAAAAAEBVQAAAAAAAAFVAAAAAAAAAVUAAAAAAAEBVQAAAAAAAAFZAAAAAAADAVEAAAAAAAEBVQAAAAAAAQFVAAAAAAACAVEAAAAAAAABVQAAAAAAAwFRAAAAAAACAVEAAAAAAAABVQAAAAAAAwFRAAAAAAABAU0AAAAAAAABUQAAAAAAAgFNAAAAAAAAAVEAAAAAAAIBUQAAAAAAAwFNAAAAAAADAUkAAAAAAAIBTQAAAAAAAgFRAAAAAAAAAVEAAAAAAAABUQAAAAAAAAFRAAAAAAACAU0AAAAAAAABTQAAAAAAAAPh\\u002fAAAAAAAA+H8AAAAAAAD4fwAAAAAAAPh\\u002fAAAAAAAA+H8AAAAAAAD4fwAAAAAAAPh\\u002fAAAAAAAA+H8AAAAAAIBOQAAAAAAAAPh\\u002fAAAAAAAAUEAAAAAAAAD4fwAAAAAAAPh\\u002fAAAAAAAA+H8AAAAAAABVQAAAAAAAQFJAAAAAAACAUEAAAAAAAAD4fwAAAAAAQFBAAAAAAABAVkAAAAAAAEBWQAAAAAAAwFVAAAAAAAAA+H8AAAAAAABOQAAAAAAAAPh\\u002fAAAAAAAA+H8AAAAAAEBVQAAAAAAAQFZAAAAAAAAATkAAAAAAAAD4fwAAAAAAgFBAAAAAAAAAUUAAAAAAAABOQAAAAAAAwFVAAAAAAADAVEAAAAAAAEBVQAAAAAAAAFZAAAAAAABAVkAAAAAAAAD4fwAAAAAAAPh\\u002fAAAAAACAVUAAAAAAAMBVQAAAAAAAQFZAAAAAAABAVkAAAAAAAMBVQAAAAAAAQFBAAAAAAACAUUAAAAAAAMBRQAAAAAAAQFBAAAAAAADAUEAAAAAAAMBRQAAAAAAAAFVAAAAAAABAVUAAAAAAAMBUQAAAAAAAAPh\\u002fAAAAAACAVEAAAAAAAMBSQAAAAAAAwFJAAAAAAABAU0AAAAAAAMBSQAAAAAAAgFNAAAAAAADAUkAAAAAAAEBTQAAAAAAAgFNAAAAAAABAU0AAAAAAAMBSQAAAAAAAwFNAAAAAAAAAU0AAAAAAAMBTQAAAAAAAAFVAAAAAAAAAVUAAAAAAAEBUQAAAAAAAAFRAAAAAAABAVEAAAAAAAMBUQAAAAAAAQFVAAAAAAACAVUAAAAAAAMBUQAAAAAAAAFRAAAAAAADAVEAAAAAAAAD4fwAAAAAAQFZAAAAAAAAAVEAAAAAAAABRQAAAAAAAQFZAAAAAAAAA+H8AAAAAAABQQAAAAAAAAE9AAAAAAACAUUAAAAAAAMBRQAAAAAAAwFJAAAAAAABAVEAAAAAAAAD4fwAAAAAAgFRAAAAAAABAVUAAAAAAAABTQAAAAAAAwFVAAAAAAAAA+H8AAAAAAEBVQAAAAAAAwFVAAAAAAACAVUAAAAAAAABUQAAAAAAAAFZAAAAAAAAAVUAAAAAAAIBVQAAAAAAAAFVAAAAAAACAVUAAAAAAAABVQAAAAAAAgFRAAAAAAABAVkAAAAAAAAD4fwAAAAAAAPh\\u002fAAAAAACAVUAAAAAAAMBVQAAAAAAAQFVAAAAAAABAVUAAAAAAAMBVQAAAAAAAwFVAAAAAAABAVkAAAAAAAAD4fwAAAAAAQFVAAAAAAAAA+H8AAAAAAEBTQAAAAAAAQFZAAAAAAABAVUAAAAAAAIBVQAAAAAAAAFVAAAAAAAAAVUAAAAAAAIBVQAAAAAAAwFRAAAAAAABAUUAAAAAAAMBUQAAAAAAAQFVAAAAAAAAAVUAAAAAAAABVQAAAAAAAAFVAAAAAAADAVEAAAAAAAABTQAAAAAAAQFRAAAAAAAAAVUAAAAAAAEBVQAAAAAAAwFRAAAAAAABAVEAAAAAAAEBTQAAAAAAAQFRAAAAAAAAAUUAAAAAAAEBUQAAAAAAAwFJAAAAAAADAUkAAAAAAAEBSQAAAAAAAwFNAAAAAAAAAVUAAAAAAAABQQAAAAAAAgFBAAAAAAAAAUkAAAAAAAEBRQAAAAAAAQFBAAAAAAAAAUUAAAAAAAIBQQAAAAAAAAFJAAAAAAAAAT0AAAAAAAABSQAAAAAAAgFFAAAAAAACAUUAAAAAAAMBRQAAAAAAAgFJAAAAAAABAUkAAAAAAAABTQAAAAAAAgFJAAAAAAABAUkAAAAAAAMBSQAAAAAAAwFBAAAAAAABAUUAAAAAAAABTQAAAAAAAAFJAAAAAAAAAT0AAAAAAAEBTQAAAAAAAQFJAAAAAAACAUUAAAAAAAMBRQAAAAAAAAFNAAAAAAAAAU0AAAAAAAMBTQAAAAAAAAFRAAAAAAACAVEAAAAAAAMBTQAAAAAAAwFVAAAAAAADAVEAAAAAAAIBTQAAAAAAAAFRAAAAAAACAVEAAAAAAAMBTQAAAAAAAgFRAAAAAAACAVEAAAAAAAIBUQAAAAAAAgFRAAAAAAADAVEAAAAAAAIBUQAAAAAAAwFRAAAAAAAAA+H8AAAAAAABWQAAAAAAAAPh\\u002fAAAAAAAA+H8AAAAAAABWQAAAAAAAAPh\\u002fAAAAAAAA+H8AAAAAAEBWQAAAAAAAAPh\\u002fAAAAAACAU0AAAAAAAABUQAAAAAAAwFNAAAAAAABAVEAAAAAAAIBTQAAAAAAAgFRAAAAAAAAAVUAAAAAAAIBVQAAAAAAAAFZAAAAAAADAVEAAAAAAAABVQAAAAAAAAFRAAAAAAADAVEAAAAAAAMBVQAAAAAAAwFVAAAAAAAAAVUAAAAAAAEBVQAAAAAAAgFVAAAAAAACAVUAAAAAAAIBVQAAAAAAAwFVAAAAAAADAVEAAAAAAAMBUQAAAAAAAgFVAAAAAAACAVUAAAAAAAABVQAAAAAAAQFVAAAAAAADAVUAAAAAAAABVQAAAAAAAwFRAAAAAAACAVUAAAAAAAABVQAAAAAAAgFRAAAAAAAAAUkAAAAAAAEBQQAAAAAAAAFFAAAAAAAAA+H8AAAAAAIBOQAAAAAAAgFFAAAAAAADAU0AAAAAAAIBVQAAAAAAAgFRAAAAAAABAVUAAAAAAAIBVQAAAAAAAQFVAAAAAAACAVUAAAAAAAABVQAAAAAAAgFJAAAAAAAAAU0AAAAAAAMBSQAAAAAAAwFJAAAAAAADAU0AAAAAAAMBSQAAAAAAAwFNAAAAAAABAU0AAAAAAAMBTQAAAAAAAQFRAAAAAAAAAU0AAAAAAAEBUQAAAAAAAgFRAAAAAAACAUkAAAAAAAEBTQAAAAAAAAFVAAAAAAAAAVEAAAAAAAIBUQAAAAAAAwFNAAAAAAAAAVUAAAAAAAEBVQAAAAAAAAFRAAAAAAACAVEAAAAAAAABVQAAAAAAAgFJAAAAAAAAAVUAAAAAAAEBUQAAAAAAAAFJAAAAAAACAUkAAAAAAAMBTQAAAAAAAwFNAAAAAAACAVEAAAAAAAABVQAAAAAAAgFRAAAAAAABAVUAAAAAAAABUQAAAAAAAgFRAAAAAAACAU0AAAAAAAEBTQAAAAAAAAFRAAAAAAABAVUAAAAAAAIBTQAAAAAAAwFRAAAAAAADAUkAAAAAAAABUQAAAAAAAgFJAAAAAAABAU0AAAAAAAABUQAAAAAAAgFRAAAAAAABAVEAAAAAAAABVQAAAAAAAwFJAAAAAAADAU0AAAAAAAABUQAAAAAAAgFRAAAAAAAAAVEAAAAAAAIBUQAAAAAAAgFNAAAAAAABAVEAAAAAAAIBUQAAAAAAAwFJAAAAAAADAUkAAAAAAAIBTQAAAAAAAwFJAAAAAAACAU0AAAAAAAAD4fwAAAAAAgE5AAAAAAACATkAAAAAAAIBOQAAAAAAAAPh\\u002fAAAAAAAAT0AAAAAAAEBRQAAAAAAAgE9AAAAAAAAA+H8AAAAAAABOQAAAAAAAAPh\\u002fAAAAAAAAT0AAAAAAAABPQAAAAAAAQFBAAAAAAABAUEAAAAAAAABQQAAAAAAAwFBAAAAAAACAUUAAAAAAAMBRQAAAAAAAgFJAAAAAAAAAUEAAAAAAAABVQAAAAAAAgFVAAAAAAABAVkAAAAAAAEBWQAAAAAAAQFVAAAAAAABAVUAAAAAAAABVQAAAAAAAwFRAAAAAAADAU0AAAAAAAEBUQAAAAAAAgFRAAAAAAAAAVEAAAAAAAMBUQAAAAAAAgFRAAAAAAAAAUkAAAAAAAABUQAAAAAAAwFRAAAAAAACAUkAAAAAAAEBTQAAAAAAAwFNAAAAAAAAAU0AAAAAAAMBSQAAAAAAAQFRAAAAAAADAVEAAAAAAAMBRQAAAAAAAQFJAAAAAAACAUkAAAAAAAAD4fwAAAAAAAE9AAAAAAACATkAAAAAAAABQQAAAAAAAQFFAAAAAAAAAVEAAAAAAAABTQAAAAAAAgFNAAAAAAADAVUAAAAAAAEBVQAAAAAAAAFVAAAAAAADAUkAAAAAAAIBRQAAAAAAAQFRAAAAAAABAVEAAAAAAAMBVQAAAAAAAwFVAAAAAAAAA+H8AAAAAAIBQQAAAAAAAQFFAAAAAAAAA+H8AAAAAAMBQQAAAAAAAwFFAAAAAAAAAUkAAAAAAAEBQQAAAAAAAgFBAAAAAAABAUUAAAAAAAMBRQAAAAAAAAFJAAAAAAACAT0AAAAAAAIBPQAAAAAAAwFFAAAAAAADAUkAAAAAAAMBSQAAAAAAAwFJAAAAAAACAU0AAAAAAAEBSQAAAAAAAwFJAAAAAAADAU0AAAAAAAIBUQAAAAAAAgE9AAAAAAADAUkAAAAAAAABTQAAAAAAAwFNAAAAAAADAU0AAAAAAAIBUQAAAAAAAwFNAAAAAAABAVEAAAAAAAEBTQAAAAAAAAFRAAAAAAACAVEAAAAAAAMBTQAAAAAAAgFRAAAAAAABAVUAAAAAAAMBSQAAAAAAAQFFAAAAAAAAAVEAAAAAAAMBUQAAAAAAAgFVAAAAAAABAVkAAAAAAAMBVQAAAAAAAQFZAAAAAAAAAU0AAAAAAAIBRQAAAAAAAgFVAAAAAAAAA+H8AAAAAAAD4fwAAAAAAAPh\\u002fAAAAAADAVEAAAAAAAIBVQAAAAAAAgFVAAAAAAACAU0AAAAAAAABUQAAAAAAAAFFAAAAAAABAUkAAAAAAAIBSQAAAAAAAwFJAAAAAAADAUEAAAAAAAEBSQAAAAAAAAFNAAAAAAACAU0AAAAAAAABUQAAAAAAAgFNAAAAAAACAVEAAAAAAAABUQAAAAAAAgFRAAAAAAAAAVUAAAAAAAIBQQAAAAAAAAFFAAAAAAAAAUkAAAAAAAMBSQAAAAAAAwFFAAAAAAADAUkAAAAAAAMBRQAAAAAAAAE5AAAAAAAAAU0AAAAAAAABTQAAAAAAAAFRAAAAAAADAUkAAAAAAAMBTQAAAAAAAQFRAAAAAAAAAVUAAAAAAAABVQAAAAAAAgFJAAAAAAAAAUkAAAAAAAIBSQAAAAAAAQFVAAAAAAADAVUAAAAAAAEBVQAAAAAAAwFRAAAAAAADAVEAAAAAAAEBWQAAAAAAAQFZAAAAAAADAVUAAAAAAAAD4fwAAAAAAgFVAAAAAAABAVEAAAAAAAABWQAAAAAAAQFZAAAAAAACAVUAAAAAAAABWQAAAAAAAAFZAAAAAAAAA+H8AAAAAAAD4fwAAAAAAAFZAAAAAAADAVUAAAAAAAABWQAAAAAAAAFZAAAAAAAAA+H8AAAAAAAD4fwAAAAAAgFVAAAAAAADAVUAAAAAAAMBTQAAAAAAAwFVAAAAAAAAAVkAAAAAAAAD4fwAAAAAAAPh\\u002fAAAAAAAA+H8AAAAAAABWQAAAAAAAQFNAAAAAAABAVkAAAAAAAAD4fwAAAAAAQFVAAAAAAACAU0AAAAAAAABVQAAAAAAAAFZAAAAAAABAVkAAAAAAAAD4fwAAAAAAAPh\\u002fAAAAAAAAVkAAAAAAAEBWQAAAAAAAAPh\\u002fAAAAAADAUkAAAAAAAIBTQAAAAAAAgFVAAAAAAABAVkAAAAAAAABUQAAAAAAAQFJAAAAAAAAA+H8AAAAAAABOQAAAAAAAwFJAAAAAAADAU0AAAAAAAEBTQAAAAAAAQFRAAAAAAACAVEAAAAAAAABVQAAAAAAAwFNAAAAAAAAAVUAAAAAAAABVQAAAAAAAQFVAAAAAAABAVkAAAAAAAAD4fwAAAAAAAPh\\u002fAAAAAACAUkAAAAAAAIBSQAAAAAAAQFNAAAAAAABAUkAAAAAAAIBSQAAAAAAAgFNAAAAAAADAUEAAAAAAAMBRQAAAAAAAAFBAAAAAAAAAUkAAAAAAAABPQAAAAAAAgE9AAAAAAACAUUAAAAAAAEBRQAAAAAAAgE9AAAAAAABAUEAAAAAAAIBSQAAAAAAAAFJAAAAAAACATkAAAAAAAABPQAAAAAAAAE9AAAAAAACAVEAAAAAAAEBVQAAAAAAAgFVAAAAAAABAU0AAAAAAAEBTQAAAAAAAwFNAAAAAAACAVEAAAAAAAIBTQAAAAAAAAFRAAAAAAADAVEAAAAAAAEBUQAAAAAAAAFVAAAAAAADAUkAAAAAAAEBTQAAAAAAAgFJAAAAAAABAVUAAAAAAAABTQAAAAAAAAFRAAAAAAACAVUAAAAAAAABSQAAAAAAAgFJAAAAAAADAUUAAAAAAAIBRQAAAAAAAgFNAAAAAAAAAVUAAAAAAAEBVQAAAAAAAAFVAAAAAAACAVEAAAAAAAMBUQAAAAAAAQFVAAAAAAABAVUAAAAAAAIBVQAAAAAAAwFRAAAAAAACAVUAAAAAAAEBVQAAAAAAAwFVAAAAAAACAVEAAAAAAAABVQAAAAAAAQFVAAAAAAADAVEAAAAAAAIBVQAAAAAAAQFVAAAAAAAAAVUAAAAAAAMBVQAAAAAAAwFRAAAAAAADAVUAAAAAAAABVQAAAAAAAAFVAAAAAAAAA+H8AAAAAAAD4fwAAAAAAAPh\\u002fAAAAAAAA+H8AAAAAAAD4fwAAAAAAgFVAAAAAAAAAVkAAAAAAAAD4fwAAAAAAAPh\\u002fAAAAAAAAVkAAAAAAAAD4fwAAAAAAAPh\\u002fAAAAAACATkAAAAAAAABOQAAAAAAAAPh\\u002fAAAAAAAA+H8AAAAAAIBOQAAAAAAAgE9AAAAAAACAVEAAAAAAAABQQAAAAAAAAFFAAAAAAABAUEAAAAAAAABRQAAAAAAAwFFAAAAAAACAUEAAAAAAAMBQQAAAAAAAgFBAAAAAAABAUEAAAAAAAIBQQAAAAAAAAFFAAAAAAABAUkAAAAAAAEBRQAAAAAAAQFBAAAAAAABAUUAAAAAAAEBRQAAAAAAAgFJAAAAAAACAUkAAAAAAAABSQAAAAAAAwFJAAAAAAABAU0AAAAAAAAD4fwAAAAAAwFFAAAAAAAAAVEAAAAAAAEBUQAAAAAAAAFRAAAAAAACAUUAAAAAAAMBTQAAAAAAAwFBAAAAAAADAVEAAAAAAAEBTQAAAAAAAAPh\\u002fAAAAAACAU0AAAAAAAMBTQAAAAAAAAPh\\u002fAAAAAAAAVEAAAAAAAEBTQAAAAAAAgFRAAAAAAACAVEAAAAAAAABTQAAAAAAAQFNAAAAAAAAA+H8AAAAAAABPQAAAAAAAQFBAAAAAAADAVEAAAAAAAMBUQAAAAAAAgFVAAAAAAAAAVkAAAAAAAIBUQAAAAAAAQFZAAAAAAAAA+H8AAAAAAAD4fwAAAAAAAPh\\u002fAAAAAADAVUAAAAAAAEBWQAAAAAAAQFZAAAAAAAAA+H8AAAAAAAD4fwAAAAAAQFZAAAAAAABAVUAAAAAAAIBVQAAAAAAAAFZAAAAAAAAAVEAAAAAAAIBVQAAAAAAAgFRAAAAAAADAVEAAAAAAAIBVQAAAAAAAQFRAAAAAAACAVUAAAAAAAABUQAAAAAAAwFRAAAAAAABAVUAAAAAAAMBVQAAAAAAAAPh\\u002fAAAAAAAA+H8AAAAAAAD4fwAAAAAAQFNAAAAAAACAU0AAAAAAAMBRQAAAAAAAwFJAAAAAAABAU0AAAAAAAIBSQAAAAAAAQFNAAAAAAABAUUAAAAAAAABQQAAAAAAAgFBAAAAAAACAUUAAAAAAAEBRQAAAAAAAwFFAAAAAAABAUkAAAAAAAIBSQAAAAAAAAFNAAAAAAACAUkAAAAAAAEBTQAAAAAAAwFNAAAAAAABAU0AAAAAAAIBQQAAAAAAAAFFAAAAAAAAAUUAAAAAAAABSQAAAAAAAgFJAAAAAAACATkAAAAAAAEBRQAAAAAAAgE5AAAAAAADAUEAAAAAAAIBQQAAAAAAAAPh\\u002fAAAAAAAATkAAAAAAAIBOQAAAAAAAAFZAAAAAAADAVEAAAAAAAEBVQAAAAAAAQFVAAAAAAACAVEAAAAAAAABVQAAAAAAAgFVAAAAAAABAVUAAAAAAAMBUQAAAAAAAQFVAAAAAAADAUkAAAAAAAIBTQAAAAAAAAFNAAAAAAAAAU0AAAAAAAEBTQAAAAAAAAFRAAAAAAABAVEAAAAAAAMBUQAAAAAAAQFRAAAAAAACAVEAAAAAAAIBTQAAAAAAAwFNAAAAAAACAVEAAAAAAAMBSQAAAAAAAwFNAAAAAAAAAU0AAAAAAAABUQAAAAAAAwFNAAAAAAABAU0AAAAAAAEBUQAAAAAAAQFRAAAAAAADAVEAAAAAAAMBUQAAAAAAAgFVAAAAAAADAVUAAAAAAAEBRQAAAAAAAQFJAAAAAAAAAVEAAAAAAAEBUQAAAAAAAAFVAAAAAAAAAVEAAAAAAAMBTQAAAAAAAQFRAAAAAAADAVEAAAAAAAIBUQAAAAAAAAFNAAAAAAADAU0AAAAAAAMBSQAAAAAAAgFVAAAAAAABAVkAAAAAAAIBUQAAAAAAAgFRAAAAAAABAU0AAAAAAAMBTQAAAAAAAwFRAAAAAAACAVUAAAAAAAMBVQAAAAAAAAFVAAAAAAABAVEAAAAAAAIBTQAAAAAAAgFNAAAAAAADAVEAAAAAAAEBQQAAAAAAAwFJAAAAAAACAU0AAAAAAAMBSQAAAAAAAwFJAAAAAAABAU0AAAAAAAABUQAAAAAAAgFRAAAAAAABAVkA=\"},\"y\":{\"dtype\":\"f8\",\"bdata\":\"w\\u002fUoXI9KeEAK16NwPUZ9QNejcD0KHZFA9ihcj8IxgEAfhetRuHCBQD0K16NwLYVAmpmZmZmJeUB7FK5H4aZ8QB+F61G4cIFASOF6FK6rkkApXI\\u002fC9ciVQM3MzMzMnoNArkfhehS8hkB7FK5H4aaMQLgehetRNoRASOF6FK6rkkB7FK5H4QeXQLgehetROpRAuB6F61E6lEDsUbgehQOcQClcj8L1yJVAAAAAAACOhEDhehSuR6uHQKRwPQrX5Y1AXI\\u002fC9SjMhUDsUbgehVuHQM3MzMzMeIpASOF6FK5ZkEDhehSuR6+SQD0K16Nw8JpAUrgehes9lEBSuB6F6z2UQK5H4XoUf5xAw\\u002fUoXI\\u002fMlUB7FK5H4XSaQHE9Ctej2IlArkfhehR4ikDNzMzMzGWUQFyPwvUoRJZAmpmZmZlXl0DNzMzMzICAQK5H4XoUrnJACtejcD3aeEBcj8L1KFh7QDMzMzMzI39AuB6F61FshkCuR+F6FOp4QLgehetRbIZArkfhehS8hkA9CtejcAeMQFK4HoXr0JBAw\\u002fUoXI+qh0D2KFyPwu2DQPYoXI\\u002fCZVZAFK5H4XqsYkCPwvUoXK9iQI\\u002fC9Shcr2JAj8L1KFyvYkB7FK5H4aZ8QKRwPQrX41hAuB6F61HYTkAAAAAAAHBRQI\\u002fC9Shcr1JA7FG4HoXrY0BmZmZmZu5jQHE9CtejEGlAFK5H4XpsdkBSuB6F6410QB+F61G4NnlAMzMzMzPpgEC4HoXrUdKIQOxRuB6Fr3JA7FG4HoWJgECamZmZmYmJQI\\u002fC9Shcy3VAFK5H4XrQgEBSuB6F6xuGQBSuR+F6jHRAmpmZmZkhb0BxPQrXo+h4QJqZmZmZTXNACtejcD0ggUCPwvUoXJWNQJqZmZmZ6VhAuB6F61FwYUC4HoXrUXBhQIXrUbgeLWVAFK5H4XqsYkCF61G4Hi1lQHE9CtejcHFASOF6FK5HW0BI4XoULr2gQFyPwvUozIVAAAAAAAAkj0Bcj8L1qK+iQAAAAAAAUZpAPQrXo3BhmUCuR+F6FK5yQD0K16Nw5W1AzczMzMxka0CuR+F6FK5yQNejcD0K52hAzczMzMxka0CkcD0K16NsQHE9Ctej2IlAj8L1KFz\\u002fgkBxPQrXo\\u002fBQQK5H4XoU7lNAPQrXo3AtVEAUrkfheiRYQJqZmZmZ6VhAMzMzMzMzVkC4HoXrUQhbQB+F61G4vl5AXI\\u002fC9ShsZkBSuB6F6+loQOxRuB6Fa1ZAmpmZmZnpWECamZmZmTFgQDMzMzMz419AZmZmZmbuY0BmZmZmZiZdQJqZmZmZMWBAhetRuB4tZUBmZmZmZu5jQPYoXI\\u002fCDWVAexSuR+GqZ0CPwvUoXK9iQFK4HoXr6WhAmpmZmZnpWECF61G4Hi1lQM3MzMzMPFJAAAAAAABwUUA9CtejcK1UQFyPwvUobGZAw\\u002fUoXI9KaEBI4XoUrgt3QM3MzMzMZGtACtejcD0+hECamZmZma+CQIXrUbgeX4JAmpmZmZkhb0B7FK5H4Wp2QHE9Ctej6HhAj8L1KFzLdUBxPQrXo+h4QHsUrkfhroJAmpmZmZlNc0DNzMzMzMR1QLgehetR5H1AAAAAAAAQckA9CtejcAV1QKRwPQrXo2xA7FG4HoWvckAUrkfheox0QJqZmZmZIW9AzczMzMwMYkBmZmZmZu5jQB+F61G4TmNACtejcD0aZUAzMzMzMwtnQB+F61G4TmNAhetRuB5tYUAUrkfheiRrQHE9CtejcHFArkfhehQmbUBcj8L1KGxmQBSuR+F6JG9Aj8L1KFyvYkDXo3A9CudoQM3MzMzM7ENAexSuR+HaR0CamZmZmdlNQHsUrkfhWktA7FG4HoUrUECamZmZmdlNQArXo3A9alFAmpmZmZlZTUBxPQrXo7BQQDMzMzMz00xAj8L1KFzfXUAK16NwPSpHQI\\u002fC9Shcr1JA7FG4HoVrRkDhehSuR2lmQEjhehSuZ1tA7FG4HoVrVkAAAAAAAHBRQEjhehSuZ1tAmpmZmZl2k0CamZmZma+CQM3MzMzMRH1AZmZmZmZmS0CF61G4HuVNQAAAAAAAcFFAPQrXo3DpiEApXI\\u002fC9SCBQClcj8L1IIFA4XoUrkfhQ0DD9Shcj2JDQAAAAAAAcFFAKVyPwvVoU0CF61G4HuVNQHsUrkfhqmdAH4XrUbimbEAUrkfheiRvQK5H4XoU6nhAzczMzMzMdUApXI\\u002fC9SCBQJqZmZmZr4JAzczMzMzMdUDXo3A9Csd6QHsUrkfhroJAXI\\u002fC9SgQgkAUrkfhegRsQLgehetRKFpACtejcD16VkDsUbgehWtWQLgehetR6FNAw\\u002fUoXI8SVkCuR+F6FO5TQClcj8L17HNAw\\u002fUoXI\\u002fibUCPwvUoXMt1QHsUrkfhroJA16NwPQrnaEBmZmZmZu5jQHsUrkfhqldAUrgehevpaECamZmZmelYQIXrUbge5V1AuB6F61EoWkAAAAAAABBiQEjhehSuZ1tAmpmZmZkxYECF61G4HuVdQJqZmZmZMWBAhetRuB4tZUBI4XoUrmdrQGZmZmZm7mNA9ihcj8KNZECPwvUoXK9iQIXrUbgeLWVA16NwPQrnaEBmZmZmZu5jQPYoXI\\u002fCMXBA4XoUrkeJaUB7FK5H4apnQNejcD0K52hAw\\u002fUoXI\\u002fibUDsUbgehSd6QK5H4XoU6nhAw\\u002fUoXI9KaEBxPQrXo6BcQDMzMzMzI39ASOF6FK4nSkDsUbgehWtWQHsUrkfhqldAuB6F61EoWkCF61G4HuVdQClcj8L10GBAXI\\u002fC9SjAcUAK16NwPUZ9QOF6FK5HaWZA7FG4HoUnekDNzMzMzMx1QHE9Ctej6HhAMzMzMzMjf0DhehSuR6lwQLgehetRbHZAFK5H4XqYcUCamZmZmSFvQHE9Ctej6HhAj8L1KFwHfEBxPQrXo\\u002f6CQM3MzMzMRH1Aj8L1KFz\\u002fgkAzMzMzMyN\\u002fQM3MzMzMzHVAj8L1KFz\\u002fgkCuR+F6FGaEQOxRuB6FW4dAUrgeheuNdEBI4XoUrgt3QNejcD0KC3ZAj8L1KFwHfEBcj8L1KMR\\u002fQB+F61G4cIFAKVyPwvUggUB7FK5H4cyFQK5H4XoU6nhAexSuR+HMhUBxPQrXo3BxQGZmZmZmLoRAFK5H4XrIekCPwvUoXAd8QM3MzMzMzHVAw\\u002fUoXI8OckC4HoXrUeR9QKRwPQrXo2xAj8L1KFyvYkAfhetRuKZsQJqZmZmZHXVAAAAAAAAQckBxPQrXo3BxQK5H4XoUrnJA7FG4HoWvckDNzMzMzMx1QB+F61G45mhAZmZmZmZma0AUrkfheiRvQEjhehSuZ2tAexSuR+GqZ0BSuB6F6+loQMP1KFyP4m9ACtejcD0qZUCuR+F6FCZqQArXo3A9KmVAAAAAAACoZ0BSuB6F6+loQBSuR+F6JG9ArkfhehQmakCkcD0K1+NYQJqZmZmZ6VhAcT0K16OgXECF61G4HuVdQOxRuB6Fa1ZA7FG4HoVrVkBI4XoUrmdbQBSuR+F6JF9AexSuR+GqV0AfhetRuB5fQD0K16NwbWFAhetRuB5lXkCPwvUoXN9dQI\\u002fC9Shcr2JAKVyPwvXQYEAAAAAAAFBiQOF6FK5HaWZA4XoUrkdpZkCamZmZmTFgQI\\u002fC9Shc311A16NwPQpnYUAAAAAAAKhnQD0K16NwbWFA7FG4HoXrY0CkcD0K10tjQHsUrkfhimRAH4XrUbhOY0CuR+F6FO5jQM3MzMzMZGtAXI\\u002fC9ShsZkB7FK5H4apnQFyPwvUobGZApHA9CtejbEDD9Shcj+JtQJqZmZmZTXNAAAAAAACoZ0AUrkfheqxiQMP1KFyPamZA16NwPQrnaEB7FK5H4epjQClcj8L1KGpAKVyPwvUscECF61G4HiFwQAAAAAAASGtAw\\u002fUoXI86cUDXo3A9CudoQDMzMzMzb3FAzczMzMy6jEAfhetRuAaMQAAAAAAAJI9Aj8L1KFyVjUBSuB6F6xuGQB+F61G4wn9APQrXo3DpiEBcj8L1KMyFQAAAAAAASohArkfhehTOYEAK16NwPSplQIXrUbgeLWVArkfhehSuckAK16NwPSplQNejcD0K52hAUrgeheuNdEDXo3A9Csd6QIXrUbgeX4JArkfhehSuckB7FK5H4Rp4QKRwPQrXo2xAZmZmZmZucECamZmZmeV2QFK4HoXrBXxAFK5H4XqMdEDXo3A9Csd6QHsUrkfhpnxAexSuR+GmfEBI4XoUrs9wQK5H4XoUrnJAUrgehevpaEC4HoXrUcBxQK5H4XoU6nhAexSuR+GmfECkcD0K16NsQClcj8L1MHBAmpmZmZntc0Bcj8L1KGxmQGZmZmZmRnJAmpmZmZkFlUCuR+F6FK5yQKRwPQrXo2xA9ihcj8IhcEDhehSuRzFQQI\\u002fC9Shcr1JA4XoUrkcxUECPwvUoXC9SQK5H4XoU7lNAUrgeheuNdEDsUbgeha9yQPYoXI\\u002fCMXBAcT0K16NwcUCuR+F6FOp4QI\\u002fC9Shcy3VAFK5H4XrIekDsUbgeha9yQFK4HoXrIVtAMzMzMzPjX0BmZmZmZqZcQGZmZmZm7mNASOF6FK5vYkBmZmZmZqZcQClcj8L10GBAhetRuB7lXUCamZmZmTFgQLgehetRcGFAmpmZmZkxYECPwvUoXK9iQGZmZmZm7mNASOF6FK7nWkAAAAAAABBiQNejcD0K52hAKVyPwvXQYEDD9Shcj3poQBSuR+F6rGJAmpmZmZkhb0DD9Shcjw5yQI\\u002fC9Shcr2JA9ihcj8KNZEBcj8L1KGxmQI\\u002fC9Shcr2JArkfhehSuckApXI\\u002fC9ShqQFK4HoXr6WhAuB6F61FwYUCF61G4Hi1lQAAAAAAAEGJAexSuR+GqZ0BSuB6F6+loQBSuR+F6JG9AcT0K16NwcUCamZmZmTFgQAAAAAAAEHJAFK5H4Xokb0BmZmZmZi5gQIXrUbgeDWJASOF6FK5na0BmZmZmZu5jQFyPwvUobGZA9ihcj8KNZEDsUbgehQtnQBSuR+F6JF9AuB6F61FwYUBcj8L1KGxmQM3MzMzMzGVAj8L1KFyvYkBmZmZmZu5jQLgehetRcGFAH4XrUbhOY0B7FK5H4apnQGZmZmZmpmxAexSuR+GqZ0ApXI\\u002fC9ShqQFK4HoXrIXBAhetRuB6lbEDsUbgehYNuQBSuR+F6JF9AuB6F61FwYUCPwvUoXK9iQBSuR+F6pGJAhetRuB4tZUDsUbgehWtWQOxRuB6FK1BA4XoUrkcxUEAfhetRuE5TQAAAAAAAcFFAAAAAAABwUUDsUbgehWtWQI\\u002fC9Shcb0FASOF6FK5nSkCkcD0K12NPQD0K16NwzVFA9ihcj8JlVkA9CtejcK1UQOxRuB6Fa1ZAexSuR+GqV0DNzMzMzExWQJqZmZmZ6VhAuB6F61F4XUBcj8L1KNxfQLgehetRcGFArkfhehTuU0AzMzMzMw9yQFyPwvUoiHlACtejcD0ef0AK16NwPUZ9QArXo3A9TnNAFK5H4XqMdEBxPQrXo3BxQJqZmZmZ7XNAFK5H4Xokb0A9CtejcIFwQLgehetRwHFA7FG4HoWvckDNzMzMzMx1QGZmZmZm7nNAuB6F61EoWkCF61G4Hi1lQFK4HoXr6WhASOF6FK5nW0AfhetRuE5jQFyPwvUobGZAj8L1KFyvYkApXI\\u002fC9dBgQGZmZmZmhmlAH4XrUbimbEBmZmZmZqZcQGZmZmZmZlxAKVyPwvWYXUDsUbgehStQQOxRuB6Fa1ZArkfhehTuU0CamZmZmblVQJqZmZmZ6VhAj8L1KFyvYkBSuB6F62FbQBSuR+F6rGJAcT0K16NwcUAUrkfheiRvQIXrUbge0XBAexSuR+GKYECuR+F6FO5TQHsUrkfhqmdAUrgehevpaEAAAAAAACGRQMP1KFyPW5dAKVyPwvXoSECPwvUoXA9SQGZmZmZmplxA4XoUrkcxUEDNzMzMzCxVQIXrUbge5V1AmpmZmZkxYEB7FK5H4SpXQArXo3A9ylhAZmZmZmamXEAfhetRuC5gQAAAAAAAEGJAH4XrUbguYECkcD0K1+NYQIXrUbge5V1AuB6F61FwYUC4HoXrUQBiQI\\u002fC9Shcr2JA9ihcj8KNZEDhehSuR2lmQPYoXI\\u002fCjWRAexSuR+GqZ0ApXI\\u002fC9ShqQOxRuB6F62NAzczMzMzMZUDsUbgehQtnQOF6FK5HaWZA7FG4HoULZ0DXo3A9CudoQB+F61G4pmxAFK5H4Xokb0Bcj8L1KGxmQPYoXI\\u002fCjWRA9ihcj8KNZECF61G4HoVuQPYoXI\\u002fCMXBAKVyPwvUgcUAUrkfheiRvQOF6FK5HaWZA7FG4HoXrY0CamZmZmSFvQPYoXI\\u002fCBWxAAAAAAAC8dkBmZmZmZu5zQJqZmZmZ3XRAzczMzMzMdUA9CtejcMVqQPYoXI\\u002fCBWxAKVyPwvUoekDsUbgehSd6QBSuR+F6yHpAj8L1KFwHfEBxPQrXo+h4QHE9Ctej6HhAcT0K16PoeEC4HoXrUeR9QM3MzMzMLFVAuB6F61EoWkBI4XoUrmdbQIXrUbge5V1AFK5H4XqsYkBmZmZmZqZcQClcj8L10GBAZmZmZmbuY0CF61G4Hi1lQI\\u002fC9Shcr2JAUrgehevpaECkcD0K10tjQB+F61G4pmxASOF6FK5na0DNzMzMzCxVQHsUrkfhqldASOF6FK5nW0CamZmZmTFgQFyPwvUofFpAuB6F61FwYUAAAAAAACBgQI\\u002fC9Shcr2JAZmZmZmY2XUCuR+F6FM5eQIXrUbgeDWJAw\\u002fUoXI8yXkDD9Shcj4JiQK5H4XoUxmVAw\\u002fUoXI9KaECF61G4Hi1lQB+F61G4pmxAmpmZmZkhb0CamZmZmSFvQHsUrkfhom1AKVyPwvWAb0DNzMzMzMx1QD0K16Nw5W1ArkfhehTqeECkcD0K11+CQHE9Ctej9oxAcT0K16PIikBI4XoUrlmQQEjhehSumYhAFK5H4XrIekApXI\\u002fC9Sh6QOxRuB6FW4dAexSuR+EadkDhehSuR3VzQD0K16Nw2YlApHA9CtfHikAfhetRuCSPQD0K16NwdX5ArkfhehTqeECkcD0K12d7QKRwPQrXg4JAw\\u002fUoXI+BkEBcj8L1KMSPQHE9CtejJH9AXI\\u002fC9SgQgkD2KFyPwjGAQGZmZmZmEoRASOF6FK63i0B7FK5H4aaMQPYoXI\\u002fCh5JAAAAAAAAkj0BSuB6F6xuGQClcj8L1IIFArkfhehR4ikApXI\\u002fC9eeRQOF6FK5Hr5JAzczMzMzMdUB7FK5H4cyFQD0K16NwB4xAexSuR+FIkUCkcD0K1yKYQHsUrkfhiJlAexSuR+GugkB7FK5H4cyFQIXrUbge9YxAcT0K16NwcUCamZmZmU1zQFyPwvUozIVAmpmZmZmZiUDXo3A9CudoQOxRuB6F62NAmpmZmZkFlUD2KFyPwmVWQGZmZmZmplxAH4XrUbheYkCPwvUoXK9iQOF6FK5HaWZASOF6FK5na0Bcj8L1KGxmQClcj8L1KGpA9ihcj8IxcEAfhetRuKZsQK5H4XoU6nhAcT0K16Mkf0AAAAAAAHBRQKRwPQrXY09ASOF6FK5nW0CamZmZmelYQHE9CtejMGFAhetRuB7lXUBmZmZmZu5jQB+F61G4TmNAPQrXo3BtYUAfhetRuE5jQOxRuB6Fa1ZAXI\\u002fC9SjsVUCPwvUoXG9SQGZmZmZmJlZArkfhehTuU0DsUbgehWtWQNejcD0K51RArkfhehTuU0CamZmZmelYQLgehetRWFZApHA9CtcjT0AAAAAAAHBRQGZmZmbmTblA7FG4HoWvckCuR+F6FK5yQBSuR+F6HHZAMzMzMzMjf0AAAAAAABBiQGZmZmZm7mNAXI\\u002fC9ShsZkDsUbgehetjQArXo3A9KmVA16NwPQrnaEA9CtejcOVtQBSuR+F6JG9AmpmZmZkxYECPwvUoXK9iQIXrUbge5V1AmpmZmZkhb0CuR+F6FK5yQAAAAAAAqGdAKVyPwvXsc0CkcD0K1+NYQI\\u002fC9Shc311A9ihcj8JlVkCuR+F6FCZqQM3MzMzMJG9AMzMzMzNvcUDNzMzMzPxsQOF6FK5H0XBAMzMzMzOrZ0AUrkfheiRvQKRwPQrX421AUrgeheuNdEDsUbgeha9yQHsUrkfhIm9ApHA9CtdvcUCamZmZme1zQHsUrkfhCndASOF6FK7PcECuR+F6FGZrQGZmZmZm7nNAcT0K16NwcUCuR+F6FOp4QLgehetRbHZA16NwPQrnaEDXo3A9Csd6QDMzMzMzb3FApHA9Ctdne0DD9Shcjw5yQBSuR+F6jHRA4XoUrkevkkDXo3A9CqmQQGZmZmZmh5JArkfhehTAkUBxPQrXo9iJQClcj8L1IIFAmpmZmZmvgkBcj8L1KOqIQHE9Ctej2IlA7FG4HoUnekBmZmZmZsCBQPYoXI\\u002fCC4dArkfhehTuU0ApXI\\u002fC9WhTQOxRuB6Fa1ZArkfhehTuU0D2KFyPwmVWQB+F61G4Hl9ArkfhehSuckCF61G4HqVXQLgehetRaFtAmpmZmZnpWECPwvUoXN9dQBSuR+F6JF9AzczMzMwsVUDD9ShcjyJaQM3MzMzMLFVAmpmZmZnpWEC4HoXrUShaQK5H4XoUHl9ACtejcD3qaEA9CtejcG1hQKRwPQrX41hA9ihcj8LNYEAUrkfheiRfQBSuR+F6rGJAH4XrUbhOY0AAAAAAABBiQPYoXI\\u002fCjWRAFK5H4XqsYkCPwvUoXK9SQB+F61G4LmBAKVyPwvXIZEDsUbgehetjQOxRuB6FC2dAuB6F61FwYUCkcD0K10tjQIXrUbge5V1ApHA9CtejbECuR+F6FCZqQK5H4XoUzmBASOF6FK5na0DXo3A9CudoQM3MzMzMJG9A16NwPQrnaEAK16NwPSplQNejcD0K52hAzczMzMxka0DhehSuR2lmQJqZmZmZIW9APQrXo3BtVEAUrkfhemxmQEjhehSur2JAmpmZmZkhb0DsUbgehetuQIXrUbge0XBAw\\u002fUoXI9KeECuR+F6FK5yQB+F61G4wn9AuB6F61EogEDhehSuR6uHQFyPwvUozIVASOF6FK6DfkB7FK5H4a6CQM3MzMzMRH1AhetRuB5fgkC4HoXrUWyGQClcj8L1IIFA7FG4HoWvckAUrkfheox0QClcj8L1IIFAZmZmZmZGbUDsUbgeha9yQDMzMzMzS2dAhetRuB5Fa0AfhetRuKZsQK5H4XoURm1Aj8L1KFzLdUB7FK5H4cJtQLgehetRMHBAmpmZmZlNc0DXo3A9Csd6QGZmZmZmJJ9AcT0K16MgkUDXo3A9CqmQQIXrUbge5V1AmpmZmZkxYECkcD0K1+NXQIXrUbge5V1AhetRuB7lXUAfhetRuN5eQJqZmZmZMWBAPQrXo3BtYUCPwvUoXK9SQPYoXI\\u002fC5VRAuB6F61EIW0CamZmZmelYQD0K16NwbWFAFK5H4XqsYkDXo3A9CudcQHE9CtejKGFAZmZmZmbGYEDsUbgehetjQOF6FK5HaWZAUrgehethW0BxPQrXo6BcQOxRuB6Fa1ZAj8L1KFyvUkC4HoXrUShaQGZmZmZmplxAAAAAAABwUUBSuB6F62FbQOF6FK5HMVBAexSuR+EqV0CPwvUoXK9SQAAAAAAAwE5AKVyPwvUoUkDNzMzMzOxUQEjhehSur7JAMzMzMzNvcUCuR+F6FOp4QPYoXI\\u002fCMXBAH4XrUbimbECuR+F6FK5yQArXo3A9IIFAw\\u002fUoXI9KeED2KFyPwjFwQAAAAAAAEHJAPQrXo3BtYUD2KFyPwo1kQB+F61G4Hl9AmpmZmZnpWEAUrkfheiRfQIXrUbge5V1AXI\\u002fC9ShsZkCF61G4Hi1lQFK4HoXr6WhApHA9CtfjaEBI4XoUrmdbQIXrUbge5V1AuB6F61FwYUCamZmZmTFgQLgehetRcGFAzczMzMy8XUCF61G4Hs1hQK5H4XoUXl5AFK5H4XqsYkBcj8L1KGxmQOF6FK5HaWZAUrgehevpaEBSuB6F6+loQI\\u002fC9ShcR2xAH4XrUbimbEA9CtejcG1hQB+F61G4LmBAzczMzMwsYkAfhetRuE5jQGZmZmZmtmNAhetRuB7lXUCF61G4Hi1lQIXrUbgeLWVA7FG4HoULZ0DXo3A9CudoQI\\u002fC9ShcP2ZAZmZmZmbmaEC4HoXrUXBhQEjhehSuz3BAFK5H4Xokb0CF61G4HtFwQKRwPQrXb3FAj8L1KFyvYkApXI\\u002fC9dhuQFK4HoXrjXRA7FG4HoWvckBSuB6F6410QIXrUbge0XBAUrgehevpaEBmZmZmZu5jQOF6FK5HaWZA4XoUrkeJaUCamZmZmalZQKRwPQrX41hAhetRuB4tZUAfhetRuN5dQLgehetRcGFAzczMzMz8YUB7FK5H4YpkQFK4HoXr6WhAuB6F61FOg0A=\"},\"type\":\"scatter\"},{\"mode\":\"markers\",\"name\":\"num_cores\",\"visible\":false,\"x\":{\"dtype\":\"i1\",\"bdata\":\"BgYGBgYGBgYGBgYGBgYGBgYGBgYGBgYGBgYGBgYGBgYGBgYGBgYGCAQGBgYGBggICAgICAgICAQICAgIBAQICAgICAgICAgICAgICAgICAgICAgICAgICAgICAgICAgICAgICAgICAgICAQEBAgICAgICAgICAgICAgICAgICAgICAgEBAgICAgICAgICAgICAgICAgICAgICAgICAgICAgICAgICAgICAgEBAQEBAQECAgICAQEBAgICAQECAgIBAQICAgICAgICAgICAgICAgICAgICAgICAgICAgICAgICAgICAgICAgICAgICAgICAgICAgICAgICAgICAgICAgICAgICAgICAgICAgICAgICAgICAgICAgICAgICAgICAgICAgICAgICAgICAgICAgICAgICAgICAgICAgICAgICAgICAgICAgICAgICAgICAgICAgICAgICAgICAgICAgICAgICAgICAgICAgICAgICAgICAgICAgICAgICAgICAgICAgICAgICAgICAgICAgICAgICAgICAgICAgIBAQICAgICAgICAgICAgICAgICAgICAgICAgICAgICAgICAgICAgICAgICAgICAgICAgICAgICAgICAgICAgICAgICAgICAgICAgICAgICAgICAgICAgICAgICAgICAgICAgICAgICAgICAgICAgICAgICAgICAgICAgICAgICAgICAgICAgICAgICAgIBAgIBAgICAgICAgICAgICAgICAgICAgICAgICAgICAgICAgICAgICAgICAgICAgICAgICAgICAgICAgICAgICAgICAgICAgICAgICAgICAgICAgICAgICAgICAgICAgICAgICAgICAgICAgICAgICAgICAgICAgICAgICAgICAgICAgICAgICAgICAgICAgICAgICAgICAgICAQECAgICAgICAgICAgICAgICAgICAQICAgICAgICAgICAgICAgICAgICAgICAgICAgICAgICAgICAgICAgICAgICAgICAgICAgICAgICAgICAgICAgICAgICAgICAgICAgICAgICAgICAgICAgICAQICAgICAgICAgECAgECAgICAgICAgICAgICAgICAgICAgICAgICAgICAgICAgICAgICAgICAgICAgICAgICAgICAgICAgICAgICAgICAgICAgICAgEBAQICAgICAgICAgICAgICAgICAgICAgICAgICAgICAgICAgICAgICAgICAgICAgICAgICAgICAgICAgICAgICAgICAgICAgICA==\"},\"y\":{\"dtype\":\"f8\",\"bdata\":\"w\\u002fUoXI9KeEAK16NwPUZ9QNejcD0KHZFA9ihcj8IxgEAfhetRuHCBQD0K16NwLYVAmpmZmZmJeUB7FK5H4aZ8QB+F61G4cIFASOF6FK6rkkApXI\\u002fC9ciVQM3MzMzMnoNArkfhehS8hkB7FK5H4aaMQLgehetRNoRASOF6FK6rkkB7FK5H4QeXQLgehetROpRAuB6F61E6lEDsUbgehQOcQClcj8L1yJVAAAAAAACOhEDhehSuR6uHQKRwPQrX5Y1AXI\\u002fC9SjMhUDsUbgehVuHQM3MzMzMeIpASOF6FK5ZkEDhehSuR6+SQD0K16Nw8JpAUrgehes9lEBSuB6F6z2UQK5H4XoUf5xAw\\u002fUoXI\\u002fMlUB7FK5H4XSaQHE9Ctej2IlArkfhehR4ikDNzMzMzGWUQFyPwvUoRJZAmpmZmZlXl0DNzMzMzICAQK5H4XoUrnJACtejcD3aeEBcj8L1KFh7QDMzMzMzI39AuB6F61FshkCuR+F6FOp4QLgehetRbIZArkfhehS8hkA9CtejcAeMQFK4HoXr0JBAw\\u002fUoXI+qh0D2KFyPwu2DQPYoXI\\u002fCZVZAFK5H4XqsYkCPwvUoXK9iQI\\u002fC9Shcr2JAj8L1KFyvYkB7FK5H4aZ8QKRwPQrX41hAuB6F61HYTkAAAAAAAHBRQI\\u002fC9Shcr1JA7FG4HoXrY0BmZmZmZu5jQHE9CtejEGlAFK5H4XpsdkBSuB6F6410QB+F61G4NnlAMzMzMzPpgEC4HoXrUdKIQOxRuB6Fr3JA7FG4HoWJgECamZmZmYmJQI\\u002fC9Shcy3VAFK5H4XrQgEBSuB6F6xuGQBSuR+F6jHRAmpmZmZkhb0BxPQrXo+h4QJqZmZmZTXNACtejcD0ggUCPwvUoXJWNQJqZmZmZ6VhAuB6F61FwYUC4HoXrUXBhQIXrUbgeLWVAFK5H4XqsYkCF61G4Hi1lQHE9CtejcHFASOF6FK5HW0BI4XoULr2gQFyPwvUozIVAAAAAAAAkj0Bcj8L1qK+iQAAAAAAAUZpAPQrXo3BhmUCuR+F6FK5yQD0K16Nw5W1AzczMzMxka0CuR+F6FK5yQNejcD0K52hAzczMzMxka0CkcD0K16NsQHE9Ctej2IlAj8L1KFz\\u002fgkBxPQrXo\\u002fBQQK5H4XoU7lNAPQrXo3AtVEAUrkfheiRYQJqZmZmZ6VhAMzMzMzMzVkC4HoXrUQhbQB+F61G4vl5AXI\\u002fC9ShsZkBSuB6F6+loQOxRuB6Fa1ZAmpmZmZnpWECamZmZmTFgQDMzMzMz419AZmZmZmbuY0BmZmZmZiZdQJqZmZmZMWBAhetRuB4tZUBmZmZmZu5jQPYoXI\\u002fCDWVAexSuR+GqZ0CPwvUoXK9iQFK4HoXr6WhAmpmZmZnpWECF61G4Hi1lQM3MzMzMPFJAAAAAAABwUUA9CtejcK1UQFyPwvUobGZAw\\u002fUoXI9KaEBI4XoUrgt3QM3MzMzMZGtACtejcD0+hECamZmZma+CQIXrUbgeX4JAmpmZmZkhb0B7FK5H4Wp2QHE9Ctej6HhAj8L1KFzLdUBxPQrXo+h4QHsUrkfhroJAmpmZmZlNc0DNzMzMzMR1QLgehetR5H1AAAAAAAAQckA9CtejcAV1QKRwPQrXo2xA7FG4HoWvckAUrkfheox0QJqZmZmZIW9AzczMzMwMYkBmZmZmZu5jQB+F61G4TmNACtejcD0aZUAzMzMzMwtnQB+F61G4TmNAhetRuB5tYUAUrkfheiRrQHE9CtejcHFArkfhehQmbUBcj8L1KGxmQBSuR+F6JG9Aj8L1KFyvYkDXo3A9CudoQM3MzMzM7ENAexSuR+HaR0CamZmZmdlNQHsUrkfhWktA7FG4HoUrUECamZmZmdlNQArXo3A9alFAmpmZmZlZTUBxPQrXo7BQQDMzMzMz00xAj8L1KFzfXUAK16NwPSpHQI\\u002fC9Shcr1JA7FG4HoVrRkDhehSuR2lmQEjhehSuZ1tA7FG4HoVrVkAAAAAAAHBRQEjhehSuZ1tAmpmZmZl2k0CamZmZma+CQM3MzMzMRH1AZmZmZmZmS0CF61G4HuVNQAAAAAAAcFFAPQrXo3DpiEApXI\\u002fC9SCBQClcj8L1IIFA4XoUrkfhQ0DD9Shcj2JDQAAAAAAAcFFAKVyPwvVoU0CF61G4HuVNQHsUrkfhqmdAH4XrUbimbEAUrkfheiRvQK5H4XoU6nhAzczMzMzMdUApXI\\u002fC9SCBQJqZmZmZr4JAzczMzMzMdUDXo3A9Csd6QHsUrkfhroJAXI\\u002fC9SgQgkAUrkfhegRsQLgehetRKFpACtejcD16VkDsUbgehWtWQLgehetR6FNAw\\u002fUoXI8SVkCuR+F6FO5TQClcj8L17HNAw\\u002fUoXI\\u002fibUCPwvUoXMt1QHsUrkfhroJA16NwPQrnaEBmZmZmZu5jQHsUrkfhqldAUrgehevpaECamZmZmelYQIXrUbge5V1AuB6F61EoWkAAAAAAABBiQEjhehSuZ1tAmpmZmZkxYECF61G4HuVdQJqZmZmZMWBAhetRuB4tZUBI4XoUrmdrQGZmZmZm7mNA9ihcj8KNZECPwvUoXK9iQIXrUbgeLWVA16NwPQrnaEBmZmZmZu5jQPYoXI\\u002fCMXBA4XoUrkeJaUB7FK5H4apnQNejcD0K52hAw\\u002fUoXI\\u002fibUDsUbgehSd6QK5H4XoU6nhAw\\u002fUoXI9KaEBxPQrXo6BcQDMzMzMzI39ASOF6FK4nSkDsUbgehWtWQHsUrkfhqldAuB6F61EoWkCF61G4HuVdQClcj8L10GBAXI\\u002fC9SjAcUAK16NwPUZ9QOF6FK5HaWZA7FG4HoUnekDNzMzMzMx1QHE9Ctej6HhAMzMzMzMjf0DhehSuR6lwQLgehetRbHZAFK5H4XqYcUCamZmZmSFvQHE9Ctej6HhAj8L1KFwHfEBxPQrXo\\u002f6CQM3MzMzMRH1Aj8L1KFz\\u002fgkAzMzMzMyN\\u002fQM3MzMzMzHVAj8L1KFz\\u002fgkCuR+F6FGaEQOxRuB6FW4dAUrgeheuNdEBI4XoUrgt3QNejcD0KC3ZAj8L1KFwHfEBcj8L1KMR\\u002fQB+F61G4cIFAKVyPwvUggUB7FK5H4cyFQK5H4XoU6nhAexSuR+HMhUBxPQrXo3BxQGZmZmZmLoRAFK5H4XrIekCPwvUoXAd8QM3MzMzMzHVAw\\u002fUoXI8OckC4HoXrUeR9QKRwPQrXo2xAj8L1KFyvYkAfhetRuKZsQJqZmZmZHXVAAAAAAAAQckBxPQrXo3BxQK5H4XoUrnJA7FG4HoWvckDNzMzMzMx1QB+F61G45mhAZmZmZmZma0AUrkfheiRvQEjhehSuZ2tAexSuR+GqZ0BSuB6F6+loQMP1KFyP4m9ACtejcD0qZUCuR+F6FCZqQArXo3A9KmVAAAAAAACoZ0BSuB6F6+loQBSuR+F6JG9ArkfhehQmakCkcD0K1+NYQJqZmZmZ6VhAcT0K16OgXECF61G4HuVdQOxRuB6Fa1ZA7FG4HoVrVkBI4XoUrmdbQBSuR+F6JF9AexSuR+GqV0AfhetRuB5fQD0K16NwbWFAhetRuB5lXkCPwvUoXN9dQI\\u002fC9Shcr2JAKVyPwvXQYEAAAAAAAFBiQOF6FK5HaWZA4XoUrkdpZkCamZmZmTFgQI\\u002fC9Shc311A16NwPQpnYUAAAAAAAKhnQD0K16NwbWFA7FG4HoXrY0CkcD0K10tjQHsUrkfhimRAH4XrUbhOY0CuR+F6FO5jQM3MzMzMZGtAXI\\u002fC9ShsZkB7FK5H4apnQFyPwvUobGZApHA9CtejbEDD9Shcj+JtQJqZmZmZTXNAAAAAAACoZ0AUrkfheqxiQMP1KFyPamZA16NwPQrnaEB7FK5H4epjQClcj8L1KGpAKVyPwvUscECF61G4HiFwQAAAAAAASGtAw\\u002fUoXI86cUDXo3A9CudoQDMzMzMzb3FAzczMzMy6jEAfhetRuAaMQAAAAAAAJI9Aj8L1KFyVjUBSuB6F6xuGQB+F61G4wn9APQrXo3DpiEBcj8L1KMyFQAAAAAAASohArkfhehTOYEAK16NwPSplQIXrUbgeLWVArkfhehSuckAK16NwPSplQNejcD0K52hAUrgeheuNdEDXo3A9Csd6QIXrUbgeX4JArkfhehSuckB7FK5H4Rp4QKRwPQrXo2xAZmZmZmZucECamZmZmeV2QFK4HoXrBXxAFK5H4XqMdEDXo3A9Csd6QHsUrkfhpnxAexSuR+GmfEBI4XoUrs9wQK5H4XoUrnJAUrgehevpaEC4HoXrUcBxQK5H4XoU6nhAexSuR+GmfECkcD0K16NsQClcj8L1MHBAmpmZmZntc0Bcj8L1KGxmQGZmZmZmRnJAmpmZmZkFlUCuR+F6FK5yQKRwPQrXo2xA9ihcj8IhcEDhehSuRzFQQI\\u002fC9Shcr1JA4XoUrkcxUECPwvUoXC9SQK5H4XoU7lNAUrgeheuNdEDsUbgeha9yQPYoXI\\u002fCMXBAcT0K16NwcUCuR+F6FOp4QI\\u002fC9Shcy3VAFK5H4XrIekDsUbgeha9yQFK4HoXrIVtAMzMzMzPjX0BmZmZmZqZcQGZmZmZm7mNASOF6FK5vYkBmZmZmZqZcQClcj8L10GBAhetRuB7lXUCamZmZmTFgQLgehetRcGFAmpmZmZkxYECPwvUoXK9iQGZmZmZm7mNASOF6FK7nWkAAAAAAABBiQNejcD0K52hAKVyPwvXQYEDD9Shcj3poQBSuR+F6rGJAmpmZmZkhb0DD9Shcjw5yQI\\u002fC9Shcr2JA9ihcj8KNZEBcj8L1KGxmQI\\u002fC9Shcr2JArkfhehSuckApXI\\u002fC9ShqQFK4HoXr6WhAuB6F61FwYUCF61G4Hi1lQAAAAAAAEGJAexSuR+GqZ0BSuB6F6+loQBSuR+F6JG9AcT0K16NwcUCamZmZmTFgQAAAAAAAEHJAFK5H4Xokb0BmZmZmZi5gQIXrUbgeDWJASOF6FK5na0BmZmZmZu5jQFyPwvUobGZA9ihcj8KNZEDsUbgehQtnQBSuR+F6JF9AuB6F61FwYUBcj8L1KGxmQM3MzMzMzGVAj8L1KFyvYkBmZmZmZu5jQLgehetRcGFAH4XrUbhOY0B7FK5H4apnQGZmZmZmpmxAexSuR+GqZ0ApXI\\u002fC9ShqQFK4HoXrIXBAhetRuB6lbEDsUbgehYNuQBSuR+F6JF9AuB6F61FwYUCPwvUoXK9iQBSuR+F6pGJAhetRuB4tZUDsUbgehWtWQOxRuB6FK1BA4XoUrkcxUEAfhetRuE5TQAAAAAAAcFFAAAAAAABwUUDsUbgehWtWQI\\u002fC9Shcb0FASOF6FK5nSkCkcD0K12NPQD0K16NwzVFA9ihcj8JlVkA9CtejcK1UQOxRuB6Fa1ZAexSuR+GqV0DNzMzMzExWQJqZmZmZ6VhAuB6F61F4XUBcj8L1KNxfQLgehetRcGFArkfhehTuU0AzMzMzMw9yQFyPwvUoiHlACtejcD0ef0AK16NwPUZ9QArXo3A9TnNAFK5H4XqMdEBxPQrXo3BxQJqZmZmZ7XNAFK5H4Xokb0A9CtejcIFwQLgehetRwHFA7FG4HoWvckDNzMzMzMx1QGZmZmZm7nNAuB6F61EoWkCF61G4Hi1lQFK4HoXr6WhASOF6FK5nW0AfhetRuE5jQFyPwvUobGZAj8L1KFyvYkApXI\\u002fC9dBgQGZmZmZmhmlAH4XrUbimbEBmZmZmZqZcQGZmZmZmZlxAKVyPwvWYXUDsUbgehStQQOxRuB6Fa1ZArkfhehTuU0CamZmZmblVQJqZmZmZ6VhAj8L1KFyvYkBSuB6F62FbQBSuR+F6rGJAcT0K16NwcUAUrkfheiRvQIXrUbge0XBAexSuR+GKYECuR+F6FO5TQHsUrkfhqmdAUrgehevpaEAAAAAAACGRQMP1KFyPW5dAKVyPwvXoSECPwvUoXA9SQGZmZmZmplxA4XoUrkcxUEDNzMzMzCxVQIXrUbge5V1AmpmZmZkxYEB7FK5H4SpXQArXo3A9ylhAZmZmZmamXEAfhetRuC5gQAAAAAAAEGJAH4XrUbguYECkcD0K1+NYQIXrUbge5V1AuB6F61FwYUC4HoXrUQBiQI\\u002fC9Shcr2JA9ihcj8KNZEDhehSuR2lmQPYoXI\\u002fCjWRAexSuR+GqZ0ApXI\\u002fC9ShqQOxRuB6F62NAzczMzMzMZUDsUbgehQtnQOF6FK5HaWZA7FG4HoULZ0DXo3A9CudoQB+F61G4pmxAFK5H4Xokb0Bcj8L1KGxmQPYoXI\\u002fCjWRA9ihcj8KNZECF61G4HoVuQPYoXI\\u002fCMXBAKVyPwvUgcUAUrkfheiRvQOF6FK5HaWZA7FG4HoXrY0CamZmZmSFvQPYoXI\\u002fCBWxAAAAAAAC8dkBmZmZmZu5zQJqZmZmZ3XRAzczMzMzMdUA9CtejcMVqQPYoXI\\u002fCBWxAKVyPwvUoekDsUbgehSd6QBSuR+F6yHpAj8L1KFwHfEBxPQrXo+h4QHE9Ctej6HhAcT0K16PoeEC4HoXrUeR9QM3MzMzMLFVAuB6F61EoWkBI4XoUrmdbQIXrUbge5V1AFK5H4XqsYkBmZmZmZqZcQClcj8L10GBAZmZmZmbuY0CF61G4Hi1lQI\\u002fC9Shcr2JAUrgehevpaECkcD0K10tjQB+F61G4pmxASOF6FK5na0DNzMzMzCxVQHsUrkfhqldASOF6FK5nW0CamZmZmTFgQFyPwvUofFpAuB6F61FwYUAAAAAAACBgQI\\u002fC9Shcr2JAZmZmZmY2XUCuR+F6FM5eQIXrUbgeDWJAw\\u002fUoXI8yXkDD9Shcj4JiQK5H4XoUxmVAw\\u002fUoXI9KaECF61G4Hi1lQB+F61G4pmxAmpmZmZkhb0CamZmZmSFvQHsUrkfhom1AKVyPwvWAb0DNzMzMzMx1QD0K16Nw5W1ArkfhehTqeECkcD0K11+CQHE9Ctej9oxAcT0K16PIikBI4XoUrlmQQEjhehSumYhAFK5H4XrIekApXI\\u002fC9Sh6QOxRuB6FW4dAexSuR+EadkDhehSuR3VzQD0K16Nw2YlApHA9CtfHikAfhetRuCSPQD0K16NwdX5ArkfhehTqeECkcD0K12d7QKRwPQrXg4JAw\\u002fUoXI+BkEBcj8L1KMSPQHE9CtejJH9AXI\\u002fC9SgQgkD2KFyPwjGAQGZmZmZmEoRASOF6FK63i0B7FK5H4aaMQPYoXI\\u002fCh5JAAAAAAAAkj0BSuB6F6xuGQClcj8L1IIFArkfhehR4ikApXI\\u002fC9eeRQOF6FK5Hr5JAzczMzMzMdUB7FK5H4cyFQD0K16NwB4xAexSuR+FIkUCkcD0K1yKYQHsUrkfhiJlAexSuR+GugkB7FK5H4cyFQIXrUbge9YxAcT0K16NwcUCamZmZmU1zQFyPwvUozIVAmpmZmZmZiUDXo3A9CudoQOxRuB6F62NAmpmZmZkFlUD2KFyPwmVWQGZmZmZmplxAH4XrUbheYkCPwvUoXK9iQOF6FK5HaWZASOF6FK5na0Bcj8L1KGxmQClcj8L1KGpA9ihcj8IxcEAfhetRuKZsQK5H4XoU6nhAcT0K16Mkf0AAAAAAAHBRQKRwPQrXY09ASOF6FK5nW0CamZmZmelYQHE9CtejMGFAhetRuB7lXUBmZmZmZu5jQB+F61G4TmNAPQrXo3BtYUAfhetRuE5jQOxRuB6Fa1ZAXI\\u002fC9SjsVUCPwvUoXG9SQGZmZmZmJlZArkfhehTuU0DsUbgehWtWQNejcD0K51RArkfhehTuU0CamZmZmelYQLgehetRWFZApHA9CtcjT0AAAAAAAHBRQGZmZmbmTblA7FG4HoWvckCuR+F6FK5yQBSuR+F6HHZAMzMzMzMjf0AAAAAAABBiQGZmZmZm7mNAXI\\u002fC9ShsZkDsUbgehetjQArXo3A9KmVA16NwPQrnaEA9CtejcOVtQBSuR+F6JG9AmpmZmZkxYECPwvUoXK9iQIXrUbge5V1AmpmZmZkhb0CuR+F6FK5yQAAAAAAAqGdAKVyPwvXsc0CkcD0K1+NYQI\\u002fC9Shc311A9ihcj8JlVkCuR+F6FCZqQM3MzMzMJG9AMzMzMzNvcUDNzMzMzPxsQOF6FK5H0XBAMzMzMzOrZ0AUrkfheiRvQKRwPQrX421AUrgeheuNdEDsUbgeha9yQHsUrkfhIm9ApHA9CtdvcUCamZmZme1zQHsUrkfhCndASOF6FK7PcECuR+F6FGZrQGZmZmZm7nNAcT0K16NwcUCuR+F6FOp4QLgehetRbHZA16NwPQrnaEDXo3A9Csd6QDMzMzMzb3FApHA9Ctdne0DD9Shcjw5yQBSuR+F6jHRA4XoUrkevkkDXo3A9CqmQQGZmZmZmh5JArkfhehTAkUBxPQrXo9iJQClcj8L1IIFAmpmZmZmvgkBcj8L1KOqIQHE9Ctej2IlA7FG4HoUnekBmZmZmZsCBQPYoXI\\u002fCC4dArkfhehTuU0ApXI\\u002fC9WhTQOxRuB6Fa1ZArkfhehTuU0D2KFyPwmVWQB+F61G4Hl9ArkfhehSuckCF61G4HqVXQLgehetRaFtAmpmZmZnpWECPwvUoXN9dQBSuR+F6JF9AzczMzMwsVUDD9ShcjyJaQM3MzMzMLFVAmpmZmZnpWEC4HoXrUShaQK5H4XoUHl9ACtejcD3qaEA9CtejcG1hQKRwPQrX41hA9ihcj8LNYEAUrkfheiRfQBSuR+F6rGJAH4XrUbhOY0AAAAAAABBiQPYoXI\\u002fCjWRAFK5H4XqsYkCPwvUoXK9SQB+F61G4LmBAKVyPwvXIZEDsUbgehetjQOxRuB6FC2dAuB6F61FwYUCkcD0K10tjQIXrUbge5V1ApHA9CtejbECuR+F6FCZqQK5H4XoUzmBASOF6FK5na0DXo3A9CudoQM3MzMzMJG9A16NwPQrnaEAK16NwPSplQNejcD0K52hAzczMzMxka0DhehSuR2lmQJqZmZmZIW9APQrXo3BtVEAUrkfhemxmQEjhehSur2JAmpmZmZkhb0DsUbgehetuQIXrUbge0XBAw\\u002fUoXI9KeECuR+F6FK5yQB+F61G4wn9AuB6F61EogEDhehSuR6uHQFyPwvUozIVASOF6FK6DfkB7FK5H4a6CQM3MzMzMRH1AhetRuB5fgkC4HoXrUWyGQClcj8L1IIFA7FG4HoWvckAUrkfheox0QClcj8L1IIFAZmZmZmZGbUDsUbgeha9yQDMzMzMzS2dAhetRuB5Fa0AfhetRuKZsQK5H4XoURm1Aj8L1KFzLdUB7FK5H4cJtQLgehetRMHBAmpmZmZlNc0DXo3A9Csd6QGZmZmZmJJ9AcT0K16MgkUDXo3A9CqmQQIXrUbge5V1AmpmZmZkxYECkcD0K1+NXQIXrUbge5V1AhetRuB7lXUAfhetRuN5eQJqZmZmZMWBAPQrXo3BtYUCPwvUoXK9SQPYoXI\\u002fC5VRAuB6F61EIW0CamZmZmelYQD0K16NwbWFAFK5H4XqsYkDXo3A9CudcQHE9CtejKGFAZmZmZmbGYEDsUbgehetjQOF6FK5HaWZAUrgehethW0BxPQrXo6BcQOxRuB6Fa1ZAj8L1KFyvUkC4HoXrUShaQGZmZmZmplxAAAAAAABwUUBSuB6F62FbQOF6FK5HMVBAexSuR+EqV0CPwvUoXK9SQAAAAAAAwE5AKVyPwvUoUkDNzMzMzOxUQEjhehSur7JAMzMzMzNvcUCuR+F6FOp4QPYoXI\\u002fCMXBAH4XrUbimbECuR+F6FK5yQArXo3A9IIFAw\\u002fUoXI9KeED2KFyPwjFwQAAAAAAAEHJAPQrXo3BtYUD2KFyPwo1kQB+F61G4Hl9AmpmZmZnpWEAUrkfheiRfQIXrUbge5V1AXI\\u002fC9ShsZkCF61G4Hi1lQFK4HoXr6WhApHA9CtfjaEBI4XoUrmdbQIXrUbge5V1AuB6F61FwYUCamZmZmTFgQLgehetRcGFAzczMzMy8XUCF61G4Hs1hQK5H4XoUXl5AFK5H4XqsYkBcj8L1KGxmQOF6FK5HaWZAUrgehevpaEBSuB6F6+loQI\\u002fC9ShcR2xAH4XrUbimbEA9CtejcG1hQB+F61G4LmBAzczMzMwsYkAfhetRuE5jQGZmZmZmtmNAhetRuB7lXUCF61G4Hi1lQIXrUbgeLWVA7FG4HoULZ0DXo3A9CudoQI\\u002fC9ShcP2ZAZmZmZmbmaEC4HoXrUXBhQEjhehSuz3BAFK5H4Xokb0CF61G4HtFwQKRwPQrXb3FAj8L1KFyvYkApXI\\u002fC9dhuQFK4HoXrjXRA7FG4HoWvckBSuB6F6410QIXrUbge0XBAUrgehevpaEBmZmZmZu5jQOF6FK5HaWZA4XoUrkeJaUCamZmZmalZQKRwPQrX41hAhetRuB4tZUAfhetRuN5dQLgehetRcGFAzczMzMz8YUB7FK5H4YpkQFK4HoXr6WhAuB6F61FOg0A=\"},\"type\":\"scatter\"},{\"mode\":\"markers\",\"name\":\"processor_speed\",\"visible\":false,\"x\":{\"dtype\":\"f8\",\"bdata\":\"MzMzMzMzBUAzMzMzMzMFQDMzMzMzMwVAzczMzMzMCEDNzMzMzMwIQM3MzMzMzAhAzczMzMzMCEDNzMzMzMwIQM3MzMzMzAhAzczMzMzMCEDNzMzMzMwIQMP1KFyPwglAw\\u002fUoXI\\u002fCCUDD9Shcj8IJQMP1KFyPwglAw\\u002fUoXI\\u002fCCUDD9Shcj8IJQMP1KFyPwglAw\\u002fUoXI\\u002fCCUDD9Shcj8IJQMP1KFyPwglAw\\u002fUoXI\\u002fCCUDD9Shcj8IJQMP1KFyPwglAw\\u002fUoXI\\u002fCCUDD9Shcj8IJQMP1KFyPwglAw\\u002fUoXI\\u002fCCUCuR+F6FK4LQK5H4XoUrgtArkfhehSuC0CuR+F6FK4LQK5H4XoUrgtArkfhehSuC0CuR+F6FK4LQK5H4XoUrgtArkfhehSuC0A9CtejcD0OQD0K16NwPQ5APQrXo3A9DkD2KFyPwvUCQDMzMzMzMwVAMzMzMzMzBUDD9Shcj8IJQMP1KFyPwglAAAAAAAAAAkAzMzMzMzMHQJqZmZmZmQlAmpmZmZmZCUCamZmZmZkJQJqZmZmZmQlAmpmZmZmZCUCamZmZmZkJQGZmZmZmZgJAMzMzMzMzA0DNzMzMzMz0P5qZmZmZmQFAAAAAAAAABEDNzMzMzMwEQAAAAAAAAABAAAAAAAAAAEAAAAAAAAAAQNejcD0K1\\u002f8\\u002fzczMzMzMAkAAAAAAAAAAQGZmZmZmZgZAMzMzMzMzA0AzMzMzMzMDQGZmZmZmZgZAZmZmZmZmBkBmZmZmZmYGQGZmZmZmZgZAzczMzMzMBkDNzMzMzMwGQM3MzMzMzAZAAAAAAAAACEAAAAAAAAAIQDMzMzMzMwNAAAAAAAAAAEAAAAAAAAAEQAAAAAAAAARAAAAAAAAACEAAAAAAAAAIQJqZmZmZmQFAAAAAAAAAAEBmZmZmZmYCQDMzMzMzMwNAmpmZmZmZAUCamZmZmZkBQJqZmZmZmQFA4XoUrkfhAkDhehSuR+EGQArXo3A9CglACtejcD0KCUCamZmZmZkJQOF6FK5H4QZAuB6F61G4BkAzMzMzMzMDQDMzMzMzMwNAmpmZmZmZAUAzMzMzMzMDQDMzMzMzMwNAmpmZmZmZAUAzMzMzMzMDQOF6FK5H4QZAuB6F61G4BkDNzMzMzMz0P5qZmZmZmfk\\u002fmpmZmZmZ+T8AAAAAAAAAQGZmZmZmZgJAH4XrUbge\\u002fT8AAAAAAAAAQAAAAAAAAABAMzMzMzMzA0AzMzMzMzMDQGZmZmZmZgJAAAAAAAAAAEAAAAAAAAAEQAAAAAAAAABAAAAAAAAABEAAAAAAAAAAQAAAAAAAAABAAAAAAAAABEAzMzMzMzMDQJqZmZmZmQFAMzMzMzMzA0AAAAAAAAAAQAAAAAAAAARAAAAAAAAAAECamZmZmZkBQAAAAAAAAABAAAAAAAAAAEAAAAAAAAAAQJqZmZmZmQFAzczMzMzMBEAAAAAAAAAEQAAAAAAAAARAmpmZmZmZCUCamZmZmZkJQJqZmZmZmQlAmpmZmZmZCUCamZmZmZkJQLgehetRuAZAMzMzMzMzB0AzMzMzMzMHQAAAAAAAAAhAuB6F61G4BkC4HoXrUbgGQJqZmZmZmQlAmpmZmZmZCUCamZmZmZkJQJqZmZmZmQlAzczMzMzMCECamZmZmZkJQM3MzMzMzAhAMzMzMzMzA0AzMzMzMzMDQJqZmZmZmQFAmpmZmZmZAUCamZmZmZkBQAAAAAAAAABAAAAAAAAAAEAzMzMzMzMDQDMzMzMzMwNAMzMzMzMzA0CamZmZmZkBQOF6FK5H4QJAmpmZmZmZAUBmZmZmZmYGQGZmZmZmZvY\\u002fZmZmZmZm9j9mZmZmZmb2P83MzMzMzPQ\\u002fzczMzMzM9D\\u002fNzMzMzMz0P83MzMzMzPQ\\u002fmpmZmZmZ+T+amZmZmZn5P5qZmZmZmfk\\u002fmpmZmZmZAUDNzMzMzMz0P83MzMzMzPQ\\u002fZmZmZmZm9j8zMzMzMzMDQJqZmZmZmQFAZmZmZmZmAkAAAAAAAAAAQM3MzMzMzPw\\u002fAAAAAAAACEC4HoXrUbgGQAAAAAAAAAhAAAAAAAAAAEDNzMzMzMz8P83MzMzMzPw\\u002fuB6F61G4BkAzMzMzMzMDQDMzMzMzMwNAAAAAAAAA+D8AAAAAAAD4P83MzMzMzPw\\u002fzczMzMzM\\u002fD\\u002fNzMzMzMz8PzMzMzMzMwNAAAAAAAAABEAAAAAAAAAEQDMzMzMzMwdAAAAAAAAACECamZmZmZkJQJqZmZmZmQlA4XoUrkfhAkCamZmZmZkJQJqZmZmZmQlAuB6F61G4BkCamZmZmZkJQAAAAAAAAABAZmZmZmZmAkBmZmZmZmYCQM3MzMzMzPw\\u002fzczMzMzM\\u002fD\\u002fNzMzMzMz8P5qZmZmZmQFAMzMzMzMzB0AAAAAAAAAIQJqZmZmZmQlAmpmZmZmZAUAAAAAAAAAAQGZmZmZmZgJAAAAAAAAAAEAAAAAAAAAAQAAAAAAAAABAMzMzMzMzA0BmZmZmZmYCQDMzMzMzMwNAmpmZmZmZAUAzMzMzMzMDQDMzMzMzMwNAmpmZmZmZAUCamZmZmZkBQGZmZmZmZgJAmpmZmZmZAUCamZmZmZkBQJqZmZmZmQFAmpmZmZmZAUCamZmZmZkBQJqZmZmZmQFAmpmZmZmZAUCamZmZmZkBQJqZmZmZmQFAMzMzMzMzB0CamZmZmZkJQJqZmZmZmQlAmpmZmZmZAUAAAAAAAAAAQJqZmZmZmQlAmpmZmZmZ+T+amZmZmZn5P5qZmZmZmfk\\u002fmpmZmZmZ+T+amZmZmZn5P5qZmZmZmfk\\u002fmpmZmZmZAUAAAAAAAAAIQAAAAAAAAABAmpmZmZmZAUAzMzMzMzMDQJqZmZmZmQlAmpmZmZmZCUAAAAAAAAAEQAAAAAAAAARAAAAAAAAABEAAAAAAAAAEQJqZmZmZmQlAMzMzMzMzB0CamZmZmZkJQJqZmZmZmQlAmpmZmZmZCUAAAAAAAAAIQJqZmZmZmQlAAAAAAAAACEAAAAAAAAAIQAAAAAAAAAhAzczMzMzMBkDNzMzMzMwGQM3MzMzMzAZAmpmZmZmZCUCamZmZmZkJQJqZmZmZmQlAmpmZmZmZCUCamZmZmZkJQJqZmZmZmQlAmpmZmZmZCUBmZmZmZmYGQLgehetRuAZAuB6F61G4BkC4HoXrUbgGQJqZmZmZmQlAzczMzMzMBkCamZmZmZkJQM3MzMzMzAZAzczMzMzM\\u002fD+amZmZmZkBQAAAAAAAAAhAAAAAAAAACEDNzMzMzMwIQAAAAAAAAAhA4XoUrkfhAkAAAAAAAAAIQJqZmZmZmQFAmpmZmZmZAUCamZmZmZkBQJqZmZmZmQFAmpmZmZmZAUAAAAAAAAAAQAAAAAAAAABAzczMzMzM\\u002fD+amZmZmZkBQAAAAAAAAABAMzMzMzMzA0AAAAAAAAAAQDMzMzMzMwNAmpmZmZmZAUDNzMzMzMz8P2ZmZmZmZgJAZmZmZmZmAkBmZmZmZmYCQAAAAAAAAABAAAAAAAAAAEBmZmZmZmYCQGZmZmZmZgJAZmZmZmZmAkBmZmZmZmYCQM3MzMzMzPw\\u002fZmZmZmZmAkBmZmZmZmYCQGZmZmZmZgJAZmZmZmZmAkBmZmZmZmYCQJqZmZmZmQFAmpmZmZmZAUAzMzMzMzMDQGZmZmZmZgJAZmZmZmZmAkCamZmZmZkBQJqZmZmZmQFAAAAAAAAABEAAAAAAAAAAQDMzMzMzMwNAZmZmZmZmAkBmZmZmZmYCQDMzMzMzMwNAMzMzMzMzA0CamZmZmZkBQDMzMzMzMwNAmpmZmZmZAUAzMzMzMzMDQAAAAAAAAAhAmpmZmZmZAUAAAAAAAAAAQJqZmZmZmQFAMzMzMzMzA0AAAAAAAAAAQDMzMzMzMwNAmpmZmZmZAUCamZmZmZkBQDMzMzMzMwNAmpmZmZmZAUCamZmZmZkBQOF6FK5H4QJAuB6F61G4BkAAAAAAAAAMQJqZmZmZmQlAmpmZmZmZCUCamZmZmZkJQLgehetRuAZAAAAAAAAACECamZmZmZkJQJqZmZmZmQlAMzMzMzMzA0AzMzMzMzMDQDMzMzMzMwNAuB6F61G4BkCamZmZmZkBQJqZmZmZmQFAAAAAAAAABEAAAAAAAAAMQJqZmZmZmQlAMzMzMzMzA0DNzMzMzMwEQDMzMzMzMwNAAAAAAAAAAEAAAAAAAAAIQJqZmZmZmQlAAAAAAAAACEDNzMzMzMwGQM3MzMzMzAZAzczMzMzMBkCamZmZmZkBQJqZmZmZmQFAmpmZmZmZAUAzMzMzMzMDQM3MzMzMzAZAmpmZmZmZCUCamZmZmZkBQAAAAAAAAABAAAAAAAAACECamZmZmZkBQAAAAAAAAAhAuB6F61G4BkAAAAAAAAAAQJqZmZmZmQFAAAAAAAAAAEBmZmZmZmYCQGZmZmZmZgJAAAAAAAAAAEAAAAAAAAAAQAAAAAAAAABAAAAAAAAACECamZmZmZkJQJqZmZmZmQlAmpmZmZmZCUAAAAAAAAAIQJqZmZmZmQlAAAAAAAAACECamZmZmZkJQAAAAAAAAABAZmZmZmZmAkAAAAAAAAAAQJqZmZmZmQFAmpmZmZmZAUCamZmZmZkBQJqZmZmZmQFAAAAAAAAABEAAAAAAAAAEQAAAAAAAAARAMzMzMzMzA0AzMzMzMzMDQDMzMzMzMwNAmpmZmZmZAUCamZmZmZkBQAAAAAAAAARAZmZmZmZmAkCuR+F6FK4HQJqZmZmZmQFAzczMzMzMBkDNzMzMzMwGQJqZmZmZmQFAmpmZmZmZAUCamZmZmZkBQJqZmZmZmQFAmpmZmZmZCUAzMzMzMzMDQM3MzMzMzApAmpmZmZmZAUCamZmZmZkBQJqZmZmZmQFAmpmZmZmZAUCamZmZmZkBQM3MzMzMzARAzczMzMzMBEAzMzMzMzMDQAAAAAAAAAhAmpmZmZmZAUAAAAAAAAAEQGZmZmZmZgJAZmZmZmZmAkAAAAAAAAAAQAAAAAAAAABAmpmZmZmZAUCamZmZmZkBQAAAAAAAAARAAAAAAAAABEAzMzMzMzMDQDMzMzMzMwNAMzMzMzMzA0AzMzMzMzMDQDMzMzMzMwNAMzMzMzMzA0AzMzMzMzMDQDMzMzMzMwNAmpmZmZmZAUCamZmZmZkBQAAAAAAAAARAAAAAAAAABEAAAAAAAAAEQDMzMzMzMwNAMzMzMzMzA0AzMzMzMzMDQDMzMzMzMwNAMzMzMzMzA0DNzMzMzMwAQGZmZmZmZgJAmpmZmZmZ+T+amZmZmZn5PwAAAAAAAABAzczMzMzM\\u002fD\\u002fNzMzMzMz8PwAAAAAAAABAH4XrUbge\\u002fT8fhetRuB79P5qZmZmZmfk\\u002fmpmZmZmZ+T8fhetRuB79Px+F61G4Hv0\\u002fH4XrUbge\\u002fT\\u002fNzMzMzMz8P83MzMzMzPw\\u002fzczMzMzM\\u002fD\\u002fNzMzMzMz8P83MzMzMzPw\\u002fZmZmZmZmAkC4HoXrUbgGQJqZmZmZmQlAAAAAAAAACEAAAAAAAAAIQLgehetRuAZAmpmZmZmZCUAzMzMzMzMDQM3MzMzMzAZAmpmZmZmZCUCamZmZmZkJQJqZmZmZmQlAAAAAAAAACECamZmZmZkJQJqZmZmZmQlAAAAAAAAAAECamZmZmZkBQDMzMzMzMwNAAAAAAAAAAEAAAAAAAAAAQDMzMzMzMwNAMzMzMzMzA0AzMzMzMzMDQAAAAAAAAARAAAAAAAAABEAAAAAAAAAAQB+F61G4Hv0\\u002fH4XrUbge\\u002fT+amZmZmZn5P5qZmZmZmfk\\u002fH4XrUbge\\u002fT8fhetRuB79PwAAAAAAAABAmpmZmZmZAUCamZmZmZkBQJqZmZmZmQFAuB6F61G4BkC4HoXrUbgGQAAAAAAAAAhAZmZmZmZmAkAAAAAAAAAAQGZmZmZmZgJAMzMzMzMzA0C4HoXrUbgGQLgehetRuAZAAAAAAAAA+D+amZmZmZn5P5qZmZmZmfk\\u002fmpmZmZmZ+T9mZmZmZmYCQGZmZmZmZgJAZmZmZmZmAkBmZmZmZmYCQGZmZmZmZgJAZmZmZmZmAkAAAAAAAAAAQAAAAAAAAABAAAAAAAAAAEDNzMzMzMz8P2ZmZmZmZgJAZmZmZmZmAkAAAAAAAAAAQAAAAAAAAABAAAAAAAAAAECamZmZmZkBQDMzMzMzMwNAMzMzMzMzA0AzMzMzMzMDQJqZmZmZmQFAAAAAAAAAAEAAAAAAAAAAQJqZmZmZmQFAMzMzMzMzA0AzMzMzMzMDQJqZmZmZmQFAmpmZmZmZAUDNzMzMzMz8PwAAAAAAAABAAAAAAAAAAEAAAAAAAAAAQDMzMzMzMwNAMzMzMzMzA0DNzMzMzMwEQJqZmZmZmQFAZmZmZmZmAkBmZmZmZmYCQGZmZmZmZgJAMzMzMzMzA0AzMzMzMzMDQDMzMzMzMwNAMzMzMzMzA0CamZmZmZkBQJqZmZmZmQFAMzMzMzMzA0AzMzMzMzMDQOF6FK5H4QJAZmZmZmZmAkCuR+F6FK4HQJqZmZmZmQlAmpmZmZmZAUAAAAAAAAAIQGZmZmZmZgJAAAAAAAAAAEAAAAAAAAAAQAAAAAAAAABAMzMzMzMzA0AAAAAAAAAAQAAAAAAAAABAmpmZmZmZAUCamZmZmZkBQJqZmZmZmQFAZmZmZmZmAkCamZmZmZkBQJqZmZmZmQFAAAAAAAAAAEBmZmZmZmYCQGZmZmZmZgJAAAAAAAAAAEAAAAAAAAAAQAAAAAAAAABAmpmZmZmZAUCamZmZmZkBQDMzMzMzMwNAZmZmZmZmAkAAAAAAAAAAQAAAAAAAAABAAAAAAAAAAEAAAAAAAAAAQDMzMzMzMwNAMzMzMzMzA0AzMzMzMzMDQDMzMzMzMwNAmpmZmZmZAUAzMzMzMzMDQDMzMzMzMwNAMzMzMzMzA0C4HoXrUbgGQNejcD0K1wVAmpmZmZmZBUDXo3A9CtcFQJqZmZmZmQVA16NwPQrXBUCamZmZmZkJQJqZmZmZmQVAmpmZmZmZBUDXo3A9CtcFQNejcD0K1wVA16NwPQrXBUC4HoXrUbgGQNejcD0K1wVA16NwPQrXBUDXo3A9CtcFQDMzMzMzMwdAMzMzMzMzB0AzMzMzMzMHQDMzMzMzMwdAMzMzMzMzB0AzMzMzMzMHQAAAAAAAAAhAAAAAAAAACEAAAAAAAAAIQAAAAAAAAAhAAAAAAAAACEAAAAAAAAAIQAAAAAAAAAhAAAAAAAAACECamZmZmZkJQGZmZmZmZgZAmpmZmZmZCUCamZmZmZkJQB+F61G4HgtAZmZmZmZmBkC4HoXrUbgGQJqZmZmZmQlAuB6F61G4BkCamZmZmZkJQJqZmZmZmQlAuB6F61G4BkC4HoXrUbgGQAAAAAAAAAhAAAAAAAAAAEAAAAAAAAAAQLgehetRuAZAAAAAAAAACEAAAAAAAAAAQGZmZmZmZgJAuB6F61G4BkAAAAAAAAAAQAAAAAAAAABAAAAAAAAAAEAAAAAAAAAAQAAAAAAAAARAMzMzMzMzA0AAAAAAAAAEQJqZmZmZmQFAAAAAAAAABEAAAAAAAAAEQAAAAAAAAAxAAAAAAAAADEDNzMzMzMz0PwAAAAAAAABAAAAAAAAAAEAAAAAAAAAAQAAAAAAAAABAmpmZmZmZAUCamZmZmZkBQDMzMzMzMwNAAAAAAAAAAEAzMzMzMzMDQM3MzMzMzPw\\u002fAAAAAAAAAEAAAAAAAAAAQAAAAAAAAABAZmZmZmZmAkBmZmZmZmYCQGZmZmZmZgJAZmZmZmZmAkAAAAAAAAAAQGZmZmZmZgJAmpmZmZmZAUAAAAAAAAAAQAAAAAAAAPg\\u002fAAAAAAAAAECamZmZmZkJQM3MzMzMzAhAzczMzMzMCEAzMzMzMzMDQDMzMzMzMwNAMzMzMzMzA0CamZmZmZkBQJqZmZmZmQFAmpmZmZmZAUAzMzMzMzMDQDMzMzMzMwNAMzMzMzMzA0AzMzMzMzMDQDMzMzMzMwNAmpmZmZmZCUBmZmZmZmYGQAAAAAAAAAhAmpmZmZmZBUAAAAAAAAAAQAAAAAAAAABAAAAAAAAAAEAAAAAAAAAAQAAAAAAAAABAZmZmZmZmAkBmZmZmZmYCQDMzMzMzMwNAAAAAAAAAAEAzMzMzMzMDQDMzMzMzMwNAMzMzMzMzA0AzMzMzMzMDQAAAAAAAAARAAAAAAAAABEAAAAAAAAAIQAAAAAAAAAhAAAAAAAAABEAzMzMzMzMDQAAAAAAAAABAAAAAAAAAAEAAAAAAAAAIQAAAAAAAAAhAmpmZmZmZAUCamZmZmZkJQJqZmZmZmQFAmpmZmZmZCUCamZmZmZkBQDMzMzMzMwNAmpmZmZmZCUAAAAAAAAAIQAAAAAAAAAhAmpmZmZmZCUAAAAAAAAAIQAAAAAAAAAxAAAAAAAAADEAAAAAAAAAIQJqZmZmZmQlAAAAAAAAADEAAAAAAAAAMQJqZmZmZmQlAZmZmZmZmAkBmZmZmZmYCQAAAAAAAAABAAAAAAAAAAEBmZmZmZmYCQGZmZmZmZgJAMzMzMzMzA0AAAAAAAAAAQAAAAAAAAABAAAAAAAAAAEAAAAAAAAAAQAAAAAAAAABAZmZmZmZmAkBmZmZmZmYCQGZmZmZmZgJAZmZmZmZmAkBmZmZmZmYCQGZmZmZmZgJAAAAAAAAAAEAAAAAAAAAAQM3MzMzMzPw\\u002fZmZmZmZmAkAzMzMzMzMDQAAAAAAAAABAMzMzMzMzA0AAAAAAAAAAQAAAAAAAAABAMzMzMzMzA0DNzMzMzMz0P2ZmZmZmZgJAAAAAAAAAAEAzMzMzMzMDQDMzMzMzMwNAmpmZmZmZAUAAAAAAAAAAQAAAAAAAAABAMzMzMzMzA0CamZmZmZkBQDMzMzMzM\\u002fM\\u002fmpmZmZmZAUCamZmZmZkBQGZmZmZmZvY\\u002fAAAAAAAABEAAAAAAAAAAQAAAAAAAAARAmpmZmZmZAUCamZmZmZkBQAAAAAAAAAhAAAAAAAAAAEAAAAAAAAAAQDMzMzMzM\\u002f8\\u002fAAAAAAAABEAAAAAAAAAEQAAAAAAAAARAuB6F61G4BkAzMzMzMzMDQAAAAAAAAAhAAAAAAAAACECamZmZmZkJQJqZmZmZmQlAzczMzMzMBkCamZmZmZkJQJqZmZmZmQlAmpmZmZmZCUCamZmZmZkJQJqZmZmZmQlAMzMzMzMzA0DNzMzMzMwIQLgehetRuAZAuB6F61G4BkC4HoXrUbgGQGZmZmZmZgJAMzMzMzMzA0AzMzMzMzMDQAAAAAAAAARAuB6F61G4BkCamZmZmZkJQJqZmZmZmQlAuB6F61G4BkAAAAAAAAAIQK5H4XoUrgdAuB6F61G4BkCamZmZmZkJQGZmZmZmZgZAZmZmZmZmBkAzMzMzMzMDQDMzMzMzMwNAMzMzMzMzA0AAAAAAAAAAQAAAAAAAAABAmpmZmZmZAUAAAAAAAAAAQAAAAAAAAABAAAAAAAAAAEAAAAAAAAAAQDMzMzMzMwNAMzMzMzMzA0CamZmZmZkBQJqZmZmZmQFAmpmZmZmZAUCamZmZmZkBQAAAAAAAAABAmpmZmZmZAUAAAAAAAAAAQGZmZmZmZgJAZmZmZmZmAkBmZmZmZmYCQAAAAAAAAABAAAAAAAAAAEAAAAAAAAAAQAAAAAAAAABAAAAAAAAAAEAAAAAAAAAAQAAAAAAAAABAAAAAAAAAAEAAAAAAAAAAQGZmZmZmZgZAzczMzMzMBkCamZmZmZkJQM3MzMzMzAZAzczMzMzMBkCamZmZmZkJQJqZmZmZmQlAmpmZmZmZCUDNzMzMzMwIQM3MzMzMzAhAmpmZmZmZAUCamZmZmZkBQJqZmZmZmQFAZmZmZmZmAkBmZmZmZmYCQGZmZmZmZgJAZmZmZmZmAkDNzMzMzMwEQGZmZmZmZgJAZmZmZmZmAkAAAAAAAAAEQAAAAAAAAARAAAAAAAAABECamZmZmZkBQJqZmZmZmQFAMzMzMzMzA0AzMzMzMzMDQDMzMzMzMwNAMzMzMzMzA0AAAAAAAAAEQJqZmZmZmQFAMzMzMzMzA0CamZmZmZkBQJqZmZmZmQFAmpmZmZmZAUCamZmZmZkBQJqZmZmZmQFAAAAAAAAABEAAAAAAAAAEQAAAAAAAAARAAAAAAAAABEAzMzMzMzMDQDMzMzMzMwNAMzMzMzMzA0DNzMzMzMwGQAAAAAAAAABAAAAAAAAAAECamZmZmZkBQM3MzMzMzARAzczMzMzMBEDNzMzMzMwEQM3MzMzMzARAZmZmZmZmAkDNzMzMzMwEQOF6FK5H4QJAzczMzMzMBEDNzMzMzMwEQM3MzMzMzARAMzMzMzMzA0AAAAAAAAAAQAAAAAAAAABA4XoUrkfhAkAAAAAAAAAAQAAAAAAAAABAAAAAAAAABEAAAAAAAAAAQGZmZmZmZgJAZmZmZmZmAkBmZmZmZmYCQJqZmZmZmQlAAAAAAAAACEA=\"},\"y\":{\"dtype\":\"f8\",\"bdata\":\"w\\u002fUoXI9KeEAK16NwPUZ9QNejcD0KHZFA9ihcj8IxgEAfhetRuHCBQD0K16NwLYVAmpmZmZmJeUB7FK5H4aZ8QB+F61G4cIFASOF6FK6rkkApXI\\u002fC9ciVQM3MzMzMnoNArkfhehS8hkB7FK5H4aaMQLgehetRNoRASOF6FK6rkkB7FK5H4QeXQLgehetROpRAuB6F61E6lEDsUbgehQOcQClcj8L1yJVAAAAAAACOhEDhehSuR6uHQKRwPQrX5Y1AXI\\u002fC9SjMhUDsUbgehVuHQM3MzMzMeIpASOF6FK5ZkEDhehSuR6+SQD0K16Nw8JpAUrgehes9lEBSuB6F6z2UQK5H4XoUf5xAw\\u002fUoXI\\u002fMlUB7FK5H4XSaQHE9Ctej2IlArkfhehR4ikDNzMzMzGWUQFyPwvUoRJZAmpmZmZlXl0DNzMzMzICAQK5H4XoUrnJACtejcD3aeEBcj8L1KFh7QDMzMzMzI39AuB6F61FshkCuR+F6FOp4QLgehetRbIZArkfhehS8hkA9CtejcAeMQFK4HoXr0JBAw\\u002fUoXI+qh0D2KFyPwu2DQPYoXI\\u002fCZVZAFK5H4XqsYkCPwvUoXK9iQI\\u002fC9Shcr2JAj8L1KFyvYkB7FK5H4aZ8QKRwPQrX41hAuB6F61HYTkAAAAAAAHBRQI\\u002fC9Shcr1JA7FG4HoXrY0BmZmZmZu5jQHE9CtejEGlAFK5H4XpsdkBSuB6F6410QB+F61G4NnlAMzMzMzPpgEC4HoXrUdKIQOxRuB6Fr3JA7FG4HoWJgECamZmZmYmJQI\\u002fC9Shcy3VAFK5H4XrQgEBSuB6F6xuGQBSuR+F6jHRAmpmZmZkhb0BxPQrXo+h4QJqZmZmZTXNACtejcD0ggUCPwvUoXJWNQJqZmZmZ6VhAuB6F61FwYUC4HoXrUXBhQIXrUbgeLWVAFK5H4XqsYkCF61G4Hi1lQHE9CtejcHFASOF6FK5HW0BI4XoULr2gQFyPwvUozIVAAAAAAAAkj0Bcj8L1qK+iQAAAAAAAUZpAPQrXo3BhmUCuR+F6FK5yQD0K16Nw5W1AzczMzMxka0CuR+F6FK5yQNejcD0K52hAzczMzMxka0CkcD0K16NsQHE9Ctej2IlAj8L1KFz\\u002fgkBxPQrXo\\u002fBQQK5H4XoU7lNAPQrXo3AtVEAUrkfheiRYQJqZmZmZ6VhAMzMzMzMzVkC4HoXrUQhbQB+F61G4vl5AXI\\u002fC9ShsZkBSuB6F6+loQOxRuB6Fa1ZAmpmZmZnpWECamZmZmTFgQDMzMzMz419AZmZmZmbuY0BmZmZmZiZdQJqZmZmZMWBAhetRuB4tZUBmZmZmZu5jQPYoXI\\u002fCDWVAexSuR+GqZ0CPwvUoXK9iQFK4HoXr6WhAmpmZmZnpWECF61G4Hi1lQM3MzMzMPFJAAAAAAABwUUA9CtejcK1UQFyPwvUobGZAw\\u002fUoXI9KaEBI4XoUrgt3QM3MzMzMZGtACtejcD0+hECamZmZma+CQIXrUbgeX4JAmpmZmZkhb0B7FK5H4Wp2QHE9Ctej6HhAj8L1KFzLdUBxPQrXo+h4QHsUrkfhroJAmpmZmZlNc0DNzMzMzMR1QLgehetR5H1AAAAAAAAQckA9CtejcAV1QKRwPQrXo2xA7FG4HoWvckAUrkfheox0QJqZmZmZIW9AzczMzMwMYkBmZmZmZu5jQB+F61G4TmNACtejcD0aZUAzMzMzMwtnQB+F61G4TmNAhetRuB5tYUAUrkfheiRrQHE9CtejcHFArkfhehQmbUBcj8L1KGxmQBSuR+F6JG9Aj8L1KFyvYkDXo3A9CudoQM3MzMzM7ENAexSuR+HaR0CamZmZmdlNQHsUrkfhWktA7FG4HoUrUECamZmZmdlNQArXo3A9alFAmpmZmZlZTUBxPQrXo7BQQDMzMzMz00xAj8L1KFzfXUAK16NwPSpHQI\\u002fC9Shcr1JA7FG4HoVrRkDhehSuR2lmQEjhehSuZ1tA7FG4HoVrVkAAAAAAAHBRQEjhehSuZ1tAmpmZmZl2k0CamZmZma+CQM3MzMzMRH1AZmZmZmZmS0CF61G4HuVNQAAAAAAAcFFAPQrXo3DpiEApXI\\u002fC9SCBQClcj8L1IIFA4XoUrkfhQ0DD9Shcj2JDQAAAAAAAcFFAKVyPwvVoU0CF61G4HuVNQHsUrkfhqmdAH4XrUbimbEAUrkfheiRvQK5H4XoU6nhAzczMzMzMdUApXI\\u002fC9SCBQJqZmZmZr4JAzczMzMzMdUDXo3A9Csd6QHsUrkfhroJAXI\\u002fC9SgQgkAUrkfhegRsQLgehetRKFpACtejcD16VkDsUbgehWtWQLgehetR6FNAw\\u002fUoXI8SVkCuR+F6FO5TQClcj8L17HNAw\\u002fUoXI\\u002fibUCPwvUoXMt1QHsUrkfhroJA16NwPQrnaEBmZmZmZu5jQHsUrkfhqldAUrgehevpaECamZmZmelYQIXrUbge5V1AuB6F61EoWkAAAAAAABBiQEjhehSuZ1tAmpmZmZkxYECF61G4HuVdQJqZmZmZMWBAhetRuB4tZUBI4XoUrmdrQGZmZmZm7mNA9ihcj8KNZECPwvUoXK9iQIXrUbgeLWVA16NwPQrnaEBmZmZmZu5jQPYoXI\\u002fCMXBA4XoUrkeJaUB7FK5H4apnQNejcD0K52hAw\\u002fUoXI\\u002fibUDsUbgehSd6QK5H4XoU6nhAw\\u002fUoXI9KaEBxPQrXo6BcQDMzMzMzI39ASOF6FK4nSkDsUbgehWtWQHsUrkfhqldAuB6F61EoWkCF61G4HuVdQClcj8L10GBAXI\\u002fC9SjAcUAK16NwPUZ9QOF6FK5HaWZA7FG4HoUnekDNzMzMzMx1QHE9Ctej6HhAMzMzMzMjf0DhehSuR6lwQLgehetRbHZAFK5H4XqYcUCamZmZmSFvQHE9Ctej6HhAj8L1KFwHfEBxPQrXo\\u002f6CQM3MzMzMRH1Aj8L1KFz\\u002fgkAzMzMzMyN\\u002fQM3MzMzMzHVAj8L1KFz\\u002fgkCuR+F6FGaEQOxRuB6FW4dAUrgeheuNdEBI4XoUrgt3QNejcD0KC3ZAj8L1KFwHfEBcj8L1KMR\\u002fQB+F61G4cIFAKVyPwvUggUB7FK5H4cyFQK5H4XoU6nhAexSuR+HMhUBxPQrXo3BxQGZmZmZmLoRAFK5H4XrIekCPwvUoXAd8QM3MzMzMzHVAw\\u002fUoXI8OckC4HoXrUeR9QKRwPQrXo2xAj8L1KFyvYkAfhetRuKZsQJqZmZmZHXVAAAAAAAAQckBxPQrXo3BxQK5H4XoUrnJA7FG4HoWvckDNzMzMzMx1QB+F61G45mhAZmZmZmZma0AUrkfheiRvQEjhehSuZ2tAexSuR+GqZ0BSuB6F6+loQMP1KFyP4m9ACtejcD0qZUCuR+F6FCZqQArXo3A9KmVAAAAAAACoZ0BSuB6F6+loQBSuR+F6JG9ArkfhehQmakCkcD0K1+NYQJqZmZmZ6VhAcT0K16OgXECF61G4HuVdQOxRuB6Fa1ZA7FG4HoVrVkBI4XoUrmdbQBSuR+F6JF9AexSuR+GqV0AfhetRuB5fQD0K16NwbWFAhetRuB5lXkCPwvUoXN9dQI\\u002fC9Shcr2JAKVyPwvXQYEAAAAAAAFBiQOF6FK5HaWZA4XoUrkdpZkCamZmZmTFgQI\\u002fC9Shc311A16NwPQpnYUAAAAAAAKhnQD0K16NwbWFA7FG4HoXrY0CkcD0K10tjQHsUrkfhimRAH4XrUbhOY0CuR+F6FO5jQM3MzMzMZGtAXI\\u002fC9ShsZkB7FK5H4apnQFyPwvUobGZApHA9CtejbEDD9Shcj+JtQJqZmZmZTXNAAAAAAACoZ0AUrkfheqxiQMP1KFyPamZA16NwPQrnaEB7FK5H4epjQClcj8L1KGpAKVyPwvUscECF61G4HiFwQAAAAAAASGtAw\\u002fUoXI86cUDXo3A9CudoQDMzMzMzb3FAzczMzMy6jEAfhetRuAaMQAAAAAAAJI9Aj8L1KFyVjUBSuB6F6xuGQB+F61G4wn9APQrXo3DpiEBcj8L1KMyFQAAAAAAASohArkfhehTOYEAK16NwPSplQIXrUbgeLWVArkfhehSuckAK16NwPSplQNejcD0K52hAUrgeheuNdEDXo3A9Csd6QIXrUbgeX4JArkfhehSuckB7FK5H4Rp4QKRwPQrXo2xAZmZmZmZucECamZmZmeV2QFK4HoXrBXxAFK5H4XqMdEDXo3A9Csd6QHsUrkfhpnxAexSuR+GmfEBI4XoUrs9wQK5H4XoUrnJAUrgehevpaEC4HoXrUcBxQK5H4XoU6nhAexSuR+GmfECkcD0K16NsQClcj8L1MHBAmpmZmZntc0Bcj8L1KGxmQGZmZmZmRnJAmpmZmZkFlUCuR+F6FK5yQKRwPQrXo2xA9ihcj8IhcEDhehSuRzFQQI\\u002fC9Shcr1JA4XoUrkcxUECPwvUoXC9SQK5H4XoU7lNAUrgeheuNdEDsUbgeha9yQPYoXI\\u002fCMXBAcT0K16NwcUCuR+F6FOp4QI\\u002fC9Shcy3VAFK5H4XrIekDsUbgeha9yQFK4HoXrIVtAMzMzMzPjX0BmZmZmZqZcQGZmZmZm7mNASOF6FK5vYkBmZmZmZqZcQClcj8L10GBAhetRuB7lXUCamZmZmTFgQLgehetRcGFAmpmZmZkxYECPwvUoXK9iQGZmZmZm7mNASOF6FK7nWkAAAAAAABBiQNejcD0K52hAKVyPwvXQYEDD9Shcj3poQBSuR+F6rGJAmpmZmZkhb0DD9Shcjw5yQI\\u002fC9Shcr2JA9ihcj8KNZEBcj8L1KGxmQI\\u002fC9Shcr2JArkfhehSuckApXI\\u002fC9ShqQFK4HoXr6WhAuB6F61FwYUCF61G4Hi1lQAAAAAAAEGJAexSuR+GqZ0BSuB6F6+loQBSuR+F6JG9AcT0K16NwcUCamZmZmTFgQAAAAAAAEHJAFK5H4Xokb0BmZmZmZi5gQIXrUbgeDWJASOF6FK5na0BmZmZmZu5jQFyPwvUobGZA9ihcj8KNZEDsUbgehQtnQBSuR+F6JF9AuB6F61FwYUBcj8L1KGxmQM3MzMzMzGVAj8L1KFyvYkBmZmZmZu5jQLgehetRcGFAH4XrUbhOY0B7FK5H4apnQGZmZmZmpmxAexSuR+GqZ0ApXI\\u002fC9ShqQFK4HoXrIXBAhetRuB6lbEDsUbgehYNuQBSuR+F6JF9AuB6F61FwYUCPwvUoXK9iQBSuR+F6pGJAhetRuB4tZUDsUbgehWtWQOxRuB6FK1BA4XoUrkcxUEAfhetRuE5TQAAAAAAAcFFAAAAAAABwUUDsUbgehWtWQI\\u002fC9Shcb0FASOF6FK5nSkCkcD0K12NPQD0K16NwzVFA9ihcj8JlVkA9CtejcK1UQOxRuB6Fa1ZAexSuR+GqV0DNzMzMzExWQJqZmZmZ6VhAuB6F61F4XUBcj8L1KNxfQLgehetRcGFArkfhehTuU0AzMzMzMw9yQFyPwvUoiHlACtejcD0ef0AK16NwPUZ9QArXo3A9TnNAFK5H4XqMdEBxPQrXo3BxQJqZmZmZ7XNAFK5H4Xokb0A9CtejcIFwQLgehetRwHFA7FG4HoWvckDNzMzMzMx1QGZmZmZm7nNAuB6F61EoWkCF61G4Hi1lQFK4HoXr6WhASOF6FK5nW0AfhetRuE5jQFyPwvUobGZAj8L1KFyvYkApXI\\u002fC9dBgQGZmZmZmhmlAH4XrUbimbEBmZmZmZqZcQGZmZmZmZlxAKVyPwvWYXUDsUbgehStQQOxRuB6Fa1ZArkfhehTuU0CamZmZmblVQJqZmZmZ6VhAj8L1KFyvYkBSuB6F62FbQBSuR+F6rGJAcT0K16NwcUAUrkfheiRvQIXrUbge0XBAexSuR+GKYECuR+F6FO5TQHsUrkfhqmdAUrgehevpaEAAAAAAACGRQMP1KFyPW5dAKVyPwvXoSECPwvUoXA9SQGZmZmZmplxA4XoUrkcxUEDNzMzMzCxVQIXrUbge5V1AmpmZmZkxYEB7FK5H4SpXQArXo3A9ylhAZmZmZmamXEAfhetRuC5gQAAAAAAAEGJAH4XrUbguYECkcD0K1+NYQIXrUbge5V1AuB6F61FwYUC4HoXrUQBiQI\\u002fC9Shcr2JA9ihcj8KNZEDhehSuR2lmQPYoXI\\u002fCjWRAexSuR+GqZ0ApXI\\u002fC9ShqQOxRuB6F62NAzczMzMzMZUDsUbgehQtnQOF6FK5HaWZA7FG4HoULZ0DXo3A9CudoQB+F61G4pmxAFK5H4Xokb0Bcj8L1KGxmQPYoXI\\u002fCjWRA9ihcj8KNZECF61G4HoVuQPYoXI\\u002fCMXBAKVyPwvUgcUAUrkfheiRvQOF6FK5HaWZA7FG4HoXrY0CamZmZmSFvQPYoXI\\u002fCBWxAAAAAAAC8dkBmZmZmZu5zQJqZmZmZ3XRAzczMzMzMdUA9CtejcMVqQPYoXI\\u002fCBWxAKVyPwvUoekDsUbgehSd6QBSuR+F6yHpAj8L1KFwHfEBxPQrXo+h4QHE9Ctej6HhAcT0K16PoeEC4HoXrUeR9QM3MzMzMLFVAuB6F61EoWkBI4XoUrmdbQIXrUbge5V1AFK5H4XqsYkBmZmZmZqZcQClcj8L10GBAZmZmZmbuY0CF61G4Hi1lQI\\u002fC9Shcr2JAUrgehevpaECkcD0K10tjQB+F61G4pmxASOF6FK5na0DNzMzMzCxVQHsUrkfhqldASOF6FK5nW0CamZmZmTFgQFyPwvUofFpAuB6F61FwYUAAAAAAACBgQI\\u002fC9Shcr2JAZmZmZmY2XUCuR+F6FM5eQIXrUbgeDWJAw\\u002fUoXI8yXkDD9Shcj4JiQK5H4XoUxmVAw\\u002fUoXI9KaECF61G4Hi1lQB+F61G4pmxAmpmZmZkhb0CamZmZmSFvQHsUrkfhom1AKVyPwvWAb0DNzMzMzMx1QD0K16Nw5W1ArkfhehTqeECkcD0K11+CQHE9Ctej9oxAcT0K16PIikBI4XoUrlmQQEjhehSumYhAFK5H4XrIekApXI\\u002fC9Sh6QOxRuB6FW4dAexSuR+EadkDhehSuR3VzQD0K16Nw2YlApHA9CtfHikAfhetRuCSPQD0K16NwdX5ArkfhehTqeECkcD0K12d7QKRwPQrXg4JAw\\u002fUoXI+BkEBcj8L1KMSPQHE9CtejJH9AXI\\u002fC9SgQgkD2KFyPwjGAQGZmZmZmEoRASOF6FK63i0B7FK5H4aaMQPYoXI\\u002fCh5JAAAAAAAAkj0BSuB6F6xuGQClcj8L1IIFArkfhehR4ikApXI\\u002fC9eeRQOF6FK5Hr5JAzczMzMzMdUB7FK5H4cyFQD0K16NwB4xAexSuR+FIkUCkcD0K1yKYQHsUrkfhiJlAexSuR+GugkB7FK5H4cyFQIXrUbge9YxAcT0K16NwcUCamZmZmU1zQFyPwvUozIVAmpmZmZmZiUDXo3A9CudoQOxRuB6F62NAmpmZmZkFlUD2KFyPwmVWQGZmZmZmplxAH4XrUbheYkCPwvUoXK9iQOF6FK5HaWZASOF6FK5na0Bcj8L1KGxmQClcj8L1KGpA9ihcj8IxcEAfhetRuKZsQK5H4XoU6nhAcT0K16Mkf0AAAAAAAHBRQKRwPQrXY09ASOF6FK5nW0CamZmZmelYQHE9CtejMGFAhetRuB7lXUBmZmZmZu5jQB+F61G4TmNAPQrXo3BtYUAfhetRuE5jQOxRuB6Fa1ZAXI\\u002fC9SjsVUCPwvUoXG9SQGZmZmZmJlZArkfhehTuU0DsUbgehWtWQNejcD0K51RArkfhehTuU0CamZmZmelYQLgehetRWFZApHA9CtcjT0AAAAAAAHBRQGZmZmbmTblA7FG4HoWvckCuR+F6FK5yQBSuR+F6HHZAMzMzMzMjf0AAAAAAABBiQGZmZmZm7mNAXI\\u002fC9ShsZkDsUbgehetjQArXo3A9KmVA16NwPQrnaEA9CtejcOVtQBSuR+F6JG9AmpmZmZkxYECPwvUoXK9iQIXrUbge5V1AmpmZmZkhb0CuR+F6FK5yQAAAAAAAqGdAKVyPwvXsc0CkcD0K1+NYQI\\u002fC9Shc311A9ihcj8JlVkCuR+F6FCZqQM3MzMzMJG9AMzMzMzNvcUDNzMzMzPxsQOF6FK5H0XBAMzMzMzOrZ0AUrkfheiRvQKRwPQrX421AUrgeheuNdEDsUbgeha9yQHsUrkfhIm9ApHA9CtdvcUCamZmZme1zQHsUrkfhCndASOF6FK7PcECuR+F6FGZrQGZmZmZm7nNAcT0K16NwcUCuR+F6FOp4QLgehetRbHZA16NwPQrnaEDXo3A9Csd6QDMzMzMzb3FApHA9Ctdne0DD9Shcjw5yQBSuR+F6jHRA4XoUrkevkkDXo3A9CqmQQGZmZmZmh5JArkfhehTAkUBxPQrXo9iJQClcj8L1IIFAmpmZmZmvgkBcj8L1KOqIQHE9Ctej2IlA7FG4HoUnekBmZmZmZsCBQPYoXI\\u002fCC4dArkfhehTuU0ApXI\\u002fC9WhTQOxRuB6Fa1ZArkfhehTuU0D2KFyPwmVWQB+F61G4Hl9ArkfhehSuckCF61G4HqVXQLgehetRaFtAmpmZmZnpWECPwvUoXN9dQBSuR+F6JF9AzczMzMwsVUDD9ShcjyJaQM3MzMzMLFVAmpmZmZnpWEC4HoXrUShaQK5H4XoUHl9ACtejcD3qaEA9CtejcG1hQKRwPQrX41hA9ihcj8LNYEAUrkfheiRfQBSuR+F6rGJAH4XrUbhOY0AAAAAAABBiQPYoXI\\u002fCjWRAFK5H4XqsYkCPwvUoXK9SQB+F61G4LmBAKVyPwvXIZEDsUbgehetjQOxRuB6FC2dAuB6F61FwYUCkcD0K10tjQIXrUbge5V1ApHA9CtejbECuR+F6FCZqQK5H4XoUzmBASOF6FK5na0DXo3A9CudoQM3MzMzMJG9A16NwPQrnaEAK16NwPSplQNejcD0K52hAzczMzMxka0DhehSuR2lmQJqZmZmZIW9APQrXo3BtVEAUrkfhemxmQEjhehSur2JAmpmZmZkhb0DsUbgehetuQIXrUbge0XBAw\\u002fUoXI9KeECuR+F6FK5yQB+F61G4wn9AuB6F61EogEDhehSuR6uHQFyPwvUozIVASOF6FK6DfkB7FK5H4a6CQM3MzMzMRH1AhetRuB5fgkC4HoXrUWyGQClcj8L1IIFA7FG4HoWvckAUrkfheox0QClcj8L1IIFAZmZmZmZGbUDsUbgeha9yQDMzMzMzS2dAhetRuB5Fa0AfhetRuKZsQK5H4XoURm1Aj8L1KFzLdUB7FK5H4cJtQLgehetRMHBAmpmZmZlNc0DXo3A9Csd6QGZmZmZmJJ9AcT0K16MgkUDXo3A9CqmQQIXrUbge5V1AmpmZmZkxYECkcD0K1+NXQIXrUbge5V1AhetRuB7lXUAfhetRuN5eQJqZmZmZMWBAPQrXo3BtYUCPwvUoXK9SQPYoXI\\u002fC5VRAuB6F61EIW0CamZmZmelYQD0K16NwbWFAFK5H4XqsYkDXo3A9CudcQHE9CtejKGFAZmZmZmbGYEDsUbgehetjQOF6FK5HaWZAUrgehethW0BxPQrXo6BcQOxRuB6Fa1ZAj8L1KFyvUkC4HoXrUShaQGZmZmZmplxAAAAAAABwUUBSuB6F62FbQOF6FK5HMVBAexSuR+EqV0CPwvUoXK9SQAAAAAAAwE5AKVyPwvUoUkDNzMzMzOxUQEjhehSur7JAMzMzMzNvcUCuR+F6FOp4QPYoXI\\u002fCMXBAH4XrUbimbECuR+F6FK5yQArXo3A9IIFAw\\u002fUoXI9KeED2KFyPwjFwQAAAAAAAEHJAPQrXo3BtYUD2KFyPwo1kQB+F61G4Hl9AmpmZmZnpWEAUrkfheiRfQIXrUbge5V1AXI\\u002fC9ShsZkCF61G4Hi1lQFK4HoXr6WhApHA9CtfjaEBI4XoUrmdbQIXrUbge5V1AuB6F61FwYUCamZmZmTFgQLgehetRcGFAzczMzMy8XUCF61G4Hs1hQK5H4XoUXl5AFK5H4XqsYkBcj8L1KGxmQOF6FK5HaWZAUrgehevpaEBSuB6F6+loQI\\u002fC9ShcR2xAH4XrUbimbEA9CtejcG1hQB+F61G4LmBAzczMzMwsYkAfhetRuE5jQGZmZmZmtmNAhetRuB7lXUCF61G4Hi1lQIXrUbgeLWVA7FG4HoULZ0DXo3A9CudoQI\\u002fC9ShcP2ZAZmZmZmbmaEC4HoXrUXBhQEjhehSuz3BAFK5H4Xokb0CF61G4HtFwQKRwPQrXb3FAj8L1KFyvYkApXI\\u002fC9dhuQFK4HoXrjXRA7FG4HoWvckBSuB6F6410QIXrUbge0XBAUrgehevpaEBmZmZmZu5jQOF6FK5HaWZA4XoUrkeJaUCamZmZmalZQKRwPQrX41hAhetRuB4tZUAfhetRuN5dQLgehetRcGFAzczMzMz8YUB7FK5H4YpkQFK4HoXr6WhAuB6F61FOg0A=\"},\"type\":\"scatter\"},{\"mode\":\"markers\",\"name\":\"ram_capacity\",\"visible\":false,\"x\":{\"dtype\":\"i1\",\"bdata\":\"BAQEBAQEBAQEBgYEBAQEBgYGBgYGBgYGBgYGBgYGBgYGBgYGCAgICAMDAwQEBAgMEBIQEggECAIECAwEBAMGBAQGCAYIDAwGCAwGCAwGCAwIDAwEBAYGBggIBAwICAwICAgICAgIBAgICAQEBAQEBAYIBAYEAwgGCAQGCAYICAgIBAYCAgMICAgIEAgICAwICAwICAwICAwICAgIBAYEBggGBAYMCAgGBAgBAgIBAQECAwMCBAIDAggEBAMIDBAMBAYECAYIAwMEBgMGBggICAgMCAgIDAYCBAQDBAQIBggIBgQEBAQGBAQEBAQGBAQGCAYGBgYICAYGCAgIBgQIAgQDBAQGBgwGBgYGCAgMCAYICAwIDAgICAwMCAwICAwQDAgIDAgICAgICAwIBAgMCAgICAgGCAgGBggGBAYEBAQICAMDBAQDBAQEAwYGBAQGBAYGBggDBAYGAwYGBAQGCAgICAwICAYICAYICAgICAgICAgIDAgMCAgMBggICAYICBAMCAgGCAwICAgMDAgICAgQEAgIDAgICAgMBgMEAgMEBgwGCAgICAgGBAYEBgQGBgYIBAYIBAYIBgYGCAgGBggECAYGBAgIBggGCAgGBgYGCAQIBAgEBgYIBggEBgYIBggGCAgEBAYEBgICAgQCAwQDAgMCBAMEBAMEBAQGAwgICAwICAgIBggICAgIBAYIBAYGBAQGCAQEBAIEAwQEBgQGDAgIBAQGBggIAQMEAgMEBAMDBAQEBAIEBgQEBgQEBggGBgYGBggGCAYGCAYGCAYEBAYICAYIBgQICAgICAYGBggEBAQEBAQGBAYEBgYIBgQEBAYEBgQEBAQGBAYGCAYIBggGCAYGBgwMCAwICAgICAgICAwICAgIDAwICAgICAwMCAgICAgMBggIDAwMDAgMBAYICAgEDAMEBgYICAgGCAgIDAECBAQGCAgIBgQEBAMEBAYDBAQEAgMCCAgIDAQGCAQGCAYIBAYECAgICAQGBgQICAgICAgICAgIDAgMCAgMCAwICAwIDAgIDAwMDAwIDAwMCAgMAgIDAgMECAMDAwMEAwMDAwMEBAQEBAMEBAQGCAEECAgIBAgECAQDBAgDCAgICAYIAgQECAYIDAYIDAwICAgICAwMCAgIBggIBggGCAYICAgMDAwGBgQGCAQGBAMEBgYEBAQGBAYGBAQEBAYEAgYCBAQCAgMICAgIBggICAgIBAYEBAQGBgYGBgYGCAQGBAYGBAYGBgYICAQEBgYIBgYGCAYEBgQICAgIBgYGCAwGCAYGBgQEBgQEBAYGCA==\"},\"y\":{\"dtype\":\"f8\",\"bdata\":\"w\\u002fUoXI9KeEAK16NwPUZ9QNejcD0KHZFA9ihcj8IxgEAfhetRuHCBQD0K16NwLYVAmpmZmZmJeUB7FK5H4aZ8QB+F61G4cIFASOF6FK6rkkApXI\\u002fC9ciVQM3MzMzMnoNArkfhehS8hkB7FK5H4aaMQLgehetRNoRASOF6FK6rkkB7FK5H4QeXQLgehetROpRAuB6F61E6lEDsUbgehQOcQClcj8L1yJVAAAAAAACOhEDhehSuR6uHQKRwPQrX5Y1AXI\\u002fC9SjMhUDsUbgehVuHQM3MzMzMeIpASOF6FK5ZkEDhehSuR6+SQD0K16Nw8JpAUrgehes9lEBSuB6F6z2UQK5H4XoUf5xAw\\u002fUoXI\\u002fMlUB7FK5H4XSaQHE9Ctej2IlArkfhehR4ikDNzMzMzGWUQFyPwvUoRJZAmpmZmZlXl0DNzMzMzICAQK5H4XoUrnJACtejcD3aeEBcj8L1KFh7QDMzMzMzI39AuB6F61FshkCuR+F6FOp4QLgehetRbIZArkfhehS8hkA9CtejcAeMQFK4HoXr0JBAw\\u002fUoXI+qh0D2KFyPwu2DQPYoXI\\u002fCZVZAFK5H4XqsYkCPwvUoXK9iQI\\u002fC9Shcr2JAj8L1KFyvYkB7FK5H4aZ8QKRwPQrX41hAuB6F61HYTkAAAAAAAHBRQI\\u002fC9Shcr1JA7FG4HoXrY0BmZmZmZu5jQHE9CtejEGlAFK5H4XpsdkBSuB6F6410QB+F61G4NnlAMzMzMzPpgEC4HoXrUdKIQOxRuB6Fr3JA7FG4HoWJgECamZmZmYmJQI\\u002fC9Shcy3VAFK5H4XrQgEBSuB6F6xuGQBSuR+F6jHRAmpmZmZkhb0BxPQrXo+h4QJqZmZmZTXNACtejcD0ggUCPwvUoXJWNQJqZmZmZ6VhAuB6F61FwYUC4HoXrUXBhQIXrUbgeLWVAFK5H4XqsYkCF61G4Hi1lQHE9CtejcHFASOF6FK5HW0BI4XoULr2gQFyPwvUozIVAAAAAAAAkj0Bcj8L1qK+iQAAAAAAAUZpAPQrXo3BhmUCuR+F6FK5yQD0K16Nw5W1AzczMzMxka0CuR+F6FK5yQNejcD0K52hAzczMzMxka0CkcD0K16NsQHE9Ctej2IlAj8L1KFz\\u002fgkBxPQrXo\\u002fBQQK5H4XoU7lNAPQrXo3AtVEAUrkfheiRYQJqZmZmZ6VhAMzMzMzMzVkC4HoXrUQhbQB+F61G4vl5AXI\\u002fC9ShsZkBSuB6F6+loQOxRuB6Fa1ZAmpmZmZnpWECamZmZmTFgQDMzMzMz419AZmZmZmbuY0BmZmZmZiZdQJqZmZmZMWBAhetRuB4tZUBmZmZmZu5jQPYoXI\\u002fCDWVAexSuR+GqZ0CPwvUoXK9iQFK4HoXr6WhAmpmZmZnpWECF61G4Hi1lQM3MzMzMPFJAAAAAAABwUUA9CtejcK1UQFyPwvUobGZAw\\u002fUoXI9KaEBI4XoUrgt3QM3MzMzMZGtACtejcD0+hECamZmZma+CQIXrUbgeX4JAmpmZmZkhb0B7FK5H4Wp2QHE9Ctej6HhAj8L1KFzLdUBxPQrXo+h4QHsUrkfhroJAmpmZmZlNc0DNzMzMzMR1QLgehetR5H1AAAAAAAAQckA9CtejcAV1QKRwPQrXo2xA7FG4HoWvckAUrkfheox0QJqZmZmZIW9AzczMzMwMYkBmZmZmZu5jQB+F61G4TmNACtejcD0aZUAzMzMzMwtnQB+F61G4TmNAhetRuB5tYUAUrkfheiRrQHE9CtejcHFArkfhehQmbUBcj8L1KGxmQBSuR+F6JG9Aj8L1KFyvYkDXo3A9CudoQM3MzMzM7ENAexSuR+HaR0CamZmZmdlNQHsUrkfhWktA7FG4HoUrUECamZmZmdlNQArXo3A9alFAmpmZmZlZTUBxPQrXo7BQQDMzMzMz00xAj8L1KFzfXUAK16NwPSpHQI\\u002fC9Shcr1JA7FG4HoVrRkDhehSuR2lmQEjhehSuZ1tA7FG4HoVrVkAAAAAAAHBRQEjhehSuZ1tAmpmZmZl2k0CamZmZma+CQM3MzMzMRH1AZmZmZmZmS0CF61G4HuVNQAAAAAAAcFFAPQrXo3DpiEApXI\\u002fC9SCBQClcj8L1IIFA4XoUrkfhQ0DD9Shcj2JDQAAAAAAAcFFAKVyPwvVoU0CF61G4HuVNQHsUrkfhqmdAH4XrUbimbEAUrkfheiRvQK5H4XoU6nhAzczMzMzMdUApXI\\u002fC9SCBQJqZmZmZr4JAzczMzMzMdUDXo3A9Csd6QHsUrkfhroJAXI\\u002fC9SgQgkAUrkfhegRsQLgehetRKFpACtejcD16VkDsUbgehWtWQLgehetR6FNAw\\u002fUoXI8SVkCuR+F6FO5TQClcj8L17HNAw\\u002fUoXI\\u002fibUCPwvUoXMt1QHsUrkfhroJA16NwPQrnaEBmZmZmZu5jQHsUrkfhqldAUrgehevpaECamZmZmelYQIXrUbge5V1AuB6F61EoWkAAAAAAABBiQEjhehSuZ1tAmpmZmZkxYECF61G4HuVdQJqZmZmZMWBAhetRuB4tZUBI4XoUrmdrQGZmZmZm7mNA9ihcj8KNZECPwvUoXK9iQIXrUbgeLWVA16NwPQrnaEBmZmZmZu5jQPYoXI\\u002fCMXBA4XoUrkeJaUB7FK5H4apnQNejcD0K52hAw\\u002fUoXI\\u002fibUDsUbgehSd6QK5H4XoU6nhAw\\u002fUoXI9KaEBxPQrXo6BcQDMzMzMzI39ASOF6FK4nSkDsUbgehWtWQHsUrkfhqldAuB6F61EoWkCF61G4HuVdQClcj8L10GBAXI\\u002fC9SjAcUAK16NwPUZ9QOF6FK5HaWZA7FG4HoUnekDNzMzMzMx1QHE9Ctej6HhAMzMzMzMjf0DhehSuR6lwQLgehetRbHZAFK5H4XqYcUCamZmZmSFvQHE9Ctej6HhAj8L1KFwHfEBxPQrXo\\u002f6CQM3MzMzMRH1Aj8L1KFz\\u002fgkAzMzMzMyN\\u002fQM3MzMzMzHVAj8L1KFz\\u002fgkCuR+F6FGaEQOxRuB6FW4dAUrgeheuNdEBI4XoUrgt3QNejcD0KC3ZAj8L1KFwHfEBcj8L1KMR\\u002fQB+F61G4cIFAKVyPwvUggUB7FK5H4cyFQK5H4XoU6nhAexSuR+HMhUBxPQrXo3BxQGZmZmZmLoRAFK5H4XrIekCPwvUoXAd8QM3MzMzMzHVAw\\u002fUoXI8OckC4HoXrUeR9QKRwPQrXo2xAj8L1KFyvYkAfhetRuKZsQJqZmZmZHXVAAAAAAAAQckBxPQrXo3BxQK5H4XoUrnJA7FG4HoWvckDNzMzMzMx1QB+F61G45mhAZmZmZmZma0AUrkfheiRvQEjhehSuZ2tAexSuR+GqZ0BSuB6F6+loQMP1KFyP4m9ACtejcD0qZUCuR+F6FCZqQArXo3A9KmVAAAAAAACoZ0BSuB6F6+loQBSuR+F6JG9ArkfhehQmakCkcD0K1+NYQJqZmZmZ6VhAcT0K16OgXECF61G4HuVdQOxRuB6Fa1ZA7FG4HoVrVkBI4XoUrmdbQBSuR+F6JF9AexSuR+GqV0AfhetRuB5fQD0K16NwbWFAhetRuB5lXkCPwvUoXN9dQI\\u002fC9Shcr2JAKVyPwvXQYEAAAAAAAFBiQOF6FK5HaWZA4XoUrkdpZkCamZmZmTFgQI\\u002fC9Shc311A16NwPQpnYUAAAAAAAKhnQD0K16NwbWFA7FG4HoXrY0CkcD0K10tjQHsUrkfhimRAH4XrUbhOY0CuR+F6FO5jQM3MzMzMZGtAXI\\u002fC9ShsZkB7FK5H4apnQFyPwvUobGZApHA9CtejbEDD9Shcj+JtQJqZmZmZTXNAAAAAAACoZ0AUrkfheqxiQMP1KFyPamZA16NwPQrnaEB7FK5H4epjQClcj8L1KGpAKVyPwvUscECF61G4HiFwQAAAAAAASGtAw\\u002fUoXI86cUDXo3A9CudoQDMzMzMzb3FAzczMzMy6jEAfhetRuAaMQAAAAAAAJI9Aj8L1KFyVjUBSuB6F6xuGQB+F61G4wn9APQrXo3DpiEBcj8L1KMyFQAAAAAAASohArkfhehTOYEAK16NwPSplQIXrUbgeLWVArkfhehSuckAK16NwPSplQNejcD0K52hAUrgeheuNdEDXo3A9Csd6QIXrUbgeX4JArkfhehSuckB7FK5H4Rp4QKRwPQrXo2xAZmZmZmZucECamZmZmeV2QFK4HoXrBXxAFK5H4XqMdEDXo3A9Csd6QHsUrkfhpnxAexSuR+GmfEBI4XoUrs9wQK5H4XoUrnJAUrgehevpaEC4HoXrUcBxQK5H4XoU6nhAexSuR+GmfECkcD0K16NsQClcj8L1MHBAmpmZmZntc0Bcj8L1KGxmQGZmZmZmRnJAmpmZmZkFlUCuR+F6FK5yQKRwPQrXo2xA9ihcj8IhcEDhehSuRzFQQI\\u002fC9Shcr1JA4XoUrkcxUECPwvUoXC9SQK5H4XoU7lNAUrgeheuNdEDsUbgeha9yQPYoXI\\u002fCMXBAcT0K16NwcUCuR+F6FOp4QI\\u002fC9Shcy3VAFK5H4XrIekDsUbgeha9yQFK4HoXrIVtAMzMzMzPjX0BmZmZmZqZcQGZmZmZm7mNASOF6FK5vYkBmZmZmZqZcQClcj8L10GBAhetRuB7lXUCamZmZmTFgQLgehetRcGFAmpmZmZkxYECPwvUoXK9iQGZmZmZm7mNASOF6FK7nWkAAAAAAABBiQNejcD0K52hAKVyPwvXQYEDD9Shcj3poQBSuR+F6rGJAmpmZmZkhb0DD9Shcjw5yQI\\u002fC9Shcr2JA9ihcj8KNZEBcj8L1KGxmQI\\u002fC9Shcr2JArkfhehSuckApXI\\u002fC9ShqQFK4HoXr6WhAuB6F61FwYUCF61G4Hi1lQAAAAAAAEGJAexSuR+GqZ0BSuB6F6+loQBSuR+F6JG9AcT0K16NwcUCamZmZmTFgQAAAAAAAEHJAFK5H4Xokb0BmZmZmZi5gQIXrUbgeDWJASOF6FK5na0BmZmZmZu5jQFyPwvUobGZA9ihcj8KNZEDsUbgehQtnQBSuR+F6JF9AuB6F61FwYUBcj8L1KGxmQM3MzMzMzGVAj8L1KFyvYkBmZmZmZu5jQLgehetRcGFAH4XrUbhOY0B7FK5H4apnQGZmZmZmpmxAexSuR+GqZ0ApXI\\u002fC9ShqQFK4HoXrIXBAhetRuB6lbEDsUbgehYNuQBSuR+F6JF9AuB6F61FwYUCPwvUoXK9iQBSuR+F6pGJAhetRuB4tZUDsUbgehWtWQOxRuB6FK1BA4XoUrkcxUEAfhetRuE5TQAAAAAAAcFFAAAAAAABwUUDsUbgehWtWQI\\u002fC9Shcb0FASOF6FK5nSkCkcD0K12NPQD0K16NwzVFA9ihcj8JlVkA9CtejcK1UQOxRuB6Fa1ZAexSuR+GqV0DNzMzMzExWQJqZmZmZ6VhAuB6F61F4XUBcj8L1KNxfQLgehetRcGFArkfhehTuU0AzMzMzMw9yQFyPwvUoiHlACtejcD0ef0AK16NwPUZ9QArXo3A9TnNAFK5H4XqMdEBxPQrXo3BxQJqZmZmZ7XNAFK5H4Xokb0A9CtejcIFwQLgehetRwHFA7FG4HoWvckDNzMzMzMx1QGZmZmZm7nNAuB6F61EoWkCF61G4Hi1lQFK4HoXr6WhASOF6FK5nW0AfhetRuE5jQFyPwvUobGZAj8L1KFyvYkApXI\\u002fC9dBgQGZmZmZmhmlAH4XrUbimbEBmZmZmZqZcQGZmZmZmZlxAKVyPwvWYXUDsUbgehStQQOxRuB6Fa1ZArkfhehTuU0CamZmZmblVQJqZmZmZ6VhAj8L1KFyvYkBSuB6F62FbQBSuR+F6rGJAcT0K16NwcUAUrkfheiRvQIXrUbge0XBAexSuR+GKYECuR+F6FO5TQHsUrkfhqmdAUrgehevpaEAAAAAAACGRQMP1KFyPW5dAKVyPwvXoSECPwvUoXA9SQGZmZmZmplxA4XoUrkcxUEDNzMzMzCxVQIXrUbge5V1AmpmZmZkxYEB7FK5H4SpXQArXo3A9ylhAZmZmZmamXEAfhetRuC5gQAAAAAAAEGJAH4XrUbguYECkcD0K1+NYQIXrUbge5V1AuB6F61FwYUC4HoXrUQBiQI\\u002fC9Shcr2JA9ihcj8KNZEDhehSuR2lmQPYoXI\\u002fCjWRAexSuR+GqZ0ApXI\\u002fC9ShqQOxRuB6F62NAzczMzMzMZUDsUbgehQtnQOF6FK5HaWZA7FG4HoULZ0DXo3A9CudoQB+F61G4pmxAFK5H4Xokb0Bcj8L1KGxmQPYoXI\\u002fCjWRA9ihcj8KNZECF61G4HoVuQPYoXI\\u002fCMXBAKVyPwvUgcUAUrkfheiRvQOF6FK5HaWZA7FG4HoXrY0CamZmZmSFvQPYoXI\\u002fCBWxAAAAAAAC8dkBmZmZmZu5zQJqZmZmZ3XRAzczMzMzMdUA9CtejcMVqQPYoXI\\u002fCBWxAKVyPwvUoekDsUbgehSd6QBSuR+F6yHpAj8L1KFwHfEBxPQrXo+h4QHE9Ctej6HhAcT0K16PoeEC4HoXrUeR9QM3MzMzMLFVAuB6F61EoWkBI4XoUrmdbQIXrUbge5V1AFK5H4XqsYkBmZmZmZqZcQClcj8L10GBAZmZmZmbuY0CF61G4Hi1lQI\\u002fC9Shcr2JAUrgehevpaECkcD0K10tjQB+F61G4pmxASOF6FK5na0DNzMzMzCxVQHsUrkfhqldASOF6FK5nW0CamZmZmTFgQFyPwvUofFpAuB6F61FwYUAAAAAAACBgQI\\u002fC9Shcr2JAZmZmZmY2XUCuR+F6FM5eQIXrUbgeDWJAw\\u002fUoXI8yXkDD9Shcj4JiQK5H4XoUxmVAw\\u002fUoXI9KaECF61G4Hi1lQB+F61G4pmxAmpmZmZkhb0CamZmZmSFvQHsUrkfhom1AKVyPwvWAb0DNzMzMzMx1QD0K16Nw5W1ArkfhehTqeECkcD0K11+CQHE9Ctej9oxAcT0K16PIikBI4XoUrlmQQEjhehSumYhAFK5H4XrIekApXI\\u002fC9Sh6QOxRuB6FW4dAexSuR+EadkDhehSuR3VzQD0K16Nw2YlApHA9CtfHikAfhetRuCSPQD0K16NwdX5ArkfhehTqeECkcD0K12d7QKRwPQrXg4JAw\\u002fUoXI+BkEBcj8L1KMSPQHE9CtejJH9AXI\\u002fC9SgQgkD2KFyPwjGAQGZmZmZmEoRASOF6FK63i0B7FK5H4aaMQPYoXI\\u002fCh5JAAAAAAAAkj0BSuB6F6xuGQClcj8L1IIFArkfhehR4ikApXI\\u002fC9eeRQOF6FK5Hr5JAzczMzMzMdUB7FK5H4cyFQD0K16NwB4xAexSuR+FIkUCkcD0K1yKYQHsUrkfhiJlAexSuR+GugkB7FK5H4cyFQIXrUbge9YxAcT0K16NwcUCamZmZmU1zQFyPwvUozIVAmpmZmZmZiUDXo3A9CudoQOxRuB6F62NAmpmZmZkFlUD2KFyPwmVWQGZmZmZmplxAH4XrUbheYkCPwvUoXK9iQOF6FK5HaWZASOF6FK5na0Bcj8L1KGxmQClcj8L1KGpA9ihcj8IxcEAfhetRuKZsQK5H4XoU6nhAcT0K16Mkf0AAAAAAAHBRQKRwPQrXY09ASOF6FK5nW0CamZmZmelYQHE9CtejMGFAhetRuB7lXUBmZmZmZu5jQB+F61G4TmNAPQrXo3BtYUAfhetRuE5jQOxRuB6Fa1ZAXI\\u002fC9SjsVUCPwvUoXG9SQGZmZmZmJlZArkfhehTuU0DsUbgehWtWQNejcD0K51RArkfhehTuU0CamZmZmelYQLgehetRWFZApHA9CtcjT0AAAAAAAHBRQGZmZmbmTblA7FG4HoWvckCuR+F6FK5yQBSuR+F6HHZAMzMzMzMjf0AAAAAAABBiQGZmZmZm7mNAXI\\u002fC9ShsZkDsUbgehetjQArXo3A9KmVA16NwPQrnaEA9CtejcOVtQBSuR+F6JG9AmpmZmZkxYECPwvUoXK9iQIXrUbge5V1AmpmZmZkhb0CuR+F6FK5yQAAAAAAAqGdAKVyPwvXsc0CkcD0K1+NYQI\\u002fC9Shc311A9ihcj8JlVkCuR+F6FCZqQM3MzMzMJG9AMzMzMzNvcUDNzMzMzPxsQOF6FK5H0XBAMzMzMzOrZ0AUrkfheiRvQKRwPQrX421AUrgeheuNdEDsUbgeha9yQHsUrkfhIm9ApHA9CtdvcUCamZmZme1zQHsUrkfhCndASOF6FK7PcECuR+F6FGZrQGZmZmZm7nNAcT0K16NwcUCuR+F6FOp4QLgehetRbHZA16NwPQrnaEDXo3A9Csd6QDMzMzMzb3FApHA9Ctdne0DD9Shcjw5yQBSuR+F6jHRA4XoUrkevkkDXo3A9CqmQQGZmZmZmh5JArkfhehTAkUBxPQrXo9iJQClcj8L1IIFAmpmZmZmvgkBcj8L1KOqIQHE9Ctej2IlA7FG4HoUnekBmZmZmZsCBQPYoXI\\u002fCC4dArkfhehTuU0ApXI\\u002fC9WhTQOxRuB6Fa1ZArkfhehTuU0D2KFyPwmVWQB+F61G4Hl9ArkfhehSuckCF61G4HqVXQLgehetRaFtAmpmZmZnpWECPwvUoXN9dQBSuR+F6JF9AzczMzMwsVUDD9ShcjyJaQM3MzMzMLFVAmpmZmZnpWEC4HoXrUShaQK5H4XoUHl9ACtejcD3qaEA9CtejcG1hQKRwPQrX41hA9ihcj8LNYEAUrkfheiRfQBSuR+F6rGJAH4XrUbhOY0AAAAAAABBiQPYoXI\\u002fCjWRAFK5H4XqsYkCPwvUoXK9SQB+F61G4LmBAKVyPwvXIZEDsUbgehetjQOxRuB6FC2dAuB6F61FwYUCkcD0K10tjQIXrUbge5V1ApHA9CtejbECuR+F6FCZqQK5H4XoUzmBASOF6FK5na0DXo3A9CudoQM3MzMzMJG9A16NwPQrnaEAK16NwPSplQNejcD0K52hAzczMzMxka0DhehSuR2lmQJqZmZmZIW9APQrXo3BtVEAUrkfhemxmQEjhehSur2JAmpmZmZkhb0DsUbgehetuQIXrUbge0XBAw\\u002fUoXI9KeECuR+F6FK5yQB+F61G4wn9AuB6F61EogEDhehSuR6uHQFyPwvUozIVASOF6FK6DfkB7FK5H4a6CQM3MzMzMRH1AhetRuB5fgkC4HoXrUWyGQClcj8L1IIFA7FG4HoWvckAUrkfheox0QClcj8L1IIFAZmZmZmZGbUDsUbgeha9yQDMzMzMzS2dAhetRuB5Fa0AfhetRuKZsQK5H4XoURm1Aj8L1KFzLdUB7FK5H4cJtQLgehetRMHBAmpmZmZlNc0DXo3A9Csd6QGZmZmZmJJ9AcT0K16MgkUDXo3A9CqmQQIXrUbge5V1AmpmZmZkxYECkcD0K1+NXQIXrUbge5V1AhetRuB7lXUAfhetRuN5eQJqZmZmZMWBAPQrXo3BtYUCPwvUoXK9SQPYoXI\\u002fC5VRAuB6F61EIW0CamZmZmelYQD0K16NwbWFAFK5H4XqsYkDXo3A9CudcQHE9CtejKGFAZmZmZmbGYEDsUbgehetjQOF6FK5HaWZAUrgehethW0BxPQrXo6BcQOxRuB6Fa1ZAj8L1KFyvUkC4HoXrUShaQGZmZmZmplxAAAAAAABwUUBSuB6F62FbQOF6FK5HMVBAexSuR+EqV0CPwvUoXK9SQAAAAAAAwE5AKVyPwvUoUkDNzMzMzOxUQEjhehSur7JAMzMzMzNvcUCuR+F6FOp4QPYoXI\\u002fCMXBAH4XrUbimbECuR+F6FK5yQArXo3A9IIFAw\\u002fUoXI9KeED2KFyPwjFwQAAAAAAAEHJAPQrXo3BtYUD2KFyPwo1kQB+F61G4Hl9AmpmZmZnpWEAUrkfheiRfQIXrUbge5V1AXI\\u002fC9ShsZkCF61G4Hi1lQFK4HoXr6WhApHA9CtfjaEBI4XoUrmdbQIXrUbge5V1AuB6F61FwYUCamZmZmTFgQLgehetRcGFAzczMzMy8XUCF61G4Hs1hQK5H4XoUXl5AFK5H4XqsYkBcj8L1KGxmQOF6FK5HaWZAUrgehevpaEBSuB6F6+loQI\\u002fC9ShcR2xAH4XrUbimbEA9CtejcG1hQB+F61G4LmBAzczMzMwsYkAfhetRuE5jQGZmZmZmtmNAhetRuB7lXUCF61G4Hi1lQIXrUbgeLWVA7FG4HoULZ0DXo3A9CudoQI\\u002fC9ShcP2ZAZmZmZmbmaEC4HoXrUXBhQEjhehSuz3BAFK5H4Xokb0CF61G4HtFwQKRwPQrXb3FAj8L1KFyvYkApXI\\u002fC9dhuQFK4HoXrjXRA7FG4HoWvckBSuB6F6410QIXrUbge0XBAUrgehevpaEBmZmZmZu5jQOF6FK5HaWZA4XoUrkeJaUCamZmZmalZQKRwPQrX41hAhetRuB4tZUAfhetRuN5dQLgehetRcGFAzczMzMz8YUB7FK5H4YpkQFK4HoXr6WhAuB6F61FOg0A=\"},\"type\":\"scatter\"},{\"mode\":\"markers\",\"name\":\"internal_memory\",\"visible\":false,\"x\":{\"dtype\":\"i2\",\"bdata\":\"QACAAEAAQACAAAABQACAAAABAAEAAoAAAAEAAoAAgAAABAABgAAABAABgAAAAQACgACAAAABAAKAAAAEAAGAAAAEAAEAAoAAgACAAAABgAAgAEAAQABAAEAAQACAAAABAAEAAgACAAGAAEAAgAAQAEAAgAAAAUAAIAAgAIAAgABAAEAAgACAAIAAgAAAAYAAgACAAIAAgAAAAYAAgAAAAgABAAEAAoAAQACAAIAAgACAAAABQAAAAoAAAAEAAgACAAKAAAABgACAAIAAQACAAAABAAFAACAAQABAAEAAQABAAIAAQACAAEAAQACAAIAAgABAAIAAgABAAAABgACAAIAAQACAAEAAIABAAIAAAAEAAYAAAAEAAQABgAAAAYAAgAAAAQABgAAAAYAAgAAAAYAAgAAAAYAAgACAAIAAgACAAIAAQACAAAABgACAAIAAgACAAAgAIAAgABAAEAAQACAAIABAACAAIAAgACAAQACAAIAAQAAgAIAAAAEAAgABIABAACAAgACAAIAAIAAgAEAAQAAgAIAAgACAAIAAgACAAAABgACAAIAAAAGAAEAAQABAACAAQABAAIAAgACAAIAAgACAAEAAgABAAIAAQABAAEAAQABAAIAAQACAAIAAgACAAIAAgACAAAABgACAAIAAgACAAIAAgABAAIAAEABAACAAQABAAIAAgAAAAYAAgABAAIAAgACAAAABAAGAAIAAgAAAAYAAAAGAAIAAgAAAAQACgAAAAYAAgAAAAQABAAGAAIAAAAGAAIAAgACAAIAAgAAAAYAAQACAAAABgACAAIAAgACAAIAAgAAAAYAAgACAAIAAQACAAEAAQABAAIAAgAAgACAAgABAACAAQABAAEAAQACAAIAAQACAAIAAQACAAIAAgACAAEAAQACAAIAAIACAAIAAQACAAIAAgACAAIAAAAEAAYAAgACAAIAAgACAAIAAgACAAIAAgACAAIAAAAGAAAABAAEAAQABAAEAAQABgACAAIAAgACAAIAAAAEAAQABgACAAIAAgAAAAYAAgAAAAQABAAEAAQABAAEAAQABAAGAAAABAAGAAIAAAAEAAQABgAAgAEAAIAAgAEAAgAAAAYAAgACAAIAAgACAAEAAQABAAEAAgABAAIAAQACAAIAAQACAAIAAQACAAIAAQACAAIAAgAAAAUAAgACAAIAAgACAAIAAQACAAIAAgACAAIAAAAGAAIAAgABAAEAAgACAAIAAgACAAEAAgACAAIAAgACAAEAAgACAAIAAgACAAIAAgAAAAUAAgACAAEAAgAAQACAAIABAABAAIABAACAAIAAgACAAQAAgAEAAQAAgAEAAQACAAIAAIACAAIAAgAAAAYAAgACAAIAAgACAAAABgACAAIAAQACAAIAAQACAAIAAgABAAIAAgABAAEAAgAAgAEAAIABAAIAAgACAAIAAAAGAAIAAQABAAIAAgACAAIAAEAAgAEAAIAAgAEAAgAAgAEAAgABAAIAAQAAgAEAAgABAAIAAgABAAEAAgACAAEAAgACAAIAAgACAAIAAgABAAIAAgACAAIAAgACAAEAAgACAAIAAAAGAAIAAgABAAIAAgAAAAYAAgACAAIAAgACAAEAAQABAAIAAQABAAIAAgACAAIAAgACAAIAAgABAAIAAQACAAEAAgABAAEAAQABAAIAAQACAAIAAgACAAIAAgACAAIAAgACAAIAAgAAAAQABAAEAAQABgACAAIAAgACAAIAAgACAAIAAgAAAAYAAAAGAAIAAAAGAAIAAAAEAAQACgACAAIAAAAEAAQABgACAAIAAAAEAAQAEAAEAAQACgABAAIAAAAGAAEAAAAIgAIAAgACAAIAAgACAAIAAAAEAAQABAAEQACAAQABAAIAAgAAAAYAAgACAAEAAQABAAEAAQACAAEAAQABAAEAAIAAgAEAAgACAAAABAAGAAIAAgACAAIAAgACAAIAAgACAAEAAgACAAIAAAAFAAEAAQACAAIAAAAGAAIAAgACAAIAAgACAAIAAAAGAAAABgACAAAABgAAAAYAAAAEAAQABAAEAAQABAAEAAQACAAEAAoAAAAEAAQABgAAAAQABIAAgACAAIAAgAIAAgAAgAEAAIABAAEAAIABAACAAIABAAEAAgABAAEAAQABAAIAAgABAAIAAgAAQAIAAgACAAIAAgACAAIAAgACAABAAgACAABAAgACAAIAAgACAAIAAIAAgAEAAgACAAIAAAAGAAAABAAEAAQABgACAAIAAgAAAAQABgAAAAQABgACAAIAAgACAAIAAgACAAIAAgACAAAACAAEAAUAAgABAAIAAgABAAIAAgAAgAEAAgACAAEAAgABAAIAAQACAAIAAgABAAEAAQACAAEAAIACAACAAgABAACAAIAAgAAABgACAAAABgACAAIAAgACAAIAAQACAAIAAQACAAIAAgACAAEAAgABAAIAAgABAAIAAQACAAEAAgACAAEAAgACAAIAAAAGAAIAAQACAAIAAQABAAIAAgACAAIAAgABAAAABAAGAAAABgACAAIAAAAEAAYAAgABAAIAAgABAAEAAQABAAEAAgABAAIAAgAA=\"},\"y\":{\"dtype\":\"f8\",\"bdata\":\"w\\u002fUoXI9KeEAK16NwPUZ9QNejcD0KHZFA9ihcj8IxgEAfhetRuHCBQD0K16NwLYVAmpmZmZmJeUB7FK5H4aZ8QB+F61G4cIFASOF6FK6rkkApXI\\u002fC9ciVQM3MzMzMnoNArkfhehS8hkB7FK5H4aaMQLgehetRNoRASOF6FK6rkkB7FK5H4QeXQLgehetROpRAuB6F61E6lEDsUbgehQOcQClcj8L1yJVAAAAAAACOhEDhehSuR6uHQKRwPQrX5Y1AXI\\u002fC9SjMhUDsUbgehVuHQM3MzMzMeIpASOF6FK5ZkEDhehSuR6+SQD0K16Nw8JpAUrgehes9lEBSuB6F6z2UQK5H4XoUf5xAw\\u002fUoXI\\u002fMlUB7FK5H4XSaQHE9Ctej2IlArkfhehR4ikDNzMzMzGWUQFyPwvUoRJZAmpmZmZlXl0DNzMzMzICAQK5H4XoUrnJACtejcD3aeEBcj8L1KFh7QDMzMzMzI39AuB6F61FshkCuR+F6FOp4QLgehetRbIZArkfhehS8hkA9CtejcAeMQFK4HoXr0JBAw\\u002fUoXI+qh0D2KFyPwu2DQPYoXI\\u002fCZVZAFK5H4XqsYkCPwvUoXK9iQI\\u002fC9Shcr2JAj8L1KFyvYkB7FK5H4aZ8QKRwPQrX41hAuB6F61HYTkAAAAAAAHBRQI\\u002fC9Shcr1JA7FG4HoXrY0BmZmZmZu5jQHE9CtejEGlAFK5H4XpsdkBSuB6F6410QB+F61G4NnlAMzMzMzPpgEC4HoXrUdKIQOxRuB6Fr3JA7FG4HoWJgECamZmZmYmJQI\\u002fC9Shcy3VAFK5H4XrQgEBSuB6F6xuGQBSuR+F6jHRAmpmZmZkhb0BxPQrXo+h4QJqZmZmZTXNACtejcD0ggUCPwvUoXJWNQJqZmZmZ6VhAuB6F61FwYUC4HoXrUXBhQIXrUbgeLWVAFK5H4XqsYkCF61G4Hi1lQHE9CtejcHFASOF6FK5HW0BI4XoULr2gQFyPwvUozIVAAAAAAAAkj0Bcj8L1qK+iQAAAAAAAUZpAPQrXo3BhmUCuR+F6FK5yQD0K16Nw5W1AzczMzMxka0CuR+F6FK5yQNejcD0K52hAzczMzMxka0CkcD0K16NsQHE9Ctej2IlAj8L1KFz\\u002fgkBxPQrXo\\u002fBQQK5H4XoU7lNAPQrXo3AtVEAUrkfheiRYQJqZmZmZ6VhAMzMzMzMzVkC4HoXrUQhbQB+F61G4vl5AXI\\u002fC9ShsZkBSuB6F6+loQOxRuB6Fa1ZAmpmZmZnpWECamZmZmTFgQDMzMzMz419AZmZmZmbuY0BmZmZmZiZdQJqZmZmZMWBAhetRuB4tZUBmZmZmZu5jQPYoXI\\u002fCDWVAexSuR+GqZ0CPwvUoXK9iQFK4HoXr6WhAmpmZmZnpWECF61G4Hi1lQM3MzMzMPFJAAAAAAABwUUA9CtejcK1UQFyPwvUobGZAw\\u002fUoXI9KaEBI4XoUrgt3QM3MzMzMZGtACtejcD0+hECamZmZma+CQIXrUbgeX4JAmpmZmZkhb0B7FK5H4Wp2QHE9Ctej6HhAj8L1KFzLdUBxPQrXo+h4QHsUrkfhroJAmpmZmZlNc0DNzMzMzMR1QLgehetR5H1AAAAAAAAQckA9CtejcAV1QKRwPQrXo2xA7FG4HoWvckAUrkfheox0QJqZmZmZIW9AzczMzMwMYkBmZmZmZu5jQB+F61G4TmNACtejcD0aZUAzMzMzMwtnQB+F61G4TmNAhetRuB5tYUAUrkfheiRrQHE9CtejcHFArkfhehQmbUBcj8L1KGxmQBSuR+F6JG9Aj8L1KFyvYkDXo3A9CudoQM3MzMzM7ENAexSuR+HaR0CamZmZmdlNQHsUrkfhWktA7FG4HoUrUECamZmZmdlNQArXo3A9alFAmpmZmZlZTUBxPQrXo7BQQDMzMzMz00xAj8L1KFzfXUAK16NwPSpHQI\\u002fC9Shcr1JA7FG4HoVrRkDhehSuR2lmQEjhehSuZ1tA7FG4HoVrVkAAAAAAAHBRQEjhehSuZ1tAmpmZmZl2k0CamZmZma+CQM3MzMzMRH1AZmZmZmZmS0CF61G4HuVNQAAAAAAAcFFAPQrXo3DpiEApXI\\u002fC9SCBQClcj8L1IIFA4XoUrkfhQ0DD9Shcj2JDQAAAAAAAcFFAKVyPwvVoU0CF61G4HuVNQHsUrkfhqmdAH4XrUbimbEAUrkfheiRvQK5H4XoU6nhAzczMzMzMdUApXI\\u002fC9SCBQJqZmZmZr4JAzczMzMzMdUDXo3A9Csd6QHsUrkfhroJAXI\\u002fC9SgQgkAUrkfhegRsQLgehetRKFpACtejcD16VkDsUbgehWtWQLgehetR6FNAw\\u002fUoXI8SVkCuR+F6FO5TQClcj8L17HNAw\\u002fUoXI\\u002fibUCPwvUoXMt1QHsUrkfhroJA16NwPQrnaEBmZmZmZu5jQHsUrkfhqldAUrgehevpaECamZmZmelYQIXrUbge5V1AuB6F61EoWkAAAAAAABBiQEjhehSuZ1tAmpmZmZkxYECF61G4HuVdQJqZmZmZMWBAhetRuB4tZUBI4XoUrmdrQGZmZmZm7mNA9ihcj8KNZECPwvUoXK9iQIXrUbgeLWVA16NwPQrnaEBmZmZmZu5jQPYoXI\\u002fCMXBA4XoUrkeJaUB7FK5H4apnQNejcD0K52hAw\\u002fUoXI\\u002fibUDsUbgehSd6QK5H4XoU6nhAw\\u002fUoXI9KaEBxPQrXo6BcQDMzMzMzI39ASOF6FK4nSkDsUbgehWtWQHsUrkfhqldAuB6F61EoWkCF61G4HuVdQClcj8L10GBAXI\\u002fC9SjAcUAK16NwPUZ9QOF6FK5HaWZA7FG4HoUnekDNzMzMzMx1QHE9Ctej6HhAMzMzMzMjf0DhehSuR6lwQLgehetRbHZAFK5H4XqYcUCamZmZmSFvQHE9Ctej6HhAj8L1KFwHfEBxPQrXo\\u002f6CQM3MzMzMRH1Aj8L1KFz\\u002fgkAzMzMzMyN\\u002fQM3MzMzMzHVAj8L1KFz\\u002fgkCuR+F6FGaEQOxRuB6FW4dAUrgeheuNdEBI4XoUrgt3QNejcD0KC3ZAj8L1KFwHfEBcj8L1KMR\\u002fQB+F61G4cIFAKVyPwvUggUB7FK5H4cyFQK5H4XoU6nhAexSuR+HMhUBxPQrXo3BxQGZmZmZmLoRAFK5H4XrIekCPwvUoXAd8QM3MzMzMzHVAw\\u002fUoXI8OckC4HoXrUeR9QKRwPQrXo2xAj8L1KFyvYkAfhetRuKZsQJqZmZmZHXVAAAAAAAAQckBxPQrXo3BxQK5H4XoUrnJA7FG4HoWvckDNzMzMzMx1QB+F61G45mhAZmZmZmZma0AUrkfheiRvQEjhehSuZ2tAexSuR+GqZ0BSuB6F6+loQMP1KFyP4m9ACtejcD0qZUCuR+F6FCZqQArXo3A9KmVAAAAAAACoZ0BSuB6F6+loQBSuR+F6JG9ArkfhehQmakCkcD0K1+NYQJqZmZmZ6VhAcT0K16OgXECF61G4HuVdQOxRuB6Fa1ZA7FG4HoVrVkBI4XoUrmdbQBSuR+F6JF9AexSuR+GqV0AfhetRuB5fQD0K16NwbWFAhetRuB5lXkCPwvUoXN9dQI\\u002fC9Shcr2JAKVyPwvXQYEAAAAAAAFBiQOF6FK5HaWZA4XoUrkdpZkCamZmZmTFgQI\\u002fC9Shc311A16NwPQpnYUAAAAAAAKhnQD0K16NwbWFA7FG4HoXrY0CkcD0K10tjQHsUrkfhimRAH4XrUbhOY0CuR+F6FO5jQM3MzMzMZGtAXI\\u002fC9ShsZkB7FK5H4apnQFyPwvUobGZApHA9CtejbEDD9Shcj+JtQJqZmZmZTXNAAAAAAACoZ0AUrkfheqxiQMP1KFyPamZA16NwPQrnaEB7FK5H4epjQClcj8L1KGpAKVyPwvUscECF61G4HiFwQAAAAAAASGtAw\\u002fUoXI86cUDXo3A9CudoQDMzMzMzb3FAzczMzMy6jEAfhetRuAaMQAAAAAAAJI9Aj8L1KFyVjUBSuB6F6xuGQB+F61G4wn9APQrXo3DpiEBcj8L1KMyFQAAAAAAASohArkfhehTOYEAK16NwPSplQIXrUbgeLWVArkfhehSuckAK16NwPSplQNejcD0K52hAUrgeheuNdEDXo3A9Csd6QIXrUbgeX4JArkfhehSuckB7FK5H4Rp4QKRwPQrXo2xAZmZmZmZucECamZmZmeV2QFK4HoXrBXxAFK5H4XqMdEDXo3A9Csd6QHsUrkfhpnxAexSuR+GmfEBI4XoUrs9wQK5H4XoUrnJAUrgehevpaEC4HoXrUcBxQK5H4XoU6nhAexSuR+GmfECkcD0K16NsQClcj8L1MHBAmpmZmZntc0Bcj8L1KGxmQGZmZmZmRnJAmpmZmZkFlUCuR+F6FK5yQKRwPQrXo2xA9ihcj8IhcEDhehSuRzFQQI\\u002fC9Shcr1JA4XoUrkcxUECPwvUoXC9SQK5H4XoU7lNAUrgeheuNdEDsUbgeha9yQPYoXI\\u002fCMXBAcT0K16NwcUCuR+F6FOp4QI\\u002fC9Shcy3VAFK5H4XrIekDsUbgeha9yQFK4HoXrIVtAMzMzMzPjX0BmZmZmZqZcQGZmZmZm7mNASOF6FK5vYkBmZmZmZqZcQClcj8L10GBAhetRuB7lXUCamZmZmTFgQLgehetRcGFAmpmZmZkxYECPwvUoXK9iQGZmZmZm7mNASOF6FK7nWkAAAAAAABBiQNejcD0K52hAKVyPwvXQYEDD9Shcj3poQBSuR+F6rGJAmpmZmZkhb0DD9Shcjw5yQI\\u002fC9Shcr2JA9ihcj8KNZEBcj8L1KGxmQI\\u002fC9Shcr2JArkfhehSuckApXI\\u002fC9ShqQFK4HoXr6WhAuB6F61FwYUCF61G4Hi1lQAAAAAAAEGJAexSuR+GqZ0BSuB6F6+loQBSuR+F6JG9AcT0K16NwcUCamZmZmTFgQAAAAAAAEHJAFK5H4Xokb0BmZmZmZi5gQIXrUbgeDWJASOF6FK5na0BmZmZmZu5jQFyPwvUobGZA9ihcj8KNZEDsUbgehQtnQBSuR+F6JF9AuB6F61FwYUBcj8L1KGxmQM3MzMzMzGVAj8L1KFyvYkBmZmZmZu5jQLgehetRcGFAH4XrUbhOY0B7FK5H4apnQGZmZmZmpmxAexSuR+GqZ0ApXI\\u002fC9ShqQFK4HoXrIXBAhetRuB6lbEDsUbgehYNuQBSuR+F6JF9AuB6F61FwYUCPwvUoXK9iQBSuR+F6pGJAhetRuB4tZUDsUbgehWtWQOxRuB6FK1BA4XoUrkcxUEAfhetRuE5TQAAAAAAAcFFAAAAAAABwUUDsUbgehWtWQI\\u002fC9Shcb0FASOF6FK5nSkCkcD0K12NPQD0K16NwzVFA9ihcj8JlVkA9CtejcK1UQOxRuB6Fa1ZAexSuR+GqV0DNzMzMzExWQJqZmZmZ6VhAuB6F61F4XUBcj8L1KNxfQLgehetRcGFArkfhehTuU0AzMzMzMw9yQFyPwvUoiHlACtejcD0ef0AK16NwPUZ9QArXo3A9TnNAFK5H4XqMdEBxPQrXo3BxQJqZmZmZ7XNAFK5H4Xokb0A9CtejcIFwQLgehetRwHFA7FG4HoWvckDNzMzMzMx1QGZmZmZm7nNAuB6F61EoWkCF61G4Hi1lQFK4HoXr6WhASOF6FK5nW0AfhetRuE5jQFyPwvUobGZAj8L1KFyvYkApXI\\u002fC9dBgQGZmZmZmhmlAH4XrUbimbEBmZmZmZqZcQGZmZmZmZlxAKVyPwvWYXUDsUbgehStQQOxRuB6Fa1ZArkfhehTuU0CamZmZmblVQJqZmZmZ6VhAj8L1KFyvYkBSuB6F62FbQBSuR+F6rGJAcT0K16NwcUAUrkfheiRvQIXrUbge0XBAexSuR+GKYECuR+F6FO5TQHsUrkfhqmdAUrgehevpaEAAAAAAACGRQMP1KFyPW5dAKVyPwvXoSECPwvUoXA9SQGZmZmZmplxA4XoUrkcxUEDNzMzMzCxVQIXrUbge5V1AmpmZmZkxYEB7FK5H4SpXQArXo3A9ylhAZmZmZmamXEAfhetRuC5gQAAAAAAAEGJAH4XrUbguYECkcD0K1+NYQIXrUbge5V1AuB6F61FwYUC4HoXrUQBiQI\\u002fC9Shcr2JA9ihcj8KNZEDhehSuR2lmQPYoXI\\u002fCjWRAexSuR+GqZ0ApXI\\u002fC9ShqQOxRuB6F62NAzczMzMzMZUDsUbgehQtnQOF6FK5HaWZA7FG4HoULZ0DXo3A9CudoQB+F61G4pmxAFK5H4Xokb0Bcj8L1KGxmQPYoXI\\u002fCjWRA9ihcj8KNZECF61G4HoVuQPYoXI\\u002fCMXBAKVyPwvUgcUAUrkfheiRvQOF6FK5HaWZA7FG4HoXrY0CamZmZmSFvQPYoXI\\u002fCBWxAAAAAAAC8dkBmZmZmZu5zQJqZmZmZ3XRAzczMzMzMdUA9CtejcMVqQPYoXI\\u002fCBWxAKVyPwvUoekDsUbgehSd6QBSuR+F6yHpAj8L1KFwHfEBxPQrXo+h4QHE9Ctej6HhAcT0K16PoeEC4HoXrUeR9QM3MzMzMLFVAuB6F61EoWkBI4XoUrmdbQIXrUbge5V1AFK5H4XqsYkBmZmZmZqZcQClcj8L10GBAZmZmZmbuY0CF61G4Hi1lQI\\u002fC9Shcr2JAUrgehevpaECkcD0K10tjQB+F61G4pmxASOF6FK5na0DNzMzMzCxVQHsUrkfhqldASOF6FK5nW0CamZmZmTFgQFyPwvUofFpAuB6F61FwYUAAAAAAACBgQI\\u002fC9Shcr2JAZmZmZmY2XUCuR+F6FM5eQIXrUbgeDWJAw\\u002fUoXI8yXkDD9Shcj4JiQK5H4XoUxmVAw\\u002fUoXI9KaECF61G4Hi1lQB+F61G4pmxAmpmZmZkhb0CamZmZmSFvQHsUrkfhom1AKVyPwvWAb0DNzMzMzMx1QD0K16Nw5W1ArkfhehTqeECkcD0K11+CQHE9Ctej9oxAcT0K16PIikBI4XoUrlmQQEjhehSumYhAFK5H4XrIekApXI\\u002fC9Sh6QOxRuB6FW4dAexSuR+EadkDhehSuR3VzQD0K16Nw2YlApHA9CtfHikAfhetRuCSPQD0K16NwdX5ArkfhehTqeECkcD0K12d7QKRwPQrXg4JAw\\u002fUoXI+BkEBcj8L1KMSPQHE9CtejJH9AXI\\u002fC9SgQgkD2KFyPwjGAQGZmZmZmEoRASOF6FK63i0B7FK5H4aaMQPYoXI\\u002fCh5JAAAAAAAAkj0BSuB6F6xuGQClcj8L1IIFArkfhehR4ikApXI\\u002fC9eeRQOF6FK5Hr5JAzczMzMzMdUB7FK5H4cyFQD0K16NwB4xAexSuR+FIkUCkcD0K1yKYQHsUrkfhiJlAexSuR+GugkB7FK5H4cyFQIXrUbge9YxAcT0K16NwcUCamZmZmU1zQFyPwvUozIVAmpmZmZmZiUDXo3A9CudoQOxRuB6F62NAmpmZmZkFlUD2KFyPwmVWQGZmZmZmplxAH4XrUbheYkCPwvUoXK9iQOF6FK5HaWZASOF6FK5na0Bcj8L1KGxmQClcj8L1KGpA9ihcj8IxcEAfhetRuKZsQK5H4XoU6nhAcT0K16Mkf0AAAAAAAHBRQKRwPQrXY09ASOF6FK5nW0CamZmZmelYQHE9CtejMGFAhetRuB7lXUBmZmZmZu5jQB+F61G4TmNAPQrXo3BtYUAfhetRuE5jQOxRuB6Fa1ZAXI\\u002fC9SjsVUCPwvUoXG9SQGZmZmZmJlZArkfhehTuU0DsUbgehWtWQNejcD0K51RArkfhehTuU0CamZmZmelYQLgehetRWFZApHA9CtcjT0AAAAAAAHBRQGZmZmbmTblA7FG4HoWvckCuR+F6FK5yQBSuR+F6HHZAMzMzMzMjf0AAAAAAABBiQGZmZmZm7mNAXI\\u002fC9ShsZkDsUbgehetjQArXo3A9KmVA16NwPQrnaEA9CtejcOVtQBSuR+F6JG9AmpmZmZkxYECPwvUoXK9iQIXrUbge5V1AmpmZmZkhb0CuR+F6FK5yQAAAAAAAqGdAKVyPwvXsc0CkcD0K1+NYQI\\u002fC9Shc311A9ihcj8JlVkCuR+F6FCZqQM3MzMzMJG9AMzMzMzNvcUDNzMzMzPxsQOF6FK5H0XBAMzMzMzOrZ0AUrkfheiRvQKRwPQrX421AUrgeheuNdEDsUbgeha9yQHsUrkfhIm9ApHA9CtdvcUCamZmZme1zQHsUrkfhCndASOF6FK7PcECuR+F6FGZrQGZmZmZm7nNAcT0K16NwcUCuR+F6FOp4QLgehetRbHZA16NwPQrnaEDXo3A9Csd6QDMzMzMzb3FApHA9Ctdne0DD9Shcjw5yQBSuR+F6jHRA4XoUrkevkkDXo3A9CqmQQGZmZmZmh5JArkfhehTAkUBxPQrXo9iJQClcj8L1IIFAmpmZmZmvgkBcj8L1KOqIQHE9Ctej2IlA7FG4HoUnekBmZmZmZsCBQPYoXI\\u002fCC4dArkfhehTuU0ApXI\\u002fC9WhTQOxRuB6Fa1ZArkfhehTuU0D2KFyPwmVWQB+F61G4Hl9ArkfhehSuckCF61G4HqVXQLgehetRaFtAmpmZmZnpWECPwvUoXN9dQBSuR+F6JF9AzczMzMwsVUDD9ShcjyJaQM3MzMzMLFVAmpmZmZnpWEC4HoXrUShaQK5H4XoUHl9ACtejcD3qaEA9CtejcG1hQKRwPQrX41hA9ihcj8LNYEAUrkfheiRfQBSuR+F6rGJAH4XrUbhOY0AAAAAAABBiQPYoXI\\u002fCjWRAFK5H4XqsYkCPwvUoXK9SQB+F61G4LmBAKVyPwvXIZEDsUbgehetjQOxRuB6FC2dAuB6F61FwYUCkcD0K10tjQIXrUbge5V1ApHA9CtejbECuR+F6FCZqQK5H4XoUzmBASOF6FK5na0DXo3A9CudoQM3MzMzMJG9A16NwPQrnaEAK16NwPSplQNejcD0K52hAzczMzMxka0DhehSuR2lmQJqZmZmZIW9APQrXo3BtVEAUrkfhemxmQEjhehSur2JAmpmZmZkhb0DsUbgehetuQIXrUbge0XBAw\\u002fUoXI9KeECuR+F6FK5yQB+F61G4wn9AuB6F61EogEDhehSuR6uHQFyPwvUozIVASOF6FK6DfkB7FK5H4a6CQM3MzMzMRH1AhetRuB5fgkC4HoXrUWyGQClcj8L1IIFA7FG4HoWvckAUrkfheox0QClcj8L1IIFAZmZmZmZGbUDsUbgeha9yQDMzMzMzS2dAhetRuB5Fa0AfhetRuKZsQK5H4XoURm1Aj8L1KFzLdUB7FK5H4cJtQLgehetRMHBAmpmZmZlNc0DXo3A9Csd6QGZmZmZmJJ9AcT0K16MgkUDXo3A9CqmQQIXrUbge5V1AmpmZmZkxYECkcD0K1+NXQIXrUbge5V1AhetRuB7lXUAfhetRuN5eQJqZmZmZMWBAPQrXo3BtYUCPwvUoXK9SQPYoXI\\u002fC5VRAuB6F61EIW0CamZmZmelYQD0K16NwbWFAFK5H4XqsYkDXo3A9CudcQHE9CtejKGFAZmZmZmbGYEDsUbgehetjQOF6FK5HaWZAUrgehethW0BxPQrXo6BcQOxRuB6Fa1ZAj8L1KFyvUkC4HoXrUShaQGZmZmZmplxAAAAAAABwUUBSuB6F62FbQOF6FK5HMVBAexSuR+EqV0CPwvUoXK9SQAAAAAAAwE5AKVyPwvUoUkDNzMzMzOxUQEjhehSur7JAMzMzMzNvcUCuR+F6FOp4QPYoXI\\u002fCMXBAH4XrUbimbECuR+F6FK5yQArXo3A9IIFAw\\u002fUoXI9KeED2KFyPwjFwQAAAAAAAEHJAPQrXo3BtYUD2KFyPwo1kQB+F61G4Hl9AmpmZmZnpWEAUrkfheiRfQIXrUbge5V1AXI\\u002fC9ShsZkCF61G4Hi1lQFK4HoXr6WhApHA9CtfjaEBI4XoUrmdbQIXrUbge5V1AuB6F61FwYUCamZmZmTFgQLgehetRcGFAzczMzMy8XUCF61G4Hs1hQK5H4XoUXl5AFK5H4XqsYkBcj8L1KGxmQOF6FK5HaWZAUrgehevpaEBSuB6F6+loQI\\u002fC9ShcR2xAH4XrUbimbEA9CtejcG1hQB+F61G4LmBAzczMzMwsYkAfhetRuE5jQGZmZmZmtmNAhetRuB7lXUCF61G4Hi1lQIXrUbgeLWVA7FG4HoULZ0DXo3A9CudoQI\\u002fC9ShcP2ZAZmZmZmbmaEC4HoXrUXBhQEjhehSuz3BAFK5H4Xokb0CF61G4HtFwQKRwPQrXb3FAj8L1KFyvYkApXI\\u002fC9dhuQFK4HoXrjXRA7FG4HoWvckBSuB6F6410QIXrUbge0XBAUrgehevpaEBmZmZmZu5jQOF6FK5HaWZA4XoUrkeJaUCamZmZmalZQKRwPQrX41hAhetRuB4tZUAfhetRuN5dQLgehetRcGFAzczMzMz8YUB7FK5H4YpkQFK4HoXr6WhAuB6F61FOg0A=\"},\"type\":\"scatter\"},{\"mode\":\"markers\",\"name\":\"screen_size\",\"visible\":false,\"x\":{\"dtype\":\"f8\",\"bdata\":\"ZmZmZmZmGEBmZmZmZmYYQAAAAAAAABpAZmZmZmZmGEBmZmZmZmYYQGZmZmZmZhhAmpmZmZmZFUCamZmZmZkVQJqZmZmZmRVAZmZmZmZmGEBmZmZmZmYYQGZmZmZmZhhAZmZmZmZmGEBmZmZmZmYYQJqZmZmZmRVAZmZmZmZmGEBmZmZmZmYYQGZmZmZmZhhAzczMzMzMGkDNzMzMzMwaQM3MzMzMzBpAZmZmZmZmGEBmZmZmZmYYQGZmZmZmZhhArkfhehSuFUDNzMzMzMwaQM3MzMzMzBpAzczMzMzMGkBmZmZmZmYYQGZmZmZmZhhAZmZmZmZmGEDNzMzMzMwaQM3MzMzMzBpAzczMzMzMGkDNzMzMzMwaQD0K16NwPRhA16NwPQrXGkA9CtejcD0YQLgehetRuBpA7FG4HoXrGkDNzMzMzMwSQM3MzMzMzBJAzczMzMzMEkDNzMzMzMwSQGZmZmZmZhhAZmZmZmZmGEAfhetRuB4bQB+F61G4HhtAH4XrUbgeG0AfhetRuB4bQB+F61G4HhtAMzMzMzMzG0CamZmZmZkXQGZmZmZmZhhAMzMzMzMzG0AAAAAAAAAQQJqZmZmZmRlAMzMzMzMzGUBSuB6F61EaQFK4HoXrUQxACtejcD0KGUAzMzMzMzMbQM3MzMzMzBhAAAAAAAAAGEAAAAAAAAAYQM3MzMzMzBZAAAAAAAAAGEBcj8L1KFwZQJqZmZmZmRlA16NwPQrXGkDXo3A9CtcaQI\\u002fC9ShcjxhAMzMzMzMzGUDNzMzMzMwaQGZmZmZmZhhAZmZmZmZmGkDsUbgehesaQEjhehSuRxpArkfhehSuGkCuR+F6FK4aQK5H4XoUrhpAH4XrUbgeG0AK16NwPQobQAAAAAAAABpAAAAAAAAAGkAAAAAAAAAbQM3MzMzMzBpAAAAAAAAAGkA9CtejcD0bQK5H4XoUrhpAXI\\u002fC9ShcF0AfhetRuB4aQArXo3A9ChtACtejcD0KG0D2KFyPwvUaQAAAAAAAACBAMzMzMzMzH0CuR+F6FK4aQK5H4XoUrhpAmpmZmZmZGUBI4XoUrkcaQB+F61G4HhtAFK5H4XoUGkDNzMzMzMwaQFK4HoXrURpAZmZmZmZmGkBI4XoUrkcbQAAAAAAAABpAAAAAAAAAGkAfhetRuB4bQEjhehSuRxtASOF6FK5HG0BmZmZmZmYaQGZmZmZmZhpAZmZmZmZmGkBmZmZmZmYaQEjhehSuRxtAZmZmZmZmGkAfhetRuB4bQM3MzMzMzBpAzczMzMzMG0DNzMzMzMwaQM3MzMzMzBpAzczMzMzMGkDNzMzMzMwaQM3MzMzMzBpAzczMzMzMGkDNzMzMzMwaQM3MzMzMzBpAzczMzMzMGkCkcD0K16MbQGZmZmZmZhpAZmZmZmZmGkBI4XoUrkcbQM3MzMzMzBpAH4XrUbgeG0AzMzMzMzMbQK5H4XoUrhpAH4XrUbgeG0AfhetRuB4bQB+F61G4HhtAexSuR+F6GkB7FK5H4XoaQHsUrkfhehpAPQrXo3A9GkA9CtejcD0aQB+F61G4HhtAexSuR+F6GkB7FK5H4XoaQB+F61G4HhtAexSuR+F6GkB7FK5H4XoaQHsUrkfhehpAH4XrUbgeG0AfhetRuB4bQB+F61G4HhtAw\\u002fUoXI\\u002fCGUDD9Shcj8IZQFK4HoXrURpAUrgehetRGkBSuB6F61EaQFK4HoXrURpAUrgehetRGkDD9Shcj8IZQMP1KFyPwhlAw\\u002fUoXI\\u002fCGUCuR+F6FK4aQHsUrkfhehpAUrgehetRGkCuR+F6FK4aQAAAAAAAABRAAAAAAAAAFEAAAAAAAAAUQAAAAAAAABhAAAAAAAAAGkAAAAAAAAAaQGZmZmZmZhpAXI\\u002fC9ShcGEBmZmZmZmYaQGZmZmZmZhpAAAAAAAAAGkDNzMzMzMwVQAAAAAAAABZAAAAAAAAAFEAfhetRuB4bQAAAAAAAABpAAAAAAAAAGkAAAAAAAAAaQAAAAAAAABpAZmZmZmZmGkAAAAAAAAAaQK5H4XoUrhtAKVyPwvUoGkAAAAAAAAAaQAAAAAAAABpAMzMzMzMzG0AzMzMzMzMbQDMzMzMzMxtAAAAAAAAAFkAAAAAAAAAUQBSuR+F6FBpAFK5H4XoUGkAUrkfhehQaQK5H4XoUrhpAAAAAAAAAGkAAAAAAAAAaQDMzMzMzMxpAzczMzMzMGkCuR+F6FK4aQK5H4XoUrhpAAAAAAAAAGkCuR+F6FK4aQM3MzMzMzBpAzczMzMzMGkDNzMzMzMwaQAAAAAAAABpAAAAAAAAAGkAAAAAAAAAaQAAAAAAAABpAAAAAAAAAGkAAAAAAAAAaQB+F61G4HhlAMzMzMzMzG0CuR+F6FK4aQK5H4XoUrhpArkfhehSuGkAAAAAAAAAaQB+F61G4HhpAAAAAAAAAGkDhehSuR+EZQOF6FK5H4RlAMzMzMzMzGkAfhetRuB4bQOF6FK5H4RlAMzMzMzMzG0BmZmZmZmYaQGZmZmZmZhpAZmZmZmZmGkAAAAAAAAAaQB+F61G4HhtAMzMzMzMzGkAzMzMzMzMaQJqZmZmZmRlAAAAAAAAAGkAzMzMzMzMaQAAAAAAAABpAZmZmZmZmGkBmZmZmZmYaQDMzMzMzMxtAMzMzMzMzGkCuR+F6FK4aQM3MzMzMzBpAAAAAAAAAGkDNzMzMzMwYQGZmZmZmZhpAzczMzMzMFUAUrkfhehQaQPYoXI\\u002fC9RpAFK5H4XoUGkAAAAAAAAAaQAAAAAAAABpAUrgehetRGkCamZmZmZkbQK5H4XoUrhpAuB6F61G4GUA9CtejcD0bQArXo3A9ChpACtejcD0KGkAzMzMzMzMaQDMzMzMzMxpAMzMzMzMzGkAzMzMzMzMaQK5H4XoUrhpAMzMzMzMzG0AzMzMzMzMbQDMzMzMzMxtAMzMzMzMzG0CuR+F6FK4aQK5H4XoUrhpAzczMzMzMGkDNzMzMzMwaQM3MzMzMzBpAzczMzMzMGkDNzMzMzMwaQM3MzMzMzBpAzczMzMzMGkDNzMzMzMwaQM3MzMzMzBpAzczMzMzMGkDNzMzMzMwaQM3MzMzMzBpA7FG4HoXrGkAfhetRuB4ZQM3MzMzMzBpAexSuR+F6GkAzMzMzMzMaQM3MzMzMzBpAzczMzMzMGkDNzMzMzMwaQFyPwvUoXBpAFK5H4XoUGkBcj8L1KFwaQLgehetRuBlAuB6F61G4GUC4HoXrUbgZQLgehetRuBlAuB6F61G4GUBI4XoUrkcaQFyPwvUoXBpAXI\\u002fC9ShcGkBcj8L1KFwaQM3MzMzMzBpAXI\\u002fC9ShcGkAzMzMzMzMaQPYoXI\\u002fC9RlAFK5H4XoUGkC4HoXrUbgZQPYoXI\\u002fC9RlAPQrXo3A9GkAzMzMzMzMZQDMzMzMzMxpAzczMzMzMGkDhehSuR+EYQBSuR+F6FBpAFK5H4XoUGkAUrkfhehQaQBSuR+F6FBpAFK5H4XoUGkAUrkfhehQaQD0K16NwPRpAPQrXo3A9GkAAAAAAAAAaQAAAAAAAABpACtejcD0KGkAK16NwPQoaQArXo3A9ChpACtejcD0KGkAK16NwPQoaQAAAAAAAABpAAAAAAAAAGkA9CtejcD0aQD0K16NwPRpAPQrXo3A9GkA9CtejcD0aQD0K16NwPRpAAAAAAAAAGEAAAAAAAAAaQD0K16NwPRpAPQrXo3A9GkA9CtejcD0aQD0K16NwPRpAPQrXo3A9GkA9CtejcD0aQFyPwvUoXBpAuB6F61G4GUA9CtejcD0aQM3MzMzMzBpAuB6F61G4GUCamZmZmZkZQLgehetRuBlAuB6F61G4GUC4HoXrUbgZQAAAAAAAABpAuB6F61G4GUC4HoXrUbgZQLgehetRuBlAUrgehetRGkAAAAAAAAAaQLgehetRuBlAZmZmZmZmHEAzMzMzMzMbQGZmZmZmZhxAZmZmZmZmHEAzMzMzMzMbQM3MzMzMzBpAzczMzMzMGkDsUbgehesaQB+F61G4HhtAXI\\u002fC9ShcGkBcj8L1KFwaQD0K16NwPRpAexSuR+F6GkBcj8L1KFwaQJqZmZmZmRlA7FG4HoXrGkDsUbgehesaQOxRuB6F6xpAuB6F61G4GUAfhetRuB4aQAAAAAAAABpAuB6F61G4GUAzMzMzMzMaQDMzMzMzMxpAuB6F61G4GUDNzMzMzMwaQM3MzMzMzBpAzczMzMzMGkC4HoXrUbgZQK5H4XoUrhpArkfhehSuGkDNzMzMzMwaQM3MzMzMzBpAzczMzMzMGkBSuB6F61EaQLgehetRuBlAMzMzMzMzGkC4HoXrUbgZQLgehetRuBlAmpmZmZmZHUAfhetRuB4bQB+F61G4HhtAcT0K16NwF0AfhetRuB4aQB+F61G4HhpAFK5H4XoUGkAUrkfhehQaQNejcD0K1xpArkfhehSuGkCuR+F6FK4aQK5H4XoUrhpArkfhehSuGkCuR+F6FK4aQM3MzMzMzBpArkfhehSuGkCuR+F6FK4aQB+F61G4HhpArkfhehSuGkAfhetRuB4aQAAAAAAAABpAAAAAAAAAGkBSuB6F61EaQFK4HoXrURpAuB6F61G4GUC4HoXrUbgZQLgehetRuBlAZmZmZmZmGkBmZmZmZmYaQGZmZmZmZhpAUrgehetRGkBSuB6F61EaQOxRuB6F6xpArkfhehSuGkCuR+F6FK4aQK5H4XoUrhpAZmZmZmZmGkBmZmZmZmYaQK5H4XoUrhpArkfhehSuGkCuR+F6FK4aQK5H4XoUrhpAzczMzMzMGkCuR+F6FK4aQK5H4XoUrhpAmpmZmZmZGUCamZmZmZkZQGZmZmZmZhpA4XoUrkfhGkDhehSuR+EaQM3MzMzMzBpAzczMzMzMGkBmZmZmZmYaQJqZmZmZmRlAmpmZmZmZGUAAAAAAAAAaQGZmZmZmZhpAmpmZmZmZGUCamZmZmZkZQJqZmZmZmRlAAAAAAAAAGkAAAAAAAAAaQGZmZmZmZhpAZmZmZmZmGkAAAAAAAAAaQAAAAAAAABpAmpmZmZmZGUCamZmZmZkZQAAAAAAAABpAAAAAAAAAGkBmZmZmZmYaQGZmZmZmZhpAZmZmZmZmGkBmZmZmZmYaQJqZmZmZmRlAmpmZmZmZGUCamZmZmZkZQGZmZmZmZhpAZmZmZmZmGkBmZmZmZmYaQGZmZmZmZhpAZmZmZmZmGkDNzMzMzMwYQAAAAAAAABpAFK5H4XoUGkAUrkfhehQaQGZmZmZmZhhAAAAAAAAAGkAAAAAAAAAaQGZmZmZmZhhAAAAAAAAAGkAAAAAAAAAaQAAAAAAAABpAAAAAAAAAGkAUrkfhehQaQBSuR+F6FBpAFK5H4XoUGkAAAAAAAAAaQAAAAAAAABpAZmZmZmZmGkBmZmZmZmYaQGZmZmZmZhpAFK5H4XoUGkB7FK5H4XoaQM3MzMzMzBpAzczMzMzMGkDNzMzMzMwaQLgehetRuBlAMzMzMzMzGkC4HoXrUbgZQM3MzMzMzBpAexSuR+F6GkB7FK5H4XoaQHsUrkfhehpA7FG4HoXrGkDNzMzMzMwaQHsUrkfhehpAAAAAAAAAGkAAAAAAAAAaQAAAAAAAABpAZmZmZmZmGkBmZmZmZmYaQGZmZmZmZhpAZmZmZmZmGkBmZmZmZmYaQJqZmZmZmRlAmpmZmZmZGUAAAAAAAAAaQGZmZmZmZhpAZmZmZmZmGkAAAAAAAAAaQAAAAAAAABpAAAAAAAAAGkAAAAAAAAAaQAAAAAAAABpAAAAAAAAAGkAAAAAAAAAaQGZmZmZmZhpAw\\u002fUoXI\\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\\u002fUoXI\\u002fCGUBSuB6F61EaQFK4HoXrURpAUrgehetRGkDD9Shcj8IZQMP1KFyPwhlAUrgehetRGkBSuB6F61EaQFK4HoXrURpAexSuR+F6GkDD9Shcj8IZQFK4HoXrURpArkfhehSuGkAfhetRuB4aQB+F61G4HhpAUrgehetRGkAzMzMzMzMZQI\\u002fC9ShcjxlAw\\u002fUoXI\\u002fCGUDD9Shcj8IZQMP1KFyPwhlAw\\u002fUoXI\\u002fCGUDD9Shcj8IZQMP1KFyPwhlAw\\u002fUoXI\\u002fCGUDD9Shcj8IZQMP1KFyPwhlAw\\u002fUoXI\\u002fCGUA9CtejcD0aQD0K16NwPRpAw\\u002fUoXI\\u002fCGUDD9Shcj8IZQMP1KFyPwhlAw\\u002fUoXI\\u002fCGUA9CtejcD0aQD0K16NwPRpAw\\u002fUoXI\\u002fCGUDNzMzMzMwaQD0K16NwPRpA7FG4HoXrGkDNzMzMzMwaQK5H4XoUrhpAj8L1KFwPIECPwvUoXA8gQI\\u002fC9ShcDyBAj8L1KFwPIEAAAAAAAAAcQB+F61G4HhtAH4XrUbgeG0AfhetRuB4bQB+F61G4HhtAH4XrUbgeG0AfhetRuB4bQB+F61G4HhtACtejcD0KGkAK16NwPQoaQArXo3A9ChpACtejcD0KGkAK16NwPQoaQArXo3A9ChpAAAAAAAAAGEBmZmZmZmYZQGZmZmZmZhlACtejcD0KGkAK16NwPQoaQGZmZmZmZhlACtejcD0KGkAK16NwPQoaQArXo3A9ChpACtejcD0KGkAK16NwPQoaQArXo3A9ChpAH4XrUbgeGkAK16NwPQoaQAAAAAAAABpACtejcD0KGkAK16NwPQoaQArXo3A9ChpACtejcD0KGkAzMzMzMzMaQDMzMzMzMxpAMzMzMzMzGkAAAAAAAAASQGZmZmZmZhlAUrgehetRGkBSuB6F61EaQFK4HoXrURpACtejcD0KGkBSuB6F61EaQArXo3A9ChpAw\\u002fUoXI\\u002fCGUBSuB6F61EaQM3MzMzMzBRAUrgehetRGkBSuB6F61EaQAAAAAAAABhAw\\u002fUoXI\\u002fCGUBSuB6F61EaQMP1KFyPwhlAUrgehetRGkCPwvUoXI8aQFK4HoXrURpA4XoUrkfhGEDNzMzMzMwYQOF6FK5H4RhArkfhehSuGkCuR+F6FK4aQK5H4XoUrhpArkfhehSuGkAzMzMzMzMaQOxRuB6F6xpA7FG4HoXrGkDsUbgehesaQOxRuB6F6xpArkfhehSuGkCuR+F6FK4aQHE9CtejcBlA7FG4HoXrGkBmZmZmZmYaQLgehetRuBlAMzMzMzMzGkDNzMzMzMwaQK5H4XoUrhpArkfhehSuGkCuR+F6FK4aQDMzMzMzMxpAMzMzMzMzGkAzMzMzMzMaQK5H4XoUrhpArkfhehSuGkCuR+F6FK4aQK5H4XoUrhpArkfhehSuGkAfhetRuB4ZQK5H4XoUrh9AhetRuB4FIEAK16NwPQogQLgehetRuBhAuB6F61G4GEDNzMzMzMwaQM3MzMzMzBpAzczMzMzMGkAAAAAAAAAaQAAAAAAAABpAUrgehetRGkAfhetRuB4aQB+F61G4HhpAH4XrUbgeGkAfhetRuB4aQM3MzMzMzBpAzczMzMzMGkBSuB6F61EaQFK4HoXrURpAUrgehetRGkBSuB6F61EaQOxRuB6F6xpAuB6F61G4GUDhehSuR+EYQB+F61G4HhpAH4XrUbgeGkAfhetRuB4aQB+F61G4HhpAH4XrUbgeGkAfhetRuB4aQB+F61G4HhpAH4XrUbgeGkAfhetRuB4aQBSuR+F6FBpAFK5H4XoUGkAUrkfhehQaQI\\u002fC9ShcjxlArkfhehSuGkCuR+F6FK4aQGZmZmZmZhpAZmZmZmZmGkCuR+F6FK4aQOxRuB6F6xpArkfhehSuGkCuR+F6FK4aQK5H4XoUrhpAuB6F61G4GUC4HoXrUbgZQAAAAAAAABpArkfhehSuGkCuR+F6FK4aQK5H4XoUrhpArkfhehSuGkBmZmZmZmYaQK5H4XoUrhpArkfhehSuGkC4HoXrUbgZQLgehetRuBlAuB6F61G4GUAAAAAAAAAaQAAAAAAAABpAuB6F61G4GUC4HoXrUbgZQLgehetRuBlAZmZmZmZmGkCuR+F6FK4aQK5H4XoUrhpArkfhehSuGkCuR+F6FK4aQK5H4XoUrhpArkfhehSuGkBSuB6F61EaQFK4HoXrURpAuB6F61G4GUC4HoXrUbgZQLgehetRuBlAuB6F61G4GUBmZmZmZmYaQGZmZmZmZhpAZmZmZmZmGkBmZmZmZmYaQK5H4XoUrhpArkfhehSuGkCuR+F6FK4aQK5H4XoUrhpArkfhehSuGkCuR+F6FK4aQK5H4XoUrhpArkfhehSuGkCuR+F6FK4aQK5H4XoUrhpArkfhehSuGkCuR+F6FK4aQK5H4XoUrhpArkfhehSuGkAUrkfhehQaQK5H4XoUrhpArkfhehSuGkAAAAAAAAAWQDMzMzMzMxlAH4XrUbgeGkAfhetRuB4aQK5H4XoUrhpArkfhehSuGkCuR+F6FK4aQJqZmZmZmRtAMzMzMzMzG0A=\"},\"y\":{\"dtype\":\"f8\",\"bdata\":\"w\\u002fUoXI9KeEAK16NwPUZ9QNejcD0KHZFA9ihcj8IxgEAfhetRuHCBQD0K16NwLYVAmpmZmZmJeUB7FK5H4aZ8QB+F61G4cIFASOF6FK6rkkApXI\\u002fC9ciVQM3MzMzMnoNArkfhehS8hkB7FK5H4aaMQLgehetRNoRASOF6FK6rkkB7FK5H4QeXQLgehetROpRAuB6F61E6lEDsUbgehQOcQClcj8L1yJVAAAAAAACOhEDhehSuR6uHQKRwPQrX5Y1AXI\\u002fC9SjMhUDsUbgehVuHQM3MzMzMeIpASOF6FK5ZkEDhehSuR6+SQD0K16Nw8JpAUrgehes9lEBSuB6F6z2UQK5H4XoUf5xAw\\u002fUoXI\\u002fMlUB7FK5H4XSaQHE9Ctej2IlArkfhehR4ikDNzMzMzGWUQFyPwvUoRJZAmpmZmZlXl0DNzMzMzICAQK5H4XoUrnJACtejcD3aeEBcj8L1KFh7QDMzMzMzI39AuB6F61FshkCuR+F6FOp4QLgehetRbIZArkfhehS8hkA9CtejcAeMQFK4HoXr0JBAw\\u002fUoXI+qh0D2KFyPwu2DQPYoXI\\u002fCZVZAFK5H4XqsYkCPwvUoXK9iQI\\u002fC9Shcr2JAj8L1KFyvYkB7FK5H4aZ8QKRwPQrX41hAuB6F61HYTkAAAAAAAHBRQI\\u002fC9Shcr1JA7FG4HoXrY0BmZmZmZu5jQHE9CtejEGlAFK5H4XpsdkBSuB6F6410QB+F61G4NnlAMzMzMzPpgEC4HoXrUdKIQOxRuB6Fr3JA7FG4HoWJgECamZmZmYmJQI\\u002fC9Shcy3VAFK5H4XrQgEBSuB6F6xuGQBSuR+F6jHRAmpmZmZkhb0BxPQrXo+h4QJqZmZmZTXNACtejcD0ggUCPwvUoXJWNQJqZmZmZ6VhAuB6F61FwYUC4HoXrUXBhQIXrUbgeLWVAFK5H4XqsYkCF61G4Hi1lQHE9CtejcHFASOF6FK5HW0BI4XoULr2gQFyPwvUozIVAAAAAAAAkj0Bcj8L1qK+iQAAAAAAAUZpAPQrXo3BhmUCuR+F6FK5yQD0K16Nw5W1AzczMzMxka0CuR+F6FK5yQNejcD0K52hAzczMzMxka0CkcD0K16NsQHE9Ctej2IlAj8L1KFz\\u002fgkBxPQrXo\\u002fBQQK5H4XoU7lNAPQrXo3AtVEAUrkfheiRYQJqZmZmZ6VhAMzMzMzMzVkC4HoXrUQhbQB+F61G4vl5AXI\\u002fC9ShsZkBSuB6F6+loQOxRuB6Fa1ZAmpmZmZnpWECamZmZmTFgQDMzMzMz419AZmZmZmbuY0BmZmZmZiZdQJqZmZmZMWBAhetRuB4tZUBmZmZmZu5jQPYoXI\\u002fCDWVAexSuR+GqZ0CPwvUoXK9iQFK4HoXr6WhAmpmZmZnpWECF61G4Hi1lQM3MzMzMPFJAAAAAAABwUUA9CtejcK1UQFyPwvUobGZAw\\u002fUoXI9KaEBI4XoUrgt3QM3MzMzMZGtACtejcD0+hECamZmZma+CQIXrUbgeX4JAmpmZmZkhb0B7FK5H4Wp2QHE9Ctej6HhAj8L1KFzLdUBxPQrXo+h4QHsUrkfhroJAmpmZmZlNc0DNzMzMzMR1QLgehetR5H1AAAAAAAAQckA9CtejcAV1QKRwPQrXo2xA7FG4HoWvckAUrkfheox0QJqZmZmZIW9AzczMzMwMYkBmZmZmZu5jQB+F61G4TmNACtejcD0aZUAzMzMzMwtnQB+F61G4TmNAhetRuB5tYUAUrkfheiRrQHE9CtejcHFArkfhehQmbUBcj8L1KGxmQBSuR+F6JG9Aj8L1KFyvYkDXo3A9CudoQM3MzMzM7ENAexSuR+HaR0CamZmZmdlNQHsUrkfhWktA7FG4HoUrUECamZmZmdlNQArXo3A9alFAmpmZmZlZTUBxPQrXo7BQQDMzMzMz00xAj8L1KFzfXUAK16NwPSpHQI\\u002fC9Shcr1JA7FG4HoVrRkDhehSuR2lmQEjhehSuZ1tA7FG4HoVrVkAAAAAAAHBRQEjhehSuZ1tAmpmZmZl2k0CamZmZma+CQM3MzMzMRH1AZmZmZmZmS0CF61G4HuVNQAAAAAAAcFFAPQrXo3DpiEApXI\\u002fC9SCBQClcj8L1IIFA4XoUrkfhQ0DD9Shcj2JDQAAAAAAAcFFAKVyPwvVoU0CF61G4HuVNQHsUrkfhqmdAH4XrUbimbEAUrkfheiRvQK5H4XoU6nhAzczMzMzMdUApXI\\u002fC9SCBQJqZmZmZr4JAzczMzMzMdUDXo3A9Csd6QHsUrkfhroJAXI\\u002fC9SgQgkAUrkfhegRsQLgehetRKFpACtejcD16VkDsUbgehWtWQLgehetR6FNAw\\u002fUoXI8SVkCuR+F6FO5TQClcj8L17HNAw\\u002fUoXI\\u002fibUCPwvUoXMt1QHsUrkfhroJA16NwPQrnaEBmZmZmZu5jQHsUrkfhqldAUrgehevpaECamZmZmelYQIXrUbge5V1AuB6F61EoWkAAAAAAABBiQEjhehSuZ1tAmpmZmZkxYECF61G4HuVdQJqZmZmZMWBAhetRuB4tZUBI4XoUrmdrQGZmZmZm7mNA9ihcj8KNZECPwvUoXK9iQIXrUbgeLWVA16NwPQrnaEBmZmZmZu5jQPYoXI\\u002fCMXBA4XoUrkeJaUB7FK5H4apnQNejcD0K52hAw\\u002fUoXI\\u002fibUDsUbgehSd6QK5H4XoU6nhAw\\u002fUoXI9KaEBxPQrXo6BcQDMzMzMzI39ASOF6FK4nSkDsUbgehWtWQHsUrkfhqldAuB6F61EoWkCF61G4HuVdQClcj8L10GBAXI\\u002fC9SjAcUAK16NwPUZ9QOF6FK5HaWZA7FG4HoUnekDNzMzMzMx1QHE9Ctej6HhAMzMzMzMjf0DhehSuR6lwQLgehetRbHZAFK5H4XqYcUCamZmZmSFvQHE9Ctej6HhAj8L1KFwHfEBxPQrXo\\u002f6CQM3MzMzMRH1Aj8L1KFz\\u002fgkAzMzMzMyN\\u002fQM3MzMzMzHVAj8L1KFz\\u002fgkCuR+F6FGaEQOxRuB6FW4dAUrgeheuNdEBI4XoUrgt3QNejcD0KC3ZAj8L1KFwHfEBcj8L1KMR\\u002fQB+F61G4cIFAKVyPwvUggUB7FK5H4cyFQK5H4XoU6nhAexSuR+HMhUBxPQrXo3BxQGZmZmZmLoRAFK5H4XrIekCPwvUoXAd8QM3MzMzMzHVAw\\u002fUoXI8OckC4HoXrUeR9QKRwPQrXo2xAj8L1KFyvYkAfhetRuKZsQJqZmZmZHXVAAAAAAAAQckBxPQrXo3BxQK5H4XoUrnJA7FG4HoWvckDNzMzMzMx1QB+F61G45mhAZmZmZmZma0AUrkfheiRvQEjhehSuZ2tAexSuR+GqZ0BSuB6F6+loQMP1KFyP4m9ACtejcD0qZUCuR+F6FCZqQArXo3A9KmVAAAAAAACoZ0BSuB6F6+loQBSuR+F6JG9ArkfhehQmakCkcD0K1+NYQJqZmZmZ6VhAcT0K16OgXECF61G4HuVdQOxRuB6Fa1ZA7FG4HoVrVkBI4XoUrmdbQBSuR+F6JF9AexSuR+GqV0AfhetRuB5fQD0K16NwbWFAhetRuB5lXkCPwvUoXN9dQI\\u002fC9Shcr2JAKVyPwvXQYEAAAAAAAFBiQOF6FK5HaWZA4XoUrkdpZkCamZmZmTFgQI\\u002fC9Shc311A16NwPQpnYUAAAAAAAKhnQD0K16NwbWFA7FG4HoXrY0CkcD0K10tjQHsUrkfhimRAH4XrUbhOY0CuR+F6FO5jQM3MzMzMZGtAXI\\u002fC9ShsZkB7FK5H4apnQFyPwvUobGZApHA9CtejbEDD9Shcj+JtQJqZmZmZTXNAAAAAAACoZ0AUrkfheqxiQMP1KFyPamZA16NwPQrnaEB7FK5H4epjQClcj8L1KGpAKVyPwvUscECF61G4HiFwQAAAAAAASGtAw\\u002fUoXI86cUDXo3A9CudoQDMzMzMzb3FAzczMzMy6jEAfhetRuAaMQAAAAAAAJI9Aj8L1KFyVjUBSuB6F6xuGQB+F61G4wn9APQrXo3DpiEBcj8L1KMyFQAAAAAAASohArkfhehTOYEAK16NwPSplQIXrUbgeLWVArkfhehSuckAK16NwPSplQNejcD0K52hAUrgeheuNdEDXo3A9Csd6QIXrUbgeX4JArkfhehSuckB7FK5H4Rp4QKRwPQrXo2xAZmZmZmZucECamZmZmeV2QFK4HoXrBXxAFK5H4XqMdEDXo3A9Csd6QHsUrkfhpnxAexSuR+GmfEBI4XoUrs9wQK5H4XoUrnJAUrgehevpaEC4HoXrUcBxQK5H4XoU6nhAexSuR+GmfECkcD0K16NsQClcj8L1MHBAmpmZmZntc0Bcj8L1KGxmQGZmZmZmRnJAmpmZmZkFlUCuR+F6FK5yQKRwPQrXo2xA9ihcj8IhcEDhehSuRzFQQI\\u002fC9Shcr1JA4XoUrkcxUECPwvUoXC9SQK5H4XoU7lNAUrgeheuNdEDsUbgeha9yQPYoXI\\u002fCMXBAcT0K16NwcUCuR+F6FOp4QI\\u002fC9Shcy3VAFK5H4XrIekDsUbgeha9yQFK4HoXrIVtAMzMzMzPjX0BmZmZmZqZcQGZmZmZm7mNASOF6FK5vYkBmZmZmZqZcQClcj8L10GBAhetRuB7lXUCamZmZmTFgQLgehetRcGFAmpmZmZkxYECPwvUoXK9iQGZmZmZm7mNASOF6FK7nWkAAAAAAABBiQNejcD0K52hAKVyPwvXQYEDD9Shcj3poQBSuR+F6rGJAmpmZmZkhb0DD9Shcjw5yQI\\u002fC9Shcr2JA9ihcj8KNZEBcj8L1KGxmQI\\u002fC9Shcr2JArkfhehSuckApXI\\u002fC9ShqQFK4HoXr6WhAuB6F61FwYUCF61G4Hi1lQAAAAAAAEGJAexSuR+GqZ0BSuB6F6+loQBSuR+F6JG9AcT0K16NwcUCamZmZmTFgQAAAAAAAEHJAFK5H4Xokb0BmZmZmZi5gQIXrUbgeDWJASOF6FK5na0BmZmZmZu5jQFyPwvUobGZA9ihcj8KNZEDsUbgehQtnQBSuR+F6JF9AuB6F61FwYUBcj8L1KGxmQM3MzMzMzGVAj8L1KFyvYkBmZmZmZu5jQLgehetRcGFAH4XrUbhOY0B7FK5H4apnQGZmZmZmpmxAexSuR+GqZ0ApXI\\u002fC9ShqQFK4HoXrIXBAhetRuB6lbEDsUbgehYNuQBSuR+F6JF9AuB6F61FwYUCPwvUoXK9iQBSuR+F6pGJAhetRuB4tZUDsUbgehWtWQOxRuB6FK1BA4XoUrkcxUEAfhetRuE5TQAAAAAAAcFFAAAAAAABwUUDsUbgehWtWQI\\u002fC9Shcb0FASOF6FK5nSkCkcD0K12NPQD0K16NwzVFA9ihcj8JlVkA9CtejcK1UQOxRuB6Fa1ZAexSuR+GqV0DNzMzMzExWQJqZmZmZ6VhAuB6F61F4XUBcj8L1KNxfQLgehetRcGFArkfhehTuU0AzMzMzMw9yQFyPwvUoiHlACtejcD0ef0AK16NwPUZ9QArXo3A9TnNAFK5H4XqMdEBxPQrXo3BxQJqZmZmZ7XNAFK5H4Xokb0A9CtejcIFwQLgehetRwHFA7FG4HoWvckDNzMzMzMx1QGZmZmZm7nNAuB6F61EoWkCF61G4Hi1lQFK4HoXr6WhASOF6FK5nW0AfhetRuE5jQFyPwvUobGZAj8L1KFyvYkApXI\\u002fC9dBgQGZmZmZmhmlAH4XrUbimbEBmZmZmZqZcQGZmZmZmZlxAKVyPwvWYXUDsUbgehStQQOxRuB6Fa1ZArkfhehTuU0CamZmZmblVQJqZmZmZ6VhAj8L1KFyvYkBSuB6F62FbQBSuR+F6rGJAcT0K16NwcUAUrkfheiRvQIXrUbge0XBAexSuR+GKYECuR+F6FO5TQHsUrkfhqmdAUrgehevpaEAAAAAAACGRQMP1KFyPW5dAKVyPwvXoSECPwvUoXA9SQGZmZmZmplxA4XoUrkcxUEDNzMzMzCxVQIXrUbge5V1AmpmZmZkxYEB7FK5H4SpXQArXo3A9ylhAZmZmZmamXEAfhetRuC5gQAAAAAAAEGJAH4XrUbguYECkcD0K1+NYQIXrUbge5V1AuB6F61FwYUC4HoXrUQBiQI\\u002fC9Shcr2JA9ihcj8KNZEDhehSuR2lmQPYoXI\\u002fCjWRAexSuR+GqZ0ApXI\\u002fC9ShqQOxRuB6F62NAzczMzMzMZUDsUbgehQtnQOF6FK5HaWZA7FG4HoULZ0DXo3A9CudoQB+F61G4pmxAFK5H4Xokb0Bcj8L1KGxmQPYoXI\\u002fCjWRA9ihcj8KNZECF61G4HoVuQPYoXI\\u002fCMXBAKVyPwvUgcUAUrkfheiRvQOF6FK5HaWZA7FG4HoXrY0CamZmZmSFvQPYoXI\\u002fCBWxAAAAAAAC8dkBmZmZmZu5zQJqZmZmZ3XRAzczMzMzMdUA9CtejcMVqQPYoXI\\u002fCBWxAKVyPwvUoekDsUbgehSd6QBSuR+F6yHpAj8L1KFwHfEBxPQrXo+h4QHE9Ctej6HhAcT0K16PoeEC4HoXrUeR9QM3MzMzMLFVAuB6F61EoWkBI4XoUrmdbQIXrUbge5V1AFK5H4XqsYkBmZmZmZqZcQClcj8L10GBAZmZmZmbuY0CF61G4Hi1lQI\\u002fC9Shcr2JAUrgehevpaECkcD0K10tjQB+F61G4pmxASOF6FK5na0DNzMzMzCxVQHsUrkfhqldASOF6FK5nW0CamZmZmTFgQFyPwvUofFpAuB6F61FwYUAAAAAAACBgQI\\u002fC9Shcr2JAZmZmZmY2XUCuR+F6FM5eQIXrUbgeDWJAw\\u002fUoXI8yXkDD9Shcj4JiQK5H4XoUxmVAw\\u002fUoXI9KaECF61G4Hi1lQB+F61G4pmxAmpmZmZkhb0CamZmZmSFvQHsUrkfhom1AKVyPwvWAb0DNzMzMzMx1QD0K16Nw5W1ArkfhehTqeECkcD0K11+CQHE9Ctej9oxAcT0K16PIikBI4XoUrlmQQEjhehSumYhAFK5H4XrIekApXI\\u002fC9Sh6QOxRuB6FW4dAexSuR+EadkDhehSuR3VzQD0K16Nw2YlApHA9CtfHikAfhetRuCSPQD0K16NwdX5ArkfhehTqeECkcD0K12d7QKRwPQrXg4JAw\\u002fUoXI+BkEBcj8L1KMSPQHE9CtejJH9AXI\\u002fC9SgQgkD2KFyPwjGAQGZmZmZmEoRASOF6FK63i0B7FK5H4aaMQPYoXI\\u002fCh5JAAAAAAAAkj0BSuB6F6xuGQClcj8L1IIFArkfhehR4ikApXI\\u002fC9eeRQOF6FK5Hr5JAzczMzMzMdUB7FK5H4cyFQD0K16NwB4xAexSuR+FIkUCkcD0K1yKYQHsUrkfhiJlAexSuR+GugkB7FK5H4cyFQIXrUbge9YxAcT0K16NwcUCamZmZmU1zQFyPwvUozIVAmpmZmZmZiUDXo3A9CudoQOxRuB6F62NAmpmZmZkFlUD2KFyPwmVWQGZmZmZmplxAH4XrUbheYkCPwvUoXK9iQOF6FK5HaWZASOF6FK5na0Bcj8L1KGxmQClcj8L1KGpA9ihcj8IxcEAfhetRuKZsQK5H4XoU6nhAcT0K16Mkf0AAAAAAAHBRQKRwPQrXY09ASOF6FK5nW0CamZmZmelYQHE9CtejMGFAhetRuB7lXUBmZmZmZu5jQB+F61G4TmNAPQrXo3BtYUAfhetRuE5jQOxRuB6Fa1ZAXI\\u002fC9SjsVUCPwvUoXG9SQGZmZmZmJlZArkfhehTuU0DsUbgehWtWQNejcD0K51RArkfhehTuU0CamZmZmelYQLgehetRWFZApHA9CtcjT0AAAAAAAHBRQGZmZmbmTblA7FG4HoWvckCuR+F6FK5yQBSuR+F6HHZAMzMzMzMjf0AAAAAAABBiQGZmZmZm7mNAXI\\u002fC9ShsZkDsUbgehetjQArXo3A9KmVA16NwPQrnaEA9CtejcOVtQBSuR+F6JG9AmpmZmZkxYECPwvUoXK9iQIXrUbge5V1AmpmZmZkhb0CuR+F6FK5yQAAAAAAAqGdAKVyPwvXsc0CkcD0K1+NYQI\\u002fC9Shc311A9ihcj8JlVkCuR+F6FCZqQM3MzMzMJG9AMzMzMzNvcUDNzMzMzPxsQOF6FK5H0XBAMzMzMzOrZ0AUrkfheiRvQKRwPQrX421AUrgeheuNdEDsUbgeha9yQHsUrkfhIm9ApHA9CtdvcUCamZmZme1zQHsUrkfhCndASOF6FK7PcECuR+F6FGZrQGZmZmZm7nNAcT0K16NwcUCuR+F6FOp4QLgehetRbHZA16NwPQrnaEDXo3A9Csd6QDMzMzMzb3FApHA9Ctdne0DD9Shcjw5yQBSuR+F6jHRA4XoUrkevkkDXo3A9CqmQQGZmZmZmh5JArkfhehTAkUBxPQrXo9iJQClcj8L1IIFAmpmZmZmvgkBcj8L1KOqIQHE9Ctej2IlA7FG4HoUnekBmZmZmZsCBQPYoXI\\u002fCC4dArkfhehTuU0ApXI\\u002fC9WhTQOxRuB6Fa1ZArkfhehTuU0D2KFyPwmVWQB+F61G4Hl9ArkfhehSuckCF61G4HqVXQLgehetRaFtAmpmZmZnpWECPwvUoXN9dQBSuR+F6JF9AzczMzMwsVUDD9ShcjyJaQM3MzMzMLFVAmpmZmZnpWEC4HoXrUShaQK5H4XoUHl9ACtejcD3qaEA9CtejcG1hQKRwPQrX41hA9ihcj8LNYEAUrkfheiRfQBSuR+F6rGJAH4XrUbhOY0AAAAAAABBiQPYoXI\\u002fCjWRAFK5H4XqsYkCPwvUoXK9SQB+F61G4LmBAKVyPwvXIZEDsUbgehetjQOxRuB6FC2dAuB6F61FwYUCkcD0K10tjQIXrUbge5V1ApHA9CtejbECuR+F6FCZqQK5H4XoUzmBASOF6FK5na0DXo3A9CudoQM3MzMzMJG9A16NwPQrnaEAK16NwPSplQNejcD0K52hAzczMzMxka0DhehSuR2lmQJqZmZmZIW9APQrXo3BtVEAUrkfhemxmQEjhehSur2JAmpmZmZkhb0DsUbgehetuQIXrUbge0XBAw\\u002fUoXI9KeECuR+F6FK5yQB+F61G4wn9AuB6F61EogEDhehSuR6uHQFyPwvUozIVASOF6FK6DfkB7FK5H4a6CQM3MzMzMRH1AhetRuB5fgkC4HoXrUWyGQClcj8L1IIFA7FG4HoWvckAUrkfheox0QClcj8L1IIFAZmZmZmZGbUDsUbgeha9yQDMzMzMzS2dAhetRuB5Fa0AfhetRuKZsQK5H4XoURm1Aj8L1KFzLdUB7FK5H4cJtQLgehetRMHBAmpmZmZlNc0DXo3A9Csd6QGZmZmZmJJ9AcT0K16MgkUDXo3A9CqmQQIXrUbge5V1AmpmZmZkxYECkcD0K1+NXQIXrUbge5V1AhetRuB7lXUAfhetRuN5eQJqZmZmZMWBAPQrXo3BtYUCPwvUoXK9SQPYoXI\\u002fC5VRAuB6F61EIW0CamZmZmelYQD0K16NwbWFAFK5H4XqsYkDXo3A9CudcQHE9CtejKGFAZmZmZmbGYEDsUbgehetjQOF6FK5HaWZAUrgehethW0BxPQrXo6BcQOxRuB6Fa1ZAj8L1KFyvUkC4HoXrUShaQGZmZmZmplxAAAAAAABwUUBSuB6F62FbQOF6FK5HMVBAexSuR+EqV0CPwvUoXK9SQAAAAAAAwE5AKVyPwvUoUkDNzMzMzOxUQEjhehSur7JAMzMzMzNvcUCuR+F6FOp4QPYoXI\\u002fCMXBAH4XrUbimbECuR+F6FK5yQArXo3A9IIFAw\\u002fUoXI9KeED2KFyPwjFwQAAAAAAAEHJAPQrXo3BtYUD2KFyPwo1kQB+F61G4Hl9AmpmZmZnpWEAUrkfheiRfQIXrUbge5V1AXI\\u002fC9ShsZkCF61G4Hi1lQFK4HoXr6WhApHA9CtfjaEBI4XoUrmdbQIXrUbge5V1AuB6F61FwYUCamZmZmTFgQLgehetRcGFAzczMzMy8XUCF61G4Hs1hQK5H4XoUXl5AFK5H4XqsYkBcj8L1KGxmQOF6FK5HaWZAUrgehevpaEBSuB6F6+loQI\\u002fC9ShcR2xAH4XrUbimbEA9CtejcG1hQB+F61G4LmBAzczMzMwsYkAfhetRuE5jQGZmZmZmtmNAhetRuB7lXUCF61G4Hi1lQIXrUbgeLWVA7FG4HoULZ0DXo3A9CudoQI\\u002fC9ShcP2ZAZmZmZmbmaEC4HoXrUXBhQEjhehSuz3BAFK5H4Xokb0CF61G4HtFwQKRwPQrXb3FAj8L1KFyvYkApXI\\u002fC9dhuQFK4HoXrjXRA7FG4HoWvckBSuB6F6410QIXrUbge0XBAUrgehevpaEBmZmZmZu5jQOF6FK5HaWZA4XoUrkeJaUCamZmZmalZQKRwPQrX41hAhetRuB4tZUAfhetRuN5dQLgehetRcGFAzczMzMz8YUB7FK5H4YpkQFK4HoXr6WhAuB6F61FOg0A=\"},\"type\":\"scatter\"},{\"mode\":\"markers\",\"name\":\"refresh_rate\",\"visible\":false,\"x\":{\"dtype\":\"i2\",\"bdata\":\"PAA8ADwAPAA8ADwAPAA8ADwAPAA8ADwAPAA8ADwAeAB4AHgAeAB4AHgAPAA8ADwAPAA8ADwAPAB4AHgAeAB4AHgAeAB4ADwAeAB4AHgAeAA8ADwAPAA8ADwAPACQAKUApQClAKUApQB4ADwAPAA8AFoAPAB4ADwAPAA8ADwAPAA8ADwAWgA8AFoAeAB4ADwAWgB4AFoAeAB4AHgAeAB4AHgAeAB4ADwAPABaAFoAPAA8AHgAPAA8AFoAeAB4ADwAeAB4AFoAPAB4AFoAPABaAFoAeAA8ADwAPABaAFoAWgBaAFoAeAB4AFoAPAA8ADwAeAA8ADwAPAA8ADwAPAA8AHgAPAA8ADwAPAA8AFoAeAB4AHgAkACQAJAAeAB4AHgAeAB4AHgAeAB4AHgAeAB4AHgAeAB4AHgAeAB4AHgAeAB4AHgAeABaAFoAWgB4AJAAeAB4ADwAPAA8ADwAPAA8ADwAPAA8ADwAWgA8ADwAPABaAFoAPAA8ADwA8ACQAJAAPAA8ADwAPAA8ADwAPAA8ADwAPAA8AFoAkACQAJAAkACQAJAAkACQAKUAWgBaADwAWgBaAFoAWgBaAHgAkAB4AJAAPABaAFoAWgA8ADwAWgB4ADwAeABaAFoAWgB4AHgAeAB4ADwAeAB4AHgAeAB4ADwAkACQAKUAPAA8AJAAPAA8ADwAWgBaAFoAeAB4ADwAWgA8AJAAkAB4AHgAeAB4AHgApQB4AHgAeACQAJAAeAB4AHgAeAB4AHgAeAB4AHgAeAB4AHgAkAA8AHgAeAB4AHgAeAB4AHgAPAB4AFoAWgBaAFoAeAB4AHgAeAB4AHgAeABaAFoAWgA8AFoAWgA8AFoAeAA8ADwAPAA8ADwAPAA8ADwAPAA8AFoAPAA8ADwAPAA8ADwAPAA8ADwAPABaAFoAPABaAFoAPAA8AFoAWgBaAFoAPABaAHgAPAA8ADwAPAA8AFoAPAA8AFoAeABaAFoAeAB4AHgAeAB4AHgAeAB4AHgAWgBaAFoAeAB4ADwAeAB4AHgAPABaAFoAWgBaAFoAWgB4AHgAeAA8AHgAeAB4AHgAeAB4AFoAWgA8AFoAPAA8AHgAPAA8ADwAPAA8ADwAeAB4AHgAeAB4AHgAeAB4ADwAPAA8AFoAWgBaAFoAWgBaAFoAWgBaAFoAWgBaAHgAeAB4AHgAkACQAHgAeAB4AHgAkAB4AHgAWgBaAFoAeAB4AHgAeABaAHgAWgBaAFoAPAA8ADwAWgBaAHgAeABaAFoAWgBaAFoAWgCQAJAAeAB4AFoAWgBaAFoAWgBaAFoAWgA8ADwAPAA8ADwAPAA8ADwAPAA8ADwAPAA8ADwAPAA8ADwAPABaAFoAPAB4AHgAeAB4AHgAeAB4AHgAeAB4AHgAkAB4AHgAPABaAHgAeAB4AFoAWgBaAFoAWgA8ADwAPAA8ADwAPAA8ADwAeAA8AHgAWgBaAHgAPAA8AHgAeAA8ADwAPAA8ADwAPAA8ADwAPAA8ADwAPABaAFoAPAA8ADwAPAA8ADwAPABaAFoAWgBaADwAPAA8AFoAPAA8AHgAeAA8AFoAWgBaAFoAWgBaADwAPABaAFoAeAB4AHgAeAA8ADwAeAB4AHgAeAB4AHgAPAA8ADwAWgA8ADwAPABaAFoAeAB4AHgAPABaAFoAPAA8ADwAWgA8ADwAWgBaADwAPABaAFoAWgBaAHgAeAB4ADwAPAA8AHgAeABaADwAPAA8ADwAPAB4ADwAPAB4ADwAeAB4AHgAPAA8AHgAeAB4AHgAeAB4AHgAeAB4AHgAeAB4AHgAeAB4ADwAeAB4AJAAPAB4AHgAeAB4AHgAPAA8AHgAWgA8AHgAeAB4ADwAeAA8AFoAPABaAHgAeAB4AHgAWgB4AHgAeAA8ADwAPABaAFoAWgBaAHgAWgB4ADwAPABaAFoAPABaAFoAWgBaADwAPAA8ADwAPAB4AHgAeAA8ADwAPAB4AHgAeABaAFoAWgBaAFoAeABaAHgAeAA8ADwAWgA8ADwAPAA8ADwAPABaAFoAPABaAFoAWgBaAFoAPAA8AFoAWgB4AHgAWgB4AHgAkAB4AHgAeAB4AHgAeAB4AHgAeAB4AHgAeAB4AHgAPAA8ADwAPAA8ADwAeAA8ADwAPAA8ADwAPAA8ADwAPAA8ADwAPAA8ADwAPAA8ADwAWgA8ADwAWgA8ADwAPABaAFoAPAA8ADwAeAA8ADwAPAA8ADwAPAA8ADwAPAB4AFoAPAA8ADwAeAB4AHgAeAB4AHgAeAB4AHgAeAB4AHgAeAB4AHgAeAB4AFoAkACQAFoAWgBaAHgAeAB4AHgAeAB4ADwAWgB4ADwAPAA8ADwAPABaAFoAWgA8ADwAPAA8ADwAPABaAFoAWgBaAHgAWgA8ADwAPAA8ADwAPAA8ADwAPAA8ADwAPAA8ADwAeACQAJAAkAB4AHgAeAB4AHgAPAA8AFoAPAA8ADwAeAB4AHgAeAA8ADwAPABaAFoAWgBaAFoAWgB4AHgAeAB4AHgAeABaAFoAWgBaAFoAPABaAFoAWgCQAHgAeAB4AHgAeAB4AHgAeAB4AHgAeAB4AHgAeABaAHgAeAA8ADwAPAA8ADwAPAA8AHgAeAA=\"},\"y\":{\"dtype\":\"f8\",\"bdata\":\"w\\u002fUoXI9KeEAK16NwPUZ9QNejcD0KHZFA9ihcj8IxgEAfhetRuHCBQD0K16NwLYVAmpmZmZmJeUB7FK5H4aZ8QB+F61G4cIFASOF6FK6rkkApXI\\u002fC9ciVQM3MzMzMnoNArkfhehS8hkB7FK5H4aaMQLgehetRNoRASOF6FK6rkkB7FK5H4QeXQLgehetROpRAuB6F61E6lEDsUbgehQOcQClcj8L1yJVAAAAAAACOhEDhehSuR6uHQKRwPQrX5Y1AXI\\u002fC9SjMhUDsUbgehVuHQM3MzMzMeIpASOF6FK5ZkEDhehSuR6+SQD0K16Nw8JpAUrgehes9lEBSuB6F6z2UQK5H4XoUf5xAw\\u002fUoXI\\u002fMlUB7FK5H4XSaQHE9Ctej2IlArkfhehR4ikDNzMzMzGWUQFyPwvUoRJZAmpmZmZlXl0DNzMzMzICAQK5H4XoUrnJACtejcD3aeEBcj8L1KFh7QDMzMzMzI39AuB6F61FshkCuR+F6FOp4QLgehetRbIZArkfhehS8hkA9CtejcAeMQFK4HoXr0JBAw\\u002fUoXI+qh0D2KFyPwu2DQPYoXI\\u002fCZVZAFK5H4XqsYkCPwvUoXK9iQI\\u002fC9Shcr2JAj8L1KFyvYkB7FK5H4aZ8QKRwPQrX41hAuB6F61HYTkAAAAAAAHBRQI\\u002fC9Shcr1JA7FG4HoXrY0BmZmZmZu5jQHE9CtejEGlAFK5H4XpsdkBSuB6F6410QB+F61G4NnlAMzMzMzPpgEC4HoXrUdKIQOxRuB6Fr3JA7FG4HoWJgECamZmZmYmJQI\\u002fC9Shcy3VAFK5H4XrQgEBSuB6F6xuGQBSuR+F6jHRAmpmZmZkhb0BxPQrXo+h4QJqZmZmZTXNACtejcD0ggUCPwvUoXJWNQJqZmZmZ6VhAuB6F61FwYUC4HoXrUXBhQIXrUbgeLWVAFK5H4XqsYkCF61G4Hi1lQHE9CtejcHFASOF6FK5HW0BI4XoULr2gQFyPwvUozIVAAAAAAAAkj0Bcj8L1qK+iQAAAAAAAUZpAPQrXo3BhmUCuR+F6FK5yQD0K16Nw5W1AzczMzMxka0CuR+F6FK5yQNejcD0K52hAzczMzMxka0CkcD0K16NsQHE9Ctej2IlAj8L1KFz\\u002fgkBxPQrXo\\u002fBQQK5H4XoU7lNAPQrXo3AtVEAUrkfheiRYQJqZmZmZ6VhAMzMzMzMzVkC4HoXrUQhbQB+F61G4vl5AXI\\u002fC9ShsZkBSuB6F6+loQOxRuB6Fa1ZAmpmZmZnpWECamZmZmTFgQDMzMzMz419AZmZmZmbuY0BmZmZmZiZdQJqZmZmZMWBAhetRuB4tZUBmZmZmZu5jQPYoXI\\u002fCDWVAexSuR+GqZ0CPwvUoXK9iQFK4HoXr6WhAmpmZmZnpWECF61G4Hi1lQM3MzMzMPFJAAAAAAABwUUA9CtejcK1UQFyPwvUobGZAw\\u002fUoXI9KaEBI4XoUrgt3QM3MzMzMZGtACtejcD0+hECamZmZma+CQIXrUbgeX4JAmpmZmZkhb0B7FK5H4Wp2QHE9Ctej6HhAj8L1KFzLdUBxPQrXo+h4QHsUrkfhroJAmpmZmZlNc0DNzMzMzMR1QLgehetR5H1AAAAAAAAQckA9CtejcAV1QKRwPQrXo2xA7FG4HoWvckAUrkfheox0QJqZmZmZIW9AzczMzMwMYkBmZmZmZu5jQB+F61G4TmNACtejcD0aZUAzMzMzMwtnQB+F61G4TmNAhetRuB5tYUAUrkfheiRrQHE9CtejcHFArkfhehQmbUBcj8L1KGxmQBSuR+F6JG9Aj8L1KFyvYkDXo3A9CudoQM3MzMzM7ENAexSuR+HaR0CamZmZmdlNQHsUrkfhWktA7FG4HoUrUECamZmZmdlNQArXo3A9alFAmpmZmZlZTUBxPQrXo7BQQDMzMzMz00xAj8L1KFzfXUAK16NwPSpHQI\\u002fC9Shcr1JA7FG4HoVrRkDhehSuR2lmQEjhehSuZ1tA7FG4HoVrVkAAAAAAAHBRQEjhehSuZ1tAmpmZmZl2k0CamZmZma+CQM3MzMzMRH1AZmZmZmZmS0CF61G4HuVNQAAAAAAAcFFAPQrXo3DpiEApXI\\u002fC9SCBQClcj8L1IIFA4XoUrkfhQ0DD9Shcj2JDQAAAAAAAcFFAKVyPwvVoU0CF61G4HuVNQHsUrkfhqmdAH4XrUbimbEAUrkfheiRvQK5H4XoU6nhAzczMzMzMdUApXI\\u002fC9SCBQJqZmZmZr4JAzczMzMzMdUDXo3A9Csd6QHsUrkfhroJAXI\\u002fC9SgQgkAUrkfhegRsQLgehetRKFpACtejcD16VkDsUbgehWtWQLgehetR6FNAw\\u002fUoXI8SVkCuR+F6FO5TQClcj8L17HNAw\\u002fUoXI\\u002fibUCPwvUoXMt1QHsUrkfhroJA16NwPQrnaEBmZmZmZu5jQHsUrkfhqldAUrgehevpaECamZmZmelYQIXrUbge5V1AuB6F61EoWkAAAAAAABBiQEjhehSuZ1tAmpmZmZkxYECF61G4HuVdQJqZmZmZMWBAhetRuB4tZUBI4XoUrmdrQGZmZmZm7mNA9ihcj8KNZECPwvUoXK9iQIXrUbgeLWVA16NwPQrnaEBmZmZmZu5jQPYoXI\\u002fCMXBA4XoUrkeJaUB7FK5H4apnQNejcD0K52hAw\\u002fUoXI\\u002fibUDsUbgehSd6QK5H4XoU6nhAw\\u002fUoXI9KaEBxPQrXo6BcQDMzMzMzI39ASOF6FK4nSkDsUbgehWtWQHsUrkfhqldAuB6F61EoWkCF61G4HuVdQClcj8L10GBAXI\\u002fC9SjAcUAK16NwPUZ9QOF6FK5HaWZA7FG4HoUnekDNzMzMzMx1QHE9Ctej6HhAMzMzMzMjf0DhehSuR6lwQLgehetRbHZAFK5H4XqYcUCamZmZmSFvQHE9Ctej6HhAj8L1KFwHfEBxPQrXo\\u002f6CQM3MzMzMRH1Aj8L1KFz\\u002fgkAzMzMzMyN\\u002fQM3MzMzMzHVAj8L1KFz\\u002fgkCuR+F6FGaEQOxRuB6FW4dAUrgeheuNdEBI4XoUrgt3QNejcD0KC3ZAj8L1KFwHfEBcj8L1KMR\\u002fQB+F61G4cIFAKVyPwvUggUB7FK5H4cyFQK5H4XoU6nhAexSuR+HMhUBxPQrXo3BxQGZmZmZmLoRAFK5H4XrIekCPwvUoXAd8QM3MzMzMzHVAw\\u002fUoXI8OckC4HoXrUeR9QKRwPQrXo2xAj8L1KFyvYkAfhetRuKZsQJqZmZmZHXVAAAAAAAAQckBxPQrXo3BxQK5H4XoUrnJA7FG4HoWvckDNzMzMzMx1QB+F61G45mhAZmZmZmZma0AUrkfheiRvQEjhehSuZ2tAexSuR+GqZ0BSuB6F6+loQMP1KFyP4m9ACtejcD0qZUCuR+F6FCZqQArXo3A9KmVAAAAAAACoZ0BSuB6F6+loQBSuR+F6JG9ArkfhehQmakCkcD0K1+NYQJqZmZmZ6VhAcT0K16OgXECF61G4HuVdQOxRuB6Fa1ZA7FG4HoVrVkBI4XoUrmdbQBSuR+F6JF9AexSuR+GqV0AfhetRuB5fQD0K16NwbWFAhetRuB5lXkCPwvUoXN9dQI\\u002fC9Shcr2JAKVyPwvXQYEAAAAAAAFBiQOF6FK5HaWZA4XoUrkdpZkCamZmZmTFgQI\\u002fC9Shc311A16NwPQpnYUAAAAAAAKhnQD0K16NwbWFA7FG4HoXrY0CkcD0K10tjQHsUrkfhimRAH4XrUbhOY0CuR+F6FO5jQM3MzMzMZGtAXI\\u002fC9ShsZkB7FK5H4apnQFyPwvUobGZApHA9CtejbEDD9Shcj+JtQJqZmZmZTXNAAAAAAACoZ0AUrkfheqxiQMP1KFyPamZA16NwPQrnaEB7FK5H4epjQClcj8L1KGpAKVyPwvUscECF61G4HiFwQAAAAAAASGtAw\\u002fUoXI86cUDXo3A9CudoQDMzMzMzb3FAzczMzMy6jEAfhetRuAaMQAAAAAAAJI9Aj8L1KFyVjUBSuB6F6xuGQB+F61G4wn9APQrXo3DpiEBcj8L1KMyFQAAAAAAASohArkfhehTOYEAK16NwPSplQIXrUbgeLWVArkfhehSuckAK16NwPSplQNejcD0K52hAUrgeheuNdEDXo3A9Csd6QIXrUbgeX4JArkfhehSuckB7FK5H4Rp4QKRwPQrXo2xAZmZmZmZucECamZmZmeV2QFK4HoXrBXxAFK5H4XqMdEDXo3A9Csd6QHsUrkfhpnxAexSuR+GmfEBI4XoUrs9wQK5H4XoUrnJAUrgehevpaEC4HoXrUcBxQK5H4XoU6nhAexSuR+GmfECkcD0K16NsQClcj8L1MHBAmpmZmZntc0Bcj8L1KGxmQGZmZmZmRnJAmpmZmZkFlUCuR+F6FK5yQKRwPQrXo2xA9ihcj8IhcEDhehSuRzFQQI\\u002fC9Shcr1JA4XoUrkcxUECPwvUoXC9SQK5H4XoU7lNAUrgeheuNdEDsUbgeha9yQPYoXI\\u002fCMXBAcT0K16NwcUCuR+F6FOp4QI\\u002fC9Shcy3VAFK5H4XrIekDsUbgeha9yQFK4HoXrIVtAMzMzMzPjX0BmZmZmZqZcQGZmZmZm7mNASOF6FK5vYkBmZmZmZqZcQClcj8L10GBAhetRuB7lXUCamZmZmTFgQLgehetRcGFAmpmZmZkxYECPwvUoXK9iQGZmZmZm7mNASOF6FK7nWkAAAAAAABBiQNejcD0K52hAKVyPwvXQYEDD9Shcj3poQBSuR+F6rGJAmpmZmZkhb0DD9Shcjw5yQI\\u002fC9Shcr2JA9ihcj8KNZEBcj8L1KGxmQI\\u002fC9Shcr2JArkfhehSuckApXI\\u002fC9ShqQFK4HoXr6WhAuB6F61FwYUCF61G4Hi1lQAAAAAAAEGJAexSuR+GqZ0BSuB6F6+loQBSuR+F6JG9AcT0K16NwcUCamZmZmTFgQAAAAAAAEHJAFK5H4Xokb0BmZmZmZi5gQIXrUbgeDWJASOF6FK5na0BmZmZmZu5jQFyPwvUobGZA9ihcj8KNZEDsUbgehQtnQBSuR+F6JF9AuB6F61FwYUBcj8L1KGxmQM3MzMzMzGVAj8L1KFyvYkBmZmZmZu5jQLgehetRcGFAH4XrUbhOY0B7FK5H4apnQGZmZmZmpmxAexSuR+GqZ0ApXI\\u002fC9ShqQFK4HoXrIXBAhetRuB6lbEDsUbgehYNuQBSuR+F6JF9AuB6F61FwYUCPwvUoXK9iQBSuR+F6pGJAhetRuB4tZUDsUbgehWtWQOxRuB6FK1BA4XoUrkcxUEAfhetRuE5TQAAAAAAAcFFAAAAAAABwUUDsUbgehWtWQI\\u002fC9Shcb0FASOF6FK5nSkCkcD0K12NPQD0K16NwzVFA9ihcj8JlVkA9CtejcK1UQOxRuB6Fa1ZAexSuR+GqV0DNzMzMzExWQJqZmZmZ6VhAuB6F61F4XUBcj8L1KNxfQLgehetRcGFArkfhehTuU0AzMzMzMw9yQFyPwvUoiHlACtejcD0ef0AK16NwPUZ9QArXo3A9TnNAFK5H4XqMdEBxPQrXo3BxQJqZmZmZ7XNAFK5H4Xokb0A9CtejcIFwQLgehetRwHFA7FG4HoWvckDNzMzMzMx1QGZmZmZm7nNAuB6F61EoWkCF61G4Hi1lQFK4HoXr6WhASOF6FK5nW0AfhetRuE5jQFyPwvUobGZAj8L1KFyvYkApXI\\u002fC9dBgQGZmZmZmhmlAH4XrUbimbEBmZmZmZqZcQGZmZmZmZlxAKVyPwvWYXUDsUbgehStQQOxRuB6Fa1ZArkfhehTuU0CamZmZmblVQJqZmZmZ6VhAj8L1KFyvYkBSuB6F62FbQBSuR+F6rGJAcT0K16NwcUAUrkfheiRvQIXrUbge0XBAexSuR+GKYECuR+F6FO5TQHsUrkfhqmdAUrgehevpaEAAAAAAACGRQMP1KFyPW5dAKVyPwvXoSECPwvUoXA9SQGZmZmZmplxA4XoUrkcxUEDNzMzMzCxVQIXrUbge5V1AmpmZmZkxYEB7FK5H4SpXQArXo3A9ylhAZmZmZmamXEAfhetRuC5gQAAAAAAAEGJAH4XrUbguYECkcD0K1+NYQIXrUbge5V1AuB6F61FwYUC4HoXrUQBiQI\\u002fC9Shcr2JA9ihcj8KNZEDhehSuR2lmQPYoXI\\u002fCjWRAexSuR+GqZ0ApXI\\u002fC9ShqQOxRuB6F62NAzczMzMzMZUDsUbgehQtnQOF6FK5HaWZA7FG4HoULZ0DXo3A9CudoQB+F61G4pmxAFK5H4Xokb0Bcj8L1KGxmQPYoXI\\u002fCjWRA9ihcj8KNZECF61G4HoVuQPYoXI\\u002fCMXBAKVyPwvUgcUAUrkfheiRvQOF6FK5HaWZA7FG4HoXrY0CamZmZmSFvQPYoXI\\u002fCBWxAAAAAAAC8dkBmZmZmZu5zQJqZmZmZ3XRAzczMzMzMdUA9CtejcMVqQPYoXI\\u002fCBWxAKVyPwvUoekDsUbgehSd6QBSuR+F6yHpAj8L1KFwHfEBxPQrXo+h4QHE9Ctej6HhAcT0K16PoeEC4HoXrUeR9QM3MzMzMLFVAuB6F61EoWkBI4XoUrmdbQIXrUbge5V1AFK5H4XqsYkBmZmZmZqZcQClcj8L10GBAZmZmZmbuY0CF61G4Hi1lQI\\u002fC9Shcr2JAUrgehevpaECkcD0K10tjQB+F61G4pmxASOF6FK5na0DNzMzMzCxVQHsUrkfhqldASOF6FK5nW0CamZmZmTFgQFyPwvUofFpAuB6F61FwYUAAAAAAACBgQI\\u002fC9Shcr2JAZmZmZmY2XUCuR+F6FM5eQIXrUbgeDWJAw\\u002fUoXI8yXkDD9Shcj4JiQK5H4XoUxmVAw\\u002fUoXI9KaECF61G4Hi1lQB+F61G4pmxAmpmZmZkhb0CamZmZmSFvQHsUrkfhom1AKVyPwvWAb0DNzMzMzMx1QD0K16Nw5W1ArkfhehTqeECkcD0K11+CQHE9Ctej9oxAcT0K16PIikBI4XoUrlmQQEjhehSumYhAFK5H4XrIekApXI\\u002fC9Sh6QOxRuB6FW4dAexSuR+EadkDhehSuR3VzQD0K16Nw2YlApHA9CtfHikAfhetRuCSPQD0K16NwdX5ArkfhehTqeECkcD0K12d7QKRwPQrXg4JAw\\u002fUoXI+BkEBcj8L1KMSPQHE9CtejJH9AXI\\u002fC9SgQgkD2KFyPwjGAQGZmZmZmEoRASOF6FK63i0B7FK5H4aaMQPYoXI\\u002fCh5JAAAAAAAAkj0BSuB6F6xuGQClcj8L1IIFArkfhehR4ikApXI\\u002fC9eeRQOF6FK5Hr5JAzczMzMzMdUB7FK5H4cyFQD0K16NwB4xAexSuR+FIkUCkcD0K1yKYQHsUrkfhiJlAexSuR+GugkB7FK5H4cyFQIXrUbge9YxAcT0K16NwcUCamZmZmU1zQFyPwvUozIVAmpmZmZmZiUDXo3A9CudoQOxRuB6F62NAmpmZmZkFlUD2KFyPwmVWQGZmZmZmplxAH4XrUbheYkCPwvUoXK9iQOF6FK5HaWZASOF6FK5na0Bcj8L1KGxmQClcj8L1KGpA9ihcj8IxcEAfhetRuKZsQK5H4XoU6nhAcT0K16Mkf0AAAAAAAHBRQKRwPQrXY09ASOF6FK5nW0CamZmZmelYQHE9CtejMGFAhetRuB7lXUBmZmZmZu5jQB+F61G4TmNAPQrXo3BtYUAfhetRuE5jQOxRuB6Fa1ZAXI\\u002fC9SjsVUCPwvUoXG9SQGZmZmZmJlZArkfhehTuU0DsUbgehWtWQNejcD0K51RArkfhehTuU0CamZmZmelYQLgehetRWFZApHA9CtcjT0AAAAAAAHBRQGZmZmbmTblA7FG4HoWvckCuR+F6FK5yQBSuR+F6HHZAMzMzMzMjf0AAAAAAABBiQGZmZmZm7mNAXI\\u002fC9ShsZkDsUbgehetjQArXo3A9KmVA16NwPQrnaEA9CtejcOVtQBSuR+F6JG9AmpmZmZkxYECPwvUoXK9iQIXrUbge5V1AmpmZmZkhb0CuR+F6FK5yQAAAAAAAqGdAKVyPwvXsc0CkcD0K1+NYQI\\u002fC9Shc311A9ihcj8JlVkCuR+F6FCZqQM3MzMzMJG9AMzMzMzNvcUDNzMzMzPxsQOF6FK5H0XBAMzMzMzOrZ0AUrkfheiRvQKRwPQrX421AUrgeheuNdEDsUbgeha9yQHsUrkfhIm9ApHA9CtdvcUCamZmZme1zQHsUrkfhCndASOF6FK7PcECuR+F6FGZrQGZmZmZm7nNAcT0K16NwcUCuR+F6FOp4QLgehetRbHZA16NwPQrnaEDXo3A9Csd6QDMzMzMzb3FApHA9Ctdne0DD9Shcjw5yQBSuR+F6jHRA4XoUrkevkkDXo3A9CqmQQGZmZmZmh5JArkfhehTAkUBxPQrXo9iJQClcj8L1IIFAmpmZmZmvgkBcj8L1KOqIQHE9Ctej2IlA7FG4HoUnekBmZmZmZsCBQPYoXI\\u002fCC4dArkfhehTuU0ApXI\\u002fC9WhTQOxRuB6Fa1ZArkfhehTuU0D2KFyPwmVWQB+F61G4Hl9ArkfhehSuckCF61G4HqVXQLgehetRaFtAmpmZmZnpWECPwvUoXN9dQBSuR+F6JF9AzczMzMwsVUDD9ShcjyJaQM3MzMzMLFVAmpmZmZnpWEC4HoXrUShaQK5H4XoUHl9ACtejcD3qaEA9CtejcG1hQKRwPQrX41hA9ihcj8LNYEAUrkfheiRfQBSuR+F6rGJAH4XrUbhOY0AAAAAAABBiQPYoXI\\u002fCjWRAFK5H4XqsYkCPwvUoXK9SQB+F61G4LmBAKVyPwvXIZEDsUbgehetjQOxRuB6FC2dAuB6F61FwYUCkcD0K10tjQIXrUbge5V1ApHA9CtejbECuR+F6FCZqQK5H4XoUzmBASOF6FK5na0DXo3A9CudoQM3MzMzMJG9A16NwPQrnaEAK16NwPSplQNejcD0K52hAzczMzMxka0DhehSuR2lmQJqZmZmZIW9APQrXo3BtVEAUrkfhemxmQEjhehSur2JAmpmZmZkhb0DsUbgehetuQIXrUbge0XBAw\\u002fUoXI9KeECuR+F6FK5yQB+F61G4wn9AuB6F61EogEDhehSuR6uHQFyPwvUozIVASOF6FK6DfkB7FK5H4a6CQM3MzMzMRH1AhetRuB5fgkC4HoXrUWyGQClcj8L1IIFA7FG4HoWvckAUrkfheox0QClcj8L1IIFAZmZmZmZGbUDsUbgeha9yQDMzMzMzS2dAhetRuB5Fa0AfhetRuKZsQK5H4XoURm1Aj8L1KFzLdUB7FK5H4cJtQLgehetRMHBAmpmZmZlNc0DXo3A9Csd6QGZmZmZmJJ9AcT0K16MgkUDXo3A9CqmQQIXrUbge5V1AmpmZmZkxYECkcD0K1+NXQIXrUbge5V1AhetRuB7lXUAfhetRuN5eQJqZmZmZMWBAPQrXo3BtYUCPwvUoXK9SQPYoXI\\u002fC5VRAuB6F61EIW0CamZmZmelYQD0K16NwbWFAFK5H4XqsYkDXo3A9CudcQHE9CtejKGFAZmZmZmbGYEDsUbgehetjQOF6FK5HaWZAUrgehethW0BxPQrXo6BcQOxRuB6Fa1ZAj8L1KFyvUkC4HoXrUShaQGZmZmZmplxAAAAAAABwUUBSuB6F62FbQOF6FK5HMVBAexSuR+EqV0CPwvUoXK9SQAAAAAAAwE5AKVyPwvUoUkDNzMzMzOxUQEjhehSur7JAMzMzMzNvcUCuR+F6FOp4QPYoXI\\u002fCMXBAH4XrUbimbECuR+F6FK5yQArXo3A9IIFAw\\u002fUoXI9KeED2KFyPwjFwQAAAAAAAEHJAPQrXo3BtYUD2KFyPwo1kQB+F61G4Hl9AmpmZmZnpWEAUrkfheiRfQIXrUbge5V1AXI\\u002fC9ShsZkCF61G4Hi1lQFK4HoXr6WhApHA9CtfjaEBI4XoUrmdbQIXrUbge5V1AuB6F61FwYUCamZmZmTFgQLgehetRcGFAzczMzMy8XUCF61G4Hs1hQK5H4XoUXl5AFK5H4XqsYkBcj8L1KGxmQOF6FK5HaWZAUrgehevpaEBSuB6F6+loQI\\u002fC9ShcR2xAH4XrUbimbEA9CtejcG1hQB+F61G4LmBAzczMzMwsYkAfhetRuE5jQGZmZmZmtmNAhetRuB7lXUCF61G4Hi1lQIXrUbgeLWVA7FG4HoULZ0DXo3A9CudoQI\\u002fC9ShcP2ZAZmZmZmbmaEC4HoXrUXBhQEjhehSuz3BAFK5H4Xokb0CF61G4HtFwQKRwPQrXb3FAj8L1KFyvYkApXI\\u002fC9dhuQFK4HoXrjXRA7FG4HoWvckBSuB6F6410QIXrUbge0XBAUrgehevpaEBmZmZmZu5jQOF6FK5HaWZA4XoUrkeJaUCamZmZmalZQKRwPQrX41hAhetRuB4tZUAfhetRuN5dQLgehetRcGFAzczMzMz8YUB7FK5H4YpkQFK4HoXr6WhAuB6F61FOg0A=\"},\"type\":\"scatter\"}],                        {\"template\":{\"data\":{\"histogram2dcontour\":[{\"type\":\"histogram2dcontour\",\"colorbar\":{\"outlinewidth\":0,\"ticks\":\"\"},\"colorscale\":[[0.0,\"#0d0887\"],[0.1111111111111111,\"#46039f\"],[0.2222222222222222,\"#7201a8\"],[0.3333333333333333,\"#9c179e\"],[0.4444444444444444,\"#bd3786\"],[0.5555555555555556,\"#d8576b\"],[0.6666666666666666,\"#ed7953\"],[0.7777777777777778,\"#fb9f3a\"],[0.8888888888888888,\"#fdca26\"],[1.0,\"#f0f921\"]]}],\"choropleth\":[{\"type\":\"choropleth\",\"colorbar\":{\"outlinewidth\":0,\"ticks\":\"\"}}],\"histogram2d\":[{\"type\":\"histogram2d\",\"colorbar\":{\"outlinewidth\":0,\"ticks\":\"\"},\"colorscale\":[[0.0,\"#0d0887\"],[0.1111111111111111,\"#46039f\"],[0.2222222222222222,\"#7201a8\"],[0.3333333333333333,\"#9c179e\"],[0.4444444444444444,\"#bd3786\"],[0.5555555555555556,\"#d8576b\"],[0.6666666666666666,\"#ed7953\"],[0.7777777777777778,\"#fb9f3a\"],[0.8888888888888888,\"#fdca26\"],[1.0,\"#f0f921\"]]}],\"heatmap\":[{\"type\":\"heatmap\",\"colorbar\":{\"outlinewidth\":0,\"ticks\":\"\"},\"colorscale\":[[0.0,\"#0d0887\"],[0.1111111111111111,\"#46039f\"],[0.2222222222222222,\"#7201a8\"],[0.3333333333333333,\"#9c179e\"],[0.4444444444444444,\"#bd3786\"],[0.5555555555555556,\"#d8576b\"],[0.6666666666666666,\"#ed7953\"],[0.7777777777777778,\"#fb9f3a\"],[0.8888888888888888,\"#fdca26\"],[1.0,\"#f0f921\"]]}],\"contourcarpet\":[{\"type\":\"contourcarpet\",\"colorbar\":{\"outlinewidth\":0,\"ticks\":\"\"}}],\"contour\":[{\"type\":\"contour\",\"colorbar\":{\"outlinewidth\":0,\"ticks\":\"\"},\"colorscale\":[[0.0,\"#0d0887\"],[0.1111111111111111,\"#46039f\"],[0.2222222222222222,\"#7201a8\"],[0.3333333333333333,\"#9c179e\"],[0.4444444444444444,\"#bd3786\"],[0.5555555555555556,\"#d8576b\"],[0.6666666666666666,\"#ed7953\"],[0.7777777777777778,\"#fb9f3a\"],[0.8888888888888888,\"#fdca26\"],[1.0,\"#f0f921\"]]}],\"surface\":[{\"type\":\"surface\",\"colorbar\":{\"outlinewidth\":0,\"ticks\":\"\"},\"colorscale\":[[0.0,\"#0d0887\"],[0.1111111111111111,\"#46039f\"],[0.2222222222222222,\"#7201a8\"],[0.3333333333333333,\"#9c179e\"],[0.4444444444444444,\"#bd3786\"],[0.5555555555555556,\"#d8576b\"],[0.6666666666666666,\"#ed7953\"],[0.7777777777777778,\"#fb9f3a\"],[0.8888888888888888,\"#fdca26\"],[1.0,\"#f0f921\"]]}],\"mesh3d\":[{\"type\":\"mesh3d\",\"colorbar\":{\"outlinewidth\":0,\"ticks\":\"\"}}],\"scatter\":[{\"marker\":{\"line\":{\"color\":\"#283442\"}},\"type\":\"scatter\"}],\"parcoords\":[{\"type\":\"parcoords\",\"line\":{\"colorbar\":{\"outlinewidth\":0,\"ticks\":\"\"}}}],\"scatterpolargl\":[{\"type\":\"scatterpolargl\",\"marker\":{\"colorbar\":{\"outlinewidth\":0,\"ticks\":\"\"}}}],\"bar\":[{\"error_x\":{\"color\":\"#f2f5fa\"},\"error_y\":{\"color\":\"#f2f5fa\"},\"marker\":{\"line\":{\"color\":\"rgb(17,17,17)\",\"width\":0.5},\"pattern\":{\"fillmode\":\"overlay\",\"size\":10,\"solidity\":0.2}},\"type\":\"bar\"}],\"scattergeo\":[{\"type\":\"scattergeo\",\"marker\":{\"colorbar\":{\"outlinewidth\":0,\"ticks\":\"\"}}}],\"scatterpolar\":[{\"type\":\"scatterpolar\",\"marker\":{\"colorbar\":{\"outlinewidth\":0,\"ticks\":\"\"}}}],\"histogram\":[{\"marker\":{\"pattern\":{\"fillmode\":\"overlay\",\"size\":10,\"solidity\":0.2}},\"type\":\"histogram\"}],\"scattergl\":[{\"marker\":{\"line\":{\"color\":\"#283442\"}},\"type\":\"scattergl\"}],\"scatter3d\":[{\"type\":\"scatter3d\",\"line\":{\"colorbar\":{\"outlinewidth\":0,\"ticks\":\"\"}},\"marker\":{\"colorbar\":{\"outlinewidth\":0,\"ticks\":\"\"}}}],\"scattermap\":[{\"type\":\"scattermap\",\"marker\":{\"colorbar\":{\"outlinewidth\":0,\"ticks\":\"\"}}}],\"scattermapbox\":[{\"type\":\"scattermapbox\",\"marker\":{\"colorbar\":{\"outlinewidth\":0,\"ticks\":\"\"}}}],\"scatterternary\":[{\"type\":\"scatterternary\",\"marker\":{\"colorbar\":{\"outlinewidth\":0,\"ticks\":\"\"}}}],\"scattercarpet\":[{\"type\":\"scattercarpet\",\"marker\":{\"colorbar\":{\"outlinewidth\":0,\"ticks\":\"\"}}}],\"carpet\":[{\"aaxis\":{\"endlinecolor\":\"#A2B1C6\",\"gridcolor\":\"#506784\",\"linecolor\":\"#506784\",\"minorgridcolor\":\"#506784\",\"startlinecolor\":\"#A2B1C6\"},\"baxis\":{\"endlinecolor\":\"#A2B1C6\",\"gridcolor\":\"#506784\",\"linecolor\":\"#506784\",\"minorgridcolor\":\"#506784\",\"startlinecolor\":\"#A2B1C6\"},\"type\":\"carpet\"}],\"table\":[{\"cells\":{\"fill\":{\"color\":\"#506784\"},\"line\":{\"color\":\"rgb(17,17,17)\"}},\"header\":{\"fill\":{\"color\":\"#2a3f5f\"},\"line\":{\"color\":\"rgb(17,17,17)\"}},\"type\":\"table\"}],\"barpolar\":[{\"marker\":{\"line\":{\"color\":\"rgb(17,17,17)\",\"width\":0.5},\"pattern\":{\"fillmode\":\"overlay\",\"size\":10,\"solidity\":0.2}},\"type\":\"barpolar\"}],\"pie\":[{\"automargin\":true,\"type\":\"pie\"}]},\"layout\":{\"autotypenumbers\":\"strict\",\"colorway\":[\"#636efa\",\"#EF553B\",\"#00cc96\",\"#ab63fa\",\"#FFA15A\",\"#19d3f3\",\"#FF6692\",\"#B6E880\",\"#FF97FF\",\"#FECB52\"],\"font\":{\"color\":\"#f2f5fa\"},\"hovermode\":\"closest\",\"hoverlabel\":{\"align\":\"left\"},\"paper_bgcolor\":\"rgb(17,17,17)\",\"plot_bgcolor\":\"rgb(17,17,17)\",\"polar\":{\"bgcolor\":\"rgb(17,17,17)\",\"angularaxis\":{\"gridcolor\":\"#506784\",\"linecolor\":\"#506784\",\"ticks\":\"\"},\"radialaxis\":{\"gridcolor\":\"#506784\",\"linecolor\":\"#506784\",\"ticks\":\"\"}},\"ternary\":{\"bgcolor\":\"rgb(17,17,17)\",\"aaxis\":{\"gridcolor\":\"#506784\",\"linecolor\":\"#506784\",\"ticks\":\"\"},\"baxis\":{\"gridcolor\":\"#506784\",\"linecolor\":\"#506784\",\"ticks\":\"\"},\"caxis\":{\"gridcolor\":\"#506784\",\"linecolor\":\"#506784\",\"ticks\":\"\"}},\"coloraxis\":{\"colorbar\":{\"outlinewidth\":0,\"ticks\":\"\"}},\"colorscale\":{\"sequential\":[[0.0,\"#0d0887\"],[0.1111111111111111,\"#46039f\"],[0.2222222222222222,\"#7201a8\"],[0.3333333333333333,\"#9c179e\"],[0.4444444444444444,\"#bd3786\"],[0.5555555555555556,\"#d8576b\"],[0.6666666666666666,\"#ed7953\"],[0.7777777777777778,\"#fb9f3a\"],[0.8888888888888888,\"#fdca26\"],[1.0,\"#f0f921\"]],\"sequentialminus\":[[0.0,\"#0d0887\"],[0.1111111111111111,\"#46039f\"],[0.2222222222222222,\"#7201a8\"],[0.3333333333333333,\"#9c179e\"],[0.4444444444444444,\"#bd3786\"],[0.5555555555555556,\"#d8576b\"],[0.6666666666666666,\"#ed7953\"],[0.7777777777777778,\"#fb9f3a\"],[0.8888888888888888,\"#fdca26\"],[1.0,\"#f0f921\"]],\"diverging\":[[0,\"#8e0152\"],[0.1,\"#c51b7d\"],[0.2,\"#de77ae\"],[0.3,\"#f1b6da\"],[0.4,\"#fde0ef\"],[0.5,\"#f7f7f7\"],[0.6,\"#e6f5d0\"],[0.7,\"#b8e186\"],[0.8,\"#7fbc41\"],[0.9,\"#4d9221\"],[1,\"#276419\"]]},\"xaxis\":{\"gridcolor\":\"#283442\",\"linecolor\":\"#506784\",\"ticks\":\"\",\"title\":{\"standoff\":15},\"zerolinecolor\":\"#283442\",\"automargin\":true,\"zerolinewidth\":2},\"yaxis\":{\"gridcolor\":\"#283442\",\"linecolor\":\"#506784\",\"ticks\":\"\",\"title\":{\"standoff\":15},\"zerolinecolor\":\"#283442\",\"automargin\":true,\"zerolinewidth\":2},\"scene\":{\"xaxis\":{\"backgroundcolor\":\"rgb(17,17,17)\",\"gridcolor\":\"#506784\",\"linecolor\":\"#506784\",\"showbackground\":true,\"ticks\":\"\",\"zerolinecolor\":\"#C8D4E3\",\"gridwidth\":2},\"yaxis\":{\"backgroundcolor\":\"rgb(17,17,17)\",\"gridcolor\":\"#506784\",\"linecolor\":\"#506784\",\"showbackground\":true,\"ticks\":\"\",\"zerolinecolor\":\"#C8D4E3\",\"gridwidth\":2},\"zaxis\":{\"backgroundcolor\":\"rgb(17,17,17)\",\"gridcolor\":\"#506784\",\"linecolor\":\"#506784\",\"showbackground\":true,\"ticks\":\"\",\"zerolinecolor\":\"#C8D4E3\",\"gridwidth\":2}},\"shapedefaults\":{\"line\":{\"color\":\"#f2f5fa\"}},\"annotationdefaults\":{\"arrowcolor\":\"#f2f5fa\",\"arrowhead\":0,\"arrowwidth\":1},\"geo\":{\"bgcolor\":\"rgb(17,17,17)\",\"landcolor\":\"rgb(17,17,17)\",\"subunitcolor\":\"#506784\",\"showland\":true,\"showlakes\":true,\"lakecolor\":\"rgb(17,17,17)\"},\"title\":{\"x\":0.05},\"updatemenudefaults\":{\"bgcolor\":\"#506784\",\"borderwidth\":0},\"sliderdefaults\":{\"bgcolor\":\"#C8D4E3\",\"borderwidth\":1,\"bordercolor\":\"rgb(17,17,17)\",\"tickwidth\":0},\"mapbox\":{\"style\":\"dark\"}}},\"updatemenus\":[{\"buttons\":[{\"args\":[{\"visible\":[true,false,false,false,false,false,false]},{\"xaxis\":{\"title\":\"rating\"}}],\"label\":\"rating\",\"method\":\"update\"},{\"args\":[{\"visible\":[false,true,false,false,false,false,false]},{\"xaxis\":{\"title\":\"num_cores\"}}],\"label\":\"num_cores\",\"method\":\"update\"},{\"args\":[{\"visible\":[false,false,true,false,false,false,false]},{\"xaxis\":{\"title\":\"processor_speed\"}}],\"label\":\"processor_speed\",\"method\":\"update\"},{\"args\":[{\"visible\":[false,false,false,true,false,false,false]},{\"xaxis\":{\"title\":\"ram_capacity\"}}],\"label\":\"ram_capacity\",\"method\":\"update\"},{\"args\":[{\"visible\":[false,false,false,false,true,false,false]},{\"xaxis\":{\"title\":\"internal_memory\"}}],\"label\":\"internal_memory\",\"method\":\"update\"},{\"args\":[{\"visible\":[false,false,false,false,false,true,false]},{\"xaxis\":{\"title\":\"screen_size\"}}],\"label\":\"screen_size\",\"method\":\"update\"},{\"args\":[{\"visible\":[false,false,false,false,false,false,true]},{\"xaxis\":{\"title\":\"refresh_rate\"}}],\"label\":\"refresh_rate\",\"method\":\"update\"}],\"direction\":\"down\",\"showactive\":true,\"x\":0.1,\"y\":1.15}],\"title\":{\"text\":\"Prix vs variable s\\u00e9lectionn\\u00e9e\"},\"xaxis\":{\"title\":{\"text\":\"rating\"}},\"yaxis\":{\"title\":{\"text\":\"Prix (\\u20ac)\"}},\"height\":600},                        {\"responsive\": true}                    ).then(function(){\n",
       "                            \n",
       "var gd = document.getElementById('5d594aed-2d12-45e3-98fa-cec3f8df5dae');\n",
       "var x = new MutationObserver(function (mutations, observer) {{\n",
       "        var display = window.getComputedStyle(gd).display;\n",
       "        if (!display || display === 'none') {{\n",
       "            console.log([gd, 'removed!']);\n",
       "            Plotly.purge(gd);\n",
       "            observer.disconnect();\n",
       "        }}\n",
       "}});\n",
       "\n",
       "// Listen for the removal of the full notebook cells\n",
       "var notebookContainer = gd.closest('#notebook-container');\n",
       "if (notebookContainer) {{\n",
       "    x.observe(notebookContainer, {childList: true});\n",
       "}}\n",
       "\n",
       "// Listen for the clearing of the current output cell\n",
       "var outputEl = gd.closest('.output');\n",
       "if (outputEl) {{\n",
       "    x.observe(outputEl, {childList: true});\n",
       "}}\n",
       "\n",
       "                        })                };            </script>        </div>"
      ]
     },
     "metadata": {},
     "output_type": "display_data"
    }
   ],
   "execution_count": 8
  },
  {
   "cell_type": "markdown",
   "id": "2ab8f7f3",
   "metadata": {},
   "source": [
    "**Rating vs prix**\n",
    "\n",
    "* On observe une légère tendance croissante : les téléphones avec un meilleur rating tendent à être plus chers, surtout à partir de 75+.\n",
    "* Cela peut s’expliquer par le fait que les modèles mieux notés sont généralement plus performants ou mieux finis.\n",
    "* La majorité des téléphones ont une note comprise entre 75 et 90.\n",
    "* Très peu de modèles en dessous de 70, ce qui peut indiquer un biais dans les avis (seuls les bons modèles sont évalués ou conservés dans le dataset)."
   ]
  },
  {
   "cell_type": "markdown",
   "id": "cf42e786",
   "metadata": {},
   "source": [
    "**Processor_speed vs prix**\n",
    "\n",
    "* On observe une corrélation positive modérée : en général, plus la vitesse du processeur augmente, plus les smartphones ont tendance à être chers.\n",
    "* Beaucoup de modèles se situent entre 2.0 et 3.2 GHz, avec des prix allant de 100 € à 1000 €.\n",
    "* Cela semble représenter le segment \"standard à performant\" du marché.\n",
    "* Plus on monte en vitesse, plus les prix deviennent variables, indiquant que la vitesse du processeur n’est pas le seul facteur déterminant du prix."
   ]
  },
  {
   "cell_type": "markdown",
   "id": "2c5599b0",
   "metadata": {},
   "source": [
    "**Internal_memory vs prix**\n",
    "\n",
    "* Il existe une relation positive globale entre la capacité de stockage (en Go) et le prix du smartphone.\n",
    "* On voit des groupes bien distincts :\n",
    "    - 32–64 Go : téléphones d’entrée de gamme à prix très accessibles.\n",
    "    - 128–256 Go : majorité des modèles milieu/haut de gamme.\n",
    "    - 512–1024 Go (1 To) : modèles premium uniquement.\n",
    "* À 256 Go, par exemple, les prix vont de ~400 € à plus de 2000 € → cela indique que le stockage ne suffit pas à expliquer le prix à lui seul.\n",
    "* D’autres caractéristiques comme la RAM, le processeur, la marque ou la caméra jouent un rôle majeur."
   ]
  },
  {
   "cell_type": "markdown",
   "id": "84b57180",
   "metadata": {},
   "source": [
    "**Screen_size vs prix**\n",
    "\n",
    "* Il existe une légère corrélation positive entre la taille de l’écran et le prix : les téléphones avec un écran plus grand sont en moyenne un peu plus chers.\n",
    "* Très forte densité autour de 6.3 à 6.7 pouces, avec des prix allant de 100 € à 1500 €.\n",
    "* Cela suggère que la plupart des smartphones sont conçus pour offrir un compromis entre confort d’écran et ergonomie.\n",
    "* À taille d’écran égale, le prix peut énormément varier → ce qui confirme que l’écran est un critère secondaire dans la tarification par rapport à :\n",
    "    - la marque,\n",
    "    - le processeur,\n",
    "    - les fonctionnalités avancées (caméras, design, etc.)."
   ]
  },
  {
   "cell_type": "markdown",
   "id": "1f55423b",
   "metadata": {},
   "source": [
    "**Refresh_rate vs prix**\n",
    "\n",
    "* On observe une élévation du prix moyen à mesure que le taux de rafraîchissement augmente.\n",
    "    - 60 Hz → présent sur des modèles de toutes gammes (entrée à premium).\n",
    "    - 120 Hz et + → associés à des smartphones plus récents ou gaming, donc souvent plus chers.\n",
    "* À 60 Hz, très grande dispersion de prix (de < 100 € à > 6000 €), ce qui confirme que ce n’est pas un critère déterminant seul.\n",
    "* À 120–144 Hz, les prix restent modérément élevés avec moins de dispersion : cette technologie est réservée aux gammes moyennes à hautes.\n",
    "* À 240 Hz, très peu de modèles → probablement des modèles gaming haut de gamme."
   ]
  },
  {
   "cell_type": "markdown",
   "id": "b2db2783",
   "metadata": {},
   "source": [
    "---"
   ]
  },
  {
   "cell_type": "markdown",
   "id": "fb308c39",
   "metadata": {},
   "source": [
    "## Preprocessing des données"
   ]
  },
  {
   "cell_type": "markdown",
   "id": "9d62f900",
   "metadata": {},
   "source": [
    "Nous allons maintenant procéder à un pré-traitement approfondi des données issues du dataset de smartphones disponible sur Kaggle. L’objectif est de nettoyer, transformer et enrichir ces données afin de construire un jeu de données final, adapté à la conception d’un modèle d’intelligence artificielle dédié à la recommandation de smartphones."
   ]
  },
  {
   "cell_type": "markdown",
   "id": "b16ba3a7",
   "metadata": {},
   "source": [
    "**Suppression de colonnes**"
   ]
  },
  {
   "cell_type": "markdown",
   "id": "0ec9cb2c",
   "metadata": {},
   "source": [
    "Dans cette section, nous allons supprimer certaines colonnes qui ne nous semblent pas pertinentes, ou déterminantes pour le choix d'un téléphone, notamment des fonctionnalités qui sont gadgets comme `has_ir_blaster`. Cela permettra d'être plus orienté vers la satisfaction de la clientèle."
   ]
  },
  {
   "cell_type": "code",
   "id": "6fbf08cf",
   "metadata": {
    "ExecuteTime": {
     "end_time": "2025-07-27T22:12:49.848599Z",
     "start_time": "2025-07-27T22:12:49.845191Z"
    }
   },
   "source": [
    "### Suppression des colonnes\n",
    "data = data.drop(columns=['has_ir_blaster', 'has_nfc'])"
   ],
   "outputs": [],
   "execution_count": 9
  },
  {
   "cell_type": "markdown",
   "id": "c25592c1",
   "metadata": {},
   "source": [
    "**Critère d'évaluation de l'autonomie d'un téléphone**"
   ]
  },
  {
   "cell_type": "markdown",
   "id": "261d8711",
   "metadata": {},
   "source": [
    "Maintenant, nous allons rajouter une étiquette à chaque téléphone pour évaluer le niveau d'autonomie de chaque téléphone, dans une démarche de satisfaction client. Si un client souhaite un téléphone avec une bonne autonomie, et rien d'autre cela permettra de mieux l'orienter vers ce qu'il recherche."
   ]
  },
  {
   "cell_type": "code",
   "id": "f24018c0",
   "metadata": {
    "ExecuteTime": {
     "end_time": "2025-07-27T22:12:49.853881Z",
     "start_time": "2025-07-27T22:12:49.851480Z"
    }
   },
   "source": [
    "### Fonction d'étiquetage des téléphones par rapport à leur autonomie\n",
    "def evaluate_battery_capacity(capacity) -> str:\n",
    "    \"\"\"\n",
    "    Attribue une étiquette à chaque téléphone sur le seul critère de la capacité de leur batterie.\n",
    "    \n",
    "    :param capacity: Capacité du téléphone\n",
    "    :return: Étiquette finale\n",
    "    \"\"\"\n",
    "    \n",
    "    if capacity < 3500:\n",
    "        return \"faible\"\n",
    "    elif capacity < 4500:\n",
    "        return \"moyenne\"\n",
    "    else:\n",
    "        return \"haute\""
   ],
   "outputs": [],
   "execution_count": 10
  },
  {
   "cell_type": "code",
   "id": "ae953110",
   "metadata": {
    "ExecuteTime": {
     "end_time": "2025-07-27T22:12:49.857685Z",
     "start_time": "2025-07-27T22:12:49.854630Z"
    }
   },
   "source": [
    "### Application de la fonction\n",
    "data['quality_battery_autonomy'] = data['battery_capacity'].apply(evaluate_battery_capacity)"
   ],
   "outputs": [],
   "execution_count": 11
  },
  {
   "cell_type": "markdown",
   "id": "b0c1d951",
   "metadata": {},
   "source": [
    "**Création d'une fonction de scoring pour catégoriser les téléphones selon leur performance**"
   ]
  },
  {
   "cell_type": "markdown",
   "id": "a889803d",
   "metadata": {},
   "source": [
    "Dans la section suivante, nous allons implémenter une fonction dans laquelle chaque ligne du dataset sera analysée, et pour chaque attribut des téléphones, nous allons attribuer un score qui sera utilisé après pour calculer un score final qui déterminera la catégorie du téléphone. Cela permettra d'affiner les futures recommandations du modèle, et de fournir des résultats qui pourront répondre aux besoins du client."
   ]
  },
  {
   "cell_type": "code",
   "id": "483da2f2",
   "metadata": {
    "ExecuteTime": {
     "end_time": "2025-07-27T22:12:49.863023Z",
     "start_time": "2025-07-27T22:12:49.858243Z"
    }
   },
   "source": [
    "### Importation module\n",
    "from typing import List, Tuple\n",
    "\n",
    "### Fonction qui calcule un score total de chaque téléphone\n",
    "def compute_total_score(phone) -> float:\n",
    "    \"\"\"\n",
    "    Calcule un score de performance pour un téléphone donné \n",
    "    en fonction de ses caractéristiques techniques.\n",
    "\n",
    "    Ce score permet ensuite de classifier le téléphone \n",
    "    en haute performance, performance intermédiaire ou basique.\n",
    "    :param phone: Correspond au téléphone (ligne) que l'on considère actuellement pour le calcul du score\n",
    "    :return: Le score final du téléphone en fonction des différents critères d'évaluation\n",
    "    \"\"\"\n",
    "    ### Fonction imbriquée qui généralise la logique de calcul des scores : pour les colonnes numériques\n",
    "    def score_range(val, seuils: List[Tuple[float, float]]) -> float:\n",
    "        for seuil, point in seuils:\n",
    "            if val >= seuil:\n",
    "                return point\n",
    "        return 0\n",
    "    \n",
    "    ### Fonction imbriquée qui généralise la logique de calcul des scores : pour les colonnes booléennes\n",
    "    def score_boolean(val, point_if_true=0.5) -> float:\n",
    "        return point_if_true if val else 0\n",
    "    \n",
    "    ### Variable qui stocke le score final\n",
    "    score: float = 0\n",
    "    \n",
    "    ### Poids de chaque caractéristique des téléphones attribués selon l'importance de la caractéristique pour le choix du téléphone\n",
    "    weights: List[float] = [0.10, 0.10, 0.20, 0.10, 0.15, 0.10, 0.10, 0.10, 0.05]\n",
    "    \n",
    "    ### Calcul des scores : colonnes numériques\n",
    "    score += score_range(phone['rating'], [(85, 1), (80, 0.5)]) * weights[0]\n",
    "    score += score_range(phone['num_cores'], [(8, 1), (6, 0.5)]) * weights[1]\n",
    "    score += score_range(phone['processor_speed'], [(2.8, 1), (2.4, 0.5)]) * weights[2]\n",
    "    score += score_range(phone['battery_capacity'], [(4500, 1), (3500, 0.5)]) * weights[3]\n",
    "    score += score_range(phone['ram_capacity'], [(12, 1), (8, 0.5)]) * weights[4]\n",
    "    score += score_range(phone['internal_memory'], [(256, 1), (128, 0.5)]) * weights[5]\n",
    "    score += score_range(phone['refresh_rate'], [(120, 1), (90, 0.5)]) * weights[6]\n",
    "    score += score_range(phone['primary_camera_rear'], [(64, 1), (48, 0.5)]) * weights[7]\n",
    "    \n",
    "    ### Calcul des scores : colonnes booléennes\n",
    "    score += score_boolean(phone['has_5g'], 1) * weights[-1]\n",
    "    \n",
    "    return score\n",
    "        "
   ],
   "outputs": [],
   "execution_count": 12
  },
  {
   "cell_type": "markdown",
   "id": "b0ab7d72",
   "metadata": {},
   "source": [
    "Nous pouvons voir également que la colonne `rating` possède des valeurs manquantes qui sont cruciales pour le calcul du score de chaque téléphone. Pour remplacer ces valeurs, nous allons calculer les valeurs médianes des `rating` par marque de téléphones, et les attribuer aux téléphones qui n'ont pas de note répertoriée."
   ]
  },
  {
   "cell_type": "code",
   "id": "678d1eea",
   "metadata": {
    "ExecuteTime": {
     "end_time": "2025-07-27T22:12:49.871787Z",
     "start_time": "2025-07-27T22:12:49.864672Z"
    }
   },
   "source": [
    "### Calcul des médianes des `rating` par marque\n",
    "median_per_brand = data.groupby('brand_name')['rating'].median()\n",
    "\n",
    "data['rating'] = data.apply(\n",
    "    lambda phone: median_per_brand[phone['brand_name']] if pd.isna(phone['rating']) else phone['rating'],\n",
    "    axis=1\n",
    ")"
   ],
   "outputs": [],
   "execution_count": 13
  },
  {
   "cell_type": "code",
   "id": "fcd396b5",
   "metadata": {
    "ExecuteTime": {
     "end_time": "2025-07-27T22:12:49.874391Z",
     "start_time": "2025-07-27T22:12:49.872354Z"
    }
   },
   "source": [
    "### Fonction de catégorisation des téléphones\n",
    "def determine_performance(phone) -> str:\n",
    "    \"\"\"\n",
    "    Calcule un score de performance pour un téléphone donné \n",
    "    en fonction de ses caractéristiques techniques.\n",
    "\n",
    "    Ce score permet ensuite de classifier le téléphone \n",
    "    en haut de gamme, milieu de gamme ou bas de gamme.\n",
    "     \n",
    "    :param phone: Prend en argument chaque téléphone (ligne) du dataset\n",
    "    :return: Une chaîne de caractères qui indique la catégorie du téléphone\n",
    "    \"\"\"\n",
    "    score: float = compute_total_score(phone)\n",
    "    \n",
    "    ### Attribution des catégories\n",
    "    if score >= 0.7:\n",
    "        return \"haut performance\"\n",
    "    elif score >= 0.4:\n",
    "        return \"performance intermédiaire\"\n",
    "    else:\n",
    "        return \"basique\""
   ],
   "outputs": [],
   "execution_count": 14
  },
  {
   "cell_type": "code",
   "id": "479583fd",
   "metadata": {
    "ExecuteTime": {
     "end_time": "2025-07-27T22:12:49.905426Z",
     "start_time": "2025-07-27T22:12:49.874973Z"
    }
   },
   "source": [
    "### Application au dataset\n",
    "data['performance category'] = data.apply(determine_performance, axis=1)\n",
    "\n",
    "data"
   ],
   "outputs": [
    {
     "data": {
      "text/plain": [
       "    brand_name                                      model  price (€)  rating  \\\n",
       "0        apple                            Apple iPhone 11     388.66    73.0   \n",
       "1        apple                    Apple iPhone 11 (128GB)     468.39    75.0   \n",
       "2        apple                    Apple iPhone 11 Pro Max    1095.26    77.0   \n",
       "3        apple                            Apple iPhone 12     518.22    74.0   \n",
       "4        apple                    Apple iPhone 12 (128GB)     558.09    75.0   \n",
       "..         ...                                        ...        ...     ...   \n",
       "974     xiaomi                    Xiaomi Redmi Note 9 Pro     139.51    75.0   \n",
       "975     xiaomi  Xiaomi Redmi Note 9 Pro (4GB RAM + 128GB)     143.90    77.0   \n",
       "976     xiaomi                Xiaomi Redmi Note 9 Pro Max     164.34    80.0   \n",
       "977        zte                               ZTE Axon 30S     199.31    82.0   \n",
       "978        zte                       ZTE Axon 40 Ultra 5G     617.79    89.0   \n",
       "\n",
       "     has_5g processor_brand  num_cores  processor_speed  battery_capacity  \\\n",
       "0     False          bionic          6             2.65              3110   \n",
       "1     False          bionic          6             2.65              3110   \n",
       "2     False          bionic          6             2.65              3500   \n",
       "3      True          bionic          6             3.10              2815   \n",
       "4      True          bionic          6             3.10              2815   \n",
       "..      ...             ...        ...              ...               ...   \n",
       "974   False      snapdragon          8             2.30              5020   \n",
       "975   False      snapdragon          8             2.30              5020   \n",
       "976   False      snapdragon          8             2.30              5020   \n",
       "977    True      snapdragon          8             3.20              4200   \n",
       "978    True      snapdragon          8             3.00              5000   \n",
       "\n",
       "     fast_charging_available  ...  num_front_cameras       os  \\\n",
       "0                          0  ...                1.0      ios   \n",
       "1                          0  ...                1.0      ios   \n",
       "2                          1  ...                1.0      ios   \n",
       "3                          0  ...                1.0      ios   \n",
       "4                          0  ...                1.0      ios   \n",
       "..                       ...  ...                ...      ...   \n",
       "974                        1  ...                1.0  android   \n",
       "975                        1  ...                1.0  android   \n",
       "976                        1  ...                1.0  android   \n",
       "977                        1  ...                1.0  android   \n",
       "978                        1  ...                1.0  android   \n",
       "\n",
       "     primary_camera_rear  primary_camera_front  extended_memory_available  \\\n",
       "0                   12.0                  12.0                          0   \n",
       "1                   12.0                  12.0                          0   \n",
       "2                   12.0                  12.0                          0   \n",
       "3                   12.0                  12.0                          0   \n",
       "4                   12.0                  12.0                          0   \n",
       "..                   ...                   ...                        ...   \n",
       "974                 48.0                  16.0                          1   \n",
       "975                 48.0                  16.0                          1   \n",
       "976                 64.0                  32.0                          1   \n",
       "977                 50.0                  16.0                          1   \n",
       "978                 64.0                  16.0                          0   \n",
       "\n",
       "     extended_upto  resolution_width resolution_height  \\\n",
       "0              NaN               828              1792   \n",
       "1              NaN               828              1792   \n",
       "2              NaN              1242              2688   \n",
       "3              NaN              1170              2532   \n",
       "4              NaN              1170              2532   \n",
       "..             ...               ...               ...   \n",
       "974          512.0              1080              2400   \n",
       "975          512.0              1080              2400   \n",
       "976          512.0              1080              2400   \n",
       "977            NaN              1080              2460   \n",
       "978            NaN              1116              2480   \n",
       "\n",
       "     quality_battery_autonomy       performance category  \n",
       "0                      faible                    basique  \n",
       "1                      faible                    basique  \n",
       "2                     moyenne                    basique  \n",
       "3                      faible                    basique  \n",
       "4                      faible                    basique  \n",
       "..                        ...                        ...  \n",
       "974                     haute                    basique  \n",
       "975                     haute                    basique  \n",
       "976                     haute                    basique  \n",
       "977                   moyenne  performance intermédiaire  \n",
       "978                     haute           haut performance  \n",
       "\n",
       "[979 rows x 26 columns]"
      ],
      "text/html": [
       "<div>\n",
       "<style scoped>\n",
       "    .dataframe tbody tr th:only-of-type {\n",
       "        vertical-align: middle;\n",
       "    }\n",
       "\n",
       "    .dataframe tbody tr th {\n",
       "        vertical-align: top;\n",
       "    }\n",
       "\n",
       "    .dataframe thead th {\n",
       "        text-align: right;\n",
       "    }\n",
       "</style>\n",
       "<table border=\"1\" class=\"dataframe\">\n",
       "  <thead>\n",
       "    <tr style=\"text-align: right;\">\n",
       "      <th></th>\n",
       "      <th>brand_name</th>\n",
       "      <th>model</th>\n",
       "      <th>price (€)</th>\n",
       "      <th>rating</th>\n",
       "      <th>has_5g</th>\n",
       "      <th>processor_brand</th>\n",
       "      <th>num_cores</th>\n",
       "      <th>processor_speed</th>\n",
       "      <th>battery_capacity</th>\n",
       "      <th>fast_charging_available</th>\n",
       "      <th>...</th>\n",
       "      <th>num_front_cameras</th>\n",
       "      <th>os</th>\n",
       "      <th>primary_camera_rear</th>\n",
       "      <th>primary_camera_front</th>\n",
       "      <th>extended_memory_available</th>\n",
       "      <th>extended_upto</th>\n",
       "      <th>resolution_width</th>\n",
       "      <th>resolution_height</th>\n",
       "      <th>quality_battery_autonomy</th>\n",
       "      <th>performance category</th>\n",
       "    </tr>\n",
       "  </thead>\n",
       "  <tbody>\n",
       "    <tr>\n",
       "      <th>0</th>\n",
       "      <td>apple</td>\n",
       "      <td>Apple iPhone 11</td>\n",
       "      <td>388.66</td>\n",
       "      <td>73.0</td>\n",
       "      <td>False</td>\n",
       "      <td>bionic</td>\n",
       "      <td>6</td>\n",
       "      <td>2.65</td>\n",
       "      <td>3110</td>\n",
       "      <td>0</td>\n",
       "      <td>...</td>\n",
       "      <td>1.0</td>\n",
       "      <td>ios</td>\n",
       "      <td>12.0</td>\n",
       "      <td>12.0</td>\n",
       "      <td>0</td>\n",
       "      <td>NaN</td>\n",
       "      <td>828</td>\n",
       "      <td>1792</td>\n",
       "      <td>faible</td>\n",
       "      <td>basique</td>\n",
       "    </tr>\n",
       "    <tr>\n",
       "      <th>1</th>\n",
       "      <td>apple</td>\n",
       "      <td>Apple iPhone 11 (128GB)</td>\n",
       "      <td>468.39</td>\n",
       "      <td>75.0</td>\n",
       "      <td>False</td>\n",
       "      <td>bionic</td>\n",
       "      <td>6</td>\n",
       "      <td>2.65</td>\n",
       "      <td>3110</td>\n",
       "      <td>0</td>\n",
       "      <td>...</td>\n",
       "      <td>1.0</td>\n",
       "      <td>ios</td>\n",
       "      <td>12.0</td>\n",
       "      <td>12.0</td>\n",
       "      <td>0</td>\n",
       "      <td>NaN</td>\n",
       "      <td>828</td>\n",
       "      <td>1792</td>\n",
       "      <td>faible</td>\n",
       "      <td>basique</td>\n",
       "    </tr>\n",
       "    <tr>\n",
       "      <th>2</th>\n",
       "      <td>apple</td>\n",
       "      <td>Apple iPhone 11 Pro Max</td>\n",
       "      <td>1095.26</td>\n",
       "      <td>77.0</td>\n",
       "      <td>False</td>\n",
       "      <td>bionic</td>\n",
       "      <td>6</td>\n",
       "      <td>2.65</td>\n",
       "      <td>3500</td>\n",
       "      <td>1</td>\n",
       "      <td>...</td>\n",
       "      <td>1.0</td>\n",
       "      <td>ios</td>\n",
       "      <td>12.0</td>\n",
       "      <td>12.0</td>\n",
       "      <td>0</td>\n",
       "      <td>NaN</td>\n",
       "      <td>1242</td>\n",
       "      <td>2688</td>\n",
       "      <td>moyenne</td>\n",
       "      <td>basique</td>\n",
       "    </tr>\n",
       "    <tr>\n",
       "      <th>3</th>\n",
       "      <td>apple</td>\n",
       "      <td>Apple iPhone 12</td>\n",
       "      <td>518.22</td>\n",
       "      <td>74.0</td>\n",
       "      <td>True</td>\n",
       "      <td>bionic</td>\n",
       "      <td>6</td>\n",
       "      <td>3.10</td>\n",
       "      <td>2815</td>\n",
       "      <td>0</td>\n",
       "      <td>...</td>\n",
       "      <td>1.0</td>\n",
       "      <td>ios</td>\n",
       "      <td>12.0</td>\n",
       "      <td>12.0</td>\n",
       "      <td>0</td>\n",
       "      <td>NaN</td>\n",
       "      <td>1170</td>\n",
       "      <td>2532</td>\n",
       "      <td>faible</td>\n",
       "      <td>basique</td>\n",
       "    </tr>\n",
       "    <tr>\n",
       "      <th>4</th>\n",
       "      <td>apple</td>\n",
       "      <td>Apple iPhone 12 (128GB)</td>\n",
       "      <td>558.09</td>\n",
       "      <td>75.0</td>\n",
       "      <td>True</td>\n",
       "      <td>bionic</td>\n",
       "      <td>6</td>\n",
       "      <td>3.10</td>\n",
       "      <td>2815</td>\n",
       "      <td>0</td>\n",
       "      <td>...</td>\n",
       "      <td>1.0</td>\n",
       "      <td>ios</td>\n",
       "      <td>12.0</td>\n",
       "      <td>12.0</td>\n",
       "      <td>0</td>\n",
       "      <td>NaN</td>\n",
       "      <td>1170</td>\n",
       "      <td>2532</td>\n",
       "      <td>faible</td>\n",
       "      <td>basique</td>\n",
       "    </tr>\n",
       "    <tr>\n",
       "      <th>...</th>\n",
       "      <td>...</td>\n",
       "      <td>...</td>\n",
       "      <td>...</td>\n",
       "      <td>...</td>\n",
       "      <td>...</td>\n",
       "      <td>...</td>\n",
       "      <td>...</td>\n",
       "      <td>...</td>\n",
       "      <td>...</td>\n",
       "      <td>...</td>\n",
       "      <td>...</td>\n",
       "      <td>...</td>\n",
       "      <td>...</td>\n",
       "      <td>...</td>\n",
       "      <td>...</td>\n",
       "      <td>...</td>\n",
       "      <td>...</td>\n",
       "      <td>...</td>\n",
       "      <td>...</td>\n",
       "      <td>...</td>\n",
       "      <td>...</td>\n",
       "    </tr>\n",
       "    <tr>\n",
       "      <th>974</th>\n",
       "      <td>xiaomi</td>\n",
       "      <td>Xiaomi Redmi Note 9 Pro</td>\n",
       "      <td>139.51</td>\n",
       "      <td>75.0</td>\n",
       "      <td>False</td>\n",
       "      <td>snapdragon</td>\n",
       "      <td>8</td>\n",
       "      <td>2.30</td>\n",
       "      <td>5020</td>\n",
       "      <td>1</td>\n",
       "      <td>...</td>\n",
       "      <td>1.0</td>\n",
       "      <td>android</td>\n",
       "      <td>48.0</td>\n",
       "      <td>16.0</td>\n",
       "      <td>1</td>\n",
       "      <td>512.0</td>\n",
       "      <td>1080</td>\n",
       "      <td>2400</td>\n",
       "      <td>haute</td>\n",
       "      <td>basique</td>\n",
       "    </tr>\n",
       "    <tr>\n",
       "      <th>975</th>\n",
       "      <td>xiaomi</td>\n",
       "      <td>Xiaomi Redmi Note 9 Pro (4GB RAM + 128GB)</td>\n",
       "      <td>143.90</td>\n",
       "      <td>77.0</td>\n",
       "      <td>False</td>\n",
       "      <td>snapdragon</td>\n",
       "      <td>8</td>\n",
       "      <td>2.30</td>\n",
       "      <td>5020</td>\n",
       "      <td>1</td>\n",
       "      <td>...</td>\n",
       "      <td>1.0</td>\n",
       "      <td>android</td>\n",
       "      <td>48.0</td>\n",
       "      <td>16.0</td>\n",
       "      <td>1</td>\n",
       "      <td>512.0</td>\n",
       "      <td>1080</td>\n",
       "      <td>2400</td>\n",
       "      <td>haute</td>\n",
       "      <td>basique</td>\n",
       "    </tr>\n",
       "    <tr>\n",
       "      <th>976</th>\n",
       "      <td>xiaomi</td>\n",
       "      <td>Xiaomi Redmi Note 9 Pro Max</td>\n",
       "      <td>164.34</td>\n",
       "      <td>80.0</td>\n",
       "      <td>False</td>\n",
       "      <td>snapdragon</td>\n",
       "      <td>8</td>\n",
       "      <td>2.30</td>\n",
       "      <td>5020</td>\n",
       "      <td>1</td>\n",
       "      <td>...</td>\n",
       "      <td>1.0</td>\n",
       "      <td>android</td>\n",
       "      <td>64.0</td>\n",
       "      <td>32.0</td>\n",
       "      <td>1</td>\n",
       "      <td>512.0</td>\n",
       "      <td>1080</td>\n",
       "      <td>2400</td>\n",
       "      <td>haute</td>\n",
       "      <td>basique</td>\n",
       "    </tr>\n",
       "    <tr>\n",
       "      <th>977</th>\n",
       "      <td>zte</td>\n",
       "      <td>ZTE Axon 30S</td>\n",
       "      <td>199.31</td>\n",
       "      <td>82.0</td>\n",
       "      <td>True</td>\n",
       "      <td>snapdragon</td>\n",
       "      <td>8</td>\n",
       "      <td>3.20</td>\n",
       "      <td>4200</td>\n",
       "      <td>1</td>\n",
       "      <td>...</td>\n",
       "      <td>1.0</td>\n",
       "      <td>android</td>\n",
       "      <td>50.0</td>\n",
       "      <td>16.0</td>\n",
       "      <td>1</td>\n",
       "      <td>NaN</td>\n",
       "      <td>1080</td>\n",
       "      <td>2460</td>\n",
       "      <td>moyenne</td>\n",
       "      <td>performance intermédiaire</td>\n",
       "    </tr>\n",
       "    <tr>\n",
       "      <th>978</th>\n",
       "      <td>zte</td>\n",
       "      <td>ZTE Axon 40 Ultra 5G</td>\n",
       "      <td>617.79</td>\n",
       "      <td>89.0</td>\n",
       "      <td>True</td>\n",
       "      <td>snapdragon</td>\n",
       "      <td>8</td>\n",
       "      <td>3.00</td>\n",
       "      <td>5000</td>\n",
       "      <td>1</td>\n",
       "      <td>...</td>\n",
       "      <td>1.0</td>\n",
       "      <td>android</td>\n",
       "      <td>64.0</td>\n",
       "      <td>16.0</td>\n",
       "      <td>0</td>\n",
       "      <td>NaN</td>\n",
       "      <td>1116</td>\n",
       "      <td>2480</td>\n",
       "      <td>haute</td>\n",
       "      <td>haut performance</td>\n",
       "    </tr>\n",
       "  </tbody>\n",
       "</table>\n",
       "<p>979 rows × 26 columns</p>\n",
       "</div>"
      ]
     },
     "execution_count": 15,
     "metadata": {},
     "output_type": "execute_result"
    }
   ],
   "execution_count": 15
  },
  {
   "cell_type": "markdown",
   "id": "3a3c2b81",
   "metadata": {},
   "source": [
    "**Estimation du rapport qualité/prix**"
   ]
  },
  {
   "cell_type": "markdown",
   "id": "fa9147ca",
   "metadata": {},
   "source": [
    "Pour prendre en compte l'avis des utilisateurs sur les téléphones par rapport au prix de vente qu'ils ont, nous allons créer une nouvelle métrique `quality-price ratio`. Nous avons vu que pour une même note, par exemple 85, les prix peuvent varier de moins de `100 €` à plus de `1000 €`, ce qui montre que la note ne reflète pas uniquement le prix, mais elle peut aussi intégrer la qualité perçue, la marque, la fiabilité, ou encore l’expérience utilisateur.\n",
    "\n",
    "Cependant, pour définir cette métrique, nous allons l'appliquer par segment de gamme. C'est-à-dire qu'un téléphone de haute gamme peut avoir, avec cette nouvelle métrique, un ratio qui peut être bas. Et, nous devons noter que, les téléphones haut de gamme ne sont pas destinés à être économique, il n'est pas pertinent d'estimer ce rapport pour cette gamme de téléphone. Donc, pour ce faire, nous allons créer des ratios par gamme. "
   ]
  },
  {
   "cell_type": "markdown",
   "id": "de510f9f",
   "metadata": {},
   "source": [
    "Alors, nous allons utiliser la proposition suivante de segmentation des prix :\n",
    "- Haut de gamme : > 700 €\n",
    "- Milieu de gamme : 300 - 700 €\n",
    "- Entrée de gamme : < 300 €\n",
    "\n",
    "Nous allons créer une nouvelle colonne qui recense le segment du prix auquel appartient chaque téléphone."
   ]
  },
  {
   "cell_type": "code",
   "id": "1d484336",
   "metadata": {
    "ExecuteTime": {
     "end_time": "2025-07-27T22:12:49.910233Z",
     "start_time": "2025-07-27T22:12:49.906931Z"
    }
   },
   "source": [
    "### Fonction de segmentation des prix\n",
    "def segmenting_prices(price : float) -> str:\n",
    "    \"\"\"\n",
    "    Détermine le segment dans lequel un téléphone se trouve à partir de son prix.\n",
    "    \n",
    "    :param price: Prix du téléphone\n",
    "    :return: Segment auquel il appartient\n",
    "    \"\"\"\n",
    "    if price < 300:\n",
    "        return \"bas\"\n",
    "    elif price <= 700:\n",
    "        return \"milieu\"\n",
    "    else:\n",
    "        return \"haut\""
   ],
   "outputs": [],
   "execution_count": 16
  },
  {
   "cell_type": "code",
   "id": "b907c925",
   "metadata": {
    "ExecuteTime": {
     "end_time": "2025-07-27T22:12:49.917804Z",
     "start_time": "2025-07-27T22:12:49.914142Z"
    }
   },
   "source": [
    "### Application de la fonction de segmentation\n",
    "data['price_segment'] = data['price (€)'].apply(segmenting_prices)"
   ],
   "outputs": [],
   "execution_count": 17
  },
  {
   "cell_type": "markdown",
   "id": "28d0b459",
   "metadata": {},
   "source": [
    "Nous allons maintenant calculer le ratio `rating / price`, mais étant donné qu'il n'est pas comparable entre les différents segments, nous allons ensuite normaliser le ratio dans chaque segment. Cela donne un score de 0 à 1, relatif à la performance du téléphone dans sa gamme de prix. Cela nous permettra d'avoir des choses comme, un téléphone à 200 € avec 80 de rating et un à 1000 € avec 90 de rating ayant des scores similaires dans leur segment respectif, car chacun est bon dans sa catégorie."
   ]
  },
  {
   "cell_type": "code",
   "id": "c1ddf8ea",
   "metadata": {
    "ExecuteTime": {
     "end_time": "2025-07-27T22:12:49.923101Z",
     "start_time": "2025-07-27T22:12:49.919569Z"
    }
   },
   "source": [
    "### Calcul du ratio qualité / prix\n",
    "data['ratio_rating_price'] = data['rating'] / data['price (€)']"
   ],
   "outputs": [],
   "execution_count": 18
  },
  {
   "cell_type": "code",
   "id": "42ae2345",
   "metadata": {
    "ExecuteTime": {
     "end_time": "2025-07-27T22:12:49.951704Z",
     "start_time": "2025-07-27T22:12:49.925270Z"
    }
   },
   "source": [
    "### Normalisation des ratios dans chaque segment de prix\n",
    "data['ratio_segment'] = data.groupby('price_segment')['ratio_rating_price'].transform(\n",
    "    lambda x: (x - x.min()) / (x.max() - x.min())\n",
    ")\n",
    "\n",
    "data"
   ],
   "outputs": [
    {
     "data": {
      "text/plain": [
       "    brand_name                                      model  price (€)  rating  \\\n",
       "0        apple                            Apple iPhone 11     388.66    73.0   \n",
       "1        apple                    Apple iPhone 11 (128GB)     468.39    75.0   \n",
       "2        apple                    Apple iPhone 11 Pro Max    1095.26    77.0   \n",
       "3        apple                            Apple iPhone 12     518.22    74.0   \n",
       "4        apple                    Apple iPhone 12 (128GB)     558.09    75.0   \n",
       "..         ...                                        ...        ...     ...   \n",
       "974     xiaomi                    Xiaomi Redmi Note 9 Pro     139.51    75.0   \n",
       "975     xiaomi  Xiaomi Redmi Note 9 Pro (4GB RAM + 128GB)     143.90    77.0   \n",
       "976     xiaomi                Xiaomi Redmi Note 9 Pro Max     164.34    80.0   \n",
       "977        zte                               ZTE Axon 30S     199.31    82.0   \n",
       "978        zte                       ZTE Axon 40 Ultra 5G     617.79    89.0   \n",
       "\n",
       "     has_5g processor_brand  num_cores  processor_speed  battery_capacity  \\\n",
       "0     False          bionic          6             2.65              3110   \n",
       "1     False          bionic          6             2.65              3110   \n",
       "2     False          bionic          6             2.65              3500   \n",
       "3      True          bionic          6             3.10              2815   \n",
       "4      True          bionic          6             3.10              2815   \n",
       "..      ...             ...        ...              ...               ...   \n",
       "974   False      snapdragon          8             2.30              5020   \n",
       "975   False      snapdragon          8             2.30              5020   \n",
       "976   False      snapdragon          8             2.30              5020   \n",
       "977    True      snapdragon          8             3.20              4200   \n",
       "978    True      snapdragon          8             3.00              5000   \n",
       "\n",
       "     fast_charging_available  ...  primary_camera_front  \\\n",
       "0                          0  ...                  12.0   \n",
       "1                          0  ...                  12.0   \n",
       "2                          1  ...                  12.0   \n",
       "3                          0  ...                  12.0   \n",
       "4                          0  ...                  12.0   \n",
       "..                       ...  ...                   ...   \n",
       "974                        1  ...                  16.0   \n",
       "975                        1  ...                  16.0   \n",
       "976                        1  ...                  32.0   \n",
       "977                        1  ...                  16.0   \n",
       "978                        1  ...                  16.0   \n",
       "\n",
       "     extended_memory_available  extended_upto  resolution_width  \\\n",
       "0                            0            NaN               828   \n",
       "1                            0            NaN               828   \n",
       "2                            0            NaN              1242   \n",
       "3                            0            NaN              1170   \n",
       "4                            0            NaN              1170   \n",
       "..                         ...            ...               ...   \n",
       "974                          1          512.0              1080   \n",
       "975                          1          512.0              1080   \n",
       "976                          1          512.0              1080   \n",
       "977                          1            NaN              1080   \n",
       "978                          0            NaN              1116   \n",
       "\n",
       "     resolution_height  quality_battery_autonomy       performance category  \\\n",
       "0                 1792                    faible                    basique   \n",
       "1                 1792                    faible                    basique   \n",
       "2                 2688                   moyenne                    basique   \n",
       "3                 2532                    faible                    basique   \n",
       "4                 2532                    faible                    basique   \n",
       "..                 ...                       ...                        ...   \n",
       "974               2400                     haute                    basique   \n",
       "975               2400                     haute                    basique   \n",
       "976               2400                     haute                    basique   \n",
       "977               2460                   moyenne  performance intermédiaire   \n",
       "978               2480                     haute           haut performance   \n",
       "\n",
       "    price_segment  ratio_rating_price  ratio_segment  \n",
       "0          milieu            0.187825       0.479802  \n",
       "1          milieu            0.160123       0.327847  \n",
       "2            haut            0.070303       0.528967  \n",
       "3          milieu            0.142796       0.232805  \n",
       "4          milieu            0.134387       0.186675  \n",
       "..            ...                 ...            ...  \n",
       "974           bas            0.537596       0.208098  \n",
       "975           bas            0.535094       0.206536  \n",
       "976           bas            0.486796       0.176399  \n",
       "977           bas            0.411419       0.129366  \n",
       "978        milieu            0.144062       0.239746  \n",
       "\n",
       "[979 rows x 29 columns]"
      ],
      "text/html": [
       "<div>\n",
       "<style scoped>\n",
       "    .dataframe tbody tr th:only-of-type {\n",
       "        vertical-align: middle;\n",
       "    }\n",
       "\n",
       "    .dataframe tbody tr th {\n",
       "        vertical-align: top;\n",
       "    }\n",
       "\n",
       "    .dataframe thead th {\n",
       "        text-align: right;\n",
       "    }\n",
       "</style>\n",
       "<table border=\"1\" class=\"dataframe\">\n",
       "  <thead>\n",
       "    <tr style=\"text-align: right;\">\n",
       "      <th></th>\n",
       "      <th>brand_name</th>\n",
       "      <th>model</th>\n",
       "      <th>price (€)</th>\n",
       "      <th>rating</th>\n",
       "      <th>has_5g</th>\n",
       "      <th>processor_brand</th>\n",
       "      <th>num_cores</th>\n",
       "      <th>processor_speed</th>\n",
       "      <th>battery_capacity</th>\n",
       "      <th>fast_charging_available</th>\n",
       "      <th>...</th>\n",
       "      <th>primary_camera_front</th>\n",
       "      <th>extended_memory_available</th>\n",
       "      <th>extended_upto</th>\n",
       "      <th>resolution_width</th>\n",
       "      <th>resolution_height</th>\n",
       "      <th>quality_battery_autonomy</th>\n",
       "      <th>performance category</th>\n",
       "      <th>price_segment</th>\n",
       "      <th>ratio_rating_price</th>\n",
       "      <th>ratio_segment</th>\n",
       "    </tr>\n",
       "  </thead>\n",
       "  <tbody>\n",
       "    <tr>\n",
       "      <th>0</th>\n",
       "      <td>apple</td>\n",
       "      <td>Apple iPhone 11</td>\n",
       "      <td>388.66</td>\n",
       "      <td>73.0</td>\n",
       "      <td>False</td>\n",
       "      <td>bionic</td>\n",
       "      <td>6</td>\n",
       "      <td>2.65</td>\n",
       "      <td>3110</td>\n",
       "      <td>0</td>\n",
       "      <td>...</td>\n",
       "      <td>12.0</td>\n",
       "      <td>0</td>\n",
       "      <td>NaN</td>\n",
       "      <td>828</td>\n",
       "      <td>1792</td>\n",
       "      <td>faible</td>\n",
       "      <td>basique</td>\n",
       "      <td>milieu</td>\n",
       "      <td>0.187825</td>\n",
       "      <td>0.479802</td>\n",
       "    </tr>\n",
       "    <tr>\n",
       "      <th>1</th>\n",
       "      <td>apple</td>\n",
       "      <td>Apple iPhone 11 (128GB)</td>\n",
       "      <td>468.39</td>\n",
       "      <td>75.0</td>\n",
       "      <td>False</td>\n",
       "      <td>bionic</td>\n",
       "      <td>6</td>\n",
       "      <td>2.65</td>\n",
       "      <td>3110</td>\n",
       "      <td>0</td>\n",
       "      <td>...</td>\n",
       "      <td>12.0</td>\n",
       "      <td>0</td>\n",
       "      <td>NaN</td>\n",
       "      <td>828</td>\n",
       "      <td>1792</td>\n",
       "      <td>faible</td>\n",
       "      <td>basique</td>\n",
       "      <td>milieu</td>\n",
       "      <td>0.160123</td>\n",
       "      <td>0.327847</td>\n",
       "    </tr>\n",
       "    <tr>\n",
       "      <th>2</th>\n",
       "      <td>apple</td>\n",
       "      <td>Apple iPhone 11 Pro Max</td>\n",
       "      <td>1095.26</td>\n",
       "      <td>77.0</td>\n",
       "      <td>False</td>\n",
       "      <td>bionic</td>\n",
       "      <td>6</td>\n",
       "      <td>2.65</td>\n",
       "      <td>3500</td>\n",
       "      <td>1</td>\n",
       "      <td>...</td>\n",
       "      <td>12.0</td>\n",
       "      <td>0</td>\n",
       "      <td>NaN</td>\n",
       "      <td>1242</td>\n",
       "      <td>2688</td>\n",
       "      <td>moyenne</td>\n",
       "      <td>basique</td>\n",
       "      <td>haut</td>\n",
       "      <td>0.070303</td>\n",
       "      <td>0.528967</td>\n",
       "    </tr>\n",
       "    <tr>\n",
       "      <th>3</th>\n",
       "      <td>apple</td>\n",
       "      <td>Apple iPhone 12</td>\n",
       "      <td>518.22</td>\n",
       "      <td>74.0</td>\n",
       "      <td>True</td>\n",
       "      <td>bionic</td>\n",
       "      <td>6</td>\n",
       "      <td>3.10</td>\n",
       "      <td>2815</td>\n",
       "      <td>0</td>\n",
       "      <td>...</td>\n",
       "      <td>12.0</td>\n",
       "      <td>0</td>\n",
       "      <td>NaN</td>\n",
       "      <td>1170</td>\n",
       "      <td>2532</td>\n",
       "      <td>faible</td>\n",
       "      <td>basique</td>\n",
       "      <td>milieu</td>\n",
       "      <td>0.142796</td>\n",
       "      <td>0.232805</td>\n",
       "    </tr>\n",
       "    <tr>\n",
       "      <th>4</th>\n",
       "      <td>apple</td>\n",
       "      <td>Apple iPhone 12 (128GB)</td>\n",
       "      <td>558.09</td>\n",
       "      <td>75.0</td>\n",
       "      <td>True</td>\n",
       "      <td>bionic</td>\n",
       "      <td>6</td>\n",
       "      <td>3.10</td>\n",
       "      <td>2815</td>\n",
       "      <td>0</td>\n",
       "      <td>...</td>\n",
       "      <td>12.0</td>\n",
       "      <td>0</td>\n",
       "      <td>NaN</td>\n",
       "      <td>1170</td>\n",
       "      <td>2532</td>\n",
       "      <td>faible</td>\n",
       "      <td>basique</td>\n",
       "      <td>milieu</td>\n",
       "      <td>0.134387</td>\n",
       "      <td>0.186675</td>\n",
       "    </tr>\n",
       "    <tr>\n",
       "      <th>...</th>\n",
       "      <td>...</td>\n",
       "      <td>...</td>\n",
       "      <td>...</td>\n",
       "      <td>...</td>\n",
       "      <td>...</td>\n",
       "      <td>...</td>\n",
       "      <td>...</td>\n",
       "      <td>...</td>\n",
       "      <td>...</td>\n",
       "      <td>...</td>\n",
       "      <td>...</td>\n",
       "      <td>...</td>\n",
       "      <td>...</td>\n",
       "      <td>...</td>\n",
       "      <td>...</td>\n",
       "      <td>...</td>\n",
       "      <td>...</td>\n",
       "      <td>...</td>\n",
       "      <td>...</td>\n",
       "      <td>...</td>\n",
       "      <td>...</td>\n",
       "    </tr>\n",
       "    <tr>\n",
       "      <th>974</th>\n",
       "      <td>xiaomi</td>\n",
       "      <td>Xiaomi Redmi Note 9 Pro</td>\n",
       "      <td>139.51</td>\n",
       "      <td>75.0</td>\n",
       "      <td>False</td>\n",
       "      <td>snapdragon</td>\n",
       "      <td>8</td>\n",
       "      <td>2.30</td>\n",
       "      <td>5020</td>\n",
       "      <td>1</td>\n",
       "      <td>...</td>\n",
       "      <td>16.0</td>\n",
       "      <td>1</td>\n",
       "      <td>512.0</td>\n",
       "      <td>1080</td>\n",
       "      <td>2400</td>\n",
       "      <td>haute</td>\n",
       "      <td>basique</td>\n",
       "      <td>bas</td>\n",
       "      <td>0.537596</td>\n",
       "      <td>0.208098</td>\n",
       "    </tr>\n",
       "    <tr>\n",
       "      <th>975</th>\n",
       "      <td>xiaomi</td>\n",
       "      <td>Xiaomi Redmi Note 9 Pro (4GB RAM + 128GB)</td>\n",
       "      <td>143.90</td>\n",
       "      <td>77.0</td>\n",
       "      <td>False</td>\n",
       "      <td>snapdragon</td>\n",
       "      <td>8</td>\n",
       "      <td>2.30</td>\n",
       "      <td>5020</td>\n",
       "      <td>1</td>\n",
       "      <td>...</td>\n",
       "      <td>16.0</td>\n",
       "      <td>1</td>\n",
       "      <td>512.0</td>\n",
       "      <td>1080</td>\n",
       "      <td>2400</td>\n",
       "      <td>haute</td>\n",
       "      <td>basique</td>\n",
       "      <td>bas</td>\n",
       "      <td>0.535094</td>\n",
       "      <td>0.206536</td>\n",
       "    </tr>\n",
       "    <tr>\n",
       "      <th>976</th>\n",
       "      <td>xiaomi</td>\n",
       "      <td>Xiaomi Redmi Note 9 Pro Max</td>\n",
       "      <td>164.34</td>\n",
       "      <td>80.0</td>\n",
       "      <td>False</td>\n",
       "      <td>snapdragon</td>\n",
       "      <td>8</td>\n",
       "      <td>2.30</td>\n",
       "      <td>5020</td>\n",
       "      <td>1</td>\n",
       "      <td>...</td>\n",
       "      <td>32.0</td>\n",
       "      <td>1</td>\n",
       "      <td>512.0</td>\n",
       "      <td>1080</td>\n",
       "      <td>2400</td>\n",
       "      <td>haute</td>\n",
       "      <td>basique</td>\n",
       "      <td>bas</td>\n",
       "      <td>0.486796</td>\n",
       "      <td>0.176399</td>\n",
       "    </tr>\n",
       "    <tr>\n",
       "      <th>977</th>\n",
       "      <td>zte</td>\n",
       "      <td>ZTE Axon 30S</td>\n",
       "      <td>199.31</td>\n",
       "      <td>82.0</td>\n",
       "      <td>True</td>\n",
       "      <td>snapdragon</td>\n",
       "      <td>8</td>\n",
       "      <td>3.20</td>\n",
       "      <td>4200</td>\n",
       "      <td>1</td>\n",
       "      <td>...</td>\n",
       "      <td>16.0</td>\n",
       "      <td>1</td>\n",
       "      <td>NaN</td>\n",
       "      <td>1080</td>\n",
       "      <td>2460</td>\n",
       "      <td>moyenne</td>\n",
       "      <td>performance intermédiaire</td>\n",
       "      <td>bas</td>\n",
       "      <td>0.411419</td>\n",
       "      <td>0.129366</td>\n",
       "    </tr>\n",
       "    <tr>\n",
       "      <th>978</th>\n",
       "      <td>zte</td>\n",
       "      <td>ZTE Axon 40 Ultra 5G</td>\n",
       "      <td>617.79</td>\n",
       "      <td>89.0</td>\n",
       "      <td>True</td>\n",
       "      <td>snapdragon</td>\n",
       "      <td>8</td>\n",
       "      <td>3.00</td>\n",
       "      <td>5000</td>\n",
       "      <td>1</td>\n",
       "      <td>...</td>\n",
       "      <td>16.0</td>\n",
       "      <td>0</td>\n",
       "      <td>NaN</td>\n",
       "      <td>1116</td>\n",
       "      <td>2480</td>\n",
       "      <td>haute</td>\n",
       "      <td>haut performance</td>\n",
       "      <td>milieu</td>\n",
       "      <td>0.144062</td>\n",
       "      <td>0.239746</td>\n",
       "    </tr>\n",
       "  </tbody>\n",
       "</table>\n",
       "<p>979 rows × 29 columns</p>\n",
       "</div>"
      ]
     },
     "execution_count": 19,
     "metadata": {},
     "output_type": "execute_result"
    }
   ],
   "execution_count": 19
  },
  {
   "cell_type": "markdown",
   "id": "696ac46f",
   "metadata": {},
   "source": [
    "Voici une petite analyse de la distribution du ratio segmenté :\n",
    "\n",
    "* Segment bas (< 300 €) :\n",
    "    * `Moyenne : 0.21`\n",
    "    * `25% des modèles ont un score < 0.11`\n",
    "    * `Score élevé (75e percentile) : > 0.27`\n",
    "    * Les bons scores sont rares dans ce segment, les valeurs sont globalement faibles.\n",
    "\n",
    "* Segment milieu (300–700 €) :\n",
    "    * `Moyenne : 0.51`\n",
    "    * `25% des modèles : < 0.28`\n",
    "    * `75% des modèles : < 0.75`\n",
    "    * Cette distribution est plus équilibrée, nous avons de bons segments pour identifier des rapports qualités-prix corrects.\n",
    "\n",
    "* Segment haut (> 700 €) :\n",
    "    * `Moyenne : 0.61`\n",
    "    * `25% des modèles : < 0.46`\n",
    "    * `75% des modèles : > 0.77`\n",
    "    * Ici, nous avons plus de variance, et certains modèles haut de gamme sont bien notés pour leur prix.\n",
    "\n",
    "Nous allons donc écrire une fonction nous permettant d'attribuer nos étiquettes `qualité/prix` selon des seuils basés sur l'analyse des distributions des différents segments."
   ]
  },
  {
   "cell_type": "code",
   "id": "2fe033eb",
   "metadata": {
    "ExecuteTime": {
     "end_time": "2025-07-27T22:12:49.974832Z",
     "start_time": "2025-07-27T22:12:49.963233Z"
    }
   },
   "source": [
    "### Fonction d'étiquetage\n",
    "def label_ratio(phone) -> str:\n",
    "    \"\"\"\n",
    "    Fonction d'attribution de label sur le rapport qualité/prix en fonction du segment dans lequel se trouve le téléphone considéré.\n",
    "    \n",
    "    :param phone: Téléphone à étiqueter sur son rapport qualité/prix\n",
    "    :return: Étiquette finale\n",
    "    \"\"\"\n",
    "    \n",
    "    ### Récupération des ratios\n",
    "    val = phone['ratio_segment']\n",
    "    segment = phone['price_segment']\n",
    "    \n",
    "    ### Disjonction de cas et attribution des labels\n",
    "    ### Segment bas\n",
    "    if segment == 'bas':\n",
    "        if val >= 0.30:\n",
    "            return \"excellent\"\n",
    "        elif val >= 0.20:\n",
    "            return \"bon\"\n",
    "        elif val >= 0.10:\n",
    "            return \"moyen\"\n",
    "        else:\n",
    "            return \"faible\"\n",
    "        \n",
    "    ### Segment milieu\n",
    "    elif segment == 'milieu':\n",
    "        if val >= 0.70:\n",
    "            return \"excellent\"\n",
    "        elif val >= 0.50:\n",
    "            return \"bon\"\n",
    "        elif val >= 0.30:\n",
    "            return \"moyen\"\n",
    "        else:\n",
    "            return \"faible\"\n",
    "    \n",
    "    ### Segment haut\n",
    "    elif segment == 'haut':\n",
    "        if val >= 0.80:\n",
    "            return \"excellent\"\n",
    "        elif val >= 0.60:\n",
    "            return \"bon\"\n",
    "        elif val >= 0.40:\n",
    "            return \"moyen\"\n",
    "        else:\n",
    "            return \"faible\"\n",
    "    \n",
    "    ### Renvoyer inconnu par mesure de sécurité (Possibles valeurs manquantes qui ne peuvent pas être remplacées)\n",
    "    return \"inconnu\""
   ],
   "outputs": [],
   "execution_count": 20
  },
  {
   "cell_type": "code",
   "id": "0a77885d",
   "metadata": {
    "ExecuteTime": {
     "end_time": "2025-07-27T22:12:49.993654Z",
     "start_time": "2025-07-27T22:12:49.976084Z"
    }
   },
   "source": [
    "### Application de la fonction d'étiquetage\n",
    "data['quality-price_ratio'] = data.apply(label_ratio, axis=1)\n",
    "\n",
    "data"
   ],
   "outputs": [
    {
     "data": {
      "text/plain": [
       "    brand_name                                      model  price (€)  rating  \\\n",
       "0        apple                            Apple iPhone 11     388.66    73.0   \n",
       "1        apple                    Apple iPhone 11 (128GB)     468.39    75.0   \n",
       "2        apple                    Apple iPhone 11 Pro Max    1095.26    77.0   \n",
       "3        apple                            Apple iPhone 12     518.22    74.0   \n",
       "4        apple                    Apple iPhone 12 (128GB)     558.09    75.0   \n",
       "..         ...                                        ...        ...     ...   \n",
       "974     xiaomi                    Xiaomi Redmi Note 9 Pro     139.51    75.0   \n",
       "975     xiaomi  Xiaomi Redmi Note 9 Pro (4GB RAM + 128GB)     143.90    77.0   \n",
       "976     xiaomi                Xiaomi Redmi Note 9 Pro Max     164.34    80.0   \n",
       "977        zte                               ZTE Axon 30S     199.31    82.0   \n",
       "978        zte                       ZTE Axon 40 Ultra 5G     617.79    89.0   \n",
       "\n",
       "     has_5g processor_brand  num_cores  processor_speed  battery_capacity  \\\n",
       "0     False          bionic          6             2.65              3110   \n",
       "1     False          bionic          6             2.65              3110   \n",
       "2     False          bionic          6             2.65              3500   \n",
       "3      True          bionic          6             3.10              2815   \n",
       "4      True          bionic          6             3.10              2815   \n",
       "..      ...             ...        ...              ...               ...   \n",
       "974   False      snapdragon          8             2.30              5020   \n",
       "975   False      snapdragon          8             2.30              5020   \n",
       "976   False      snapdragon          8             2.30              5020   \n",
       "977    True      snapdragon          8             3.20              4200   \n",
       "978    True      snapdragon          8             3.00              5000   \n",
       "\n",
       "     fast_charging_available  ...  extended_memory_available  extended_upto  \\\n",
       "0                          0  ...                          0            NaN   \n",
       "1                          0  ...                          0            NaN   \n",
       "2                          1  ...                          0            NaN   \n",
       "3                          0  ...                          0            NaN   \n",
       "4                          0  ...                          0            NaN   \n",
       "..                       ...  ...                        ...            ...   \n",
       "974                        1  ...                          1          512.0   \n",
       "975                        1  ...                          1          512.0   \n",
       "976                        1  ...                          1          512.0   \n",
       "977                        1  ...                          1            NaN   \n",
       "978                        1  ...                          0            NaN   \n",
       "\n",
       "     resolution_width  resolution_height  quality_battery_autonomy  \\\n",
       "0                 828               1792                    faible   \n",
       "1                 828               1792                    faible   \n",
       "2                1242               2688                   moyenne   \n",
       "3                1170               2532                    faible   \n",
       "4                1170               2532                    faible   \n",
       "..                ...                ...                       ...   \n",
       "974              1080               2400                     haute   \n",
       "975              1080               2400                     haute   \n",
       "976              1080               2400                     haute   \n",
       "977              1080               2460                   moyenne   \n",
       "978              1116               2480                     haute   \n",
       "\n",
       "          performance category  price_segment ratio_rating_price  \\\n",
       "0                      basique         milieu           0.187825   \n",
       "1                      basique         milieu           0.160123   \n",
       "2                      basique           haut           0.070303   \n",
       "3                      basique         milieu           0.142796   \n",
       "4                      basique         milieu           0.134387   \n",
       "..                         ...            ...                ...   \n",
       "974                    basique            bas           0.537596   \n",
       "975                    basique            bas           0.535094   \n",
       "976                    basique            bas           0.486796   \n",
       "977  performance intermédiaire            bas           0.411419   \n",
       "978           haut performance         milieu           0.144062   \n",
       "\n",
       "     ratio_segment  quality-price_ratio  \n",
       "0         0.479802                moyen  \n",
       "1         0.327847                moyen  \n",
       "2         0.528967                moyen  \n",
       "3         0.232805               faible  \n",
       "4         0.186675               faible  \n",
       "..             ...                  ...  \n",
       "974       0.208098                  bon  \n",
       "975       0.206536                  bon  \n",
       "976       0.176399                moyen  \n",
       "977       0.129366                moyen  \n",
       "978       0.239746               faible  \n",
       "\n",
       "[979 rows x 30 columns]"
      ],
      "text/html": [
       "<div>\n",
       "<style scoped>\n",
       "    .dataframe tbody tr th:only-of-type {\n",
       "        vertical-align: middle;\n",
       "    }\n",
       "\n",
       "    .dataframe tbody tr th {\n",
       "        vertical-align: top;\n",
       "    }\n",
       "\n",
       "    .dataframe thead th {\n",
       "        text-align: right;\n",
       "    }\n",
       "</style>\n",
       "<table border=\"1\" class=\"dataframe\">\n",
       "  <thead>\n",
       "    <tr style=\"text-align: right;\">\n",
       "      <th></th>\n",
       "      <th>brand_name</th>\n",
       "      <th>model</th>\n",
       "      <th>price (€)</th>\n",
       "      <th>rating</th>\n",
       "      <th>has_5g</th>\n",
       "      <th>processor_brand</th>\n",
       "      <th>num_cores</th>\n",
       "      <th>processor_speed</th>\n",
       "      <th>battery_capacity</th>\n",
       "      <th>fast_charging_available</th>\n",
       "      <th>...</th>\n",
       "      <th>extended_memory_available</th>\n",
       "      <th>extended_upto</th>\n",
       "      <th>resolution_width</th>\n",
       "      <th>resolution_height</th>\n",
       "      <th>quality_battery_autonomy</th>\n",
       "      <th>performance category</th>\n",
       "      <th>price_segment</th>\n",
       "      <th>ratio_rating_price</th>\n",
       "      <th>ratio_segment</th>\n",
       "      <th>quality-price_ratio</th>\n",
       "    </tr>\n",
       "  </thead>\n",
       "  <tbody>\n",
       "    <tr>\n",
       "      <th>0</th>\n",
       "      <td>apple</td>\n",
       "      <td>Apple iPhone 11</td>\n",
       "      <td>388.66</td>\n",
       "      <td>73.0</td>\n",
       "      <td>False</td>\n",
       "      <td>bionic</td>\n",
       "      <td>6</td>\n",
       "      <td>2.65</td>\n",
       "      <td>3110</td>\n",
       "      <td>0</td>\n",
       "      <td>...</td>\n",
       "      <td>0</td>\n",
       "      <td>NaN</td>\n",
       "      <td>828</td>\n",
       "      <td>1792</td>\n",
       "      <td>faible</td>\n",
       "      <td>basique</td>\n",
       "      <td>milieu</td>\n",
       "      <td>0.187825</td>\n",
       "      <td>0.479802</td>\n",
       "      <td>moyen</td>\n",
       "    </tr>\n",
       "    <tr>\n",
       "      <th>1</th>\n",
       "      <td>apple</td>\n",
       "      <td>Apple iPhone 11 (128GB)</td>\n",
       "      <td>468.39</td>\n",
       "      <td>75.0</td>\n",
       "      <td>False</td>\n",
       "      <td>bionic</td>\n",
       "      <td>6</td>\n",
       "      <td>2.65</td>\n",
       "      <td>3110</td>\n",
       "      <td>0</td>\n",
       "      <td>...</td>\n",
       "      <td>0</td>\n",
       "      <td>NaN</td>\n",
       "      <td>828</td>\n",
       "      <td>1792</td>\n",
       "      <td>faible</td>\n",
       "      <td>basique</td>\n",
       "      <td>milieu</td>\n",
       "      <td>0.160123</td>\n",
       "      <td>0.327847</td>\n",
       "      <td>moyen</td>\n",
       "    </tr>\n",
       "    <tr>\n",
       "      <th>2</th>\n",
       "      <td>apple</td>\n",
       "      <td>Apple iPhone 11 Pro Max</td>\n",
       "      <td>1095.26</td>\n",
       "      <td>77.0</td>\n",
       "      <td>False</td>\n",
       "      <td>bionic</td>\n",
       "      <td>6</td>\n",
       "      <td>2.65</td>\n",
       "      <td>3500</td>\n",
       "      <td>1</td>\n",
       "      <td>...</td>\n",
       "      <td>0</td>\n",
       "      <td>NaN</td>\n",
       "      <td>1242</td>\n",
       "      <td>2688</td>\n",
       "      <td>moyenne</td>\n",
       "      <td>basique</td>\n",
       "      <td>haut</td>\n",
       "      <td>0.070303</td>\n",
       "      <td>0.528967</td>\n",
       "      <td>moyen</td>\n",
       "    </tr>\n",
       "    <tr>\n",
       "      <th>3</th>\n",
       "      <td>apple</td>\n",
       "      <td>Apple iPhone 12</td>\n",
       "      <td>518.22</td>\n",
       "      <td>74.0</td>\n",
       "      <td>True</td>\n",
       "      <td>bionic</td>\n",
       "      <td>6</td>\n",
       "      <td>3.10</td>\n",
       "      <td>2815</td>\n",
       "      <td>0</td>\n",
       "      <td>...</td>\n",
       "      <td>0</td>\n",
       "      <td>NaN</td>\n",
       "      <td>1170</td>\n",
       "      <td>2532</td>\n",
       "      <td>faible</td>\n",
       "      <td>basique</td>\n",
       "      <td>milieu</td>\n",
       "      <td>0.142796</td>\n",
       "      <td>0.232805</td>\n",
       "      <td>faible</td>\n",
       "    </tr>\n",
       "    <tr>\n",
       "      <th>4</th>\n",
       "      <td>apple</td>\n",
       "      <td>Apple iPhone 12 (128GB)</td>\n",
       "      <td>558.09</td>\n",
       "      <td>75.0</td>\n",
       "      <td>True</td>\n",
       "      <td>bionic</td>\n",
       "      <td>6</td>\n",
       "      <td>3.10</td>\n",
       "      <td>2815</td>\n",
       "      <td>0</td>\n",
       "      <td>...</td>\n",
       "      <td>0</td>\n",
       "      <td>NaN</td>\n",
       "      <td>1170</td>\n",
       "      <td>2532</td>\n",
       "      <td>faible</td>\n",
       "      <td>basique</td>\n",
       "      <td>milieu</td>\n",
       "      <td>0.134387</td>\n",
       "      <td>0.186675</td>\n",
       "      <td>faible</td>\n",
       "    </tr>\n",
       "    <tr>\n",
       "      <th>...</th>\n",
       "      <td>...</td>\n",
       "      <td>...</td>\n",
       "      <td>...</td>\n",
       "      <td>...</td>\n",
       "      <td>...</td>\n",
       "      <td>...</td>\n",
       "      <td>...</td>\n",
       "      <td>...</td>\n",
       "      <td>...</td>\n",
       "      <td>...</td>\n",
       "      <td>...</td>\n",
       "      <td>...</td>\n",
       "      <td>...</td>\n",
       "      <td>...</td>\n",
       "      <td>...</td>\n",
       "      <td>...</td>\n",
       "      <td>...</td>\n",
       "      <td>...</td>\n",
       "      <td>...</td>\n",
       "      <td>...</td>\n",
       "      <td>...</td>\n",
       "    </tr>\n",
       "    <tr>\n",
       "      <th>974</th>\n",
       "      <td>xiaomi</td>\n",
       "      <td>Xiaomi Redmi Note 9 Pro</td>\n",
       "      <td>139.51</td>\n",
       "      <td>75.0</td>\n",
       "      <td>False</td>\n",
       "      <td>snapdragon</td>\n",
       "      <td>8</td>\n",
       "      <td>2.30</td>\n",
       "      <td>5020</td>\n",
       "      <td>1</td>\n",
       "      <td>...</td>\n",
       "      <td>1</td>\n",
       "      <td>512.0</td>\n",
       "      <td>1080</td>\n",
       "      <td>2400</td>\n",
       "      <td>haute</td>\n",
       "      <td>basique</td>\n",
       "      <td>bas</td>\n",
       "      <td>0.537596</td>\n",
       "      <td>0.208098</td>\n",
       "      <td>bon</td>\n",
       "    </tr>\n",
       "    <tr>\n",
       "      <th>975</th>\n",
       "      <td>xiaomi</td>\n",
       "      <td>Xiaomi Redmi Note 9 Pro (4GB RAM + 128GB)</td>\n",
       "      <td>143.90</td>\n",
       "      <td>77.0</td>\n",
       "      <td>False</td>\n",
       "      <td>snapdragon</td>\n",
       "      <td>8</td>\n",
       "      <td>2.30</td>\n",
       "      <td>5020</td>\n",
       "      <td>1</td>\n",
       "      <td>...</td>\n",
       "      <td>1</td>\n",
       "      <td>512.0</td>\n",
       "      <td>1080</td>\n",
       "      <td>2400</td>\n",
       "      <td>haute</td>\n",
       "      <td>basique</td>\n",
       "      <td>bas</td>\n",
       "      <td>0.535094</td>\n",
       "      <td>0.206536</td>\n",
       "      <td>bon</td>\n",
       "    </tr>\n",
       "    <tr>\n",
       "      <th>976</th>\n",
       "      <td>xiaomi</td>\n",
       "      <td>Xiaomi Redmi Note 9 Pro Max</td>\n",
       "      <td>164.34</td>\n",
       "      <td>80.0</td>\n",
       "      <td>False</td>\n",
       "      <td>snapdragon</td>\n",
       "      <td>8</td>\n",
       "      <td>2.30</td>\n",
       "      <td>5020</td>\n",
       "      <td>1</td>\n",
       "      <td>...</td>\n",
       "      <td>1</td>\n",
       "      <td>512.0</td>\n",
       "      <td>1080</td>\n",
       "      <td>2400</td>\n",
       "      <td>haute</td>\n",
       "      <td>basique</td>\n",
       "      <td>bas</td>\n",
       "      <td>0.486796</td>\n",
       "      <td>0.176399</td>\n",
       "      <td>moyen</td>\n",
       "    </tr>\n",
       "    <tr>\n",
       "      <th>977</th>\n",
       "      <td>zte</td>\n",
       "      <td>ZTE Axon 30S</td>\n",
       "      <td>199.31</td>\n",
       "      <td>82.0</td>\n",
       "      <td>True</td>\n",
       "      <td>snapdragon</td>\n",
       "      <td>8</td>\n",
       "      <td>3.20</td>\n",
       "      <td>4200</td>\n",
       "      <td>1</td>\n",
       "      <td>...</td>\n",
       "      <td>1</td>\n",
       "      <td>NaN</td>\n",
       "      <td>1080</td>\n",
       "      <td>2460</td>\n",
       "      <td>moyenne</td>\n",
       "      <td>performance intermédiaire</td>\n",
       "      <td>bas</td>\n",
       "      <td>0.411419</td>\n",
       "      <td>0.129366</td>\n",
       "      <td>moyen</td>\n",
       "    </tr>\n",
       "    <tr>\n",
       "      <th>978</th>\n",
       "      <td>zte</td>\n",
       "      <td>ZTE Axon 40 Ultra 5G</td>\n",
       "      <td>617.79</td>\n",
       "      <td>89.0</td>\n",
       "      <td>True</td>\n",
       "      <td>snapdragon</td>\n",
       "      <td>8</td>\n",
       "      <td>3.00</td>\n",
       "      <td>5000</td>\n",
       "      <td>1</td>\n",
       "      <td>...</td>\n",
       "      <td>0</td>\n",
       "      <td>NaN</td>\n",
       "      <td>1116</td>\n",
       "      <td>2480</td>\n",
       "      <td>haute</td>\n",
       "      <td>haut performance</td>\n",
       "      <td>milieu</td>\n",
       "      <td>0.144062</td>\n",
       "      <td>0.239746</td>\n",
       "      <td>faible</td>\n",
       "    </tr>\n",
       "  </tbody>\n",
       "</table>\n",
       "<p>979 rows × 30 columns</p>\n",
       "</div>"
      ]
     },
     "execution_count": 21,
     "metadata": {},
     "output_type": "execute_result"
    }
   ],
   "execution_count": 21
  },
  {
   "cell_type": "markdown",
   "id": "2a21c38e",
   "metadata": {},
   "source": [
    "**Enregistrement du dataframe**"
   ]
  },
  {
   "cell_type": "markdown",
   "id": "41a153a2",
   "metadata": {},
   "source": [
    "Dans un premier temps, nous allons réorganiser les colonnes, et supprimer certaines dont nous n'aurons pas besoin pour la mise en place de notre modèle."
   ]
  },
  {
   "cell_type": "code",
   "id": "857a9e3c",
   "metadata": {
    "ExecuteTime": {
     "end_time": "2025-07-27T22:12:49.998603Z",
     "start_time": "2025-07-27T22:12:49.994928Z"
    }
   },
   "source": [
    "### Nouvel ordre des colonnes\n",
    "new_order = ['brand_name', 'model', 'price (€)', 'price_segment','rating', 'ratio_rating_price', 'ratio_segment', 'quality-price_ratio', 'has_5g', 'processor_brand', 'num_cores', 'processor_speed', 'battery_capacity', 'quality_battery_autonomy', 'fast_charging_available', 'fast_charging', 'ram_capacity', 'internal_memory', 'screen_size', 'refresh_rate', 'num_rear_cameras', 'num_front_cameras', 'os', 'primary_camera_rear', 'primary_camera_front', 'extended_memory_available', 'extended_upto', 'resolution_width', 'resolution_height', 'performance category']\n",
    "\n",
    "data = data[new_order]"
   ],
   "outputs": [],
   "execution_count": 22
  },
  {
   "cell_type": "markdown",
   "id": "477bc505",
   "metadata": {},
   "source": [
    "**Extraction du dataset traîté**"
   ]
  },
  {
   "cell_type": "code",
   "id": "232ae84e",
   "metadata": {
    "ExecuteTime": {
     "end_time": "2025-07-27T22:12:50.009288Z",
     "start_time": "2025-07-27T22:12:49.999370Z"
    }
   },
   "source": [
    "data.to_csv('../data/processed/Smartphones_cleaned_dataset_processed.csv', index=False)"
   ],
   "outputs": [],
   "execution_count": 23
  },
  {
   "cell_type": "markdown",
   "id": "8bb749cc",
   "metadata": {},
   "source": [
    "---\n",
    "## Pipeline RAG"
   ]
  },
  {
   "cell_type": "markdown",
   "id": "d1a82f18",
   "metadata": {},
   "source": [
    "1. Chargement des données et configuration  \n",
    "2. Construction du jeu de passages + embeddings DPR  \n",
    "3. Création de l’index FAISS  \n",
    "4. Chargement du pipeline RAG Hugging-Face  \n",
    "5. Tests d’interrogation  \n",
    "6. Interprétation des résultats"
   ]
  },
  {
   "cell_type": "code",
   "id": "6636de1f",
   "metadata": {
    "ExecuteTime": {
     "end_time": "2025-07-27T22:12:53.246779Z",
     "start_time": "2025-07-27T22:12:50.010421Z"
    }
   },
   "source": [
    "### Importation des modules\n",
    "import os\n",
    "import re\n",
    "import faiss\n",
    "import json\n",
    "import numpy as np\n",
    "import pandas as pd\n",
    "from datasets import Dataset, load_from_disk, load_dataset\n",
    "from transformers import (\n",
    "    AutoTokenizer, AutoModelForSeq2SeqLM, DPRQuestionEncoder, DPRQuestionEncoderTokenizerFast\n",
    ")\n",
    "from sentence_transformers import SentenceTransformer\n",
    "from peft import PeftModel\n",
    "from typing import *"
   ],
   "outputs": [
    {
     "name": "stderr",
     "output_type": "stream",
     "text": [
      "/opt/anaconda3/envs/phone-recommender/lib/python3.11/site-packages/requests/__init__.py:86: RequestsDependencyWarning:\n",
      "\n",
      "Unable to find acceptable character detection dependency (chardet or charset_normalizer).\n",
      "\n"
     ]
    }
   ],
   "execution_count": 24
  },
  {
   "cell_type": "code",
   "id": "82252c8fcf55dadb",
   "metadata": {
    "ExecuteTime": {
     "end_time": "2025-07-27T22:12:53.248943Z",
     "start_time": "2025-07-27T22:12:53.247342Z"
    }
   },
   "source": [
    "### Séparation de l'import de ce module car il génère des erreurs dans l'environnement\n",
    "import torch"
   ],
   "outputs": [],
   "execution_count": 25
  },
  {
   "cell_type": "code",
   "id": "e594c3d9",
   "metadata": {
    "ExecuteTime": {
     "end_time": "2025-07-27T22:12:53.251247Z",
     "start_time": "2025-07-27T22:12:53.249548Z"
    }
   },
   "source": [
    "### Chargement des variables d'environnement\n",
    "TRANSFORMER = os.getenv('TRANSFORMER')\n",
    "MODEL_NAME = os.getenv(\"MODEL_NAME\")\n",
    "GEN_MODEL = os.getenv(\"GEN_MODEL\")\n",
    "PASSAGES_PATH = os.getenv(\"PASSAGES_PATH\")\n",
    "DPR_DATASET = os.getenv(\"DPR_DATASET\")\n",
    "INDEX_PATH = os.getenv(\"INDEX_PATH\")\n",
    "N_DOCS = int(os.getenv(\"N_DOCS\", 50))\n",
    "DEVICE = os.getenv(\"DEVICE\")"
   ],
   "outputs": [],
   "execution_count": 26
  },
  {
   "cell_type": "markdown",
   "id": "32415505",
   "metadata": {},
   "source": [
    "### 1. Création des passages"
   ]
  },
  {
   "cell_type": "markdown",
   "id": "4f72acb3",
   "metadata": {},
   "source": [
    "Ici, nous allons procéder à la création des passages. On lit le CSV nettoyé et on génère un fichier JSONL de `{\"title\",\"text\"}`, où `title` est le nom de la marque, et le modèle du téléphone, et `text` correspond à toutes les caractéristiques d'un téléphone : c'est-à-dire le prix, la taille d'écran, etc.\n",
    "\n",
    "L'idée est de transformer les informatiosn en un language semi-naturel pour aiser la compréhension du modèle des informations. Effectivement, les bien qu'une structure *caractéristique : valeur* est compréhensible à nos yeux, il est plus difficile à interpréter pour FAISS."
   ]
  },
  {
   "cell_type": "code",
   "id": "59a247ac",
   "metadata": {
    "ExecuteTime": {
     "end_time": "2025-07-27T22:12:53.284870Z",
     "start_time": "2025-07-27T22:12:53.251826Z"
    }
   },
   "source": [
    "records: list = []\n",
    "for _, phone in data.iterrows():\n",
    "    title = f\"{phone['model']}\"\n",
    "    \n",
    "    ### Formatage du texte\n",
    "    text = (\n",
    "        f\"Le {phone['brand_name']} {phone['model']} coûte {phone['price (€)']} €, ce qui en fait un modèle avec un prix {phone['price_segment']}. \"\n",
    "        f\"Il dispose d'un écran de {phone['screen_size']} pouces avec un taux de rafraîchissement de {phone['refresh_rate']} Hz. \"\n",
    "        f\"Ce télépone a une note de {phone['rating']}, un rapport qualité-prix de {phone['quality-price_ratio']} et {'dispose' if phone['has_5g'] else 'ne dispose pas'} de la 5G. \"\n",
    "        f\"Ce téléphone offre une autonomie {phone['quality_battery_autonomy']} grâce à une batterie de {phone['battery_capacity']} mAh. \"\n",
    "        f\"Il est équipé de {phone['internal_memory']} Go de stockage, de {phone['ram_capacity']} Go de RAM ce qui en fait un téléphone avec un niveau de performance {phone['performance category']}. \"\n",
    "        f\"Il tourne sous {phone['os']}, possède une caméra arrière de {phone['primary_camera_rear']} Mpx et une caméra avant de {phone['primary_camera_front']} Mpx. \"\n",
    "    )\n",
    "    records.append({\"title\": title, \"text\": text})\n",
    "\n",
    "### Enregistrement des passages dans un dataset\n",
    "with open('../data/processed/passages.jsonl', 'w') as f:\n",
    "    for passage in records:\n",
    "        f.write(json.dumps(passage, ensure_ascii=False) + \"\\n\")\n",
    "\n",
    "print(\"Passages enregistrés dans\", \"../data/processed/passages.jsonl\")"
   ],
   "outputs": [
    {
     "name": "stdout",
     "output_type": "stream",
     "text": [
      "Passages enregistrés dans ../data/processed/passages.jsonl\n"
     ]
    }
   ],
   "execution_count": 27
  },
  {
   "cell_type": "markdown",
   "id": "d8be8621",
   "metadata": {},
   "source": [
    "### 2. Création du dataset et embeddings"
   ]
  },
  {
   "cell_type": "markdown",
   "id": "36b805dd",
   "metadata": {},
   "source": [
    "Ici, il s'agira d'encoder chaque `text` avec Sentence-Transformer et d'ajouter la colonne `embeddings`."
   ]
  },
  {
   "cell_type": "code",
   "id": "eaf2da4e",
   "metadata": {
    "ExecuteTime": {
     "end_time": "2025-07-27T22:12:59.287611Z",
     "start_time": "2025-07-27T22:12:53.285527Z"
    }
   },
   "source": [
    "### Chargement des passages dans un dataset\n",
    "ds = Dataset.from_json(\"../data/processed/passages.jsonl\", split=\"train\")\n",
    "\n",
    "### Récupération des phrases dans les passages\n",
    "texts: list = list(ds['text'])\n",
    "\n",
    "\"\"\"\n",
    "Création d'un embedder pour le calcul des embeddings\n",
    "DEVICE définit quel matériel (Hardware ici) sur lequel nous faisons les calculs des embeddings : CPU ou GPU\n",
    "Transformer : all-MiniLM-L6-v2\n",
    "\"\"\"\n",
    "embedder = SentenceTransformer(\"sentence-transformers/all-MiniLM-L6-v2\", device=DEVICE)\n",
    "\n",
    "### Calcul des embeddings\n",
    "embs = embedder.encode(texts, convert_to_numpy=True, show_progress_bar=True)\n",
    "\n",
    "### Ajout de la colonne `embeddings`\n",
    "ds = ds.add_column(\"embeddings\", embs.tolist())\n",
    "\n",
    "### Sauvegarde du dataset\n",
    "ds.save_to_disk(\"../data/processed/passages_dataset_dpr\")\n",
    "print(\"Dataset DPR sauvé dans\", \"../data/processed/passages_dataset_dpr\")"
   ],
   "outputs": [
    {
     "data": {
      "text/plain": [
       "Generating train split: 0 examples [00:00, ? examples/s]"
      ],
      "application/vnd.jupyter.widget-view+json": {
       "version_major": 2,
       "version_minor": 0,
       "model_id": "88ce3313c0574f5087ad301d54c67deb"
      }
     },
     "metadata": {},
     "output_type": "display_data"
    },
    {
     "data": {
      "text/plain": [
       "Batches:   0%|          | 0/31 [00:00<?, ?it/s]"
      ],
      "application/vnd.jupyter.widget-view+json": {
       "version_major": 2,
       "version_minor": 0,
       "model_id": "b7dc0a79e9544bf2b7147cce7e72010f"
      }
     },
     "metadata": {},
     "output_type": "display_data"
    },
    {
     "data": {
      "text/plain": [
       "Saving the dataset (0/1 shards):   0%|          | 0/979 [00:00<?, ? examples/s]"
      ],
      "application/vnd.jupyter.widget-view+json": {
       "version_major": 2,
       "version_minor": 0,
       "model_id": "92adc926ed14494587f6d42c12b76ae2"
      }
     },
     "metadata": {},
     "output_type": "display_data"
    },
    {
     "name": "stdout",
     "output_type": "stream",
     "text": [
      "Dataset DPR sauvé dans ../data/processed/passages_dataset_dpr\n"
     ]
    }
   ],
   "execution_count": 28
  },
  {
   "cell_type": "markdown",
   "id": "4964ecb8",
   "metadata": {},
   "source": [
    "**Affichage embeddings**"
   ]
  },
  {
   "cell_type": "code",
   "id": "714dc6e5",
   "metadata": {
    "ExecuteTime": {
     "end_time": "2025-07-27T22:12:59.377775Z",
     "start_time": "2025-07-27T22:12:59.289635Z"
    }
   },
   "source": [
    "### Chargement des embeddings\n",
    "embeddings = np.array(ds[\"embeddings\"], dtype=np.float32)\n",
    "\n",
    "### On vérifie ici la dimension des embeddings\n",
    "print(\"Dimension des embeddings:\", embeddings.shape)\n",
    "\n",
    "### Affichage des 5 premiers embeddings\n",
    "print(\"5 premiers embeddings :\", embeddings[:5])"
   ],
   "outputs": [
    {
     "name": "stdout",
     "output_type": "stream",
     "text": [
      "Dimension des embeddings: (979, 384)\n",
      "5 premiers embeddings : [[-0.05384278  0.13649024 -0.01815253 ... -0.00907882 -0.02675149\n",
      "   0.01626959]\n",
      " [-0.04387905  0.1302784  -0.01567334 ... -0.01041287 -0.03648336\n",
      "   0.01302907]\n",
      " [-0.05503476  0.11413612 -0.02420181 ... -0.00901012 -0.01617312\n",
      "   0.01406909]\n",
      " [-0.02209838  0.13988084 -0.02962287 ... -0.00617501 -0.01457006\n",
      "   0.03625868]\n",
      " [-0.0154454   0.13735439 -0.02989352 ... -0.00852892 -0.02043919\n",
      "   0.03482395]]\n"
     ]
    }
   ],
   "execution_count": 29
  },
  {
   "cell_type": "markdown",
   "id": "7fa59efa",
   "metadata": {},
   "source": [
    "### 3. Création de l’index FAISS"
   ]
  },
  {
   "cell_type": "markdown",
   "id": "f6356492",
   "metadata": {},
   "source": [
    "Ici, nous chargeons le dataset DPR, puis extraction des embeddings et on bâtit un `IndexFlatIP`."
   ]
  },
  {
   "cell_type": "code",
   "id": "c936869b",
   "metadata": {
    "ExecuteTime": {
     "end_time": "2025-07-27T22:12:59.452591Z",
     "start_time": "2025-07-27T22:12:59.378312Z"
    }
   },
   "source": [
    "### Chargement des embeddings\n",
    "ds2 = load_from_disk(\"../data/processed/passages_dataset_dpr\")\n",
    "\n",
    "emb_np = np.array(ds2[\"embeddings\"], dtype=np.float32)\n",
    "\n",
    "### Création de l'index\n",
    "index = faiss.IndexFlatIP(emb_np.shape[1])\n",
    "\n",
    "index.add(emb_np)\n",
    "\n",
    "faiss.write_index(index, \"../data/processed/faiss_index.idx\")\n",
    "\n",
    "print(\"Index FAISS enregistré dans\", \"../data/processed/faiss_index.idx\")"
   ],
   "outputs": [
    {
     "name": "stdout",
     "output_type": "stream",
     "text": [
      "Index FAISS enregistré dans ../data/processed/faiss_index.idx\n"
     ]
    }
   ],
   "execution_count": 30
  },
  {
   "cell_type": "markdown",
   "id": "fcf863cc",
   "metadata": {},
   "source": [
    "### 4. Fonction de retrieval"
   ]
  },
  {
   "cell_type": "markdown",
   "id": "a3803d48",
   "metadata": {},
   "source": [
    "Ici, nous allons encoder la question poser par l'utilisateur, et effectuer la recherche dans FAISS."
   ]
  },
  {
   "cell_type": "code",
   "id": "489dd25bff2f527e",
   "metadata": {
    "ExecuteTime": {
     "end_time": "2025-07-27T22:12:59.456904Z",
     "start_time": "2025-07-27T22:12:59.453197Z"
    }
   },
   "source": [
    "### Chargement de l'index\n",
    "faiss_idx = faiss.read_index(\"../data/processed/faiss_index.idx\")\n",
    "passages = ds2[\"text\"]"
   ],
   "outputs": [],
   "execution_count": 31
  },
  {
   "cell_type": "code",
   "id": "7e8500bd",
   "metadata": {
    "ExecuteTime": {
     "end_time": "2025-07-27T22:12:59.459466Z",
     "start_time": "2025-07-27T22:12:59.457509Z"
    }
   },
   "source": [
    "### Fonction retriever\n",
    "def retrieve(q: str, top_k: int = 10):\n",
    "    \"\"\"\n",
    "    Rechercher les top_k passages les plus pertinents pour une question donnée.\n",
    "\n",
    "    :param q: Question ou requête à rechercher.\n",
    "    :param top_k: Nombre de résultats à retourner. Par défaut 10.\n",
    "\n",
    "    :return list of tuples: Liste de tuples (passage, score) des passages les plus pertinents.\n",
    "    \"\"\"\n",
    "    ### Encodage de la question - Utilisation du DEVICE\n",
    "    q_emb = embedder.encode([q], convert_to_numpy=True)\n",
    "\n",
    "    ### Recherche FAISS\n",
    "    ### scores, ids = faiss_idx.search(rep.astype(np.float32), k=top_k)\n",
    "    scores, ids = faiss_idx.search(q_emb.astype(\"float32\"), top_k)\n",
    "    \n",
    "    ### Conversion explicite des indices en entier\n",
    "    docs = [(passages[int(i)], float(scores[0, idx])) for idx, i in enumerate(ids[0])]\n",
    "\n",
    "    return docs"
   ],
   "outputs": [],
   "execution_count": 32
  },
  {
   "cell_type": "markdown",
   "id": "7eae0bcf",
   "metadata": {},
   "source": [
    "**Tests du FAISS**"
   ]
  },
  {
   "cell_type": "code",
   "id": "c534f62d",
   "metadata": {
    "ExecuteTime": {
     "end_time": "2025-07-27T22:12:59.581700Z",
     "start_time": "2025-07-27T22:12:59.459930Z"
    }
   },
   "source": [
    "# Question test\n",
    "question = \"Je veux un smartphone avec une batterie de 5000 mAh\"\n",
    "\n",
    "question_embedding = embedder.encode([question], convert_to_numpy=True)\n",
    "scores, ids = faiss_idx.search(question_embedding.astype(np.float32), k=10)\n",
    "for i, identifiant in enumerate(ids[0]):\n",
    "    doc_id = int(identifiant)\n",
    "    print(f\"Doc {i+1}: {passages[doc_id]} (Score: {scores[0][i]})\")"
   ],
   "outputs": [
    {
     "name": "stdout",
     "output_type": "stream",
     "text": [
      "Doc 1: Le realme Realme Narzo 50A coûte 114.6 €, ce qui en fait un modèle avec un prix bas. Il dispose d'un écran de 6.5 pouces avec un taux de rafraîchissement de 60 Hz. Ce télépone a une note de 71.0, un rapport qualité-prix de bon et ne dispose pas de la 5G. Ce téléphone offre une autonomie haute grâce à une batterie de 6000 mAh. Il est équipé de 64 Go de stockage, de 4 Go de RAM ce qui en fait un téléphone avec un niveau de performance basique. Il tourne sous android, possède une caméra arrière de 50.0 Mpx et une caméra avant de 8.0 Mpx.  (Score: 0.7045806646347046)\n",
      "Doc 2: Le samsung Samsung Galaxy A50s coûte 159.36 €, ce qui en fait un modèle avec un prix bas. Il dispose d'un écran de 6.4 pouces avec un taux de rafraîchissement de 60 Hz. Ce télépone a une note de 80.0, un rapport qualité-prix de moyen et ne dispose pas de la 5G. Ce téléphone offre une autonomie moyenne grâce à une batterie de 4000 mAh. Il est équipé de 128 Go de stockage, de 4 Go de RAM ce qui en fait un téléphone avec un niveau de performance basique. Il tourne sous android, possède une caméra arrière de 48.0 Mpx et une caméra avant de 32.0 Mpx.  (Score: 0.7040935754776001)\n",
      "Doc 3: Le realme Realme Narzo 50 coûte 109.62 €, ce qui en fait un modèle avec un prix bas. Il dispose d'un écran de 6.6 pouces avec un taux de rafraîchissement de 120 Hz. Ce télépone a une note de 74.0, un rapport qualité-prix de bon et ne dispose pas de la 5G. Ce téléphone offre une autonomie haute grâce à une batterie de 5000 mAh. Il est équipé de 64 Go de stockage, de 4 Go de RAM ce qui en fait un téléphone avec un niveau de performance basique. Il tourne sous android, possède une caméra arrière de 50.0 Mpx et une caméra avant de 16.0 Mpx.  (Score: 0.7013342380523682)\n",
      "Doc 4: Le realme Realme Narzo 50A Prime coûte 113.6 €, ce qui en fait un modèle avec un prix bas. Il dispose d'un écran de 6.6 pouces avec un taux de rafraîchissement de 60 Hz. Ce télépone a une note de 73.0, un rapport qualité-prix de bon et ne dispose pas de la 5G. Ce téléphone offre une autonomie haute grâce à une batterie de 5000 mAh. Il est équipé de 64 Go de stockage, de 4 Go de RAM ce qui en fait un téléphone avec un niveau de performance basique. Il tourne sous android, possède une caméra arrière de 50.0 Mpx et une caméra avant de 8.0 Mpx.  (Score: 0.7003998160362244)\n",
      "Doc 5: Le realme Realme Narzo 50i (4GB RAM + 64GB) coûte 89.68 €, ce qui en fait un modèle avec un prix bas. Il dispose d'un écran de 6.5 pouces avec un taux de rafraîchissement de 60 Hz. Ce télépone a une note de 62.0, un rapport qualité-prix de excellent et ne dispose pas de la 5G. Ce téléphone offre une autonomie haute grâce à une batterie de 5000 mAh. Il est équipé de 64 Go de stockage, de 4 Go de RAM ce qui en fait un téléphone avec un niveau de performance basique. Il tourne sous android, possède une caméra arrière de 8.0 Mpx et une caméra avant de 5.0 Mpx.  (Score: 0.7003836631774902)\n",
      "Doc 6: Le realme Realme Narzo 50i Prime coûte 79.72 €, ce qui en fait un modèle avec un prix bas. Il dispose d'un écran de 6.5 pouces avec un taux de rafraîchissement de 60 Hz. Ce télépone a une note de 61.0, un rapport qualité-prix de excellent et ne dispose pas de la 5G. Ce téléphone offre une autonomie haute grâce à une batterie de 5000 mAh. Il est équipé de 32 Go de stockage, de 3 Go de RAM ce qui en fait un téléphone avec un niveau de performance basique. Il tourne sous android, possède une caméra arrière de 8.0 Mpx et une caméra avant de 5.0 Mpx.  (Score: 0.7003554701805115)\n",
      "Doc 7: Le realme Realme Narzo 50i coûte 64.68 €, ce qui en fait un modèle avec un prix bas. Il dispose d'un écran de 6.5 pouces avec un taux de rafraîchissement de 60 Hz. Ce télépone a une note de 78.5, un rapport qualité-prix de excellent et ne dispose pas de la 5G. Ce téléphone offre une autonomie haute grâce à une batterie de 5000 mAh. Il est équipé de 32 Go de stockage, de 2 Go de RAM ce qui en fait un téléphone avec un niveau de performance basique. Il tourne sous android, possède une caméra arrière de 8.0 Mpx et une caméra avant de 5.0 Mpx.  (Score: 0.6993486881256104)\n",
      "Doc 8: Le realme Realme Narzo 50i Prime (4GB RAM + 64GB) coûte 86.9 €, ce qui en fait un modèle avec un prix bas. Il dispose d'un écran de 6.5 pouces avec un taux de rafraîchissement de 60 Hz. Ce télépone a une note de 64.0, un rapport qualité-prix de excellent et ne dispose pas de la 5G. Ce téléphone offre une autonomie haute grâce à une batterie de 5000 mAh. Il est équipé de 64 Go de stockage, de 4 Go de RAM ce qui en fait un téléphone avec un niveau de performance basique. Il tourne sous android, possède une caméra arrière de 8.0 Mpx et une caméra avant de 5.0 Mpx.  (Score: 0.6925627589225769)\n",
      "Doc 9: Le realme Realme Narzo 50A Prime (4GB RAM + 128GB) coûte 118.39 €, ce qui en fait un modèle avec un prix bas. Il dispose d'un écran de 6.6 pouces avec un taux de rafraîchissement de 60 Hz. Ce télépone a une note de 74.0, un rapport qualité-prix de bon et ne dispose pas de la 5G. Ce téléphone offre une autonomie haute grâce à une batterie de 5000 mAh. Il est équipé de 128 Go de stockage, de 4 Go de RAM ce qui en fait un téléphone avec un niveau de performance basique. Il tourne sous android, possède une caméra arrière de 50.0 Mpx et une caméra avant de 8.0 Mpx.  (Score: 0.6918178200721741)\n",
      "Doc 10: Le samsung Samsung Galaxy A04 coûte 119.58 €, ce qui en fait un modèle avec un prix bas. Il dispose d'un écran de 6.5 pouces avec un taux de rafraîchissement de 60 Hz. Ce télépone a une note de 71.0, un rapport qualité-prix de bon et ne dispose pas de la 5G. Ce téléphone offre une autonomie haute grâce à une batterie de 5000 mAh. Il est équipé de 64 Go de stockage, de 4 Go de RAM ce qui en fait un téléphone avec un niveau de performance basique. Il tourne sous android, possède une caméra arrière de 50.0 Mpx et une caméra avant de 5.0 Mpx.  (Score: 0.6902214288711548)\n"
     ]
    }
   ],
   "execution_count": 33
  },
  {
   "cell_type": "markdown",
   "id": "9b09297b",
   "metadata": {},
   "source": [
    "On peut ici voir que le FAISS est parvenu à extraire un contexte de téléphones ayant une autonomie de batterie de 5000 mAh. Cependant, on peut tout de même voir qu'il y a quelques erreurs avec des téléphones à plus petite autonomie. "
   ]
  },
  {
   "cell_type": "markdown",
   "id": "1b49df6d",
   "metadata": {},
   "source": [
    "### 5. Création du modèle avec Google flan-T5"
   ]
  },
  {
   "cell_type": "markdown",
   "id": "f7b585ea",
   "metadata": {},
   "source": [
    "Dans notre cas d'usage, nous avons choisi le modèle de google de FLAN-T5 car c'est un modèle encodeur-décodeur basé sur les transformers, affiné grâce à l’instruction tuning. Cela signifie qu’il est entraîné pour comprendre des consignes en langage naturel (questions des ulitisateurs) et générer des réponses cohérentes. \n",
    "\n",
    "Ce modèle est particulièrement adapté aux systèmes de question-réponse liée à un RAG par récupération de documents, où il doit lire un contexte précis puis formuler une réponse justifiée. Par rapport à d'autres modèles comme GPT qui sont décodeur-only, le FLAN-T5 gère mieux les tâches où la réponse doit être directement liée à un contexte fourni, ce qui est exactement le cas de notre problème (recommandation de téléphones)."
   ]
  },
  {
   "cell_type": "markdown",
   "id": "9fd19463",
   "metadata": {},
   "source": [
    "**Partie génération Seq2Seq**"
   ]
  },
  {
   "cell_type": "code",
   "id": "4351e3d1",
   "metadata": {
    "ExecuteTime": {
     "end_time": "2025-07-27T22:13:01.164016Z",
     "start_time": "2025-07-27T22:12:59.582398Z"
    }
   },
   "source": [
    "### Mise en place du modèle de base Google flan-T5\n",
    "gen_tok = AutoTokenizer.from_pretrained(\"google/flan-t5-base\")\n",
    "gen_mod = AutoModelForSeq2SeqLM.from_pretrained(\n",
    "    \"google/flan-t5-base\",\n",
    "    torch_dtype=torch.float16,\n",
    ").to(DEVICE)\n",
    "\n",
    "### Setup de la taille maximale du tokenizer\n",
    "MAX_PROMPT_LEN = 1024 or 512"
   ],
   "outputs": [],
   "execution_count": 34
  },
  {
   "cell_type": "code",
   "id": "d7f4f090",
   "metadata": {
    "ExecuteTime": {
     "end_time": "2025-07-27T22:13:01.170151Z",
     "start_time": "2025-07-27T22:13:01.165616Z"
    }
   },
   "source": [
    "def ask(question: str) -> str:\n",
    "    ### Obtention du contexte calculé par FAISS plus tôt\n",
    "    docs = retrieve(question, top_k=3)\n",
    "    context = \"\\n\\n\".join(f\"[Doc {i+1}] {txt}\" for i,(txt,_) in enumerate(docs))\n",
    "\n",
    "    \n",
    "    ### Ajout d'exemples pour que le modèle puisse répondre par des phrases structurées et argumentées aux questions posées par l'utilisateur\n",
    "    few_shot = \"\"\"Tu es un assistant expert. En te basant uniquement sur le contexte fourni, réponds à la question en comparant les téléphones et en faisant une recommandation claire et justifiée.\n",
    "\n",
    "Exemple 1 :\n",
    "Question : Je cherche un téléphone avec une bonne autonomie et un prix milieu.\n",
    "Contexte :\n",
    "- Téléphone A : Batterie 5000 mAh, Prix 250 €, Note 74\n",
    "- Téléphone B : Batterie 3110 mAh, Prix 240 €, Note 72\n",
    "Réponse : Le téléphone A est plus adapté grâce à sa batterie de 5000 mAh, tout en restant dans la gamme de prix souhaitée. Il offre un meilleur équilibre entre autonomie et prix.\n",
    "\n",
    "\"\"\".strip()\n",
    "\n",
    "    ### Création d'un pour le modèle qui contient l'exemple, le contexte et la question\n",
    "    prompt = few_shot + \"\\n\" + \\\n",
    "             f\"Vrai contexte à utiliser :\\n{context}\\n\\n\" + \\\n",
    "             f\"Vraie question à laquelle répondre : {question}\\nRéponse :\"\n",
    "\n",
    "    inputs = gen_tok(prompt, return_tensors=\"pt\", truncation=True,  max_length=2048).to(DEVICE)\n",
    "    \n",
    "    inputs.pop(\"token_type_ids\", None)\n",
    "\n",
    "    ### Génération du résultat\n",
    "    out = gen_mod.generate(\n",
    "        **inputs,\n",
    "        max_new_tokens=650,\n",
    "        num_beams=8,\n",
    "        no_repeat_ngram_size=4,\n",
    "        length_penalty=1.2,\n",
    "        early_stopping=True\n",
    "    )\n",
    "    return gen_tok.decode(out[0], skip_special_tokens=True)"
   ],
   "outputs": [],
   "execution_count": 35
  },
  {
   "cell_type": "markdown",
   "id": "ef6e7fec",
   "metadata": {},
   "source": [
    "Exemple d'utilisation du modèle en posant une question ulitisateur"
   ]
  },
  {
   "cell_type": "code",
   "id": "deefe0a5",
   "metadata": {
    "ExecuteTime": {
     "end_time": "2025-07-27T22:13:35.251939Z",
     "start_time": "2025-07-27T22:13:01.171198Z"
    }
   },
   "source": [
    "### Test de la génération\n",
    "q = (\"Je veux un smartphone avec un prix bas\")\n",
    "print(\"Q:\", q)\n",
    "print(\"A:\", ask(q), \"\\n\")\n",
    "\n",
    "### Affichage des scores FAISS\n",
    "for rank, (doc, score) in enumerate(retrieve(q, top_k=5), start=1):\n",
    "    print(f\"{rank:2d}. (score={score:.4f}) {doc}\")"
   ],
   "outputs": [
    {
     "name": "stderr",
     "output_type": "stream",
     "text": [
      "Attempting to cast a BatchEncoding to type None. This is not supported.\n"
     ]
    },
    {
     "name": "stdout",
     "output_type": "stream",
     "text": [
      "Q: Je veux un smartphone avec un prix bas\n",
      "A: [Doc 1] Le realme Realme Narzo 50i coûte 64.68 €, ce qui en fait un modèle avec un prix bas. Il dispose d'un écran de 6.5 pouches avec un taux de rafraîchissement de 60 Hz. Ce télépone a une note de 78.5, un rapport qualité-prix excellent et ne dispose pas de 5G. Ce téléphone offre une autonomie haute grâce à une batterie de 5000 mAh. Il est équipée de 32 Go stockage, de 2 Go RAM, ce qui fait un téléphone avec un niveau de performance basique. Il tourne sous android, possède une caméra arrière 13.0 Mpx et une caméra avant de 5.0 Mpx. [Doc 2] Le oneplus OnePlus Nord N200 coûte 169.32 €, cet énoncé modèle avec une prix bas. \n",
      "\n",
      " 1. (score=0.6826) Le realme Realme Narzo 50i coûte 64.68 €, ce qui en fait un modèle avec un prix bas. Il dispose d'un écran de 6.5 pouces avec un taux de rafraîchissement de 60 Hz. Ce télépone a une note de 78.5, un rapport qualité-prix de excellent et ne dispose pas de la 5G. Ce téléphone offre une autonomie haute grâce à une batterie de 5000 mAh. Il est équipé de 32 Go de stockage, de 2 Go de RAM ce qui en fait un téléphone avec un niveau de performance basique. Il tourne sous android, possède une caméra arrière de 8.0 Mpx et une caméra avant de 5.0 Mpx. \n",
      " 2. (score=0.6823) Le oneplus OnePlus Nord N200 coûte 169.32 €, ce qui en fait un modèle avec un prix bas. Il dispose d'un écran de 6.49 pouces avec un taux de rafraîchissement de 90 Hz. Ce télépone a une note de 75.0, un rapport qualité-prix de moyen et dispose de la 5G. Ce téléphone offre une autonomie haute grâce à une batterie de 5000 mAh. Il est équipé de 64 Go de stockage, de 4 Go de RAM ce qui en fait un téléphone avec un niveau de performance basique. Il tourne sous android, possède une caméra arrière de 13.0 Mpx et une caméra avant de 16.0 Mpx. \n",
      " 3. (score=0.6803) Le realme Realme C2s coûte 34.87 €, ce qui en fait un modèle avec un prix bas. Il dispose d'un écran de 6.1 pouces avec un taux de rafraîchissement de 60 Hz. Ce télépone a une note de 63.0, un rapport qualité-prix de excellent et ne dispose pas de la 5G. Ce téléphone offre une autonomie moyenne grâce à une batterie de 4000 mAh. Il est équipé de 32 Go de stockage, de 3 Go de RAM ce qui en fait un téléphone avec un niveau de performance basique. Il tourne sous android, possède une caméra arrière de 13.0 Mpx et une caméra avant de 5.0 Mpx. \n",
      " 4. (score=0.6786) Le oneplus OnePlus Nord N100 coûte 169.32 €, ce qui en fait un modèle avec un prix bas. Il dispose d'un écran de 6.52 pouces avec un taux de rafraîchissement de 90 Hz. Ce télépone a une note de 68.0, un rapport qualité-prix de moyen et ne dispose pas de la 5G. Ce téléphone offre une autonomie haute grâce à une batterie de 5000 mAh. Il est équipé de 64 Go de stockage, de 4 Go de RAM ce qui en fait un téléphone avec un niveau de performance basique. Il tourne sous android, possède une caméra arrière de 13.0 Mpx et une caméra avant de 8.0 Mpx. \n",
      " 5. (score=0.6769) Le realme Realme C32 coûte 94.67 €, ce qui en fait un modèle avec un prix bas. Il dispose d'un écran de 6.52 pouces avec un taux de rafraîchissement de 60 Hz. Ce télépone a une note de 65.0, un rapport qualité-prix de excellent et ne dispose pas de la 5G. Ce téléphone offre une autonomie haute grâce à une batterie de 5000 mAh. Il est équipé de 64 Go de stockage, de 4 Go de RAM ce qui en fait un téléphone avec un niveau de performance basique. Il tourne sous android, possède une caméra arrière de 13.0 Mpx et une caméra avant de 5.0 Mpx. \n"
     ]
    }
   ],
   "execution_count": 36
  },
  {
   "cell_type": "markdown",
   "id": "bd4c68752ff11aff",
   "metadata": {},
   "source": [
    "### 6. Utilisation du modèle fine-tuné"
   ]
  },
  {
   "cell_type": "markdown",
   "id": "b5c5e22b0774a366",
   "metadata": {},
   "source": [
    "Pour améliorer les performances de notre modèle de recommandation de smartphones, nous allons procéder à une phase de fine-tuning."
   ]
  },
  {
   "cell_type": "markdown",
   "id": "57d652840114238e",
   "metadata": {},
   "source": [
    "**Etape du fine-tuning**\n",
    "\n",
    "Nous avons réaliser ce code dans un fichier python externe\n",
    "\n",
    "**Chargement des modules**\n",
    "```python\n",
    "from datasets import load_dataset\n",
    "from transformers import (\n",
    "    AutoTokenizer,\n",
    "    AutoModelForSeq2SeqLM,\n",
    "    Seq2SeqTrainingArguments, Seq2SeqTrainer\n",
    ")\n",
    "from peft import get_peft_config, get_peft_model, LoraConfig, TaskType\n",
    "```\n",
    "\n",
    "**Chargement des données Q&A**\n",
    "```python\n",
    "ds = load_dataset(\"json\", data_files=\"../../data/external/qa_smartphones.jsonl\")\n",
    "```\n",
    "\n",
    "**Chargement du tekonizer et du modèle de base**\n",
    "```python\n",
    "MODEL = \"google/flan-t5-base\"\n",
    "tokenizer = AutoTokenizer.from_pretrained(MODEL)\n",
    "model     = AutoModelForSeq2SeqLM.from_pretrained(MODEL)\n",
    "```\n",
    "**Configuration LoRA**\n",
    "```python\n",
    "peft_config = LoraConfig(\n",
    "    task_type=TaskType.SEQ_2_SEQ_LM,\n",
    "    inference_mode=False,\n",
    "    r=16,           # rang des matrices LoRA\n",
    "    lora_alpha=32,\n",
    "    lora_dropout=0.05\n",
    ")\n",
    "model = get_peft_model(model, peft_config)\n",
    "```\n",
    "**Pré-traitement**\n",
    "```python\n",
    "def preprocess(ex):\n",
    "    inp = ex[\"input_text\"]\n",
    "    tgt = ex[\"target_text\"]\n",
    "    model_inputs = tokenizer(inp, truncation=True, padding=\"max_length\", max_length=512)\n",
    "    labels = tokenizer(\n",
    "        tgt, truncation=True, padding=\"max_length\", max_length=128\n",
    "    ).input_ids\n",
    "    model_inputs[\"labels\"] = labels\n",
    "    return model_inputs\n",
    "\n",
    "tokenized = ds[\"train\"].map(preprocess, batched=True, remove_columns=ds[\"train\"].column_names)\n",
    "```\n",
    "**Entraînement**\n",
    "```python\n",
    "training_args = Seq2SeqTrainingArguments(\n",
    "    output_dir=\"outputs/\",\n",
    "    per_device_train_batch_size=4,\n",
    "    gradient_accumulation_steps=4,\n",
    "    learning_rate=3e-4,\n",
    "    num_train_epochs=3,\n",
    "    fp16=False,\n",
    "    logging_steps=100,\n",
    "    save_total_limit=2,\n",
    "    do_eval=False,\n",
    "    optim=\"adamw_torch\"\n",
    "    # eval_steps=200,\n",
    "    # evaluation_strategy=\"steps\"\n",
    ")\n",
    "\n",
    "trainer = Seq2SeqTrainer(\n",
    "    model=model,\n",
    "    args=training_args,\n",
    "    train_dataset=tokenized\n",
    ")\n",
    "\n",
    "trainer.train()\n",
    "model.save_pretrained(\"fine_tuned_flant5_smartphones\")\n",
    "tokenizer.save_pretrained(\"fine_tuned_flant5_smartphones\")\n",
    "```"
   ]
  },
  {
   "cell_type": "code",
   "id": "53fb03c81761f098",
   "metadata": {
    "ExecuteTime": {
     "end_time": "2025-07-27T22:13:35.263559Z",
     "start_time": "2025-07-27T22:13:35.259368Z"
    }
   },
   "source": [
    "### Chargement du modèle fine-tuné\n",
    "BASE_MODEL = \"google/flan-t5-base\"\n",
    "CHECKPOINT  = \"../src/models/outputs/checkpoint-30\""
   ],
   "outputs": [],
   "execution_count": 37
  },
  {
   "cell_type": "code",
   "id": "eef7af40e7434f57",
   "metadata": {
    "ExecuteTime": {
     "end_time": "2025-07-27T22:13:36.872578Z",
     "start_time": "2025-07-27T22:13:35.264803Z"
    }
   },
   "source": [
    "### Chargement du tokenizer\n",
    "tok = AutoTokenizer.from_pretrained(BASE_MODEL)\n",
    "\n",
    "base = AutoModelForSeq2SeqLM.from_pretrained(\n",
    "    BASE_MODEL,\n",
    "    torch_dtype=torch.float16,\n",
    "    device_map=\"auto\"\n",
    ").to(DEVICE)\n",
    "\n",
    "### Ajout du modèle fine tuné\n",
    "model = PeftModel.from_pretrained(base, CHECKPOINT)"
   ],
   "outputs": [
    {
     "name": "stderr",
     "output_type": "stream",
     "text": [
      "/opt/anaconda3/envs/phone-recommender/lib/python3.11/site-packages/bitsandbytes/cextension.py:34: UserWarning:\n",
      "\n",
      "The installed version of bitsandbytes was compiled without GPU support. 8-bit optimizers, 8-bit multiplication, and GPU quantization are unavailable.\n",
      "\n"
     ]
    },
    {
     "name": "stdout",
     "output_type": "stream",
     "text": [
      "'NoneType' object has no attribute 'cadam32bit_grad_fp32'\n"
     ]
    }
   ],
   "execution_count": 38
  },
  {
   "cell_type": "code",
   "id": "f441f1a28b45c65d",
   "metadata": {
    "ExecuteTime": {
     "end_time": "2025-07-27T22:13:36.875482Z",
     "start_time": "2025-07-27T22:13:36.873196Z"
    }
   },
   "source": [
    "def ask_ft(question: str) -> str:\n",
    "    docs = retrieve(question)\n",
    "    context = \"\\n\\n\".join(f\"[Doc {i+1}] {d}\" for i,(d,_) in enumerate(docs))\n",
    "    few_shot = (\n",
    "        \"Tu es un assistant expert en téléphonie mobile.\\n\"\n",
    "        \"Réponds en français de manière concise, claire et argumentée par rapport au contexte et à la question.\\n\\n\"\n",
    "    )\n",
    "\n",
    "    prompt = (\n",
    "        few_shot\n",
    "      + \"Contexte :\\n\" + context + \"\\n\\n\"\n",
    "      + f\"Question : {question}\\n\"\n",
    "      + \"Réponse :\"\n",
    "    )\n",
    "\n",
    "    inputs = tok(prompt, return_tensors=\"pt\", truncation=True).to(DEVICE)\n",
    "    inputs.pop(\"token_type_ids\", None)\n",
    "    out = model.generate(\n",
    "        **inputs,\n",
    "        max_new_tokens=120,\n",
    "        num_beams=4,\n",
    "        no_repeat_ngram_size=3,\n",
    "        length_penalty=1.2,\n",
    "        early_stopping=True\n",
    "    )\n",
    "    return tok.decode(out[0], skip_special_tokens=True)"
   ],
   "outputs": [],
   "execution_count": 39
  },
  {
   "cell_type": "code",
   "id": "293bb26b1f310b08",
   "metadata": {
    "ExecuteTime": {
     "end_time": "2025-07-27T22:13:38.516441Z",
     "start_time": "2025-07-27T22:13:36.876078Z"
    }
   },
   "source": [
    "###\n",
    "print( ask_ft(\"Je veux un téléphone avec une haute performance.\") )"
   ],
   "outputs": [
    {
     "name": "stderr",
     "output_type": "stream",
     "text": [
      "Attempting to cast a BatchEncoding to type None. This is not supported.\n"
     ]
    },
    {
     "ename": "RuntimeError",
     "evalue": "Placeholder storage has not been allocated on MPS device!",
     "output_type": "error",
     "traceback": [
      "\u001B[31m---------------------------------------------------------------------------\u001B[39m",
      "\u001B[31mRuntimeError\u001B[39m                              Traceback (most recent call last)",
      "\u001B[36mCell\u001B[39m\u001B[36m \u001B[39m\u001B[32mIn[40]\u001B[39m\u001B[32m, line 2\u001B[39m\n\u001B[32m      1\u001B[39m \u001B[38;5;66;03m###\u001B[39;00m\n\u001B[32m----> \u001B[39m\u001B[32m2\u001B[39m \u001B[38;5;28mprint\u001B[39m( ask_ft(\u001B[33m\"\u001B[39m\u001B[33mJe veux un téléphone avec une haute performance.\u001B[39m\u001B[33m\"\u001B[39m) )\n",
      "\u001B[36mCell\u001B[39m\u001B[36m \u001B[39m\u001B[32mIn[39]\u001B[39m\u001B[32m, line 18\u001B[39m, in \u001B[36mask_ft\u001B[39m\u001B[34m(question)\u001B[39m\n\u001B[32m     16\u001B[39m inputs = tok(prompt, return_tensors=\u001B[33m\"\u001B[39m\u001B[33mpt\u001B[39m\u001B[33m\"\u001B[39m, truncation=\u001B[38;5;28;01mTrue\u001B[39;00m).to(DEVICE)\n\u001B[32m     17\u001B[39m inputs.pop(\u001B[33m\"\u001B[39m\u001B[33mtoken_type_ids\u001B[39m\u001B[33m\"\u001B[39m, \u001B[38;5;28;01mNone\u001B[39;00m)\n\u001B[32m---> \u001B[39m\u001B[32m18\u001B[39m out = model.generate(\n\u001B[32m     19\u001B[39m     **inputs,\n\u001B[32m     20\u001B[39m     max_new_tokens=\u001B[32m120\u001B[39m,\n\u001B[32m     21\u001B[39m     num_beams=\u001B[32m4\u001B[39m,\n\u001B[32m     22\u001B[39m     no_repeat_ngram_size=\u001B[32m3\u001B[39m,\n\u001B[32m     23\u001B[39m     length_penalty=\u001B[32m1.2\u001B[39m,\n\u001B[32m     24\u001B[39m     early_stopping=\u001B[38;5;28;01mTrue\u001B[39;00m\n\u001B[32m     25\u001B[39m )\n\u001B[32m     26\u001B[39m \u001B[38;5;28;01mreturn\u001B[39;00m tok.decode(out[\u001B[32m0\u001B[39m], skip_special_tokens=\u001B[38;5;28;01mTrue\u001B[39;00m)\n",
      "\u001B[36mFile \u001B[39m\u001B[32m/opt/anaconda3/envs/phone-recommender/lib/python3.11/site-packages/peft/peft_model.py:2290\u001B[39m, in \u001B[36mPeftModelForSeq2SeqLM.generate\u001B[39m\u001B[34m(self, **kwargs)\u001B[39m\n\u001B[32m   2288\u001B[39m     \u001B[38;5;28;01mwith\u001B[39;00m \u001B[38;5;28mself\u001B[39m._enable_peft_forward_hooks(**kwargs):\n\u001B[32m   2289\u001B[39m         kwargs = {k: v \u001B[38;5;28;01mfor\u001B[39;00m k, v \u001B[38;5;129;01min\u001B[39;00m kwargs.items() \u001B[38;5;28;01mif\u001B[39;00m k \u001B[38;5;129;01mnot\u001B[39;00m \u001B[38;5;129;01min\u001B[39;00m \u001B[38;5;28mself\u001B[39m.special_peft_forward_args}\n\u001B[32m-> \u001B[39m\u001B[32m2290\u001B[39m         outputs = \u001B[38;5;28mself\u001B[39m.base_model.generate(**kwargs)\n\u001B[32m   2291\u001B[39m \u001B[38;5;28;01melse\u001B[39;00m:\n\u001B[32m   2292\u001B[39m     \u001B[38;5;28;01mif\u001B[39;00m \u001B[33m\"\u001B[39m\u001B[33minput_ids\u001B[39m\u001B[33m\"\u001B[39m \u001B[38;5;129;01mnot\u001B[39;00m \u001B[38;5;129;01min\u001B[39;00m kwargs:\n",
      "\u001B[36mFile \u001B[39m\u001B[32m/opt/anaconda3/envs/phone-recommender/lib/python3.11/site-packages/torch/utils/_contextlib.py:116\u001B[39m, in \u001B[36mcontext_decorator.<locals>.decorate_context\u001B[39m\u001B[34m(*args, **kwargs)\u001B[39m\n\u001B[32m    113\u001B[39m \u001B[38;5;129m@functools\u001B[39m.wraps(func)\n\u001B[32m    114\u001B[39m \u001B[38;5;28;01mdef\u001B[39;00m\u001B[38;5;250m \u001B[39m\u001B[34mdecorate_context\u001B[39m(*args, **kwargs):\n\u001B[32m    115\u001B[39m     \u001B[38;5;28;01mwith\u001B[39;00m ctx_factory():\n\u001B[32m--> \u001B[39m\u001B[32m116\u001B[39m         \u001B[38;5;28;01mreturn\u001B[39;00m func(*args, **kwargs)\n",
      "\u001B[36mFile \u001B[39m\u001B[32m/opt/anaconda3/envs/phone-recommender/lib/python3.11/site-packages/transformers/generation/utils.py:2430\u001B[39m, in \u001B[36mGenerationMixin.generate\u001B[39m\u001B[34m(self, inputs, generation_config, logits_processor, stopping_criteria, prefix_allowed_tokens_fn, synced_gpus, assistant_model, streamer, negative_prompt_ids, negative_prompt_attention_mask, use_model_defaults, custom_generate, **kwargs)\u001B[39m\n\u001B[32m   2426\u001B[39m         \u001B[38;5;28;01mraise\u001B[39;00m \u001B[38;5;167;01mValueError\u001B[39;00m(\u001B[33m\"\u001B[39m\u001B[33m`attention_mask` passed to `generate` must be 2D.\u001B[39m\u001B[33m\"\u001B[39m)\n\u001B[32m   2428\u001B[39m \u001B[38;5;28;01mif\u001B[39;00m \u001B[38;5;28mself\u001B[39m.config.is_encoder_decoder \u001B[38;5;129;01mand\u001B[39;00m \u001B[33m\"\u001B[39m\u001B[33mencoder_outputs\u001B[39m\u001B[33m\"\u001B[39m \u001B[38;5;129;01mnot\u001B[39;00m \u001B[38;5;129;01min\u001B[39;00m model_kwargs:\n\u001B[32m   2429\u001B[39m     \u001B[38;5;66;03m# if model is encoder decoder encoder_outputs are created and added to `model_kwargs`\u001B[39;00m\n\u001B[32m-> \u001B[39m\u001B[32m2430\u001B[39m     model_kwargs = \u001B[38;5;28mself\u001B[39m._prepare_encoder_decoder_kwargs_for_generation(\n\u001B[32m   2431\u001B[39m         inputs_tensor, model_kwargs, model_input_name, generation_config\n\u001B[32m   2432\u001B[39m     )\n\u001B[32m   2434\u001B[39m \u001B[38;5;66;03m# 5. Prepare `input_ids` which will be used for auto-regressive generation\u001B[39;00m\n\u001B[32m   2435\u001B[39m \u001B[38;5;28;01mif\u001B[39;00m \u001B[38;5;28mself\u001B[39m.config.is_encoder_decoder:\n",
      "\u001B[36mFile \u001B[39m\u001B[32m/opt/anaconda3/envs/phone-recommender/lib/python3.11/site-packages/transformers/generation/utils.py:867\u001B[39m, in \u001B[36mGenerationMixin._prepare_encoder_decoder_kwargs_for_generation\u001B[39m\u001B[34m(self, inputs_tensor, model_kwargs, model_input_name, generation_config)\u001B[39m\n\u001B[32m    865\u001B[39m encoder_kwargs[\u001B[33m\"\u001B[39m\u001B[33mreturn_dict\u001B[39m\u001B[33m\"\u001B[39m] = \u001B[38;5;28;01mTrue\u001B[39;00m\n\u001B[32m    866\u001B[39m encoder_kwargs[model_input_name] = inputs_tensor\n\u001B[32m--> \u001B[39m\u001B[32m867\u001B[39m model_kwargs[\u001B[33m\"\u001B[39m\u001B[33mencoder_outputs\u001B[39m\u001B[33m\"\u001B[39m]: ModelOutput = encoder(**encoder_kwargs)  \u001B[38;5;66;03m# type: ignore\u001B[39;00m\n\u001B[32m    869\u001B[39m \u001B[38;5;28;01mreturn\u001B[39;00m model_kwargs\n",
      "\u001B[36mFile \u001B[39m\u001B[32m/opt/anaconda3/envs/phone-recommender/lib/python3.11/site-packages/torch/nn/modules/module.py:1751\u001B[39m, in \u001B[36mModule._wrapped_call_impl\u001B[39m\u001B[34m(self, *args, **kwargs)\u001B[39m\n\u001B[32m   1749\u001B[39m     \u001B[38;5;28;01mreturn\u001B[39;00m \u001B[38;5;28mself\u001B[39m._compiled_call_impl(*args, **kwargs)  \u001B[38;5;66;03m# type: ignore[misc]\u001B[39;00m\n\u001B[32m   1750\u001B[39m \u001B[38;5;28;01melse\u001B[39;00m:\n\u001B[32m-> \u001B[39m\u001B[32m1751\u001B[39m     \u001B[38;5;28;01mreturn\u001B[39;00m \u001B[38;5;28mself\u001B[39m._call_impl(*args, **kwargs)\n",
      "\u001B[36mFile \u001B[39m\u001B[32m/opt/anaconda3/envs/phone-recommender/lib/python3.11/site-packages/torch/nn/modules/module.py:1762\u001B[39m, in \u001B[36mModule._call_impl\u001B[39m\u001B[34m(self, *args, **kwargs)\u001B[39m\n\u001B[32m   1757\u001B[39m \u001B[38;5;66;03m# If we don't have any hooks, we want to skip the rest of the logic in\u001B[39;00m\n\u001B[32m   1758\u001B[39m \u001B[38;5;66;03m# this function, and just call forward.\u001B[39;00m\n\u001B[32m   1759\u001B[39m \u001B[38;5;28;01mif\u001B[39;00m \u001B[38;5;129;01mnot\u001B[39;00m (\u001B[38;5;28mself\u001B[39m._backward_hooks \u001B[38;5;129;01mor\u001B[39;00m \u001B[38;5;28mself\u001B[39m._backward_pre_hooks \u001B[38;5;129;01mor\u001B[39;00m \u001B[38;5;28mself\u001B[39m._forward_hooks \u001B[38;5;129;01mor\u001B[39;00m \u001B[38;5;28mself\u001B[39m._forward_pre_hooks\n\u001B[32m   1760\u001B[39m         \u001B[38;5;129;01mor\u001B[39;00m _global_backward_pre_hooks \u001B[38;5;129;01mor\u001B[39;00m _global_backward_hooks\n\u001B[32m   1761\u001B[39m         \u001B[38;5;129;01mor\u001B[39;00m _global_forward_hooks \u001B[38;5;129;01mor\u001B[39;00m _global_forward_pre_hooks):\n\u001B[32m-> \u001B[39m\u001B[32m1762\u001B[39m     \u001B[38;5;28;01mreturn\u001B[39;00m forward_call(*args, **kwargs)\n\u001B[32m   1764\u001B[39m result = \u001B[38;5;28;01mNone\u001B[39;00m\n\u001B[32m   1765\u001B[39m called_always_called_hooks = \u001B[38;5;28mset\u001B[39m()\n",
      "\u001B[36mFile \u001B[39m\u001B[32m/opt/anaconda3/envs/phone-recommender/lib/python3.11/site-packages/accelerate/hooks.py:175\u001B[39m, in \u001B[36madd_hook_to_module.<locals>.new_forward\u001B[39m\u001B[34m(module, *args, **kwargs)\u001B[39m\n\u001B[32m    173\u001B[39m         output = module._old_forward(*args, **kwargs)\n\u001B[32m    174\u001B[39m \u001B[38;5;28;01melse\u001B[39;00m:\n\u001B[32m--> \u001B[39m\u001B[32m175\u001B[39m     output = module._old_forward(*args, **kwargs)\n\u001B[32m    176\u001B[39m \u001B[38;5;28;01mreturn\u001B[39;00m module._hf_hook.post_forward(module, output)\n",
      "\u001B[36mFile \u001B[39m\u001B[32m/opt/anaconda3/envs/phone-recommender/lib/python3.11/site-packages/transformers/models/t5/modeling_t5.py:1001\u001B[39m, in \u001B[36mT5Stack.forward\u001B[39m\u001B[34m(self, input_ids, attention_mask, encoder_hidden_states, encoder_attention_mask, inputs_embeds, head_mask, cross_attn_head_mask, past_key_values, use_cache, output_attentions, output_hidden_states, return_dict, cache_position)\u001B[39m\n\u001B[32m    999\u001B[39m     \u001B[38;5;28;01mif\u001B[39;00m \u001B[38;5;28mself\u001B[39m.embed_tokens \u001B[38;5;129;01mis\u001B[39;00m \u001B[38;5;28;01mNone\u001B[39;00m:\n\u001B[32m   1000\u001B[39m         \u001B[38;5;28;01mraise\u001B[39;00m \u001B[38;5;167;01mValueError\u001B[39;00m(\u001B[33m\"\u001B[39m\u001B[33mYou have to initialize the model with valid token embeddings\u001B[39m\u001B[33m\"\u001B[39m)\n\u001B[32m-> \u001B[39m\u001B[32m1001\u001B[39m     inputs_embeds = \u001B[38;5;28mself\u001B[39m.embed_tokens(input_ids)\n\u001B[32m   1003\u001B[39m batch_size, seq_length = input_shape\n\u001B[32m   1005\u001B[39m \u001B[38;5;28;01mif\u001B[39;00m use_cache \u001B[38;5;129;01mis\u001B[39;00m \u001B[38;5;28;01mTrue\u001B[39;00m:\n",
      "\u001B[36mFile \u001B[39m\u001B[32m/opt/anaconda3/envs/phone-recommender/lib/python3.11/site-packages/torch/nn/modules/module.py:1751\u001B[39m, in \u001B[36mModule._wrapped_call_impl\u001B[39m\u001B[34m(self, *args, **kwargs)\u001B[39m\n\u001B[32m   1749\u001B[39m     \u001B[38;5;28;01mreturn\u001B[39;00m \u001B[38;5;28mself\u001B[39m._compiled_call_impl(*args, **kwargs)  \u001B[38;5;66;03m# type: ignore[misc]\u001B[39;00m\n\u001B[32m   1750\u001B[39m \u001B[38;5;28;01melse\u001B[39;00m:\n\u001B[32m-> \u001B[39m\u001B[32m1751\u001B[39m     \u001B[38;5;28;01mreturn\u001B[39;00m \u001B[38;5;28mself\u001B[39m._call_impl(*args, **kwargs)\n",
      "\u001B[36mFile \u001B[39m\u001B[32m/opt/anaconda3/envs/phone-recommender/lib/python3.11/site-packages/torch/nn/modules/module.py:1762\u001B[39m, in \u001B[36mModule._call_impl\u001B[39m\u001B[34m(self, *args, **kwargs)\u001B[39m\n\u001B[32m   1757\u001B[39m \u001B[38;5;66;03m# If we don't have any hooks, we want to skip the rest of the logic in\u001B[39;00m\n\u001B[32m   1758\u001B[39m \u001B[38;5;66;03m# this function, and just call forward.\u001B[39;00m\n\u001B[32m   1759\u001B[39m \u001B[38;5;28;01mif\u001B[39;00m \u001B[38;5;129;01mnot\u001B[39;00m (\u001B[38;5;28mself\u001B[39m._backward_hooks \u001B[38;5;129;01mor\u001B[39;00m \u001B[38;5;28mself\u001B[39m._backward_pre_hooks \u001B[38;5;129;01mor\u001B[39;00m \u001B[38;5;28mself\u001B[39m._forward_hooks \u001B[38;5;129;01mor\u001B[39;00m \u001B[38;5;28mself\u001B[39m._forward_pre_hooks\n\u001B[32m   1760\u001B[39m         \u001B[38;5;129;01mor\u001B[39;00m _global_backward_pre_hooks \u001B[38;5;129;01mor\u001B[39;00m _global_backward_hooks\n\u001B[32m   1761\u001B[39m         \u001B[38;5;129;01mor\u001B[39;00m _global_forward_hooks \u001B[38;5;129;01mor\u001B[39;00m _global_forward_pre_hooks):\n\u001B[32m-> \u001B[39m\u001B[32m1762\u001B[39m     \u001B[38;5;28;01mreturn\u001B[39;00m forward_call(*args, **kwargs)\n\u001B[32m   1764\u001B[39m result = \u001B[38;5;28;01mNone\u001B[39;00m\n\u001B[32m   1765\u001B[39m called_always_called_hooks = \u001B[38;5;28mset\u001B[39m()\n",
      "\u001B[36mFile \u001B[39m\u001B[32m/opt/anaconda3/envs/phone-recommender/lib/python3.11/site-packages/torch/nn/modules/sparse.py:190\u001B[39m, in \u001B[36mEmbedding.forward\u001B[39m\u001B[34m(self, input)\u001B[39m\n\u001B[32m    189\u001B[39m \u001B[38;5;28;01mdef\u001B[39;00m\u001B[38;5;250m \u001B[39m\u001B[34mforward\u001B[39m(\u001B[38;5;28mself\u001B[39m, \u001B[38;5;28minput\u001B[39m: Tensor) -> Tensor:\n\u001B[32m--> \u001B[39m\u001B[32m190\u001B[39m     \u001B[38;5;28;01mreturn\u001B[39;00m F.embedding(\n\u001B[32m    191\u001B[39m         \u001B[38;5;28minput\u001B[39m,\n\u001B[32m    192\u001B[39m         \u001B[38;5;28mself\u001B[39m.weight,\n\u001B[32m    193\u001B[39m         \u001B[38;5;28mself\u001B[39m.padding_idx,\n\u001B[32m    194\u001B[39m         \u001B[38;5;28mself\u001B[39m.max_norm,\n\u001B[32m    195\u001B[39m         \u001B[38;5;28mself\u001B[39m.norm_type,\n\u001B[32m    196\u001B[39m         \u001B[38;5;28mself\u001B[39m.scale_grad_by_freq,\n\u001B[32m    197\u001B[39m         \u001B[38;5;28mself\u001B[39m.sparse,\n\u001B[32m    198\u001B[39m     )\n",
      "\u001B[36mFile \u001B[39m\u001B[32m/opt/anaconda3/envs/phone-recommender/lib/python3.11/site-packages/torch/nn/functional.py:2551\u001B[39m, in \u001B[36membedding\u001B[39m\u001B[34m(input, weight, padding_idx, max_norm, norm_type, scale_grad_by_freq, sparse)\u001B[39m\n\u001B[32m   2545\u001B[39m     \u001B[38;5;66;03m# Note [embedding_renorm set_grad_enabled]\u001B[39;00m\n\u001B[32m   2546\u001B[39m     \u001B[38;5;66;03m# XXX: equivalent to\u001B[39;00m\n\u001B[32m   2547\u001B[39m     \u001B[38;5;66;03m# with torch.no_grad():\u001B[39;00m\n\u001B[32m   2548\u001B[39m     \u001B[38;5;66;03m#   torch.embedding_renorm_\u001B[39;00m\n\u001B[32m   2549\u001B[39m     \u001B[38;5;66;03m# remove once script supports set_grad_enabled\u001B[39;00m\n\u001B[32m   2550\u001B[39m     _no_grad_embedding_renorm_(weight, \u001B[38;5;28minput\u001B[39m, max_norm, norm_type)\n\u001B[32m-> \u001B[39m\u001B[32m2551\u001B[39m \u001B[38;5;28;01mreturn\u001B[39;00m torch.embedding(weight, \u001B[38;5;28minput\u001B[39m, padding_idx, scale_grad_by_freq, sparse)\n",
      "\u001B[31mRuntimeError\u001B[39m: Placeholder storage has not been allocated on MPS device!"
     ]
    }
   ],
   "execution_count": 40
  }
 ],
 "metadata": {
  "kernelspec": {
   "display_name": "Python 3",
   "language": "python",
   "name": "python3"
  },
  "language_info": {
   "codemirror_mode": {
    "name": "ipython",
    "version": 3
   },
   "file_extension": ".py",
   "mimetype": "text/x-python",
   "name": "python",
   "nbconvert_exporter": "python",
   "pygments_lexer": "ipython3",
   "version": "3.11.0"
  }
 },
 "nbformat": 4,
 "nbformat_minor": 5
}
