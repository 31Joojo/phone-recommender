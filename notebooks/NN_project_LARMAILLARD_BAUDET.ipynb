{
 "cells": [
  {
   "cell_type": "markdown",
   "id": "bdcd3fb2",
   "metadata": {},
   "source": [
    "# PhoneRecommender\n",
    "\n",
    "### *Autheurs : Baudet Quentin et Larmaillard-Noiren Joris*"
   ]
  },
  {
   "cell_type": "markdown",
   "id": "83ece08e",
   "metadata": {},
   "source": [
    "\n",
    "PhoneRecommender est un chatbot de recommandation de smartphones basé sur un pipeline **Retrieval-Augmented Generation (RAG)** et un modèle de langage pré-entraîné.\n",
    "\n",
    "---\n",
    "\n",
    "## Contexte et objectifs\n",
    "\n",
    "Ce projet a pour but de construire un assistant intelligent capable d’aider un utilisateur à choisir un téléphone portable en fonction de critères (prix, performance, autonomie, photo, etc.).\n",
    "Pour cela, nous exploitons :\n",
    "- Un **dataset Kaggle** contenant les fiches techniques et les spécifications de centaines de modèles de smartphones.\n",
    "- Un pipeline **RAG** : on indexe les descriptions produits dans un moteur de similarité (FAISS) puis on combine la récupération de documents pertinents à la génération de texte par un **LLM** (Mistral 7B, GPT-2, LLaMA …, au choix).\n",
    "\n",
    "---\n",
    "\n",
    "## Fonctionnalités\n",
    "\n",
    "1. **Exploration et nettoyage du dataset**\n",
    "   - Analyse exploratoire (EDAx).\n",
    "   - Standardisation des noms de champs (RAM, stockage, autonomie…).\n",
    "2. **Indexation documentaire**\n",
    "   - Conversion du CSV en fragments textuels.\n",
    "   - Construction d’un index FAISS pour recherches rapides.\n",
    "3. **Pipeline RAG**\n",
    "   - À chaque question utilisateur, récupération des **k fiches les plus pertinentes**.\n",
    "   - Enrichissement du prompt avec ces extraits.\n",
    "   - Génération de la réponse via un LLM.\n",
    "4. **Questions réponses dans le terminal**\n",
    "   - L'utilisateur obtient sa recommandation de téléphone dans le terminal\n",
    "\n",
    " \n",
    "---"
   ]
  },
  {
   "cell_type": "markdown",
   "id": "9889d0e1",
   "metadata": {},
   "source": [
    "## Exploration du dataset"
   ]
  },
  {
   "cell_type": "markdown",
   "id": "773e33f3",
   "metadata": {},
   "source": [
    "Avant de construire notre modèle de recommandation de smartphones, il est crucial de bien comprendre les caractéristiques et la structure du dataset fourni. Dans ce notebook, nous réalisons une Analyse Exploratoire des Données (EDA) afin de mieux cerner la distribution des différentes variables, détecter les éventuelles anomalies, valeurs manquantes ou incohérences, et identifier les relations potentielles entre les attributs.\n",
    "\n",
    "Cette étape nous permettra d’extraire des insights précieux pour orienter le pré-traitement des données et la sélection des fonctionnalités les plus pertinentes, en vue d’optimiser les performances du modèle de recommandation."
   ]
  },
  {
   "cell_type": "markdown",
   "id": "9f9f5121",
   "metadata": {},
   "source": [
    "### Chargement des données"
   ]
  },
  {
   "cell_type": "code",
   "execution_count": null,
   "id": "e8dd3841",
   "metadata": {},
   "outputs": [],
   "source": [
    "### Importation des modules\n",
    "import pandas as pd\n",
    "import matplotlib.pyplot as plt\n",
    "import seaborn as sns"
   ]
  },
  {
   "cell_type": "code",
   "execution_count": null,
   "id": "f9847161",
   "metadata": {},
   "outputs": [],
   "source": [
    "### Chargement des données\n",
    "data = pd.read_csv('../data/raw/Smartphones_cleaned_dataset.csv')\n",
    "\n",
    "data.head()"
   ]
  },
  {
   "cell_type": "markdown",
   "id": "94e446b4",
   "metadata": {},
   "source": [
    "Dans un premier temps nous allons reformater les prix en euros : les données qui sont présentées ci-dessus viennent du marché des smartphones en Inde. Nous allons donc faire une conversion des prix, ici en roupie, en euros."
   ]
  },
  {
   "cell_type": "code",
   "execution_count": null,
   "id": "01f1ccc5",
   "metadata": {},
   "outputs": [],
   "source": [
    "### Conversion des prix roupie -> euro\n",
    "data['price'] = data['price'] * 0.009966\n",
    "\n",
    "### Arrondi des prix\n",
    "data['price'] = data['price'].round(2)\n",
    "\n",
    "data = data.rename(columns={'price': 'price (€)'})\n",
    "\n",
    "data.head()"
   ]
  },
  {
   "cell_type": "markdown",
   "id": "27fef1ec",
   "metadata": {},
   "source": [
    "**Dimension du dataset**"
   ]
  },
  {
   "cell_type": "code",
   "execution_count": null,
   "id": "bc49f1a7",
   "metadata": {},
   "outputs": [],
   "source": [
    "data.shape"
   ]
  },
  {
   "cell_type": "markdown",
   "id": "923819ed",
   "metadata": {},
   "source": [
    "**Colonnes du dataset**"
   ]
  },
  {
   "cell_type": "code",
   "execution_count": null,
   "id": "52782548",
   "metadata": {},
   "outputs": [],
   "source": [
    "data.columns"
   ]
  },
  {
   "cell_type": "markdown",
   "id": "415a2702",
   "metadata": {},
   "source": [
    "Maintenant, nous allons passer par l'étape d'exploration des données."
   ]
  },
  {
   "cell_type": "markdown",
   "id": "ca566629",
   "metadata": {},
   "source": [
    "### EDA"
   ]
  },
  {
   "cell_type": "markdown",
   "id": "089f7131",
   "metadata": {},
   "source": [
    "### Importation des modules\n",
    "import plotly.express as px\n",
    "import plotly.graph_objects as go"
   ]
  },
  {
   "cell_type": "markdown",
   "id": "1c3b829f",
   "metadata": {},
   "source": [
    "**Colonne des marques**"
   ]
  },
  {
   "cell_type": "markdown",
   "id": "1230962d",
   "metadata": {},
   "source": [
    "### Distribution des marques\n",
    "fig_brand = px.histogram(data, x='brand_name', nbins=20, title=\"Distribution des marques de téléphones vendus\")\n",
    "\n",
    "fig_brand.update_layout(\n",
    "    xaxis_title='Marque',\n",
    "    yaxis_title='Nombre de smartphones',\n",
    "    bargap=0.1\n",
    ")\n",
    "\n",
    "fig_brand.show()"
   ]
  },
  {
   "cell_type": "markdown",
   "id": "54ed4f61",
   "metadata": {},
   "source": [
    "* Marques les plus fréquentes :\n",
    "    - Xiaomi, OnePlus, et Samsung sont les plus représentées, avec environ 130 modèles ou variantes chacun.\n",
    "    - Apple, Realme, Motorola, Infinix, Vivo, Oppo et Nokia suivent avec une forte présence.\n",
    "* Longue traîne de petites marques :\n",
    "    - De nombreuses marques (plus de 20) sont représentées de façon marginale (moins de 10 modèles), voire parfois très peu présentes.\n"
   ]
  },
  {
   "cell_type": "markdown",
   "id": "81c9fcf9",
   "metadata": {},
   "source": [
    "**Colonnes des prix**\n",
    "\n",
    "Ici, nous affichons la distribution des prix des smartphones."
   ]
  },
  {
   "cell_type": "code",
   "execution_count": null,
   "id": "dae7bf8e",
   "metadata": {},
   "outputs": [],
   "source": [
    "### Distribution des prix\n",
    "fig_price = px.histogram(data, x='price (€)', nbins=20, title='Distribution des prix des smartphones')\n",
    "\n",
    "fig_price.update_layout(\n",
    "    xaxis_title='Prix (€)',\n",
    "    yaxis_title='Nombre de smartphones',\n",
    "    bargap=0.1\n",
    ")\n",
    "\n",
    "fig_price.show()"
   ]
  },
  {
   "cell_type": "markdown",
   "id": "b8315db4",
   "metadata": {},
   "source": [
    "* Distribution très asymétrique : la majorité écrasante des smartphones sont concentrés dans la tranche basse des prix, en dessous de 1 000 €.\n",
    "* Longue queue vers la droite : quelques smartphones très haut de gamme (jusqu’à 6000 €) tirent la distribution vers la droite, mais ils sont extrêmement rares.\n",
    "* Pointe forte autour de l'entrée de gamme : le pic de fréquence se situe dans les premiers intervalles de prix (probablement entre 100 € et 500 €)."
   ]
  },
  {
   "cell_type": "markdown",
   "id": "6bdf48f4",
   "metadata": {},
   "source": [
    "**Prix vs. Capacité de la batterie**"
   ]
  },
  {
   "cell_type": "code",
   "execution_count": null,
   "id": "8df59081",
   "metadata": {},
   "outputs": [],
   "source": [
    "fig_battery_price = px.scatter(\n",
    "    data,\n",
    "    x='battery_capacity',\n",
    "    y='price (€)',\n",
    "    color='brand_name',\n",
    "    title='Prix vs Capacité de batterie des smartphones',\n",
    "    labels={'battery': 'Batterie (mAh)', 'price': 'Prix (€)'},\n",
    "    opacity=0.6\n",
    ")\n",
    "\n",
    "fig_battery_price.update_layout(\n",
    "    xaxis_title='Capacité batterie',\n",
    "    yaxis_title='Prix (€)',\n",
    "    bargap=0.1\n",
    ")\n",
    "\n",
    "fig_battery_price.show()"
   ]
  },
  {
   "cell_type": "markdown",
   "id": "dfd023c9",
   "metadata": {},
   "source": [
    "* Tendance générale :\n",
    "    - Il n’y a pas de corrélation claire entre le prix et la capacité de batterie.\n",
    "    - Des téléphones à prix très bas peuvent avoir une batterie très élevée (outliers visibles à droite).\n",
    "    - Inversement, certains téléphones chers n'ont qu'une capacité moyenne.\n",
    "* Présence d’outliers :\n",
    "    - Des smartphones affichent une capacité batterie supérieure à 10 000 mAh, ce qui est anormalement élevé pour des téléphones classiques → probablement des erreurs ou des modèles atypiques (tablettes, rugged phones).\n",
    "* Dispersion importante :\n",
    "    - Il y a une forte variabilité des prix pour une même capacité batterie, ce qui montre que la batterie n’est pas un facteur déterminant du prix."
   ]
  },
  {
   "cell_type": "markdown",
   "id": "cb316227",
   "metadata": {},
   "source": [
    "**Comparaison entre le prix et les différentes colonnes**"
   ]
  },
  {
   "cell_type": "code",
   "execution_count": null,
   "id": "21569679",
   "metadata": {},
   "outputs": [],
   "source": [
    "### Liste des colonnes à comparer au prix\n",
    "colonnes = ['rating', 'num_cores', 'processor_speed', 'ram_capacity', 'internal_memory', 'screen_size', 'refresh_rate', ]\n",
    "\n",
    "### Création des traces pour chaque colonne\n",
    "fig_compare_to_price = go.Figure()\n",
    "\n",
    "for i, col in enumerate(colonnes):\n",
    "    fig_compare_to_price.add_trace(\n",
    "        go.Scatter(\n",
    "            x=data[col],\n",
    "            y=data['price (€)'],\n",
    "            mode='markers',\n",
    "            name=col,\n",
    "            visible=(i == 0)\n",
    "        )\n",
    "    )\n",
    "\n",
    "### Création du menu déroulant\n",
    "menu = [dict(\n",
    "    buttons=[dict(\n",
    "        label=col,\n",
    "        method='update',\n",
    "        args=[{'visible': [i == j for j in range(len(colonnes))]},\n",
    "              {'xaxis': {'title': col}}]\n",
    "    ) for i, col in enumerate(colonnes)],\n",
    "    direction='down',\n",
    "    showactive=True,\n",
    "    x=0.1,\n",
    "    y=1.15\n",
    ")]\n",
    "\n",
    "fig_compare_to_price.update_layout(\n",
    "    updatemenus=menu,\n",
    "    title='Prix vs variable sélectionnée',\n",
    "    xaxis_title=colonnes[0],\n",
    "    yaxis_title='Prix (€)',\n",
    "    height=600\n",
    ")\n",
    "\n",
    "fig_compare_to_price.show()"
   ]
  },
  {
   "cell_type": "markdown",
   "id": "2ab8f7f3",
   "metadata": {},
   "source": [
    "**Rating vs prix**\n",
    "\n",
    "* On observe une légère tendance croissante : les téléphones avec un meilleur rating tendent à être plus chers, surtout à partir de 75+.\n",
    "* Cela peut s’expliquer par le fait que les modèles mieux notés sont généralement plus performants ou mieux finis.\n",
    "* La majorité des téléphones ont une note comprise entre 75 et 90.\n",
    "* Très peu de modèles en dessous de 70, ce qui peut indiquer un biais dans les avis (seuls les bons modèles sont évalués ou conservés dans le dataset)."
   ]
  },
  {
   "cell_type": "markdown",
   "id": "cf42e786",
   "metadata": {},
   "source": [
    "**Processor_speed vs prix**\n",
    "\n",
    "* On observe une corrélation positive modérée : en général, plus la vitesse du processeur augmente, plus les smartphones ont tendance à être chers.\n",
    "* Beaucoup de modèles se situent entre 2.0 et 3.2 GHz, avec des prix allant de 100 € à 1000 €.\n",
    "* Cela semble représenter le segment \"standard à performant\" du marché.\n",
    "* Plus on monte en vitesse, plus les prix deviennent variables, indiquant que la vitesse du processeur n’est pas le seul facteur déterminant du prix."
   ]
  },
  {
   "cell_type": "markdown",
   "id": "2c5599b0",
   "metadata": {},
   "source": [
    "**Internal_memory vs prix**\n",
    "\n",
    "* Il existe une relation positive globale entre la capacité de stockage (en Go) et le prix du smartphone.\n",
    "* On voit des groupes bien distincts :\n",
    "    - 32–64 Go : téléphones d’entrée de gamme à prix très accessibles.\n",
    "    - 128–256 Go : majorité des modèles milieu/haut de gamme.\n",
    "    - 512–1024 Go (1 To) : modèles premium uniquement.\n",
    "* À 256 Go, par exemple, les prix vont de ~400 € à plus de 2000 € → cela indique que le stockage ne suffit pas à expliquer le prix à lui seul.\n",
    "* D’autres caractéristiques comme la RAM, le processeur, la marque ou la caméra jouent un rôle majeur."
   ]
  },
  {
   "cell_type": "markdown",
   "id": "84b57180",
   "metadata": {},
   "source": [
    "**Screen_size vs prix**\n",
    "\n",
    "* Il existe une légère corrélation positive entre la taille de l’écran et le prix : les téléphones avec un écran plus grand sont en moyenne un peu plus chers.\n",
    "* Très forte densité autour de 6.3 à 6.7 pouces, avec des prix allant de 100 € à 1500 €.\n",
    "* Cela suggère que la plupart des smartphones sont conçus pour offrir un compromis entre confort d’écran et ergonomie.\n",
    "* À taille d’écran égale, le prix peut énormément varier → ce qui confirme que l’écran est un critère secondaire dans la tarification par rapport à :\n",
    "    - la marque,\n",
    "    - le processeur,\n",
    "    - les fonctionnalités avancées (caméras, design, etc.)."
   ]
  },
  {
   "cell_type": "markdown",
   "id": "1f55423b",
   "metadata": {},
   "source": [
    "**Refresh_rate vs prix**\n",
    "\n",
    "* On observe une élévation du prix moyen à mesure que le taux de rafraîchissement augmente.\n",
    "    - 60 Hz → présent sur des modèles de toutes gammes (entrée à premium).\n",
    "    - 120 Hz et + → associés à des smartphones plus récents ou gaming, donc souvent plus chers.\n",
    "* À 60 Hz, très grande dispersion de prix (de < 100 € à > 6000 €), ce qui confirme que ce n’est pas un critère déterminant seul.\n",
    "* À 120–144 Hz, les prix restent modérément élevés avec moins de dispersion : cette technologie est réservée aux gammes moyennes à hautes.\n",
    "* À 240 Hz, très peu de modèles → probablement des modèles gaming haut de gamme."
   ]
  },
  {
   "cell_type": "markdown",
   "id": "b2db2783",
   "metadata": {},
   "source": [
    "---"
   ]
  },
  {
   "cell_type": "markdown",
   "id": "fb308c39",
   "metadata": {},
   "source": [
    "## Preprocessing des données"
   ]
  },
  {
   "cell_type": "markdown",
   "id": "9d62f900",
   "metadata": {},
   "source": [
    "Nous allons maintenant procéder à un pré-traitement approfondi des données issues du dataset de smartphones disponible sur Kaggle. L’objectif est de nettoyer, transformer et enrichir ces données afin de construire un jeu de données final, adapté à la conception d’un modèle d’intelligence artificielle dédié à la recommandation de smartphones."
   ]
  },
  {
   "cell_type": "markdown",
   "id": "b16ba3a7",
   "metadata": {},
   "source": [
    "**Suppression de colonnes**"
   ]
  },
  {
   "cell_type": "markdown",
   "id": "0ec9cb2c",
   "metadata": {},
   "source": [
    "Dans cette section, nous allons supprimer certaines colonnes qui ne nous semblent pas pertinentes, ou déterminantes pour le choix d'un téléphone, notamment des fonctionnalités qui sont gadgets comme `has_ir_blaster`. Cela permettra d'être plus orienté vers la satisfaction de la clientèle."
   ]
  },
  {
   "cell_type": "code",
   "execution_count": null,
   "id": "6fbf08cf",
   "metadata": {},
   "outputs": [],
   "source": [
    "### Suppression des colonnes\n",
    "data = data.drop(columns=['has_ir_blaster', 'has_nfc'])"
   ]
  },
  {
   "cell_type": "markdown",
   "id": "c25592c1",
   "metadata": {},
   "source": [
    "**Critère d'évaluation de l'autonomie d'un téléphone**"
   ]
  },
  {
   "cell_type": "markdown",
   "id": "261d8711",
   "metadata": {},
   "source": [
    "Maintenant, nous allons rajouter une étiquette à chaque téléphone pour évaluer le niveau d'autonomie de chaque téléphone, dans une démarche de satisfaction client. Si un client souhaite un téléphone avec une bonne autonomie, et rien d'autre cela permettra de mieux l'orienter vers ce qu'il recherche."
   ]
  },
  {
   "cell_type": "code",
   "execution_count": 1,
   "id": "f24018c0",
   "metadata": {},
   "outputs": [],
   "source": [
    "### Fonction d'étiquetage des téléphones par rapport à leur autonomie\n",
    "def evaluate_battery_capacity(capacity) -> str:\n",
    "    \"\"\"\n",
    "    Attribue une étiquette à chaque téléphone sur le seul critère de la capacité de leur batterie.\n",
    "    \n",
    "    :param capacity: Capacité du téléphone\n",
    "    :return: Étiquette finale\n",
    "    \"\"\"\n",
    "    \n",
    "    if capacity < 3500:\n",
    "        return \"faible\"\n",
    "    elif capacity < 4500:\n",
    "        return \"moyenne\"\n",
    "    else:\n",
    "        return \"haute\""
   ]
  },
  {
   "cell_type": "code",
   "execution_count": null,
   "id": "ae953110",
   "metadata": {},
   "outputs": [],
   "source": [
    "### Application de la fonction\n",
    "data['quality_battery_autonomy'] = data['battery_capacity'].apply(evaluate_battery_capacity)"
   ]
  },
  {
   "cell_type": "markdown",
   "id": "b0c1d951",
   "metadata": {},
   "source": [
    "**Création d'une fonction de scoring pour catégoriser les téléphones selon leur performance**"
   ]
  },
  {
   "cell_type": "markdown",
   "id": "a889803d",
   "metadata": {},
   "source": [
    "Dans la section suivante, nous allons implémenter une fonction dans laquelle chaque ligne du dataset sera analysée, et pour chaque attribut des téléphones, nous allons attribuer un score qui sera utilisé après pour calculer un score final qui déterminera la catégorie du téléphone. Cela permettra d'affiner les futures recommandations du modèle, et de fournir des résultats qui pourront répondre aux besoins du client."
   ]
  },
  {
   "cell_type": "code",
   "execution_count": null,
   "id": "483da2f2",
   "metadata": {},
   "outputs": [],
   "source": [
    "### Importation module\n",
    "from typing import List, Tuple\n",
    "\n",
    "### Fonction qui calcule un score total de chaque téléphone\n",
    "def compute_total_score(phone) -> float:\n",
    "    \"\"\"\n",
    "    Calcule un score de performance pour un téléphone donné \n",
    "    en fonction de ses caractéristiques techniques.\n",
    "\n",
    "    Ce score permet ensuite de classifier le téléphone \n",
    "    en haute performance, performance intermédiaire ou basique.\n",
    "    :param phone: Correspond au téléphone (ligne) que l'on considère actuellement pour le calcul du score\n",
    "    :return: Le score final du téléphone en fonction des différents critères d'évaluation\n",
    "    \"\"\"\n",
    "    ### Fonction imbriquée qui généralise la logique de calcul des scores : pour les colonnes numériques\n",
    "    def score_range(val, seuils: List[Tuple[float, float]]) -> float:\n",
    "        for seuil, point in seuils:\n",
    "            if val >= seuil:\n",
    "                return point\n",
    "        return 0\n",
    "    \n",
    "    ### Fonction imbriquée qui généralise la logique de calcul des scores : pour les colonnes booléennes\n",
    "    def score_boolean(val, point_if_true=0.5) -> float:\n",
    "        return point_if_true if val else 0\n",
    "    \n",
    "    ### Variable qui stocke le score final\n",
    "    score: float = 0\n",
    "    \n",
    "    ### Poids de chaque caractéristique des téléphones attribués selon l'importance de la caractéristique pour le choix du téléphone\n",
    "    weights: List[float] = [0.10, 0.10, 0.20, 0.10, 0.15, 0.10, 0.10, 0.10, 0.05]\n",
    "    \n",
    "    ### Calcul des scores : colonnes numériques\n",
    "    score += score_range(phone['rating'], [(85, 1), (80, 0.5)]) * weights[0]\n",
    "    score += score_range(phone['num_cores'], [(8, 1), (6, 0.5)]) * weights[1]\n",
    "    score += score_range(phone['processor_speed'], [(2.8, 1), (2.4, 0.5)]) * weights[2]\n",
    "    score += score_range(phone['battery_capacity'], [(4500, 1), (3500, 0.5)]) * weights[3]\n",
    "    score += score_range(phone['ram_capacity'], [(12, 1), (8, 0.5)]) * weights[4]\n",
    "    score += score_range(phone['internal_memory'], [(256, 1), (128, 0.5)]) * weights[5]\n",
    "    score += score_range(phone['refresh_rate'], [(120, 1), (90, 0.5)]) * weights[6]\n",
    "    score += score_range(phone['primary_camera_rear'], [(64, 1), (48, 0.5)]) * weights[7]\n",
    "    \n",
    "    ### Calcul des scores : colonnes booléennes\n",
    "    score += score_boolean(phone['has_5g'], 1) * weights[-1]\n",
    "    \n",
    "    return score\n",
    "        "
   ]
  },
  {
   "cell_type": "markdown",
   "id": "b0ab7d72",
   "metadata": {},
   "source": [
    "Nous pouvons voir également que la colonne `rating` possède des valeurs manquantes qui sont cruciales pour le calcul du score de chaque téléphone. Pour remplacer ces valeurs, nous allons calculer les valeurs médianes des `rating` par marque de téléphones, et les attribuer aux téléphones qui n'ont pas de note répertoriée."
   ]
  },
  {
   "cell_type": "code",
   "execution_count": null,
   "id": "678d1eea",
   "metadata": {},
   "outputs": [],
   "source": [
    "### Calcul des médianes des `rating` par marque\n",
    "median_per_brand = data.groupby('brand_name')['rating'].median()\n",
    "\n",
    "data['rating'] = data.apply(\n",
    "    lambda phone: median_per_brand[phone['brand_name']] if pd.isna(phone['rating']) else phone['rating'],\n",
    "    axis=1\n",
    ")"
   ]
  },
  {
   "cell_type": "code",
   "execution_count": null,
   "id": "fcd396b5",
   "metadata": {},
   "outputs": [],
   "source": [
    "### Fonction de catégorisation des téléphones\n",
    "def determine_performance(phone) -> str:\n",
    "    \"\"\"\n",
    "    Calcule un score de performance pour un téléphone donné \n",
    "    en fonction de ses caractéristiques techniques.\n",
    "\n",
    "    Ce score permet ensuite de classifier le téléphone \n",
    "    en haut de gamme, milieu de gamme ou bas de gamme.\n",
    "     \n",
    "    :param phone: Prend en argument chaque téléphone (ligne) du dataset\n",
    "    :return: Une chaîne de caractères qui indique la catégorie du téléphone\n",
    "    \"\"\"\n",
    "    score: float = compute_total_score(phone)\n",
    "    \n",
    "    ### Attribution des catégories\n",
    "    if score >= 0.7:\n",
    "        return \"haut performance\"\n",
    "    elif score >= 0.4:\n",
    "        return \"performance intermédiaire\"\n",
    "    else:\n",
    "        return \"basique\""
   ]
  },
  {
   "cell_type": "code",
   "execution_count": null,
   "id": "479583fd",
   "metadata": {},
   "outputs": [],
   "source": [
    "### Application au dataset\n",
    "data['performance category'] = data.apply(determine_performance, axis=1)\n",
    "\n",
    "data"
   ]
  },
  {
   "cell_type": "markdown",
   "id": "3a3c2b81",
   "metadata": {},
   "source": [
    "**Estimation du rapport qualité/prix**"
   ]
  },
  {
   "cell_type": "markdown",
   "id": "fa9147ca",
   "metadata": {},
   "source": [
    "Pour prendre en compte l'avis des utilisateurs sur les téléphones par rapport au prix de vente qu'ils ont, nous allons créer une nouvelle métrique `quality-price ratio`. Nous avons vu que pour une même note, par exemple 85, les prix peuvent varier de moins de `100 €` à plus de `1000 €`, ce qui montre que la note ne reflète pas uniquement le prix, mais elle peut aussi intégrer la qualité perçue, la marque, la fiabilité, ou encore l’expérience utilisateur.\n",
    "\n",
    "Cependant, pour définir cette métrique, nous allons l'appliquer par segment de gamme. C'est-à-dire qu'un téléphone de haute gamme peut avoir, avec cette nouvelle métrique, un ratio qui peut être bas. Et, nous devons noter que, les téléphones haut de gamme ne sont pas destinés à être économique, il n'est pas pertinent d'estimer ce rapport pour cette gamme de téléphone. Donc, pour ce faire, nous allons créer des ratios par gamme. "
   ]
  },
  {
   "cell_type": "markdown",
   "id": "de510f9f",
   "metadata": {},
   "source": [
    "Alors, nous allons utiliser la proposition suivante de segmentation des prix :\n",
    "- Haut de gamme : > 700 €\n",
    "- Milieu de gamme : 300 - 700 €\n",
    "- Entrée de gamme : < 300 €\n",
    "\n",
    "Nous allons créer une nouvelle colonne qui recense le segment du prix auquel appartient chaque téléphone."
   ]
  },
  {
   "cell_type": "code",
   "execution_count": null,
   "id": "1d484336",
   "metadata": {},
   "outputs": [],
   "source": [
    "### Fonction de segmentation des prix\n",
    "def segmenting_prices(price : float) -> str:\n",
    "    \"\"\"\n",
    "    Détermine le segment dans lequel un téléphone se trouve à partir de son prix.\n",
    "    \n",
    "    :param price: Prix du téléphone\n",
    "    :return: Segment auquel il appartient\n",
    "    \"\"\"\n",
    "    if price < 300:\n",
    "        return \"bas\"\n",
    "    elif price <= 700:\n",
    "        return \"milieu\"\n",
    "    else:\n",
    "        return \"haut\""
   ]
  },
  {
   "cell_type": "code",
   "execution_count": null,
   "id": "b907c925",
   "metadata": {},
   "outputs": [],
   "source": [
    "### Application de la fonction de segmentation\n",
    "data['price_segment'] = data['price (€)'].apply(segmenting_prices)"
   ]
  },
  {
   "cell_type": "markdown",
   "id": "28d0b459",
   "metadata": {},
   "source": [
    "Nous allons maintenant calculer le ratio `rating / price`, mais étant donné qu'il n'est pas comparable entre les différents segments, nous allons ensuite normaliser le ratio dans chaque segment. Cela donne un score de 0 à 1, relatif à la performance du téléphone dans sa gamme de prix. Cela nous permettra d'avoir des choses comme, un téléphone à 200 € avec 80 de rating et un à 1000 € avec 90 de rating ayant des scores similaires dans leur segment respectif, car chacun est bon dans sa catégorie."
   ]
  },
  {
   "cell_type": "code",
   "execution_count": null,
   "id": "c1ddf8ea",
   "metadata": {},
   "outputs": [],
   "source": [
    "### Calcul du ratio qualité / prix\n",
    "data['ratio_rating_price'] = data['rating'] / data['price (€)']"
   ]
  },
  {
   "cell_type": "code",
   "execution_count": null,
   "id": "42ae2345",
   "metadata": {},
   "outputs": [],
   "source": [
    "### Normalisation des ratios dans chaque segment de prix\n",
    "data['ratio_segment'] = data.groupby('price_segment')['ratio_rating_price'].transform(\n",
    "    lambda x: (x - x.min()) / (x.max() - x.min())\n",
    ")\n",
    "\n",
    "data"
   ]
  },
  {
   "cell_type": "markdown",
   "id": "696ac46f",
   "metadata": {},
   "source": [
    "Voici une petite analyse de la distribution du ratio segmenté :\n",
    "\n",
    "* Segment bas (< 300 €) :\n",
    "    * `Moyenne : 0.21`\n",
    "    * `25% des modèles ont un score < 0.11`\n",
    "    * `Score élevé (75e percentile) : > 0.27`\n",
    "    * Les bons scores sont rares dans ce segment, les valeurs sont globalement faibles.\n",
    "\n",
    "* Segment milieu (300–700 €) :\n",
    "    * `Moyenne : 0.51`\n",
    "    * `25% des modèles : < 0.28`\n",
    "    * `75% des modèles : < 0.75`\n",
    "    * Cette distribution est plus équilibrée, nous avons de bons segments pour identifier des rapports qualités-prix corrects.\n",
    "\n",
    "* Segment haut (> 700 €) :\n",
    "    * `Moyenne : 0.61`\n",
    "    * `25% des modèles : < 0.46`\n",
    "    * `75% des modèles : > 0.77`\n",
    "    * Ici, nous avons plus de variance, et certains modèles haut de gamme sont bien notés pour leur prix.\n",
    "\n",
    "Nous allons donc écrire une fonction nous permettant d'attribuer nos étiquettes `qualité/prix` selon des seuils basés sur l'analyse des distributions des différents segments."
   ]
  },
  {
   "cell_type": "code",
   "execution_count": null,
   "id": "2fe033eb",
   "metadata": {},
   "outputs": [],
   "source": [
    "### Fonction d'étiquetage\n",
    "def label_ratio(phone) -> str:\n",
    "    \"\"\"\n",
    "    Fonction d'attribution de label sur le rapport qualité/prix en fonction du segment dans lequel se trouve le téléphone considéré.\n",
    "    \n",
    "    :param phone: Téléphone à étiqueter sur son rapport qualité/prix\n",
    "    :return: Étiquette finale\n",
    "    \"\"\"\n",
    "    \n",
    "    ### Récupération des ratios\n",
    "    val = phone['ratio_segment']\n",
    "    segment = phone['price_segment']\n",
    "    \n",
    "    ### Disjonction de cas et attribution des labels\n",
    "    ### Segment bas\n",
    "    if segment == 'bas':\n",
    "        if val >= 0.30:\n",
    "            return \"excellent\"\n",
    "        elif val >= 0.20:\n",
    "            return \"bon\"\n",
    "        elif val >= 0.10:\n",
    "            return \"moyen\"\n",
    "        else:\n",
    "            return \"faible\"\n",
    "        \n",
    "    ### Segment milieu\n",
    "    elif segment == 'milieu':\n",
    "        if val >= 0.70:\n",
    "            return \"excellent\"\n",
    "        elif val >= 0.50:\n",
    "            return \"bon\"\n",
    "        elif val >= 0.30:\n",
    "            return \"moyen\"\n",
    "        else:\n",
    "            return \"faible\"\n",
    "    \n",
    "    ### Segment haut\n",
    "    elif segment == 'haut':\n",
    "        if val >= 0.80:\n",
    "            return \"excellent\"\n",
    "        elif val >= 0.60:\n",
    "            return \"bon\"\n",
    "        elif val >= 0.40:\n",
    "            return \"moyen\"\n",
    "        else:\n",
    "            return \"faible\"\n",
    "    \n",
    "    ### Renvoyer inconnu par mesure de sécurité (Possibles valeurs manquantes qui ne peuvent pas être remplacées)\n",
    "    return \"inconnu\""
   ]
  },
  {
   "cell_type": "code",
   "execution_count": null,
   "id": "0a77885d",
   "metadata": {},
   "outputs": [],
   "source": [
    "### Application de la fonction d'étiquetage\n",
    "data['quality-price_ratio'] = data.apply(label_ratio, axis=1)\n",
    "\n",
    "data"
   ]
  },
  {
   "cell_type": "markdown",
   "id": "2a21c38e",
   "metadata": {},
   "source": [
    "**Enregistrement du dataframe**"
   ]
  },
  {
   "cell_type": "markdown",
   "id": "41a153a2",
   "metadata": {},
   "source": [
    "Dans un premier temps, nous allons réorganiser les colonnes, et supprimer certaines dont nous n'aurons pas besoin pour la mise en place de notre modèle."
   ]
  },
  {
   "cell_type": "code",
   "execution_count": null,
   "id": "857a9e3c",
   "metadata": {},
   "outputs": [],
   "source": [
    "### Nouvel ordre des colonnes\n",
    "new_order = ['brand_name', 'model', 'price (€)', 'price_segment','rating', 'ratio_rating_price', 'ratio_segment', 'quality-price_ratio', 'has_5g', 'processor_brand', 'num_cores', 'processor_speed', 'battery_capacity', 'quality_battery_autonomy', 'fast_charging_available', 'fast_charging', 'ram_capacity', 'internal_memory', 'screen_size', 'refresh_rate', 'num_rear_cameras', 'num_front_cameras', 'os', 'primary_camera_rear', 'primary_camera_front', 'extended_memory_available', 'extended_upto', 'resolution_width', 'resolution_height', 'performance category']\n",
    "\n",
    "data = data[new_order]"
   ]
  },
  {
   "cell_type": "markdown",
   "id": "477bc505",
   "metadata": {},
   "source": [
    "**Extraction du dataset traîté**"
   ]
  },
  {
   "cell_type": "code",
   "execution_count": null,
   "id": "232ae84e",
   "metadata": {},
   "outputs": [],
   "source": [
    "data.to_csv('../data/processed/Smartphones_cleaned_dataset_processed.csv', index=False)"
   ]
  },
  {
   "cell_type": "markdown",
   "id": "8bb749cc",
   "metadata": {},
   "source": []
  }
 ],
 "metadata": {
  "kernelspec": {
   "display_name": "Python 3",
   "language": "python",
   "name": "python3"
  },
  "language_info": {
   "codemirror_mode": {
    "name": "ipython",
    "version": 3
   },
   "file_extension": ".py",
   "mimetype": "text/x-python",
   "name": "python",
   "nbconvert_exporter": "python",
   "pygments_lexer": "ipython3",
   "version": "3.11.9"
  }
 },
 "nbformat": 4,
 "nbformat_minor": 5
}
