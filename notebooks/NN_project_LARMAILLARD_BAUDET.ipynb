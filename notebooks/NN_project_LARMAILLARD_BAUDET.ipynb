{
 "cells": [
  {
   "cell_type": "markdown",
   "id": "bdcd3fb2",
   "metadata": {},
   "source": [
    "# PhoneRecommender\n",
    "\n",
    "### *Autheurs : Baudet Quentin et Larmaillard-Noiren Joris*"
   ]
  },
  {
   "cell_type": "markdown",
   "id": "83ece08e",
   "metadata": {},
   "source": [
    "\n",
    "PhoneRecommender est un chatbot de recommandation de smartphones basé sur un pipeline **Retrieval-Augmented Generation (RAG)** et un modèle de langage pré-entraîné.\n",
    "\n",
    "---\n",
    "\n",
    "## Contexte et objectifs\n",
    "\n",
    "Ce projet a pour but de construire un assistant intelligent capable d’aider un utilisateur à choisir un téléphone portable en fonction de critères (prix, performance, autonomie, photo, etc.).\n",
    "Pour cela, nous exploitons :\n",
    "- Un **dataset Kaggle** contenant les fiches techniques et les spécifications de centaines de modèles de smartphones.\n",
    "- Un pipeline **RAG** : on indexe les descriptions produits dans un moteur de similarité (FAISS) puis on combine la récupération de documents pertinents à la génération de texte par un **LLM** (Mistral 7B, GPT-2, LLaMA …, au choix).\n",
    "\n",
    "---\n",
    "\n",
    "## Fonctionnalités\n",
    "\n",
    "1. **Exploration et nettoyage du dataset**\n",
    "   - Analyse exploratoire (EDAx).\n",
    "   - Standardisation des noms de champs (RAM, stockage, autonomie…).\n",
    "2. **Indexation documentaire**\n",
    "   - Conversion du CSV en fragments textuels.\n",
    "   - Construction d’un index FAISS pour recherches rapides.\n",
    "3. **Pipeline RAG**\n",
    "   - À chaque question utilisateur, récupération des **k fiches les plus pertinentes**.\n",
    "   - Enrichissement du prompt avec ces extraits.\n",
    "   - Génération de la réponse via un LLM.\n",
    "4. **Questions réponses dans le terminal**\n",
    "   - L'utilisateur obtient sa recommandation de téléphone dans le terminal\n",
    "\n",
    " \n",
    "---\n",
    "\n",
    "## Répartition du travail\n",
    "\n",
    "Joris Larmaillard-Noiren s'est penché sur l'exploration du dataset et la mise en place de l'architecture du modèle RAG et ses vérifications.\n",
    "Quentin Baudet s'est occupé du preprocessing des données et de la mise en place du modèle et l'interprétation des résultats du modèle.\n",
    "\n",
    "Les étapes ayant pris le plus de temps ont été l'EDA/traitement (essentiel pour donner sens et enrichir les données) et la mise en place de la pipeline (nombreux conflits de versions de packages)."
   ]
  },
  {
   "cell_type": "markdown",
   "id": "9889d0e1",
   "metadata": {},
   "source": [
    "## Exploration du dataset"
   ]
  },
  {
   "cell_type": "markdown",
   "id": "773e33f3",
   "metadata": {},
   "source": [
    "Avant de construire notre modèle de recommandation de smartphones, il est crucial de bien comprendre les caractéristiques et la structure du dataset fourni. Dans ce notebook, nous réalisons une Analyse Exploratoire des Données (EDA) afin de mieux cerner la distribution des différentes variables, détecter les éventuelles anomalies, valeurs manquantes ou incohérences, et identifier les relations potentielles entre les attributs.\n",
    "\n",
    "Cette étape nous permettra d’extraire des insights précieux pour orienter le pré-traitement des données et la sélection des fonctionnalités les plus pertinentes, en vue d’optimiser les performances du modèle de recommandation."
   ]
  },
  {
   "cell_type": "markdown",
   "id": "9f9f5121",
   "metadata": {},
   "source": [
    "### Chargement des données"
   ]
  },
  {
   "cell_type": "code",
   "execution_count": 7,
   "id": "e8dd3841",
   "metadata": {},
   "outputs": [],
   "source": [
    "### Importation des modules\n",
    "import pandas as pd\n",
    "import matplotlib.pyplot as plt\n",
    "import seaborn as sns\n",
    "import plotly.express as px\n",
    "import plotly.graph_objects as go"
   ]
  },
  {
   "cell_type": "code",
   "execution_count": 2,
   "id": "f9847161",
   "metadata": {},
   "outputs": [
    {
     "data": {
      "text/html": [
       "<div>\n",
       "<style scoped>\n",
       "    .dataframe tbody tr th:only-of-type {\n",
       "        vertical-align: middle;\n",
       "    }\n",
       "\n",
       "    .dataframe tbody tr th {\n",
       "        vertical-align: top;\n",
       "    }\n",
       "\n",
       "    .dataframe thead th {\n",
       "        text-align: right;\n",
       "    }\n",
       "</style>\n",
       "<table border=\"1\" class=\"dataframe\">\n",
       "  <thead>\n",
       "    <tr style=\"text-align: right;\">\n",
       "      <th></th>\n",
       "      <th>brand_name</th>\n",
       "      <th>model</th>\n",
       "      <th>price</th>\n",
       "      <th>rating</th>\n",
       "      <th>has_5g</th>\n",
       "      <th>has_nfc</th>\n",
       "      <th>has_ir_blaster</th>\n",
       "      <th>processor_brand</th>\n",
       "      <th>num_cores</th>\n",
       "      <th>processor_speed</th>\n",
       "      <th>...</th>\n",
       "      <th>refresh_rate</th>\n",
       "      <th>num_rear_cameras</th>\n",
       "      <th>num_front_cameras</th>\n",
       "      <th>os</th>\n",
       "      <th>primary_camera_rear</th>\n",
       "      <th>primary_camera_front</th>\n",
       "      <th>extended_memory_available</th>\n",
       "      <th>extended_upto</th>\n",
       "      <th>resolution_width</th>\n",
       "      <th>resolution_height</th>\n",
       "    </tr>\n",
       "  </thead>\n",
       "  <tbody>\n",
       "    <tr>\n",
       "      <th>0</th>\n",
       "      <td>apple</td>\n",
       "      <td>Apple iPhone 11</td>\n",
       "      <td>38999</td>\n",
       "      <td>73.0</td>\n",
       "      <td>False</td>\n",
       "      <td>True</td>\n",
       "      <td>False</td>\n",
       "      <td>bionic</td>\n",
       "      <td>6</td>\n",
       "      <td>2.65</td>\n",
       "      <td>...</td>\n",
       "      <td>60</td>\n",
       "      <td>2</td>\n",
       "      <td>1.0</td>\n",
       "      <td>ios</td>\n",
       "      <td>12.0</td>\n",
       "      <td>12.0</td>\n",
       "      <td>0</td>\n",
       "      <td>NaN</td>\n",
       "      <td>828</td>\n",
       "      <td>1792</td>\n",
       "    </tr>\n",
       "    <tr>\n",
       "      <th>1</th>\n",
       "      <td>apple</td>\n",
       "      <td>Apple iPhone 11 (128GB)</td>\n",
       "      <td>46999</td>\n",
       "      <td>75.0</td>\n",
       "      <td>False</td>\n",
       "      <td>True</td>\n",
       "      <td>False</td>\n",
       "      <td>bionic</td>\n",
       "      <td>6</td>\n",
       "      <td>2.65</td>\n",
       "      <td>...</td>\n",
       "      <td>60</td>\n",
       "      <td>2</td>\n",
       "      <td>1.0</td>\n",
       "      <td>ios</td>\n",
       "      <td>12.0</td>\n",
       "      <td>12.0</td>\n",
       "      <td>0</td>\n",
       "      <td>NaN</td>\n",
       "      <td>828</td>\n",
       "      <td>1792</td>\n",
       "    </tr>\n",
       "    <tr>\n",
       "      <th>2</th>\n",
       "      <td>apple</td>\n",
       "      <td>Apple iPhone 11 Pro Max</td>\n",
       "      <td>109900</td>\n",
       "      <td>77.0</td>\n",
       "      <td>False</td>\n",
       "      <td>True</td>\n",
       "      <td>False</td>\n",
       "      <td>bionic</td>\n",
       "      <td>6</td>\n",
       "      <td>2.65</td>\n",
       "      <td>...</td>\n",
       "      <td>60</td>\n",
       "      <td>3</td>\n",
       "      <td>1.0</td>\n",
       "      <td>ios</td>\n",
       "      <td>12.0</td>\n",
       "      <td>12.0</td>\n",
       "      <td>0</td>\n",
       "      <td>NaN</td>\n",
       "      <td>1242</td>\n",
       "      <td>2688</td>\n",
       "    </tr>\n",
       "    <tr>\n",
       "      <th>3</th>\n",
       "      <td>apple</td>\n",
       "      <td>Apple iPhone 12</td>\n",
       "      <td>51999</td>\n",
       "      <td>74.0</td>\n",
       "      <td>True</td>\n",
       "      <td>True</td>\n",
       "      <td>False</td>\n",
       "      <td>bionic</td>\n",
       "      <td>6</td>\n",
       "      <td>3.10</td>\n",
       "      <td>...</td>\n",
       "      <td>60</td>\n",
       "      <td>2</td>\n",
       "      <td>1.0</td>\n",
       "      <td>ios</td>\n",
       "      <td>12.0</td>\n",
       "      <td>12.0</td>\n",
       "      <td>0</td>\n",
       "      <td>NaN</td>\n",
       "      <td>1170</td>\n",
       "      <td>2532</td>\n",
       "    </tr>\n",
       "    <tr>\n",
       "      <th>4</th>\n",
       "      <td>apple</td>\n",
       "      <td>Apple iPhone 12 (128GB)</td>\n",
       "      <td>55999</td>\n",
       "      <td>75.0</td>\n",
       "      <td>True</td>\n",
       "      <td>True</td>\n",
       "      <td>False</td>\n",
       "      <td>bionic</td>\n",
       "      <td>6</td>\n",
       "      <td>3.10</td>\n",
       "      <td>...</td>\n",
       "      <td>60</td>\n",
       "      <td>2</td>\n",
       "      <td>1.0</td>\n",
       "      <td>ios</td>\n",
       "      <td>12.0</td>\n",
       "      <td>12.0</td>\n",
       "      <td>0</td>\n",
       "      <td>NaN</td>\n",
       "      <td>1170</td>\n",
       "      <td>2532</td>\n",
       "    </tr>\n",
       "  </tbody>\n",
       "</table>\n",
       "<p>5 rows × 26 columns</p>\n",
       "</div>"
      ],
      "text/plain": [
       "  brand_name                    model   price  rating  has_5g  has_nfc  \\\n",
       "0      apple          Apple iPhone 11   38999    73.0   False     True   \n",
       "1      apple  Apple iPhone 11 (128GB)   46999    75.0   False     True   \n",
       "2      apple  Apple iPhone 11 Pro Max  109900    77.0   False     True   \n",
       "3      apple          Apple iPhone 12   51999    74.0    True     True   \n",
       "4      apple  Apple iPhone 12 (128GB)   55999    75.0    True     True   \n",
       "\n",
       "   has_ir_blaster processor_brand  num_cores  processor_speed  ...  \\\n",
       "0           False          bionic          6             2.65  ...   \n",
       "1           False          bionic          6             2.65  ...   \n",
       "2           False          bionic          6             2.65  ...   \n",
       "3           False          bionic          6             3.10  ...   \n",
       "4           False          bionic          6             3.10  ...   \n",
       "\n",
       "   refresh_rate  num_rear_cameras  num_front_cameras   os  \\\n",
       "0            60                 2                1.0  ios   \n",
       "1            60                 2                1.0  ios   \n",
       "2            60                 3                1.0  ios   \n",
       "3            60                 2                1.0  ios   \n",
       "4            60                 2                1.0  ios   \n",
       "\n",
       "   primary_camera_rear  primary_camera_front  extended_memory_available  \\\n",
       "0                 12.0                  12.0                          0   \n",
       "1                 12.0                  12.0                          0   \n",
       "2                 12.0                  12.0                          0   \n",
       "3                 12.0                  12.0                          0   \n",
       "4                 12.0                  12.0                          0   \n",
       "\n",
       "   extended_upto  resolution_width resolution_height  \n",
       "0            NaN               828              1792  \n",
       "1            NaN               828              1792  \n",
       "2            NaN              1242              2688  \n",
       "3            NaN              1170              2532  \n",
       "4            NaN              1170              2532  \n",
       "\n",
       "[5 rows x 26 columns]"
      ]
     },
     "execution_count": 2,
     "metadata": {},
     "output_type": "execute_result"
    }
   ],
   "source": [
    "### Chargement des données\n",
    "data = pd.read_csv('../data/raw/Smartphones_cleaned_dataset_completed.csv', sep=\";\")\n",
    "\n",
    "data.head()"
   ]
  },
  {
   "cell_type": "markdown",
   "id": "94e446b4",
   "metadata": {},
   "source": [
    "Dans un premier temps nous allons reformater les prix en euros : les données qui sont présentées ci-dessus viennent du marché des smartphones en Inde. Nous allons donc faire une conversion des prix, ici en roupie, en euros."
   ]
  },
  {
   "cell_type": "code",
   "execution_count": 3,
   "id": "01f1ccc5",
   "metadata": {},
   "outputs": [
    {
     "data": {
      "text/html": [
       "<div>\n",
       "<style scoped>\n",
       "    .dataframe tbody tr th:only-of-type {\n",
       "        vertical-align: middle;\n",
       "    }\n",
       "\n",
       "    .dataframe tbody tr th {\n",
       "        vertical-align: top;\n",
       "    }\n",
       "\n",
       "    .dataframe thead th {\n",
       "        text-align: right;\n",
       "    }\n",
       "</style>\n",
       "<table border=\"1\" class=\"dataframe\">\n",
       "  <thead>\n",
       "    <tr style=\"text-align: right;\">\n",
       "      <th></th>\n",
       "      <th>brand_name</th>\n",
       "      <th>model</th>\n",
       "      <th>price (€)</th>\n",
       "      <th>rating</th>\n",
       "      <th>has_5g</th>\n",
       "      <th>has_nfc</th>\n",
       "      <th>has_ir_blaster</th>\n",
       "      <th>processor_brand</th>\n",
       "      <th>num_cores</th>\n",
       "      <th>processor_speed</th>\n",
       "      <th>...</th>\n",
       "      <th>refresh_rate</th>\n",
       "      <th>num_rear_cameras</th>\n",
       "      <th>num_front_cameras</th>\n",
       "      <th>os</th>\n",
       "      <th>primary_camera_rear</th>\n",
       "      <th>primary_camera_front</th>\n",
       "      <th>extended_memory_available</th>\n",
       "      <th>extended_upto</th>\n",
       "      <th>resolution_width</th>\n",
       "      <th>resolution_height</th>\n",
       "    </tr>\n",
       "  </thead>\n",
       "  <tbody>\n",
       "    <tr>\n",
       "      <th>0</th>\n",
       "      <td>apple</td>\n",
       "      <td>Apple iPhone 11</td>\n",
       "      <td>388.66</td>\n",
       "      <td>73.0</td>\n",
       "      <td>False</td>\n",
       "      <td>True</td>\n",
       "      <td>False</td>\n",
       "      <td>bionic</td>\n",
       "      <td>6</td>\n",
       "      <td>2.65</td>\n",
       "      <td>...</td>\n",
       "      <td>60</td>\n",
       "      <td>2</td>\n",
       "      <td>1.0</td>\n",
       "      <td>ios</td>\n",
       "      <td>12.0</td>\n",
       "      <td>12.0</td>\n",
       "      <td>0</td>\n",
       "      <td>NaN</td>\n",
       "      <td>828</td>\n",
       "      <td>1792</td>\n",
       "    </tr>\n",
       "    <tr>\n",
       "      <th>1</th>\n",
       "      <td>apple</td>\n",
       "      <td>Apple iPhone 11 (128GB)</td>\n",
       "      <td>468.39</td>\n",
       "      <td>75.0</td>\n",
       "      <td>False</td>\n",
       "      <td>True</td>\n",
       "      <td>False</td>\n",
       "      <td>bionic</td>\n",
       "      <td>6</td>\n",
       "      <td>2.65</td>\n",
       "      <td>...</td>\n",
       "      <td>60</td>\n",
       "      <td>2</td>\n",
       "      <td>1.0</td>\n",
       "      <td>ios</td>\n",
       "      <td>12.0</td>\n",
       "      <td>12.0</td>\n",
       "      <td>0</td>\n",
       "      <td>NaN</td>\n",
       "      <td>828</td>\n",
       "      <td>1792</td>\n",
       "    </tr>\n",
       "    <tr>\n",
       "      <th>2</th>\n",
       "      <td>apple</td>\n",
       "      <td>Apple iPhone 11 Pro Max</td>\n",
       "      <td>1095.26</td>\n",
       "      <td>77.0</td>\n",
       "      <td>False</td>\n",
       "      <td>True</td>\n",
       "      <td>False</td>\n",
       "      <td>bionic</td>\n",
       "      <td>6</td>\n",
       "      <td>2.65</td>\n",
       "      <td>...</td>\n",
       "      <td>60</td>\n",
       "      <td>3</td>\n",
       "      <td>1.0</td>\n",
       "      <td>ios</td>\n",
       "      <td>12.0</td>\n",
       "      <td>12.0</td>\n",
       "      <td>0</td>\n",
       "      <td>NaN</td>\n",
       "      <td>1242</td>\n",
       "      <td>2688</td>\n",
       "    </tr>\n",
       "    <tr>\n",
       "      <th>3</th>\n",
       "      <td>apple</td>\n",
       "      <td>Apple iPhone 12</td>\n",
       "      <td>518.22</td>\n",
       "      <td>74.0</td>\n",
       "      <td>True</td>\n",
       "      <td>True</td>\n",
       "      <td>False</td>\n",
       "      <td>bionic</td>\n",
       "      <td>6</td>\n",
       "      <td>3.10</td>\n",
       "      <td>...</td>\n",
       "      <td>60</td>\n",
       "      <td>2</td>\n",
       "      <td>1.0</td>\n",
       "      <td>ios</td>\n",
       "      <td>12.0</td>\n",
       "      <td>12.0</td>\n",
       "      <td>0</td>\n",
       "      <td>NaN</td>\n",
       "      <td>1170</td>\n",
       "      <td>2532</td>\n",
       "    </tr>\n",
       "    <tr>\n",
       "      <th>4</th>\n",
       "      <td>apple</td>\n",
       "      <td>Apple iPhone 12 (128GB)</td>\n",
       "      <td>558.09</td>\n",
       "      <td>75.0</td>\n",
       "      <td>True</td>\n",
       "      <td>True</td>\n",
       "      <td>False</td>\n",
       "      <td>bionic</td>\n",
       "      <td>6</td>\n",
       "      <td>3.10</td>\n",
       "      <td>...</td>\n",
       "      <td>60</td>\n",
       "      <td>2</td>\n",
       "      <td>1.0</td>\n",
       "      <td>ios</td>\n",
       "      <td>12.0</td>\n",
       "      <td>12.0</td>\n",
       "      <td>0</td>\n",
       "      <td>NaN</td>\n",
       "      <td>1170</td>\n",
       "      <td>2532</td>\n",
       "    </tr>\n",
       "  </tbody>\n",
       "</table>\n",
       "<p>5 rows × 26 columns</p>\n",
       "</div>"
      ],
      "text/plain": [
       "  brand_name                    model  price (€)  rating  has_5g  has_nfc  \\\n",
       "0      apple          Apple iPhone 11     388.66    73.0   False     True   \n",
       "1      apple  Apple iPhone 11 (128GB)     468.39    75.0   False     True   \n",
       "2      apple  Apple iPhone 11 Pro Max    1095.26    77.0   False     True   \n",
       "3      apple          Apple iPhone 12     518.22    74.0    True     True   \n",
       "4      apple  Apple iPhone 12 (128GB)     558.09    75.0    True     True   \n",
       "\n",
       "   has_ir_blaster processor_brand  num_cores  processor_speed  ...  \\\n",
       "0           False          bionic          6             2.65  ...   \n",
       "1           False          bionic          6             2.65  ...   \n",
       "2           False          bionic          6             2.65  ...   \n",
       "3           False          bionic          6             3.10  ...   \n",
       "4           False          bionic          6             3.10  ...   \n",
       "\n",
       "   refresh_rate  num_rear_cameras  num_front_cameras   os  \\\n",
       "0            60                 2                1.0  ios   \n",
       "1            60                 2                1.0  ios   \n",
       "2            60                 3                1.0  ios   \n",
       "3            60                 2                1.0  ios   \n",
       "4            60                 2                1.0  ios   \n",
       "\n",
       "   primary_camera_rear  primary_camera_front  extended_memory_available  \\\n",
       "0                 12.0                  12.0                          0   \n",
       "1                 12.0                  12.0                          0   \n",
       "2                 12.0                  12.0                          0   \n",
       "3                 12.0                  12.0                          0   \n",
       "4                 12.0                  12.0                          0   \n",
       "\n",
       "   extended_upto  resolution_width resolution_height  \n",
       "0            NaN               828              1792  \n",
       "1            NaN               828              1792  \n",
       "2            NaN              1242              2688  \n",
       "3            NaN              1170              2532  \n",
       "4            NaN              1170              2532  \n",
       "\n",
       "[5 rows x 26 columns]"
      ]
     },
     "execution_count": 3,
     "metadata": {},
     "output_type": "execute_result"
    }
   ],
   "source": [
    "### Conversion des prix roupie -> euro\n",
    "data['price'] = data['price'] * 0.009966\n",
    "\n",
    "### Arrondi des prix\n",
    "data['price'] = data['price'].round(2)\n",
    "\n",
    "data = data.rename(columns={'price': 'price (€)'})\n",
    "\n",
    "data.head()"
   ]
  },
  {
   "cell_type": "markdown",
   "id": "27fef1ec",
   "metadata": {},
   "source": [
    "**Dimension du dataset**"
   ]
  },
  {
   "cell_type": "code",
   "execution_count": 4,
   "id": "bc49f1a7",
   "metadata": {},
   "outputs": [
    {
     "data": {
      "text/plain": [
       "(979, 26)"
      ]
     },
     "execution_count": 4,
     "metadata": {},
     "output_type": "execute_result"
    }
   ],
   "source": [
    "data.shape"
   ]
  },
  {
   "cell_type": "markdown",
   "id": "923819ed",
   "metadata": {},
   "source": [
    "**Colonnes du dataset**"
   ]
  },
  {
   "cell_type": "code",
   "execution_count": 5,
   "id": "52782548",
   "metadata": {},
   "outputs": [
    {
     "data": {
      "text/plain": [
       "Index(['brand_name', 'model', 'price (€)', 'rating', 'has_5g', 'has_nfc',\n",
       "       'has_ir_blaster', 'processor_brand', 'num_cores', 'processor_speed',\n",
       "       'battery_capacity', 'fast_charging_available', 'fast_charging',\n",
       "       'ram_capacity', 'internal_memory', 'screen_size', 'refresh_rate',\n",
       "       'num_rear_cameras', 'num_front_cameras', 'os', 'primary_camera_rear',\n",
       "       'primary_camera_front', 'extended_memory_available', 'extended_upto',\n",
       "       'resolution_width', 'resolution_height'],\n",
       "      dtype='object')"
      ]
     },
     "execution_count": 5,
     "metadata": {},
     "output_type": "execute_result"
    }
   ],
   "source": [
    "data.columns"
   ]
  },
  {
   "cell_type": "markdown",
   "id": "415a2702",
   "metadata": {},
   "source": [
    "Maintenant, nous allons passer par l'étape d'exploration des données."
   ]
  },
  {
   "cell_type": "markdown",
   "id": "ca566629",
   "metadata": {},
   "source": [
    "### EDA"
   ]
  },
  {
   "cell_type": "markdown",
   "id": "089f7131",
   "metadata": {},
   "source": [
    "### Importation des modules\n",
    "import plotly.express as px\n",
    "import plotly.graph_objects as go"
   ]
  },
  {
   "cell_type": "markdown",
   "id": "1c3b829f",
   "metadata": {},
   "source": [
    "**Colonne des marques**"
   ]
  },
  {
   "cell_type": "markdown",
   "id": "1230962d",
   "metadata": {},
   "source": [
    "### Distribution des marques\n",
    "fig_brand = px.histogram(data, x='brand_name', nbins=20, title=\"Distribution des marques de téléphones vendus\")\n",
    "\n",
    "fig_brand.update_layout(\n",
    "    xaxis_title='Marque',\n",
    "    yaxis_title='Nombre de smartphones',\n",
    "    bargap=0.1\n",
    ")\n",
    "\n",
    "fig_brand.show()"
   ]
  },
  {
   "cell_type": "markdown",
   "id": "54ed4f61",
   "metadata": {},
   "source": [
    "* Marques les plus fréquentes :\n",
    "    - Xiaomi, OnePlus, et Samsung sont les plus représentées, avec environ 130 modèles ou variantes chacun.\n",
    "    - Apple, Realme, Motorola, Infinix, Vivo, Oppo et Nokia suivent avec une forte présence.\n",
    "* Longue traîne de petites marques :\n",
    "    - De nombreuses marques (plus de 20) sont représentées de façon marginale (moins de 10 modèles), voire parfois très peu présentes.\n"
   ]
  },
  {
   "cell_type": "markdown",
   "id": "81c9fcf9",
   "metadata": {},
   "source": [
    "**Colonnes des prix**\n",
    "\n",
    "Ici, nous affichons la distribution des prix des smartphones."
   ]
  },
  {
   "cell_type": "code",
   "execution_count": 8,
   "id": "dae7bf8e",
   "metadata": {},
   "outputs": [
    {
     "data": {
      "application/vnd.plotly.v1+json": {
       "config": {
        "plotlyServerURL": "https://plot.ly"
       },
       "data": [
        {
         "bingroup": "x",
         "hovertemplate": "price (€)=%{x}<br>count=%{y}<extra></extra>",
         "legendgroup": "",
         "marker": {
          "color": "#636efa",
          "pattern": {
           "shape": ""
          }
         },
         "name": "",
         "nbinsx": 20,
         "orientation": "v",
         "showlegend": false,
         "type": "histogram",
         "x": {
          "bdata": "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",
          "dtype": "f8"
         },
         "xaxis": "x",
         "yaxis": "y"
        }
       ],
       "layout": {
        "bargap": 0.1,
        "barmode": "relative",
        "legend": {
         "tracegroupgap": 0
        },
        "template": {
         "data": {
          "bar": [
           {
            "error_x": {
             "color": "#2a3f5f"
            },
            "error_y": {
             "color": "#2a3f5f"
            },
            "marker": {
             "line": {
              "color": "#E5ECF6",
              "width": 0.5
             },
             "pattern": {
              "fillmode": "overlay",
              "size": 10,
              "solidity": 0.2
             }
            },
            "type": "bar"
           }
          ],
          "barpolar": [
           {
            "marker": {
             "line": {
              "color": "#E5ECF6",
              "width": 0.5
             },
             "pattern": {
              "fillmode": "overlay",
              "size": 10,
              "solidity": 0.2
             }
            },
            "type": "barpolar"
           }
          ],
          "carpet": [
           {
            "aaxis": {
             "endlinecolor": "#2a3f5f",
             "gridcolor": "white",
             "linecolor": "white",
             "minorgridcolor": "white",
             "startlinecolor": "#2a3f5f"
            },
            "baxis": {
             "endlinecolor": "#2a3f5f",
             "gridcolor": "white",
             "linecolor": "white",
             "minorgridcolor": "white",
             "startlinecolor": "#2a3f5f"
            },
            "type": "carpet"
           }
          ],
          "choropleth": [
           {
            "colorbar": {
             "outlinewidth": 0,
             "ticks": ""
            },
            "type": "choropleth"
           }
          ],
          "contour": [
           {
            "colorbar": {
             "outlinewidth": 0,
             "ticks": ""
            },
            "colorscale": [
             [
              0,
              "#0d0887"
             ],
             [
              0.1111111111111111,
              "#46039f"
             ],
             [
              0.2222222222222222,
              "#7201a8"
             ],
             [
              0.3333333333333333,
              "#9c179e"
             ],
             [
              0.4444444444444444,
              "#bd3786"
             ],
             [
              0.5555555555555556,
              "#d8576b"
             ],
             [
              0.6666666666666666,
              "#ed7953"
             ],
             [
              0.7777777777777778,
              "#fb9f3a"
             ],
             [
              0.8888888888888888,
              "#fdca26"
             ],
             [
              1,
              "#f0f921"
             ]
            ],
            "type": "contour"
           }
          ],
          "contourcarpet": [
           {
            "colorbar": {
             "outlinewidth": 0,
             "ticks": ""
            },
            "type": "contourcarpet"
           }
          ],
          "heatmap": [
           {
            "colorbar": {
             "outlinewidth": 0,
             "ticks": ""
            },
            "colorscale": [
             [
              0,
              "#0d0887"
             ],
             [
              0.1111111111111111,
              "#46039f"
             ],
             [
              0.2222222222222222,
              "#7201a8"
             ],
             [
              0.3333333333333333,
              "#9c179e"
             ],
             [
              0.4444444444444444,
              "#bd3786"
             ],
             [
              0.5555555555555556,
              "#d8576b"
             ],
             [
              0.6666666666666666,
              "#ed7953"
             ],
             [
              0.7777777777777778,
              "#fb9f3a"
             ],
             [
              0.8888888888888888,
              "#fdca26"
             ],
             [
              1,
              "#f0f921"
             ]
            ],
            "type": "heatmap"
           }
          ],
          "histogram": [
           {
            "marker": {
             "pattern": {
              "fillmode": "overlay",
              "size": 10,
              "solidity": 0.2
             }
            },
            "type": "histogram"
           }
          ],
          "histogram2d": [
           {
            "colorbar": {
             "outlinewidth": 0,
             "ticks": ""
            },
            "colorscale": [
             [
              0,
              "#0d0887"
             ],
             [
              0.1111111111111111,
              "#46039f"
             ],
             [
              0.2222222222222222,
              "#7201a8"
             ],
             [
              0.3333333333333333,
              "#9c179e"
             ],
             [
              0.4444444444444444,
              "#bd3786"
             ],
             [
              0.5555555555555556,
              "#d8576b"
             ],
             [
              0.6666666666666666,
              "#ed7953"
             ],
             [
              0.7777777777777778,
              "#fb9f3a"
             ],
             [
              0.8888888888888888,
              "#fdca26"
             ],
             [
              1,
              "#f0f921"
             ]
            ],
            "type": "histogram2d"
           }
          ],
          "histogram2dcontour": [
           {
            "colorbar": {
             "outlinewidth": 0,
             "ticks": ""
            },
            "colorscale": [
             [
              0,
              "#0d0887"
             ],
             [
              0.1111111111111111,
              "#46039f"
             ],
             [
              0.2222222222222222,
              "#7201a8"
             ],
             [
              0.3333333333333333,
              "#9c179e"
             ],
             [
              0.4444444444444444,
              "#bd3786"
             ],
             [
              0.5555555555555556,
              "#d8576b"
             ],
             [
              0.6666666666666666,
              "#ed7953"
             ],
             [
              0.7777777777777778,
              "#fb9f3a"
             ],
             [
              0.8888888888888888,
              "#fdca26"
             ],
             [
              1,
              "#f0f921"
             ]
            ],
            "type": "histogram2dcontour"
           }
          ],
          "mesh3d": [
           {
            "colorbar": {
             "outlinewidth": 0,
             "ticks": ""
            },
            "type": "mesh3d"
           }
          ],
          "parcoords": [
           {
            "line": {
             "colorbar": {
              "outlinewidth": 0,
              "ticks": ""
             }
            },
            "type": "parcoords"
           }
          ],
          "pie": [
           {
            "automargin": true,
            "type": "pie"
           }
          ],
          "scatter": [
           {
            "fillpattern": {
             "fillmode": "overlay",
             "size": 10,
             "solidity": 0.2
            },
            "type": "scatter"
           }
          ],
          "scatter3d": [
           {
            "line": {
             "colorbar": {
              "outlinewidth": 0,
              "ticks": ""
             }
            },
            "marker": {
             "colorbar": {
              "outlinewidth": 0,
              "ticks": ""
             }
            },
            "type": "scatter3d"
           }
          ],
          "scattercarpet": [
           {
            "marker": {
             "colorbar": {
              "outlinewidth": 0,
              "ticks": ""
             }
            },
            "type": "scattercarpet"
           }
          ],
          "scattergeo": [
           {
            "marker": {
             "colorbar": {
              "outlinewidth": 0,
              "ticks": ""
             }
            },
            "type": "scattergeo"
           }
          ],
          "scattergl": [
           {
            "marker": {
             "colorbar": {
              "outlinewidth": 0,
              "ticks": ""
             }
            },
            "type": "scattergl"
           }
          ],
          "scattermap": [
           {
            "marker": {
             "colorbar": {
              "outlinewidth": 0,
              "ticks": ""
             }
            },
            "type": "scattermap"
           }
          ],
          "scattermapbox": [
           {
            "marker": {
             "colorbar": {
              "outlinewidth": 0,
              "ticks": ""
             }
            },
            "type": "scattermapbox"
           }
          ],
          "scatterpolar": [
           {
            "marker": {
             "colorbar": {
              "outlinewidth": 0,
              "ticks": ""
             }
            },
            "type": "scatterpolar"
           }
          ],
          "scatterpolargl": [
           {
            "marker": {
             "colorbar": {
              "outlinewidth": 0,
              "ticks": ""
             }
            },
            "type": "scatterpolargl"
           }
          ],
          "scatterternary": [
           {
            "marker": {
             "colorbar": {
              "outlinewidth": 0,
              "ticks": ""
             }
            },
            "type": "scatterternary"
           }
          ],
          "surface": [
           {
            "colorbar": {
             "outlinewidth": 0,
             "ticks": ""
            },
            "colorscale": [
             [
              0,
              "#0d0887"
             ],
             [
              0.1111111111111111,
              "#46039f"
             ],
             [
              0.2222222222222222,
              "#7201a8"
             ],
             [
              0.3333333333333333,
              "#9c179e"
             ],
             [
              0.4444444444444444,
              "#bd3786"
             ],
             [
              0.5555555555555556,
              "#d8576b"
             ],
             [
              0.6666666666666666,
              "#ed7953"
             ],
             [
              0.7777777777777778,
              "#fb9f3a"
             ],
             [
              0.8888888888888888,
              "#fdca26"
             ],
             [
              1,
              "#f0f921"
             ]
            ],
            "type": "surface"
           }
          ],
          "table": [
           {
            "cells": {
             "fill": {
              "color": "#EBF0F8"
             },
             "line": {
              "color": "white"
             }
            },
            "header": {
             "fill": {
              "color": "#C8D4E3"
             },
             "line": {
              "color": "white"
             }
            },
            "type": "table"
           }
          ]
         },
         "layout": {
          "annotationdefaults": {
           "arrowcolor": "#2a3f5f",
           "arrowhead": 0,
           "arrowwidth": 1
          },
          "autotypenumbers": "strict",
          "coloraxis": {
           "colorbar": {
            "outlinewidth": 0,
            "ticks": ""
           }
          },
          "colorscale": {
           "diverging": [
            [
             0,
             "#8e0152"
            ],
            [
             0.1,
             "#c51b7d"
            ],
            [
             0.2,
             "#de77ae"
            ],
            [
             0.3,
             "#f1b6da"
            ],
            [
             0.4,
             "#fde0ef"
            ],
            [
             0.5,
             "#f7f7f7"
            ],
            [
             0.6,
             "#e6f5d0"
            ],
            [
             0.7,
             "#b8e186"
            ],
            [
             0.8,
             "#7fbc41"
            ],
            [
             0.9,
             "#4d9221"
            ],
            [
             1,
             "#276419"
            ]
           ],
           "sequential": [
            [
             0,
             "#0d0887"
            ],
            [
             0.1111111111111111,
             "#46039f"
            ],
            [
             0.2222222222222222,
             "#7201a8"
            ],
            [
             0.3333333333333333,
             "#9c179e"
            ],
            [
             0.4444444444444444,
             "#bd3786"
            ],
            [
             0.5555555555555556,
             "#d8576b"
            ],
            [
             0.6666666666666666,
             "#ed7953"
            ],
            [
             0.7777777777777778,
             "#fb9f3a"
            ],
            [
             0.8888888888888888,
             "#fdca26"
            ],
            [
             1,
             "#f0f921"
            ]
           ],
           "sequentialminus": [
            [
             0,
             "#0d0887"
            ],
            [
             0.1111111111111111,
             "#46039f"
            ],
            [
             0.2222222222222222,
             "#7201a8"
            ],
            [
             0.3333333333333333,
             "#9c179e"
            ],
            [
             0.4444444444444444,
             "#bd3786"
            ],
            [
             0.5555555555555556,
             "#d8576b"
            ],
            [
             0.6666666666666666,
             "#ed7953"
            ],
            [
             0.7777777777777778,
             "#fb9f3a"
            ],
            [
             0.8888888888888888,
             "#fdca26"
            ],
            [
             1,
             "#f0f921"
            ]
           ]
          },
          "colorway": [
           "#636efa",
           "#EF553B",
           "#00cc96",
           "#ab63fa",
           "#FFA15A",
           "#19d3f3",
           "#FF6692",
           "#B6E880",
           "#FF97FF",
           "#FECB52"
          ],
          "font": {
           "color": "#2a3f5f"
          },
          "geo": {
           "bgcolor": "white",
           "lakecolor": "white",
           "landcolor": "#E5ECF6",
           "showlakes": true,
           "showland": true,
           "subunitcolor": "white"
          },
          "hoverlabel": {
           "align": "left"
          },
          "hovermode": "closest",
          "mapbox": {
           "style": "light"
          },
          "paper_bgcolor": "white",
          "plot_bgcolor": "#E5ECF6",
          "polar": {
           "angularaxis": {
            "gridcolor": "white",
            "linecolor": "white",
            "ticks": ""
           },
           "bgcolor": "#E5ECF6",
           "radialaxis": {
            "gridcolor": "white",
            "linecolor": "white",
            "ticks": ""
           }
          },
          "scene": {
           "xaxis": {
            "backgroundcolor": "#E5ECF6",
            "gridcolor": "white",
            "gridwidth": 2,
            "linecolor": "white",
            "showbackground": true,
            "ticks": "",
            "zerolinecolor": "white"
           },
           "yaxis": {
            "backgroundcolor": "#E5ECF6",
            "gridcolor": "white",
            "gridwidth": 2,
            "linecolor": "white",
            "showbackground": true,
            "ticks": "",
            "zerolinecolor": "white"
           },
           "zaxis": {
            "backgroundcolor": "#E5ECF6",
            "gridcolor": "white",
            "gridwidth": 2,
            "linecolor": "white",
            "showbackground": true,
            "ticks": "",
            "zerolinecolor": "white"
           }
          },
          "shapedefaults": {
           "line": {
            "color": "#2a3f5f"
           }
          },
          "ternary": {
           "aaxis": {
            "gridcolor": "white",
            "linecolor": "white",
            "ticks": ""
           },
           "baxis": {
            "gridcolor": "white",
            "linecolor": "white",
            "ticks": ""
           },
           "bgcolor": "#E5ECF6",
           "caxis": {
            "gridcolor": "white",
            "linecolor": "white",
            "ticks": ""
           }
          },
          "title": {
           "x": 0.05
          },
          "xaxis": {
           "automargin": true,
           "gridcolor": "white",
           "linecolor": "white",
           "ticks": "",
           "title": {
            "standoff": 15
           },
           "zerolinecolor": "white",
           "zerolinewidth": 2
          },
          "yaxis": {
           "automargin": true,
           "gridcolor": "white",
           "linecolor": "white",
           "ticks": "",
           "title": {
            "standoff": 15
           },
           "zerolinecolor": "white",
           "zerolinewidth": 2
          }
         }
        },
        "title": {
         "text": "Distribution des prix des smartphones"
        },
        "xaxis": {
         "anchor": "y",
         "domain": [
          0,
          1
         ],
         "title": {
          "text": "Prix (€)"
         }
        },
        "yaxis": {
         "anchor": "x",
         "domain": [
          0,
          1
         ],
         "title": {
          "text": "Nombre de smartphones"
         }
        }
       }
      }
     },
     "metadata": {},
     "output_type": "display_data"
    }
   ],
   "source": [
    "### Distribution des prix\n",
    "fig_price = px.histogram(data, x='price (€)', nbins=20, title='Distribution des prix des smartphones')\n",
    "\n",
    "fig_price.update_layout(\n",
    "    xaxis_title='Prix (€)',\n",
    "    yaxis_title='Nombre de smartphones',\n",
    "    bargap=0.1\n",
    ")\n",
    "\n",
    "fig_price.show()"
   ]
  },
  {
   "cell_type": "markdown",
   "id": "b8315db4",
   "metadata": {},
   "source": [
    "* Distribution très asymétrique : la majorité écrasante des smartphones sont concentrés dans la tranche basse des prix, en dessous de 1 000 €.\n",
    "* Longue queue vers la droite : quelques smartphones très haut de gamme (jusqu’à 6000 €) tirent la distribution vers la droite, mais ils sont extrêmement rares.\n",
    "* Pointe forte autour de l'entrée de gamme : le pic de fréquence se situe dans les premiers intervalles de prix (probablement entre 100 € et 500 €)."
   ]
  },
  {
   "cell_type": "markdown",
   "id": "6bdf48f4",
   "metadata": {},
   "source": [
    "**Prix vs. Capacité de la batterie**"
   ]
  },
  {
   "cell_type": "code",
   "execution_count": 9,
   "id": "8df59081",
   "metadata": {},
   "outputs": [
    {
     "data": {
      "application/vnd.plotly.v1+json": {
       "config": {
        "plotlyServerURL": "https://plot.ly"
       },
       "data": [
        {
         "hovertemplate": "brand_name=apple<br>battery_capacity=%{x}<br>price (€)=%{y}<extra></extra>",
         "legendgroup": "apple",
         "marker": {
          "color": "#636efa",
          "opacity": 0.6,
          "symbol": "circle"
         },
         "mode": "markers",
         "name": "apple",
         "orientation": "v",
         "showlegend": true,
         "type": "scatter",
         "x": {
          "bdata": "JgwmDKwN/wr/Cv8KswizCLMI/wr/CqgMqAyoDIYJFwwXDBcMABEAEQARzwzPDM8MrA3lEOUQ5RCADIAMgAzjEOMQ4xDjENUMtBFZEQARXBK2CAIIHQfiB88M9As=",
          "dtype": "i2"
         },
         "xaxis": "x",
         "y": {
          "bdata": "w/UoXI9KeEAK16NwPUZ9QNejcD0KHZFA9ihcj8IxgEAfhetRuHCBQD0K16NwLYVAmpmZmZmJeUB7FK5H4aZ8QB+F61G4cIFASOF6FK6rkkApXI/C9ciVQM3MzMzMnoNArkfhehS8hkB7FK5H4aaMQLgehetRNoRASOF6FK6rkkB7FK5H4QeXQLgehetROpRAuB6F61E6lEDsUbgehQOcQClcj8L1yJVAAAAAAACOhEDhehSuR6uHQKRwPQrX5Y1AXI/C9SjMhUDsUbgehVuHQM3MzMzMeIpASOF6FK5ZkEDhehSuR6+SQD0K16Nw8JpAUrgehes9lEBSuB6F6z2UQK5H4XoUf5xAw/UoXI/MlUB7FK5H4XSaQHE9Ctej2IlArkfhehR4ikDNzMzMzGWUQFyPwvUoRJZAmpmZmZlXl0DNzMzMzICAQK5H4XoUrnJACtejcD3aeEBcj8L1KFh7QDMzMzMzI39AuB6F61FshkA=",
          "dtype": "f8"
         },
         "yaxis": "y"
        },
        {
         "hovertemplate": "brand_name=asus<br>battery_capacity=%{x}<br>price (€)=%{y}<extra></extra>",
         "legendgroup": "asus",
         "marker": {
          "color": "#EF553B",
          "opacity": 0.6,
          "symbol": "circle"
         },
         "mode": "markers",
         "name": "asus",
         "orientation": "v",
         "showlegend": true,
         "type": "scatter",
         "x": {
          "bdata": "cBdwF3AXcBdwF3AXzBA=",
          "dtype": "i2"
         },
         "xaxis": "x",
         "y": {
          "bdata": "rkfhehTqeEC4HoXrUWyGQK5H4XoUvIZAPQrXo3AHjEBSuB6F69CQQMP1KFyPqodA9ihcj8Ltg0A=",
          "dtype": "f8"
         },
         "yaxis": "y"
        },
        {
         "hovertemplate": "brand_name=blackview<br>battery_capacity=%{x}<br>price (€)=%{y}<extra></extra>",
         "legendgroup": "blackview",
         "marker": {
          "color": "#00cc96",
          "opacity": 0.6,
          "symbol": "circle"
         },
         "mode": "markers",
         "name": "blackview",
         "orientation": "v",
         "showlegend": true,
         "type": "scatter",
         "x": {
          "bdata": "PBQ=",
          "dtype": "i2"
         },
         "xaxis": "x",
         "y": {
          "bdata": "9ihcj8JlVkA=",
          "dtype": "f8"
         },
         "yaxis": "y"
        },
        {
         "hovertemplate": "brand_name=blu<br>battery_capacity=%{x}<br>price (€)=%{y}<extra></extra>",
         "legendgroup": "blu",
         "marker": {
          "color": "#ab63fa",
          "opacity": 0.6,
          "symbol": "circle"
         },
         "mode": "markers",
         "name": "blu",
         "orientation": "v",
         "showlegend": true,
         "type": "scatter",
         "x": {
          "bdata": "iBM=",
          "dtype": "i2"
         },
         "xaxis": "x",
         "y": {
          "bdata": "FK5H4XqsYkA=",
          "dtype": "f8"
         },
         "yaxis": "y"
        },
        {
         "hovertemplate": "brand_name=cat<br>battery_capacity=%{x}<br>price (€)=%{y}<extra></extra>",
         "legendgroup": "cat",
         "marker": {
          "color": "#FFA15A",
          "opacity": 0.6,
          "symbol": "circle"
         },
         "mode": "markers",
         "name": "cat",
         "orientation": "v",
         "showlegend": true,
         "type": "scatter",
         "x": {
          "bdata": "0Ac=",
          "dtype": "i2"
         },
         "xaxis": "x",
         "y": {
          "bdata": "j8L1KFyvYkA=",
          "dtype": "f8"
         },
         "yaxis": "y"
        },
        {
         "hovertemplate": "brand_name=cola<br>battery_capacity=%{x}<br>price (€)=%{y}<extra></extra>",
         "legendgroup": "cola",
         "marker": {
          "color": "#19d3f3",
          "opacity": 0.6,
          "symbol": "circle"
         },
         "mode": "markers",
         "name": "cola",
         "orientation": "v",
         "showlegend": true,
         "type": "scatter",
         "x": {
          "bdata": "iBM=",
          "dtype": "i2"
         },
         "xaxis": "x",
         "y": {
          "bdata": "j8L1KFyvYkA=",
          "dtype": "f8"
         },
         "yaxis": "y"
        },
        {
         "hovertemplate": "brand_name=doogee<br>battery_capacity=%{x}<br>price (€)=%{y}<extra></extra>",
         "legendgroup": "doogee",
         "marker": {
          "color": "#FF6692",
          "opacity": 0.6,
          "symbol": "circle"
         },
         "mode": "markers",
         "name": "doogee",
         "orientation": "v",
         "showlegend": true,
         "type": "scatter",
         "x": {
          "bdata": "cBfwVQ==",
          "dtype": "i2"
         },
         "xaxis": "x",
         "y": {
          "bdata": "j8L1KFyvYkB7FK5H4aZ8QA==",
          "dtype": "f8"
         },
         "yaxis": "y"
        },
        {
         "hovertemplate": "brand_name=duoqin<br>battery_capacity=%{x}<br>price (€)=%{y}<extra></extra>",
         "legendgroup": "duoqin",
         "marker": {
          "color": "#B6E880",
          "opacity": 0.6,
          "symbol": "circle"
         },
         "mode": "markers",
         "name": "duoqin",
         "orientation": "v",
         "showlegend": true,
         "type": "scatter",
         "x": {
          "bdata": "Zgg=",
          "dtype": "i2"
         },
         "xaxis": "x",
         "y": {
          "bdata": "pHA9CtfjWEA=",
          "dtype": "f8"
         },
         "yaxis": "y"
        },
        {
         "hovertemplate": "brand_name=gionee<br>battery_capacity=%{x}<br>price (€)=%{y}<extra></extra>",
         "legendgroup": "gionee",
         "marker": {
          "color": "#FF97FF",
          "opacity": 0.6,
          "symbol": "circle"
         },
         "mode": "markers",
         "name": "gionee",
         "orientation": "v",
         "showlegend": true,
         "type": "scatter",
         "x": {
          "bdata": "rA3AEqAP",
          "dtype": "i2"
         },
         "xaxis": "x",
         "y": {
          "bdata": "uB6F61HYTkAAAAAAAHBRQI/C9Shcr1JA",
          "dtype": "f8"
         },
         "yaxis": "y"
        },
        {
         "hovertemplate": "brand_name=google<br>battery_capacity=%{x}<br>price (€)=%{y}<extra></extra>",
         "legendgroup": "google",
         "marker": {
          "color": "#FECB52",
          "opacity": 0.6,
          "symbol": "circle"
         },
         "mode": "markers",
         "name": "google",
         "orientation": "v",
         "showlegend": true,
         "type": "scatter",
         "x": {
          "bdata": "wA10DvAK8A8MEgYSixOLEzoRAxGIEzoR3hKIEw==",
          "dtype": "i2"
         },
         "xaxis": "x",
         "y": {
          "bdata": "7FG4HoXrY0BmZmZmZu5jQHE9CtejEGlAFK5H4XpsdkBSuB6F6410QB+F61G4NnlAMzMzMzPpgEC4HoXrUdKIQOxRuB6Fr3JA7FG4HoWJgECamZmZmYmJQI/C9Shcy3VAFK5H4XrQgEBSuB6F6xuGQA==",
          "dtype": "f8"
         },
         "yaxis": "y"
        },
        {
         "hovertemplate": "brand_name=honor<br>battery_capacity=%{x}<br>price (€)=%{y}<extra></extra>",
         "legendgroup": "honor",
         "marker": {
          "color": "#636efa",
          "opacity": 0.6,
          "symbol": "circle"
         },
         "mode": "markers",
         "name": "honor",
         "orientation": "v",
         "showlegend": true,
         "type": "scatter",
         "x": {
          "bdata": "zBDMEMASwBKUEfgRiBOIE4gToA+IE8AS7BM=",
          "dtype": "i2"
         },
         "xaxis": "x",
         "y": {
          "bdata": "FK5H4XqMdECamZmZmSFvQHE9Ctej6HhAmpmZmZlNc0AK16NwPSCBQI/C9ShclY1AmpmZmZnpWEC4HoXrUXBhQLgehetRcGFAhetRuB4tZUAUrkfheqxiQIXrUbgeLWVAcT0K16NwcUA=",
          "dtype": "f8"
         },
         "yaxis": "y"
        },
        {
         "hovertemplate": "brand_name=huawei<br>battery_capacity=%{x}<br>price (€)=%{y}<extra></extra>",
         "legendgroup": "huawei",
         "marker": {
          "color": "#EF553B",
          "opacity": 0.6,
          "symbol": "circle"
         },
         "mode": "markers",
         "name": "huawei",
         "orientation": "v",
         "showlegend": true,
         "type": "scatter",
         "x": {
          "bdata": "uAuUETARlBFcEpQR+BGgD5QRaBDMEKAPiBOIE2gQCBE=",
          "dtype": "i2"
         },
         "xaxis": "x",
         "y": {
          "bdata": "SOF6FK5HW0BI4XoULr2gQFyPwvUozIVAAAAAAAAkj0Bcj8L1qK+iQAAAAAAAUZpAPQrXo3BhmUCuR+F6FK5yQD0K16Nw5W1AzczMzMxka0CuR+F6FK5yQNejcD0K52hAzczMzMxka0CkcD0K16NsQHE9Ctej2IlAj8L1KFz/gkA=",
          "dtype": "f8"
         },
         "yaxis": "y"
        },
        {
         "hovertemplate": "brand_name=ikall<br>battery_capacity=%{x}<br>price (€)=%{y}<extra></extra>",
         "legendgroup": "ikall",
         "marker": {
          "color": "#00cc96",
          "opacity": 0.6,
          "symbol": "circle"
         },
         "mode": "markers",
         "name": "ikall",
         "orientation": "v",
         "showlegend": true,
         "type": "scatter",
         "x": {
          "bdata": "iBOIE4gT",
          "dtype": "i2"
         },
         "xaxis": "x",
         "y": {
          "bdata": "cT0K16PwUECuR+F6FO5TQD0K16NwLVRA",
          "dtype": "f8"
         },
         "yaxis": "y"
        },
        {
         "hovertemplate": "brand_name=infinix<br>battery_capacity=%{x}<br>price (€)=%{y}<extra></extra>",
         "legendgroup": "infinix",
         "marker": {
          "color": "#ab63fa",
          "opacity": 0.6,
          "symbol": "circle"
         },
         "mode": "markers",
         "name": "infinix",
         "orientation": "v",
         "showlegend": true,
         "type": "scatter",
         "x": {
          "bdata": "iBNwF3AXiBOIE4gTiBNwF4gTiBOIE4gTiBOIE4gTiBOIE4gTiBOUEYgTiBOIE4gTiBOUEYgTlBGUEQ==",
          "dtype": "i2"
         },
         "xaxis": "x",
         "y": {
          "bdata": "FK5H4XokWECamZmZmelYQDMzMzMzM1ZAuB6F61EIW0AfhetRuL5eQFyPwvUobGZAUrgehevpaEDsUbgehWtWQJqZmZmZ6VhAmpmZmZkxYEAzMzMzM+NfQGZmZmZm7mNAZmZmZmYmXUCamZmZmTFgQIXrUbgeLWVAZmZmZmbuY0D2KFyPwg1lQHsUrkfhqmdAj8L1KFyvYkBSuB6F6+loQJqZmZmZ6VhAhetRuB4tZUDNzMzMzDxSQAAAAAAAcFFAPQrXo3CtVEBcj8L1KGxmQMP1KFyPSmhASOF6FK4Ld0DNzMzMzGRrQA==",
          "dtype": "f8"
         },
         "yaxis": "y"
        },
        {
         "hovertemplate": "brand_name=iqoo<br>battery_capacity=%{x}<br>price (€)=%{y}<extra></extra>",
         "legendgroup": "iqoo",
         "marker": {
          "color": "#FFA15A",
          "opacity": 0.6,
          "symbol": "circle"
         },
         "mode": "markers",
         "name": "iqoo",
         "orientation": "v",
         "showlegend": true,
         "type": "scatter",
         "x": {
          "bdata": "iBOIE1wSMBEwEaAP/hD+EFwSlBGUEVwSXBJcElwSiBOIE4gTiBOIE4gTiBOIE4gTiBNcElwSXBJoEIgTiBOIEw==",
          "dtype": "i2"
         },
         "xaxis": "x",
         "y": {
          "bdata": "CtejcD0+hECamZmZma+CQIXrUbgeX4JAmpmZmZkhb0B7FK5H4Wp2QHE9Ctej6HhAj8L1KFzLdUBxPQrXo+h4QHsUrkfhroJAmpmZmZlNc0DNzMzMzMR1QLgehetR5H1AAAAAAAAQckA9CtejcAV1QKRwPQrXo2xA7FG4HoWvckAUrkfheox0QJqZmZmZIW9AzczMzMwMYkBmZmZmZu5jQB+F61G4TmNACtejcD0aZUAzMzMzMwtnQB+F61G4TmNAhetRuB5tYUAUrkfheiRrQHE9CtejcHFArkfhehQmbUBcj8L1KGxmQBSuR+F6JG9Aj8L1KFyvYkDXo3A9CudoQA==",
          "dtype": "f8"
         },
         "yaxis": "y"
        },
        {
         "hovertemplate": "brand_name=itel<br>battery_capacity=%{x}<br>price (€)=%{y}<extra></extra>",
         "legendgroup": "itel",
         "marker": {
          "color": "#19d3f3",
          "opacity": 0.6,
          "symbol": "circle"
         },
         "mode": "markers",
         "name": "itel",
         "orientation": "v",
         "showlegend": true,
         "type": "scatter",
         "x": {
          "bdata": "YAnMC8wLoA+IE6APoA+gD4gTiBM=",
          "dtype": "i2"
         },
         "xaxis": "x",
         "y": {
          "bdata": "zczMzMzsQ0B7FK5H4dpHQJqZmZmZ2U1AexSuR+FaS0DsUbgehStQQJqZmZmZ2U1ACtejcD1qUUCamZmZmVlNQHE9CtejsFBAMzMzMzPTTEA=",
          "dtype": "f8"
         },
         "yaxis": "y"
        },
        {
         "hovertemplate": "brand_name=jio<br>battery_capacity=%{x}<br>price (€)=%{y}<extra></extra>",
         "legendgroup": "jio",
         "marker": {
          "color": "#FF6692",
          "opacity": 0.6,
          "symbol": "circle"
         },
         "mode": "markers",
         "name": "jio",
         "orientation": "v",
         "showlegend": true,
         "type": "scatter",
         "x": {
          "bdata": "iBOsDbgL8Ao=",
          "dtype": "i2"
         },
         "xaxis": "x",
         "y": {
          "bdata": "j8L1KFzfXUAK16NwPSpHQI/C9Shcr1JA7FG4HoVrRkA=",
          "dtype": "f8"
         },
         "yaxis": "y"
        },
        {
         "hovertemplate": "brand_name=lava<br>battery_capacity=%{x}<br>price (€)=%{y}<extra></extra>",
         "legendgroup": "lava",
         "marker": {
          "color": "#B6E880",
          "opacity": 0.6,
          "symbol": "circle"
         },
         "mode": "markers",
         "name": "lava",
         "orientation": "v",
         "showlegend": true,
         "type": "scatter",
         "x": {
          "bdata": "iBOIE4gToA8=",
          "dtype": "i2"
         },
         "xaxis": "x",
         "y": {
          "bdata": "4XoUrkdpZkBI4XoUrmdbQOxRuB6Fa1ZAAAAAAABwUUA=",
          "dtype": "f8"
         },
         "yaxis": "y"
        },
        {
         "hovertemplate": "brand_name=leeco<br>battery_capacity=%{x}<br>price (€)=%{y}<extra></extra>",
         "legendgroup": "leeco",
         "marker": {
          "color": "#FF97FF",
          "opacity": 0.6,
          "symbol": "circle"
         },
         "mode": "markers",
         "name": "leeco",
         "orientation": "v",
         "showlegend": true,
         "type": "scatter",
         "x": {
          "bdata": "iBM=",
          "dtype": "i2"
         },
         "xaxis": "x",
         "y": {
          "bdata": "SOF6FK5nW0A=",
          "dtype": "f8"
         },
         "yaxis": "y"
        },
        {
         "hovertemplate": "brand_name=leitz<br>battery_capacity=%{x}<br>price (€)=%{y}<extra></extra>",
         "legendgroup": "leitz",
         "marker": {
          "color": "#FECB52",
          "opacity": 0.6,
          "symbol": "circle"
         },
         "mode": "markers",
         "name": "leitz",
         "orientation": "v",
         "showlegend": true,
         "type": "scatter",
         "x": {
          "bdata": "iBM=",
          "dtype": "i2"
         },
         "xaxis": "x",
         "y": {
          "bdata": "mpmZmZl2k0A=",
          "dtype": "f8"
         },
         "yaxis": "y"
        },
        {
         "hovertemplate": "brand_name=lenovo<br>battery_capacity=%{x}<br>price (€)=%{y}<extra></extra>",
         "legendgroup": "lenovo",
         "marker": {
          "color": "#636efa",
          "opacity": 0.6,
          "symbol": "circle"
         },
         "mode": "markers",
         "name": "lenovo",
         "orientation": "v",
         "showlegend": true,
         "type": "scatter",
         "x": {
          "bdata": "iBPgFQ==",
          "dtype": "i2"
         },
         "xaxis": "x",
         "y": {
          "bdata": "mpmZmZmvgkDNzMzMzER9QA==",
          "dtype": "f8"
         },
         "yaxis": "y"
        },
        {
         "hovertemplate": "brand_name=letv<br>battery_capacity=%{x}<br>price (€)=%{y}<extra></extra>",
         "legendgroup": "letv",
         "marker": {
          "color": "#EF553B",
          "opacity": 0.6,
          "symbol": "circle"
         },
         "mode": "markers",
         "name": "letv",
         "orientation": "v",
         "showlegend": true,
         "type": "scatter",
         "x": {
          "bdata": "oA+gD6AP",
          "dtype": "i2"
         },
         "xaxis": "x",
         "y": {
          "bdata": "ZmZmZmZmS0CF61G4HuVNQAAAAAAAcFFA",
          "dtype": "f8"
         },
         "yaxis": "y"
        },
        {
         "hovertemplate": "brand_name=lg<br>battery_capacity=%{x}<br>price (€)=%{y}<extra></extra>",
         "legendgroup": "lg",
         "marker": {
          "color": "#00cc96",
          "opacity": 0.6,
          "symbol": "circle"
         },
         "mode": "markers",
         "name": "lg",
         "orientation": "v",
         "showlegend": true,
         "type": "scatter",
         "x": {
          "bdata": "iBPMEKAP",
          "dtype": "i2"
         },
         "xaxis": "x",
         "y": {
          "bdata": "PQrXo3DpiEApXI/C9SCBQClcj8L1IIFA",
          "dtype": "f8"
         },
         "yaxis": "y"
        },
        {
         "hovertemplate": "brand_name=lyf<br>battery_capacity=%{x}<br>price (€)=%{y}<extra></extra>",
         "legendgroup": "lyf",
         "marker": {
          "color": "#ab63fa",
          "opacity": 0.6,
          "symbol": "circle"
         },
         "mode": "markers",
         "name": "lyf",
         "orientation": "v",
         "showlegend": true,
         "type": "scatter",
         "x": {
          "bdata": "rA3ECQ==",
          "dtype": "i2"
         },
         "xaxis": "x",
         "y": {
          "bdata": "4XoUrkfhQ0DD9Shcj2JDQA==",
          "dtype": "f8"
         },
         "yaxis": "y"
        },
        {
         "hovertemplate": "brand_name=micromax<br>battery_capacity=%{x}<br>price (€)=%{y}<extra></extra>",
         "legendgroup": "micromax",
         "marker": {
          "color": "#FFA15A",
          "opacity": 0.6,
          "symbol": "circle"
         },
         "mode": "markers",
         "name": "micromax",
         "orientation": "v",
         "showlegend": true,
         "type": "scatter",
         "x": {
          "bdata": "iBOIE4gT",
          "dtype": "i2"
         },
         "xaxis": "x",
         "y": {
          "bdata": "AAAAAABwUUApXI/C9WhTQIXrUbge5U1A",
          "dtype": "f8"
         },
         "yaxis": "y"
        },
        {
         "hovertemplate": "brand_name=motorola<br>battery_capacity=%{x}<br>price (€)=%{y}<extra></extra>",
         "legendgroup": "motorola",
         "marker": {
          "color": "#19d3f3",
          "opacity": 0.6,
          "symbol": "circle"
         },
         "mode": "markers",
         "name": "motorola",
         "orientation": "v",
         "showlegend": true,
         "type": "scatter",
         "x": {
          "bdata": "iBO0D7QPMBHAEgISAhJoEJQRwBKIE4gTiBOIE4gTiBOIE4gTtA+IE4gTYhGIE4gTiBOIE4gTiBOIE3AXiBOIE4gTiBOIE4gTcBeIE4gTiBOIE4gTiBOIE4gTiBMwEWIR+BGIE6APiBM=",
          "dtype": "i2"
         },
         "xaxis": "x",
         "y": {
          "bdata": "exSuR+GqZ0AfhetRuKZsQBSuR+F6JG9ArkfhehTqeEDNzMzMzMx1QClcj8L1IIFAmpmZmZmvgkDNzMzMzMx1QNejcD0Kx3pAexSuR+GugkBcj8L1KBCCQBSuR+F6BGxAuB6F61EoWkAK16NwPXpWQOxRuB6Fa1ZAuB6F61HoU0DD9ShcjxJWQK5H4XoU7lNAKVyPwvXsc0DD9Shcj+JtQI/C9Shcy3VAexSuR+GugkDXo3A9CudoQGZmZmZm7mNAexSuR+GqV0BSuB6F6+loQJqZmZmZ6VhAhetRuB7lXUC4HoXrUShaQAAAAAAAEGJASOF6FK5nW0CamZmZmTFgQIXrUbge5V1AmpmZmZkxYECF61G4Hi1lQEjhehSuZ2tAZmZmZmbuY0D2KFyPwo1kQI/C9Shcr2JAhetRuB4tZUDXo3A9CudoQGZmZmZm7mNA9ihcj8IxcEDhehSuR4lpQHsUrkfhqmdA16NwPQrnaEDD9Shcj+JtQOxRuB6FJ3pArkfhehTqeEDD9Shcj0poQHE9CtejoFxAMzMzMzMjf0A=",
          "dtype": "f8"
         },
         "yaxis": "y"
        },
        {
         "hovertemplate": "brand_name=nokia<br>battery_capacity=%{x}<br>price (€)=%{y}<extra></extra>",
         "legendgroup": "nokia",
         "marker": {
          "color": "#FF6692",
          "opacity": 0.6,
          "symbol": "circle"
         },
         "mode": "markers",
         "name": "nokia",
         "orientation": "v",
         "showlegend": true,
         "type": "scatter",
         "x": {
          "bdata": "uAu6E7oTiBO6E7oTlBFwF3YRaBBwF3AXcBc=",
          "dtype": "i2"
         },
         "xaxis": "x",
         "y": {
          "bdata": "SOF6FK4nSkDsUbgehWtWQHsUrkfhqldAuB6F61EoWkCF61G4HuVdQClcj8L10GBAXI/C9SjAcUAK16NwPUZ9QOF6FK5HaWZA7FG4HoUnekDNzMzMzMx1QHE9Ctej6HhAMzMzMzMjf0A=",
          "dtype": "f8"
         },
         "yaxis": "y"
        },
        {
         "hovertemplate": "brand_name=nothing<br>battery_capacity=%{x}<br>price (€)=%{y}<extra></extra>",
         "legendgroup": "nothing",
         "marker": {
          "color": "#B6E880",
          "opacity": 0.6,
          "symbol": "circle"
         },
         "mode": "markers",
         "name": "nothing",
         "orientation": "v",
         "showlegend": true,
         "type": "scatter",
         "x": {
          "bdata": "lBGUEZQRiBNcEg==",
          "dtype": "i2"
         },
         "xaxis": "x",
         "y": {
          "bdata": "4XoUrkepcEC4HoXrUWx2QBSuR+F6mHFAmpmZmZkhb0BxPQrXo+h4QA==",
          "dtype": "f8"
         },
         "yaxis": "y"
        },
        {
         "hovertemplate": "brand_name=nubia<br>battery_capacity=%{x}<br>price (€)=%{y}<extra></extra>",
         "legendgroup": "nubia",
         "marker": {
          "color": "#FF97FF",
          "opacity": 0.6,
          "symbol": "circle"
         },
         "mode": "markers",
         "name": "nubia",
         "orientation": "v",
         "showlegend": true,
         "type": "scatter",
         "x": {
          "bdata": "uhOIE3AXiBOIE4gT",
          "dtype": "i2"
         },
         "xaxis": "x",
         "y": {
          "bdata": "j8L1KFwHfEBxPQrXo/6CQM3MzMzMRH1Aj8L1KFz/gkAzMzMzMyN/QM3MzMzMzHVA",
          "dtype": "f8"
         },
         "yaxis": "y"
        },
        {
         "hovertemplate": "brand_name=oneplus<br>battery_capacity=%{x}<br>price (€)=%{y}<extra></extra>",
         "legendgroup": "oneplus",
         "marker": {
          "color": "#FECB52",
          "opacity": 0.6,
          "symbol": "circle"
         },
         "mode": "markers",
         "name": "oneplus",
         "orientation": "v",
         "showlegend": true,
         "type": "scatter",
         "x": {
          "bdata": "iBOIE4gTiBOIE4gTwBLAEsASiBOUEYgTwBLkDJQRlBGUEYgTlBHAEogTcBeIE5QRlBFoEJQRlBGIE4gTiBOIE4gTiBPMEMwQiBOUEYgTiBOUEcwQ",
          "dtype": "i2"
         },
         "xaxis": "x",
         "y": {
          "bdata": "j8L1KFz/gkCuR+F6FGaEQOxRuB6FW4dAUrgeheuNdEBI4XoUrgt3QNejcD0KC3ZAj8L1KFwHfEBcj8L1KMR/QB+F61G4cIFAKVyPwvUggUB7FK5H4cyFQK5H4XoU6nhAexSuR+HMhUBxPQrXo3BxQGZmZmZmLoRAFK5H4XrIekCPwvUoXAd8QM3MzMzMzHVAw/UoXI8OckC4HoXrUeR9QKRwPQrXo2xAj8L1KFyvYkAfhetRuKZsQJqZmZmZHXVAAAAAAAAQckBxPQrXo3BxQK5H4XoUrnJA7FG4HoWvckDNzMzMzMx1QB+F61G45mhAZmZmZmZma0AUrkfheiRvQEjhehSuZ2tAexSuR+GqZ0BSuB6F6+loQMP1KFyP4m9ACtejcD0qZUCuR+F6FCZqQArXo3A9KmVAAAAAAACoZ0BSuB6F6+loQBSuR+F6JG9A",
          "dtype": "f8"
         },
         "yaxis": "y"
        },
        {
         "hovertemplate": "brand_name=oppo<br>battery_capacity=%{x}<br>price (€)=%{y}<extra></extra>",
         "legendgroup": "oppo",
         "marker": {
          "color": "#636efa",
          "opacity": 0.6,
          "symbol": "circle"
         },
         "mode": "markers",
         "name": "oppo",
         "orientation": "v",
         "showlegend": true,
         "type": "scatter",
         "x": {
          "bdata": "wBKGEIYQhhCIE4YQhhCGEIgTiBOGEIgTiBOIE4gTiBOIE4gTiBOIE4gTiBOIE4gTgAyIE4gTiBOIE4gTiBOIE4gTlBGIE4gTrw+IE9YQ1hCIE5QRlBGUEZQRwBKUEZQRlBHMEIgTqBHMEJQRiBNcElwSiBOIE4gTiBOIE6APiBOIE1wSzBD+EKAPzBCUEZQRlBGUEZQRlBGUEYgTiBOUEZQRXBLAEpQRlBGUEZQRoA8=",
          "dtype": "i2"
         },
         "xaxis": "x",
         "y": {
          "bdata": "rkfhehQmakCkcD0K1+NYQJqZmZmZ6VhAcT0K16OgXECF61G4HuVdQOxRuB6Fa1ZA7FG4HoVrVkBI4XoUrmdbQBSuR+F6JF9AexSuR+GqV0AfhetRuB5fQD0K16NwbWFAhetRuB5lXkCPwvUoXN9dQI/C9Shcr2JAKVyPwvXQYEAAAAAAAFBiQOF6FK5HaWZA4XoUrkdpZkCamZmZmTFgQI/C9Shc311A16NwPQpnYUAAAAAAAKhnQD0K16NwbWFA7FG4HoXrY0CkcD0K10tjQHsUrkfhimRAH4XrUbhOY0CuR+F6FO5jQM3MzMzMZGtAXI/C9ShsZkB7FK5H4apnQFyPwvUobGZApHA9CtejbEDD9Shcj+JtQJqZmZmZTXNAAAAAAACoZ0AUrkfheqxiQMP1KFyPamZA16NwPQrnaEB7FK5H4epjQClcj8L1KGpAKVyPwvUscECF61G4HiFwQAAAAAAASGtAw/UoXI86cUDXo3A9CudoQDMzMzMzb3FAzczMzMy6jEAfhetRuAaMQAAAAAAAJI9Aj8L1KFyVjUBSuB6F6xuGQB+F61G4wn9APQrXo3DpiEBcj8L1KMyFQAAAAAAASohArkfhehTOYEAK16NwPSplQIXrUbgeLWVArkfhehSuckAK16NwPSplQNejcD0K52hAUrgeheuNdEDXo3A9Csd6QIXrUbgeX4JArkfhehSuckB7FK5H4Rp4QKRwPQrXo2xAZmZmZmZucECamZmZmeV2QFK4HoXrBXxAFK5H4XqMdEDXo3A9Csd6QHsUrkfhpnxAexSuR+GmfEBI4XoUrs9wQK5H4XoUrnJAUrgehevpaEC4HoXrUcBxQK5H4XoU6nhAexSuR+GmfECkcD0K16NsQClcj8L1MHBAmpmZmZntc0Bcj8L1KGxmQGZmZmZmRnJAmpmZmZkFlUA=",
          "dtype": "f8"
         },
         "yaxis": "y"
        },
        {
         "hovertemplate": "brand_name=oukitel<br>battery_capacity=%{x}<br>price (€)=%{y}<extra></extra>",
         "legendgroup": "oukitel",
         "marker": {
          "color": "#EF553B",
          "opacity": 0.6,
          "symbol": "circle"
         },
         "mode": "markers",
         "name": "oukitel",
         "orientation": "v",
         "showlegend": true,
         "type": "scatter",
         "x": {
          "bdata": "CFJIJkAf",
          "dtype": "i2"
         },
         "xaxis": "x",
         "y": {
          "bdata": "rkfhehSuckCkcD0K16NsQPYoXI/CIXBA",
          "dtype": "f8"
         },
         "yaxis": "y"
        },
        {
         "hovertemplate": "brand_name=poco<br>battery_capacity=%{x}<br>price (€)=%{y}<extra></extra>",
         "legendgroup": "poco",
         "marker": {
          "color": "#00cc96",
          "opacity": 0.6,
          "symbol": "circle"
         },
         "mode": "markers",
         "name": "poco",
         "orientation": "v",
         "showlegend": true,
         "type": "scatter",
         "x": {
          "bdata": "iBOIE4gTiBOIE8kTlBGUEZQRXBJcEpQRfBWIE4gTcBeIE4gTiBOIE4gTiBOIE4gTiBOIE4gTiBPsE3AXKBSIE9gT2BOIE4gTiBOIE4gTiBOIEw==",
          "dtype": "i2"
         },
         "xaxis": "x",
         "y": {
          "bdata": "4XoUrkcxUECPwvUoXK9SQOF6FK5HMVBAj8L1KFwvUkCuR+F6FO5TQFK4HoXrjXRA7FG4HoWvckD2KFyPwjFwQHE9CtejcHFArkfhehTqeECPwvUoXMt1QBSuR+F6yHpA7FG4HoWvckBSuB6F6yFbQDMzMzMz419AZmZmZmamXEBmZmZmZu5jQEjhehSub2JAZmZmZmamXEApXI/C9dBgQIXrUbge5V1AmpmZmZkxYEC4HoXrUXBhQJqZmZmZMWBAj8L1KFyvYkBmZmZmZu5jQEjhehSu51pAAAAAAAAQYkDXo3A9CudoQClcj8L10GBAw/UoXI96aEAUrkfheqxiQJqZmZmZIW9Aw/UoXI8OckCPwvUoXK9iQPYoXI/CjWRAXI/C9ShsZkCPwvUoXK9iQK5H4XoUrnJAKVyPwvUoakBSuB6F6+loQA==",
          "dtype": "f8"
         },
         "yaxis": "y"
        },
        {
         "hovertemplate": "brand_name=realme<br>battery_capacity=%{x}<br>price (€)=%{y}<extra></extra>",
         "legendgroup": "realme",
         "marker": {
          "color": "#ab63fa",
          "opacity": 0.6,
          "symbol": "circle"
         },
         "mode": "markers",
         "name": "realme",
         "orientation": "v",
         "showlegend": true,
         "type": "scatter",
         "x": {
          "bdata": "iBOIE4gTiBOIE4gTiBOIE4gTaBDMEMwQlBGIE4gTiBOIE4gTiBOIE4gTiBOIE4gTiBOIE4gTiBOIE5QRlBGUEYgTiBOIE4gTiBOgD4gTiBOIE6APiBOIE6APiBOIE4gTiBOIE4gTiBOIE4gTiBOIE4gTcBeIE4gTiBOIE5QRlBHMEIgTiBOIE4gTiBP4EYgTcBeIE4gTiBOIE4gTiBOIE4gTiBNwF4gTiBOIE4gTiBOIE4gTiBOIE4gTaBBoEJQRoA8=",
          "dtype": "i2"
         },
         "xaxis": "x",
         "y": {
          "bdata": "uB6F61FwYUCF61G4Hi1lQAAAAAAAEGJAexSuR+GqZ0BSuB6F6+loQBSuR+F6JG9AcT0K16NwcUCamZmZmTFgQAAAAAAAEHJAFK5H4Xokb0BmZmZmZi5gQIXrUbgeDWJASOF6FK5na0BmZmZmZu5jQFyPwvUobGZA9ihcj8KNZEDsUbgehQtnQBSuR+F6JF9AuB6F61FwYUBcj8L1KGxmQM3MzMzMzGVAj8L1KFyvYkBmZmZmZu5jQLgehetRcGFAH4XrUbhOY0B7FK5H4apnQGZmZmZmpmxAexSuR+GqZ0ApXI/C9ShqQFK4HoXrIXBAhetRuB6lbEDsUbgehYNuQBSuR+F6JF9AuB6F61FwYUCPwvUoXK9iQBSuR+F6pGJAhetRuB4tZUDsUbgehWtWQOxRuB6FK1BA4XoUrkcxUEAfhetRuE5TQAAAAAAAcFFAAAAAAABwUUDsUbgehWtWQI/C9Shcb0FASOF6FK5nSkCkcD0K12NPQD0K16NwzVFA9ihcj8JlVkA9CtejcK1UQOxRuB6Fa1ZAexSuR+GqV0DNzMzMzExWQJqZmZmZ6VhAuB6F61F4XUBcj8L1KNxfQLgehetRcGFArkfhehTuU0AzMzMzMw9yQFyPwvUoiHlACtejcD0ef0AK16NwPUZ9QArXo3A9TnNAFK5H4XqMdEBxPQrXo3BxQJqZmZmZ7XNAFK5H4Xokb0A9CtejcIFwQLgehetRwHFA7FG4HoWvckDNzMzMzMx1QGZmZmZm7nNAuB6F61EoWkCF61G4Hi1lQFK4HoXr6WhASOF6FK5nW0AfhetRuE5jQFyPwvUobGZAj8L1KFyvYkApXI/C9dBgQGZmZmZmhmlAH4XrUbimbEBmZmZmZqZcQGZmZmZmZlxAKVyPwvWYXUDsUbgehStQQOxRuB6Fa1ZArkfhehTuU0CamZmZmblVQJqZmZmZ6VhAj8L1KFyvYkBSuB6F62FbQBSuR+F6rGJAcT0K16NwcUAUrkfheiRvQIXrUbge0XBAexSuR+GKYEA=",
          "dtype": "f8"
         },
         "yaxis": "y"
        },
        {
         "hovertemplate": "brand_name=redmi<br>battery_capacity=%{x}<br>price (€)=%{y}<extra></extra>",
         "legendgroup": "redmi",
         "marker": {
          "color": "#FFA15A",
          "opacity": 0.6,
          "symbol": "circle"
         },
         "mode": "markers",
         "name": "redmi",
         "orientation": "v",
         "showlegend": true,
         "type": "scatter",
         "x": {
          "bdata": "iBOIE4gT",
          "dtype": "i2"
         },
         "xaxis": "x",
         "y": {
          "bdata": "rkfhehTuU0B7FK5H4apnQFK4HoXr6WhA",
          "dtype": "f8"
         },
         "yaxis": "y"
        },
        {
         "hovertemplate": "brand_name=royole<br>battery_capacity=%{x}<br>price (€)=%{y}<extra></extra>",
         "legendgroup": "royole",
         "marker": {
          "color": "#19d3f3",
          "opacity": 0.6,
          "symbol": "circle"
         },
         "mode": "markers",
         "name": "royole",
         "orientation": "v",
         "showlegend": true,
         "type": "scatter",
         "x": {
          "bdata": "YhEgDQ==",
          "dtype": "i2"
         },
         "xaxis": "x",
         "y": {
          "bdata": "AAAAAAAhkUDD9Shcj1uXQA==",
          "dtype": "f8"
         },
         "yaxis": "y"
        },
        {
         "hovertemplate": "brand_name=samsung<br>battery_capacity=%{x}<br>price (€)=%{y}<extra></extra>",
         "legendgroup": "samsung",
         "marker": {
          "color": "#FF6692",
          "opacity": 0.6,
          "symbol": "circle"
         },
         "mode": "markers",
         "name": "samsung",
         "orientation": "v",
         "showlegend": true,
         "type": "scatter",
         "x": {
          "bdata": "uAuIE4gTiBOIE4gTiBOIE4gTiBOIE4gTiBOgD4gTiBOIE4gTiBOIE4gTiBOIE4gTiBOIE4gTiBOIE4gTiBOgD4gTiBOIE4gTiBOIExwMoA+UEZQRiBOIE4gTiBPkDJQRiBOIE4gTiBOUEZQRSA2IE4gTcBdwF3AXiBNwF3AXiBOIE4gTcBeIE4gTWBuIE4gTcBdwF3AXiBOIE3AXcBdwF3AXcBdwF3AXcBdwF3AXcBeIE4gTiBNwF1gblBHMEMwQzBCUEZQRBBCgD6APlBGUEZQRlBGIE6APlBGUEcASiBOIE3QOdA5oEJQRlBGIE4gTiBM8D5QRXBKIE+wTrA3kDHQOMBEwETAR",
          "dtype": "i2"
         },
         "xaxis": "x",
         "y": {
          "bdata": "KVyPwvXoSECPwvUoXA9SQGZmZmZmplxA4XoUrkcxUEDNzMzMzCxVQIXrUbge5V1AmpmZmZkxYEB7FK5H4SpXQArXo3A9ylhAZmZmZmamXEAfhetRuC5gQAAAAAAAEGJAH4XrUbguYECkcD0K1+NYQIXrUbge5V1AuB6F61FwYUC4HoXrUQBiQI/C9Shcr2JA9ihcj8KNZEDhehSuR2lmQPYoXI/CjWRAexSuR+GqZ0ApXI/C9ShqQOxRuB6F62NAzczMzMzMZUDsUbgehQtnQOF6FK5HaWZA7FG4HoULZ0DXo3A9CudoQB+F61G4pmxAFK5H4Xokb0Bcj8L1KGxmQPYoXI/CjWRA9ihcj8KNZECF61G4HoVuQPYoXI/CMXBAKVyPwvUgcUAUrkfheiRvQOF6FK5HaWZA7FG4HoXrY0CamZmZmSFvQPYoXI/CBWxAAAAAAAC8dkBmZmZmZu5zQJqZmZmZ3XRAzczMzMzMdUA9CtejcMVqQPYoXI/CBWxAKVyPwvUoekDsUbgehSd6QBSuR+F6yHpAj8L1KFwHfEBxPQrXo+h4QHE9Ctej6HhAcT0K16PoeEC4HoXrUeR9QM3MzMzMLFVAuB6F61EoWkBI4XoUrmdbQIXrUbge5V1AFK5H4XqsYkBmZmZmZqZcQClcj8L10GBAZmZmZmbuY0CF61G4Hi1lQI/C9Shcr2JAUrgehevpaECkcD0K10tjQB+F61G4pmxASOF6FK5na0DNzMzMzCxVQHsUrkfhqldASOF6FK5nW0CamZmZmTFgQFyPwvUofFpAuB6F61FwYUAAAAAAACBgQI/C9Shcr2JAZmZmZmY2XUCuR+F6FM5eQIXrUbgeDWJAw/UoXI8yXkDD9Shcj4JiQK5H4XoUxmVAw/UoXI9KaECF61G4Hi1lQB+F61G4pmxAmpmZmZkhb0CamZmZmSFvQHsUrkfhom1AKVyPwvWAb0DNzMzMzMx1QD0K16Nw5W1ArkfhehTqeECkcD0K11+CQHE9Ctej9oxAcT0K16PIikBI4XoUrlmQQEjhehSumYhAFK5H4XrIekApXI/C9Sh6QOxRuB6FW4dAexSuR+EadkDhehSuR3VzQD0K16Nw2YlApHA9CtfHikAfhetRuCSPQD0K16NwdX5ArkfhehTqeECkcD0K12d7QKRwPQrXg4JAw/UoXI+BkEBcj8L1KMSPQHE9CtejJH9AXI/C9SgQgkD2KFyPwjGAQGZmZmZmEoRASOF6FK63i0B7FK5H4aaMQPYoXI/Ch5JAAAAAAAAkj0BSuB6F6xuGQClcj8L1IIFArkfhehR4ikApXI/C9eeRQOF6FK5Hr5JAzczMzMzMdUB7FK5H4cyFQD0K16NwB4xAexSuR+FIkUCkcD0K1yKYQHsUrkfhiJlA",
          "dtype": "f8"
         },
         "yaxis": "y"
        },
        {
         "hovertemplate": "brand_name=sharp<br>battery_capacity=%{x}<br>price (€)=%{y}<extra></extra>",
         "legendgroup": "sharp",
         "marker": {
          "color": "#B6E880",
          "opacity": 0.6,
          "symbol": "circle"
         },
         "mode": "markers",
         "name": "sharp",
         "orientation": "v",
         "showlegend": true,
         "type": "scatter",
         "x": {
          "bdata": "kg4=",
          "dtype": "i2"
         },
         "xaxis": "x",
         "y": {
          "bdata": "exSuR+GugkA=",
          "dtype": "f8"
         },
         "yaxis": "y"
        },
        {
         "hovertemplate": "brand_name=sony<br>battery_capacity=%{x}<br>price (€)=%{y}<extra></extra>",
         "legendgroup": "sony",
         "marker": {
          "color": "#FF97FF",
          "opacity": 0.6,
          "symbol": "circle"
         },
         "mode": "markers",
         "name": "sony",
         "orientation": "v",
         "showlegend": true,
         "type": "scatter",
         "x": {
          "bdata": "oA+IExAOlBGgD4gTiBOgD5QR",
          "dtype": "i2"
         },
         "xaxis": "x",
         "y": {
          "bdata": "exSuR+HMhUCF61G4HvWMQHE9CtejcHFAmpmZmZlNc0Bcj8L1KMyFQJqZmZmZmYlA16NwPQrnaEDsUbgehetjQJqZmZmZBZVA",
          "dtype": "f8"
         },
         "yaxis": "y"
        },
        {
         "hovertemplate": "brand_name=tcl<br>battery_capacity=%{x}<br>price (€)=%{y}<extra></extra>",
         "legendgroup": "tcl",
         "marker": {
          "color": "#FECB52",
          "opacity": 0.6,
          "symbol": "circle"
         },
         "mode": "markers",
         "name": "tcl",
         "orientation": "v",
         "showlegend": true,
         "type": "scatter",
         "x": {
          "bdata": "uAs=",
          "dtype": "i2"
         },
         "xaxis": "x",
         "y": {
          "bdata": "9ihcj8JlVkA=",
          "dtype": "f8"
         },
         "yaxis": "y"
        },
        {
         "hovertemplate": "brand_name=tecno<br>battery_capacity=%{x}<br>price (€)=%{y}<extra></extra>",
         "legendgroup": "tecno",
         "marker": {
          "color": "#636efa",
          "opacity": 0.6,
          "symbol": "circle"
         },
         "mode": "markers",
         "name": "tecno",
         "orientation": "v",
         "showlegend": true,
         "type": "scatter",
         "x": {
          "bdata": "iBOIE4gTiBOIE4gTiBNcEogTKBQoFKAPiBNYG1gbWBtwF3AXcBdYG3AXiBOIE4gTiBOIE4gTiBOIE4gTiBOIE4gT",
          "dtype": "i2"
         },
         "xaxis": "x",
         "y": {
          "bdata": "ZmZmZmamXEAfhetRuF5iQI/C9Shcr2JA4XoUrkdpZkBI4XoUrmdrQFyPwvUobGZAKVyPwvUoakD2KFyPwjFwQB+F61G4pmxArkfhehTqeEBxPQrXoyR/QAAAAAAAcFFApHA9CtdjT0BI4XoUrmdbQJqZmZmZ6VhAcT0K16MwYUCF61G4HuVdQGZmZmZm7mNAH4XrUbhOY0A9CtejcG1hQB+F61G4TmNA7FG4HoVrVkBcj8L1KOxVQI/C9Shcb1JAZmZmZmYmVkCuR+F6FO5TQOxRuB6Fa1ZA16NwPQrnVECuR+F6FO5TQJqZmZmZ6VhAuB6F61FYVkCkcD0K1yNPQAAAAAAAcFFA",
          "dtype": "f8"
         },
         "yaxis": "y"
        },
        {
         "hovertemplate": "brand_name=vertu<br>battery_capacity=%{x}<br>price (€)=%{y}<extra></extra>",
         "legendgroup": "vertu",
         "marker": {
          "color": "#EF553B",
          "opacity": 0.6,
          "symbol": "circle"
         },
         "mode": "markers",
         "name": "vertu",
         "orientation": "v",
         "showlegend": true,
         "type": "scatter",
         "x": {
          "bdata": "4wg=",
          "dtype": "i2"
         },
         "xaxis": "x",
         "y": {
          "bdata": "ZmZmZuZNuUA=",
          "dtype": "f8"
         },
         "yaxis": "y"
        },
        {
         "hovertemplate": "brand_name=vivo<br>battery_capacity=%{x}<br>price (€)=%{y}<extra></extra>",
         "legendgroup": "vivo",
         "marker": {
          "color": "#00cc96",
          "opacity": 0.6,
          "symbol": "circle"
         },
         "mode": "markers",
         "name": "vivo",
         "orientation": "v",
         "showlegend": true,
         "type": "scatter",
         "x": {
          "bdata": "lBH4EfgRiBOIE4gTiBOIE4gTiBNcElwSiBOIE4gTXBKUEXAXXBKIE4gTiBPzDHQOlBGgD6APBBCgD6APzBCgD2gQaBDMEMwQ0g/SD5QRlBHeEt4SlBHAElwSiBOIE4gTwBL4EfgRehKIE5QRlBFcEpQRyhIGE1wSiBOIE4gTiBOIE4gTiBOIE4gTiBOIE4gTiBOIE4gTiBOIE4gTiBOIE4gTiBOIE4gTiBOIE4gTiBNsB4gTiBOIE4gTiBOIE3AXiBOIE6oKiBNwFyANoA9wF9IPiBOUEZQRvg++D74P",
          "dtype": "i2"
         },
         "xaxis": "x",
         "y": {
          "bdata": "7FG4HoWvckCuR+F6FK5yQBSuR+F6HHZAMzMzMzMjf0AAAAAAABBiQGZmZmZm7mNAXI/C9ShsZkDsUbgehetjQArXo3A9KmVA16NwPQrnaEA9CtejcOVtQBSuR+F6JG9AmpmZmZkxYECPwvUoXK9iQIXrUbge5V1AmpmZmZkhb0CuR+F6FK5yQAAAAAAAqGdAKVyPwvXsc0CkcD0K1+NYQI/C9Shc311A9ihcj8JlVkCuR+F6FCZqQM3MzMzMJG9AMzMzMzNvcUDNzMzMzPxsQOF6FK5H0XBAMzMzMzOrZ0AUrkfheiRvQKRwPQrX421AUrgeheuNdEDsUbgeha9yQHsUrkfhIm9ApHA9CtdvcUCamZmZme1zQHsUrkfhCndASOF6FK7PcECuR+F6FGZrQGZmZmZm7nNAcT0K16NwcUCuR+F6FOp4QLgehetRbHZA16NwPQrnaEDXo3A9Csd6QDMzMzMzb3FApHA9Ctdne0DD9Shcjw5yQBSuR+F6jHRA4XoUrkevkkDXo3A9CqmQQGZmZmZmh5JArkfhehTAkUBxPQrXo9iJQClcj8L1IIFAmpmZmZmvgkBcj8L1KOqIQHE9Ctej2IlA7FG4HoUnekBmZmZmZsCBQPYoXI/CC4dArkfhehTuU0ApXI/C9WhTQOxRuB6Fa1ZArkfhehTuU0D2KFyPwmVWQB+F61G4Hl9ArkfhehSuckCF61G4HqVXQLgehetRaFtAmpmZmZnpWECPwvUoXN9dQBSuR+F6JF9AzczMzMwsVUDD9ShcjyJaQM3MzMzMLFVAmpmZmZnpWEC4HoXrUShaQK5H4XoUHl9ACtejcD3qaEA9CtejcG1hQKRwPQrX41hA9ihcj8LNYEAUrkfheiRfQBSuR+F6rGJAH4XrUbhOY0AAAAAAABBiQPYoXI/CjWRAFK5H4XqsYkCPwvUoXK9SQB+F61G4LmBAKVyPwvXIZEDsUbgehetjQOxRuB6FC2dAuB6F61FwYUCkcD0K10tjQIXrUbge5V1ApHA9CtejbECuR+F6FCZqQK5H4XoUzmBASOF6FK5na0DXo3A9CudoQM3MzMzMJG9A16NwPQrnaEAK16NwPSplQNejcD0K52hAzczMzMxka0DhehSuR2lmQJqZmZmZIW9APQrXo3BtVEAUrkfhemxmQEjhehSur2JA",
          "dtype": "f8"
         },
         "yaxis": "y"
        },
        {
         "hovertemplate": "brand_name=xiaomi<br>battery_capacity=%{x}<br>price (€)=%{y}<extra></extra>",
         "legendgroup": "xiaomi",
         "marker": {
          "color": "#ab63fa",
          "opacity": 0.6,
          "symbol": "circle"
         },
         "mode": "markers",
         "name": "xiaomi",
         "orientation": "v",
         "showlegend": true,
         "type": "scatter",
         "x": {
          "bdata": "KBSUEZQRiBPMEPgR+BHAEvwSiBOIE5QR1BKIE4gTlBGIE6wSiBOIE5oQmhCaECgUiBOoEagRqBGUEdIPnBOUEaAPoA9wF3AXcBdwF3AXiBOIE4gTiBOIE3AXcBeIE4gTiBOIE+wTiBOIE4gTiBOIE3AXiBOIE4gTiBOIE4gTiBOIE6APfBWIE9gT2BN8FYgTiBN8FdgTiBOIE4gTnBOcE5wTnBOIE5wTnBOIE4gTiBOIE4gTiBOIE4gTiBOIE4gTUBSIE4gTiBOIE4gTiBOIE4gTiBOIE4gTiBPYE4gTiBOIE8wQzBCIE4gTiBOIE1AUdBN0E3QTiBOIE4gTUBQEEKAPlBGcE5wTnBOcEw==",
          "dtype": "i2"
         },
         "xaxis": "x",
         "y": {
          "bdata": "mpmZmZkhb0DsUbgehetuQIXrUbge0XBAw/UoXI9KeECuR+F6FK5yQB+F61G4wn9AuB6F61EogEDhehSuR6uHQFyPwvUozIVASOF6FK6DfkB7FK5H4a6CQM3MzMzMRH1AhetRuB5fgkC4HoXrUWyGQClcj8L1IIFA7FG4HoWvckAUrkfheox0QClcj8L1IIFAZmZmZmZGbUDsUbgeha9yQDMzMzMzS2dAhetRuB5Fa0AfhetRuKZsQK5H4XoURm1Aj8L1KFzLdUB7FK5H4cJtQLgehetRMHBAmpmZmZlNc0DXo3A9Csd6QGZmZmZmJJ9AcT0K16MgkUDXo3A9CqmQQIXrUbge5V1AmpmZmZkxYECkcD0K1+NXQIXrUbge5V1AhetRuB7lXUAfhetRuN5eQJqZmZmZMWBAPQrXo3BtYUCPwvUoXK9SQPYoXI/C5VRAuB6F61EIW0CamZmZmelYQD0K16NwbWFAFK5H4XqsYkDXo3A9CudcQHE9CtejKGFAZmZmZmbGYEDsUbgehetjQOF6FK5HaWZAUrgehethW0BxPQrXo6BcQOxRuB6Fa1ZAj8L1KFyvUkC4HoXrUShaQGZmZmZmplxAAAAAAABwUUBSuB6F62FbQOF6FK5HMVBAexSuR+EqV0CPwvUoXK9SQAAAAAAAwE5AKVyPwvUoUkDNzMzMzOxUQEjhehSur7JAMzMzMzNvcUCuR+F6FOp4QPYoXI/CMXBAH4XrUbimbECuR+F6FK5yQArXo3A9IIFAw/UoXI9KeED2KFyPwjFwQAAAAAAAEHJAPQrXo3BtYUD2KFyPwo1kQB+F61G4Hl9AmpmZmZnpWEAUrkfheiRfQIXrUbge5V1AXI/C9ShsZkCF61G4Hi1lQFK4HoXr6WhApHA9CtfjaEBI4XoUrmdbQIXrUbge5V1AuB6F61FwYUCamZmZmTFgQLgehetRcGFAzczMzMy8XUCF61G4Hs1hQK5H4XoUXl5AFK5H4XqsYkBcj8L1KGxmQOF6FK5HaWZAUrgehevpaEBSuB6F6+loQI/C9ShcR2xAH4XrUbimbEA9CtejcG1hQB+F61G4LmBAzczMzMwsYkAfhetRuE5jQGZmZmZmtmNAhetRuB7lXUCF61G4Hi1lQIXrUbgeLWVA7FG4HoULZ0DXo3A9CudoQI/C9ShcP2ZAZmZmZmbmaEC4HoXrUXBhQEjhehSuz3BAFK5H4Xokb0CF61G4HtFwQKRwPQrXb3FAj8L1KFyvYkApXI/C9dhuQFK4HoXrjXRA7FG4HoWvckBSuB6F6410QIXrUbge0XBAUrgehevpaEBmZmZmZu5jQOF6FK5HaWZA4XoUrkeJaUCamZmZmalZQKRwPQrX41hAhetRuB4tZUAfhetRuN5dQLgehetRcGFAzczMzMz8YUB7FK5H4YpkQA==",
          "dtype": "f8"
         },
         "yaxis": "y"
        },
        {
         "hovertemplate": "brand_name=zte<br>battery_capacity=%{x}<br>price (€)=%{y}<extra></extra>",
         "legendgroup": "zte",
         "marker": {
          "color": "#FFA15A",
          "opacity": 0.6,
          "symbol": "circle"
         },
         "mode": "markers",
         "name": "zte",
         "orientation": "v",
         "showlegend": true,
         "type": "scatter",
         "x": {
          "bdata": "aBCIEw==",
          "dtype": "i2"
         },
         "xaxis": "x",
         "y": {
          "bdata": "UrgehevpaEC4HoXrUU6DQA==",
          "dtype": "f8"
         },
         "yaxis": "y"
        }
       ],
       "layout": {
        "bargap": 0.1,
        "legend": {
         "title": {
          "text": "brand_name"
         },
         "tracegroupgap": 0
        },
        "template": {
         "data": {
          "bar": [
           {
            "error_x": {
             "color": "#2a3f5f"
            },
            "error_y": {
             "color": "#2a3f5f"
            },
            "marker": {
             "line": {
              "color": "#E5ECF6",
              "width": 0.5
             },
             "pattern": {
              "fillmode": "overlay",
              "size": 10,
              "solidity": 0.2
             }
            },
            "type": "bar"
           }
          ],
          "barpolar": [
           {
            "marker": {
             "line": {
              "color": "#E5ECF6",
              "width": 0.5
             },
             "pattern": {
              "fillmode": "overlay",
              "size": 10,
              "solidity": 0.2
             }
            },
            "type": "barpolar"
           }
          ],
          "carpet": [
           {
            "aaxis": {
             "endlinecolor": "#2a3f5f",
             "gridcolor": "white",
             "linecolor": "white",
             "minorgridcolor": "white",
             "startlinecolor": "#2a3f5f"
            },
            "baxis": {
             "endlinecolor": "#2a3f5f",
             "gridcolor": "white",
             "linecolor": "white",
             "minorgridcolor": "white",
             "startlinecolor": "#2a3f5f"
            },
            "type": "carpet"
           }
          ],
          "choropleth": [
           {
            "colorbar": {
             "outlinewidth": 0,
             "ticks": ""
            },
            "type": "choropleth"
           }
          ],
          "contour": [
           {
            "colorbar": {
             "outlinewidth": 0,
             "ticks": ""
            },
            "colorscale": [
             [
              0,
              "#0d0887"
             ],
             [
              0.1111111111111111,
              "#46039f"
             ],
             [
              0.2222222222222222,
              "#7201a8"
             ],
             [
              0.3333333333333333,
              "#9c179e"
             ],
             [
              0.4444444444444444,
              "#bd3786"
             ],
             [
              0.5555555555555556,
              "#d8576b"
             ],
             [
              0.6666666666666666,
              "#ed7953"
             ],
             [
              0.7777777777777778,
              "#fb9f3a"
             ],
             [
              0.8888888888888888,
              "#fdca26"
             ],
             [
              1,
              "#f0f921"
             ]
            ],
            "type": "contour"
           }
          ],
          "contourcarpet": [
           {
            "colorbar": {
             "outlinewidth": 0,
             "ticks": ""
            },
            "type": "contourcarpet"
           }
          ],
          "heatmap": [
           {
            "colorbar": {
             "outlinewidth": 0,
             "ticks": ""
            },
            "colorscale": [
             [
              0,
              "#0d0887"
             ],
             [
              0.1111111111111111,
              "#46039f"
             ],
             [
              0.2222222222222222,
              "#7201a8"
             ],
             [
              0.3333333333333333,
              "#9c179e"
             ],
             [
              0.4444444444444444,
              "#bd3786"
             ],
             [
              0.5555555555555556,
              "#d8576b"
             ],
             [
              0.6666666666666666,
              "#ed7953"
             ],
             [
              0.7777777777777778,
              "#fb9f3a"
             ],
             [
              0.8888888888888888,
              "#fdca26"
             ],
             [
              1,
              "#f0f921"
             ]
            ],
            "type": "heatmap"
           }
          ],
          "histogram": [
           {
            "marker": {
             "pattern": {
              "fillmode": "overlay",
              "size": 10,
              "solidity": 0.2
             }
            },
            "type": "histogram"
           }
          ],
          "histogram2d": [
           {
            "colorbar": {
             "outlinewidth": 0,
             "ticks": ""
            },
            "colorscale": [
             [
              0,
              "#0d0887"
             ],
             [
              0.1111111111111111,
              "#46039f"
             ],
             [
              0.2222222222222222,
              "#7201a8"
             ],
             [
              0.3333333333333333,
              "#9c179e"
             ],
             [
              0.4444444444444444,
              "#bd3786"
             ],
             [
              0.5555555555555556,
              "#d8576b"
             ],
             [
              0.6666666666666666,
              "#ed7953"
             ],
             [
              0.7777777777777778,
              "#fb9f3a"
             ],
             [
              0.8888888888888888,
              "#fdca26"
             ],
             [
              1,
              "#f0f921"
             ]
            ],
            "type": "histogram2d"
           }
          ],
          "histogram2dcontour": [
           {
            "colorbar": {
             "outlinewidth": 0,
             "ticks": ""
            },
            "colorscale": [
             [
              0,
              "#0d0887"
             ],
             [
              0.1111111111111111,
              "#46039f"
             ],
             [
              0.2222222222222222,
              "#7201a8"
             ],
             [
              0.3333333333333333,
              "#9c179e"
             ],
             [
              0.4444444444444444,
              "#bd3786"
             ],
             [
              0.5555555555555556,
              "#d8576b"
             ],
             [
              0.6666666666666666,
              "#ed7953"
             ],
             [
              0.7777777777777778,
              "#fb9f3a"
             ],
             [
              0.8888888888888888,
              "#fdca26"
             ],
             [
              1,
              "#f0f921"
             ]
            ],
            "type": "histogram2dcontour"
           }
          ],
          "mesh3d": [
           {
            "colorbar": {
             "outlinewidth": 0,
             "ticks": ""
            },
            "type": "mesh3d"
           }
          ],
          "parcoords": [
           {
            "line": {
             "colorbar": {
              "outlinewidth": 0,
              "ticks": ""
             }
            },
            "type": "parcoords"
           }
          ],
          "pie": [
           {
            "automargin": true,
            "type": "pie"
           }
          ],
          "scatter": [
           {
            "fillpattern": {
             "fillmode": "overlay",
             "size": 10,
             "solidity": 0.2
            },
            "type": "scatter"
           }
          ],
          "scatter3d": [
           {
            "line": {
             "colorbar": {
              "outlinewidth": 0,
              "ticks": ""
             }
            },
            "marker": {
             "colorbar": {
              "outlinewidth": 0,
              "ticks": ""
             }
            },
            "type": "scatter3d"
           }
          ],
          "scattercarpet": [
           {
            "marker": {
             "colorbar": {
              "outlinewidth": 0,
              "ticks": ""
             }
            },
            "type": "scattercarpet"
           }
          ],
          "scattergeo": [
           {
            "marker": {
             "colorbar": {
              "outlinewidth": 0,
              "ticks": ""
             }
            },
            "type": "scattergeo"
           }
          ],
          "scattergl": [
           {
            "marker": {
             "colorbar": {
              "outlinewidth": 0,
              "ticks": ""
             }
            },
            "type": "scattergl"
           }
          ],
          "scattermap": [
           {
            "marker": {
             "colorbar": {
              "outlinewidth": 0,
              "ticks": ""
             }
            },
            "type": "scattermap"
           }
          ],
          "scattermapbox": [
           {
            "marker": {
             "colorbar": {
              "outlinewidth": 0,
              "ticks": ""
             }
            },
            "type": "scattermapbox"
           }
          ],
          "scatterpolar": [
           {
            "marker": {
             "colorbar": {
              "outlinewidth": 0,
              "ticks": ""
             }
            },
            "type": "scatterpolar"
           }
          ],
          "scatterpolargl": [
           {
            "marker": {
             "colorbar": {
              "outlinewidth": 0,
              "ticks": ""
             }
            },
            "type": "scatterpolargl"
           }
          ],
          "scatterternary": [
           {
            "marker": {
             "colorbar": {
              "outlinewidth": 0,
              "ticks": ""
             }
            },
            "type": "scatterternary"
           }
          ],
          "surface": [
           {
            "colorbar": {
             "outlinewidth": 0,
             "ticks": ""
            },
            "colorscale": [
             [
              0,
              "#0d0887"
             ],
             [
              0.1111111111111111,
              "#46039f"
             ],
             [
              0.2222222222222222,
              "#7201a8"
             ],
             [
              0.3333333333333333,
              "#9c179e"
             ],
             [
              0.4444444444444444,
              "#bd3786"
             ],
             [
              0.5555555555555556,
              "#d8576b"
             ],
             [
              0.6666666666666666,
              "#ed7953"
             ],
             [
              0.7777777777777778,
              "#fb9f3a"
             ],
             [
              0.8888888888888888,
              "#fdca26"
             ],
             [
              1,
              "#f0f921"
             ]
            ],
            "type": "surface"
           }
          ],
          "table": [
           {
            "cells": {
             "fill": {
              "color": "#EBF0F8"
             },
             "line": {
              "color": "white"
             }
            },
            "header": {
             "fill": {
              "color": "#C8D4E3"
             },
             "line": {
              "color": "white"
             }
            },
            "type": "table"
           }
          ]
         },
         "layout": {
          "annotationdefaults": {
           "arrowcolor": "#2a3f5f",
           "arrowhead": 0,
           "arrowwidth": 1
          },
          "autotypenumbers": "strict",
          "coloraxis": {
           "colorbar": {
            "outlinewidth": 0,
            "ticks": ""
           }
          },
          "colorscale": {
           "diverging": [
            [
             0,
             "#8e0152"
            ],
            [
             0.1,
             "#c51b7d"
            ],
            [
             0.2,
             "#de77ae"
            ],
            [
             0.3,
             "#f1b6da"
            ],
            [
             0.4,
             "#fde0ef"
            ],
            [
             0.5,
             "#f7f7f7"
            ],
            [
             0.6,
             "#e6f5d0"
            ],
            [
             0.7,
             "#b8e186"
            ],
            [
             0.8,
             "#7fbc41"
            ],
            [
             0.9,
             "#4d9221"
            ],
            [
             1,
             "#276419"
            ]
           ],
           "sequential": [
            [
             0,
             "#0d0887"
            ],
            [
             0.1111111111111111,
             "#46039f"
            ],
            [
             0.2222222222222222,
             "#7201a8"
            ],
            [
             0.3333333333333333,
             "#9c179e"
            ],
            [
             0.4444444444444444,
             "#bd3786"
            ],
            [
             0.5555555555555556,
             "#d8576b"
            ],
            [
             0.6666666666666666,
             "#ed7953"
            ],
            [
             0.7777777777777778,
             "#fb9f3a"
            ],
            [
             0.8888888888888888,
             "#fdca26"
            ],
            [
             1,
             "#f0f921"
            ]
           ],
           "sequentialminus": [
            [
             0,
             "#0d0887"
            ],
            [
             0.1111111111111111,
             "#46039f"
            ],
            [
             0.2222222222222222,
             "#7201a8"
            ],
            [
             0.3333333333333333,
             "#9c179e"
            ],
            [
             0.4444444444444444,
             "#bd3786"
            ],
            [
             0.5555555555555556,
             "#d8576b"
            ],
            [
             0.6666666666666666,
             "#ed7953"
            ],
            [
             0.7777777777777778,
             "#fb9f3a"
            ],
            [
             0.8888888888888888,
             "#fdca26"
            ],
            [
             1,
             "#f0f921"
            ]
           ]
          },
          "colorway": [
           "#636efa",
           "#EF553B",
           "#00cc96",
           "#ab63fa",
           "#FFA15A",
           "#19d3f3",
           "#FF6692",
           "#B6E880",
           "#FF97FF",
           "#FECB52"
          ],
          "font": {
           "color": "#2a3f5f"
          },
          "geo": {
           "bgcolor": "white",
           "lakecolor": "white",
           "landcolor": "#E5ECF6",
           "showlakes": true,
           "showland": true,
           "subunitcolor": "white"
          },
          "hoverlabel": {
           "align": "left"
          },
          "hovermode": "closest",
          "mapbox": {
           "style": "light"
          },
          "paper_bgcolor": "white",
          "plot_bgcolor": "#E5ECF6",
          "polar": {
           "angularaxis": {
            "gridcolor": "white",
            "linecolor": "white",
            "ticks": ""
           },
           "bgcolor": "#E5ECF6",
           "radialaxis": {
            "gridcolor": "white",
            "linecolor": "white",
            "ticks": ""
           }
          },
          "scene": {
           "xaxis": {
            "backgroundcolor": "#E5ECF6",
            "gridcolor": "white",
            "gridwidth": 2,
            "linecolor": "white",
            "showbackground": true,
            "ticks": "",
            "zerolinecolor": "white"
           },
           "yaxis": {
            "backgroundcolor": "#E5ECF6",
            "gridcolor": "white",
            "gridwidth": 2,
            "linecolor": "white",
            "showbackground": true,
            "ticks": "",
            "zerolinecolor": "white"
           },
           "zaxis": {
            "backgroundcolor": "#E5ECF6",
            "gridcolor": "white",
            "gridwidth": 2,
            "linecolor": "white",
            "showbackground": true,
            "ticks": "",
            "zerolinecolor": "white"
           }
          },
          "shapedefaults": {
           "line": {
            "color": "#2a3f5f"
           }
          },
          "ternary": {
           "aaxis": {
            "gridcolor": "white",
            "linecolor": "white",
            "ticks": ""
           },
           "baxis": {
            "gridcolor": "white",
            "linecolor": "white",
            "ticks": ""
           },
           "bgcolor": "#E5ECF6",
           "caxis": {
            "gridcolor": "white",
            "linecolor": "white",
            "ticks": ""
           }
          },
          "title": {
           "x": 0.05
          },
          "xaxis": {
           "automargin": true,
           "gridcolor": "white",
           "linecolor": "white",
           "ticks": "",
           "title": {
            "standoff": 15
           },
           "zerolinecolor": "white",
           "zerolinewidth": 2
          },
          "yaxis": {
           "automargin": true,
           "gridcolor": "white",
           "linecolor": "white",
           "ticks": "",
           "title": {
            "standoff": 15
           },
           "zerolinecolor": "white",
           "zerolinewidth": 2
          }
         }
        },
        "title": {
         "text": "Prix vs Capacité de batterie des smartphones"
        },
        "xaxis": {
         "anchor": "y",
         "domain": [
          0,
          1
         ],
         "title": {
          "text": "Capacité batterie"
         }
        },
        "yaxis": {
         "anchor": "x",
         "domain": [
          0,
          1
         ],
         "title": {
          "text": "Prix (€)"
         }
        }
       }
      }
     },
     "metadata": {},
     "output_type": "display_data"
    }
   ],
   "source": [
    "fig_battery_price = px.scatter(\n",
    "    data,\n",
    "    x='battery_capacity',\n",
    "    y='price (€)',\n",
    "    color='brand_name',\n",
    "    title='Prix vs Capacité de batterie des smartphones',\n",
    "    labels={'battery': 'Batterie (mAh)', 'price': 'Prix (€)'},\n",
    "    opacity=0.6\n",
    ")\n",
    "\n",
    "fig_battery_price.update_layout(\n",
    "    xaxis_title='Capacité batterie',\n",
    "    yaxis_title='Prix (€)',\n",
    "    bargap=0.1\n",
    ")\n",
    "\n",
    "fig_battery_price.show()"
   ]
  },
  {
   "cell_type": "markdown",
   "id": "dfd023c9",
   "metadata": {},
   "source": [
    "* Tendance générale :\n",
    "    - Il n’y a pas de corrélation claire entre le prix et la capacité de batterie.\n",
    "    - Des téléphones à prix très bas peuvent avoir une batterie très élevée (outliers visibles à droite).\n",
    "    - Inversement, certains téléphones chers n'ont qu'une capacité moyenne.\n",
    "* Présence d’outliers :\n",
    "    - Des smartphones affichent une capacité batterie supérieure à 10 000 mAh, ce qui est anormalement élevé pour des téléphones classiques → probablement des erreurs ou des modèles atypiques (tablettes, rugged phones).\n",
    "* Dispersion importante :\n",
    "    - Il y a une forte variabilité des prix pour une même capacité batterie, ce qui montre que la batterie n’est pas un facteur déterminant du prix."
   ]
  },
  {
   "cell_type": "markdown",
   "id": "cb316227",
   "metadata": {},
   "source": [
    "**Comparaison entre le prix et les différentes colonnes**"
   ]
  },
  {
   "cell_type": "code",
   "execution_count": 10,
   "id": "21569679",
   "metadata": {},
   "outputs": [
    {
     "data": {
      "application/vnd.plotly.v1+json": {
       "config": {
        "plotlyServerURL": "https://plot.ly"
       },
       "data": [
        {
         "mode": "markers",
         "name": "rating",
         "type": "scatter",
         "visible": true,
         "x": {
          "bdata": "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",
          "dtype": "f8"
         },
         "y": {
          "bdata": "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",
          "dtype": "f8"
         }
        },
        {
         "mode": "markers",
         "name": "num_cores",
         "type": "scatter",
         "visible": false,
         "x": {
          "bdata": "BgYGBgYGBgYGBgYGBgYGBgYGBgYGBgYGBgYGBgYGBgYGBgYGBgYGCAQGBgYGBggICAgICAgICAQICAgIBAQICAgICAgICAgICAgICAgICAgICAgICAgICAgICAgICAgICAgICAgICAgICAQEBAgICAgICAgICAgICAgICAgICAgICAgEBAgICAgICAgICAgICAgICAgICAgICAgICAgICAgICAgICAgICAgEBAQEBAQECAgICAQEBAgICAQECAgIBAQICAgICAgICAgICAgICAgICAgICAgICAgICAgICAgICAgICAgICAgICAgICAgICAgICAgICAgICAgICAgICAgICAgICAgICAgICAgICAgICAgICAgICAgICAgICAgICAgICAgICAgICAgICAgICAgICAgICAgICAgICAgICAgICAgICAgICAgICAgICAgICAgICAgICAgICAgICAgICAgICAgICAgICAgICAgICAgICAgICAgICAgICAgICAgICAgICAgICAgICAgICAgICAgICAgICAgICAgICAgIBAQICAgICAgICAgICAgICAgICAgICAgICAgICAgICAgICAgICAgICAgICAgICAgICAgICAgICAgICAgICAgICAgICAgICAgICAgICAgICAgICAgICAgICAgICAgICAgICAgICAgICAgICAgICAgICAgICAgICAgICAgICAgICAgICAgICAgICAgICAgIBAgIBAgICAgICAgICAgICAgICAgICAgICAgICAgICAgICAgICAgICAgICAgICAgICAgICAgICAgICAgICAgICAgICAgICAgICAgICAgICAgICAgICAgICAgICAgICAgICAgICAgICAgICAgICAgICAgICAgICAgICAgICAgICAgICAgICAgICAgICAgICAgICAgICAgICAgICAQECAgICAgICAgICAgICAgICAgICAQICAgICAgICAgICAgICAgICAgICAgICAgICAgICAgICAgICAgICAgICAgICAgICAgICAgICAgICAgICAgICAgICAgICAgICAgICAgICAgICAgICAgICAgICAQICAgICAgICAgECAgECAgICAgICAgICAgICAgICAgICAgICAgICAgICAgICAgICAgICAgICAgICAgICAgICAgICAgICAgICAgICAgICAgICAgICAgEBAQICAgICAgICAgICAgICAgICAgICAgICAgICAgICAgICAgICAgICAgICAgICAgICAgICAgICAgICAgICAgICAgICAgICAgICA==",
          "dtype": "i1"
         },
         "y": {
          "bdata": "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",
          "dtype": "f8"
         }
        },
        {
         "mode": "markers",
         "name": "processor_speed",
         "type": "scatter",
         "visible": false,
         "x": {
          "bdata": "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",
          "dtype": "f8"
         },
         "y": {
          "bdata": "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",
          "dtype": "f8"
         }
        },
        {
         "mode": "markers",
         "name": "ram_capacity",
         "type": "scatter",
         "visible": false,
         "x": {
          "bdata": "BAQEBAQEBAQEBgYEBAQEBgYGBgYGBgYGBgYGBgYGBgYGBgYGCAgICAMDAwQEBAgMEBIQEggECAIECAwEBAMGBAQGCAYIDAwGCAwGCAwGCAwIDAwEBAYGBggIBAwICAwICAgICAgIBAgICAQEBAQEBAYIBAYEAwgGCAQGCAYICAgIBAYCAgMICAgIEAgICAwICAwICAwICAwICAgIBAYEBggGBAYMCAgGBAgBAgIBAQECAwMCBAIDAggEBAMIDBAMBAYECAYIAwMEBgMGBggICAgMCAgIDAYCBAQDBAQIBggIBgQEBAQGBAQEBAQGBAQGCAYGBgYICAYGCAgIBgQIAgQDBAQGBgwGBgYGCAgMCAYICAwIDAgICAwMCAwICAwQDAgIDAgICAgICAwIBAgMCAgICAgGCAgGBggGBAYEBAQICAMDBAQDBAQEAwYGBAQGBAYGBggDBAYGAwYGBAQGCAgICAwICAYICAYICAgICAgICAgIDAgMCAgMBggICAYICBAMCAgGCAwICAgMDAgICAgQEAgIDAgICAgMBgMEAgMEBgwGCAgICAgGBAYEBgQGBgYIBAYIBAYIBgYGCAgGBggECAYGBAgIBggGCAgGBgYGCAQIBAgEBgYIBggEBgYIBggGCAgEBAYEBgICAgQCAwQDAgMCBAMEBAMEBAQGAwgICAwICAgIBggICAgIBAYIBAYGBAQGCAQEBAIEAwQEBgQGDAgIBAQGBggIAQMEAgMEBAMDBAQEBAIEBgQEBgQEBggGBgYGBggGCAYGCAYGCAYEBAYICAYIBgQICAgICAYGBggEBAQEBAQGBAYEBgYIBgQEBAYEBgQEBAQGBAYGCAYIBggGCAYGBgwMCAwICAgICAgICAwICAgIDAwICAgICAwMCAgICAgMBggIDAwMDAgMBAYICAgEDAMEBgYICAgGCAgIDAECBAQGCAgIBgQEBAMEBAYDBAQEAgMCCAgIDAQGCAQGCAYIBAYECAgICAQGBgQICAgICAgICAgIDAgMCAgMCAwICAwIDAgIDAwMDAwIDAwMCAgMAgIDAgMECAMDAwMEAwMDAwMEBAQEBAMEBAQGCAEECAgIBAgECAQDBAgDCAgICAYIAgQECAYIDAYIDAwICAgICAwMCAgIBggIBggGCAYICAgMDAwGBgQGCAQGBAMEBgYEBAQGBAYGBAQEBAYEAgYCBAQCAgMICAgIBggICAgIBAYEBAQGBgYGBgYGCAQGBAYGBAYGBgYICAQEBgYIBgYGCAYEBgQICAgIBgYGCAwGCAYGBgQEBgQEBAYGCA==",
          "dtype": "i1"
         },
         "y": {
          "bdata": "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",
          "dtype": "f8"
         }
        },
        {
         "mode": "markers",
         "name": "internal_memory",
         "type": "scatter",
         "visible": false,
         "x": {
          "bdata": "QACAAEAAQACAAAABQACAAAABAAEAAoAAAAEAAoAAgAAABAABgAAABAABgAAAAQACgACAAAABAAKAAAAEAAGAAAAEAAEAAoAAgACAAAABgAAgAEAAQABAAEAAQACAAAABAAEAAgACAAGAAEAAgAAQAEAAgAAAAUAAIAAgAIAAgABAAEAAgACAAIAAgAAAAYAAgACAAIAAgAAAAYAAgAAAAgABAAEAAoAAQACAAIAAgACAAAABQAAAAoAAAAEAAgACAAKAAAABgACAAIAAQACAAAABAAFAACAAQABAAEAAQABAAIAAQACAAEAAQACAAIAAgABAAIAAgABAAAABgACAAIAAQACAAEAAIABAAIAAAAEAAYAAAAEAAQABgAAAAYAAgAAAAQABgAAAAYAAgAAAAYAAgAAAAYAAgACAAIAAgACAAIAAQACAAAABgACAAIAAgACAAAgAIAAgABAAEAAQACAAIABAACAAIAAgACAAQACAAIAAQAAgAIAAAAEAAgABIABAACAAgACAAIAAIAAgAEAAQAAgAIAAgACAAIAAgACAAAABgACAAIAAAAGAAEAAQABAACAAQABAAIAAgACAAIAAgACAAEAAgABAAIAAQABAAEAAQABAAIAAQACAAIAAgACAAIAAgACAAAABgACAAIAAgACAAIAAgABAAIAAEABAACAAQABAAIAAgAAAAYAAgABAAIAAgACAAAABAAGAAIAAgAAAAYAAAAGAAIAAgAAAAQACgAAAAYAAgAAAAQABAAGAAIAAAAGAAIAAgACAAIAAgAAAAYAAQACAAAABgACAAIAAgACAAIAAgAAAAYAAgACAAIAAQACAAEAAQABAAIAAgAAgACAAgABAACAAQABAAEAAQACAAIAAQACAAIAAQACAAIAAgACAAEAAQACAAIAAIACAAIAAQACAAIAAgACAAIAAAAEAAYAAgACAAIAAgACAAIAAgACAAIAAgACAAIAAAAGAAAABAAEAAQABAAEAAQABgACAAIAAgACAAIAAAAEAAQABgACAAIAAgAAAAYAAgAAAAQABAAEAAQABAAEAAQABAAGAAAABAAGAAIAAAAEAAQABgAAgAEAAIAAgAEAAgAAAAYAAgACAAIAAgACAAEAAQABAAEAAgABAAIAAQACAAIAAQACAAIAAQACAAIAAQACAAIAAgAAAAUAAgACAAIAAgACAAIAAQACAAIAAgACAAIAAAAGAAIAAgABAAEAAgACAAIAAgACAAEAAgACAAIAAgACAAEAAgACAAIAAgACAAIAAgAAAAUAAgACAAEAAgAAQACAAIABAABAAIABAACAAIAAgACAAQAAgAEAAQAAgAEAAQACAAIAAIACAAIAAgAAAAYAAgACAAIAAgACAAAABgACAAIAAQACAAIAAQACAAIAAgABAAIAAgABAAEAAgAAgAEAAIABAAIAAgACAAIAAAAGAAIAAQABAAIAAgACAAIAAEAAgAEAAIAAgAEAAgAAgAEAAgABAAIAAQAAgAEAAgABAAIAAgABAAEAAgACAAEAAgACAAIAAgACAAIAAgABAAIAAgACAAIAAgACAAEAAgACAAIAAAAGAAIAAgABAAIAAgAAAAYAAgACAAIAAgACAAEAAQABAAIAAQABAAIAAgACAAIAAgACAAIAAgABAAIAAQACAAEAAgABAAEAAQABAAIAAQACAAIAAgACAAIAAgACAAIAAgACAAIAAgAAAAQABAAEAAQABgACAAIAAgACAAIAAgACAAIAAgAAAAYAAAAGAAIAAAAGAAIAAAAEAAQACgACAAIAAAAEAAQABgACAAIAAAAEAAQAEAAEAAQACgABAAIAAAAGAAEAAAAIgAIAAgACAAIAAgACAAIAAAAEAAQABAAEQACAAQABAAIAAgAAAAYAAgACAAEAAQABAAEAAQACAAEAAQABAAEAAIAAgAEAAgACAAAABAAGAAIAAgACAAIAAgACAAIAAgACAAEAAgACAAIAAAAFAAEAAQACAAIAAAAGAAIAAgACAAIAAgACAAIAAAAGAAAABgACAAAABgAAAAYAAAAEAAQABAAEAAQABAAEAAQACAAEAAoAAAAEAAQABgAAAAQABIAAgACAAIAAgAIAAgAAgAEAAIABAAEAAIABAACAAIABAAEAAgABAAEAAQABAAIAAgABAAIAAgAAQAIAAgACAAIAAgACAAIAAgACAABAAgACAABAAgACAAIAAgACAAIAAIAAgAEAAgACAAIAAAAGAAAABAAEAAQABgACAAIAAgAAAAQABgAAAAQABgACAAIAAgACAAIAAgACAAIAAgACAAAACAAEAAUAAgABAAIAAgABAAIAAgAAgAEAAgACAAEAAgABAAIAAQACAAIAAgABAAEAAQACAAEAAIACAACAAgABAACAAIAAgAAABgACAAAABgACAAIAAgACAAIAAQACAAIAAQACAAIAAgACAAEAAgABAAIAAgABAAIAAQACAAEAAgACAAEAAgACAAIAAAAGAAIAAQACAAIAAQABAAIAAgACAAIAAgABAAAABAAGAAAABgACAAIAAAAEAAYAAgABAAIAAgABAAEAAQABAAEAAgABAAIAAgAA=",
          "dtype": "i2"
         },
         "y": {
          "bdata": "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",
          "dtype": "f8"
         }
        },
        {
         "mode": "markers",
         "name": "screen_size",
         "type": "scatter",
         "visible": false,
         "x": {
          "bdata": "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",
          "dtype": "f8"
         },
         "y": {
          "bdata": "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",
          "dtype": "f8"
         }
        },
        {
         "mode": "markers",
         "name": "refresh_rate",
         "type": "scatter",
         "visible": false,
         "x": {
          "bdata": "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",
          "dtype": "i2"
         },
         "y": {
          "bdata": "w/UoXI9KeEAK16NwPUZ9QNejcD0KHZFA9ihcj8IxgEAfhetRuHCBQD0K16NwLYVAmpmZmZmJeUB7FK5H4aZ8QB+F61G4cIFASOF6FK6rkkApXI/C9ciVQM3MzMzMnoNArkfhehS8hkB7FK5H4aaMQLgehetRNoRASOF6FK6rkkB7FK5H4QeXQLgehetROpRAuB6F61E6lEDsUbgehQOcQClcj8L1yJVAAAAAAACOhEDhehSuR6uHQKRwPQrX5Y1AXI/C9SjMhUDsUbgehVuHQM3MzMzMeIpASOF6FK5ZkEDhehSuR6+SQD0K16Nw8JpAUrgehes9lEBSuB6F6z2UQK5H4XoUf5xAw/UoXI/MlUB7FK5H4XSaQHE9Ctej2IlArkfhehR4ikDNzMzMzGWUQFyPwvUoRJZAmpmZmZlXl0DNzMzMzICAQK5H4XoUrnJACtejcD3aeEBcj8L1KFh7QDMzMzMzI39AuB6F61FshkCuR+F6FOp4QLgehetRbIZArkfhehS8hkA9CtejcAeMQFK4HoXr0JBAw/UoXI+qh0D2KFyPwu2DQPYoXI/CZVZAFK5H4XqsYkCPwvUoXK9iQI/C9Shcr2JAj8L1KFyvYkB7FK5H4aZ8QKRwPQrX41hAuB6F61HYTkAAAAAAAHBRQI/C9Shcr1JA7FG4HoXrY0BmZmZmZu5jQHE9CtejEGlAFK5H4XpsdkBSuB6F6410QB+F61G4NnlAMzMzMzPpgEC4HoXrUdKIQOxRuB6Fr3JA7FG4HoWJgECamZmZmYmJQI/C9Shcy3VAFK5H4XrQgEBSuB6F6xuGQBSuR+F6jHRAmpmZmZkhb0BxPQrXo+h4QJqZmZmZTXNACtejcD0ggUCPwvUoXJWNQJqZmZmZ6VhAuB6F61FwYUC4HoXrUXBhQIXrUbgeLWVAFK5H4XqsYkCF61G4Hi1lQHE9CtejcHFASOF6FK5HW0BI4XoULr2gQFyPwvUozIVAAAAAAAAkj0Bcj8L1qK+iQAAAAAAAUZpAPQrXo3BhmUCuR+F6FK5yQD0K16Nw5W1AzczMzMxka0CuR+F6FK5yQNejcD0K52hAzczMzMxka0CkcD0K16NsQHE9Ctej2IlAj8L1KFz/gkBxPQrXo/BQQK5H4XoU7lNAPQrXo3AtVEAUrkfheiRYQJqZmZmZ6VhAMzMzMzMzVkC4HoXrUQhbQB+F61G4vl5AXI/C9ShsZkBSuB6F6+loQOxRuB6Fa1ZAmpmZmZnpWECamZmZmTFgQDMzMzMz419AZmZmZmbuY0BmZmZmZiZdQJqZmZmZMWBAhetRuB4tZUBmZmZmZu5jQPYoXI/CDWVAexSuR+GqZ0CPwvUoXK9iQFK4HoXr6WhAmpmZmZnpWECF61G4Hi1lQM3MzMzMPFJAAAAAAABwUUA9CtejcK1UQFyPwvUobGZAw/UoXI9KaEBI4XoUrgt3QM3MzMzMZGtACtejcD0+hECamZmZma+CQIXrUbgeX4JAmpmZmZkhb0B7FK5H4Wp2QHE9Ctej6HhAj8L1KFzLdUBxPQrXo+h4QHsUrkfhroJAmpmZmZlNc0DNzMzMzMR1QLgehetR5H1AAAAAAAAQckA9CtejcAV1QKRwPQrXo2xA7FG4HoWvckAUrkfheox0QJqZmZmZIW9AzczMzMwMYkBmZmZmZu5jQB+F61G4TmNACtejcD0aZUAzMzMzMwtnQB+F61G4TmNAhetRuB5tYUAUrkfheiRrQHE9CtejcHFArkfhehQmbUBcj8L1KGxmQBSuR+F6JG9Aj8L1KFyvYkDXo3A9CudoQM3MzMzM7ENAexSuR+HaR0CamZmZmdlNQHsUrkfhWktA7FG4HoUrUECamZmZmdlNQArXo3A9alFAmpmZmZlZTUBxPQrXo7BQQDMzMzMz00xAj8L1KFzfXUAK16NwPSpHQI/C9Shcr1JA7FG4HoVrRkDhehSuR2lmQEjhehSuZ1tA7FG4HoVrVkAAAAAAAHBRQEjhehSuZ1tAmpmZmZl2k0CamZmZma+CQM3MzMzMRH1AZmZmZmZmS0CF61G4HuVNQAAAAAAAcFFAPQrXo3DpiEApXI/C9SCBQClcj8L1IIFA4XoUrkfhQ0DD9Shcj2JDQAAAAAAAcFFAKVyPwvVoU0CF61G4HuVNQHsUrkfhqmdAH4XrUbimbEAUrkfheiRvQK5H4XoU6nhAzczMzMzMdUApXI/C9SCBQJqZmZmZr4JAzczMzMzMdUDXo3A9Csd6QHsUrkfhroJAXI/C9SgQgkAUrkfhegRsQLgehetRKFpACtejcD16VkDsUbgehWtWQLgehetR6FNAw/UoXI8SVkCuR+F6FO5TQClcj8L17HNAw/UoXI/ibUCPwvUoXMt1QHsUrkfhroJA16NwPQrnaEBmZmZmZu5jQHsUrkfhqldAUrgehevpaECamZmZmelYQIXrUbge5V1AuB6F61EoWkAAAAAAABBiQEjhehSuZ1tAmpmZmZkxYECF61G4HuVdQJqZmZmZMWBAhetRuB4tZUBI4XoUrmdrQGZmZmZm7mNA9ihcj8KNZECPwvUoXK9iQIXrUbgeLWVA16NwPQrnaEBmZmZmZu5jQPYoXI/CMXBA4XoUrkeJaUB7FK5H4apnQNejcD0K52hAw/UoXI/ibUDsUbgehSd6QK5H4XoU6nhAw/UoXI9KaEBxPQrXo6BcQDMzMzMzI39ASOF6FK4nSkDsUbgehWtWQHsUrkfhqldAuB6F61EoWkCF61G4HuVdQClcj8L10GBAXI/C9SjAcUAK16NwPUZ9QOF6FK5HaWZA7FG4HoUnekDNzMzMzMx1QHE9Ctej6HhAMzMzMzMjf0DhehSuR6lwQLgehetRbHZAFK5H4XqYcUCamZmZmSFvQHE9Ctej6HhAj8L1KFwHfEBxPQrXo/6CQM3MzMzMRH1Aj8L1KFz/gkAzMzMzMyN/QM3MzMzMzHVAj8L1KFz/gkCuR+F6FGaEQOxRuB6FW4dAUrgeheuNdEBI4XoUrgt3QNejcD0KC3ZAj8L1KFwHfEBcj8L1KMR/QB+F61G4cIFAKVyPwvUggUB7FK5H4cyFQK5H4XoU6nhAexSuR+HMhUBxPQrXo3BxQGZmZmZmLoRAFK5H4XrIekCPwvUoXAd8QM3MzMzMzHVAw/UoXI8OckC4HoXrUeR9QKRwPQrXo2xAj8L1KFyvYkAfhetRuKZsQJqZmZmZHXVAAAAAAAAQckBxPQrXo3BxQK5H4XoUrnJA7FG4HoWvckDNzMzMzMx1QB+F61G45mhAZmZmZmZma0AUrkfheiRvQEjhehSuZ2tAexSuR+GqZ0BSuB6F6+loQMP1KFyP4m9ACtejcD0qZUCuR+F6FCZqQArXo3A9KmVAAAAAAACoZ0BSuB6F6+loQBSuR+F6JG9ArkfhehQmakCkcD0K1+NYQJqZmZmZ6VhAcT0K16OgXECF61G4HuVdQOxRuB6Fa1ZA7FG4HoVrVkBI4XoUrmdbQBSuR+F6JF9AexSuR+GqV0AfhetRuB5fQD0K16NwbWFAhetRuB5lXkCPwvUoXN9dQI/C9Shcr2JAKVyPwvXQYEAAAAAAAFBiQOF6FK5HaWZA4XoUrkdpZkCamZmZmTFgQI/C9Shc311A16NwPQpnYUAAAAAAAKhnQD0K16NwbWFA7FG4HoXrY0CkcD0K10tjQHsUrkfhimRAH4XrUbhOY0CuR+F6FO5jQM3MzMzMZGtAXI/C9ShsZkB7FK5H4apnQFyPwvUobGZApHA9CtejbEDD9Shcj+JtQJqZmZmZTXNAAAAAAACoZ0AUrkfheqxiQMP1KFyPamZA16NwPQrnaEB7FK5H4epjQClcj8L1KGpAKVyPwvUscECF61G4HiFwQAAAAAAASGtAw/UoXI86cUDXo3A9CudoQDMzMzMzb3FAzczMzMy6jEAfhetRuAaMQAAAAAAAJI9Aj8L1KFyVjUBSuB6F6xuGQB+F61G4wn9APQrXo3DpiEBcj8L1KMyFQAAAAAAASohArkfhehTOYEAK16NwPSplQIXrUbgeLWVArkfhehSuckAK16NwPSplQNejcD0K52hAUrgeheuNdEDXo3A9Csd6QIXrUbgeX4JArkfhehSuckB7FK5H4Rp4QKRwPQrXo2xAZmZmZmZucECamZmZmeV2QFK4HoXrBXxAFK5H4XqMdEDXo3A9Csd6QHsUrkfhpnxAexSuR+GmfEBI4XoUrs9wQK5H4XoUrnJAUrgehevpaEC4HoXrUcBxQK5H4XoU6nhAexSuR+GmfECkcD0K16NsQClcj8L1MHBAmpmZmZntc0Bcj8L1KGxmQGZmZmZmRnJAmpmZmZkFlUCuR+F6FK5yQKRwPQrXo2xA9ihcj8IhcEDhehSuRzFQQI/C9Shcr1JA4XoUrkcxUECPwvUoXC9SQK5H4XoU7lNAUrgeheuNdEDsUbgeha9yQPYoXI/CMXBAcT0K16NwcUCuR+F6FOp4QI/C9Shcy3VAFK5H4XrIekDsUbgeha9yQFK4HoXrIVtAMzMzMzPjX0BmZmZmZqZcQGZmZmZm7mNASOF6FK5vYkBmZmZmZqZcQClcj8L10GBAhetRuB7lXUCamZmZmTFgQLgehetRcGFAmpmZmZkxYECPwvUoXK9iQGZmZmZm7mNASOF6FK7nWkAAAAAAABBiQNejcD0K52hAKVyPwvXQYEDD9Shcj3poQBSuR+F6rGJAmpmZmZkhb0DD9Shcjw5yQI/C9Shcr2JA9ihcj8KNZEBcj8L1KGxmQI/C9Shcr2JArkfhehSuckApXI/C9ShqQFK4HoXr6WhAuB6F61FwYUCF61G4Hi1lQAAAAAAAEGJAexSuR+GqZ0BSuB6F6+loQBSuR+F6JG9AcT0K16NwcUCamZmZmTFgQAAAAAAAEHJAFK5H4Xokb0BmZmZmZi5gQIXrUbgeDWJASOF6FK5na0BmZmZmZu5jQFyPwvUobGZA9ihcj8KNZEDsUbgehQtnQBSuR+F6JF9AuB6F61FwYUBcj8L1KGxmQM3MzMzMzGVAj8L1KFyvYkBmZmZmZu5jQLgehetRcGFAH4XrUbhOY0B7FK5H4apnQGZmZmZmpmxAexSuR+GqZ0ApXI/C9ShqQFK4HoXrIXBAhetRuB6lbEDsUbgehYNuQBSuR+F6JF9AuB6F61FwYUCPwvUoXK9iQBSuR+F6pGJAhetRuB4tZUDsUbgehWtWQOxRuB6FK1BA4XoUrkcxUEAfhetRuE5TQAAAAAAAcFFAAAAAAABwUUDsUbgehWtWQI/C9Shcb0FASOF6FK5nSkCkcD0K12NPQD0K16NwzVFA9ihcj8JlVkA9CtejcK1UQOxRuB6Fa1ZAexSuR+GqV0DNzMzMzExWQJqZmZmZ6VhAuB6F61F4XUBcj8L1KNxfQLgehetRcGFArkfhehTuU0AzMzMzMw9yQFyPwvUoiHlACtejcD0ef0AK16NwPUZ9QArXo3A9TnNAFK5H4XqMdEBxPQrXo3BxQJqZmZmZ7XNAFK5H4Xokb0A9CtejcIFwQLgehetRwHFA7FG4HoWvckDNzMzMzMx1QGZmZmZm7nNAuB6F61EoWkCF61G4Hi1lQFK4HoXr6WhASOF6FK5nW0AfhetRuE5jQFyPwvUobGZAj8L1KFyvYkApXI/C9dBgQGZmZmZmhmlAH4XrUbimbEBmZmZmZqZcQGZmZmZmZlxAKVyPwvWYXUDsUbgehStQQOxRuB6Fa1ZArkfhehTuU0CamZmZmblVQJqZmZmZ6VhAj8L1KFyvYkBSuB6F62FbQBSuR+F6rGJAcT0K16NwcUAUrkfheiRvQIXrUbge0XBAexSuR+GKYECuR+F6FO5TQHsUrkfhqmdAUrgehevpaEAAAAAAACGRQMP1KFyPW5dAKVyPwvXoSECPwvUoXA9SQGZmZmZmplxA4XoUrkcxUEDNzMzMzCxVQIXrUbge5V1AmpmZmZkxYEB7FK5H4SpXQArXo3A9ylhAZmZmZmamXEAfhetRuC5gQAAAAAAAEGJAH4XrUbguYECkcD0K1+NYQIXrUbge5V1AuB6F61FwYUC4HoXrUQBiQI/C9Shcr2JA9ihcj8KNZEDhehSuR2lmQPYoXI/CjWRAexSuR+GqZ0ApXI/C9ShqQOxRuB6F62NAzczMzMzMZUDsUbgehQtnQOF6FK5HaWZA7FG4HoULZ0DXo3A9CudoQB+F61G4pmxAFK5H4Xokb0Bcj8L1KGxmQPYoXI/CjWRA9ihcj8KNZECF61G4HoVuQPYoXI/CMXBAKVyPwvUgcUAUrkfheiRvQOF6FK5HaWZA7FG4HoXrY0CamZmZmSFvQPYoXI/CBWxAAAAAAAC8dkBmZmZmZu5zQJqZmZmZ3XRAzczMzMzMdUA9CtejcMVqQPYoXI/CBWxAKVyPwvUoekDsUbgehSd6QBSuR+F6yHpAj8L1KFwHfEBxPQrXo+h4QHE9Ctej6HhAcT0K16PoeEC4HoXrUeR9QM3MzMzMLFVAuB6F61EoWkBI4XoUrmdbQIXrUbge5V1AFK5H4XqsYkBmZmZmZqZcQClcj8L10GBAZmZmZmbuY0CF61G4Hi1lQI/C9Shcr2JAUrgehevpaECkcD0K10tjQB+F61G4pmxASOF6FK5na0DNzMzMzCxVQHsUrkfhqldASOF6FK5nW0CamZmZmTFgQFyPwvUofFpAuB6F61FwYUAAAAAAACBgQI/C9Shcr2JAZmZmZmY2XUCuR+F6FM5eQIXrUbgeDWJAw/UoXI8yXkDD9Shcj4JiQK5H4XoUxmVAw/UoXI9KaECF61G4Hi1lQB+F61G4pmxAmpmZmZkhb0CamZmZmSFvQHsUrkfhom1AKVyPwvWAb0DNzMzMzMx1QD0K16Nw5W1ArkfhehTqeECkcD0K11+CQHE9Ctej9oxAcT0K16PIikBI4XoUrlmQQEjhehSumYhAFK5H4XrIekApXI/C9Sh6QOxRuB6FW4dAexSuR+EadkDhehSuR3VzQD0K16Nw2YlApHA9CtfHikAfhetRuCSPQD0K16NwdX5ArkfhehTqeECkcD0K12d7QKRwPQrXg4JAw/UoXI+BkEBcj8L1KMSPQHE9CtejJH9AXI/C9SgQgkD2KFyPwjGAQGZmZmZmEoRASOF6FK63i0B7FK5H4aaMQPYoXI/Ch5JAAAAAAAAkj0BSuB6F6xuGQClcj8L1IIFArkfhehR4ikApXI/C9eeRQOF6FK5Hr5JAzczMzMzMdUB7FK5H4cyFQD0K16NwB4xAexSuR+FIkUCkcD0K1yKYQHsUrkfhiJlAexSuR+GugkB7FK5H4cyFQIXrUbge9YxAcT0K16NwcUCamZmZmU1zQFyPwvUozIVAmpmZmZmZiUDXo3A9CudoQOxRuB6F62NAmpmZmZkFlUD2KFyPwmVWQGZmZmZmplxAH4XrUbheYkCPwvUoXK9iQOF6FK5HaWZASOF6FK5na0Bcj8L1KGxmQClcj8L1KGpA9ihcj8IxcEAfhetRuKZsQK5H4XoU6nhAcT0K16Mkf0AAAAAAAHBRQKRwPQrXY09ASOF6FK5nW0CamZmZmelYQHE9CtejMGFAhetRuB7lXUBmZmZmZu5jQB+F61G4TmNAPQrXo3BtYUAfhetRuE5jQOxRuB6Fa1ZAXI/C9SjsVUCPwvUoXG9SQGZmZmZmJlZArkfhehTuU0DsUbgehWtWQNejcD0K51RArkfhehTuU0CamZmZmelYQLgehetRWFZApHA9CtcjT0AAAAAAAHBRQGZmZmbmTblA7FG4HoWvckCuR+F6FK5yQBSuR+F6HHZAMzMzMzMjf0AAAAAAABBiQGZmZmZm7mNAXI/C9ShsZkDsUbgehetjQArXo3A9KmVA16NwPQrnaEA9CtejcOVtQBSuR+F6JG9AmpmZmZkxYECPwvUoXK9iQIXrUbge5V1AmpmZmZkhb0CuR+F6FK5yQAAAAAAAqGdAKVyPwvXsc0CkcD0K1+NYQI/C9Shc311A9ihcj8JlVkCuR+F6FCZqQM3MzMzMJG9AMzMzMzNvcUDNzMzMzPxsQOF6FK5H0XBAMzMzMzOrZ0AUrkfheiRvQKRwPQrX421AUrgeheuNdEDsUbgeha9yQHsUrkfhIm9ApHA9CtdvcUCamZmZme1zQHsUrkfhCndASOF6FK7PcECuR+F6FGZrQGZmZmZm7nNAcT0K16NwcUCuR+F6FOp4QLgehetRbHZA16NwPQrnaEDXo3A9Csd6QDMzMzMzb3FApHA9Ctdne0DD9Shcjw5yQBSuR+F6jHRA4XoUrkevkkDXo3A9CqmQQGZmZmZmh5JArkfhehTAkUBxPQrXo9iJQClcj8L1IIFAmpmZmZmvgkBcj8L1KOqIQHE9Ctej2IlA7FG4HoUnekBmZmZmZsCBQPYoXI/CC4dArkfhehTuU0ApXI/C9WhTQOxRuB6Fa1ZArkfhehTuU0D2KFyPwmVWQB+F61G4Hl9ArkfhehSuckCF61G4HqVXQLgehetRaFtAmpmZmZnpWECPwvUoXN9dQBSuR+F6JF9AzczMzMwsVUDD9ShcjyJaQM3MzMzMLFVAmpmZmZnpWEC4HoXrUShaQK5H4XoUHl9ACtejcD3qaEA9CtejcG1hQKRwPQrX41hA9ihcj8LNYEAUrkfheiRfQBSuR+F6rGJAH4XrUbhOY0AAAAAAABBiQPYoXI/CjWRAFK5H4XqsYkCPwvUoXK9SQB+F61G4LmBAKVyPwvXIZEDsUbgehetjQOxRuB6FC2dAuB6F61FwYUCkcD0K10tjQIXrUbge5V1ApHA9CtejbECuR+F6FCZqQK5H4XoUzmBASOF6FK5na0DXo3A9CudoQM3MzMzMJG9A16NwPQrnaEAK16NwPSplQNejcD0K52hAzczMzMxka0DhehSuR2lmQJqZmZmZIW9APQrXo3BtVEAUrkfhemxmQEjhehSur2JAmpmZmZkhb0DsUbgehetuQIXrUbge0XBAw/UoXI9KeECuR+F6FK5yQB+F61G4wn9AuB6F61EogEDhehSuR6uHQFyPwvUozIVASOF6FK6DfkB7FK5H4a6CQM3MzMzMRH1AhetRuB5fgkC4HoXrUWyGQClcj8L1IIFA7FG4HoWvckAUrkfheox0QClcj8L1IIFAZmZmZmZGbUDsUbgeha9yQDMzMzMzS2dAhetRuB5Fa0AfhetRuKZsQK5H4XoURm1Aj8L1KFzLdUB7FK5H4cJtQLgehetRMHBAmpmZmZlNc0DXo3A9Csd6QGZmZmZmJJ9AcT0K16MgkUDXo3A9CqmQQIXrUbge5V1AmpmZmZkxYECkcD0K1+NXQIXrUbge5V1AhetRuB7lXUAfhetRuN5eQJqZmZmZMWBAPQrXo3BtYUCPwvUoXK9SQPYoXI/C5VRAuB6F61EIW0CamZmZmelYQD0K16NwbWFAFK5H4XqsYkDXo3A9CudcQHE9CtejKGFAZmZmZmbGYEDsUbgehetjQOF6FK5HaWZAUrgehethW0BxPQrXo6BcQOxRuB6Fa1ZAj8L1KFyvUkC4HoXrUShaQGZmZmZmplxAAAAAAABwUUBSuB6F62FbQOF6FK5HMVBAexSuR+EqV0CPwvUoXK9SQAAAAAAAwE5AKVyPwvUoUkDNzMzMzOxUQEjhehSur7JAMzMzMzNvcUCuR+F6FOp4QPYoXI/CMXBAH4XrUbimbECuR+F6FK5yQArXo3A9IIFAw/UoXI9KeED2KFyPwjFwQAAAAAAAEHJAPQrXo3BtYUD2KFyPwo1kQB+F61G4Hl9AmpmZmZnpWEAUrkfheiRfQIXrUbge5V1AXI/C9ShsZkCF61G4Hi1lQFK4HoXr6WhApHA9CtfjaEBI4XoUrmdbQIXrUbge5V1AuB6F61FwYUCamZmZmTFgQLgehetRcGFAzczMzMy8XUCF61G4Hs1hQK5H4XoUXl5AFK5H4XqsYkBcj8L1KGxmQOF6FK5HaWZAUrgehevpaEBSuB6F6+loQI/C9ShcR2xAH4XrUbimbEA9CtejcG1hQB+F61G4LmBAzczMzMwsYkAfhetRuE5jQGZmZmZmtmNAhetRuB7lXUCF61G4Hi1lQIXrUbgeLWVA7FG4HoULZ0DXo3A9CudoQI/C9ShcP2ZAZmZmZmbmaEC4HoXrUXBhQEjhehSuz3BAFK5H4Xokb0CF61G4HtFwQKRwPQrXb3FAj8L1KFyvYkApXI/C9dhuQFK4HoXrjXRA7FG4HoWvckBSuB6F6410QIXrUbge0XBAUrgehevpaEBmZmZmZu5jQOF6FK5HaWZA4XoUrkeJaUCamZmZmalZQKRwPQrX41hAhetRuB4tZUAfhetRuN5dQLgehetRcGFAzczMzMz8YUB7FK5H4YpkQFK4HoXr6WhAuB6F61FOg0A=",
          "dtype": "f8"
         }
        }
       ],
       "layout": {
        "height": 600,
        "template": {
         "data": {
          "bar": [
           {
            "error_x": {
             "color": "#2a3f5f"
            },
            "error_y": {
             "color": "#2a3f5f"
            },
            "marker": {
             "line": {
              "color": "#E5ECF6",
              "width": 0.5
             },
             "pattern": {
              "fillmode": "overlay",
              "size": 10,
              "solidity": 0.2
             }
            },
            "type": "bar"
           }
          ],
          "barpolar": [
           {
            "marker": {
             "line": {
              "color": "#E5ECF6",
              "width": 0.5
             },
             "pattern": {
              "fillmode": "overlay",
              "size": 10,
              "solidity": 0.2
             }
            },
            "type": "barpolar"
           }
          ],
          "carpet": [
           {
            "aaxis": {
             "endlinecolor": "#2a3f5f",
             "gridcolor": "white",
             "linecolor": "white",
             "minorgridcolor": "white",
             "startlinecolor": "#2a3f5f"
            },
            "baxis": {
             "endlinecolor": "#2a3f5f",
             "gridcolor": "white",
             "linecolor": "white",
             "minorgridcolor": "white",
             "startlinecolor": "#2a3f5f"
            },
            "type": "carpet"
           }
          ],
          "choropleth": [
           {
            "colorbar": {
             "outlinewidth": 0,
             "ticks": ""
            },
            "type": "choropleth"
           }
          ],
          "contour": [
           {
            "colorbar": {
             "outlinewidth": 0,
             "ticks": ""
            },
            "colorscale": [
             [
              0,
              "#0d0887"
             ],
             [
              0.1111111111111111,
              "#46039f"
             ],
             [
              0.2222222222222222,
              "#7201a8"
             ],
             [
              0.3333333333333333,
              "#9c179e"
             ],
             [
              0.4444444444444444,
              "#bd3786"
             ],
             [
              0.5555555555555556,
              "#d8576b"
             ],
             [
              0.6666666666666666,
              "#ed7953"
             ],
             [
              0.7777777777777778,
              "#fb9f3a"
             ],
             [
              0.8888888888888888,
              "#fdca26"
             ],
             [
              1,
              "#f0f921"
             ]
            ],
            "type": "contour"
           }
          ],
          "contourcarpet": [
           {
            "colorbar": {
             "outlinewidth": 0,
             "ticks": ""
            },
            "type": "contourcarpet"
           }
          ],
          "heatmap": [
           {
            "colorbar": {
             "outlinewidth": 0,
             "ticks": ""
            },
            "colorscale": [
             [
              0,
              "#0d0887"
             ],
             [
              0.1111111111111111,
              "#46039f"
             ],
             [
              0.2222222222222222,
              "#7201a8"
             ],
             [
              0.3333333333333333,
              "#9c179e"
             ],
             [
              0.4444444444444444,
              "#bd3786"
             ],
             [
              0.5555555555555556,
              "#d8576b"
             ],
             [
              0.6666666666666666,
              "#ed7953"
             ],
             [
              0.7777777777777778,
              "#fb9f3a"
             ],
             [
              0.8888888888888888,
              "#fdca26"
             ],
             [
              1,
              "#f0f921"
             ]
            ],
            "type": "heatmap"
           }
          ],
          "histogram": [
           {
            "marker": {
             "pattern": {
              "fillmode": "overlay",
              "size": 10,
              "solidity": 0.2
             }
            },
            "type": "histogram"
           }
          ],
          "histogram2d": [
           {
            "colorbar": {
             "outlinewidth": 0,
             "ticks": ""
            },
            "colorscale": [
             [
              0,
              "#0d0887"
             ],
             [
              0.1111111111111111,
              "#46039f"
             ],
             [
              0.2222222222222222,
              "#7201a8"
             ],
             [
              0.3333333333333333,
              "#9c179e"
             ],
             [
              0.4444444444444444,
              "#bd3786"
             ],
             [
              0.5555555555555556,
              "#d8576b"
             ],
             [
              0.6666666666666666,
              "#ed7953"
             ],
             [
              0.7777777777777778,
              "#fb9f3a"
             ],
             [
              0.8888888888888888,
              "#fdca26"
             ],
             [
              1,
              "#f0f921"
             ]
            ],
            "type": "histogram2d"
           }
          ],
          "histogram2dcontour": [
           {
            "colorbar": {
             "outlinewidth": 0,
             "ticks": ""
            },
            "colorscale": [
             [
              0,
              "#0d0887"
             ],
             [
              0.1111111111111111,
              "#46039f"
             ],
             [
              0.2222222222222222,
              "#7201a8"
             ],
             [
              0.3333333333333333,
              "#9c179e"
             ],
             [
              0.4444444444444444,
              "#bd3786"
             ],
             [
              0.5555555555555556,
              "#d8576b"
             ],
             [
              0.6666666666666666,
              "#ed7953"
             ],
             [
              0.7777777777777778,
              "#fb9f3a"
             ],
             [
              0.8888888888888888,
              "#fdca26"
             ],
             [
              1,
              "#f0f921"
             ]
            ],
            "type": "histogram2dcontour"
           }
          ],
          "mesh3d": [
           {
            "colorbar": {
             "outlinewidth": 0,
             "ticks": ""
            },
            "type": "mesh3d"
           }
          ],
          "parcoords": [
           {
            "line": {
             "colorbar": {
              "outlinewidth": 0,
              "ticks": ""
             }
            },
            "type": "parcoords"
           }
          ],
          "pie": [
           {
            "automargin": true,
            "type": "pie"
           }
          ],
          "scatter": [
           {
            "fillpattern": {
             "fillmode": "overlay",
             "size": 10,
             "solidity": 0.2
            },
            "type": "scatter"
           }
          ],
          "scatter3d": [
           {
            "line": {
             "colorbar": {
              "outlinewidth": 0,
              "ticks": ""
             }
            },
            "marker": {
             "colorbar": {
              "outlinewidth": 0,
              "ticks": ""
             }
            },
            "type": "scatter3d"
           }
          ],
          "scattercarpet": [
           {
            "marker": {
             "colorbar": {
              "outlinewidth": 0,
              "ticks": ""
             }
            },
            "type": "scattercarpet"
           }
          ],
          "scattergeo": [
           {
            "marker": {
             "colorbar": {
              "outlinewidth": 0,
              "ticks": ""
             }
            },
            "type": "scattergeo"
           }
          ],
          "scattergl": [
           {
            "marker": {
             "colorbar": {
              "outlinewidth": 0,
              "ticks": ""
             }
            },
            "type": "scattergl"
           }
          ],
          "scattermap": [
           {
            "marker": {
             "colorbar": {
              "outlinewidth": 0,
              "ticks": ""
             }
            },
            "type": "scattermap"
           }
          ],
          "scattermapbox": [
           {
            "marker": {
             "colorbar": {
              "outlinewidth": 0,
              "ticks": ""
             }
            },
            "type": "scattermapbox"
           }
          ],
          "scatterpolar": [
           {
            "marker": {
             "colorbar": {
              "outlinewidth": 0,
              "ticks": ""
             }
            },
            "type": "scatterpolar"
           }
          ],
          "scatterpolargl": [
           {
            "marker": {
             "colorbar": {
              "outlinewidth": 0,
              "ticks": ""
             }
            },
            "type": "scatterpolargl"
           }
          ],
          "scatterternary": [
           {
            "marker": {
             "colorbar": {
              "outlinewidth": 0,
              "ticks": ""
             }
            },
            "type": "scatterternary"
           }
          ],
          "surface": [
           {
            "colorbar": {
             "outlinewidth": 0,
             "ticks": ""
            },
            "colorscale": [
             [
              0,
              "#0d0887"
             ],
             [
              0.1111111111111111,
              "#46039f"
             ],
             [
              0.2222222222222222,
              "#7201a8"
             ],
             [
              0.3333333333333333,
              "#9c179e"
             ],
             [
              0.4444444444444444,
              "#bd3786"
             ],
             [
              0.5555555555555556,
              "#d8576b"
             ],
             [
              0.6666666666666666,
              "#ed7953"
             ],
             [
              0.7777777777777778,
              "#fb9f3a"
             ],
             [
              0.8888888888888888,
              "#fdca26"
             ],
             [
              1,
              "#f0f921"
             ]
            ],
            "type": "surface"
           }
          ],
          "table": [
           {
            "cells": {
             "fill": {
              "color": "#EBF0F8"
             },
             "line": {
              "color": "white"
             }
            },
            "header": {
             "fill": {
              "color": "#C8D4E3"
             },
             "line": {
              "color": "white"
             }
            },
            "type": "table"
           }
          ]
         },
         "layout": {
          "annotationdefaults": {
           "arrowcolor": "#2a3f5f",
           "arrowhead": 0,
           "arrowwidth": 1
          },
          "autotypenumbers": "strict",
          "coloraxis": {
           "colorbar": {
            "outlinewidth": 0,
            "ticks": ""
           }
          },
          "colorscale": {
           "diverging": [
            [
             0,
             "#8e0152"
            ],
            [
             0.1,
             "#c51b7d"
            ],
            [
             0.2,
             "#de77ae"
            ],
            [
             0.3,
             "#f1b6da"
            ],
            [
             0.4,
             "#fde0ef"
            ],
            [
             0.5,
             "#f7f7f7"
            ],
            [
             0.6,
             "#e6f5d0"
            ],
            [
             0.7,
             "#b8e186"
            ],
            [
             0.8,
             "#7fbc41"
            ],
            [
             0.9,
             "#4d9221"
            ],
            [
             1,
             "#276419"
            ]
           ],
           "sequential": [
            [
             0,
             "#0d0887"
            ],
            [
             0.1111111111111111,
             "#46039f"
            ],
            [
             0.2222222222222222,
             "#7201a8"
            ],
            [
             0.3333333333333333,
             "#9c179e"
            ],
            [
             0.4444444444444444,
             "#bd3786"
            ],
            [
             0.5555555555555556,
             "#d8576b"
            ],
            [
             0.6666666666666666,
             "#ed7953"
            ],
            [
             0.7777777777777778,
             "#fb9f3a"
            ],
            [
             0.8888888888888888,
             "#fdca26"
            ],
            [
             1,
             "#f0f921"
            ]
           ],
           "sequentialminus": [
            [
             0,
             "#0d0887"
            ],
            [
             0.1111111111111111,
             "#46039f"
            ],
            [
             0.2222222222222222,
             "#7201a8"
            ],
            [
             0.3333333333333333,
             "#9c179e"
            ],
            [
             0.4444444444444444,
             "#bd3786"
            ],
            [
             0.5555555555555556,
             "#d8576b"
            ],
            [
             0.6666666666666666,
             "#ed7953"
            ],
            [
             0.7777777777777778,
             "#fb9f3a"
            ],
            [
             0.8888888888888888,
             "#fdca26"
            ],
            [
             1,
             "#f0f921"
            ]
           ]
          },
          "colorway": [
           "#636efa",
           "#EF553B",
           "#00cc96",
           "#ab63fa",
           "#FFA15A",
           "#19d3f3",
           "#FF6692",
           "#B6E880",
           "#FF97FF",
           "#FECB52"
          ],
          "font": {
           "color": "#2a3f5f"
          },
          "geo": {
           "bgcolor": "white",
           "lakecolor": "white",
           "landcolor": "#E5ECF6",
           "showlakes": true,
           "showland": true,
           "subunitcolor": "white"
          },
          "hoverlabel": {
           "align": "left"
          },
          "hovermode": "closest",
          "mapbox": {
           "style": "light"
          },
          "paper_bgcolor": "white",
          "plot_bgcolor": "#E5ECF6",
          "polar": {
           "angularaxis": {
            "gridcolor": "white",
            "linecolor": "white",
            "ticks": ""
           },
           "bgcolor": "#E5ECF6",
           "radialaxis": {
            "gridcolor": "white",
            "linecolor": "white",
            "ticks": ""
           }
          },
          "scene": {
           "xaxis": {
            "backgroundcolor": "#E5ECF6",
            "gridcolor": "white",
            "gridwidth": 2,
            "linecolor": "white",
            "showbackground": true,
            "ticks": "",
            "zerolinecolor": "white"
           },
           "yaxis": {
            "backgroundcolor": "#E5ECF6",
            "gridcolor": "white",
            "gridwidth": 2,
            "linecolor": "white",
            "showbackground": true,
            "ticks": "",
            "zerolinecolor": "white"
           },
           "zaxis": {
            "backgroundcolor": "#E5ECF6",
            "gridcolor": "white",
            "gridwidth": 2,
            "linecolor": "white",
            "showbackground": true,
            "ticks": "",
            "zerolinecolor": "white"
           }
          },
          "shapedefaults": {
           "line": {
            "color": "#2a3f5f"
           }
          },
          "ternary": {
           "aaxis": {
            "gridcolor": "white",
            "linecolor": "white",
            "ticks": ""
           },
           "baxis": {
            "gridcolor": "white",
            "linecolor": "white",
            "ticks": ""
           },
           "bgcolor": "#E5ECF6",
           "caxis": {
            "gridcolor": "white",
            "linecolor": "white",
            "ticks": ""
           }
          },
          "title": {
           "x": 0.05
          },
          "xaxis": {
           "automargin": true,
           "gridcolor": "white",
           "linecolor": "white",
           "ticks": "",
           "title": {
            "standoff": 15
           },
           "zerolinecolor": "white",
           "zerolinewidth": 2
          },
          "yaxis": {
           "automargin": true,
           "gridcolor": "white",
           "linecolor": "white",
           "ticks": "",
           "title": {
            "standoff": 15
           },
           "zerolinecolor": "white",
           "zerolinewidth": 2
          }
         }
        },
        "title": {
         "text": "Prix vs variable sélectionnée"
        },
        "updatemenus": [
         {
          "buttons": [
           {
            "args": [
             {
              "visible": [
               true,
               false,
               false,
               false,
               false,
               false,
               false
              ]
             },
             {
              "xaxis": {
               "title": "rating"
              }
             }
            ],
            "label": "rating",
            "method": "update"
           },
           {
            "args": [
             {
              "visible": [
               false,
               true,
               false,
               false,
               false,
               false,
               false
              ]
             },
             {
              "xaxis": {
               "title": "num_cores"
              }
             }
            ],
            "label": "num_cores",
            "method": "update"
           },
           {
            "args": [
             {
              "visible": [
               false,
               false,
               true,
               false,
               false,
               false,
               false
              ]
             },
             {
              "xaxis": {
               "title": "processor_speed"
              }
             }
            ],
            "label": "processor_speed",
            "method": "update"
           },
           {
            "args": [
             {
              "visible": [
               false,
               false,
               false,
               true,
               false,
               false,
               false
              ]
             },
             {
              "xaxis": {
               "title": "ram_capacity"
              }
             }
            ],
            "label": "ram_capacity",
            "method": "update"
           },
           {
            "args": [
             {
              "visible": [
               false,
               false,
               false,
               false,
               true,
               false,
               false
              ]
             },
             {
              "xaxis": {
               "title": "internal_memory"
              }
             }
            ],
            "label": "internal_memory",
            "method": "update"
           },
           {
            "args": [
             {
              "visible": [
               false,
               false,
               false,
               false,
               false,
               true,
               false
              ]
             },
             {
              "xaxis": {
               "title": "screen_size"
              }
             }
            ],
            "label": "screen_size",
            "method": "update"
           },
           {
            "args": [
             {
              "visible": [
               false,
               false,
               false,
               false,
               false,
               false,
               true
              ]
             },
             {
              "xaxis": {
               "title": "refresh_rate"
              }
             }
            ],
            "label": "refresh_rate",
            "method": "update"
           }
          ],
          "direction": "down",
          "showactive": true,
          "x": 0.1,
          "y": 1.15
         }
        ],
        "xaxis": {
         "title": {
          "text": "rating"
         }
        },
        "yaxis": {
         "title": {
          "text": "Prix (€)"
         }
        }
       }
      }
     },
     "metadata": {},
     "output_type": "display_data"
    }
   ],
   "source": [
    "### Liste des colonnes à comparer au prix\n",
    "colonnes = ['rating', 'num_cores', 'processor_speed', 'ram_capacity', 'internal_memory', 'screen_size', 'refresh_rate', ]\n",
    "\n",
    "### Création des traces pour chaque colonne\n",
    "fig_compare_to_price = go.Figure()\n",
    "\n",
    "for i, col in enumerate(colonnes):\n",
    "    fig_compare_to_price.add_trace(\n",
    "        go.Scatter(\n",
    "            x=data[col],\n",
    "            y=data['price (€)'],\n",
    "            mode='markers',\n",
    "            name=col,\n",
    "            visible=(i == 0)\n",
    "        )\n",
    "    )\n",
    "\n",
    "### Création du menu déroulant\n",
    "menu = [dict(\n",
    "    buttons=[dict(\n",
    "        label=col,\n",
    "        method='update',\n",
    "        args=[{'visible': [i == j for j in range(len(colonnes))]},\n",
    "              {'xaxis': {'title': col}}]\n",
    "    ) for i, col in enumerate(colonnes)],\n",
    "    direction='down',\n",
    "    showactive=True,\n",
    "    x=0.1,\n",
    "    y=1.15\n",
    ")]\n",
    "\n",
    "fig_compare_to_price.update_layout(\n",
    "    updatemenus=menu,\n",
    "    title='Prix vs variable sélectionnée',\n",
    "    xaxis_title=colonnes[0],\n",
    "    yaxis_title='Prix (€)',\n",
    "    height=600\n",
    ")\n",
    "\n",
    "fig_compare_to_price.show()"
   ]
  },
  {
   "cell_type": "markdown",
   "id": "2ab8f7f3",
   "metadata": {},
   "source": [
    "**Rating vs prix**\n",
    "\n",
    "* On observe une légère tendance croissante : les téléphones avec un meilleur rating tendent à être plus chers, surtout à partir de 75+.\n",
    "* Cela peut s’expliquer par le fait que les modèles mieux notés sont généralement plus performants ou mieux finis.\n",
    "* La majorité des téléphones ont une note comprise entre 75 et 90.\n",
    "* Très peu de modèles en dessous de 70, ce qui peut indiquer un biais dans les avis (seuls les bons modèles sont évalués ou conservés dans le dataset)."
   ]
  },
  {
   "cell_type": "markdown",
   "id": "cf42e786",
   "metadata": {},
   "source": [
    "**Processor_speed vs prix**\n",
    "\n",
    "* On observe une corrélation positive modérée : en général, plus la vitesse du processeur augmente, plus les smartphones ont tendance à être chers.\n",
    "* Beaucoup de modèles se situent entre 2.0 et 3.2 GHz, avec des prix allant de 100 € à 1000 €.\n",
    "* Cela semble représenter le segment \"standard à performant\" du marché.\n",
    "* Plus on monte en vitesse, plus les prix deviennent variables, indiquant que la vitesse du processeur n’est pas le seul facteur déterminant du prix."
   ]
  },
  {
   "cell_type": "markdown",
   "id": "2c5599b0",
   "metadata": {},
   "source": [
    "**Internal_memory vs prix**\n",
    "\n",
    "* Il existe une relation positive globale entre la capacité de stockage (en Go) et le prix du smartphone.\n",
    "* On voit des groupes bien distincts :\n",
    "    - 32–64 Go : téléphones d’entrée de gamme à prix très accessibles.\n",
    "    - 128–256 Go : majorité des modèles milieu/haut de gamme.\n",
    "    - 512–1024 Go (1 To) : modèles premium uniquement.\n",
    "* À 256 Go, par exemple, les prix vont de ~400 € à plus de 2000 € → cela indique que le stockage ne suffit pas à expliquer le prix à lui seul.\n",
    "* D’autres caractéristiques comme la RAM, le processeur, la marque ou la caméra jouent un rôle majeur."
   ]
  },
  {
   "cell_type": "markdown",
   "id": "84b57180",
   "metadata": {},
   "source": [
    "**Screen_size vs prix**\n",
    "\n",
    "* Il existe une légère corrélation positive entre la taille de l’écran et le prix : les téléphones avec un écran plus grand sont en moyenne un peu plus chers.\n",
    "* Très forte densité autour de 6.3 à 6.7 pouces, avec des prix allant de 100 € à 1500 €.\n",
    "* Cela suggère que la plupart des smartphones sont conçus pour offrir un compromis entre confort d’écran et ergonomie.\n",
    "* À taille d’écran égale, le prix peut énormément varier → ce qui confirme que l’écran est un critère secondaire dans la tarification par rapport à :\n",
    "    - la marque,\n",
    "    - le processeur,\n",
    "    - les fonctionnalités avancées (caméras, design, etc.)."
   ]
  },
  {
   "cell_type": "markdown",
   "id": "1f55423b",
   "metadata": {},
   "source": [
    "**Refresh_rate vs prix**\n",
    "\n",
    "* On observe une élévation du prix moyen à mesure que le taux de rafraîchissement augmente.\n",
    "    - 60 Hz → présent sur des modèles de toutes gammes (entrée à premium).\n",
    "    - 120 Hz et + → associés à des smartphones plus récents ou gaming, donc souvent plus chers.\n",
    "* À 60 Hz, très grande dispersion de prix (de < 100 € à > 6000 €), ce qui confirme que ce n’est pas un critère déterminant seul.\n",
    "* À 120–144 Hz, les prix restent modérément élevés avec moins de dispersion : cette technologie est réservée aux gammes moyennes à hautes.\n",
    "* À 240 Hz, très peu de modèles → probablement des modèles gaming haut de gamme."
   ]
  },
  {
   "cell_type": "markdown",
   "id": "b2db2783",
   "metadata": {},
   "source": [
    "---"
   ]
  },
  {
   "cell_type": "markdown",
   "id": "fb308c39",
   "metadata": {},
   "source": [
    "## Preprocessing des données"
   ]
  },
  {
   "cell_type": "markdown",
   "id": "9d62f900",
   "metadata": {},
   "source": [
    "Nous allons maintenant procéder à un pré-traitement approfondi des données issues du dataset de smartphones disponible sur Kaggle. L’objectif est de nettoyer, transformer et enrichir ces données afin de construire un jeu de données final, adapté à la conception d’un modèle d’intelligence artificielle dédié à la recommandation de smartphones."
   ]
  },
  {
   "cell_type": "markdown",
   "id": "b16ba3a7",
   "metadata": {},
   "source": [
    "**Suppression de colonnes**"
   ]
  },
  {
   "cell_type": "markdown",
   "id": "0ec9cb2c",
   "metadata": {},
   "source": [
    "Dans cette section, nous allons supprimer certaines colonnes qui ne nous semblent pas pertinentes, ou déterminantes pour le choix d'un téléphone, notamment des fonctionnalités qui sont gadgets comme `has_ir_blaster`. Cela permettra d'être plus orienté vers la satisfaction de la clientèle."
   ]
  },
  {
   "cell_type": "code",
   "execution_count": 11,
   "id": "6fbf08cf",
   "metadata": {},
   "outputs": [],
   "source": [
    "### Suppression des colonnes\n",
    "data = data.drop(columns=['has_ir_blaster', 'has_nfc'])"
   ]
  },
  {
   "cell_type": "markdown",
   "id": "c25592c1",
   "metadata": {},
   "source": [
    "**Critère d'évaluation de l'autonomie d'un téléphone**"
   ]
  },
  {
   "cell_type": "markdown",
   "id": "261d8711",
   "metadata": {},
   "source": [
    "Maintenant, nous allons rajouter une étiquette à chaque téléphone pour évaluer le niveau d'autonomie de chaque téléphone, dans une démarche de satisfaction client. Si un client souhaite un téléphone avec une bonne autonomie, et rien d'autre cela permettra de mieux l'orienter vers ce qu'il recherche."
   ]
  },
  {
   "cell_type": "code",
   "execution_count": 12,
   "id": "f24018c0",
   "metadata": {},
   "outputs": [],
   "source": [
    "### Fonction d'étiquetage des téléphones par rapport à leur autonomie\n",
    "def evaluate_battery_capacity(capacity) -> str:\n",
    "    \"\"\"\n",
    "    Attribue une étiquette à chaque téléphone sur le seul critère de la capacité de leur batterie.\n",
    "    \n",
    "    :param capacity: Capacité du téléphone\n",
    "    :return: Étiquette finale\n",
    "    \"\"\"\n",
    "    \n",
    "    if capacity < 3500:\n",
    "        return \"faible\"\n",
    "    elif capacity < 4500:\n",
    "        return \"moyenne\"\n",
    "    else:\n",
    "        return \"haute\""
   ]
  },
  {
   "cell_type": "code",
   "execution_count": 13,
   "id": "ae953110",
   "metadata": {},
   "outputs": [],
   "source": [
    "### Application de la fonction\n",
    "data['quality_battery_autonomy'] = data['battery_capacity'].apply(evaluate_battery_capacity)"
   ]
  },
  {
   "cell_type": "markdown",
   "id": "b0c1d951",
   "metadata": {},
   "source": [
    "**Création d'une fonction de scoring pour catégoriser les téléphones selon leur performance**"
   ]
  },
  {
   "cell_type": "markdown",
   "id": "a889803d",
   "metadata": {},
   "source": [
    "Dans la section suivante, nous allons implémenter une fonction dans laquelle chaque ligne du dataset sera analysée, et pour chaque attribut des téléphones, nous allons attribuer un score qui sera utilisé après pour calculer un score final qui déterminera la catégorie du téléphone. Cela permettra d'affiner les futures recommandations du modèle, et de fournir des résultats qui pourront répondre aux besoins du client."
   ]
  },
  {
   "cell_type": "code",
   "execution_count": 14,
   "id": "483da2f2",
   "metadata": {},
   "outputs": [],
   "source": [
    "### Importation module\n",
    "from typing import List, Tuple\n",
    "\n",
    "### Fonction qui calcule un score total de chaque téléphone\n",
    "def compute_total_score(phone) -> float:\n",
    "    \"\"\"\n",
    "    Calcule un score de performance pour un téléphone donné \n",
    "    en fonction de ses caractéristiques techniques.\n",
    "\n",
    "    Ce score permet ensuite de classifier le téléphone \n",
    "    en haute performance, performance intermédiaire ou basique.\n",
    "    :param phone: Correspond au téléphone (ligne) que l'on considère actuellement pour le calcul du score\n",
    "    :return: Le score final du téléphone en fonction des différents critères d'évaluation\n",
    "    \"\"\"\n",
    "    ### Fonction imbriquée qui généralise la logique de calcul des scores : pour les colonnes numériques\n",
    "    def score_range(val, seuils: List[Tuple[float, float]]) -> float:\n",
    "        for seuil, point in seuils:\n",
    "            if val >= seuil:\n",
    "                return point\n",
    "        return 0\n",
    "    \n",
    "    ### Fonction imbriquée qui généralise la logique de calcul des scores : pour les colonnes booléennes\n",
    "    def score_boolean(val, point_if_true=0.5) -> float:\n",
    "        return point_if_true if val else 0\n",
    "    \n",
    "    ### Variable qui stocke le score final\n",
    "    score: float = 0\n",
    "    \n",
    "    ### Poids de chaque caractéristique des téléphones attribués selon l'importance de la caractéristique pour le choix du téléphone\n",
    "    weights: List[float] = [0.10, 0.10, 0.20, 0.10, 0.15, 0.10, 0.10, 0.10, 0.05]\n",
    "    \n",
    "    ### Calcul des scores : colonnes numériques\n",
    "    score += score_range(phone['rating'], [(85, 1), (80, 0.5)]) * weights[0]\n",
    "    score += score_range(phone['num_cores'], [(8, 1), (6, 0.5)]) * weights[1]\n",
    "    score += score_range(phone['processor_speed'], [(2.8, 1), (2.4, 0.5)]) * weights[2]\n",
    "    score += score_range(phone['battery_capacity'], [(4500, 1), (3500, 0.5)]) * weights[3]\n",
    "    score += score_range(phone['ram_capacity'], [(12, 1), (8, 0.5)]) * weights[4]\n",
    "    score += score_range(phone['internal_memory'], [(256, 1), (128, 0.5)]) * weights[5]\n",
    "    score += score_range(phone['refresh_rate'], [(120, 1), (90, 0.5)]) * weights[6]\n",
    "    score += score_range(phone['primary_camera_rear'], [(64, 1), (48, 0.5)]) * weights[7]\n",
    "    \n",
    "    ### Calcul des scores : colonnes booléennes\n",
    "    score += score_boolean(phone['has_5g'], 1) * weights[-1]\n",
    "    \n",
    "    return score\n",
    "        "
   ]
  },
  {
   "cell_type": "markdown",
   "id": "b0ab7d72",
   "metadata": {},
   "source": [
    "Nous pouvons voir également que la colonne `rating` possède des valeurs manquantes qui sont cruciales pour le calcul du score de chaque téléphone. Pour remplacer ces valeurs, nous allons calculer les valeurs médianes des `rating` par marque de téléphones, et les attribuer aux téléphones qui n'ont pas de note répertoriée."
   ]
  },
  {
   "cell_type": "code",
   "execution_count": 15,
   "id": "678d1eea",
   "metadata": {},
   "outputs": [],
   "source": [
    "### Calcul des médianes des `rating` par marque\n",
    "median_per_brand = data.groupby('brand_name')['rating'].median()\n",
    "\n",
    "data['rating'] = data.apply(\n",
    "    lambda phone: median_per_brand[phone['brand_name']] if pd.isna(phone['rating']) else phone['rating'],\n",
    "    axis=1\n",
    ")"
   ]
  },
  {
   "cell_type": "code",
   "execution_count": 16,
   "id": "fcd396b5",
   "metadata": {},
   "outputs": [],
   "source": [
    "### Fonction de catégorisation des téléphones\n",
    "def determine_performance(phone) -> str:\n",
    "    \"\"\"\n",
    "    Calcule un score de performance pour un téléphone donné \n",
    "    en fonction de ses caractéristiques techniques.\n",
    "\n",
    "    Ce score permet ensuite de classifier le téléphone \n",
    "    en haut de gamme, milieu de gamme ou bas de gamme.\n",
    "     \n",
    "    :param phone: Prend en argument chaque téléphone (ligne) du dataset\n",
    "    :return: Une chaîne de caractères qui indique la catégorie du téléphone\n",
    "    \"\"\"\n",
    "    score: float = compute_total_score(phone)\n",
    "    \n",
    "    ### Attribution des catégories\n",
    "    if score >= 0.7:\n",
    "        return \"haut performance\"\n",
    "    elif score >= 0.4:\n",
    "        return \"performance intermédiaire\"\n",
    "    else:\n",
    "        return \"basique\""
   ]
  },
  {
   "cell_type": "code",
   "execution_count": 17,
   "id": "479583fd",
   "metadata": {},
   "outputs": [
    {
     "data": {
      "text/html": [
       "<div>\n",
       "<style scoped>\n",
       "    .dataframe tbody tr th:only-of-type {\n",
       "        vertical-align: middle;\n",
       "    }\n",
       "\n",
       "    .dataframe tbody tr th {\n",
       "        vertical-align: top;\n",
       "    }\n",
       "\n",
       "    .dataframe thead th {\n",
       "        text-align: right;\n",
       "    }\n",
       "</style>\n",
       "<table border=\"1\" class=\"dataframe\">\n",
       "  <thead>\n",
       "    <tr style=\"text-align: right;\">\n",
       "      <th></th>\n",
       "      <th>brand_name</th>\n",
       "      <th>model</th>\n",
       "      <th>price (€)</th>\n",
       "      <th>rating</th>\n",
       "      <th>has_5g</th>\n",
       "      <th>processor_brand</th>\n",
       "      <th>num_cores</th>\n",
       "      <th>processor_speed</th>\n",
       "      <th>battery_capacity</th>\n",
       "      <th>fast_charging_available</th>\n",
       "      <th>...</th>\n",
       "      <th>num_front_cameras</th>\n",
       "      <th>os</th>\n",
       "      <th>primary_camera_rear</th>\n",
       "      <th>primary_camera_front</th>\n",
       "      <th>extended_memory_available</th>\n",
       "      <th>extended_upto</th>\n",
       "      <th>resolution_width</th>\n",
       "      <th>resolution_height</th>\n",
       "      <th>quality_battery_autonomy</th>\n",
       "      <th>performance category</th>\n",
       "    </tr>\n",
       "  </thead>\n",
       "  <tbody>\n",
       "    <tr>\n",
       "      <th>0</th>\n",
       "      <td>apple</td>\n",
       "      <td>Apple iPhone 11</td>\n",
       "      <td>388.66</td>\n",
       "      <td>73.0</td>\n",
       "      <td>False</td>\n",
       "      <td>bionic</td>\n",
       "      <td>6</td>\n",
       "      <td>2.65</td>\n",
       "      <td>3110</td>\n",
       "      <td>0</td>\n",
       "      <td>...</td>\n",
       "      <td>1.0</td>\n",
       "      <td>ios</td>\n",
       "      <td>12.0</td>\n",
       "      <td>12.0</td>\n",
       "      <td>0</td>\n",
       "      <td>NaN</td>\n",
       "      <td>828</td>\n",
       "      <td>1792</td>\n",
       "      <td>faible</td>\n",
       "      <td>basique</td>\n",
       "    </tr>\n",
       "    <tr>\n",
       "      <th>1</th>\n",
       "      <td>apple</td>\n",
       "      <td>Apple iPhone 11 (128GB)</td>\n",
       "      <td>468.39</td>\n",
       "      <td>75.0</td>\n",
       "      <td>False</td>\n",
       "      <td>bionic</td>\n",
       "      <td>6</td>\n",
       "      <td>2.65</td>\n",
       "      <td>3110</td>\n",
       "      <td>0</td>\n",
       "      <td>...</td>\n",
       "      <td>1.0</td>\n",
       "      <td>ios</td>\n",
       "      <td>12.0</td>\n",
       "      <td>12.0</td>\n",
       "      <td>0</td>\n",
       "      <td>NaN</td>\n",
       "      <td>828</td>\n",
       "      <td>1792</td>\n",
       "      <td>faible</td>\n",
       "      <td>basique</td>\n",
       "    </tr>\n",
       "    <tr>\n",
       "      <th>2</th>\n",
       "      <td>apple</td>\n",
       "      <td>Apple iPhone 11 Pro Max</td>\n",
       "      <td>1095.26</td>\n",
       "      <td>77.0</td>\n",
       "      <td>False</td>\n",
       "      <td>bionic</td>\n",
       "      <td>6</td>\n",
       "      <td>2.65</td>\n",
       "      <td>3500</td>\n",
       "      <td>1</td>\n",
       "      <td>...</td>\n",
       "      <td>1.0</td>\n",
       "      <td>ios</td>\n",
       "      <td>12.0</td>\n",
       "      <td>12.0</td>\n",
       "      <td>0</td>\n",
       "      <td>NaN</td>\n",
       "      <td>1242</td>\n",
       "      <td>2688</td>\n",
       "      <td>moyenne</td>\n",
       "      <td>basique</td>\n",
       "    </tr>\n",
       "    <tr>\n",
       "      <th>3</th>\n",
       "      <td>apple</td>\n",
       "      <td>Apple iPhone 12</td>\n",
       "      <td>518.22</td>\n",
       "      <td>74.0</td>\n",
       "      <td>True</td>\n",
       "      <td>bionic</td>\n",
       "      <td>6</td>\n",
       "      <td>3.10</td>\n",
       "      <td>2815</td>\n",
       "      <td>0</td>\n",
       "      <td>...</td>\n",
       "      <td>1.0</td>\n",
       "      <td>ios</td>\n",
       "      <td>12.0</td>\n",
       "      <td>12.0</td>\n",
       "      <td>0</td>\n",
       "      <td>NaN</td>\n",
       "      <td>1170</td>\n",
       "      <td>2532</td>\n",
       "      <td>faible</td>\n",
       "      <td>basique</td>\n",
       "    </tr>\n",
       "    <tr>\n",
       "      <th>4</th>\n",
       "      <td>apple</td>\n",
       "      <td>Apple iPhone 12 (128GB)</td>\n",
       "      <td>558.09</td>\n",
       "      <td>75.0</td>\n",
       "      <td>True</td>\n",
       "      <td>bionic</td>\n",
       "      <td>6</td>\n",
       "      <td>3.10</td>\n",
       "      <td>2815</td>\n",
       "      <td>0</td>\n",
       "      <td>...</td>\n",
       "      <td>1.0</td>\n",
       "      <td>ios</td>\n",
       "      <td>12.0</td>\n",
       "      <td>12.0</td>\n",
       "      <td>0</td>\n",
       "      <td>NaN</td>\n",
       "      <td>1170</td>\n",
       "      <td>2532</td>\n",
       "      <td>faible</td>\n",
       "      <td>basique</td>\n",
       "    </tr>\n",
       "    <tr>\n",
       "      <th>...</th>\n",
       "      <td>...</td>\n",
       "      <td>...</td>\n",
       "      <td>...</td>\n",
       "      <td>...</td>\n",
       "      <td>...</td>\n",
       "      <td>...</td>\n",
       "      <td>...</td>\n",
       "      <td>...</td>\n",
       "      <td>...</td>\n",
       "      <td>...</td>\n",
       "      <td>...</td>\n",
       "      <td>...</td>\n",
       "      <td>...</td>\n",
       "      <td>...</td>\n",
       "      <td>...</td>\n",
       "      <td>...</td>\n",
       "      <td>...</td>\n",
       "      <td>...</td>\n",
       "      <td>...</td>\n",
       "      <td>...</td>\n",
       "      <td>...</td>\n",
       "    </tr>\n",
       "    <tr>\n",
       "      <th>974</th>\n",
       "      <td>xiaomi</td>\n",
       "      <td>Xiaomi Redmi Note 9 Pro</td>\n",
       "      <td>139.51</td>\n",
       "      <td>75.0</td>\n",
       "      <td>False</td>\n",
       "      <td>snapdragon</td>\n",
       "      <td>8</td>\n",
       "      <td>2.30</td>\n",
       "      <td>5020</td>\n",
       "      <td>1</td>\n",
       "      <td>...</td>\n",
       "      <td>1.0</td>\n",
       "      <td>android</td>\n",
       "      <td>48.0</td>\n",
       "      <td>16.0</td>\n",
       "      <td>1</td>\n",
       "      <td>512.0</td>\n",
       "      <td>1080</td>\n",
       "      <td>2400</td>\n",
       "      <td>haute</td>\n",
       "      <td>basique</td>\n",
       "    </tr>\n",
       "    <tr>\n",
       "      <th>975</th>\n",
       "      <td>xiaomi</td>\n",
       "      <td>Xiaomi Redmi Note 9 Pro (4GB RAM + 128GB)</td>\n",
       "      <td>143.90</td>\n",
       "      <td>77.0</td>\n",
       "      <td>False</td>\n",
       "      <td>snapdragon</td>\n",
       "      <td>8</td>\n",
       "      <td>2.30</td>\n",
       "      <td>5020</td>\n",
       "      <td>1</td>\n",
       "      <td>...</td>\n",
       "      <td>1.0</td>\n",
       "      <td>android</td>\n",
       "      <td>48.0</td>\n",
       "      <td>16.0</td>\n",
       "      <td>1</td>\n",
       "      <td>512.0</td>\n",
       "      <td>1080</td>\n",
       "      <td>2400</td>\n",
       "      <td>haute</td>\n",
       "      <td>basique</td>\n",
       "    </tr>\n",
       "    <tr>\n",
       "      <th>976</th>\n",
       "      <td>xiaomi</td>\n",
       "      <td>Xiaomi Redmi Note 9 Pro Max</td>\n",
       "      <td>164.34</td>\n",
       "      <td>80.0</td>\n",
       "      <td>False</td>\n",
       "      <td>snapdragon</td>\n",
       "      <td>8</td>\n",
       "      <td>2.30</td>\n",
       "      <td>5020</td>\n",
       "      <td>1</td>\n",
       "      <td>...</td>\n",
       "      <td>1.0</td>\n",
       "      <td>android</td>\n",
       "      <td>64.0</td>\n",
       "      <td>32.0</td>\n",
       "      <td>1</td>\n",
       "      <td>512.0</td>\n",
       "      <td>1080</td>\n",
       "      <td>2400</td>\n",
       "      <td>haute</td>\n",
       "      <td>basique</td>\n",
       "    </tr>\n",
       "    <tr>\n",
       "      <th>977</th>\n",
       "      <td>zte</td>\n",
       "      <td>ZTE Axon 30S</td>\n",
       "      <td>199.31</td>\n",
       "      <td>82.0</td>\n",
       "      <td>True</td>\n",
       "      <td>snapdragon</td>\n",
       "      <td>8</td>\n",
       "      <td>3.20</td>\n",
       "      <td>4200</td>\n",
       "      <td>1</td>\n",
       "      <td>...</td>\n",
       "      <td>1.0</td>\n",
       "      <td>android</td>\n",
       "      <td>50.0</td>\n",
       "      <td>16.0</td>\n",
       "      <td>1</td>\n",
       "      <td>NaN</td>\n",
       "      <td>1080</td>\n",
       "      <td>2460</td>\n",
       "      <td>moyenne</td>\n",
       "      <td>performance intermédiaire</td>\n",
       "    </tr>\n",
       "    <tr>\n",
       "      <th>978</th>\n",
       "      <td>zte</td>\n",
       "      <td>ZTE Axon 40 Ultra 5G</td>\n",
       "      <td>617.79</td>\n",
       "      <td>89.0</td>\n",
       "      <td>True</td>\n",
       "      <td>snapdragon</td>\n",
       "      <td>8</td>\n",
       "      <td>3.00</td>\n",
       "      <td>5000</td>\n",
       "      <td>1</td>\n",
       "      <td>...</td>\n",
       "      <td>1.0</td>\n",
       "      <td>android</td>\n",
       "      <td>64.0</td>\n",
       "      <td>16.0</td>\n",
       "      <td>0</td>\n",
       "      <td>NaN</td>\n",
       "      <td>1116</td>\n",
       "      <td>2480</td>\n",
       "      <td>haute</td>\n",
       "      <td>haut performance</td>\n",
       "    </tr>\n",
       "  </tbody>\n",
       "</table>\n",
       "<p>979 rows × 26 columns</p>\n",
       "</div>"
      ],
      "text/plain": [
       "    brand_name                                      model  price (€)  rating  \\\n",
       "0        apple                            Apple iPhone 11     388.66    73.0   \n",
       "1        apple                    Apple iPhone 11 (128GB)     468.39    75.0   \n",
       "2        apple                    Apple iPhone 11 Pro Max    1095.26    77.0   \n",
       "3        apple                            Apple iPhone 12     518.22    74.0   \n",
       "4        apple                    Apple iPhone 12 (128GB)     558.09    75.0   \n",
       "..         ...                                        ...        ...     ...   \n",
       "974     xiaomi                    Xiaomi Redmi Note 9 Pro     139.51    75.0   \n",
       "975     xiaomi  Xiaomi Redmi Note 9 Pro (4GB RAM + 128GB)     143.90    77.0   \n",
       "976     xiaomi                Xiaomi Redmi Note 9 Pro Max     164.34    80.0   \n",
       "977        zte                               ZTE Axon 30S     199.31    82.0   \n",
       "978        zte                       ZTE Axon 40 Ultra 5G     617.79    89.0   \n",
       "\n",
       "     has_5g processor_brand  num_cores  processor_speed  battery_capacity  \\\n",
       "0     False          bionic          6             2.65              3110   \n",
       "1     False          bionic          6             2.65              3110   \n",
       "2     False          bionic          6             2.65              3500   \n",
       "3      True          bionic          6             3.10              2815   \n",
       "4      True          bionic          6             3.10              2815   \n",
       "..      ...             ...        ...              ...               ...   \n",
       "974   False      snapdragon          8             2.30              5020   \n",
       "975   False      snapdragon          8             2.30              5020   \n",
       "976   False      snapdragon          8             2.30              5020   \n",
       "977    True      snapdragon          8             3.20              4200   \n",
       "978    True      snapdragon          8             3.00              5000   \n",
       "\n",
       "     fast_charging_available  ...  num_front_cameras       os  \\\n",
       "0                          0  ...                1.0      ios   \n",
       "1                          0  ...                1.0      ios   \n",
       "2                          1  ...                1.0      ios   \n",
       "3                          0  ...                1.0      ios   \n",
       "4                          0  ...                1.0      ios   \n",
       "..                       ...  ...                ...      ...   \n",
       "974                        1  ...                1.0  android   \n",
       "975                        1  ...                1.0  android   \n",
       "976                        1  ...                1.0  android   \n",
       "977                        1  ...                1.0  android   \n",
       "978                        1  ...                1.0  android   \n",
       "\n",
       "     primary_camera_rear  primary_camera_front  extended_memory_available  \\\n",
       "0                   12.0                  12.0                          0   \n",
       "1                   12.0                  12.0                          0   \n",
       "2                   12.0                  12.0                          0   \n",
       "3                   12.0                  12.0                          0   \n",
       "4                   12.0                  12.0                          0   \n",
       "..                   ...                   ...                        ...   \n",
       "974                 48.0                  16.0                          1   \n",
       "975                 48.0                  16.0                          1   \n",
       "976                 64.0                  32.0                          1   \n",
       "977                 50.0                  16.0                          1   \n",
       "978                 64.0                  16.0                          0   \n",
       "\n",
       "     extended_upto  resolution_width resolution_height  \\\n",
       "0              NaN               828              1792   \n",
       "1              NaN               828              1792   \n",
       "2              NaN              1242              2688   \n",
       "3              NaN              1170              2532   \n",
       "4              NaN              1170              2532   \n",
       "..             ...               ...               ...   \n",
       "974          512.0              1080              2400   \n",
       "975          512.0              1080              2400   \n",
       "976          512.0              1080              2400   \n",
       "977            NaN              1080              2460   \n",
       "978            NaN              1116              2480   \n",
       "\n",
       "     quality_battery_autonomy       performance category  \n",
       "0                      faible                    basique  \n",
       "1                      faible                    basique  \n",
       "2                     moyenne                    basique  \n",
       "3                      faible                    basique  \n",
       "4                      faible                    basique  \n",
       "..                        ...                        ...  \n",
       "974                     haute                    basique  \n",
       "975                     haute                    basique  \n",
       "976                     haute                    basique  \n",
       "977                   moyenne  performance intermédiaire  \n",
       "978                     haute           haut performance  \n",
       "\n",
       "[979 rows x 26 columns]"
      ]
     },
     "execution_count": 17,
     "metadata": {},
     "output_type": "execute_result"
    }
   ],
   "source": [
    "### Application au dataset\n",
    "data['performance category'] = data.apply(determine_performance, axis=1)\n",
    "\n",
    "data"
   ]
  },
  {
   "cell_type": "markdown",
   "id": "3a3c2b81",
   "metadata": {},
   "source": [
    "**Estimation du rapport qualité/prix**"
   ]
  },
  {
   "cell_type": "markdown",
   "id": "fa9147ca",
   "metadata": {},
   "source": [
    "Pour prendre en compte l'avis des utilisateurs sur les téléphones par rapport au prix de vente qu'ils ont, nous allons créer une nouvelle métrique `quality-price ratio`. Nous avons vu que pour une même note, par exemple 85, les prix peuvent varier de moins de `100 €` à plus de `1000 €`, ce qui montre que la note ne reflète pas uniquement le prix, mais elle peut aussi intégrer la qualité perçue, la marque, la fiabilité, ou encore l’expérience utilisateur.\n",
    "\n",
    "Cependant, pour définir cette métrique, nous allons l'appliquer par segment de gamme. C'est-à-dire qu'un téléphone de haute gamme peut avoir, avec cette nouvelle métrique, un ratio qui peut être bas. Et, nous devons noter que, les téléphones haut de gamme ne sont pas destinés à être économique, il n'est pas pertinent d'estimer ce rapport pour cette gamme de téléphone. Donc, pour ce faire, nous allons créer des ratios par gamme. "
   ]
  },
  {
   "cell_type": "markdown",
   "id": "de510f9f",
   "metadata": {},
   "source": [
    "Alors, nous allons utiliser la proposition suivante de segmentation des prix :\n",
    "- Haut de gamme : > 700 €\n",
    "- Milieu de gamme : 300 - 700 €\n",
    "- Entrée de gamme : < 300 €\n",
    "\n",
    "Nous allons créer une nouvelle colonne qui recense le segment du prix auquel appartient chaque téléphone."
   ]
  },
  {
   "cell_type": "code",
   "execution_count": 18,
   "id": "1d484336",
   "metadata": {},
   "outputs": [],
   "source": [
    "### Fonction de segmentation des prix\n",
    "def segmenting_prices(price : float) -> str:\n",
    "    \"\"\"\n",
    "    Détermine le segment dans lequel un téléphone se trouve à partir de son prix.\n",
    "    \n",
    "    :param price: Prix du téléphone\n",
    "    :return: Segment auquel il appartient\n",
    "    \"\"\"\n",
    "    if price < 300:\n",
    "        return \"bas\"\n",
    "    elif price <= 700:\n",
    "        return \"milieu\"\n",
    "    else:\n",
    "        return \"haut\""
   ]
  },
  {
   "cell_type": "code",
   "execution_count": 19,
   "id": "b907c925",
   "metadata": {},
   "outputs": [],
   "source": [
    "### Application de la fonction de segmentation\n",
    "data['price_segment'] = data['price (€)'].apply(segmenting_prices)"
   ]
  },
  {
   "cell_type": "markdown",
   "id": "28d0b459",
   "metadata": {},
   "source": [
    "Nous allons maintenant calculer le ratio `rating / price`, mais étant donné qu'il n'est pas comparable entre les différents segments, nous allons ensuite normaliser le ratio dans chaque segment. Cela donne un score de 0 à 1, relatif à la performance du téléphone dans sa gamme de prix. Cela nous permettra d'avoir des choses comme, un téléphone à 200 € avec 80 de rating et un à 1000 € avec 90 de rating ayant des scores similaires dans leur segment respectif, car chacun est bon dans sa catégorie."
   ]
  },
  {
   "cell_type": "code",
   "execution_count": 20,
   "id": "c1ddf8ea",
   "metadata": {},
   "outputs": [],
   "source": [
    "### Calcul du ratio qualité / prix\n",
    "data['ratio_rating_price'] = data['rating'] / data['price (€)']"
   ]
  },
  {
   "cell_type": "code",
   "execution_count": 21,
   "id": "42ae2345",
   "metadata": {},
   "outputs": [
    {
     "data": {
      "text/html": [
       "<div>\n",
       "<style scoped>\n",
       "    .dataframe tbody tr th:only-of-type {\n",
       "        vertical-align: middle;\n",
       "    }\n",
       "\n",
       "    .dataframe tbody tr th {\n",
       "        vertical-align: top;\n",
       "    }\n",
       "\n",
       "    .dataframe thead th {\n",
       "        text-align: right;\n",
       "    }\n",
       "</style>\n",
       "<table border=\"1\" class=\"dataframe\">\n",
       "  <thead>\n",
       "    <tr style=\"text-align: right;\">\n",
       "      <th></th>\n",
       "      <th>brand_name</th>\n",
       "      <th>model</th>\n",
       "      <th>price (€)</th>\n",
       "      <th>rating</th>\n",
       "      <th>has_5g</th>\n",
       "      <th>processor_brand</th>\n",
       "      <th>num_cores</th>\n",
       "      <th>processor_speed</th>\n",
       "      <th>battery_capacity</th>\n",
       "      <th>fast_charging_available</th>\n",
       "      <th>...</th>\n",
       "      <th>primary_camera_front</th>\n",
       "      <th>extended_memory_available</th>\n",
       "      <th>extended_upto</th>\n",
       "      <th>resolution_width</th>\n",
       "      <th>resolution_height</th>\n",
       "      <th>quality_battery_autonomy</th>\n",
       "      <th>performance category</th>\n",
       "      <th>price_segment</th>\n",
       "      <th>ratio_rating_price</th>\n",
       "      <th>ratio_segment</th>\n",
       "    </tr>\n",
       "  </thead>\n",
       "  <tbody>\n",
       "    <tr>\n",
       "      <th>0</th>\n",
       "      <td>apple</td>\n",
       "      <td>Apple iPhone 11</td>\n",
       "      <td>388.66</td>\n",
       "      <td>73.0</td>\n",
       "      <td>False</td>\n",
       "      <td>bionic</td>\n",
       "      <td>6</td>\n",
       "      <td>2.65</td>\n",
       "      <td>3110</td>\n",
       "      <td>0</td>\n",
       "      <td>...</td>\n",
       "      <td>12.0</td>\n",
       "      <td>0</td>\n",
       "      <td>NaN</td>\n",
       "      <td>828</td>\n",
       "      <td>1792</td>\n",
       "      <td>faible</td>\n",
       "      <td>basique</td>\n",
       "      <td>milieu</td>\n",
       "      <td>0.187825</td>\n",
       "      <td>0.479802</td>\n",
       "    </tr>\n",
       "    <tr>\n",
       "      <th>1</th>\n",
       "      <td>apple</td>\n",
       "      <td>Apple iPhone 11 (128GB)</td>\n",
       "      <td>468.39</td>\n",
       "      <td>75.0</td>\n",
       "      <td>False</td>\n",
       "      <td>bionic</td>\n",
       "      <td>6</td>\n",
       "      <td>2.65</td>\n",
       "      <td>3110</td>\n",
       "      <td>0</td>\n",
       "      <td>...</td>\n",
       "      <td>12.0</td>\n",
       "      <td>0</td>\n",
       "      <td>NaN</td>\n",
       "      <td>828</td>\n",
       "      <td>1792</td>\n",
       "      <td>faible</td>\n",
       "      <td>basique</td>\n",
       "      <td>milieu</td>\n",
       "      <td>0.160123</td>\n",
       "      <td>0.327847</td>\n",
       "    </tr>\n",
       "    <tr>\n",
       "      <th>2</th>\n",
       "      <td>apple</td>\n",
       "      <td>Apple iPhone 11 Pro Max</td>\n",
       "      <td>1095.26</td>\n",
       "      <td>77.0</td>\n",
       "      <td>False</td>\n",
       "      <td>bionic</td>\n",
       "      <td>6</td>\n",
       "      <td>2.65</td>\n",
       "      <td>3500</td>\n",
       "      <td>1</td>\n",
       "      <td>...</td>\n",
       "      <td>12.0</td>\n",
       "      <td>0</td>\n",
       "      <td>NaN</td>\n",
       "      <td>1242</td>\n",
       "      <td>2688</td>\n",
       "      <td>moyenne</td>\n",
       "      <td>basique</td>\n",
       "      <td>haut</td>\n",
       "      <td>0.070303</td>\n",
       "      <td>0.528967</td>\n",
       "    </tr>\n",
       "    <tr>\n",
       "      <th>3</th>\n",
       "      <td>apple</td>\n",
       "      <td>Apple iPhone 12</td>\n",
       "      <td>518.22</td>\n",
       "      <td>74.0</td>\n",
       "      <td>True</td>\n",
       "      <td>bionic</td>\n",
       "      <td>6</td>\n",
       "      <td>3.10</td>\n",
       "      <td>2815</td>\n",
       "      <td>0</td>\n",
       "      <td>...</td>\n",
       "      <td>12.0</td>\n",
       "      <td>0</td>\n",
       "      <td>NaN</td>\n",
       "      <td>1170</td>\n",
       "      <td>2532</td>\n",
       "      <td>faible</td>\n",
       "      <td>basique</td>\n",
       "      <td>milieu</td>\n",
       "      <td>0.142796</td>\n",
       "      <td>0.232805</td>\n",
       "    </tr>\n",
       "    <tr>\n",
       "      <th>4</th>\n",
       "      <td>apple</td>\n",
       "      <td>Apple iPhone 12 (128GB)</td>\n",
       "      <td>558.09</td>\n",
       "      <td>75.0</td>\n",
       "      <td>True</td>\n",
       "      <td>bionic</td>\n",
       "      <td>6</td>\n",
       "      <td>3.10</td>\n",
       "      <td>2815</td>\n",
       "      <td>0</td>\n",
       "      <td>...</td>\n",
       "      <td>12.0</td>\n",
       "      <td>0</td>\n",
       "      <td>NaN</td>\n",
       "      <td>1170</td>\n",
       "      <td>2532</td>\n",
       "      <td>faible</td>\n",
       "      <td>basique</td>\n",
       "      <td>milieu</td>\n",
       "      <td>0.134387</td>\n",
       "      <td>0.186675</td>\n",
       "    </tr>\n",
       "    <tr>\n",
       "      <th>...</th>\n",
       "      <td>...</td>\n",
       "      <td>...</td>\n",
       "      <td>...</td>\n",
       "      <td>...</td>\n",
       "      <td>...</td>\n",
       "      <td>...</td>\n",
       "      <td>...</td>\n",
       "      <td>...</td>\n",
       "      <td>...</td>\n",
       "      <td>...</td>\n",
       "      <td>...</td>\n",
       "      <td>...</td>\n",
       "      <td>...</td>\n",
       "      <td>...</td>\n",
       "      <td>...</td>\n",
       "      <td>...</td>\n",
       "      <td>...</td>\n",
       "      <td>...</td>\n",
       "      <td>...</td>\n",
       "      <td>...</td>\n",
       "      <td>...</td>\n",
       "    </tr>\n",
       "    <tr>\n",
       "      <th>974</th>\n",
       "      <td>xiaomi</td>\n",
       "      <td>Xiaomi Redmi Note 9 Pro</td>\n",
       "      <td>139.51</td>\n",
       "      <td>75.0</td>\n",
       "      <td>False</td>\n",
       "      <td>snapdragon</td>\n",
       "      <td>8</td>\n",
       "      <td>2.30</td>\n",
       "      <td>5020</td>\n",
       "      <td>1</td>\n",
       "      <td>...</td>\n",
       "      <td>16.0</td>\n",
       "      <td>1</td>\n",
       "      <td>512.0</td>\n",
       "      <td>1080</td>\n",
       "      <td>2400</td>\n",
       "      <td>haute</td>\n",
       "      <td>basique</td>\n",
       "      <td>bas</td>\n",
       "      <td>0.537596</td>\n",
       "      <td>0.208098</td>\n",
       "    </tr>\n",
       "    <tr>\n",
       "      <th>975</th>\n",
       "      <td>xiaomi</td>\n",
       "      <td>Xiaomi Redmi Note 9 Pro (4GB RAM + 128GB)</td>\n",
       "      <td>143.90</td>\n",
       "      <td>77.0</td>\n",
       "      <td>False</td>\n",
       "      <td>snapdragon</td>\n",
       "      <td>8</td>\n",
       "      <td>2.30</td>\n",
       "      <td>5020</td>\n",
       "      <td>1</td>\n",
       "      <td>...</td>\n",
       "      <td>16.0</td>\n",
       "      <td>1</td>\n",
       "      <td>512.0</td>\n",
       "      <td>1080</td>\n",
       "      <td>2400</td>\n",
       "      <td>haute</td>\n",
       "      <td>basique</td>\n",
       "      <td>bas</td>\n",
       "      <td>0.535094</td>\n",
       "      <td>0.206536</td>\n",
       "    </tr>\n",
       "    <tr>\n",
       "      <th>976</th>\n",
       "      <td>xiaomi</td>\n",
       "      <td>Xiaomi Redmi Note 9 Pro Max</td>\n",
       "      <td>164.34</td>\n",
       "      <td>80.0</td>\n",
       "      <td>False</td>\n",
       "      <td>snapdragon</td>\n",
       "      <td>8</td>\n",
       "      <td>2.30</td>\n",
       "      <td>5020</td>\n",
       "      <td>1</td>\n",
       "      <td>...</td>\n",
       "      <td>32.0</td>\n",
       "      <td>1</td>\n",
       "      <td>512.0</td>\n",
       "      <td>1080</td>\n",
       "      <td>2400</td>\n",
       "      <td>haute</td>\n",
       "      <td>basique</td>\n",
       "      <td>bas</td>\n",
       "      <td>0.486796</td>\n",
       "      <td>0.176399</td>\n",
       "    </tr>\n",
       "    <tr>\n",
       "      <th>977</th>\n",
       "      <td>zte</td>\n",
       "      <td>ZTE Axon 30S</td>\n",
       "      <td>199.31</td>\n",
       "      <td>82.0</td>\n",
       "      <td>True</td>\n",
       "      <td>snapdragon</td>\n",
       "      <td>8</td>\n",
       "      <td>3.20</td>\n",
       "      <td>4200</td>\n",
       "      <td>1</td>\n",
       "      <td>...</td>\n",
       "      <td>16.0</td>\n",
       "      <td>1</td>\n",
       "      <td>NaN</td>\n",
       "      <td>1080</td>\n",
       "      <td>2460</td>\n",
       "      <td>moyenne</td>\n",
       "      <td>performance intermédiaire</td>\n",
       "      <td>bas</td>\n",
       "      <td>0.411419</td>\n",
       "      <td>0.129366</td>\n",
       "    </tr>\n",
       "    <tr>\n",
       "      <th>978</th>\n",
       "      <td>zte</td>\n",
       "      <td>ZTE Axon 40 Ultra 5G</td>\n",
       "      <td>617.79</td>\n",
       "      <td>89.0</td>\n",
       "      <td>True</td>\n",
       "      <td>snapdragon</td>\n",
       "      <td>8</td>\n",
       "      <td>3.00</td>\n",
       "      <td>5000</td>\n",
       "      <td>1</td>\n",
       "      <td>...</td>\n",
       "      <td>16.0</td>\n",
       "      <td>0</td>\n",
       "      <td>NaN</td>\n",
       "      <td>1116</td>\n",
       "      <td>2480</td>\n",
       "      <td>haute</td>\n",
       "      <td>haut performance</td>\n",
       "      <td>milieu</td>\n",
       "      <td>0.144062</td>\n",
       "      <td>0.239746</td>\n",
       "    </tr>\n",
       "  </tbody>\n",
       "</table>\n",
       "<p>979 rows × 29 columns</p>\n",
       "</div>"
      ],
      "text/plain": [
       "    brand_name                                      model  price (€)  rating  \\\n",
       "0        apple                            Apple iPhone 11     388.66    73.0   \n",
       "1        apple                    Apple iPhone 11 (128GB)     468.39    75.0   \n",
       "2        apple                    Apple iPhone 11 Pro Max    1095.26    77.0   \n",
       "3        apple                            Apple iPhone 12     518.22    74.0   \n",
       "4        apple                    Apple iPhone 12 (128GB)     558.09    75.0   \n",
       "..         ...                                        ...        ...     ...   \n",
       "974     xiaomi                    Xiaomi Redmi Note 9 Pro     139.51    75.0   \n",
       "975     xiaomi  Xiaomi Redmi Note 9 Pro (4GB RAM + 128GB)     143.90    77.0   \n",
       "976     xiaomi                Xiaomi Redmi Note 9 Pro Max     164.34    80.0   \n",
       "977        zte                               ZTE Axon 30S     199.31    82.0   \n",
       "978        zte                       ZTE Axon 40 Ultra 5G     617.79    89.0   \n",
       "\n",
       "     has_5g processor_brand  num_cores  processor_speed  battery_capacity  \\\n",
       "0     False          bionic          6             2.65              3110   \n",
       "1     False          bionic          6             2.65              3110   \n",
       "2     False          bionic          6             2.65              3500   \n",
       "3      True          bionic          6             3.10              2815   \n",
       "4      True          bionic          6             3.10              2815   \n",
       "..      ...             ...        ...              ...               ...   \n",
       "974   False      snapdragon          8             2.30              5020   \n",
       "975   False      snapdragon          8             2.30              5020   \n",
       "976   False      snapdragon          8             2.30              5020   \n",
       "977    True      snapdragon          8             3.20              4200   \n",
       "978    True      snapdragon          8             3.00              5000   \n",
       "\n",
       "     fast_charging_available  ...  primary_camera_front  \\\n",
       "0                          0  ...                  12.0   \n",
       "1                          0  ...                  12.0   \n",
       "2                          1  ...                  12.0   \n",
       "3                          0  ...                  12.0   \n",
       "4                          0  ...                  12.0   \n",
       "..                       ...  ...                   ...   \n",
       "974                        1  ...                  16.0   \n",
       "975                        1  ...                  16.0   \n",
       "976                        1  ...                  32.0   \n",
       "977                        1  ...                  16.0   \n",
       "978                        1  ...                  16.0   \n",
       "\n",
       "     extended_memory_available  extended_upto  resolution_width  \\\n",
       "0                            0            NaN               828   \n",
       "1                            0            NaN               828   \n",
       "2                            0            NaN              1242   \n",
       "3                            0            NaN              1170   \n",
       "4                            0            NaN              1170   \n",
       "..                         ...            ...               ...   \n",
       "974                          1          512.0              1080   \n",
       "975                          1          512.0              1080   \n",
       "976                          1          512.0              1080   \n",
       "977                          1            NaN              1080   \n",
       "978                          0            NaN              1116   \n",
       "\n",
       "     resolution_height  quality_battery_autonomy       performance category  \\\n",
       "0                 1792                    faible                    basique   \n",
       "1                 1792                    faible                    basique   \n",
       "2                 2688                   moyenne                    basique   \n",
       "3                 2532                    faible                    basique   \n",
       "4                 2532                    faible                    basique   \n",
       "..                 ...                       ...                        ...   \n",
       "974               2400                     haute                    basique   \n",
       "975               2400                     haute                    basique   \n",
       "976               2400                     haute                    basique   \n",
       "977               2460                   moyenne  performance intermédiaire   \n",
       "978               2480                     haute           haut performance   \n",
       "\n",
       "    price_segment  ratio_rating_price  ratio_segment  \n",
       "0          milieu            0.187825       0.479802  \n",
       "1          milieu            0.160123       0.327847  \n",
       "2            haut            0.070303       0.528967  \n",
       "3          milieu            0.142796       0.232805  \n",
       "4          milieu            0.134387       0.186675  \n",
       "..            ...                 ...            ...  \n",
       "974           bas            0.537596       0.208098  \n",
       "975           bas            0.535094       0.206536  \n",
       "976           bas            0.486796       0.176399  \n",
       "977           bas            0.411419       0.129366  \n",
       "978        milieu            0.144062       0.239746  \n",
       "\n",
       "[979 rows x 29 columns]"
      ]
     },
     "execution_count": 21,
     "metadata": {},
     "output_type": "execute_result"
    }
   ],
   "source": [
    "### Normalisation des ratios dans chaque segment de prix\n",
    "data['ratio_segment'] = data.groupby('price_segment')['ratio_rating_price'].transform(\n",
    "    lambda x: (x - x.min()) / (x.max() - x.min())\n",
    ")\n",
    "\n",
    "data"
   ]
  },
  {
   "cell_type": "markdown",
   "id": "696ac46f",
   "metadata": {},
   "source": [
    "Voici une petite analyse de la distribution du ratio segmenté :\n",
    "\n",
    "* Segment bas (< 300 €) :\n",
    "    * `Moyenne : 0.21`\n",
    "    * `25% des modèles ont un score < 0.11`\n",
    "    * `Score élevé (75e percentile) : > 0.27`\n",
    "    * Les bons scores sont rares dans ce segment, les valeurs sont globalement faibles.\n",
    "\n",
    "* Segment milieu (300–700 €) :\n",
    "    * `Moyenne : 0.51`\n",
    "    * `25% des modèles : < 0.28`\n",
    "    * `75% des modèles : < 0.75`\n",
    "    * Cette distribution est plus équilibrée, nous avons de bons segments pour identifier des rapports qualités-prix corrects.\n",
    "\n",
    "* Segment haut (> 700 €) :\n",
    "    * `Moyenne : 0.61`\n",
    "    * `25% des modèles : < 0.46`\n",
    "    * `75% des modèles : > 0.77`\n",
    "    * Ici, nous avons plus de variance, et certains modèles haut de gamme sont bien notés pour leur prix.\n",
    "\n",
    "Nous allons donc écrire une fonction nous permettant d'attribuer nos étiquettes `qualité/prix` selon des seuils basés sur l'analyse des distributions des différents segments."
   ]
  },
  {
   "cell_type": "code",
   "execution_count": 22,
   "id": "2fe033eb",
   "metadata": {},
   "outputs": [],
   "source": [
    "### Fonction d'étiquetage\n",
    "def label_ratio(phone) -> str:\n",
    "    \"\"\"\n",
    "    Fonction d'attribution de label sur le rapport qualité/prix en fonction du segment dans lequel se trouve le téléphone considéré.\n",
    "    \n",
    "    :param phone: Téléphone à étiqueter sur son rapport qualité/prix\n",
    "    :return: Étiquette finale\n",
    "    \"\"\"\n",
    "    \n",
    "    ### Récupération des ratios\n",
    "    val = phone['ratio_segment']\n",
    "    segment = phone['price_segment']\n",
    "    \n",
    "    ### Disjonction de cas et attribution des labels\n",
    "    ### Segment bas\n",
    "    if segment == 'bas':\n",
    "        if val >= 0.30:\n",
    "            return \"excellent\"\n",
    "        elif val >= 0.20:\n",
    "            return \"bon\"\n",
    "        elif val >= 0.10:\n",
    "            return \"moyen\"\n",
    "        else:\n",
    "            return \"faible\"\n",
    "        \n",
    "    ### Segment milieu\n",
    "    elif segment == 'milieu':\n",
    "        if val >= 0.70:\n",
    "            return \"excellent\"\n",
    "        elif val >= 0.50:\n",
    "            return \"bon\"\n",
    "        elif val >= 0.30:\n",
    "            return \"moyen\"\n",
    "        else:\n",
    "            return \"faible\"\n",
    "    \n",
    "    ### Segment haut\n",
    "    elif segment == 'haut':\n",
    "        if val >= 0.80:\n",
    "            return \"excellent\"\n",
    "        elif val >= 0.60:\n",
    "            return \"bon\"\n",
    "        elif val >= 0.40:\n",
    "            return \"moyen\"\n",
    "        else:\n",
    "            return \"faible\"\n",
    "    \n",
    "    ### Renvoyer inconnu par mesure de sécurité (Possibles valeurs manquantes qui ne peuvent pas être remplacées)\n",
    "    return \"inconnu\""
   ]
  },
  {
   "cell_type": "code",
   "execution_count": 23,
   "id": "0a77885d",
   "metadata": {},
   "outputs": [
    {
     "data": {
      "text/html": [
       "<div>\n",
       "<style scoped>\n",
       "    .dataframe tbody tr th:only-of-type {\n",
       "        vertical-align: middle;\n",
       "    }\n",
       "\n",
       "    .dataframe tbody tr th {\n",
       "        vertical-align: top;\n",
       "    }\n",
       "\n",
       "    .dataframe thead th {\n",
       "        text-align: right;\n",
       "    }\n",
       "</style>\n",
       "<table border=\"1\" class=\"dataframe\">\n",
       "  <thead>\n",
       "    <tr style=\"text-align: right;\">\n",
       "      <th></th>\n",
       "      <th>brand_name</th>\n",
       "      <th>model</th>\n",
       "      <th>price (€)</th>\n",
       "      <th>rating</th>\n",
       "      <th>has_5g</th>\n",
       "      <th>processor_brand</th>\n",
       "      <th>num_cores</th>\n",
       "      <th>processor_speed</th>\n",
       "      <th>battery_capacity</th>\n",
       "      <th>fast_charging_available</th>\n",
       "      <th>...</th>\n",
       "      <th>extended_memory_available</th>\n",
       "      <th>extended_upto</th>\n",
       "      <th>resolution_width</th>\n",
       "      <th>resolution_height</th>\n",
       "      <th>quality_battery_autonomy</th>\n",
       "      <th>performance category</th>\n",
       "      <th>price_segment</th>\n",
       "      <th>ratio_rating_price</th>\n",
       "      <th>ratio_segment</th>\n",
       "      <th>quality-price_ratio</th>\n",
       "    </tr>\n",
       "  </thead>\n",
       "  <tbody>\n",
       "    <tr>\n",
       "      <th>0</th>\n",
       "      <td>apple</td>\n",
       "      <td>Apple iPhone 11</td>\n",
       "      <td>388.66</td>\n",
       "      <td>73.0</td>\n",
       "      <td>False</td>\n",
       "      <td>bionic</td>\n",
       "      <td>6</td>\n",
       "      <td>2.65</td>\n",
       "      <td>3110</td>\n",
       "      <td>0</td>\n",
       "      <td>...</td>\n",
       "      <td>0</td>\n",
       "      <td>NaN</td>\n",
       "      <td>828</td>\n",
       "      <td>1792</td>\n",
       "      <td>faible</td>\n",
       "      <td>basique</td>\n",
       "      <td>milieu</td>\n",
       "      <td>0.187825</td>\n",
       "      <td>0.479802</td>\n",
       "      <td>moyen</td>\n",
       "    </tr>\n",
       "    <tr>\n",
       "      <th>1</th>\n",
       "      <td>apple</td>\n",
       "      <td>Apple iPhone 11 (128GB)</td>\n",
       "      <td>468.39</td>\n",
       "      <td>75.0</td>\n",
       "      <td>False</td>\n",
       "      <td>bionic</td>\n",
       "      <td>6</td>\n",
       "      <td>2.65</td>\n",
       "      <td>3110</td>\n",
       "      <td>0</td>\n",
       "      <td>...</td>\n",
       "      <td>0</td>\n",
       "      <td>NaN</td>\n",
       "      <td>828</td>\n",
       "      <td>1792</td>\n",
       "      <td>faible</td>\n",
       "      <td>basique</td>\n",
       "      <td>milieu</td>\n",
       "      <td>0.160123</td>\n",
       "      <td>0.327847</td>\n",
       "      <td>moyen</td>\n",
       "    </tr>\n",
       "    <tr>\n",
       "      <th>2</th>\n",
       "      <td>apple</td>\n",
       "      <td>Apple iPhone 11 Pro Max</td>\n",
       "      <td>1095.26</td>\n",
       "      <td>77.0</td>\n",
       "      <td>False</td>\n",
       "      <td>bionic</td>\n",
       "      <td>6</td>\n",
       "      <td>2.65</td>\n",
       "      <td>3500</td>\n",
       "      <td>1</td>\n",
       "      <td>...</td>\n",
       "      <td>0</td>\n",
       "      <td>NaN</td>\n",
       "      <td>1242</td>\n",
       "      <td>2688</td>\n",
       "      <td>moyenne</td>\n",
       "      <td>basique</td>\n",
       "      <td>haut</td>\n",
       "      <td>0.070303</td>\n",
       "      <td>0.528967</td>\n",
       "      <td>moyen</td>\n",
       "    </tr>\n",
       "    <tr>\n",
       "      <th>3</th>\n",
       "      <td>apple</td>\n",
       "      <td>Apple iPhone 12</td>\n",
       "      <td>518.22</td>\n",
       "      <td>74.0</td>\n",
       "      <td>True</td>\n",
       "      <td>bionic</td>\n",
       "      <td>6</td>\n",
       "      <td>3.10</td>\n",
       "      <td>2815</td>\n",
       "      <td>0</td>\n",
       "      <td>...</td>\n",
       "      <td>0</td>\n",
       "      <td>NaN</td>\n",
       "      <td>1170</td>\n",
       "      <td>2532</td>\n",
       "      <td>faible</td>\n",
       "      <td>basique</td>\n",
       "      <td>milieu</td>\n",
       "      <td>0.142796</td>\n",
       "      <td>0.232805</td>\n",
       "      <td>faible</td>\n",
       "    </tr>\n",
       "    <tr>\n",
       "      <th>4</th>\n",
       "      <td>apple</td>\n",
       "      <td>Apple iPhone 12 (128GB)</td>\n",
       "      <td>558.09</td>\n",
       "      <td>75.0</td>\n",
       "      <td>True</td>\n",
       "      <td>bionic</td>\n",
       "      <td>6</td>\n",
       "      <td>3.10</td>\n",
       "      <td>2815</td>\n",
       "      <td>0</td>\n",
       "      <td>...</td>\n",
       "      <td>0</td>\n",
       "      <td>NaN</td>\n",
       "      <td>1170</td>\n",
       "      <td>2532</td>\n",
       "      <td>faible</td>\n",
       "      <td>basique</td>\n",
       "      <td>milieu</td>\n",
       "      <td>0.134387</td>\n",
       "      <td>0.186675</td>\n",
       "      <td>faible</td>\n",
       "    </tr>\n",
       "    <tr>\n",
       "      <th>...</th>\n",
       "      <td>...</td>\n",
       "      <td>...</td>\n",
       "      <td>...</td>\n",
       "      <td>...</td>\n",
       "      <td>...</td>\n",
       "      <td>...</td>\n",
       "      <td>...</td>\n",
       "      <td>...</td>\n",
       "      <td>...</td>\n",
       "      <td>...</td>\n",
       "      <td>...</td>\n",
       "      <td>...</td>\n",
       "      <td>...</td>\n",
       "      <td>...</td>\n",
       "      <td>...</td>\n",
       "      <td>...</td>\n",
       "      <td>...</td>\n",
       "      <td>...</td>\n",
       "      <td>...</td>\n",
       "      <td>...</td>\n",
       "      <td>...</td>\n",
       "    </tr>\n",
       "    <tr>\n",
       "      <th>974</th>\n",
       "      <td>xiaomi</td>\n",
       "      <td>Xiaomi Redmi Note 9 Pro</td>\n",
       "      <td>139.51</td>\n",
       "      <td>75.0</td>\n",
       "      <td>False</td>\n",
       "      <td>snapdragon</td>\n",
       "      <td>8</td>\n",
       "      <td>2.30</td>\n",
       "      <td>5020</td>\n",
       "      <td>1</td>\n",
       "      <td>...</td>\n",
       "      <td>1</td>\n",
       "      <td>512.0</td>\n",
       "      <td>1080</td>\n",
       "      <td>2400</td>\n",
       "      <td>haute</td>\n",
       "      <td>basique</td>\n",
       "      <td>bas</td>\n",
       "      <td>0.537596</td>\n",
       "      <td>0.208098</td>\n",
       "      <td>bon</td>\n",
       "    </tr>\n",
       "    <tr>\n",
       "      <th>975</th>\n",
       "      <td>xiaomi</td>\n",
       "      <td>Xiaomi Redmi Note 9 Pro (4GB RAM + 128GB)</td>\n",
       "      <td>143.90</td>\n",
       "      <td>77.0</td>\n",
       "      <td>False</td>\n",
       "      <td>snapdragon</td>\n",
       "      <td>8</td>\n",
       "      <td>2.30</td>\n",
       "      <td>5020</td>\n",
       "      <td>1</td>\n",
       "      <td>...</td>\n",
       "      <td>1</td>\n",
       "      <td>512.0</td>\n",
       "      <td>1080</td>\n",
       "      <td>2400</td>\n",
       "      <td>haute</td>\n",
       "      <td>basique</td>\n",
       "      <td>bas</td>\n",
       "      <td>0.535094</td>\n",
       "      <td>0.206536</td>\n",
       "      <td>bon</td>\n",
       "    </tr>\n",
       "    <tr>\n",
       "      <th>976</th>\n",
       "      <td>xiaomi</td>\n",
       "      <td>Xiaomi Redmi Note 9 Pro Max</td>\n",
       "      <td>164.34</td>\n",
       "      <td>80.0</td>\n",
       "      <td>False</td>\n",
       "      <td>snapdragon</td>\n",
       "      <td>8</td>\n",
       "      <td>2.30</td>\n",
       "      <td>5020</td>\n",
       "      <td>1</td>\n",
       "      <td>...</td>\n",
       "      <td>1</td>\n",
       "      <td>512.0</td>\n",
       "      <td>1080</td>\n",
       "      <td>2400</td>\n",
       "      <td>haute</td>\n",
       "      <td>basique</td>\n",
       "      <td>bas</td>\n",
       "      <td>0.486796</td>\n",
       "      <td>0.176399</td>\n",
       "      <td>moyen</td>\n",
       "    </tr>\n",
       "    <tr>\n",
       "      <th>977</th>\n",
       "      <td>zte</td>\n",
       "      <td>ZTE Axon 30S</td>\n",
       "      <td>199.31</td>\n",
       "      <td>82.0</td>\n",
       "      <td>True</td>\n",
       "      <td>snapdragon</td>\n",
       "      <td>8</td>\n",
       "      <td>3.20</td>\n",
       "      <td>4200</td>\n",
       "      <td>1</td>\n",
       "      <td>...</td>\n",
       "      <td>1</td>\n",
       "      <td>NaN</td>\n",
       "      <td>1080</td>\n",
       "      <td>2460</td>\n",
       "      <td>moyenne</td>\n",
       "      <td>performance intermédiaire</td>\n",
       "      <td>bas</td>\n",
       "      <td>0.411419</td>\n",
       "      <td>0.129366</td>\n",
       "      <td>moyen</td>\n",
       "    </tr>\n",
       "    <tr>\n",
       "      <th>978</th>\n",
       "      <td>zte</td>\n",
       "      <td>ZTE Axon 40 Ultra 5G</td>\n",
       "      <td>617.79</td>\n",
       "      <td>89.0</td>\n",
       "      <td>True</td>\n",
       "      <td>snapdragon</td>\n",
       "      <td>8</td>\n",
       "      <td>3.00</td>\n",
       "      <td>5000</td>\n",
       "      <td>1</td>\n",
       "      <td>...</td>\n",
       "      <td>0</td>\n",
       "      <td>NaN</td>\n",
       "      <td>1116</td>\n",
       "      <td>2480</td>\n",
       "      <td>haute</td>\n",
       "      <td>haut performance</td>\n",
       "      <td>milieu</td>\n",
       "      <td>0.144062</td>\n",
       "      <td>0.239746</td>\n",
       "      <td>faible</td>\n",
       "    </tr>\n",
       "  </tbody>\n",
       "</table>\n",
       "<p>979 rows × 30 columns</p>\n",
       "</div>"
      ],
      "text/plain": [
       "    brand_name                                      model  price (€)  rating  \\\n",
       "0        apple                            Apple iPhone 11     388.66    73.0   \n",
       "1        apple                    Apple iPhone 11 (128GB)     468.39    75.0   \n",
       "2        apple                    Apple iPhone 11 Pro Max    1095.26    77.0   \n",
       "3        apple                            Apple iPhone 12     518.22    74.0   \n",
       "4        apple                    Apple iPhone 12 (128GB)     558.09    75.0   \n",
       "..         ...                                        ...        ...     ...   \n",
       "974     xiaomi                    Xiaomi Redmi Note 9 Pro     139.51    75.0   \n",
       "975     xiaomi  Xiaomi Redmi Note 9 Pro (4GB RAM + 128GB)     143.90    77.0   \n",
       "976     xiaomi                Xiaomi Redmi Note 9 Pro Max     164.34    80.0   \n",
       "977        zte                               ZTE Axon 30S     199.31    82.0   \n",
       "978        zte                       ZTE Axon 40 Ultra 5G     617.79    89.0   \n",
       "\n",
       "     has_5g processor_brand  num_cores  processor_speed  battery_capacity  \\\n",
       "0     False          bionic          6             2.65              3110   \n",
       "1     False          bionic          6             2.65              3110   \n",
       "2     False          bionic          6             2.65              3500   \n",
       "3      True          bionic          6             3.10              2815   \n",
       "4      True          bionic          6             3.10              2815   \n",
       "..      ...             ...        ...              ...               ...   \n",
       "974   False      snapdragon          8             2.30              5020   \n",
       "975   False      snapdragon          8             2.30              5020   \n",
       "976   False      snapdragon          8             2.30              5020   \n",
       "977    True      snapdragon          8             3.20              4200   \n",
       "978    True      snapdragon          8             3.00              5000   \n",
       "\n",
       "     fast_charging_available  ...  extended_memory_available  extended_upto  \\\n",
       "0                          0  ...                          0            NaN   \n",
       "1                          0  ...                          0            NaN   \n",
       "2                          1  ...                          0            NaN   \n",
       "3                          0  ...                          0            NaN   \n",
       "4                          0  ...                          0            NaN   \n",
       "..                       ...  ...                        ...            ...   \n",
       "974                        1  ...                          1          512.0   \n",
       "975                        1  ...                          1          512.0   \n",
       "976                        1  ...                          1          512.0   \n",
       "977                        1  ...                          1            NaN   \n",
       "978                        1  ...                          0            NaN   \n",
       "\n",
       "     resolution_width  resolution_height  quality_battery_autonomy  \\\n",
       "0                 828               1792                    faible   \n",
       "1                 828               1792                    faible   \n",
       "2                1242               2688                   moyenne   \n",
       "3                1170               2532                    faible   \n",
       "4                1170               2532                    faible   \n",
       "..                ...                ...                       ...   \n",
       "974              1080               2400                     haute   \n",
       "975              1080               2400                     haute   \n",
       "976              1080               2400                     haute   \n",
       "977              1080               2460                   moyenne   \n",
       "978              1116               2480                     haute   \n",
       "\n",
       "          performance category  price_segment ratio_rating_price  \\\n",
       "0                      basique         milieu           0.187825   \n",
       "1                      basique         milieu           0.160123   \n",
       "2                      basique           haut           0.070303   \n",
       "3                      basique         milieu           0.142796   \n",
       "4                      basique         milieu           0.134387   \n",
       "..                         ...            ...                ...   \n",
       "974                    basique            bas           0.537596   \n",
       "975                    basique            bas           0.535094   \n",
       "976                    basique            bas           0.486796   \n",
       "977  performance intermédiaire            bas           0.411419   \n",
       "978           haut performance         milieu           0.144062   \n",
       "\n",
       "     ratio_segment  quality-price_ratio  \n",
       "0         0.479802                moyen  \n",
       "1         0.327847                moyen  \n",
       "2         0.528967                moyen  \n",
       "3         0.232805               faible  \n",
       "4         0.186675               faible  \n",
       "..             ...                  ...  \n",
       "974       0.208098                  bon  \n",
       "975       0.206536                  bon  \n",
       "976       0.176399                moyen  \n",
       "977       0.129366                moyen  \n",
       "978       0.239746               faible  \n",
       "\n",
       "[979 rows x 30 columns]"
      ]
     },
     "execution_count": 23,
     "metadata": {},
     "output_type": "execute_result"
    }
   ],
   "source": [
    "### Application de la fonction d'étiquetage\n",
    "data['quality-price_ratio'] = data.apply(label_ratio, axis=1)\n",
    "\n",
    "data"
   ]
  },
  {
   "cell_type": "markdown",
   "id": "2a21c38e",
   "metadata": {},
   "source": [
    "**Enregistrement du dataframe**"
   ]
  },
  {
   "cell_type": "markdown",
   "id": "41a153a2",
   "metadata": {},
   "source": [
    "Dans un premier temps, nous allons réorganiser les colonnes, et supprimer certaines dont nous n'aurons pas besoin pour la mise en place de notre modèle."
   ]
  },
  {
   "cell_type": "code",
   "execution_count": 24,
   "id": "857a9e3c",
   "metadata": {},
   "outputs": [],
   "source": [
    "### Nouvel ordre des colonnes\n",
    "new_order = ['brand_name', 'model', 'price (€)', 'price_segment','rating', 'ratio_rating_price', 'ratio_segment', 'quality-price_ratio', 'has_5g', 'processor_brand', 'num_cores', 'processor_speed', 'battery_capacity', 'quality_battery_autonomy', 'fast_charging_available', 'fast_charging', 'ram_capacity', 'internal_memory', 'screen_size', 'refresh_rate', 'num_rear_cameras', 'num_front_cameras', 'os', 'primary_camera_rear', 'primary_camera_front', 'extended_memory_available', 'extended_upto', 'resolution_width', 'resolution_height', 'performance category']\n",
    "\n",
    "data = data[new_order]"
   ]
  },
  {
   "cell_type": "markdown",
   "id": "477bc505",
   "metadata": {},
   "source": [
    "**Extraction du dataset traîté**"
   ]
  },
  {
   "cell_type": "code",
   "execution_count": 25,
   "id": "232ae84e",
   "metadata": {},
   "outputs": [],
   "source": [
    "data.to_csv('../data/processed/Smartphones_cleaned_dataset_processed.csv', index=False)"
   ]
  },
  {
   "cell_type": "markdown",
   "id": "8bb749cc",
   "metadata": {},
   "source": [
    "---\n",
    "## Pipeline RAG"
   ]
  },
  {
   "cell_type": "markdown",
   "id": "d1a82f18",
   "metadata": {},
   "source": [
    "1. Chargement des données et configuration  \n",
    "2. Construction du jeu de passages + embeddings DPR  \n",
    "3. Création de l’index FAISS  \n",
    "4. Chargement du pipeline RAG Hugging-Face  \n",
    "5. Tests d’interrogation  \n",
    "6. Interprétation des résultats"
   ]
  },
  {
   "cell_type": "code",
   "execution_count": 26,
   "id": "6636de1f",
   "metadata": {},
   "outputs": [
    {
     "name": "stderr",
     "output_type": "stream",
     "text": [
      "c:\\Users\\Windows\\GitHub projects\\phone-recommender\\venv\\Lib\\site-packages\\tqdm\\auto.py:21: TqdmWarning:\n",
      "\n",
      "IProgress not found. Please update jupyter and ipywidgets. See https://ipywidgets.readthedocs.io/en/stable/user_install.html\n",
      "\n"
     ]
    }
   ],
   "source": [
    "import os\n",
    "import torch\n",
    "import faiss\n",
    "import numpy as np\n",
    "import pandas as pd\n",
    "from datasets import Dataset, load_from_disk, load_dataset\n",
    "from transformers import (\n",
    "    DPRQuestionEncoder, DPRQuestionEncoderTokenizerFast,\n",
    "    AutoTokenizer, AutoModelForSeq2SeqLM\n",
    ")\n",
    "from sentence_transformers import SentenceTransformer"
   ]
  },
  {
   "cell_type": "code",
   "execution_count": 27,
   "id": "e594c3d9",
   "metadata": {},
   "outputs": [],
   "source": [
    "### Chargement des variables d'environnement\n",
    "TRANSFORMER = os.getenv('TRANSFORMER')\n",
    "MODEL_NAME = os.getenv(\"MODEL_NAME\")\n",
    "GEN_MODEL = os.getenv(\"GEN_MODEL\")\n",
    "PASSAGES_PATH = os.getenv(\"PASSAGES_PATH\")\n",
    "DPR_DATASET = os.getenv(\"DPR_DATASET\")\n",
    "INDEX_PATH = os.getenv(\"INDEX_PATH\")\n",
    "N_DOCS = int(os.getenv(\"N_DOCS\", 50))\n",
    "DEVICE = os.getenv(\"DEVICE\")"
   ]
  },
  {
   "cell_type": "markdown",
   "id": "32415505",
   "metadata": {},
   "source": [
    "### 1. Création des passages"
   ]
  },
  {
   "cell_type": "markdown",
   "id": "4f72acb3",
   "metadata": {},
   "source": [
    "Ici, nous allons procéder à la création des passages. On lit le CSV nettoyé et on génère un fichier JSONL de `{\"title\",\"text\"}`, où `title` est le nom de la marque, et le modèle du téléphone, et `text` correspond à toutes les caractéristiques d'un téléphone : c'est-à-dire le prix, la taille d'écran, etc.\n",
    "\n",
    "L'idée est de transformer les informatiosn en un language semi-naturel pour aiser la compréhension du modèle des informations. Effectivement, les bien qu'une structure *caractéristique : valeur* est compréhensible à nos yeux, il est plus difficile à interpréter pour FAISS."
   ]
  },
  {
   "cell_type": "code",
   "execution_count": 28,
   "id": "59a247ac",
   "metadata": {},
   "outputs": [
    {
     "name": "stderr",
     "output_type": "stream",
     "text": [
      "Creating json from Arrow format: 100%|██████████| 1/1 [00:00<00:00, 88.47ba/s]"
     ]
    },
    {
     "name": "stdout",
     "output_type": "stream",
     "text": [
      "Passages enregistrés dans ../data/processed/passages.jsonl\n"
     ]
    },
    {
     "name": "stderr",
     "output_type": "stream",
     "text": [
      "\n"
     ]
    }
   ],
   "source": [
    "records = []\n",
    "for _, phone in data.iterrows():\n",
    "    title = f\"{phone['brand_name']} {phone['model']}\"\n",
    "\n",
    "    text = (\n",
    "        f\"Le {phone['brand_name']} {phone['model']} coûte {phone['price (€)']} €, ce qui en fait un modèle avec un prix {phone['price_segment']}. \"\n",
    "        f\"Il dispose d'un écran de {phone['screen_size']} pouces avec un taux de rafraîchissement de {phone['refresh_rate']} Hz. \"\n",
    "        f\"Ce télépone a une note de {phone['rating']}, un rapport qualité-prix de {phone['quality-price_ratio']} et {'dispose' if phone['has_5g'] else 'ne dispose pas'} de la 5G. \"\n",
    "        f\"Ce téléphone offre une autonomie {phone['quality_battery_autonomy']} grâce à une batterie de {phone['battery_capacity']} mAh. \"\n",
    "        f\"Il est équipé de {phone['internal_memory']} Go de stockage, de {phone['ram_capacity']} Go de RAM ce qui en fait un téléphone avec un niveau de performance {phone['performance category']}. \"\n",
    "        f\"Il tourne sous {phone['os']}, possède une caméra arrière de {phone['primary_camera_rear']} Mpx et une caméra avant de {phone['primary_camera_front']} Mpx. \"\n",
    "    )\n",
    "    records.append({\"title\": title, \"text\": text})\n",
    "\n",
    "### Enregistrement des passages dans un dataset\n",
    "ds = Dataset.from_list(records)\n",
    "\n",
    "### Transformation du contenu du dataset (Les passages) en fichier JSONL\n",
    "ds.to_json(PASSAGES_PATH, orient=\"records\", lines=True)\n",
    "\n",
    "print(\"Passages enregistrés dans\", PASSAGES_PATH)"
   ]
  },
  {
   "cell_type": "markdown",
   "id": "d8be8621",
   "metadata": {},
   "source": [
    "### 2. Création du dataset et embeddings"
   ]
  },
  {
   "cell_type": "markdown",
   "id": "36b805dd",
   "metadata": {},
   "source": [
    "Ici, il s'agira d'encoder chaque `text` avec Sentence-Transformer et d'ajouter la colonne `embeddings`."
   ]
  },
  {
   "cell_type": "code",
   "execution_count": 29,
   "id": "eaf2da4e",
   "metadata": {},
   "outputs": [
    {
     "name": "stderr",
     "output_type": "stream",
     "text": [
      "Downloading data files: 100%|██████████| 1/1 [00:00<?, ?it/s]\n",
      "Extracting data files: 100%|██████████| 1/1 [00:00<00:00, 84.75it/s]\n",
      "Generating train split: 979 examples [00:00, 92728.96 examples/s]\n",
      "Batches:   0%|          | 0/31 [00:00<?, ?it/s]c:\\Users\\Windows\\GitHub projects\\phone-recommender\\venv\\Lib\\site-packages\\torch\\nn\\modules\\module.py:1762: FutureWarning:\n",
      "\n",
      "`encoder_attention_mask` is deprecated and will be removed in version 4.55.0 for `BertSdpaSelfAttention.forward`.\n",
      "\n",
      "Batches: 100%|██████████| 31/31 [00:20<00:00,  1.51it/s]\n",
      "Saving the dataset (1/1 shards): 100%|██████████| 979/979 [00:00<?, ? examples/s]"
     ]
    },
    {
     "name": "stdout",
     "output_type": "stream",
     "text": [
      "Dataset DPR sauvé dans ../data/processed/passages_dataset_dpr\n"
     ]
    },
    {
     "name": "stderr",
     "output_type": "stream",
     "text": [
      "\n"
     ]
    }
   ],
   "source": [
    "### Chargement des passages dans un dataset\n",
    "from datasets import load_dataset\n",
    "\n",
    "ds = load_dataset(\"json\", data_files=PASSAGES_PATH)\n",
    "\"\"\"\n",
    "Création d'un embedder pour le calcul des embeddings\n",
    "DEVICE définit quel matériel (Hardware ici) sur lequel nous faisons les calculs des embeddings : CPU ou GPU\n",
    "Transformer : all-MiniLM-L6-v2\n",
    "\"\"\"\n",
    "embedder = SentenceTransformer(TRANSFORMER, device=DEVICE)\n",
    "\n",
    "### Calcul des embeddings\n",
    "embs = embedder.encode(ds['train']['text'], convert_to_numpy=True, show_progress_bar=True)\n",
    "\n",
    "# Ajout des embeddings au dataset\n",
    "ds[\"train\"] = ds[\"train\"].add_column(\"embeddings\", embs.tolist())\n",
    "ds.save_to_disk(DPR_DATASET)\n",
    "\n",
    "print(\"Dataset DPR sauvé dans\", DPR_DATASET)"
   ]
  },
  {
   "cell_type": "markdown",
   "id": "4964ecb8",
   "metadata": {},
   "source": [
    "**Affichage embeddings**"
   ]
  },
  {
   "cell_type": "code",
   "execution_count": 30,
   "id": "714dc6e5",
   "metadata": {},
   "outputs": [
    {
     "name": "stdout",
     "output_type": "stream",
     "text": [
      "Dimension des embeddings: (979, 384)\n",
      "5 premiers embeddings : [[-0.04901509  0.07010275 -0.04297217 ... -0.01433386 -0.00407938\n",
      "   0.05716742]\n",
      " [-0.03443288  0.06774642 -0.05246193 ... -0.01925221 -0.02042194\n",
      "   0.06125085]\n",
      " [-0.05541478  0.04043651 -0.03038411 ... -0.03020158 -0.00469422\n",
      "   0.08450366]\n",
      " [ 0.00062865  0.09127546 -0.06075875 ... -0.01345333  0.0136443\n",
      "   0.05208853]\n",
      " [ 0.01151069  0.09464046 -0.06085183 ... -0.01967502  0.00153518\n",
      "   0.04891061]]\n"
     ]
    }
   ],
   "source": [
    "embeddings = np.array(ds[\"train\"][\"embeddings\"], dtype=np.float32)\n",
    "print(\"Dimension des embeddings:\", embeddings.shape)\n",
    "print(\"5 premiers embeddings :\", embeddings[:5])"
   ]
  },
  {
   "cell_type": "markdown",
   "id": "7fa59efa",
   "metadata": {},
   "source": [
    "### 3. Création de l’index FAISS"
   ]
  },
  {
   "cell_type": "markdown",
   "id": "f6356492",
   "metadata": {},
   "source": [
    "Ici, nous chargeons le dataset DPR, puis extraction des embeddings et on bâtit un `IndexFlatIP`."
   ]
  },
  {
   "cell_type": "code",
   "execution_count": 31,
   "id": "c936869b",
   "metadata": {},
   "outputs": [
    {
     "name": "stdout",
     "output_type": "stream",
     "text": [
      "Index FAISS enregistré dans ../data/processed/faiss_index.idx\n"
     ]
    }
   ],
   "source": [
    "from sklearn.preprocessing import normalize\n",
    "\n",
    "ds2 = load_from_disk(DPR_DATASET)\n",
    "train_ds = ds2[\"train\"]\n",
    "\n",
    "#Obtention des embeddings et normalisation\n",
    "emb_np = np.array(train_ds[\"embeddings\"], dtype=np.float32)\n",
    "emb_np = normalize(emb_np, norm='l2', axis=1)\n",
    "\n",
    "# On créé le FAISS index (inner product similarity)\n",
    "index = faiss.IndexFlatIP(emb_np.shape[1])\n",
    "index.add(emb_np)\n",
    "\n",
    "faiss.write_index(index, INDEX_PATH)\n",
    "print(\"Index FAISS enregistré dans\", INDEX_PATH)"
   ]
  },
  {
   "cell_type": "markdown",
   "id": "fcf863cc",
   "metadata": {},
   "source": [
    "### 4. Fonction de retrieval"
   ]
  },
  {
   "cell_type": "markdown",
   "id": "a3803d48",
   "metadata": {},
   "source": [
    "Ici, nous allons encoder la question poser par l'utilisateur, et effectuer la recherche dans FAISS."
   ]
  },
  {
   "cell_type": "code",
   "execution_count": 32,
   "id": "7e8500bd",
   "metadata": {},
   "outputs": [],
   "source": [
    "faiss_idx = faiss.read_index(INDEX_PATH)\n",
    "passages = ds2[\"train\"][\"text\"]\n",
    "\n",
    "# Fonction pour récupérer le contexte précis à partir d'une question\n",
    "def retrieve(q: str, top_k: int = N_DOCS):\n",
    "    rep = normalize(embedder.encode([q], convert_to_numpy=True), norm='l2', axis=1)\n",
    "    scores, ids = faiss_idx.search(rep.astype(np.float32), k=top_k)\n",
    "    docs = [(passages[int(i)], float(scores[0, idx])) for idx, i in enumerate(ids[0])]\n",
    "    return docs\n"
   ]
  },
  {
   "cell_type": "markdown",
   "id": "7eae0bcf",
   "metadata": {},
   "source": [
    "Tests du FAISS"
   ]
  },
  {
   "cell_type": "code",
   "execution_count": 33,
   "id": "c534f62d",
   "metadata": {},
   "outputs": [
    {
     "name": "stdout",
     "output_type": "stream",
     "text": [
      "Doc 1: Le realme Realme Narzo 50 Pro 5G coûte 204.2 €, ce qui en fait un modèle avec un prix bas. Il dispose d'un écran de 6.4 pouces avec un taux de rafraîchissement de 90 Hz. Ce télépone a une note de 81.0, un rapport qualité-prix de moyen et dispose de la 5G. Ce téléphone offre une autonomie haute grâce à une batterie de 5000 mAh. Il est équipé de 128 Go de stockage, de 6 Go de RAM ce qui en fait un téléphone avec un niveau de performance performance intermédiaire. Il tourne sous android, possède une caméra arrière de 48.0 Mpx et une caméra avant de 16.0 Mpx.  (Score: 0.6515390872955322)\n",
      "Doc 2: Le realme Realme Narzo 50 5G coûte 179.38 €, ce qui en fait un modèle avec un prix bas. Il dispose d'un écran de 6.6 pouces avec un taux de rafraîchissement de 90 Hz. Ce télépone a une note de 79.0, un rapport qualité-prix de moyen et dispose de la 5G. Ce téléphone offre une autonomie haute grâce à une batterie de 5000 mAh. Il est équipé de 128 Go de stockage, de 6 Go de RAM ce qui en fait un téléphone avec un niveau de performance performance intermédiaire. Il tourne sous android, possède une caméra arrière de 48.0 Mpx et une caméra avant de 16.0 Mpx.  (Score: 0.646574854850769)\n",
      "Doc 3: Le realme Realme Narzo 30 5G coûte 169.41 €, ce qui en fait un modèle avec un prix bas. Il dispose d'un écran de 6.5 pouces avec un taux de rafraîchissement de 90 Hz. Ce télépone a une note de 80.0, un rapport qualité-prix de moyen et dispose de la 5G. Ce téléphone offre une autonomie haute grâce à une batterie de 5000 mAh. Il est équipé de 128 Go de stockage, de 6 Go de RAM ce qui en fait un téléphone avec un niveau de performance performance intermédiaire. Il tourne sous android, possède une caméra arrière de 48.0 Mpx et une caméra avant de 16.0 Mpx.  (Score: 0.6431889533996582)\n",
      "Doc 4: Le samsung Samsung Galaxy A50s coûte 159.36 €, ce qui en fait un modèle avec un prix bas. Il dispose d'un écran de 6.4 pouces avec un taux de rafraîchissement de 60 Hz. Ce télépone a une note de 80.0, un rapport qualité-prix de moyen et ne dispose pas de la 5G. Ce téléphone offre une autonomie moyenne grâce à une batterie de 4000 mAh. Il est équipé de 128 Go de stockage, de 4 Go de RAM ce qui en fait un téléphone avec un niveau de performance basique. Il tourne sous android, possède une caméra arrière de 48.0 Mpx et une caméra avant de 32.0 Mpx.  (Score: 0.6395015716552734)\n",
      "Doc 5: Le realme Realme GT 2 Pro 5G coûte 497.89 €, ce qui en fait un modèle avec un prix milieu. Il dispose d'un écran de 6.7 pouces avec un taux de rafraîchissement de 120 Hz. Ce télépone a une note de 89.0, un rapport qualité-prix de moyen et dispose de la 5G. Ce téléphone offre une autonomie haute grâce à une batterie de 5000 mAh. Il est équipé de 128 Go de stockage, de 8 Go de RAM ce qui en fait un téléphone avec un niveau de performance haut performance. Il tourne sous android, possède une caméra arrière de 50.0 Mpx et une caméra avant de 32.0 Mpx.  (Score: 0.6387466788291931)\n",
      "Doc 6: Le realme Realme Narzo 30 Pro 5G (8GB RAM +128GB) coûte 199.31 €, ce qui en fait un modèle avec un prix bas. Il dispose d'un écran de 6.5 pouces avec un taux de rafraîchissement de 120 Hz. Ce télépone a une note de 83.0, un rapport qualité-prix de moyen et dispose de la 5G. Ce téléphone offre une autonomie haute grâce à une batterie de 5000 mAh. Il est équipé de 128 Go de stockage, de 8 Go de RAM ce qui en fait un téléphone avec un niveau de performance performance intermédiaire. Il tourne sous android, possède une caméra arrière de 48.0 Mpx et une caméra avant de 16.0 Mpx.  (Score: 0.6375390887260437)\n",
      "Doc 7: Le realme Realme 9 Pro Plus 5G coûte 258.12 €, ce qui en fait un modèle avec un prix bas. Il dispose d'un écran de 6.4 pouces avec un taux de rafraîchissement de 90 Hz. Ce télépone a une note de 78.0, un rapport qualité-prix de faible et dispose de la 5G. Ce téléphone offre une autonomie haute grâce à une batterie de 4500 mAh. Il est équipé de 128 Go de stockage, de 6 Go de RAM ce qui en fait un téléphone avec un niveau de performance performance intermédiaire. Il tourne sous android, possède une caméra arrière de 50.0 Mpx et une caméra avant de 16.0 Mpx.  (Score: 0.6359555125236511)\n",
      "Doc 8: Le realme Realme Narzo 50 5G (4GB RAM + 128GB) coûte 149.48 €, ce qui en fait un modèle avec un prix bas. Il dispose d'un écran de 6.6 pouces avec un taux de rafraîchissement de 90 Hz. Ce télépone a une note de 76.0, un rapport qualité-prix de moyen et dispose de la 5G. Ce téléphone offre une autonomie haute grâce à une batterie de 5000 mAh. Il est équipé de 128 Go de stockage, de 4 Go de RAM ce qui en fait un téléphone avec un niveau de performance performance intermédiaire. Il tourne sous android, possède une caméra arrière de 48.0 Mpx et une caméra avant de 16.0 Mpx.  (Score: 0.6335561275482178)\n",
      "Doc 9: Le realme Realme 9i 5G coûte 149.14 €, ce qui en fait un modèle avec un prix bas. Il dispose d'un écran de 6.6 pouces avec un taux de rafraîchissement de 90 Hz. Ce télépone a une note de 75.0, un rapport qualité-prix de moyen et dispose de la 5G. Ce téléphone offre une autonomie haute grâce à une batterie de 5000 mAh. Il est équipé de 64 Go de stockage, de 4 Go de RAM ce qui en fait un téléphone avec un niveau de performance performance intermédiaire. Il tourne sous android, possède une caméra arrière de 50.0 Mpx et une caméra avant de 8.0 Mpx.  (Score: 0.631071925163269)\n",
      "Doc 10: Le realme Realme Narzo 50 Pro 5G (8GB RAM + 128GB) coûte 229.21 €, ce qui en fait un modèle avec un prix bas. Il dispose d'un écran de 6.4 pouces avec un taux de rafraîchissement de 90 Hz. Ce télépone a une note de 83.0, un rapport qualité-prix de faible et dispose de la 5G. Ce téléphone offre une autonomie haute grâce à une batterie de 5000 mAh. Il est équipé de 128 Go de stockage, de 8 Go de RAM ce qui en fait un téléphone avec un niveau de performance performance intermédiaire. Il tourne sous android, possède une caméra arrière de 48.0 Mpx et une caméra avant de 16.0 Mpx.  (Score: 0.6309875845909119)\n"
     ]
    },
    {
     "name": "stderr",
     "output_type": "stream",
     "text": [
      "c:\\Users\\Windows\\GitHub projects\\phone-recommender\\venv\\Lib\\site-packages\\torch\\nn\\modules\\module.py:1762: FutureWarning:\n",
      "\n",
      "`encoder_attention_mask` is deprecated and will be removed in version 4.55.0 for `BertSdpaSelfAttention.forward`.\n",
      "\n"
     ]
    }
   ],
   "source": [
    "# Question test\n",
    "question = \"Je veux un smartphone avec une batterie de 5000 mAh\"\n",
    "\n",
    "question_embedding = embedder.encode([question], convert_to_numpy=True)\n",
    "scores, ids = faiss_idx.search(question_embedding.astype(np.float32), k=10)\n",
    "for i, identifiant in enumerate(ids[0]):\n",
    "    doc_id = int(identifiant)\n",
    "    print(f\"Doc {i+1}: {passages[doc_id]} (Score: {scores[0][i]})\")"
   ]
  },
  {
   "cell_type": "markdown",
   "id": "9b09297b",
   "metadata": {},
   "source": [
    "On peut ici voir que le FAISS est parvenu à extraire un contexte de téléphones ayant une autonomie de batterie de 5000 mAh. Cependant, on peut tout de même voir qu'il y a quelques erreurs avec des téléphones à plus petite autonomie. "
   ]
  },
  {
   "cell_type": "markdown",
   "id": "1b49df6d",
   "metadata": {},
   "source": [
    "### 5. Création du modèle avec Google flan-T5"
   ]
  },
  {
   "cell_type": "markdown",
   "id": "f7b585ea",
   "metadata": {},
   "source": [
    "Dans notre cas d'usage, nous avons choisi le modèle de google de FLAN-T5 car c'est un modèle encodeur-décodeur basé sur les transformers, affiné grâce à l’instruction tuning. Cela signifie qu’il est entraîné pour comprendre des consignes en langage naturel (questions des ulitisateurs) et générer des réponses cohérentes. \n",
    "\n",
    "Ce modèle est particulièrement adapté aux systèmes de question-réponse liée à un RAG par récupération de documents, où il doit lire un contexte précis puis formuler une réponse justifiée. Par rapport à d'autres modèles comme GPT qui sont décodeur-only, le FLAN-T5 gère mieux les tâches où la réponse doit être directement liée à un contexte fourni, ce qui est exactement le cas de notre problème (recommandation de téléphones)."
   ]
  },
  {
   "cell_type": "markdown",
   "id": "9fd19463",
   "metadata": {},
   "source": [
    "**Partie génération Seq2Seq**"
   ]
  },
  {
   "cell_type": "code",
   "execution_count": 34,
   "id": "4351e3d1",
   "metadata": {},
   "outputs": [],
   "source": [
    "### Mise en place du modèle - Google flan-T5\n",
    "gen_tok = AutoTokenizer.from_pretrained(GEN_MODEL)\n",
    "gen_mod = AutoModelForSeq2SeqLM.from_pretrained(\n",
    "    GEN_MODEL,\n",
    "    torch_dtype=torch.float16,\n",
    "    device_map=\"auto\"\n",
    ").to(DEVICE)"
   ]
  },
  {
   "cell_type": "code",
   "execution_count": 35,
   "id": "d7f4f090",
   "metadata": {},
   "outputs": [],
   "source": [
    "def ask(question: str) -> str:\n",
    "    ### Obtention du contexte calculé par FAISS plus tôt\n",
    "    docs = retrieve(question, top_k=3)\n",
    "    context = \"\\n\\n\".join(f\"[Doc {i+1}] {txt}\" for i,(txt,_) in enumerate(docs))\n",
    "\n",
    "    \n",
    "    ### Ajout d'exemples pour que le modèle puisse répondre par des phrases structurées et argumentées aux questions posées par l'utilisateur\n",
    "    few_shot = \"\"\"Tu es un assistant expert. En te basant uniquement sur le contexte fourni, réponds à la question en comparant les téléphones et en faisant une recommandation claire et justifiée.\n",
    "\n",
    "Exemple 1 :\n",
    "Question : Je cherche un téléphone avec une bonne autonomie et un prix milieu.\n",
    "Contexte :\n",
    "- Téléphone A : Batterie 5000 mAh, Prix 250 €, Note 74\n",
    "- Téléphone B : Batterie 3110 mAh, Prix 240 €, Note 72\n",
    "Réponse : Le téléphone A est plus adapté grâce à sa batterie de 5000 mAh, tout en restant dans la gamme de prix souhaitée. Il offre un meilleur équilibre entre autonomie et prix.\n",
    "\n",
    "===\n",
    "\n",
    "\"\"\".strip()\n",
    "\n",
    "    # On créé un prompt pour le modèle qui contient l'exemple, le contexte et la question\n",
    "    prompt = few_shot + \"\\n\" + \\\n",
    "             f\"Vrai contexte à utiliser :\\n{context}\\n\\n\" + \\\n",
    "             f\"Vraie question à laquelle répondre : {question}\\nRéponse :\"\n",
    "\n",
    "    inputs = gen_tok(prompt, return_tensors=\"pt\", truncation=True,  max_length=2048).to(DEVICE)\n",
    "    \n",
    "    inputs.pop(\"token_type_ids\", None)\n",
    "\n",
    "    # Génération du résultat\n",
    "    out = gen_mod.generate(\n",
    "        **inputs,\n",
    "        max_new_tokens=650,\n",
    "        num_beams=8,\n",
    "        no_repeat_ngram_size=4,\n",
    "        length_penalty=1.2,\n",
    "        early_stopping=True\n",
    "    )\n",
    "    return gen_tok.decode(out[0], skip_special_tokens=True)\n"
   ]
  },
  {
   "cell_type": "markdown",
   "id": "ef6e7fec",
   "metadata": {},
   "source": [
    "Exemple d'utilisation du modèle en posant une question ulitisateur"
   ]
  },
  {
   "cell_type": "code",
   "execution_count": 36,
   "id": "deefe0a5",
   "metadata": {},
   "outputs": [
    {
     "name": "stderr",
     "output_type": "stream",
     "text": [
      "Attempting to cast a BatchEncoding to type None. This is not supported.\n"
     ]
    },
    {
     "name": "stdout",
     "output_type": "stream",
     "text": [
      "Q: Je veux un smartphone avec un prix bas\n",
      "A: [Doc 1] Le vivo Vivo U3 coûte 99.56 €, ce qui en fait un modèle avec un prix bas. Il dispose d'un écran de 6.53 pouches avec un taux de rafraîchissement de 60 Hz. Ce télépone a une note de 72.0, un rapport qualité-prix de excellent et ne dispose pas de 5G. Ce téléphone offre une autonomie haute grâce à une batterie de 5000 mAh. Il est équipée de 64 Go stockage, de 4 Go RAM, ce qui fait un téléphone avec un niveau de performance bas. Il tourne sous android, possède une caméra arrière 13.0 Mpx et une caméra avant de 16.0 Mpx. \n",
      "\n"
     ]
    }
   ],
   "source": [
    "q = (\"Je veux un smartphone avec un prix bas\")\n",
    "print(\"Q:\", q)\n",
    "print(\"A:\", ask(q), \"\\n\")"
   ]
  },
  {
   "cell_type": "code",
   "execution_count": null,
   "id": "64ba547b",
   "metadata": {},
   "outputs": [],
   "source": []
  }
 ],
 "metadata": {
  "kernelspec": {
   "display_name": "venv",
   "language": "python",
   "name": "python3"
  },
  "language_info": {
   "codemirror_mode": {
    "name": "ipython",
    "version": 3
   },
   "file_extension": ".py",
   "mimetype": "text/x-python",
   "name": "python",
   "nbconvert_exporter": "python",
   "pygments_lexer": "ipython3",
   "version": "3.11.0"
  }
 },
 "nbformat": 4,
 "nbformat_minor": 5
}
